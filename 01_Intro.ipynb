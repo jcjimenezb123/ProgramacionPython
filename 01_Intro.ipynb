{
  "nbformat": 4,
  "nbformat_minor": 0,
  "metadata": {
    "colab": {
      "name": "01_Intro",
      "provenance": [],
      "collapsed_sections": [],
      "include_colab_link": true
    },
    "kernelspec": {
      "name": "python3",
      "display_name": "Python 3"
    }
  },
  "cells": [
    {
      "cell_type": "markdown",
      "metadata": {
        "id": "view-in-github",
        "colab_type": "text"
      },
      "source": [
        "<a href=\"https://colab.research.google.com/github/jcjimenezb123/ProgramacionPython/blob/master/01_Intro.ipynb\" target=\"_parent\"><img src=\"https://colab.research.google.com/assets/colab-badge.svg\" alt=\"Open In Colab\"/></a>"
      ]
    },
    {
      "cell_type": "markdown",
      "metadata": {
        "id": "FON1-e7hnwEL"
      },
      "source": [
        "#Titulo\n",
        "##Subtitulo\n",
        "###Sub subtitulo\n",
        "\n",
        "Texto simple"
      ]
    },
    {
      "cell_type": "markdown",
      "metadata": {
        "id": "y9EwqHHQrYGP"
      },
      "source": [
        "#Titulo"
      ]
    },
    {
      "cell_type": "markdown",
      "metadata": {
        "id": "6cMgZQHura0b"
      },
      "source": [
        "##Subtitulo"
      ]
    },
    {
      "cell_type": "markdown",
      "metadata": {
        "id": "IVNzTTNUrc67"
      },
      "source": [
        "###Sub Subtitulo"
      ]
    },
    {
      "cell_type": "markdown",
      "metadata": {
        "id": "fvYYAKmDrltp"
      },
      "source": [
        "Texto simple"
      ]
    },
    {
      "cell_type": "markdown",
      "metadata": {
        "id": "aWA4OPQ9xf2E"
      },
      "source": [
        "#Practica de Google Colaboratory"
      ]
    },
    {
      "cell_type": "markdown",
      "metadata": {
        "id": "IkYA0oOM3KIW"
      },
      "source": [
        "![python](https://github.com/jcjimenezb123/ProgramacionPython/blob/master/Python-01.jpg?raw=1)"
      ]
    },
    {
      "cell_type": "markdown",
      "metadata": {
        "id": "at6EalQSy5Lu"
      },
      "source": [
        "Tipos de texto\n",
        "---\n",
        "\n",
        "Texto libre que se usa para describir un texto cualquiera, por ejemplo un problema con los datos correspondientes.\n",
        "\n",
        "Este es un enlace a la [página web](http://www.jcjimenezb.com) del profesor.\n",
        "\n",
        "**Texto en negritas** \n",
        "\n",
        "*Texto en cursivas* \n",
        "\n",
        "***cursiva y negritas***\n",
        "\n",
        "~~Texto tachado~~\n",
        "\n",
        "`Texto mono espaciado`\n",
        "\n",
        "Ecuaciones $f(x)=x^2-2$\n",
        "\n",
        "Listas\n",
        "---\n",
        "\n",
        "Lista de puntos\n",
        "* Tema 1\n",
        "  * Subtema 1\n",
        "    * Sub sub tema 1\n",
        "* Tema 2\n",
        "\n",
        "---\n",
        "\n",
        "Lista numerada\n",
        "\n",
        "1. Primer punto\n",
        "   1. primer sub tema\n",
        "     1. primer sub sub tema\n",
        "     1. segundo sub sub tema\n",
        "  1. segundo subtema\n",
        "1. Segundo punto\n",
        "1. Tercer punto\n",
        "\n",
        "---\n",
        "\n",
        "> Nivel 1 de identacion\n",
        ">> Nivel 2 de identacion\n",
        ">>> Nivel 3 de identacion\n",
        "\n",
        "---\n",
        "\n",
        "_Tabla de datos_\n",
        "\n",
        "x | f(x)\n",
        "---|---\n",
        "1 | 1\n",
        "2 | 4\n",
        "3 | 9\n",
        "4 | 16\n",
        "\n",
        "_Tabla de Entalpias_\n",
        "\n",
        "presion / temp |300|400|500|\n",
        "---|---|---|---|\n",
        "1 | 1200|1220|1234|\n",
        "2 | 1300|1350|1390|\n",
        "4 | 1500|1581|1630|"
      ]
    },
    {
      "cell_type": "markdown",
      "metadata": {
        "id": "SfXVPxFQ-E-A"
      },
      "source": [
        "##Fórmulas matemáticas"
      ]
    },
    {
      "cell_type": "markdown",
      "metadata": {
        "id": "R6LHnAvD03U3"
      },
      "source": [
        "Uso de $\\LaTeX$\n",
        "\n",
        "Ecuaciones sobre la linea del texto $f(x)=cos(x)+x^2-y_1$\n",
        "\n",
        "Ecuaciones en linea separada\n",
        "\n",
        "$$\n",
        "x=\\frac{b\\pm \\sqrt{b^2-4ac}}{2a}\n",
        "$$\n",
        "\n",
        "$$\n",
        "f(x)=\\left\\{ \\begin{array}{lcc}\n",
        "             5 &   si  & x \\leq 2 \\\\\n",
        "             x^2-6x+10 &  si & 2 < x < 5 \\\\\n",
        "             4x-15 &  si  & x \\geq 5\n",
        "             \\end{array}\n",
        " \\right.\n",
        "$$\n",
        "\n",
        "$$\\lim_{x\\to+\\infty}\\frac{1}{25+x^2}$$\n",
        "\n",
        "$$\n",
        "\\int_a^bf(x)dx\\approx h\\sum_{i=0}^{n-1}f(x_i)\n",
        "$$\n",
        "Donde \n",
        "$$\n",
        "h=\\frac{b-a}{n}\n",
        "$$\n",
        "\n",
        "$n$ es el número de pasos\n",
        "\n",
        "$$\n",
        "\\frac{dy}{dx}+5\\frac{d^2y}{dx^2}=cos(3x)\n",
        "$$\n",
        "\n",
        "$$\n",
        "\\frac{\\partial^2 y}{\\partial x^2}=f(x,y)\n",
        "$$\n",
        "\n",
        "\\begin{array}{c c c}\n",
        " \\begin{pmatrix}\n",
        "   a_{1,1} & a_{1,2} & \\cdots & a_{1,n} & b_1 \\\\\n",
        "   a_{2,1} & a_{2,2} & \\cdots & a_{2,n} & b_2 \\\\\n",
        "   \\vdots  & \\vdots  & \\ddots & \\vdots  & \\vdots \\\\\n",
        "   0 & 0 & \\color{red}a_{i,i} & a_{i,n} & b_i \\\\\n",
        "   \\hline\\\\\n",
        "   0 & 0 & \\color{blue}a_{j,i} & a_{j,n} & b_j \\\\\n",
        "   \\vdots  & \\vdots  & \\vdots & \\vdots  & \\vdots \\\\\n",
        "   0 & 0 & a_{j,n} & a_{n,n} & b_n\n",
        " \\end{pmatrix}\n",
        "& \\overrightarrow{{\\color{magenta}k}E_i+E_j\\rightarrow E_j} &\n",
        " \\begin{pmatrix}\n",
        "   u_{1,1} & u_{1,2} & \\cdots & u_{1,n} & d_1 \\\\\n",
        "   0 & u_{2,2} & \\cdots & u_{2,n} & d_2 \\\\\n",
        "   \\vdots  & \\vdots  & \\ddots & \\vdots  & \\vdots \\\\\n",
        "   0 & 0 & u_{i,i} & u_{i,n} & d_i \\\\\n",
        "   \\hline\\\\\n",
        "   0 & 0 & u_{i,j} & u_{j,n} & d_j \\\\\n",
        "   \\vdots  & \\vdots  & \\vdots & \\vdots  & \\vdots \\\\\n",
        "   0 & 0 & u_{j,n} & u_{n,n} & d_n\n",
        " \\end{pmatrix}\n",
        "\\end{array}\n",
        "\n",
        "$$\\color{magenta}k=\\frac{\\color{blue}a_{j,i}}{\\color{red}a_{i,i}}$$\n",
        "\n",
        "Tablas con $\\LaTeX$\n",
        "\n",
        "$$\n",
        "\\begin{array}{|c|c|c|c|c|c|}\n",
        "\\hline\n",
        "x&1&2&3&4&5\\\\\n",
        "\\hline\n",
        "f(x)&1&4&9&16&25\\\\\n",
        "\\hline\n",
        "\\end{array}\n",
        "$$\n"
      ]
    },
    {
      "cell_type": "markdown",
      "metadata": {
        "id": "FapEdaql5OCW"
      },
      "source": [
        "\\begin{array}{c c}\n",
        "\\begin{pmatrix}\n",
        "   a_{1,1} & a_{1,2} & \\cdots & a_{1,n} \\\\\n",
        "   a_{2,1} & a_{2,2} & \\cdots & a_{2,n} \\\\\n",
        "   \\vdots  & \\vdots  & \\ddots & \\vdots  \\\\\n",
        "   0 & 0 & \\color{red}a_{i,i} & a_{i,n} \\\\\n",
        "   \\hline\n",
        "   0 & 0 & \\color{blue}a_{j,i} & a_{j,n} \\\\\n",
        "   \\vdots  & \\vdots  & \\vdots & \\vdots  \\\\\n",
        "   0 & 0 & a_{j,n} & a_{n,n} \\\\\n",
        " \\end{pmatrix} &\n",
        "\\begin{pmatrix}\n",
        "   b_{1}\\\\\n",
        "   b_{2}\\\\\n",
        "   \\vdots\\\\\n",
        "   \\vdots\\\\\n",
        "   \\hline\n",
        "   \\vdots\\\\\n",
        "   \\vdots\\\\\n",
        "   b_n\\\\\n",
        " \\end{pmatrix}\n",
        " \\end{array}\n",
        "\n",
        "$$\n",
        "C_8H_{18}+O_2\\xrightarrow{\\Delta}8CO_2+H_2O\n",
        "$$\n",
        "\n",
        "La ecuacion quimica es \n",
        "\n",
        "$$\n",
        "Co(NO_3)_3+H_2O_2\\rightarrow Co(OH)_2+KNO_3+H_2O\n",
        "$$\n",
        "\n",
        "La ecuacion ionica es\n",
        "$$\n",
        "Co^{3+}+H_2O_2+OH^{1-}\\rightarrow Co^{2+}+O_2+H_2O\n",
        "$$\n",
        "\n",
        "Reduccion\n",
        "$$\n",
        "Co^{3+}+H_2O_2+3e^{1-}\\rightarrow Co^{2+}+2OH^{1-}\n",
        "$$\n",
        "\n",
        "Oxidacion\n",
        "$$\n",
        "H_2O_2+2OH^{1-}+2e^{1-}\\rightarrow O_2+2H_2O\n",
        "$$\n",
        "\n",
        "Redox\n",
        "$$\n",
        "\\underbrace{Co^{3+}+2H_2O_2}_{ag. oxidante}+\\underbrace{3H_2O_2}_{ag. reductor}+2OH^{1-}\\rightarrow 2Co^{2+}+3O_2+6H_2O\n",
        "$$"
      ]
    },
    {
      "cell_type": "markdown",
      "metadata": {
        "id": "5G2Tzngt-VJK"
      },
      "source": [
        "##Comentarios en el código"
      ]
    },
    {
      "cell_type": "code",
      "metadata": {
        "id": "3S10tsMn-YJD",
        "colab": {
          "base_uri": "https://localhost:8080/"
        },
        "outputId": "bba1b650-97bf-48ca-9a46-0291de23d481"
      },
      "source": [
        "#@title\n",
        "#esto es un comentario en una sola linea\n",
        "\n",
        "'''Esto \n",
        "es \n",
        "un \n",
        "comentario\n",
        "en \n",
        "varias lineas\n",
        "'''\n",
        "1+2 #ejemplo de suma"
      ],
      "execution_count": 12,
      "outputs": [
        {
          "output_type": "execute_result",
          "data": {
            "text/plain": [
              "3"
            ]
          },
          "metadata": {},
          "execution_count": 12
        }
      ]
    },
    {
      "cell_type": "markdown",
      "metadata": {
        "id": "keeJrBE5xtow"
      },
      "source": [
        "##Operaciones básicas Suma, resta, multiplicación, división, potenciación"
      ]
    },
    {
      "cell_type": "code",
      "metadata": {
        "id": "a89IofG0xZ55",
        "colab": {
          "base_uri": "https://localhost:8080/"
        },
        "outputId": "ba067640-3bf2-47e0-c59b-b0ddda50d9bd"
      },
      "source": [
        "1+1+2+3+5+8 #suma"
      ],
      "execution_count": null,
      "outputs": [
        {
          "output_type": "execute_result",
          "data": {
            "text/plain": [
              "20"
            ]
          },
          "metadata": {
            "tags": []
          },
          "execution_count": 1
        }
      ]
    },
    {
      "cell_type": "code",
      "metadata": {
        "id": "lZlSWr8Qx6Pf",
        "colab": {
          "base_uri": "https://localhost:8080/",
          "height": 34
        },
        "outputId": "11164e35-cea2-4c16-e76c-80b7fe0e9c61"
      },
      "source": [
        "3-1 #resta"
      ],
      "execution_count": null,
      "outputs": [
        {
          "output_type": "execute_result",
          "data": {
            "text/plain": [
              "2"
            ]
          },
          "metadata": {
            "tags": []
          },
          "execution_count": 2
        }
      ]
    },
    {
      "cell_type": "code",
      "metadata": {
        "id": "qpP6844Tx-FD",
        "colab": {
          "base_uri": "https://localhost:8080/",
          "height": 34
        },
        "outputId": "7f640645-7dea-4098-e426-cb70d4cd4241"
      },
      "source": [
        "3*4 #multiplicacion"
      ],
      "execution_count": null,
      "outputs": [
        {
          "output_type": "execute_result",
          "data": {
            "text/plain": [
              "12"
            ]
          },
          "metadata": {
            "tags": []
          },
          "execution_count": 3
        }
      ]
    },
    {
      "cell_type": "code",
      "metadata": {
        "id": "h8PqXEUbyEr7",
        "colab": {
          "base_uri": "https://localhost:8080/",
          "height": 34
        },
        "outputId": "bb4269ac-447a-407f-d3bf-a42636bdc78f"
      },
      "source": [
        "1/2 #division"
      ],
      "execution_count": null,
      "outputs": [
        {
          "output_type": "execute_result",
          "data": {
            "text/plain": [
              "0.5"
            ]
          },
          "metadata": {
            "tags": []
          },
          "execution_count": 4
        }
      ]
    },
    {
      "cell_type": "code",
      "metadata": {
        "id": "DMs6axA9yHkk",
        "colab": {
          "base_uri": "https://localhost:8080/",
          "height": 35
        },
        "outputId": "4b4d1dbe-2f95-4a57-903c-afcbc0b14116"
      },
      "source": [
        "5//3 #division entera"
      ],
      "execution_count": null,
      "outputs": [
        {
          "output_type": "execute_result",
          "data": {
            "text/plain": [
              "1"
            ]
          },
          "metadata": {
            "tags": []
          },
          "execution_count": 11
        }
      ]
    },
    {
      "cell_type": "code",
      "metadata": {
        "id": "n26IWoGw2u_s",
        "colab": {
          "base_uri": "https://localhost:8080/",
          "height": 35
        },
        "outputId": "1e6107c8-bd30-4245-a6ff-1ef281ff162e"
      },
      "source": [
        "5%3 #residuo de la division entera"
      ],
      "execution_count": null,
      "outputs": [
        {
          "output_type": "execute_result",
          "data": {
            "text/plain": [
              "2"
            ]
          },
          "metadata": {
            "tags": []
          },
          "execution_count": 12
        }
      ]
    },
    {
      "cell_type": "code",
      "metadata": {
        "id": "FhdMfoU_yWbI",
        "colab": {
          "base_uri": "https://localhost:8080/",
          "height": 34
        },
        "outputId": "2ccfa00d-8f67-4a77-c95e-11651a782104"
      },
      "source": [
        "3**2 #potenciacion 3^2"
      ],
      "execution_count": null,
      "outputs": [
        {
          "output_type": "execute_result",
          "data": {
            "text/plain": [
              "9"
            ]
          },
          "metadata": {
            "tags": []
          },
          "execution_count": 8
        }
      ]
    },
    {
      "cell_type": "code",
      "metadata": {
        "id": "_NdYkCbhyoIl",
        "colab": {
          "base_uri": "https://localhost:8080/",
          "height": 34
        },
        "outputId": "7673329b-de1a-462d-9aa2-5ca364bfdacf"
      },
      "source": [
        "2**0.5 #raiz cuadrada "
      ],
      "execution_count": null,
      "outputs": [
        {
          "output_type": "execute_result",
          "data": {
            "text/plain": [
              "1.4142135623730951"
            ]
          },
          "metadata": {
            "tags": []
          },
          "execution_count": 10
        }
      ]
    },
    {
      "cell_type": "code",
      "metadata": {
        "id": "RGl94Y6T3Nvu",
        "colab": {
          "base_uri": "https://localhost:8080/",
          "height": 203
        },
        "outputId": "d081b86f-84da-41e5-91e9-ac0d4a3d8748"
      },
      "source": [
        "pow(2,1/3) #Raiz cubica\n",
        "abs(-1)\n",
        "(1)"
      ],
      "execution_count": null,
      "outputs": [
        {
          "output_type": "error",
          "ename": "NameError",
          "evalue": "ignored",
          "traceback": [
            "\u001b[0;31m---------------------------------------------------------------------------\u001b[0m",
            "\u001b[0;31mNameError\u001b[0m                                 Traceback (most recent call last)",
            "\u001b[0;32m<ipython-input-62-3cf29bc22880>\u001b[0m in \u001b[0;36m<module>\u001b[0;34m()\u001b[0m\n\u001b[1;32m      1\u001b[0m \u001b[0mpow\u001b[0m\u001b[0;34m(\u001b[0m\u001b[0;36m2\u001b[0m\u001b[0;34m,\u001b[0m\u001b[0;36m1\u001b[0m\u001b[0;34m/\u001b[0m\u001b[0;36m3\u001b[0m\u001b[0;34m)\u001b[0m \u001b[0;31m#Raiz cubica\u001b[0m\u001b[0;34m\u001b[0m\u001b[0;34m\u001b[0m\u001b[0m\n\u001b[1;32m      2\u001b[0m \u001b[0mabs\u001b[0m\u001b[0;34m(\u001b[0m\u001b[0;34m-\u001b[0m\u001b[0;36m1\u001b[0m\u001b[0;34m)\u001b[0m\u001b[0;34m\u001b[0m\u001b[0;34m\u001b[0m\u001b[0m\n\u001b[0;32m----> 3\u001b[0;31m \u001b[0msqrt\u001b[0m\u001b[0;34m(\u001b[0m\u001b[0;36m1\u001b[0m\u001b[0;34m)\u001b[0m\u001b[0;34m\u001b[0m\u001b[0;34m\u001b[0m\u001b[0m\n\u001b[0m",
            "\u001b[0;31mNameError\u001b[0m: name 'sqrt' is not defined"
          ]
        }
      ]
    },
    {
      "cell_type": "markdown",
      "metadata": {
        "id": "vl5zcApdrXk6"
      },
      "source": [
        "Orden de prioridad en operaciones\n",
        "1. ()\n",
        "1. potenciacion \n",
        "1. Multiplicacion y division\n",
        "1. Sumas y restas\n",
        "1. Evaluaciones logicas\n",
        "\n",
        "Si las operaciones tienen el mismo orden de prioridad se ejecutan de izquierda a derecha"
      ]
    },
    {
      "cell_type": "code",
      "metadata": {
        "id": "ki7wv0bvrCcf",
        "colab": {
          "base_uri": "https://localhost:8080/",
          "height": 35
        },
        "outputId": "3a4b1813-4044-4134-d58a-33be41f70e4c"
      },
      "source": [
        "1+2/3\n",
        "(1+2)/3\n",
        "1/2+3\n",
        "1/(2+3)\n",
        "1+2/3**2\n",
        "1+2>1+3"
      ],
      "execution_count": null,
      "outputs": [
        {
          "output_type": "execute_result",
          "data": {
            "text/plain": [
              "False"
            ]
          },
          "metadata": {
            "tags": []
          },
          "execution_count": 6
        }
      ]
    },
    {
      "cell_type": "markdown",
      "metadata": {
        "id": "RwtIbMshzEz1"
      },
      "source": [
        "##Variables"
      ]
    },
    {
      "cell_type": "code",
      "metadata": {
        "id": "YjIi-2B5yu62",
        "colab": {
          "base_uri": "https://localhost:8080/"
        },
        "outputId": "a53cb94f-fbee-44d9-b702-2ee959a9d43e"
      },
      "source": [
        "a=1\n",
        "A=1.2\n",
        "print(a.__add__(9))\n",
        "print(A)"
      ],
      "execution_count": 7,
      "outputs": [
        {
          "output_type": "stream",
          "name": "stdout",
          "text": [
            "10\n",
            "1.2\n"
          ]
        }
      ]
    },
    {
      "cell_type": "markdown",
      "metadata": {
        "id": "QCuE8U4w5Kz2"
      },
      "source": [
        "$\\alpha$"
      ]
    },
    {
      "cell_type": "code",
      "metadata": {
        "colab": {
          "base_uri": "https://localhost:8080/"
        },
        "id": "OuzDBe_GS0SK",
        "outputId": "84efea6f-ba1e-43b3-905b-dc7a87b6b09f"
      },
      "source": [
        "a=b=c=1\n",
        "print(a,b,c)"
      ],
      "execution_count": 8,
      "outputs": [
        {
          "output_type": "stream",
          "name": "stdout",
          "text": [
            "1 1 1\n"
          ]
        }
      ]
    },
    {
      "cell_type": "code",
      "metadata": {
        "id": "7w4QOHg-5KYF",
        "colab": {
          "base_uri": "https://localhost:8080/"
        },
        "outputId": "1a779919-bdcb-4ebc-e68a-8ae1070774f9"
      },
      "source": [
        "uno,dos=1,2\n",
        "print(uno,dos)"
      ],
      "execution_count": 9,
      "outputs": [
        {
          "output_type": "stream",
          "name": "stdout",
          "text": [
            "1 2\n"
          ]
        }
      ]
    },
    {
      "cell_type": "code",
      "metadata": {
        "colab": {
          "base_uri": "https://localhost:8080/"
        },
        "id": "9jamqeKUTFCO",
        "outputId": "4a6fbedb-c5e9-4640-f4be-300272e1204c"
      },
      "source": [
        "uno,dos=dos,uno\n",
        "print(uno,dos)"
      ],
      "execution_count": 10,
      "outputs": [
        {
          "output_type": "stream",
          "name": "stdout",
          "text": [
            "2 1\n"
          ]
        }
      ]
    },
    {
      "cell_type": "code",
      "metadata": {
        "id": "6Gs_yOV4xl5Z",
        "colab": {
          "base_uri": "https://localhost:8080/"
        },
        "outputId": "8dcf907a-de2c-4642-b7e6-809b528343cf"
      },
      "source": [
        "presión=5\n",
        "α=1\n",
        "print(presión)\n",
        "print(α)"
      ],
      "execution_count": 11,
      "outputs": [
        {
          "output_type": "stream",
          "name": "stdout",
          "text": [
            "5\n",
            "1\n"
          ]
        }
      ]
    },
    {
      "cell_type": "code",
      "metadata": {
        "id": "6zTrfDpV1npG",
        "colab": {
          "base_uri": "https://localhost:8080/",
          "height": 180
        },
        "outputId": "d34e92a9-25fe-4b7f-e577-606e2d9cca7b"
      },
      "source": [
        "del a\n",
        "print(a)"
      ],
      "execution_count": null,
      "outputs": [
        {
          "output_type": "error",
          "ename": "NameError",
          "evalue": "ignored",
          "traceback": [
            "\u001b[0;31m---------------------------------------------------------------------------\u001b[0m",
            "\u001b[0;31mNameError\u001b[0m                                 Traceback (most recent call last)",
            "\u001b[0;32m<ipython-input-18-c342333e421e>\u001b[0m in \u001b[0;36m<module>\u001b[0;34m()\u001b[0m\n\u001b[1;32m      1\u001b[0m \u001b[0;32mdel\u001b[0m \u001b[0ma\u001b[0m\u001b[0;34m\u001b[0m\u001b[0;34m\u001b[0m\u001b[0m\n\u001b[0;32m----> 2\u001b[0;31m \u001b[0mprint\u001b[0m\u001b[0;34m(\u001b[0m\u001b[0ma\u001b[0m\u001b[0;34m)\u001b[0m\u001b[0;34m\u001b[0m\u001b[0;34m\u001b[0m\u001b[0m\n\u001b[0m",
            "\u001b[0;31mNameError\u001b[0m: name 'a' is not defined"
          ]
        }
      ]
    },
    {
      "cell_type": "code",
      "metadata": {
        "id": "r1OqR7jaAGva",
        "colab": {
          "base_uri": "https://localhost:8080/",
          "height": 35
        },
        "outputId": "9a97cb30-d7b0-485a-a051-3ffc34f643d4"
      },
      "source": [
        "presión= 5\n",
        "print(presión)"
      ],
      "execution_count": null,
      "outputs": [
        {
          "output_type": "stream",
          "text": [
            "5\n"
          ],
          "name": "stdout"
        }
      ]
    },
    {
      "cell_type": "code",
      "metadata": {
        "id": "7fCudVoj374z",
        "colab": {
          "base_uri": "https://localhost:8080/",
          "height": 131
        },
        "outputId": "2eb5af3f-5f40-4c8c-861b-ef71da28ecff"
      },
      "source": [
        "presion inicial = 10"
      ],
      "execution_count": null,
      "outputs": [
        {
          "output_type": "error",
          "ename": "SyntaxError",
          "evalue": "ignored",
          "traceback": [
            "\u001b[0;36m  File \u001b[0;32m\"<ipython-input-16-5393b758b583>\"\u001b[0;36m, line \u001b[0;32m1\u001b[0m\n\u001b[0;31m    presion inicial = 10\u001b[0m\n\u001b[0m                  ^\u001b[0m\n\u001b[0;31mSyntaxError\u001b[0m\u001b[0;31m:\u001b[0m invalid syntax\n"
          ]
        }
      ]
    },
    {
      "cell_type": "code",
      "metadata": {
        "id": "LX0mhKg64DNe"
      },
      "source": [
        "presion_inicial=10"
      ],
      "execution_count": null,
      "outputs": []
    },
    {
      "cell_type": "code",
      "metadata": {
        "id": "krkFwRtj4RTH",
        "colab": {
          "base_uri": "https://localhost:8080/"
        },
        "outputId": "5c1c33dc-a8a6-4314-ddd3-eeb2f4f075db"
      },
      "source": [
        "nombre='Juan Carlos'\n",
        "print(type(nombre))\n",
        "print(nombre.upper())"
      ],
      "execution_count": null,
      "outputs": [
        {
          "output_type": "stream",
          "text": [
            "<class 'str'>\n",
            "JUAN CARLOS\n"
          ],
          "name": "stdout"
        }
      ]
    },
    {
      "cell_type": "code",
      "metadata": {
        "id": "s9P7lFRG4boV",
        "colab": {
          "base_uri": "https://localhost:8080/",
          "height": 35
        },
        "outputId": "f732a656-8cb0-46d3-f7cf-435176fa5cf7"
      },
      "source": [
        "na=6.022e23 #6.022x10^23\n",
        "print(na)"
      ],
      "execution_count": null,
      "outputs": [
        {
          "output_type": "stream",
          "text": [
            "6.022e+23\n"
          ],
          "name": "stdout"
        }
      ]
    },
    {
      "cell_type": "code",
      "metadata": {
        "id": "0y_UjDaY6ZrW",
        "colab": {
          "base_uri": "https://localhost:8080/",
          "height": 35
        },
        "outputId": "eca3a516-3562-4a47-bb29-b28676864d9c"
      },
      "source": [
        "p=2-3j #numero complejo\n",
        "q=5+2j\n",
        "print(p*q)"
      ],
      "execution_count": null,
      "outputs": [
        {
          "output_type": "stream",
          "text": [
            "(16-11j)\n"
          ],
          "name": "stdout"
        }
      ]
    },
    {
      "cell_type": "code",
      "metadata": {
        "id": "0cYiha4X42oN",
        "colab": {
          "base_uri": "https://localhost:8080/",
          "height": 35
        },
        "outputId": "324e0546-1a71-46eb-ca2d-88d2b75fd4c9"
      },
      "source": [
        "aprobado=True\n",
        "print(aprobado)"
      ],
      "execution_count": null,
      "outputs": [
        {
          "output_type": "stream",
          "text": [
            "True\n"
          ],
          "name": "stdout"
        }
      ]
    },
    {
      "cell_type": "code",
      "metadata": {
        "id": "LkpVSTiu5UpM",
        "colab": {
          "base_uri": "https://localhost:8080/",
          "height": 35
        },
        "outputId": "4c1ac653-9140-4e41-8e25-6ca75e972981"
      },
      "source": [
        "nombre=3.1416\n",
        "print(nombre)"
      ],
      "execution_count": null,
      "outputs": [
        {
          "output_type": "stream",
          "text": [
            "3.1416\n"
          ],
          "name": "stdout"
        }
      ]
    },
    {
      "cell_type": "markdown",
      "metadata": {
        "id": "qH74t7ykxc_l"
      },
      "source": [
        "##Parametros"
      ]
    },
    {
      "cell_type": "code",
      "metadata": {
        "id": "J007QuctxjDT"
      },
      "source": [
        "#@title Captura de valores\n",
        "texto='' #@param {type:\"string\"}\n",
        "fecha='2000-01-01' #@param {type:\"date\"}\n",
        "logico=True #@param {type:\"boolean\"}\n",
        "\n",
        "entero=0 #@param {type:\"integer\"}\n",
        "flotante=0.0 #@param {type:\"number\"}\n",
        "\n",
        "entero2=0 #@param {type:\"slider\" ,min:-10,max:10,step:1}\n",
        "flotante2=0.0 #@param {type:\"slider\" ,min:-10,max:10,step:0.1}\n",
        "\n",
        "lista='Opcion 1' #@param [\"Opcion 1\",\"Opcion 2\",\"Opcion 3\"] {type:\"string\"}\n",
        "\n",
        "#ocular/mostrar codigo en view/show hide code"
      ],
      "execution_count": null,
      "outputs": []
    },
    {
      "cell_type": "markdown",
      "metadata": {
        "id": "e920_W5G2O6h"
      },
      "source": [
        "##Operadores relacionales y lógicos"
      ]
    },
    {
      "cell_type": "code",
      "metadata": {
        "id": "fvRaZtb7zlM7",
        "colab": {
          "base_uri": "https://localhost:8080/"
        },
        "outputId": "36cb496c-c786-4be7-b4ca-ed7a013cac99"
      },
      "source": [
        "calificacion = 6\n",
        "examenFinal = calificacion>=7\n",
        "print(examenFinal)"
      ],
      "execution_count": null,
      "outputs": [
        {
          "output_type": "stream",
          "text": [
            "False\n"
          ],
          "name": "stdout"
        }
      ]
    },
    {
      "cell_type": "code",
      "metadata": {
        "id": "AmCJUzF928yV",
        "colab": {
          "base_uri": "https://localhost:8080/"
        },
        "outputId": "501a1e94-1099-468c-9d8b-b6e834c8a350"
      },
      "source": [
        "temperatura=100\n",
        "solido=temperatura<=0\n",
        "liquido=temperatura>0 and temperatura<100\n",
        "vapor=temperatura>=100\n",
        "print(solido,liquido,vapor)"
      ],
      "execution_count": null,
      "outputs": [
        {
          "output_type": "stream",
          "text": [
            "False False True\n"
          ],
          "name": "stdout"
        }
      ]
    },
    {
      "cell_type": "code",
      "metadata": {
        "id": "xDSnDhOHrTNT",
        "colab": {
          "base_uri": "https://localhost:8080/",
          "height": 35
        },
        "outputId": "f248cbd5-b76b-476c-d3d3-7e6b1270e5dd"
      },
      "source": [
        "cambiofase= temperatura==0 or temperatura==100\n",
        "print(cambiofase)"
      ],
      "execution_count": null,
      "outputs": [
        {
          "output_type": "stream",
          "text": [
            "True\n"
          ],
          "name": "stdout"
        }
      ]
    },
    {
      "cell_type": "code",
      "metadata": {
        "id": "DLQL866ktmQr",
        "colab": {
          "base_uri": "https://localhost:8080/"
        },
        "outputId": "43a3be39-1a01-4831-9e2d-9e399161776e"
      },
      "source": [
        "fusion = temperatura==0\n",
        "ebullición = temperatura==100\n",
        "cambiofase= fusion or ebullición\n",
        "print(cambiofase)"
      ],
      "execution_count": null,
      "outputs": [
        {
          "output_type": "stream",
          "text": [
            "False\n"
          ],
          "name": "stdout"
        }
      ]
    },
    {
      "cell_type": "code",
      "metadata": {
        "id": "VRwdotnC-2DX",
        "colab": {
          "base_uri": "https://localhost:8080/",
          "height": 35
        },
        "outputId": "70162ddf-43f6-40bf-ee88-3a6e42671f3b"
      },
      "source": [
        "nocambiofase = temperatura!=0 and temperatura!=100\n",
        "print(nocambiofase)"
      ],
      "execution_count": null,
      "outputs": [
        {
          "output_type": "stream",
          "text": [
            "False\n"
          ],
          "name": "stdout"
        }
      ]
    },
    {
      "cell_type": "code",
      "metadata": {
        "id": "xzF5cjyDtO2T",
        "colab": {
          "base_uri": "https://localhost:8080/",
          "height": 35
        },
        "outputId": "bd5eed6d-cd2d-4b0e-ea34-64903c87d2b2"
      },
      "source": [
        "Nocambiofase = not(temperatura==0 or temperatura==100)\n",
        "print(Nocambiofase)"
      ],
      "execution_count": null,
      "outputs": [
        {
          "output_type": "stream",
          "text": [
            "False\n"
          ],
          "name": "stdout"
        }
      ]
    },
    {
      "cell_type": "code",
      "metadata": {
        "id": "T9oy6rsRUrpI",
        "colab": {
          "base_uri": "https://localhost:8080/"
        },
        "outputId": "b8fcb70b-8a18-4c2d-f0d8-ba24e081aac2"
      },
      "source": [
        "print(pow(2,3))\n",
        "print(min(1,1,2,3,5))\n",
        "print(max(1,1,2,3,5))\n",
        "print(abs(-100))\n",
        "print(sum((1,2,3,4,5)))"
      ],
      "execution_count": null,
      "outputs": [
        {
          "output_type": "stream",
          "text": [
            "8.0\n",
            "1\n",
            "5\n",
            "100\n",
            "15\n"
          ],
          "name": "stdout"
        }
      ]
    },
    {
      "cell_type": "markdown",
      "metadata": {
        "id": "8ng4F9P1uZvH"
      },
      "source": [
        "##Biblioteca `math`"
      ]
    },
    {
      "cell_type": "code",
      "metadata": {
        "id": "vJdO6GHL7df9",
        "colab": {
          "base_uri": "https://localhost:8080/"
        },
        "outputId": "502ad56f-6445-43f8-c5fc-db2e47354b04"
      },
      "source": [
        "from math import *\n",
        "\n",
        "pi #constante pi\n",
        "e  #constante e\n",
        "\n",
        "cos(0) #coseno de 0\n",
        "acos(0) # arco coseno de 0\n",
        "acosh(10) #arco conseno hiperbolico de 10\n",
        "sqrt(2) #raiz de 2\n",
        "factorial(5) #factorial de 5 o 5!\n",
        "log(e) #logaritmo natural de e\n",
        "log(2,2) #logaritmo base 2 de 2\n",
        "log(10,10) #logartimo base 10 de 10\n",
        "exp(3) #e^3\n",
        "radians(45) #45 grados a radianes\n",
        "degrees(2) #2 radianes a grados"
      ],
      "execution_count": null,
      "outputs": [
        {
          "output_type": "execute_result",
          "data": {
            "text/plain": [
              "114.59155902616465"
            ]
          },
          "metadata": {
            "tags": []
          },
          "execution_count": 19
        }
      ]
    },
    {
      "cell_type": "markdown",
      "metadata": {
        "id": "JGnjmgceFCgr"
      },
      "source": [
        "#Ejemplo 1. Gases ideales\n",
        "Calcular la presión de un gas ideal con las siguientes condiciones\n",
        "\n",
        "$$\n",
        "\\begin{array}{|l|c|}\n",
        "\\hline\n",
        "Temperatura & 100\\\\\n",
        "\\hline\n",
        "Volumen & 5\\\\\n",
        "\\hline\n",
        "r & 0.082\\\\\n",
        "\\hline\n",
        "n & 2\\\\\n",
        "\\hline\n",
        "\\end{array}\n",
        "$$\n",
        "\n",
        "Usando la ecuación de los gases ideales\n",
        "\n",
        "$$\n",
        "P=\\frac{nrT}{V}\n",
        "$$"
      ]
    },
    {
      "cell_type": "code",
      "metadata": {
        "id": "unO-qyuc-5dU",
        "colab": {
          "base_uri": "https://localhost:8080/",
          "height": 35
        },
        "outputId": "b5b7f00e-b19c-4b7d-9aa6-af82b1980a53"
      },
      "source": [
        "T=100\n",
        "v=5\n",
        "r=0.082\n",
        "n=2\n",
        "p=n*r*T/v\n",
        "print('Presión = ',p)"
      ],
      "execution_count": null,
      "outputs": [
        {
          "output_type": "stream",
          "text": [
            "Presión =  3.2800000000000002\n"
          ],
          "name": "stdout"
        }
      ]
    },
    {
      "cell_type": "markdown",
      "metadata": {
        "id": "miV2YH_bILwG"
      },
      "source": [
        "#Ejemplo 2. Tiro parabólico de un proyectil\n",
        "\n",
        "El tiro parabólico es la resultante de la suma vectorial de un movimiento horizontal uniforme y de un movimiento vertical rectilíneo uniformemente variado. El tiro parabólico es de dos clases: horizontal y oblicuo.\n",
        "\n",
        "El tiro parabólico oblicuo se caracteriza por la trayectoria que sigue un cuerpo, cuando es lanzado a una velocidad inicial que forma un ángulo $\\theta$ con el eje x horizontal.\n",
        "\n",
        "El alcance horizontal total se obtiene con\n",
        "\n",
        "$$\n",
        "x_{max}=\\frac{v_0^2sin(2\\theta)}{g}\n",
        "$$\n",
        "\n",
        "La altura máxima se obtiene con\n",
        "\n",
        "$$\n",
        "y_{max}=\\frac{v_0^2sin^2(\\theta)}{2g}\n",
        "$$\n",
        "\n",
        "El tiempo total que el proyectil permanece en movimiento se obtiene con\n",
        "\n",
        "$$\n",
        "t=\\frac{2v_0sin(\\theta)}{g}\n",
        "$$\n",
        "\n",
        "La trayectoria del proyectil esta dada por la siguiente ecuacion\n",
        "\n",
        "$$\n",
        "x=v_0 cos(\\theta)t\n",
        "$$\n",
        "$$\n",
        "y=x tan(\\theta)-\\frac{g x^2}{2v_0^2 cos^2(\\theta)}\n",
        "$$\n",
        "\n",
        "Con los datos de velocidad inicial $69 Km/hr$ y un ángulo de $45^{\\circ}$. Calcular el alcance horizontal, la altura máxima y el tiempo que permanece en movimiento el proyectil. Calcular la posición $x$ y $y$ del proyectil en el tiempo $t=1.5s$"
      ]
    },
    {
      "cell_type": "code",
      "metadata": {
        "id": "DMbyqCkoG8Sh"
      },
      "source": [
        "from math import * \n",
        "\n",
        "v0=69*(1000)/(3600)\n",
        "teta=radians(45)\n",
        "g=9.8"
      ],
      "execution_count": null,
      "outputs": []
    },
    {
      "cell_type": "code",
      "metadata": {
        "id": "PR04lOMae2iK",
        "colab": {
          "base_uri": "https://localhost:8080/"
        },
        "outputId": "cd79361b-c88d-40a8-c259-0000227d575f"
      },
      "source": [
        "xmax=v0**2*sin(2*teta)/g\n",
        "print(xmax)"
      ],
      "execution_count": null,
      "outputs": [
        {
          "output_type": "stream",
          "text": [
            "37.485827664399096\n"
          ],
          "name": "stdout"
        }
      ]
    },
    {
      "cell_type": "code",
      "metadata": {
        "id": "00uvuxN_lLwl",
        "colab": {
          "base_uri": "https://localhost:8080/"
        },
        "outputId": "1589adbf-5257-49c3-eed9-a6fc7a44f49b"
      },
      "source": [
        "ymax=v0**2*sin(teta)**2/(2*g)\n",
        "print(ymax)"
      ],
      "execution_count": null,
      "outputs": [
        {
          "output_type": "stream",
          "text": [
            "9.371456916099772\n"
          ],
          "name": "stdout"
        }
      ]
    },
    {
      "cell_type": "code",
      "metadata": {
        "id": "OENSjDQtlgYd",
        "colab": {
          "base_uri": "https://localhost:8080/"
        },
        "outputId": "712c3654-4a75-42c9-9792-67826b62c142"
      },
      "source": [
        "t=2*v0*sin(teta)/g\n",
        "print(t)"
      ],
      "execution_count": null,
      "outputs": [
        {
          "output_type": "stream",
          "text": [
            "2.765893871988196\n"
          ],
          "name": "stdout"
        }
      ]
    },
    {
      "cell_type": "code",
      "metadata": {
        "id": "D1jh5baRjT6G",
        "colab": {
          "base_uri": "https://localhost:8080/"
        },
        "outputId": "15253bc3-70f9-426d-b968-e2bd09e5d412"
      },
      "source": [
        "tiempo=1.5\n",
        "x=v0*cos(teta)*tiempo\n",
        "y=x*tan(teta)-g*x**2/(2*v0**2*cos(teta)**2)\n",
        "print(x,y)"
      ],
      "execution_count": null,
      "outputs": [
        {
          "output_type": "stream",
          "text": [
            "20.329319959113246 9.30431995911324\n"
          ],
          "name": "stdout"
        }
      ]
    },
    {
      "cell_type": "code",
      "metadata": {
        "id": "YPT-Wb2imUsB",
        "colab": {
          "base_uri": "https://localhost:8080/",
          "height": 294
        },
        "outputId": "3283a3d0-cb39-4fd2-b9c4-e1b353c18ad7"
      },
      "source": [
        "import numpy as np\n",
        "import matplotlib.pyplot as plt\n",
        "\n",
        "ts=np.linspace(0,t)\n",
        "x=v0*np.cos(teta)*ts\n",
        "y=x*np.tan(teta)-g*x**2/(2*v0**2*np.cos(teta)**2)\n",
        "\n",
        "plt.plot(x,y)\n",
        "plt.title('Trayectoria del proyectil')\n",
        "plt.xlabel('x')\n",
        "plt.ylabel('y')\n",
        "plt.show()"
      ],
      "execution_count": null,
      "outputs": [
        {
          "output_type": "display_data",
          "data": {
            "image/png": "[encoded data removed]",
            "text/plain": [
              "<Figure size 432x288 with 1 Axes>"
            ]
          },
          "metadata": {
            "tags": [],
            "needs_background": "light"
          }
        }
      ]
    },
    {
      "cell_type": "code",
      "metadata": {
        "id": "ooeCQsn8rCDw"
      },
      "source": [
        ""
      ],
      "execution_count": null,
      "outputs": []
    }
  ]
}