{
  "nbformat": 4,
  "nbformat_minor": 0,
  "metadata": {
    "colab": {
      "name": "01_Intro",
      "provenance": [],
      "collapsed_sections": [],
      "include_colab_link": true
    },
    "kernelspec": {
      "name": "python3",
      "display_name": "Python 3"
    }
  },
  "cells": [
    {
      "cell_type": "markdown",
      "metadata": {
        "id": "view-in-github",
        "colab_type": "text"
      },
      "source": [
        "<a href=\"https://colab.research.google.com/github/jcjimenezb123/ProgramacionPython/blob/master/01_Intro.ipynb\" target=\"_parent\"><img src=\"https://colab.research.google.com/assets/colab-badge.svg\" alt=\"Open In Colab\"/></a>"
      ]
    },
    {
      "cell_type": "markdown",
      "metadata": {
        "id": "FON1-e7hnwEL"
      },
      "source": [
        "#Titulo\n",
        "##Subtitulo\n",
        "###Sub subtitulo\n",
        "\n",
        "Texto simple"
      ]
    },
    {
      "cell_type": "markdown",
      "metadata": {
        "id": "y9EwqHHQrYGP"
      },
      "source": [
        "#Titulo"
      ]
    },
    {
      "cell_type": "markdown",
      "metadata": {
        "id": "6cMgZQHura0b"
      },
      "source": [
        "##Subtitulo"
      ]
    },
    {
      "cell_type": "markdown",
      "metadata": {
        "id": "IVNzTTNUrc67"
      },
      "source": [
        "###Sub Subtitulo"
      ]
    },
    {
      "cell_type": "markdown",
      "metadata": {
        "id": "fvYYAKmDrltp"
      },
      "source": [
        "Texto simple"
      ]
    },
    {
      "cell_type": "markdown",
      "metadata": {
        "id": "aWA4OPQ9xf2E"
      },
      "source": [
        "#Practica de Google Colaboratory"
      ]
    },
    {
      "cell_type": "markdown",
      "metadata": {
        "id": "IkYA0oOM3KIW"
      },
      "source": [
        "![python](https://github.com/jcjimenezb123/ProgramacionPython/blob/master/Python-01.jpg?raw=1)"
      ]
    },
    {
      "cell_type": "markdown",
      "metadata": {
        "id": "at6EalQSy5Lu"
      },
      "source": [
        "Tipos de texto\n",
        "---\n",
        "\n",
        "Texto libre que se usa para describir un texto cualquiera, por ejemplo un problema con los datos correspondientes.\n",
        "\n",
        "Este es un enlace a la [página web](http://www.jcjimenezb.com) del profesor.\n",
        "\n",
        "**Texto en negritas** \n",
        "\n",
        "*Texto en cursivas* \n",
        "\n",
        "***cursiva y negritas***\n",
        "\n",
        "~~Texto tachado~~\n",
        "\n",
        "`Texto mono espaciado`\n",
        "\n",
        "Ecuaciones $f(x)=x^2-2$\n",
        "\n",
        "Listas\n",
        "---\n",
        "\n",
        "Lista de puntos\n",
        "* Tema 1\n",
        "  * Subtema 1\n",
        "    * Sub sub tema 1\n",
        "* Tema 2\n",
        "\n",
        "---\n",
        "\n",
        "Lista numerada\n",
        "\n",
        "1. Primer punto\n",
        "   1. primer sub tema\n",
        "     1. primer sub sub tema\n",
        "     1. segundo sub sub tema\n",
        "  1. segundo subtema\n",
        "1. Segundo punto\n",
        "1. Tercer punto\n",
        "\n",
        "---\n",
        "\n",
        "> Nivel 1 de identacion\n",
        ">> Nivel 2 de identacion\n",
        ">>> Nivel 3 de identacion\n",
        "\n",
        "---\n",
        "\n",
        "_Tabla de datos_\n",
        "\n",
        "x | f(x)\n",
        "---|---\n",
        "1 | 1\n",
        "2 | 4\n",
        "3 | 9\n",
        "4 | 16\n",
        "\n",
        "_Tabla de Entalpias_\n",
        "\n",
        "presion / temp |300|400|500|\n",
        "---|---|---|---|\n",
        "1 | 1200|1220|1234|\n",
        "2 | 1300|1350|1390|\n",
        "4 | 1500|1581|1630|"
      ]
    },
    {
      "cell_type": "markdown",
      "metadata": {
        "id": "SfXVPxFQ-E-A"
      },
      "source": [
        "##Fórmulas matemáticas"
      ]
    },
    {
      "cell_type": "markdown",
      "metadata": {
        "id": "R6LHnAvD03U3"
      },
      "source": [
        "Uso de $\\LaTeX$\n",
        "\n",
        "Ecuaciones sobre la linea del texto $f(x)=cos(x)+x^2-y_1$\n",
        "\n",
        "Ecuaciones en linea separada\n",
        "\n",
        "$$\n",
        "x=\\frac{b\\pm \\sqrt{b^2-4ac}}{2a}\n",
        "$$\n",
        "\n",
        "$$\n",
        "f(x)=\\left\\{ \\begin{array}{lcc}\n",
        "             5 &   si  & x \\leq 2 \\\\\n",
        "             x^2-6x+10 &  si & 2 < x < 5 \\\\\n",
        "             4x-15 &  si  & x \\geq 5\n",
        "             \\end{array}\n",
        " \\right.\n",
        "$$\n",
        "\n",
        "$$\\lim_{x\\to+\\infty}\\frac{1}{25+x^2}$$\n",
        "\n",
        "$$\n",
        "\\int_a^bf(x)dx\\approx h\\sum_{i=0}^{n-1}f(x_i)\n",
        "$$\n",
        "Donde \n",
        "$$\n",
        "h=\\frac{b-a}{n}\n",
        "$$\n",
        "\n",
        "$n$ es el número de pasos\n",
        "\n",
        "$$\n",
        "\\frac{dy}{dx}+5\\frac{d^2y}{dx^2}=cos(3x)\n",
        "$$\n",
        "\n",
        "$$\n",
        "\\frac{\\partial^2 y}{\\partial x^2}=f(x,y)\n",
        "$$\n",
        "\n",
        "Tablas con $\\LaTeX$\n",
        "\n",
        "$$\n",
        "\\begin{array}{|c|c|c|c|c|c|}\n",
        "\\hline\n",
        "x&1&2&3&4&5\\\\\n",
        "\\hline\n",
        "f(x)&1&4&9&16&25\\\\\n",
        "\\hline\n",
        "\\end{array}\n",
        "$$\n"
      ]
    },
    {
      "cell_type": "markdown",
      "metadata": {
        "id": "FapEdaql5OCW"
      },
      "source": [
        "Ecuación química\n",
        "$$\n",
        "C_8H_{18}+O_2\\xrightarrow{\\Delta}8CO_2+H_2O\n",
        "$$\n",
        "\n",
        "$$\n",
        "Co(NO_3)_3+H_2O_2\\rightarrow Co(OH)_2+KNO_3+H_2O\n",
        "$$\n",
        "\n",
        "Ecuacion iónica\n",
        "$$\n",
        "Co^{3+}+H_2O_2+OH^{1-}\\rightarrow Co^{2+}+O_2+H_2O\n",
        "$$\n",
        "\n",
        "Reducción\n",
        "$$\n",
        "Co^{3+}+H_2O_2+3e^{1-}\\rightarrow Co^{2+}+2OH^{1-}\n",
        "$$\n",
        "\n",
        "Oxidación\n",
        "$$\n",
        "H_2O_2+2OH^{1-}+2e^{1-}\\rightarrow O_2+2H_2O\n",
        "$$\n",
        "\n",
        "Redox\n",
        "$$\n",
        "\\underbrace{Co^{3+}+2H_2O_2}_{ag. oxidante}+\\underbrace{3H_2O_2}_{ag. reductor}+2OH^{1-}\\rightarrow 2Co^{2+}+3O_2+6H_2O\n",
        "$$"
      ]
    },
    {
      "cell_type": "markdown",
      "metadata": {
        "id": "5G2Tzngt-VJK"
      },
      "source": [
        "##Comentarios en el código"
      ]
    },
    {
      "cell_type": "code",
      "metadata": {
        "id": "Vh-8MmWRj6B8"
      },
      "source": [
        "#esto es un comentario en una sola linea\n",
        "\n",
        "'''Esto \n",
        "es \n",
        "un \n",
        "comentario\n",
        "en \n",
        "varias lineas\n",
        "'''\n",
        "1+2 #ejemplo de suma"
      ],
      "execution_count": null,
      "outputs": []
    },
    {
      "cell_type": "markdown",
      "metadata": {
        "id": "keeJrBE5xtow"
      },
      "source": [
        "##Operaciones básicas Suma, resta, multiplicación, división, potenciación"
      ]
    },
    {
      "cell_type": "code",
      "metadata": {
        "id": "a89IofG0xZ55"
      },
      "source": [
        "1+1+2+3+5+8 #suma"
      ],
      "execution_count": null,
      "outputs": []
    },
    {
      "cell_type": "code",
      "metadata": {
        "id": "lZlSWr8Qx6Pf"
      },
      "source": [
        "3-1 #resta"
      ],
      "execution_count": null,
      "outputs": []
    },
    {
      "cell_type": "code",
      "metadata": {
        "id": "qpP6844Tx-FD"
      },
      "source": [
        "3*4 #multiplicacion"
      ],
      "execution_count": null,
      "outputs": []
    },
    {
      "cell_type": "code",
      "metadata": {
        "id": "h8PqXEUbyEr7"
      },
      "source": [
        "1/2 #division"
      ],
      "execution_count": null,
      "outputs": []
    },
    {
      "cell_type": "code",
      "metadata": {
        "id": "DMs6axA9yHkk"
      },
      "source": [
        "5//3 #division entera"
      ],
      "execution_count": null,
      "outputs": []
    },
    {
      "cell_type": "code",
      "metadata": {
        "id": "n26IWoGw2u_s"
      },
      "source": [
        "5%3 #residuo de la division entera"
      ],
      "execution_count": null,
      "outputs": []
    },
    {
      "cell_type": "code",
      "metadata": {
        "id": "FhdMfoU_yWbI"
      },
      "source": [
        "3**2 #potenciacion 3 elevado a 2"
      ],
      "execution_count": null,
      "outputs": []
    },
    {
      "cell_type": "code",
      "metadata": {
        "id": "jrXQlkREzIzp"
      },
      "source": [
        "3^2 #11 10 si los bits son iguales entonces 0, si son diferentes entonces 1"
      ],
      "execution_count": null,
      "outputs": []
    },
    {
      "cell_type": "code",
      "metadata": {
        "id": "CuRqBhPn2Op1"
      },
      "source": [
        "3^3"
      ],
      "execution_count": null,
      "outputs": []
    },
    {
      "cell_type": "code",
      "metadata": {
        "id": "_NdYkCbhyoIl"
      },
      "source": [
        "2**0.5 #raiz cuadrada "
      ],
      "execution_count": null,
      "outputs": []
    },
    {
      "cell_type": "code",
      "metadata": {
        "id": "RGl94Y6T3Nvu"
      },
      "source": [
        "pow(2,1/3) #Raiz cubica\n",
        "abs(-1)"
      ],
      "execution_count": null,
      "outputs": []
    },
    {
      "cell_type": "markdown",
      "metadata": {
        "id": "vl5zcApdrXk6"
      },
      "source": [
        "Orden de prioridad en operaciones\n",
        "1. ()\n",
        "1. potenciacion \n",
        "1. Multiplicacion y division\n",
        "1. Sumas y restas\n",
        "1. Evaluaciones logicas\n",
        "\n",
        "Si las operaciones tienen el mismo orden de prioridad se ejecutan de izquierda a derecha"
      ]
    },
    {
      "cell_type": "code",
      "metadata": {
        "id": "ki7wv0bvrCcf"
      },
      "source": [
        "1+2/3\n",
        "#(1+2)/3\n",
        "#1/2+3\n",
        "#1/(2+3)\n",
        "#1+2/3**2\n",
        "#(1+2)/3**2\n",
        "#1+2>1+3"
      ],
      "execution_count": null,
      "outputs": []
    },
    {
      "cell_type": "markdown",
      "metadata": {
        "id": "57W7iR01iF48"
      },
      "source": [
        "calcule la presión de un gas ideal donde $n=2, R=0.082, T=300$ y $V=10$, la operación aritmética es:\n",
        "\n",
        "$$\n",
        "P=\\frac{nRT}{V}=\\frac{2*0.082*300}{10}\n",
        "$$\n",
        "\n",
        "las operacioes se deben escribir como:\n"
      ]
    },
    {
      "cell_type": "code",
      "metadata": {
        "id": "LqLGW8N-iO7F"
      },
      "source": [
        ""
      ],
      "execution_count": null,
      "outputs": []
    },
    {
      "cell_type": "markdown",
      "metadata": {
        "id": "JjBsLnebiZTs"
      },
      "source": [
        "Se desea calcular el punto medio de un rango $x_0=4$ y $x_1=10$,  el cálculo es :\n",
        "\n",
        "$$\n",
        "pm=\\frac{x_0+x_1}{2}=\\frac{4+10}{2}\n",
        "$$\n",
        "\n",
        "Las operaciones deben escribirse como:\n"
      ]
    },
    {
      "cell_type": "code",
      "metadata": {
        "id": "g9PgIT4listD"
      },
      "source": [
        ""
      ],
      "execution_count": null,
      "outputs": []
    },
    {
      "cell_type": "markdown",
      "metadata": {
        "id": "pZryOliCitcU"
      },
      "source": [
        "se desea calcular la pendiente entre dos puntos $p_1=(1,5)$ y $p_2=(2,10)$,  el cálculo es:\n",
        "\n",
        "$$\n",
        "m=\\frac{y_2-y_1}{x_2-x_1}=\\frac{10-5}{2-1}\n",
        "$$\n",
        "\n",
        "Las operaciones deben escribirse como:"
      ]
    },
    {
      "cell_type": "code",
      "metadata": {
        "id": "UVQqEYNOi1Wt"
      },
      "source": [
        ""
      ],
      "execution_count": null,
      "outputs": []
    },
    {
      "cell_type": "markdown",
      "metadata": {
        "id": "Xmxm0FNBjK6j"
      },
      "source": [
        "Calculemos la siguiente iteración en el método de Newton-Raphson para una ecuación $f(x)=x^2-2$ y $f'(x)=2x$, el valor inicial es $x_{0}=3$ entonces el cálculo de $x_1$ es:\n",
        "\n",
        "$$\n",
        "x_1=x_0-\\frac{f(x)}{f'(x)}=3-\\frac{3^2-2}{2*3}\n",
        "$$\n"
      ]
    },
    {
      "cell_type": "code",
      "metadata": {
        "id": "mZvJeyKxjSJ4"
      },
      "source": [
        ""
      ],
      "execution_count": null,
      "outputs": []
    },
    {
      "cell_type": "markdown",
      "metadata": {
        "id": "RwtIbMshzEz1"
      },
      "source": [
        "##Variables"
      ]
    },
    {
      "cell_type": "code",
      "metadata": {
        "id": "YjIi-2B5yu62"
      },
      "source": [
        "a=1\n",
        "A=2\n",
        "print(a)\n",
        "print(A)\n",
        "print(a.__add__(9))\n",
        "print(A.__add__(a))"
      ],
      "execution_count": null,
      "outputs": []
    },
    {
      "cell_type": "code",
      "metadata": {
        "id": "OuzDBe_GS0SK"
      },
      "source": [
        "a=b=c=1\n",
        "print(a,b,c)"
      ],
      "execution_count": null,
      "outputs": []
    },
    {
      "cell_type": "code",
      "metadata": {
        "id": "7w4QOHg-5KYF"
      },
      "source": [
        "uno,dos=1,2\n",
        "print(uno,dos)"
      ],
      "execution_count": null,
      "outputs": []
    },
    {
      "cell_type": "code",
      "metadata": {
        "id": "9jamqeKUTFCO"
      },
      "source": [
        "uno,dos=dos,uno\n",
        "print(uno,dos)"
      ],
      "execution_count": null,
      "outputs": []
    },
    {
      "cell_type": "code",
      "metadata": {
        "id": "6Gs_yOV4xl5Z"
      },
      "source": [
        "presión=5\n",
        "α=1\n",
        "print(presión)\n",
        "print(α)"
      ],
      "execution_count": null,
      "outputs": []
    },
    {
      "cell_type": "code",
      "metadata": {
        "id": "r1OqR7jaAGva"
      },
      "source": [
        "presión= 10\n",
        "print(presión)"
      ],
      "execution_count": null,
      "outputs": []
    },
    {
      "cell_type": "code",
      "metadata": {
        "id": "6zTrfDpV1npG"
      },
      "source": [
        "del a\n",
        "print(a)"
      ],
      "execution_count": null,
      "outputs": []
    },
    {
      "cell_type": "code",
      "metadata": {
        "id": "7fCudVoj374z"
      },
      "source": [
        "presion inicial = 10"
      ],
      "execution_count": null,
      "outputs": []
    },
    {
      "cell_type": "code",
      "metadata": {
        "id": "LX0mhKg64DNe"
      },
      "source": [
        "presion_inicial=10"
      ],
      "execution_count": null,
      "outputs": []
    },
    {
      "cell_type": "code",
      "metadata": {
        "id": "krkFwRtj4RTH",
        "colab": {
          "base_uri": "https://localhost:8080/"
        },
        "outputId": "72f383e8-eb1b-4649-91f9-ea58ece5c62f"
      },
      "source": [
        "nombre='Juan Carlos'\n",
        "entero=1\n",
        "flotante=3.14159\n",
        "print(type(nombre))\n",
        "print(type(entero))\n",
        "print(type(flotante))\n",
        "print(nombre.upper())\n",
        "print(entero.__add__(100))\n",
        "print(flotante.__sub__(3))"
      ],
      "execution_count": 9,
      "outputs": [
        {
          "output_type": "stream",
          "name": "stdout",
          "text": [
            "<class 'str'>\n",
            "<class 'int'>\n",
            "<class 'float'>\n",
            "JUAN CARLOS\n",
            "101\n",
            "0.14158999999999988\n"
          ]
        }
      ]
    },
    {
      "cell_type": "code",
      "metadata": {
        "id": "s9P7lFRG4boV",
        "colab": {
          "base_uri": "https://localhost:8080/"
        },
        "outputId": "1dd6a600-66ed-4127-f814-336e0ef352ac"
      },
      "source": [
        "na=6.022e23 #constante de Avogadro 6.022x10^23\n",
        "e=-1.602e-19 #carga del electron 1.602x10-19\n",
        "print(na)\n",
        "print(e)"
      ],
      "execution_count": 10,
      "outputs": [
        {
          "output_type": "stream",
          "name": "stdout",
          "text": [
            "6.022e+23\n",
            "-1.602e-19\n"
          ]
        }
      ]
    },
    {
      "cell_type": "code",
      "metadata": {
        "id": "0y_UjDaY6ZrW"
      },
      "source": [
        "p=2-3j #numero complejo\n",
        "q=5+2j\n",
        "print(type(p))\n",
        "print(p*q)"
      ],
      "execution_count": null,
      "outputs": []
    },
    {
      "cell_type": "code",
      "metadata": {
        "id": "0cYiha4X42oN"
      },
      "source": [
        "aprobado=True\n",
        "print(type(aprobado))\n",
        "print(aprobado)"
      ],
      "execution_count": null,
      "outputs": []
    },
    {
      "cell_type": "markdown",
      "metadata": {
        "id": "qH74t7ykxc_l"
      },
      "source": [
        "##Parametros"
      ]
    },
    {
      "cell_type": "code",
      "metadata": {
        "id": "J007QuctxjDT"
      },
      "source": [
        "#@title Captura de valores\n",
        "\n",
        "texto='' #@param {type:\"string\"}\n",
        "fecha='2000-01-01' #@param {type:\"date\"}\n",
        "logico=True #@param {type:\"boolean\"}\n",
        "\n",
        "entero=0 #@param {type:\"integer\"}\n",
        "flotante=0.0 #@param {type:\"number\"}\n",
        "\n",
        "entero2=0 #@param {type:\"slider\" ,min:-10,max:10,step:1}\n",
        "flotante2=0.0 #@param {type:\"slider\" ,min:-10,max:10,step:0.1}\n",
        "\n",
        "lista='Opcion 2' #@param [\"Opcion 1\",\"Opcion 2\",\"Opcion 3\"] {type:\"string\"}\n",
        "\n",
        "#ocular/mostrar codigo en view/show hide code"
      ],
      "execution_count": null,
      "outputs": []
    },
    {
      "cell_type": "markdown",
      "metadata": {
        "id": "e920_W5G2O6h"
      },
      "source": [
        "##Operadores relacionales y lógicos"
      ]
    },
    {
      "cell_type": "markdown",
      "metadata": {
        "id": "uLyD-ZiCvdYR"
      },
      "source": [
        "|prioridad| operador | descripcion|\n",
        "|---|---|---|\n",
        "|1|==,!=,>,>=,<,<=|operadores relacionales|\n",
        "|2|not|operador lógico **negación**|\n",
        "|2|and|operador logico **y**|\n",
        "|3|or|operador logico **o**|"
      ]
    },
    {
      "cell_type": "code",
      "metadata": {
        "id": "fvRaZtb7zlM7",
        "collapsed": true,
        "colab": {
          "base_uri": "https://localhost:8080/"
        },
        "outputId": "bd003e57-eb1c-4fbb-fecd-4b01bbdd3f12"
      },
      "source": [
        "a,b,c,d=1,2,3,4\n",
        "\n",
        "a>b"
      ],
      "execution_count": 11,
      "outputs": [
        {
          "output_type": "execute_result",
          "data": {
            "text/plain": [
              "False"
            ]
          },
          "metadata": {},
          "execution_count": 11
        }
      ]
    },
    {
      "cell_type": "code",
      "metadata": {
        "id": "0nTS49rvzECC"
      },
      "source": [
        "c>b and c>a"
      ],
      "execution_count": null,
      "outputs": []
    },
    {
      "cell_type": "code",
      "metadata": {
        "id": "9GluTYnpzNA6"
      },
      "source": [
        "(c>b) and (c>a)"
      ],
      "execution_count": null,
      "outputs": []
    },
    {
      "cell_type": "code",
      "metadata": {
        "id": "ZoUghNTrEmoZ"
      },
      "source": [
        "c>b and c>a or d<c"
      ],
      "execution_count": null,
      "outputs": []
    },
    {
      "cell_type": "code",
      "source": [
        "a+b > c-d"
      ],
      "metadata": {
        "colab": {
          "base_uri": "https://localhost:8080/"
        },
        "id": "o-_Bj6TJEosm",
        "outputId": "f9c3c7cc-308a-49a3-d653-9f43a1358032"
      },
      "execution_count": 12,
      "outputs": [
        {
          "output_type": "execute_result",
          "data": {
            "text/plain": [
              "True"
            ]
          },
          "metadata": {},
          "execution_count": 12
        }
      ]
    },
    {
      "cell_type": "code",
      "metadata": {
        "id": "T9oy6rsRUrpI"
      },
      "source": [
        "print(min(1,1,2,3,-5))\n",
        "print(max(1,10,2,3,5))\n",
        "print(abs(-100))\n",
        "print(sum((1,2,3,4,5)))"
      ],
      "execution_count": null,
      "outputs": []
    },
    {
      "cell_type": "markdown",
      "source": [
        "Valores muy grandes o muy pequeños"
      ],
      "metadata": {
        "id": "Ty-Nr4mhS19N"
      }
    },
    {
      "cell_type": "markdown",
      "metadata": {
        "id": "8ng4F9P1uZvH"
      },
      "source": [
        "##Biblioteca `math`"
      ]
    },
    {
      "cell_type": "code",
      "metadata": {
        "id": "vJdO6GHL7df9"
      },
      "source": [
        "from math import *\n",
        "\n",
        "pi #constante pi\n",
        "e  #constante e\n",
        "\n",
        "cos(0) #coseno de 0\n",
        "acos(0) # arco coseno de 0\n",
        "acosh(10) #arco conseno hiperbolico de 10\n",
        "sqrt(2) #raiz de 2\n",
        "factorial(5) #factorial de 5 o 5!\n",
        "log(e) #logaritmo natural de e\n",
        "log(2,2) #logaritmo base 2 de 2\n",
        "log(10,10) #logartimo base 10 de 10\n",
        "exp(3) #e^3\n",
        "radians(45) #45 grados a radianes\n",
        "degrees(2) #2 radianes a grados"
      ],
      "execution_count": null,
      "outputs": []
    },
    {
      "cell_type": "markdown",
      "metadata": {
        "id": "JGnjmgceFCgr"
      },
      "source": [
        "#Ejemplo 1. Gases ideales\n",
        "Calcular la presión de un gas ideal con las siguientes condiciones\n",
        "\n",
        "$$\n",
        "\\begin{array}{|l|c|}\n",
        "\\hline\n",
        "Temperatura & 100\\\\\n",
        "\\hline\n",
        "Volumen & 5\\\\\n",
        "\\hline\n",
        "r & 0.082\\\\\n",
        "\\hline\n",
        "n & 2\\\\\n",
        "\\hline\n",
        "\\end{array}\n",
        "$$\n",
        "\n",
        "Usando la ecuación de los gases ideales\n",
        "\n",
        "$$\n",
        "P=\\frac{nrT}{V}\n",
        "$$"
      ]
    },
    {
      "cell_type": "code",
      "metadata": {
        "id": "unO-qyuc-5dU"
      },
      "source": [
        ""
      ],
      "execution_count": null,
      "outputs": []
    },
    {
      "cell_type": "markdown",
      "metadata": {
        "id": "miV2YH_bILwG"
      },
      "source": [
        "#Ejemplo 2. Tiro parabólico de un proyectil\n",
        "\n",
        "El tiro parabólico es la resultante de la suma vectorial de un movimiento horizontal uniforme y de un movimiento vertical rectilíneo uniformemente variado. El tiro parabólico es de dos clases: horizontal y oblicuo.\n",
        "\n",
        "El tiro parabólico oblicuo se caracteriza por la trayectoria que sigue un cuerpo, cuando es lanzado a una velocidad inicial que forma un ángulo $\\theta$ con el eje x horizontal.\n",
        "\n",
        "El alcance horizontal total se obtiene con\n",
        "\n",
        "$$\n",
        "x_{max}=\\frac{v_0^2sin(2\\theta)}{g}\n",
        "$$\n",
        "\n",
        "La altura máxima se obtiene con\n",
        "\n",
        "$$\n",
        "y_{max}=\\frac{v_0^2sin^2(\\theta)}{2g}\n",
        "$$\n",
        "\n",
        "El tiempo total que el proyectil permanece en movimiento se obtiene con\n",
        "\n",
        "$$\n",
        "t=\\frac{2v_0sin(\\theta)}{g}\n",
        "$$\n",
        "\n",
        "La trayectoria del proyectil esta dada por la siguiente ecuacion\n",
        "\n",
        "$$\n",
        "x=v_0 cos(\\theta)t\n",
        "$$\n",
        "$$\n",
        "y=x tan(\\theta)-\\frac{g x^2}{2v_0^2 cos^2(\\theta)}\n",
        "$$\n",
        "\n",
        "Con los datos de velocidad inicial $69 km/hr$ y un ángulo de $45^{\\circ}$. Calcular el alcance horizontal, la altura máxima y el tiempo que permanece en movimiento el proyectil. Calcular la posición $x$ y $y$ del proyectil en el tiempo $t=1.5s$"
      ]
    },
    {
      "cell_type": "code",
      "metadata": {
        "id": "ooeCQsn8rCDw"
      },
      "source": [
        ""
      ],
      "execution_count": null,
      "outputs": []
    },
    {
      "cell_type": "markdown",
      "source": [
        "#Ejemplo 3. Ecuación de Antoine\n",
        "\n",
        "La ecuación de Antoine permite calcular la presión de vapor de un componente\n",
        "puro en función de la temperatura.\n",
        "\n",
        "$$\n",
        "P=10^{\\left(A+\\frac{B}{T+C}\\right)}\n",
        "$$\n",
        "\n",
        "los parámetros A, B y C para el propano son:\n",
        "\n",
        "Parámetro|Valor\n",
        "---|---\n",
        "A|5.2285\n",
        "B|-1560.0\n",
        "C|428.1183\n",
        "\n",
        "Calcule la presión de vapor del propano a una temperatura = 20"
      ],
      "metadata": {
        "id": "szmZJY8_OT3z"
      }
    },
    {
      "cell_type": "code",
      "source": [
        ""
      ],
      "metadata": {
        "id": "D96QBKTKQ8gJ"
      },
      "execution_count": null,
      "outputs": []
    }
  ]
}