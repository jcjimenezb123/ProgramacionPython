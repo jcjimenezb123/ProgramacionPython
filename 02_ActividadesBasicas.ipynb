{
  "nbformat": 4,
  "nbformat_minor": 0,
  "metadata": {
    "colab": {
      "name": "02_ActividadesBasicas.ipynb",
      "provenance": [],
      "collapsed_sections": [],
      "include_colab_link": true
    },
    "kernelspec": {
      "name": "python3",
      "display_name": "Python 3"
    }
  },
  "cells": [
    {
      "cell_type": "markdown",
      "metadata": {
        "id": "view-in-github",
        "colab_type": "text"
      },
      "source": [
        "<a href=\"https://colab.research.google.com/github/jcjimenezb123/ProgramacionPython/blob/master/02_ActividadesBasicas.ipynb\" target=\"_parent\"><img src=\"https://colab.research.google.com/assets/colab-badge.svg\" alt=\"Open In Colab\"/></a>"
      ]
    },
    {
      "cell_type": "markdown",
      "metadata": {
        "id": "XRk2uisRgKR0"
      },
      "source": [
        "#Actividades Básicas"
      ]
    },
    {
      "cell_type": "markdown",
      "metadata": {
        "id": "tPYPtXrAgSFb"
      },
      "source": [
        "##Asignación o reemplazo"
      ]
    },
    {
      "cell_type": "code",
      "metadata": {
        "id": "TvPmbfXEgC7Z",
        "colab": {
          "base_uri": "https://localhost:8080/",
          "height": 35
        },
        "outputId": "314ba31d-8581-4bbd-d950-4eda681565ca"
      },
      "source": [
        "entero=10\n",
        "flotante=6.22e23\n",
        "texto=\"Hola\"\n",
        "logico=True\n",
        "complejo=1-2j\n",
        "print(entero,flotante,texto,logico,complejo)"
      ],
      "execution_count": null,
      "outputs": [
        {
          "output_type": "stream",
          "text": [
            "10 6.22e+23 Hola True (1-2j)\n"
          ],
          "name": "stdout"
        }
      ]
    },
    {
      "cell_type": "code",
      "metadata": {
        "id": "YCG_s9gOgqVc",
        "colab": {
          "base_uri": "https://localhost:8080/",
          "height": 34
        },
        "outputId": "8dc56343-1664-40ba-b3a1-d10b48133bce"
      },
      "source": [
        "a=b=c=1.23\n",
        "print(a,b,c)"
      ],
      "execution_count": null,
      "outputs": [
        {
          "output_type": "stream",
          "text": [
            "1.23 1.23 1.23\n"
          ],
          "name": "stdout"
        }
      ]
    },
    {
      "cell_type": "code",
      "metadata": {
        "id": "eJutUwM1g22n",
        "colab": {
          "base_uri": "https://localhost:8080/",
          "height": 34
        },
        "outputId": "996b1233-0b6a-4e21-d869-10620268765b"
      },
      "source": [
        "uno,dos=1,-20\n",
        "print(uno,dos)"
      ],
      "execution_count": null,
      "outputs": [
        {
          "output_type": "stream",
          "text": [
            "1 -20\n"
          ],
          "name": "stdout"
        }
      ]
    },
    {
      "cell_type": "code",
      "metadata": {
        "id": "ICIBQ_qGlnKd",
        "colab": {
          "base_uri": "https://localhost:8080/",
          "height": 34
        },
        "outputId": "d1acdfdc-3ce5-4c12-8b96-bff54f7b0b6a"
      },
      "source": [
        "a=10\n",
        "a+=1\n",
        "print(a)"
      ],
      "execution_count": null,
      "outputs": [
        {
          "output_type": "stream",
          "text": [
            "11\n"
          ],
          "name": "stdout"
        }
      ]
    },
    {
      "cell_type": "code",
      "metadata": {
        "id": "juJ3fL0cmWyO",
        "colab": {
          "base_uri": "https://localhost:8080/",
          "height": 34
        },
        "outputId": "4dcd4bf7-7341-402b-e953-28618d4e884f"
      },
      "source": [
        "a=10\n",
        "a-=1\n",
        "print(a)"
      ],
      "execution_count": null,
      "outputs": [
        {
          "output_type": "stream",
          "text": [
            "9\n"
          ],
          "name": "stdout"
        }
      ]
    },
    {
      "cell_type": "code",
      "metadata": {
        "id": "h7GsznQtmeeW",
        "colab": {
          "base_uri": "https://localhost:8080/",
          "height": 34
        },
        "outputId": "8d2473fb-5fd4-4b13-dd43-e8f0ad2317dd"
      },
      "source": [
        "a=10\n",
        "a*=3\n",
        "print(a)"
      ],
      "execution_count": null,
      "outputs": [
        {
          "output_type": "stream",
          "text": [
            "30\n"
          ],
          "name": "stdout"
        }
      ]
    },
    {
      "cell_type": "code",
      "metadata": {
        "id": "I2-gCIPhmuaN",
        "colab": {
          "base_uri": "https://localhost:8080/",
          "height": 34
        },
        "outputId": "c2ebbabe-7a7a-4e8b-b366-01fb0eb81c82"
      },
      "source": [
        "a=10\n",
        "a/=2\n",
        "print(a)"
      ],
      "execution_count": null,
      "outputs": [
        {
          "output_type": "stream",
          "text": [
            "5.0\n"
          ],
          "name": "stdout"
        }
      ]
    },
    {
      "cell_type": "markdown",
      "metadata": {
        "id": "ToLuoJSfhFxt"
      },
      "source": [
        "##Condicionales"
      ]
    },
    {
      "cell_type": "code",
      "metadata": {
        "id": "6cZRADwuQBdF"
      },
      "source": [
        "a = 100\n",
        "b = -200\n",
        "if a*b < 0:\n",
        "  print(\"a y b tienen signo distinto\")\n",
        "else:\n",
        "  print(\"a y b tienen el mismo signo\")"
      ],
      "execution_count": null,
      "outputs": []
    },
    {
      "cell_type": "code",
      "metadata": {
        "id": "5TvjrxhYARvz",
        "colab": {
          "base_uri": "https://localhost:8080/"
        },
        "outputId": "44901190-8e4a-46b9-c0d8-d645649a6cbb"
      },
      "source": [
        "a = 100\n",
        "b = -200\n",
        "if a*b < 0: print(\"a y b tienen signo distinto\")"
      ],
      "execution_count": null,
      "outputs": [
        {
          "output_type": "stream",
          "text": [
            "a y b tienen signo distinto\n"
          ],
          "name": "stdout"
        }
      ]
    },
    {
      "cell_type": "code",
      "metadata": {
        "id": "2y7tYYIYA29-",
        "colab": {
          "base_uri": "https://localhost:8080/",
          "height": 36
        },
        "outputId": "b2630e85-b35e-43ef-9b96-51431f69ba7a"
      },
      "source": [
        "a = 100\n",
        "b = -200\n",
        "resultado = \"a y b tienen signo distinto\" if a*b < 0 else \"a y b tienen el mismo signo\"\n",
        "\n",
        "resultado"
      ],
      "execution_count": null,
      "outputs": [
        {
          "output_type": "execute_result",
          "data": {
            "text/plain": [
              "'a y b tienen signo distinto'"
            ],
            "application/vnd.google.colaboratory.intrinsic+json": {
              "type": "string"
            }
          },
          "metadata": {},
          "execution_count": 3
        }
      ]
    },
    {
      "cell_type": "code",
      "metadata": {
        "id": "dAeDGJbRg-Qi",
        "colab": {
          "base_uri": "https://localhost:8080/",
          "height": 36
        },
        "outputId": "179491a4-a2e9-40b3-d745-4616f3a4a9d2"
      },
      "source": [
        "calificacion=6\n",
        "resultado= \"Aprobado\" if calificacion>=6 else \"No aprobado\"\n",
        "\n",
        "resultado"
      ],
      "execution_count": null,
      "outputs": [
        {
          "output_type": "execute_result",
          "data": {
            "text/plain": [
              "'Aprobado'"
            ],
            "application/vnd.google.colaboratory.intrinsic+json": {
              "type": "string"
            }
          },
          "metadata": {},
          "execution_count": 1
        }
      ]
    },
    {
      "cell_type": "markdown",
      "metadata": {
        "id": "td9OAzqTjZ92"
      },
      "source": [
        "varificar si x esta en el rango [-5,5]"
      ]
    },
    {
      "cell_type": "code",
      "metadata": {
        "id": "TpZUn4Zqjf40",
        "colab": {
          "base_uri": "https://localhost:8080/",
          "height": 34
        },
        "outputId": "3e7dcddd-4002-48bf-e254-78c6def20b00"
      },
      "source": [
        "x=0\n",
        "if x>=-5 and x<=5:\n",
        "  print(\"x se encuentra en el rango\")"
      ],
      "execution_count": null,
      "outputs": [
        {
          "output_type": "stream",
          "text": [
            "x se encuentra en el rango\n"
          ],
          "name": "stdout"
        }
      ]
    },
    {
      "cell_type": "markdown",
      "source": [
        "$$\n",
        "f(x) = \n",
        "\\begin{cases}\n",
        "5 &x \\leq 2\\\\\n",
        "x^2-6x+10 &2<x<5\\\\\n",
        "4x-15&x\\geq 5\n",
        "\\end{cases}\n",
        "$$"
      ],
      "metadata": {
        "id": "ab_-dOoP3Hrt"
      }
    },
    {
      "cell_type": "code",
      "metadata": {
        "id": "dunYNu_C4woR",
        "colab": {
          "base_uri": "https://localhost:8080/"
        },
        "outputId": "7f8ed31e-7d4f-4551-9155-1910f769adb0"
      },
      "source": [
        "x=3\n",
        "\n",
        "if x<=2:\n",
        "  f=5\n",
        "elif x>2 and x<5:\n",
        "  f=x**2-6*x+10\n",
        "else:\n",
        "  f=4*x-15\n",
        "\n",
        "print(f)"
      ],
      "execution_count": null,
      "outputs": [
        {
          "output_type": "stream",
          "name": "stdout",
          "text": [
            "1\n"
          ]
        }
      ]
    },
    {
      "cell_type": "code",
      "metadata": {
        "id": "nczL4E0EBtwQ",
        "colab": {
          "base_uri": "https://localhost:8080/"
        },
        "outputId": "94581167-03dd-404f-86c9-0038b1cbdc28"
      },
      "source": [
        "x=3\n",
        "\n",
        "f=5 if x<=2 else x**2-6*x+10 if x>2 and x<5 else 4*x-15\n",
        "\n",
        "print(f)"
      ],
      "execution_count": null,
      "outputs": [
        {
          "output_type": "stream",
          "text": [
            "1\n"
          ],
          "name": "stdout"
        }
      ]
    },
    {
      "cell_type": "code",
      "metadata": {
        "id": "4fAeNC3liEpU",
        "colab": {
          "base_uri": "https://localhost:8080/",
          "height": 34
        },
        "outputId": "03f7e499-9ca6-473e-d88c-9c504dbc4c36"
      },
      "source": [
        "edad=20\n",
        "if edad>=60:\n",
        "  print(\"Adulto mayor\")\n",
        "elif edad>=18:\n",
        "  print(\"Adulto\")\n",
        "else:\n",
        "  print(\"Menor\")"
      ],
      "execution_count": null,
      "outputs": [
        {
          "output_type": "stream",
          "text": [
            "Adulto\n"
          ],
          "name": "stdout"
        }
      ]
    },
    {
      "cell_type": "code",
      "source": [
        "edad = 20\n",
        "resultado = \"Adulto mayor\" if edad>=60 else \"adulto\" if edad>=18 else \"Menor\"\n",
        "resultado"
      ],
      "metadata": {
        "colab": {
          "base_uri": "https://localhost:8080/",
          "height": 36
        },
        "id": "z085t1tn4wIE",
        "outputId": "f254679a-4921-48f2-fd56-a2137932385c"
      },
      "execution_count": null,
      "outputs": [
        {
          "output_type": "execute_result",
          "data": {
            "text/plain": [
              "'adulto'"
            ],
            "application/vnd.google.colaboratory.intrinsic+json": {
              "type": "string"
            }
          },
          "metadata": {},
          "execution_count": 6
        }
      ]
    },
    {
      "cell_type": "code",
      "metadata": {
        "id": "4VZM147fiqNr",
        "colab": {
          "base_uri": "https://localhost:8080/",
          "height": 34
        },
        "outputId": "099895f6-f6fc-4764-b6f4-ad07464fdd30"
      },
      "source": [
        "a,b,c=-1,0,1\n",
        "\n",
        "if a>b and a>c:\n",
        "  print(a)\n",
        "\n",
        "if b>a and b>c:\n",
        "  print(b)\n",
        "\n",
        "if c>a and c>b:\n",
        "  print(c)"
      ],
      "execution_count": null,
      "outputs": [
        {
          "output_type": "stream",
          "text": [
            "1\n"
          ],
          "name": "stdout"
        }
      ]
    },
    {
      "cell_type": "markdown",
      "metadata": {
        "id": "EwSgVGiOj_sd"
      },
      "source": [
        "##Circuito de conteo `for`"
      ]
    },
    {
      "cell_type": "code",
      "metadata": {
        "id": "BOPoKHQyQaFJ",
        "colab": {
          "base_uri": "https://localhost:8080/"
        },
        "outputId": "9a2aa6fe-5896-4337-e8ee-af2cec0e804d"
      },
      "source": [
        "r=range(5)\n",
        "for v in r:\n",
        "  print(v)\n"
      ],
      "execution_count": null,
      "outputs": [
        {
          "output_type": "stream",
          "name": "stdout",
          "text": [
            "0\n",
            "1\n",
            "2\n",
            "3\n",
            "4\n"
          ]
        }
      ]
    },
    {
      "cell_type": "code",
      "metadata": {
        "id": "KWQLTtUjWEsa",
        "colab": {
          "base_uri": "https://localhost:8080/"
        },
        "outputId": "2a0e13ce-8754-4a99-b33f-f61588d31f6f"
      },
      "source": [
        "for v in range(1,6,2):\n",
        "  print(v)"
      ],
      "execution_count": null,
      "outputs": [
        {
          "output_type": "stream",
          "name": "stdout",
          "text": [
            "1\n",
            "3\n",
            "5\n"
          ]
        }
      ]
    },
    {
      "cell_type": "code",
      "metadata": {
        "id": "9QZWPvT9juHw",
        "colab": {
          "base_uri": "https://localhost:8080/"
        },
        "outputId": "72a5181e-cf21-4ce6-d047-cb6a1f4ed1e1"
      },
      "source": [
        "for v in range(5,1,-1):\n",
        "  print(v)"
      ],
      "execution_count": null,
      "outputs": [
        {
          "output_type": "stream",
          "name": "stdout",
          "text": [
            "5\n",
            "4\n",
            "3\n",
            "2\n"
          ]
        }
      ]
    },
    {
      "cell_type": "markdown",
      "source": [
        "Decir si la serie\n",
        "$$\n",
        "1+\\frac{1}{4}+\\frac{1}{9}+\\frac{1}{16}+\\cdots=\\sum_{n=1}^\\infty\\frac{1}{n^2}\n",
        "$$\n",
        "es convergente"
      ],
      "metadata": {
        "id": "o6W7jN2c_G9J"
      }
    },
    {
      "cell_type": "code",
      "metadata": {
        "id": "wKfLxQLBUntD",
        "colab": {
          "base_uri": "https://localhost:8080/"
        },
        "outputId": "b7a99403-af6a-4a66-e499-b32737b16bc7"
      },
      "source": [
        "s=0\n",
        "for n in range(1,600):\n",
        "  #print(n)\n",
        "  s+=1/n**2\n",
        "  \n",
        "print(s)"
      ],
      "execution_count": null,
      "outputs": [
        {
          "output_type": "stream",
          "name": "stdout",
          "text": [
            "1.6432660105210668\n"
          ]
        }
      ]
    },
    {
      "cell_type": "markdown",
      "source": [
        "Serie de Fibonacci\n",
        "\n",
        "$$\n",
        "0+1+1+2+3+5+8+13+21+\\dots = f_{n-1} + f_{n-2}\n",
        "$$"
      ],
      "metadata": {
        "id": "XrpmU9hsPBH-"
      }
    },
    {
      "cell_type": "code",
      "metadata": {
        "id": "pplbtaesmF3H",
        "colab": {
          "base_uri": "https://localhost:8080/"
        },
        "outputId": "b8b9a34b-6e73-4223-e8c0-dcbcc0389365"
      },
      "source": [
        "f1=0\n",
        "f2=1\n",
        "print(f1)\n",
        "for v in range(1,10):\n",
        "  print(f2)\n",
        "  f3=f1+f2\n",
        "  f1=f2\n",
        "  f2=f3\n"
      ],
      "execution_count": null,
      "outputs": [
        {
          "output_type": "stream",
          "text": [
            "0\n",
            "1\n",
            "1\n",
            "2\n",
            "3\n",
            "5\n",
            "8\n",
            "13\n",
            "21\n",
            "34\n"
          ],
          "name": "stdout"
        }
      ]
    },
    {
      "cell_type": "markdown",
      "metadata": {
        "id": "nWnM75yqndyI"
      },
      "source": [
        "##Circuitos condicionales `while`"
      ]
    },
    {
      "cell_type": "code",
      "source": [
        "n=s=0\n",
        "continua=True\n",
        "while continua:\n",
        "  n+=1\n",
        "  s+=1/n**2\n",
        "  continua = 1/n**2 > 1e-8\n",
        "print(s)"
      ],
      "metadata": {
        "colab": {
          "base_uri": "https://localhost:8080/"
        },
        "id": "Z2FkBxiaP9rS",
        "outputId": "df2a4c44-0d69-42df-9c95-0271d8ef69f2"
      },
      "execution_count": null,
      "outputs": [
        {
          "output_type": "stream",
          "name": "stdout",
          "text": [
            "1.6448340718480652\n"
          ]
        }
      ]
    },
    {
      "cell_type": "markdown",
      "metadata": {
        "id": "lAo4w5mKnwUt"
      },
      "source": [
        "sumar numeros aleatorios mientras la suma sea menor a 100"
      ]
    },
    {
      "cell_type": "code",
      "metadata": {
        "id": "KE9e2CEMnkTP",
        "colab": {
          "base_uri": "https://localhost:8080/"
        },
        "outputId": "0836c976-7bd9-4be6-fe8c-642efc09df34"
      },
      "source": [
        "import numpy as np\n",
        "\n",
        "suma=0\n",
        "contador=0\n",
        "while suma<100:\n",
        "  valor=np.random.rand()\n",
        "  suma+=valor\n",
        "  contador+=1\n",
        "\n",
        "print(suma)\n",
        "print(contador)"
      ],
      "execution_count": null,
      "outputs": [
        {
          "output_type": "stream",
          "name": "stdout",
          "text": [
            "100.38353043930938\n",
            "194\n"
          ]
        }
      ]
    },
    {
      "cell_type": "code",
      "source": [
        "f1=1\n",
        "f2=1\n",
        "q1=f2/f1\n",
        "continuar=True\n",
        "while continuar:\n",
        "  f3=f1+f2\n",
        "  f1=f2\n",
        "  f2=f3\n",
        "  q2=f2/f1\n",
        "  continuar=abs(q1-q2)>1e-10\n",
        "  q1=q2\n",
        "\n",
        "print(q1)"
      ],
      "metadata": {
        "id": "E2ZTDy4QNGzv",
        "outputId": "94f7bdba-cbe7-4bdf-f091-3207b1bfda19",
        "colab": {
          "base_uri": "https://localhost:8080/"
        }
      },
      "execution_count": 3,
      "outputs": [
        {
          "output_type": "stream",
          "name": "stdout",
          "text": [
            "1.618033988738303\n"
          ]
        }
      ]
    },
    {
      "cell_type": "code",
      "metadata": {
        "colab": {
          "base_uri": "https://localhost:8080/"
        },
        "id": "xLWIN2MVfclb",
        "outputId": "49a10489-6a01-4ddd-99da-63af63ede14a"
      },
      "source": [
        "import random\n",
        "\n",
        "numero=random.randint(0,10)\n",
        "minumero=-1\n",
        "\n",
        "while numero!=minumero:\n",
        "  minumero=int(input('Adivina [0-10] '))\n",
        "  print(f'{\"estas arriba\" if minumero>numero else \"estas abajo\"}')\n",
        "print(f'Adivinaste es {numero}!!')"
      ],
      "execution_count": null,
      "outputs": [
        {
          "output_type": "stream",
          "text": [
            "Adivina [0-10] 5\n",
            "estas abajo\n",
            "Adivina [0-10] 6\n",
            "estas abajo\n",
            "Adivina [0-10] 7\n",
            "estas abajo\n",
            "Adivina [0-10] 8\n",
            "estas abajo\n",
            "Adivina [0-10] 9\n",
            "estas abajo\n",
            "Adivinaste es 9!!\n"
          ],
          "name": "stdout"
        }
      ]
    },
    {
      "cell_type": "code",
      "metadata": {
        "colab": {
          "base_uri": "https://localhost:8080/"
        },
        "id": "hV_QHpN2lZLA",
        "outputId": "9aed87c6-2ee1-41cc-a774-7202d923f258"
      },
      "source": [
        "import sys\n",
        "\n",
        "a=3.1416\n",
        "b=0\n",
        "\n",
        "try:\n",
        "  c=a/b\n",
        "  print(f'resultado {c}')\n",
        "except:\n",
        "  print(f'ocurrio un error {sys.exc_info()[0]} !!')"
      ],
      "execution_count": null,
      "outputs": [
        {
          "output_type": "stream",
          "text": [
            "ocurrio un error <class 'ZeroDivisionError'> !!\n"
          ],
          "name": "stdout"
        }
      ]
    },
    {
      "cell_type": "code",
      "metadata": {
        "colab": {
          "base_uri": "https://localhost:8080/"
        },
        "id": "UzNVcezOt61y",
        "outputId": "a7417519-e121-4fb1-964d-c944772826ac"
      },
      "source": [
        "while True:\n",
        "    try:\n",
        "        x = int(input(\"introduzca un valor entero: \"))\n",
        "        assert(x>0),\"El valor debe ser positivo\"\n",
        "    except ValueError: #valida si el valor leido es numerico\n",
        "        print(\"Ups!  Ese no es un valor correcto.  Intente de nuevo...\")\n",
        "    except Exception as error: #valida el error generado por la condicion rise\n",
        "        print('Error de valor: '+repr(error))\n",
        "    else: #no se genero ninguna excepcion\n",
        "        print (f'Gracias, {x} es un valor correcto')\n",
        "        break #sale del ciclo while\n",
        "\n",
        "print(x)"
      ],
      "execution_count": null,
      "outputs": [
        {
          "output_type": "stream",
          "text": [
            "introduzca un valor entero: qwe\n",
            "Ups!  Ese no es un valor correcto.  Intente de nuevo...\n",
            "introduzca un valor entero: 1.2\n",
            "Ups!  Ese no es un valor correcto.  Intente de nuevo...\n",
            "introduzca un valor entero: -1\n",
            "Error de valor: AssertionError('El valor debe ser positivo')\n",
            "introduzca un valor entero: 2\n",
            "Gracias, 2 es un valor correcto\n",
            "2\n"
          ],
          "name": "stdout"
        }
      ]
    },
    {
      "cell_type": "code",
      "metadata": {
        "colab": {
          "base_uri": "https://localhost:8080/"
        },
        "id": "lm0cA7AAA2QA",
        "outputId": "8b91e77d-0955-4e44-d1e2-df3b644da15a"
      },
      "source": [
        "texto=input('Escriba una frase: ')\n",
        "entero=int(input('Escriba un entero: '))\n",
        "flotante=float(input('Escriba un flotante: '))\n",
        "\n",
        "print(texto,entero,flotante)"
      ],
      "execution_count": null,
      "outputs": [
        {
          "output_type": "stream",
          "text": [
            "Escriba una frase: hola\n",
            "Escriba un entero: 26\n",
            "Escriba un flotante: 3.14159\n",
            "hola 26 3.14159\n"
          ],
          "name": "stdout"
        }
      ]
    },
    {
      "cell_type": "code",
      "metadata": {
        "colab": {
          "base_uri": "https://localhost:8080/"
        },
        "id": "pjyaQNUrBkGW",
        "outputId": "a2f03991-95fb-45d6-9237-6afa693520ed"
      },
      "source": [
        "cuenta, nombre, carrera = input('Escriba cuenta; nombre; carrera separados por \";\" : ').split(';') \n",
        "print(cuenta,nombre,carrera)"
      ],
      "execution_count": null,
      "outputs": [
        {
          "output_type": "stream",
          "text": [
            "Escriba cuenta; nombre; carrera separados por \";\" : 83178425;Juan Carlos Jimenez Bedolla;Ingeniero quimico\n",
            "83178425 Juan Carlos Jimenez Bedolla Ingeniero quimico\n"
          ],
          "name": "stdout"
        }
      ]
    },
    {
      "cell_type": "code",
      "metadata": {
        "colab": {
          "base_uri": "https://localhost:8080/"
        },
        "id": "jLeCiVAmCiEE",
        "outputId": "d59fd41d-ec77-4749-f30c-1738efd66e64"
      },
      "source": [
        "datos = []\n",
        "print(\"Escribe un cuento (termina con una linea en blanco)\")\n",
        "while True:\n",
        "    linea = input()\n",
        "    if linea:\n",
        "        datos.append(linea)\n",
        "    else:\n",
        "        break\n",
        "cuento = '\\n'.join(datos)\n",
        "print(\"\\n\")\n",
        "print(\"Cuento:\")\n",
        "print(cuento)"
      ],
      "execution_count": null,
      "outputs": [
        {
          "output_type": "stream",
          "text": [
            "Escribe un cuento (termina con una linea en blanco)\n",
            "Fue entonces que apareció el zorro:\n",
            "- Buen día - dijo el zorro.\n",
            "- Buen día – respondió cortésmente el principito, que se dio vuelta pero no vio a nadie.\n",
            "- Estoy aquí – dijo la voz –, bajo el manzano...\n",
            "- Quién eres ? – dijo el principito. – Eres muy bonito...\n",
            "- Soy un zorro – dijo el zorro.\n",
            "- Ven a jugar conmigo – le propuso el principito. – Estoy tan triste...\n",
            "- No puedo jugar contigo – dijo el zorro. – No estoy domesticado.\n",
            "\n",
            "\n",
            "\n",
            "Cuento:\n",
            "Fue entonces que apareció el zorro:\n",
            "- Buen día - dijo el zorro.\n",
            "- Buen día – respondió cortésmente el principito, que se dio vuelta pero no vio a nadie.\n",
            "- Estoy aquí – dijo la voz –, bajo el manzano...\n",
            "- Quién eres ? – dijo el principito. – Eres muy bonito...\n",
            "- Soy un zorro – dijo el zorro.\n",
            "- Ven a jugar conmigo – le propuso el principito. – Estoy tan triste...\n",
            "- No puedo jugar contigo – dijo el zorro. – No estoy domesticado.\n"
          ],
          "name": "stdout"
        }
      ]
    },
    {
      "cell_type": "code",
      "metadata": {
        "colab": {
          "base_uri": "https://localhost:8080/"
        },
        "id": "dtkAr9ilQaRb",
        "outputId": "85cea4b2-4cb1-4225-f879-37be9a8e1f69"
      },
      "source": [
        "from math import *\n",
        "\n",
        "x=eval(input('Entre una expresion:'))\n",
        "print(x)"
      ],
      "execution_count": null,
      "outputs": [
        {
          "output_type": "stream",
          "text": [
            "Entre una expresion:4*3-3**4-cos(pi)\n",
            "-68.0\n"
          ],
          "name": "stdout"
        }
      ]
    },
    {
      "cell_type": "code",
      "metadata": {
        "colab": {
          "base_uri": "https://localhost:8080/"
        },
        "id": "wdJItR5hS0Ol",
        "outputId": "8a9e62d9-c28d-4e7f-b2f6-63bbe0b8831e"
      },
      "source": [
        "from math import *\n",
        "\n",
        "f=input('Entre una funcion f(x) = ')\n",
        "fx=lambda x:eval(f)\n",
        "\n",
        "x=float(input('Entre un valor a evaluar: '))\n",
        "\n",
        "print(f'el resulado es {fx(x)}')"
      ],
      "execution_count": null,
      "outputs": [
        {
          "output_type": "stream",
          "text": [
            "Entre una funcion f(x) = cos(pi*x)+x**2-x+1\n",
            "Entre un valor a evaluar: 3\n",
            "el resulado es 6.0\n"
          ],
          "name": "stdout"
        }
      ]
    }
  ]
}