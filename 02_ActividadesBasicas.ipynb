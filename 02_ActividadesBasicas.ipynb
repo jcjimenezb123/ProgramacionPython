{
  "nbformat": 4,
  "nbformat_minor": 0,
  "metadata": {
    "colab": {
      "name": "02_ActividadesBasicas.ipynb",
      "provenance": [],
      "collapsed_sections": [],
      "include_colab_link": true
    },
    "kernelspec": {
      "name": "python3",
      "display_name": "Python 3"
    }
  },
  "cells": [
    {
      "cell_type": "markdown",
      "metadata": {
        "id": "view-in-github",
        "colab_type": "text"
      },
      "source": [
        "<a href=\"https://colab.research.google.com/github/jcjimenezb123/ProgramacionPython/blob/master/02_ActividadesBasicas.ipynb\" target=\"_parent\"><img src=\"https://colab.research.google.com/assets/colab-badge.svg\" alt=\"Open In Colab\"/></a>"
      ]
    },
    {
      "cell_type": "markdown",
      "metadata": {
        "id": "XRk2uisRgKR0"
      },
      "source": [
        "#Actividades Básicas"
      ]
    },
    {
      "cell_type": "markdown",
      "metadata": {
        "id": "tPYPtXrAgSFb"
      },
      "source": [
        "##Asignación o reemplazo"
      ]
    },
    {
      "cell_type": "code",
      "metadata": {
        "id": "TvPmbfXEgC7Z",
        "colab": {
          "base_uri": "https://localhost:8080/",
          "height": 35
        },
        "outputId": "314ba31d-8581-4bbd-d950-4eda681565ca"
      },
      "source": [
        "entero=10\n",
        "flotante=6.22e23\n",
        "texto=\"Hola\"\n",
        "logico=True\n",
        "complejo=1-2j\n",
        "print(entero,flotante,texto,logico,complejo)"
      ],
      "execution_count": null,
      "outputs": [
        {
          "output_type": "stream",
          "text": [
            "10 6.22e+23 Hola True (1-2j)\n"
          ],
          "name": "stdout"
        }
      ]
    },
    {
      "cell_type": "code",
      "metadata": {
        "id": "YCG_s9gOgqVc",
        "colab": {
          "base_uri": "https://localhost:8080/",
          "height": 34
        },
        "outputId": "8dc56343-1664-40ba-b3a1-d10b48133bce"
      },
      "source": [
        "a=b=c=1.23\n",
        "print(a,b,c)"
      ],
      "execution_count": null,
      "outputs": [
        {
          "output_type": "stream",
          "text": [
            "1.23 1.23 1.23\n"
          ],
          "name": "stdout"
        }
      ]
    },
    {
      "cell_type": "code",
      "metadata": {
        "id": "eJutUwM1g22n",
        "colab": {
          "base_uri": "https://localhost:8080/",
          "height": 34
        },
        "outputId": "996b1233-0b6a-4e21-d869-10620268765b"
      },
      "source": [
        "uno,dos=1,-20\n",
        "print(uno,dos)"
      ],
      "execution_count": null,
      "outputs": [
        {
          "output_type": "stream",
          "text": [
            "1 -20\n"
          ],
          "name": "stdout"
        }
      ]
    },
    {
      "cell_type": "code",
      "metadata": {
        "id": "ICIBQ_qGlnKd",
        "colab": {
          "base_uri": "https://localhost:8080/",
          "height": 34
        },
        "outputId": "d1acdfdc-3ce5-4c12-8b96-bff54f7b0b6a"
      },
      "source": [
        "a=10\n",
        "a+=1\n",
        "print(a)"
      ],
      "execution_count": null,
      "outputs": [
        {
          "output_type": "stream",
          "text": [
            "11\n"
          ],
          "name": "stdout"
        }
      ]
    },
    {
      "cell_type": "code",
      "metadata": {
        "id": "juJ3fL0cmWyO",
        "colab": {
          "base_uri": "https://localhost:8080/",
          "height": 34
        },
        "outputId": "4dcd4bf7-7341-402b-e953-28618d4e884f"
      },
      "source": [
        "a=10\n",
        "a-=1\n",
        "print(a)"
      ],
      "execution_count": null,
      "outputs": [
        {
          "output_type": "stream",
          "text": [
            "9\n"
          ],
          "name": "stdout"
        }
      ]
    },
    {
      "cell_type": "code",
      "metadata": {
        "id": "h7GsznQtmeeW",
        "colab": {
          "base_uri": "https://localhost:8080/",
          "height": 34
        },
        "outputId": "8d2473fb-5fd4-4b13-dd43-e8f0ad2317dd"
      },
      "source": [
        "a=10\n",
        "a*=3\n",
        "print(a)"
      ],
      "execution_count": null,
      "outputs": [
        {
          "output_type": "stream",
          "text": [
            "30\n"
          ],
          "name": "stdout"
        }
      ]
    },
    {
      "cell_type": "code",
      "metadata": {
        "id": "I2-gCIPhmuaN",
        "colab": {
          "base_uri": "https://localhost:8080/",
          "height": 34
        },
        "outputId": "c2ebbabe-7a7a-4e8b-b366-01fb0eb81c82"
      },
      "source": [
        "a=10\n",
        "a/=2\n",
        "print(a)"
      ],
      "execution_count": null,
      "outputs": [
        {
          "output_type": "stream",
          "text": [
            "5.0\n"
          ],
          "name": "stdout"
        }
      ]
    },
    {
      "cell_type": "markdown",
      "metadata": {
        "id": "ToLuoJSfhFxt"
      },
      "source": [
        "##Condicionales"
      ]
    },
    {
      "cell_type": "code",
      "metadata": {
        "id": "6cZRADwuQBdF"
      },
      "source": [
        "a = 100\n",
        "b = -200\n",
        "if a*b < 0:\n",
        "  print(\"a y b tienen signo distinto\")\n",
        "else:\n",
        "  print(\"a y b tienen el mismo signo\")"
      ],
      "execution_count": null,
      "outputs": []
    },
    {
      "cell_type": "code",
      "metadata": {
        "id": "5TvjrxhYARvz",
        "colab": {
          "base_uri": "https://localhost:8080/"
        },
        "outputId": "44901190-8e4a-46b9-c0d8-d645649a6cbb"
      },
      "source": [
        "a = 100\n",
        "b = -200\n",
        "if a*b < 0: print(\"a y b tienen signo distinto\")"
      ],
      "execution_count": null,
      "outputs": [
        {
          "output_type": "stream",
          "text": [
            "a y b tienen signo distinto\n"
          ],
          "name": "stdout"
        }
      ]
    },
    {
      "cell_type": "code",
      "metadata": {
        "id": "2y7tYYIYA29-",
        "colab": {
          "base_uri": "https://localhost:8080/"
        },
        "outputId": "3832c456-29ab-45c8-baf6-32879e27a1fa"
      },
      "source": [
        "a = 100\n",
        "b = -200\n",
        "print(\"a y b tienen signo distinto\") if a*b < 0 else print(\"a y b tienen el mismo signo\")"
      ],
      "execution_count": null,
      "outputs": [
        {
          "output_type": "stream",
          "text": [
            "a y b tienen signo distinto\n"
          ],
          "name": "stdout"
        }
      ]
    },
    {
      "cell_type": "code",
      "metadata": {
        "id": "dAeDGJbRg-Qi",
        "colab": {
          "base_uri": "https://localhost:8080/",
          "height": 34
        },
        "outputId": "858c9a5b-7662-4d0a-e13a-61b257362d86"
      },
      "source": [
        "calificacion=6\n",
        "if calificacion>=6:\n",
        "  print(\"Aprobado\")\n",
        "else:\n",
        "  print(\"No aprobado\")"
      ],
      "execution_count": null,
      "outputs": [
        {
          "output_type": "stream",
          "text": [
            "Aprobado\n"
          ],
          "name": "stdout"
        }
      ]
    },
    {
      "cell_type": "code",
      "metadata": {
        "id": "dunYNu_C4woR",
        "colab": {
          "base_uri": "https://localhost:8080/"
        },
        "outputId": "c339b7ef-813a-4292-ea4a-4912d381a137"
      },
      "source": [
        "x=3\n",
        "\n",
        "if x<=2:\n",
        "  f=5\n",
        "elif x>2 and x<5:\n",
        "  f=x**2-6*x+10\n",
        "else:\n",
        "  f=4*x-15\n",
        "\n",
        "print(f)"
      ],
      "execution_count": null,
      "outputs": [
        {
          "output_type": "stream",
          "text": [
            "1\n"
          ],
          "name": "stdout"
        }
      ]
    },
    {
      "cell_type": "code",
      "metadata": {
        "id": "nczL4E0EBtwQ",
        "colab": {
          "base_uri": "https://localhost:8080/"
        },
        "outputId": "94581167-03dd-404f-86c9-0038b1cbdc28"
      },
      "source": [
        "x=3\n",
        "\n",
        "f=5 if x<=2 else x**2-6*x+10 if x>2 and x<5 else 4*x-15\n",
        "\n",
        "print(f)"
      ],
      "execution_count": null,
      "outputs": [
        {
          "output_type": "stream",
          "text": [
            "1\n"
          ],
          "name": "stdout"
        }
      ]
    },
    {
      "cell_type": "code",
      "metadata": {
        "id": "4fAeNC3liEpU",
        "colab": {
          "base_uri": "https://localhost:8080/",
          "height": 34
        },
        "outputId": "03f7e499-9ca6-473e-d88c-9c504dbc4c36"
      },
      "source": [
        "edad=20\n",
        "if edad>=60:\n",
        "  print(\"Adulto mayor\")\n",
        "elif edad>=18:\n",
        "  print(\"Adulto\")\n",
        "else:\n",
        "  print(\"Menor\")"
      ],
      "execution_count": null,
      "outputs": [
        {
          "output_type": "stream",
          "text": [
            "Adulto\n"
          ],
          "name": "stdout"
        }
      ]
    },
    {
      "cell_type": "code",
      "metadata": {
        "id": "4VZM147fiqNr",
        "colab": {
          "base_uri": "https://localhost:8080/",
          "height": 34
        },
        "outputId": "099895f6-f6fc-4764-b6f4-ad07464fdd30"
      },
      "source": [
        "a,b,c=-1,0,1\n",
        "\n",
        "if a>b and a>c:\n",
        "  print(a)\n",
        "\n",
        "if b>a and b>c:\n",
        "  print(b)\n",
        "\n",
        "if c>a and c>b:\n",
        "  print(c)"
      ],
      "execution_count": null,
      "outputs": [
        {
          "output_type": "stream",
          "text": [
            "1\n"
          ],
          "name": "stdout"
        }
      ]
    },
    {
      "cell_type": "markdown",
      "metadata": {
        "id": "td9OAzqTjZ92"
      },
      "source": [
        "varificar si x esta en el rango [-5,5]"
      ]
    },
    {
      "cell_type": "code",
      "metadata": {
        "id": "TpZUn4Zqjf40",
        "colab": {
          "base_uri": "https://localhost:8080/",
          "height": 34
        },
        "outputId": "3e7dcddd-4002-48bf-e254-78c6def20b00"
      },
      "source": [
        "x=0\n",
        "if x>=-5 and x<=5:\n",
        "  print(\"x se encuentra en el rango\")"
      ],
      "execution_count": null,
      "outputs": [
        {
          "output_type": "stream",
          "text": [
            "x se encuentra en el rango\n"
          ],
          "name": "stdout"
        }
      ]
    },
    {
      "cell_type": "markdown",
      "metadata": {
        "id": "Nb8mAz3tXz5o"
      },
      "source": [
        "Calcular el calor necesario para llevar 100g de Metanol de la temperatura $t_1$ a una temperatura $t_2$, considerar el calor sensible y calor latente.\n",
        "\n",
        "$$\n",
        "\\begin{array}{cr|cr|c}\n",
        "\\text{Q sensible}&\\text{Q latente fusión}&\\text{Q sensible}&\\text{Q latente ebullición}&\\text{Q sensible}\\\\\n",
        "\\hline\n",
        "Q=mCp\\Delta T&Q=\\lambda_f m &Q=mCp\\Delta T&Q=\\lambda_e m &Q=mCp\\Delta T\n",
        "\\end{array}\\\\\n",
        "Cp=1.37 J/g^{\\circ}C\\\\\n",
        "\\lambda_f=103 J/g\\\\\n",
        "\\lambda_e=1129 J/g\\\\\n",
        "m=100g\\\\\n",
        "T_f=-97.8^{\\circ}C\\\\\n",
        "T_e=64.7^{\\circ}C\n",
        "$$\n"
      ]
    },
    {
      "cell_type": "code",
      "metadata": {
        "id": "Z6RoCf16YHLO",
        "colab": {
          "base_uri": "https://localhost:8080/",
          "height": 35
        },
        "outputId": "38188257-cfba-46ad-f7c3-a6ab42a9e0b2"
      },
      "source": [
        "Cp=1.37\n",
        "Tf,Te=-97.8,64.7\n",
        "m=100\n",
        "Lf,Le=103,1129\n",
        "T1,T2=-100,100\n",
        "\n",
        "if T1<Tf and T2>Te:\n",
        "  Q=m*Cp*(Tf-T1)+Lf*m+m*Cp*(Te-Tf)+Le*m+m*Cp*(T2-Te)\n",
        "\n",
        "if T1<Tf and T2==Te:\n",
        "  Q=m*Cp*(Tf-T1)+Lf*m+m*Cp*(Te-Tf)+Le*m\n",
        "\n",
        "if T1<Tf and T2<Te:\n",
        "  Q=m*Cp*(Tf-T1)+Lf*m+m*Cp*(T2-Tf)\n",
        "\n",
        "if T1<Tf and T2==Tf:\n",
        "  Q=m*Cp*(Tf-T1)+Lf*m\n",
        "\n",
        "if T1<Tf and T2<Tf:\n",
        "  Q=m*Cp*(T2-T1)\n",
        "print(Q,'J')"
      ],
      "execution_count": null,
      "outputs": [
        {
          "output_type": "stream",
          "text": [
            "150600.0 J\n"
          ],
          "name": "stdout"
        }
      ]
    },
    {
      "cell_type": "markdown",
      "metadata": {
        "id": "EwSgVGiOj_sd"
      },
      "source": [
        "##Circuito de conteo `for`"
      ]
    },
    {
      "cell_type": "code",
      "metadata": {
        "id": "BOPoKHQyQaFJ",
        "colab": {
          "base_uri": "https://localhost:8080/"
        },
        "outputId": "e87b0af1-758f-4f69-932a-2ec28f61fd5a"
      },
      "source": [
        "range(5)"
      ],
      "execution_count": null,
      "outputs": [
        {
          "output_type": "execute_result",
          "data": {
            "text/plain": [
              "range(0, 5)"
            ]
          },
          "metadata": {
            "tags": []
          },
          "execution_count": 4
        }
      ]
    },
    {
      "cell_type": "code",
      "metadata": {
        "id": "KWQLTtUjWEsa",
        "colab": {
          "base_uri": "https://localhost:8080/"
        },
        "outputId": "5ee9cedd-6ff1-4ee1-c4a9-6f9f540a2c2f"
      },
      "source": [
        "for contador in range(1,6,2):\n",
        "  print(contador)"
      ],
      "execution_count": null,
      "outputs": [
        {
          "output_type": "stream",
          "text": [
            "1\n",
            "3\n",
            "5\n"
          ],
          "name": "stdout"
        }
      ]
    },
    {
      "cell_type": "code",
      "metadata": {
        "id": "9QZWPvT9juHw",
        "colab": {
          "base_uri": "https://localhost:8080/"
        },
        "outputId": "830f9169-8a12-43a9-cc7f-0e31fa861ddf"
      },
      "source": [
        "for contador in range(5,1,-1):\n",
        "  print(contador)"
      ],
      "execution_count": null,
      "outputs": [
        {
          "output_type": "stream",
          "text": [
            "5\n",
            "4\n",
            "3\n",
            "2\n"
          ],
          "name": "stdout"
        }
      ]
    },
    {
      "cell_type": "code",
      "metadata": {
        "id": "wKfLxQLBUntD",
        "colab": {
          "base_uri": "https://localhost:8080/"
        },
        "outputId": "f1cac517-bee2-4418-dc1d-5082a5fa2e69"
      },
      "source": [
        "from math import *\n",
        "s=0\n",
        "for n in range(1,6):\n",
        "  s+=1/n**2\n",
        "  #print(n)\n",
        "print(s)"
      ],
      "execution_count": null,
      "outputs": [
        {
          "output_type": "stream",
          "text": [
            "1.4636111111111112\n",
            "1.5707963267948966\n"
          ],
          "name": "stdout"
        }
      ]
    },
    {
      "cell_type": "code",
      "metadata": {
        "id": "pplbtaesmF3H",
        "colab": {
          "base_uri": "https://localhost:8080/"
        },
        "outputId": "b8b9a34b-6e73-4223-e8c0-dcbcc0389365"
      },
      "source": [
        "f1=0\n",
        "f2=1\n",
        "print(f1)\n",
        "for v in range(1,10):\n",
        "  print(f2)\n",
        "  f3=f1+f2\n",
        "  f1=f2\n",
        "  f2=f3\n"
      ],
      "execution_count": null,
      "outputs": [
        {
          "output_type": "stream",
          "text": [
            "0\n",
            "1\n",
            "1\n",
            "2\n",
            "3\n",
            "5\n",
            "8\n",
            "13\n",
            "21\n",
            "34\n"
          ],
          "name": "stdout"
        }
      ]
    },
    {
      "cell_type": "code",
      "metadata": {
        "id": "t-51raAQ-Q_1",
        "colab": {
          "base_uri": "https://localhost:8080/"
        },
        "outputId": "7815413d-a125-430d-aaf9-c9d7cb551b7c"
      },
      "source": [
        "for valor in (1,'hola',True,2-5j,3.1416):\n",
        "  print(valor)"
      ],
      "execution_count": null,
      "outputs": [
        {
          "output_type": "stream",
          "text": [
            "1\n",
            "hola\n",
            "True\n",
            "(2-5j)\n",
            "3.1416\n"
          ],
          "name": "stdout"
        }
      ]
    },
    {
      "cell_type": "code",
      "metadata": {
        "id": "hL00FBxX-nQC",
        "colab": {
          "base_uri": "https://localhost:8080/"
        },
        "outputId": "d261b6bd-82c4-400e-d87d-655cad3820eb"
      },
      "source": [
        "lista=[3,12.1,\"pato\",False]\n",
        "for v in lista:\n",
        "  print(v)"
      ],
      "execution_count": null,
      "outputs": [
        {
          "output_type": "stream",
          "text": [
            "3\n",
            "12.1\n",
            "pato\n",
            "False\n"
          ],
          "name": "stdout"
        }
      ]
    },
    {
      "cell_type": "code",
      "metadata": {
        "id": "fVeDh7kv-3WU",
        "colab": {
          "base_uri": "https://localhost:8080/"
        },
        "outputId": "e106806d-0ce6-456d-8a51-fcf2cb12741f"
      },
      "source": [
        "lista1=['rojo','blanco','amarillo']\n",
        "lista2=[10,20,30]\n",
        "\n",
        "for v in zip(lista1,lista2):\n",
        "  print(v[0],v[1])"
      ],
      "execution_count": null,
      "outputs": [
        {
          "output_type": "stream",
          "text": [
            "rojo 10\n",
            "blanco 20\n",
            "amarillo 30\n"
          ],
          "name": "stdout"
        }
      ]
    },
    {
      "cell_type": "code",
      "metadata": {
        "id": "AlWn3B-o_6GU",
        "colab": {
          "base_uri": "https://localhost:8080/"
        },
        "outputId": "6578340c-b68b-42b0-c169-bf95cb36e608"
      },
      "source": [
        "for color in lista1:\n",
        "  for valor in lista2:\n",
        "    print(color,valor)"
      ],
      "execution_count": null,
      "outputs": [
        {
          "output_type": "stream",
          "text": [
            "rojo 10\n",
            "rojo 20\n",
            "rojo 30\n",
            "blanco 10\n",
            "blanco 20\n",
            "blanco 30\n",
            "amarillo 10\n",
            "amarillo 20\n",
            "amarillo 30\n"
          ],
          "name": "stdout"
        }
      ]
    },
    {
      "cell_type": "markdown",
      "metadata": {
        "id": "eAEGvFCbkbxX"
      },
      "source": [
        "Sumar los valores aleatorios mayores a 0.5 y menores a 0.5"
      ]
    },
    {
      "cell_type": "code",
      "metadata": {
        "id": "jwteyM-nkOh7",
        "colab": {
          "base_uri": "https://localhost:8080/",
          "height": 51
        },
        "outputId": "5ee2a1f4-fbe6-436b-beea-9cc459eb5d08"
      },
      "source": [
        "import numpy as np\n",
        "\n",
        "mayores=menores=0\n",
        "for i in range(50):\n",
        "  valor=np.random.rand()\n",
        "  if valor>0.5:\n",
        "    mayores+=valor\n",
        "  if valor<0.5:\n",
        "    menores+=valor\n",
        "\n",
        "print(mayores)\n",
        "print(menores)"
      ],
      "execution_count": null,
      "outputs": [
        {
          "output_type": "stream",
          "text": [
            "21.38811277586318\n",
            "4.492662888279209\n"
          ],
          "name": "stdout"
        }
      ]
    },
    {
      "cell_type": "markdown",
      "metadata": {
        "id": "nWnM75yqndyI"
      },
      "source": [
        "##Circuitos condicionales `while`"
      ]
    },
    {
      "cell_type": "markdown",
      "metadata": {
        "id": "lAo4w5mKnwUt"
      },
      "source": [
        "sumar numeros aleatorios mientras la suma sea menor a 100"
      ]
    },
    {
      "cell_type": "code",
      "metadata": {
        "id": "KE9e2CEMnkTP",
        "colab": {
          "base_uri": "https://localhost:8080/",
          "height": 51
        },
        "outputId": "278012a9-2420-4219-a278-c90d37b5aa2e"
      },
      "source": [
        "suma=0\n",
        "contador=0\n",
        "while suma<100:\n",
        "  valor=np.random.rand()\n",
        "  suma+=valor\n",
        "  contador+=1\n",
        "\n",
        "print(suma)\n",
        "print(contador)"
      ],
      "execution_count": null,
      "outputs": [
        {
          "output_type": "stream",
          "text": [
            "100.8353478691573\n",
            "207\n"
          ],
          "name": "stdout"
        }
      ]
    },
    {
      "cell_type": "code",
      "metadata": {
        "id": "06OzEcKY0qpk",
        "colab": {
          "base_uri": "https://localhost:8080/"
        },
        "outputId": "65f54a32-73b5-4cf1-9c42-4da0ea885a5d"
      },
      "source": [
        "phi=1+1/1\n",
        "phi1=1+1/phi\n",
        "while abs(phi-phi1)>1e-18:\n",
        "  phi=phi1\n",
        "  phi1=1+1/phi\n",
        "\n",
        "print(phi)"
      ],
      "execution_count": null,
      "outputs": [
        {
          "output_type": "stream",
          "text": [
            "1.618033988749895\n"
          ],
          "name": "stdout"
        }
      ]
    },
    {
      "cell_type": "code",
      "metadata": {
        "id": "rmio2-5aoH63",
        "colab": {
          "base_uri": "https://localhost:8080/"
        },
        "outputId": "8049405c-cb3c-4708-e51e-85c8657939eb"
      },
      "source": [
        "from math import *\n",
        "s=0\n",
        "n=0\n",
        "while s<e:\n",
        "  s+=1/factorial(n)\n",
        "  n+=1\n",
        "\n",
        "print('s=',s)\n",
        "print('n=',n)\n",
        "print('e=',e)"
      ],
      "execution_count": null,
      "outputs": [
        {
          "output_type": "stream",
          "text": [
            "s= 2.7182818284590455\n",
            "n= 18\n",
            "e= 2.718281828459045\n"
          ],
          "name": "stdout"
        }
      ]
    },
    {
      "cell_type": "code",
      "metadata": {
        "colab": {
          "base_uri": "https://localhost:8080/"
        },
        "id": "xLWIN2MVfclb",
        "outputId": "49a10489-6a01-4ddd-99da-63af63ede14a"
      },
      "source": [
        "import random\n",
        "\n",
        "numero=random.randint(0,10)\n",
        "minumero=-1\n",
        "\n",
        "while numero!=minumero:\n",
        "  minumero=int(input('Adivina [0-10] '))\n",
        "  print(f'{\"estas arriba\" if minumero>numero else \"estas abajo\"}')\n",
        "print(f'Adivinaste es {numero}!!')"
      ],
      "execution_count": null,
      "outputs": [
        {
          "output_type": "stream",
          "text": [
            "Adivina [0-10] 5\n",
            "estas abajo\n",
            "Adivina [0-10] 6\n",
            "estas abajo\n",
            "Adivina [0-10] 7\n",
            "estas abajo\n",
            "Adivina [0-10] 8\n",
            "estas abajo\n",
            "Adivina [0-10] 9\n",
            "estas abajo\n",
            "Adivinaste es 9!!\n"
          ],
          "name": "stdout"
        }
      ]
    },
    {
      "cell_type": "code",
      "metadata": {
        "colab": {
          "base_uri": "https://localhost:8080/"
        },
        "id": "tk-tZ20vftjp",
        "outputId": "1a2e6a70-bc2d-44e3-ab96-c2f12bed7e02"
      },
      "source": [
        "import random\n",
        "\n",
        "numero=random.randint(0,20)\n",
        "intento=0\n",
        "\n",
        "while intento<5:\n",
        "  minumero=random.randint(0,20)\n",
        "  print(f'sera {minumero}?')\n",
        "  if numero==minumero:\n",
        "    print(f'adivine !! es {numero}')\n",
        "    break\n",
        "  intento+=1\n",
        "\n",
        "else:\n",
        "  print('No lo adivine :(')\n"
      ],
      "execution_count": 7,
      "outputs": [
        {
          "output_type": "stream",
          "text": [
            "sera 15?\n",
            "sera 17?\n",
            "sera 8?\n",
            "sera 2?\n",
            "sera 8?\n",
            "No lo adivine :(\n"
          ],
          "name": "stdout"
        }
      ]
    },
    {
      "cell_type": "code",
      "metadata": {
        "id": "UeHwH8hQO3KS",
        "colab": {
          "base_uri": "https://localhost:8080/"
        },
        "outputId": "65bae8c1-2863-4e54-8d78-c146a3597663"
      },
      "source": [
        "import random\n",
        "\n",
        "intentos=5\n",
        "numero=random.randint(0,20)\n",
        "\n",
        "for _ in range(intentos):\n",
        "  minumero=random.randint(0,20)\n",
        "  print(f'sera {minumero}?')\n",
        "  if numero==minumero:\n",
        "    print(f'adivine !! es {numero}')\n",
        "    break\n",
        "else:\n",
        "  print('No lo adivine :(')"
      ],
      "execution_count": 6,
      "outputs": [
        {
          "output_type": "stream",
          "text": [
            "sera 14?\n",
            "sera 2?\n",
            "sera 4?\n",
            "sera 3?\n",
            "sera 4?\n",
            "No lo adivine :(\n"
          ],
          "name": "stdout"
        }
      ]
    },
    {
      "cell_type": "code",
      "metadata": {
        "colab": {
          "base_uri": "https://localhost:8080/"
        },
        "id": "hV_QHpN2lZLA",
        "outputId": "9aed87c6-2ee1-41cc-a774-7202d923f258"
      },
      "source": [
        "import sys\n",
        "\n",
        "a=3.1416\n",
        "b=0\n",
        "\n",
        "try:\n",
        "  c=a/b\n",
        "  print(f'resultado {c}')\n",
        "except:\n",
        "  print(f'ocurrio un error {sys.exc_info()[0]} !!')"
      ],
      "execution_count": 20,
      "outputs": [
        {
          "output_type": "stream",
          "text": [
            "ocurrio un error <class 'ZeroDivisionError'> !!\n"
          ],
          "name": "stdout"
        }
      ]
    },
    {
      "cell_type": "code",
      "metadata": {
        "colab": {
          "base_uri": "https://localhost:8080/"
        },
        "id": "UzNVcezOt61y",
        "outputId": "a7417519-e121-4fb1-964d-c944772826ac"
      },
      "source": [
        "while True:\n",
        "    try:\n",
        "        x = int(input(\"introduzca un valor entero: \"))\n",
        "        assert(x>0),\"El valor debe ser positivo\"\n",
        "    except ValueError: #valida si el valor leido es numerico\n",
        "        print(\"Ups!  Ese no es un valor correcto.  Intente de nuevo...\")\n",
        "    except Exception as error: #valida el error generado por la condicion rise\n",
        "        print('Error de valor: '+repr(error))\n",
        "    else: #no se genero ninguna excepcion\n",
        "        print (f'Gracias, {x} es un valor correcto')\n",
        "        break #sale del ciclo while\n",
        "\n",
        "print(x)"
      ],
      "execution_count": 10,
      "outputs": [
        {
          "output_type": "stream",
          "text": [
            "introduzca un valor entero: qwe\n",
            "Ups!  Ese no es un valor correcto.  Intente de nuevo...\n",
            "introduzca un valor entero: 1.2\n",
            "Ups!  Ese no es un valor correcto.  Intente de nuevo...\n",
            "introduzca un valor entero: -1\n",
            "Error de valor: AssertionError('El valor debe ser positivo')\n",
            "introduzca un valor entero: 2\n",
            "Gracias, 2 es un valor correcto\n",
            "2\n"
          ],
          "name": "stdout"
        }
      ]
    }
  ]
}