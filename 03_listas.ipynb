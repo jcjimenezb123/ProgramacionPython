{
  "nbformat": 4,
  "nbformat_minor": 0,
  "metadata": {
    "colab": {
      "name": "03_listas.ipynb",
      "provenance": [],
      "collapsed_sections": [],
      "authorship_tag": "ABX9TyNKMB0nekiwOwYkgjw/ygeE",
      "include_colab_link": true
    },
    "kernelspec": {
      "name": "python3",
      "display_name": "Python 3"
    },
    "accelerator": "TPU"
  },
  "cells": [
    {
      "cell_type": "markdown",
      "metadata": {
        "id": "view-in-github",
        "colab_type": "text"
      },
      "source": [
        "<a href=\"https://colab.research.google.com/github/jcjimenezb123/ProgramacionPython/blob/master/03_listas.ipynb\" target=\"_parent\"><img src=\"https://colab.research.google.com/assets/colab-badge.svg\" alt=\"Open In Colab\"/></a>"
      ]
    },
    {
      "cell_type": "markdown",
      "metadata": {
        "id": "RtPUOxbzk4IG"
      },
      "source": [
        "#Colecciones\n",
        "Las son estructuras capaces de almacenar datos de distintos tipos y que permiten el acceso a una parte determinada de su información utilizando índices. \n",
        "\n",
        "Las listas, tuplas, diccionarios y conjuntos (set) son estructuras que permiten trabajar con colecciones de datos.\n",
        "\n",
        "* Una ***Lista*** es una colección de datos que contiene una secuencia de datos. Los datos o elementos de una lista deben ir separados con una coma y toda la colección entre corchetes. Se dice que una lista es una estructura mutable porque además de permitir el acceso a los elementos, pueden suprimirse o agregarse nuevos.\n",
        "* Una ***Tupla***  permite tener agrupados un conjunto inmutable de elementos, es decir, en una tupla no es posible agregar ni eliminar elementos.\n",
        "* Un ***Conjunto o `Set`*** es una lista de elementos donde ninguno de ellos está repetido. El acceso es a todo el conjunto, las operaciones que se aplican sobre conjuntos son: unión, diferencia y intersección.\n",
        "* Los ***Dictionarios*** son objetos que contienen una lista de parejas de elementos. De cada pareja tiene un elemento clave, que no puede repetirse, y, el otro elemento es un valor asociado. La clave que se utiliza para acceder al valor tiene que ser un dato inmutable como una cadena, mientras que el valor puede ser un número, una cadena, un valor lógico (True/False), una lista o una tupla. Los pares clave-valor están separados por dos puntos, las parejas por comas y todo el conjunto se encierra entre llaves."
      ]
    },
    {
      "cell_type": "markdown",
      "metadata": {
        "id": "7LTfqZ1vlE9r"
      },
      "source": [
        "##Listas"
      ]
    },
    {
      "cell_type": "markdown",
      "metadata": {
        "id": "cyxYtnFTlHS6"
      },
      "source": [
        "###Crear una lista"
      ]
    },
    {
      "cell_type": "code",
      "metadata": {
        "id": "yGc2C0mxnLHu"
      },
      "source": [
        "lista=[1,2,\"tres\",False]"
      ],
      "execution_count": null,
      "outputs": []
    },
    {
      "cell_type": "code",
      "source": [
        "print(type(lista))"
      ],
      "metadata": {
        "id": "TrqLsBnpEVJU",
        "outputId": "34e52efe-b799-4b7d-92ef-4f107b14b352",
        "colab": {
          "base_uri": "https://localhost:8080/"
        }
      },
      "execution_count": null,
      "outputs": [
        {
          "output_type": "stream",
          "name": "stdout",
          "text": [
            "<class 'list'>\n"
          ]
        }
      ]
    },
    {
      "cell_type": "code",
      "metadata": {
        "id": "g-o8N7HklC_p",
        "colab": {
          "base_uri": "https://localhost:8080/",
          "height": 34
        },
        "outputId": "a4bd260b-71ac-43ed-fcb8-35b8f65531bd"
      },
      "source": [
        "print(lista)"
      ],
      "execution_count": null,
      "outputs": [
        {
          "output_type": "stream",
          "text": [
            "[1, 2, 'tres', False]\n"
          ],
          "name": "stdout"
        }
      ]
    },
    {
      "cell_type": "code",
      "metadata": {
        "id": "1Vdz2ux_qXQS",
        "colab": {
          "base_uri": "https://localhost:8080/",
          "height": 34
        },
        "outputId": "51e03ef2-ed3d-4077-827e-11f2694209c5"
      },
      "source": [
        "lista2=list((3,2,1,\"cero\"))\n",
        "print(lista2)"
      ],
      "execution_count": null,
      "outputs": [
        {
          "output_type": "stream",
          "text": [
            "[3, 2, 1, 'cero']\n"
          ],
          "name": "stdout"
        }
      ]
    },
    {
      "cell_type": "markdown",
      "metadata": {
        "id": "dV4fpI-zmYG0"
      },
      "source": [
        "###Acceder valores"
      ]
    },
    {
      "cell_type": "code",
      "metadata": {
        "id": "BuJduqeglUZ_",
        "colab": {
          "base_uri": "https://localhost:8080/",
          "height": 34
        },
        "outputId": "2cb301b8-6083-4c92-e49b-2079a5775502"
      },
      "source": [
        "print(lista[2])"
      ],
      "execution_count": null,
      "outputs": [
        {
          "output_type": "stream",
          "text": [
            "tres\n"
          ],
          "name": "stdout"
        }
      ]
    },
    {
      "cell_type": "code",
      "metadata": {
        "id": "KZiCSNZplYAL",
        "colab": {
          "base_uri": "https://localhost:8080/",
          "height": 34
        },
        "outputId": "574ff1d1-78e8-4e63-db93-f6d15ede9fe8"
      },
      "source": [
        "print(lista[0])"
      ],
      "execution_count": null,
      "outputs": [
        {
          "output_type": "stream",
          "text": [
            "1\n"
          ],
          "name": "stdout"
        }
      ]
    },
    {
      "cell_type": "code",
      "metadata": {
        "id": "8NO_YajBlfg9",
        "colab": {
          "base_uri": "https://localhost:8080/",
          "height": 34
        },
        "outputId": "40a6ce36-fb2f-4b67-b72d-33b4aadc4675"
      },
      "source": [
        "print(lista[-1])"
      ],
      "execution_count": null,
      "outputs": [
        {
          "output_type": "stream",
          "text": [
            "False\n"
          ],
          "name": "stdout"
        }
      ]
    },
    {
      "cell_type": "code",
      "metadata": {
        "id": "xxIpgoVvlh9Y",
        "colab": {
          "base_uri": "https://localhost:8080/",
          "height": 34
        },
        "outputId": "8faec8c5-7b7f-44cc-d33f-b98cbfc7a3c0"
      },
      "source": [
        "print(lista[1:3])"
      ],
      "execution_count": null,
      "outputs": [
        {
          "output_type": "stream",
          "text": [
            "[2, 'tres']\n"
          ],
          "name": "stdout"
        }
      ]
    },
    {
      "cell_type": "code",
      "metadata": {
        "id": "_FuoOdallz6E",
        "colab": {
          "base_uri": "https://localhost:8080/",
          "height": 34
        },
        "outputId": "31cd2975-243c-4662-d894-08045173d217"
      },
      "source": [
        "print(lista[:2])"
      ],
      "execution_count": null,
      "outputs": [
        {
          "output_type": "stream",
          "text": [
            "[1, 2]\n"
          ],
          "name": "stdout"
        }
      ]
    },
    {
      "cell_type": "code",
      "metadata": {
        "id": "ECacaK4Dl_p4",
        "colab": {
          "base_uri": "https://localhost:8080/",
          "height": 34
        },
        "outputId": "279b2945-0e82-4431-b70a-c281b370cbf1"
      },
      "source": [
        "print(lista[2:])"
      ],
      "execution_count": null,
      "outputs": [
        {
          "output_type": "stream",
          "text": [
            "['tres', False]\n"
          ],
          "name": "stdout"
        }
      ]
    },
    {
      "cell_type": "code",
      "metadata": {
        "id": "mVhbxk_hmqCV",
        "colab": {
          "base_uri": "https://localhost:8080/",
          "height": 85
        },
        "outputId": "096089a9-e71d-4d20-bb39-709b935b37dd"
      },
      "source": [
        "for valor in lista:\n",
        "  print(valor)"
      ],
      "execution_count": null,
      "outputs": [
        {
          "output_type": "stream",
          "text": [
            "1\n",
            "2\n",
            "tres\n",
            "False\n"
          ],
          "name": "stdout"
        }
      ]
    },
    {
      "cell_type": "code",
      "metadata": {
        "id": "8_LbezE_m7Mv"
      },
      "source": [
        "if \"uno\" in lista:\n",
        "  print(\"Si existe\")"
      ],
      "execution_count": null,
      "outputs": []
    },
    {
      "cell_type": "code",
      "metadata": {
        "id": "BoQ1Swdkls6y",
        "colab": {
          "base_uri": "https://localhost:8080/",
          "height": 69
        },
        "outputId": "f74a42cb-ad39-40bc-85e0-d986a513ce87"
      },
      "source": [
        "preguntas=['name','favorite color','carrer']\n",
        "respuestas=['Juan Carlos','blue','engennier']\n",
        "for p,r in zip(preguntas,respuestas):\n",
        "  print(\"What's your {0}?. It's {1}\".format(p,r))"
      ],
      "execution_count": null,
      "outputs": [
        {
          "output_type": "stream",
          "text": [
            "What's your name?. It's Juan Carlos\n",
            "What's your favorite color?. It's blue\n",
            "What's your carrer?. It's engennier\n"
          ],
          "name": "stdout"
        }
      ]
    },
    {
      "cell_type": "markdown",
      "metadata": {
        "id": "tO-N5Xy_mTMO"
      },
      "source": [
        "###Cambiar valores"
      ]
    },
    {
      "cell_type": "code",
      "metadata": {
        "id": "04q_fLZumE71"
      },
      "source": [
        "lista[0]=\"uno\""
      ],
      "execution_count": null,
      "outputs": []
    },
    {
      "cell_type": "code",
      "metadata": {
        "id": "NFKK0E7Amgiz",
        "colab": {
          "base_uri": "https://localhost:8080/",
          "height": 34
        },
        "outputId": "710a33b7-6e67-4acc-b45a-11628085dd24"
      },
      "source": [
        "print(lista)"
      ],
      "execution_count": null,
      "outputs": [
        {
          "output_type": "stream",
          "text": [
            "['uno', 2, 'tres', False]\n"
          ],
          "name": "stdout"
        }
      ]
    },
    {
      "cell_type": "markdown",
      "metadata": {
        "id": "ZTA3lx21nJzX"
      },
      "source": [
        "###Adicionar valores"
      ]
    },
    {
      "cell_type": "code",
      "metadata": {
        "id": "btJPrlOMmiF5",
        "colab": {
          "base_uri": "https://localhost:8080/",
          "height": 34
        },
        "outputId": "e8899300-0b17-4d71-e53d-3b0ce2413d6c"
      },
      "source": [
        "lista.append(\"se adiciona al final\")\n",
        "print(lista)"
      ],
      "execution_count": null,
      "outputs": [
        {
          "output_type": "stream",
          "text": [
            "['uno', 2, 'tres', False, 'se adiciona al final']\n"
          ],
          "name": "stdout"
        }
      ]
    },
    {
      "cell_type": "code",
      "metadata": {
        "id": "RyhaUElDnU4s",
        "colab": {
          "base_uri": "https://localhost:8080/",
          "height": 34
        },
        "outputId": "863ff9e4-45d5-4503-a960-a3d9bb266d4e"
      },
      "source": [
        "lista.insert(4,\"Valor Insertado en la posicion 4\")\n",
        "print(lista)"
      ],
      "execution_count": null,
      "outputs": [
        {
          "output_type": "stream",
          "text": [
            "['uno', 2, 'tres', False, 'Valor Insertado en la posicion 4', 'se adiciona al final']\n"
          ],
          "name": "stdout"
        }
      ]
    },
    {
      "cell_type": "markdown",
      "metadata": {
        "id": "iomUYDb3q6hC"
      },
      "source": [
        "###Eliminar valores"
      ]
    },
    {
      "cell_type": "code",
      "metadata": {
        "id": "dAkmWF7rocH6",
        "colab": {
          "base_uri": "https://localhost:8080/",
          "height": 34
        },
        "outputId": "a819b2ac-788e-491c-a1d5-10cba7782064"
      },
      "source": [
        "lista.remove(\"uno\")\n",
        "print(lista)"
      ],
      "execution_count": null,
      "outputs": [
        {
          "output_type": "stream",
          "text": [
            "[2, 'tres', False, 'Valor Insertado en la posicion 4', 'se adiciona al final']\n"
          ],
          "name": "stdout"
        }
      ]
    },
    {
      "cell_type": "code",
      "metadata": {
        "id": "VvMkWwLBowcR",
        "colab": {
          "base_uri": "https://localhost:8080/",
          "height": 34
        },
        "outputId": "a4ddbceb-2af3-432e-cdbe-87b2e468379e"
      },
      "source": [
        "lista.pop(2)\n",
        "print(lista)"
      ],
      "execution_count": null,
      "outputs": [
        {
          "output_type": "stream",
          "text": [
            "[2, 'tres', 'Valor Insertado en la posicion 4', 'se adiciona al final']\n"
          ],
          "name": "stdout"
        }
      ]
    },
    {
      "cell_type": "code",
      "metadata": {
        "id": "vM-8BQxLo8Ja",
        "colab": {
          "base_uri": "https://localhost:8080/",
          "height": 34
        },
        "outputId": "a63c6947-d8c4-499a-a5b9-2d86b1c5cef3"
      },
      "source": [
        "del lista[0]\n",
        "print(lista)"
      ],
      "execution_count": null,
      "outputs": [
        {
          "output_type": "stream",
          "text": [
            "['tres', 'Valor Insertado en la posicion 4', 'se adiciona al final']\n"
          ],
          "name": "stdout"
        }
      ]
    },
    {
      "cell_type": "code",
      "metadata": {
        "id": "GGXbZAeYpFNg",
        "colab": {
          "base_uri": "https://localhost:8080/",
          "height": 34
        },
        "outputId": "fd5f1e11-e288-41a1-9fb0-537ce4947083"
      },
      "source": [
        "lista.clear()\n",
        "print(lista)"
      ],
      "execution_count": null,
      "outputs": [
        {
          "output_type": "stream",
          "text": [
            "[]\n"
          ],
          "name": "stdout"
        }
      ]
    },
    {
      "cell_type": "markdown",
      "metadata": {
        "id": "KTYOmW8SrCqU"
      },
      "source": [
        "###Copiar una lista"
      ]
    },
    {
      "cell_type": "code",
      "metadata": {
        "id": "pxtfS22wVrk5",
        "colab": {
          "base_uri": "https://localhost:8080/",
          "height": 52
        },
        "outputId": "9353d31f-233d-48a2-e2d5-dd24d8fe968f"
      },
      "source": [
        "a=[1,2,3]\n",
        "b=a\n",
        "b[0]=\"cambio\"\n",
        "print(a)\n",
        "print(b)"
      ],
      "execution_count": null,
      "outputs": [
        {
          "output_type": "stream",
          "text": [
            "['cambio', 2, 3]\n",
            "['cambio', 2, 3]\n"
          ],
          "name": "stdout"
        }
      ]
    },
    {
      "cell_type": "code",
      "metadata": {
        "id": "hECoebZMpNnP",
        "colab": {
          "base_uri": "https://localhost:8080/",
          "height": 52
        },
        "outputId": "3242c9cc-3fc6-4691-f096-e3769abf652f"
      },
      "source": [
        "a=[1,2,3]\n",
        "b=a.copy()\n",
        "b[0]=\"cambio\"\n",
        "print(a)\n",
        "print(b)"
      ],
      "execution_count": null,
      "outputs": [
        {
          "output_type": "stream",
          "text": [
            "[1, 2, 3]\n",
            "['cambio', 2, 3]\n"
          ],
          "name": "stdout"
        }
      ]
    },
    {
      "cell_type": "markdown",
      "metadata": {
        "id": "4n4MpWalrJR8"
      },
      "source": [
        "###Juntar dos listas"
      ]
    },
    {
      "cell_type": "code",
      "metadata": {
        "id": "XX9wswV7pacI",
        "colab": {
          "base_uri": "https://localhost:8080/",
          "height": 35
        },
        "outputId": "5faf88f4-572a-4a80-a1bb-12acd77f8293"
      },
      "source": [
        "juntas=a+b\n",
        "print(juntas)"
      ],
      "execution_count": null,
      "outputs": [
        {
          "output_type": "stream",
          "text": [
            "[1, 2, 3, 'cambio', 2, 3]\n"
          ],
          "name": "stdout"
        }
      ]
    },
    {
      "cell_type": "markdown",
      "metadata": {
        "id": "WyLkAPZYsg_m"
      },
      "source": [
        "###Ordenar"
      ]
    },
    {
      "cell_type": "code",
      "metadata": {
        "id": "3pR9L6kFpkfv",
        "colab": {
          "base_uri": "https://localhost:8080/",
          "height": 35
        },
        "outputId": "7930e7c3-c7d6-4638-c26a-b58b02758d91"
      },
      "source": [
        "lista=[3,2,1,-8,0,-2,2,2,2]\n",
        "lista.sort()\n",
        "print(lista)"
      ],
      "execution_count": null,
      "outputs": [
        {
          "output_type": "stream",
          "text": [
            "[-8, -2, 0, 1, 2, 2, 2, 2, 3]\n"
          ],
          "name": "stdout"
        }
      ]
    },
    {
      "cell_type": "markdown",
      "metadata": {
        "id": "X4vA5lLoslNQ"
      },
      "source": [
        "###Contar"
      ]
    },
    {
      "cell_type": "code",
      "metadata": {
        "id": "J_s_T_T4rndR",
        "colab": {
          "base_uri": "https://localhost:8080/",
          "height": 35
        },
        "outputId": "830b13aa-ab32-44ef-e4f5-a66bbaeae8fb"
      },
      "source": [
        "lista.count(2)"
      ],
      "execution_count": null,
      "outputs": [
        {
          "output_type": "execute_result",
          "data": {
            "text/plain": [
              "4"
            ]
          },
          "metadata": {
            "tags": []
          },
          "execution_count": 8
        }
      ]
    },
    {
      "cell_type": "markdown",
      "metadata": {
        "id": "zemEpQtC0xX-"
      },
      "source": [
        "###Procesamiento de elementos"
      ]
    },
    {
      "cell_type": "code",
      "metadata": {
        "id": "TMFvg2K-028o",
        "colab": {
          "base_uri": "https://localhost:8080/",
          "height": 35
        },
        "outputId": "7c211fd8-46ad-41c2-f29f-8cc2d86d252b"
      },
      "source": [
        "a=[-1,2,-3,1,3,-2,1,1]\n",
        "[0 if x<0 else x for x in a]"
      ],
      "execution_count": null,
      "outputs": [
        {
          "output_type": "execute_result",
          "data": {
            "text/plain": [
              "[0, 2, 0, 1, 3, 0, 1, 1]"
            ]
          },
          "metadata": {
            "tags": []
          },
          "execution_count": 3
        }
      ]
    },
    {
      "cell_type": "code",
      "metadata": {
        "id": "SwojWAKm63tZ",
        "colab": {
          "base_uri": "https://localhost:8080/",
          "height": 35
        },
        "outputId": "b55856c1-4e01-45ac-edf8-300a75380410"
      },
      "source": [
        "s=sum([x for x in a if x>0])\n",
        "print(s)"
      ],
      "execution_count": null,
      "outputs": [
        {
          "output_type": "stream",
          "text": [
            "8\n"
          ],
          "name": "stdout"
        }
      ]
    },
    {
      "cell_type": "code",
      "metadata": {
        "id": "zRKa6JqW7RN9",
        "colab": {
          "base_uri": "https://localhost:8080/",
          "height": 35
        },
        "outputId": "b01a6f40-1c0b-4c10-994d-9239ab3e46e7"
      },
      "source": [
        "s=sum([x for x in a if x<0])\n",
        "print(s)"
      ],
      "execution_count": null,
      "outputs": [
        {
          "output_type": "stream",
          "text": [
            "-6\n"
          ],
          "name": "stdout"
        }
      ]
    },
    {
      "cell_type": "code",
      "metadata": {
        "id": "ZmCtIe3K4F-V",
        "colab": {
          "base_uri": "https://localhost:8080/",
          "height": 52
        },
        "outputId": "edb35af0-8ae3-47ba-a3bb-9f99d75fe50a"
      },
      "source": [
        "x=[0,1,2,3,4,5]\n",
        "y=[equis**2 for equis in x]\n",
        "print(x)\n",
        "print(y)"
      ],
      "execution_count": null,
      "outputs": [
        {
          "output_type": "stream",
          "text": [
            "[0, 1, 2, 3, 4, 5]\n",
            "[0, 1, 4, 9, 16, 25]\n"
          ],
          "name": "stdout"
        }
      ]
    },
    {
      "cell_type": "code",
      "metadata": {
        "id": "hTbCji_WOWd9",
        "colab": {
          "base_uri": "https://localhost:8080/",
          "height": 35
        },
        "outputId": "367e1242-1c7c-4e02-9a3c-def05a98159a"
      },
      "source": [
        " [(x, y) for x in [1,2,3] for y in [3,1,4] if x!=y]"
      ],
      "execution_count": null,
      "outputs": [
        {
          "output_type": "execute_result",
          "data": {
            "text/plain": [
              "[(1, 3), (1, 4), (2, 3), (2, 1), (2, 4), (3, 1), (3, 4)]"
            ]
          },
          "metadata": {
            "tags": []
          },
          "execution_count": 11
        }
      ]
    },
    {
      "cell_type": "code",
      "metadata": {
        "id": "AfyuzXn1O1Hz",
        "colab": {
          "base_uri": "https://localhost:8080/",
          "height": 139
        },
        "outputId": "9aed3337-39f9-405a-aefd-bdd63fc1f574"
      },
      "source": [
        "[(pantalon, camisa) for pantalon in ['negro','beige','blanco'] for camisa in ['negro','blanco','azul'] if pantalon != camisa]"
      ],
      "execution_count": null,
      "outputs": [
        {
          "output_type": "execute_result",
          "data": {
            "text/plain": [
              "[('negro', 'blanco'),\n",
              " ('negro', 'azul'),\n",
              " ('beige', 'negro'),\n",
              " ('beige', 'blanco'),\n",
              " ('beige', 'azul'),\n",
              " ('blanco', 'negro'),\n",
              " ('blanco', 'azul')]"
            ]
          },
          "metadata": {
            "tags": []
          },
          "execution_count": 12
        }
      ]
    },
    {
      "cell_type": "markdown",
      "source": [
        "Cree una lista con los primeros 10 elementos químicos que contengan: Nombre del elemento, estado fisico, peso atómico (use una lista por cada concepto). Elimine los elementos gaseosos y liste los elementos restantes."
      ],
      "metadata": {
        "id": "HjjvlEp25G6e"
      }
    },
    {
      "cell_type": "code",
      "source": [
        ""
      ],
      "metadata": {
        "id": "LIuaHktf6Vn0"
      },
      "execution_count": null,
      "outputs": []
    },
    {
      "cell_type": "markdown",
      "metadata": {
        "id": "4m4J9e2Zuz3g"
      },
      "source": [
        "##Tupla"
      ]
    },
    {
      "cell_type": "markdown",
      "metadata": {
        "id": "_lFwGCtK5LDm"
      },
      "source": [
        "\n",
        "###Crear una tupla"
      ]
    },
    {
      "cell_type": "code",
      "metadata": {
        "colab": {
          "base_uri": "https://localhost:8080/"
        },
        "id": "mtLeFKjpf3HR",
        "outputId": "5e61ccfb-a654-46d1-a6a9-f435455fbcfc"
      },
      "source": [
        "import sys\n",
        "\n",
        "lista=[1,2,3,4,5,6,7,8,9,10]\n",
        "tupla=(1,2,3,4,5,6,7,8,9,10)\n",
        "print(sys.getsizeof(lista))\n",
        "print(sys.getsizeof(tupla))"
      ],
      "execution_count": null,
      "outputs": [
        {
          "output_type": "stream",
          "text": [
            "152\n",
            "136\n"
          ],
          "name": "stdout"
        }
      ]
    },
    {
      "cell_type": "code",
      "metadata": {
        "id": "PVnY2TqssGRM",
        "colab": {
          "base_uri": "https://localhost:8080/"
        },
        "outputId": "ba879ca8-4b28-45cb-e8bd-e142a834dfe7"
      },
      "source": [
        "tupla=(\"uno\",\"dos\",3,\"cuatro\")\n",
        "print(tupla)"
      ],
      "execution_count": null,
      "outputs": [
        {
          "output_type": "stream",
          "text": [
            "('uno', 'dos', 3, 'cuatro')\n"
          ],
          "name": "stdout"
        }
      ]
    },
    {
      "cell_type": "code",
      "metadata": {
        "id": "Q4rbdFS4vEb0",
        "colab": {
          "base_uri": "https://localhost:8080/",
          "height": 34
        },
        "outputId": "e481db57-26a1-46d2-a75b-715356cec0db"
      },
      "source": [
        "print(tupla[0])"
      ],
      "execution_count": null,
      "outputs": [
        {
          "output_type": "stream",
          "text": [
            "uno\n"
          ],
          "name": "stdout"
        }
      ]
    },
    {
      "cell_type": "code",
      "metadata": {
        "id": "8_ZOeJ0o3fgr",
        "colab": {
          "base_uri": "https://localhost:8080/",
          "height": 34
        },
        "outputId": "26df8030-2358-406a-dc3c-581363a050fb"
      },
      "source": [
        "print(tupla[-1])"
      ],
      "execution_count": null,
      "outputs": [
        {
          "output_type": "stream",
          "text": [
            "cuatro\n"
          ],
          "name": "stdout"
        }
      ]
    },
    {
      "cell_type": "code",
      "metadata": {
        "colab": {
          "base_uri": "https://localhost:8080/"
        },
        "id": "B4QJBUWEjzkG",
        "outputId": "79cd7201-1d67-4bc6-db2c-ba6ca3021e7f"
      },
      "source": [
        "a,b,c,d=tupla\n",
        "print(a,b,c,d)"
      ],
      "execution_count": null,
      "outputs": [
        {
          "output_type": "stream",
          "text": [
            "uno dos 3 cuatro\n"
          ],
          "name": "stdout"
        }
      ]
    },
    {
      "cell_type": "code",
      "metadata": {
        "id": "yNICtmvp3Zaf",
        "outputId": "bb9ef6f7-2d1a-4b64-c008-62de7b86480d",
        "colab": {
          "base_uri": "https://localhost:8080/"
        }
      },
      "source": [
        "lista=[1,2,3]\n",
        "a,b,c=lista\n",
        "print(a,b,c)"
      ],
      "execution_count": null,
      "outputs": [
        {
          "output_type": "stream",
          "text": [
            "1 2 3\n"
          ],
          "name": "stdout"
        }
      ]
    },
    {
      "cell_type": "code",
      "metadata": {
        "id": "6c9crvzm4-Ej",
        "colab": {
          "base_uri": "https://localhost:8080/",
          "height": 34
        },
        "outputId": "bfd8d981-08d2-4d24-c962-ab11bbd264f6"
      },
      "source": [
        "tupla2=tuple((1,2,3.1416))\n",
        "print(tupla2)"
      ],
      "execution_count": null,
      "outputs": [
        {
          "output_type": "stream",
          "text": [
            "(1, 2, 3.1416)\n"
          ],
          "name": "stdout"
        }
      ]
    },
    {
      "cell_type": "code",
      "metadata": {
        "colab": {
          "base_uri": "https://localhost:8080/"
        },
        "id": "e4ztimXFfeCh",
        "outputId": "98b23983-01c1-451c-ff61-ebbd10bcc5e9"
      },
      "source": [
        "tupla3=1,2,3,4,5\n",
        "print(tupla3)"
      ],
      "execution_count": null,
      "outputs": [
        {
          "output_type": "stream",
          "text": [
            "(1, 2, 3, 4, 5)\n"
          ],
          "name": "stdout"
        }
      ]
    },
    {
      "cell_type": "code",
      "metadata": {
        "id": "GD4GKHC4dS0e"
      },
      "source": [
        "import timeit"
      ],
      "execution_count": null,
      "outputs": []
    },
    {
      "cell_type": "code",
      "metadata": {
        "id": "iiSnsYx-dYAY"
      },
      "source": [
        "lista=timeit.timeit(stmt='[1,2,3,4,5]',number=1000000)\n",
        "tupla=timeit.timeit(stmt='(1,2,3,4,5)',number=1000000)"
      ],
      "execution_count": null,
      "outputs": []
    },
    {
      "cell_type": "code",
      "metadata": {
        "colab": {
          "base_uri": "https://localhost:8080/"
        },
        "id": "H5Ejdfntd99D",
        "outputId": "6bb4438d-d910-47ab-dd61-694272c36af2"
      },
      "source": [
        "print('tiempo lista ',lista)\n",
        "print('tiempo tupla ',tupla)"
      ],
      "execution_count": null,
      "outputs": [
        {
          "output_type": "stream",
          "text": [
            "tiempo lista  0.07830340199996044\n",
            "tiempo tupla  0.0140744770000083\n"
          ],
          "name": "stdout"
        }
      ]
    },
    {
      "cell_type": "code",
      "metadata": {
        "colab": {
          "base_uri": "https://localhost:8080/"
        },
        "id": "iglk8alQi_NA",
        "outputId": "18b534e5-cbaf-49d6-86a1-80c1a5ace0bc"
      },
      "source": [
        "tupla1elem=(1,)\n",
        "print(tupla1elem)"
      ],
      "execution_count": null,
      "outputs": [
        {
          "output_type": "stream",
          "text": [
            "(1,)\n"
          ],
          "name": "stdout"
        }
      ]
    },
    {
      "cell_type": "markdown",
      "metadata": {
        "id": "ZNSk1NtQ32C3"
      },
      "source": [
        "###Cómo modificar una tupla\n",
        "Una tupla no se puede modificar ni agregar elementos, lo que se hace es convertirla a una lista, modificar la lista y convertirla a tupla nuevamente"
      ]
    },
    {
      "cell_type": "code",
      "metadata": {
        "id": "y5BG_InB3jvt",
        "colab": {
          "base_uri": "https://localhost:8080/",
          "height": 34
        },
        "outputId": "554e2394-d34c-41dd-da97-3be01028eaa1"
      },
      "source": [
        "lista=list(tupla) #la tupla se convierte a lista\n",
        "lista[0]=1 #se modifica la lista\n",
        "tupla=tuple(lista) #la lista modificada se convierte a tupla\n",
        "print(tupla)"
      ],
      "execution_count": null,
      "outputs": [
        {
          "output_type": "stream",
          "text": [
            "(1, 'dos', 3, 'cuatro')\n"
          ],
          "name": "stdout"
        }
      ]
    },
    {
      "cell_type": "markdown",
      "metadata": {
        "id": "sT3XY9NQ5Qos"
      },
      "source": [
        "###Contar los elementos de una tupla"
      ]
    },
    {
      "cell_type": "code",
      "metadata": {
        "id": "d1BWAtmM4Mp4",
        "colab": {
          "base_uri": "https://localhost:8080/",
          "height": 34
        },
        "outputId": "80d50c39-1581-4381-d3cb-aa7b7e31480d"
      },
      "source": [
        "tupla.count(3)"
      ],
      "execution_count": null,
      "outputs": [
        {
          "output_type": "execute_result",
          "data": {
            "text/plain": [
              "1"
            ]
          },
          "metadata": {
            "tags": []
          },
          "execution_count": 65
        }
      ]
    },
    {
      "cell_type": "markdown",
      "source": [
        "Cree una tupla con los primeros 10 elementos químicos que contengan: Nombre del elemento, estado fisico, peso atómico (use una tupla por cada concepto). Elimine los elementos gaseosos y liste los elementos restantes."
      ],
      "metadata": {
        "id": "Qnflw47P7goi"
      }
    },
    {
      "cell_type": "code",
      "source": [
        ""
      ],
      "metadata": {
        "id": "jsA5812n7oxX"
      },
      "execution_count": null,
      "outputs": []
    },
    {
      "cell_type": "markdown",
      "metadata": {
        "id": "Pr86uhtR5vCA"
      },
      "source": [
        "##Conjuntos o `set`"
      ]
    },
    {
      "cell_type": "markdown",
      "metadata": {
        "id": "wNdLSwu550Gf"
      },
      "source": [
        "###Crear un `set`"
      ]
    },
    {
      "cell_type": "code",
      "metadata": {
        "id": "VgV_3erM4l6L",
        "colab": {
          "base_uri": "https://localhost:8080/",
          "height": 34
        },
        "outputId": "1c48a719-06a9-4c28-9e5f-75c164da72be"
      },
      "source": [
        "conjunto={1,2,3,\"cuatro\"}\n",
        "print(conjunto)"
      ],
      "execution_count": null,
      "outputs": [
        {
          "output_type": "stream",
          "text": [
            "{1, 2, 3, 'cuatro'}\n"
          ],
          "name": "stdout"
        }
      ]
    },
    {
      "cell_type": "code",
      "metadata": {
        "id": "XMeUfsHuA2ja",
        "colab": {
          "base_uri": "https://localhost:8080/",
          "height": 34
        },
        "outputId": "4ce36100-f13e-4601-e3da-5e194a290275"
      },
      "source": [
        "conjunto2={1,1,2,3,4}\n",
        "print(conjunto2)"
      ],
      "execution_count": null,
      "outputs": [
        {
          "output_type": "stream",
          "text": [
            "{1, 2, 3, 4}\n"
          ],
          "name": "stdout"
        }
      ]
    },
    {
      "cell_type": "code",
      "metadata": {
        "id": "yJdAiwMTCQqh",
        "colab": {
          "base_uri": "https://localhost:8080/",
          "height": 35
        },
        "outputId": "24d82cb5-470c-4301-ffb5-09f6000ab9a6"
      },
      "source": [
        "conjunto3=set((1,2,2,3,4,5))\n",
        "print(conjunto3)"
      ],
      "execution_count": null,
      "outputs": [
        {
          "output_type": "stream",
          "text": [
            "{1, 2, 3, 4, 5}\n"
          ],
          "name": "stdout"
        }
      ]
    },
    {
      "cell_type": "markdown",
      "metadata": {
        "id": "R3sLtT4m8rUy"
      },
      "source": [
        "###Acceder a los elementos de un conjunto"
      ]
    },
    {
      "cell_type": "code",
      "metadata": {
        "id": "zIe7-DWOLPVN",
        "colab": {
          "base_uri": "https://localhost:8080/",
          "height": 166
        },
        "outputId": "8ee63d4a-0643-4b14-8fdc-33f98ed60b49"
      },
      "source": [
        "conjunto3[0]"
      ],
      "execution_count": null,
      "outputs": [
        {
          "output_type": "error",
          "ename": "TypeError",
          "evalue": "ignored",
          "traceback": [
            "\u001b[0;31m---------------------------------------------------------------------------\u001b[0m",
            "\u001b[0;31mTypeError\u001b[0m                                 Traceback (most recent call last)",
            "\u001b[0;32m<ipython-input-2-4ae215906675>\u001b[0m in \u001b[0;36m<module>\u001b[0;34m()\u001b[0m\n\u001b[0;32m----> 1\u001b[0;31m \u001b[0mconjunto3\u001b[0m\u001b[0;34m[\u001b[0m\u001b[0;36m0\u001b[0m\u001b[0;34m]\u001b[0m\u001b[0;34m\u001b[0m\u001b[0;34m\u001b[0m\u001b[0m\n\u001b[0m",
            "\u001b[0;31mTypeError\u001b[0m: 'set' object does not support indexing"
          ]
        }
      ]
    },
    {
      "cell_type": "code",
      "metadata": {
        "id": "IorI42E-8POh",
        "colab": {
          "base_uri": "https://localhost:8080/",
          "height": 85
        },
        "outputId": "87c668c4-8dbf-4f73-db94-6106724c7c89"
      },
      "source": [
        "for valor in conjunto:\n",
        "  print(valor)"
      ],
      "execution_count": null,
      "outputs": [
        {
          "output_type": "stream",
          "text": [
            "1\n",
            "2\n",
            "3\n",
            "cuatro\n"
          ],
          "name": "stdout"
        }
      ]
    },
    {
      "cell_type": "code",
      "metadata": {
        "id": "1QFZKdg48aE2",
        "colab": {
          "base_uri": "https://localhost:8080/",
          "height": 34
        },
        "outputId": "a72814d2-bdb5-44d3-a6df-d4515fad9ed0"
      },
      "source": [
        "if \"cuatro\" in conjunto:\n",
        "  print(\"Existe en el conjunto\")"
      ],
      "execution_count": null,
      "outputs": [
        {
          "output_type": "stream",
          "text": [
            "Existe en el conjunto\n"
          ],
          "name": "stdout"
        }
      ]
    },
    {
      "cell_type": "markdown",
      "metadata": {
        "id": "Oflbes6UD--d"
      },
      "source": [
        "###Adicionar un elemento"
      ]
    },
    {
      "cell_type": "code",
      "metadata": {
        "id": "vC-zppjy89e0",
        "colab": {
          "base_uri": "https://localhost:8080/",
          "height": 34
        },
        "outputId": "796e7a6e-df15-473f-8614-3e1c811d918d"
      },
      "source": [
        "conjunto.add(5)\n",
        "print(conjunto)"
      ],
      "execution_count": null,
      "outputs": [
        {
          "output_type": "stream",
          "text": [
            "{1, 2, 3, 5, 'cuatro'}\n"
          ],
          "name": "stdout"
        }
      ]
    },
    {
      "cell_type": "markdown",
      "metadata": {
        "id": "4lbSHBzTEDgO"
      },
      "source": [
        "###Intersección"
      ]
    },
    {
      "cell_type": "code",
      "metadata": {
        "id": "rlUk8MEy-plL",
        "colab": {
          "base_uri": "https://localhost:8080/",
          "height": 35
        },
        "outputId": "46c24975-e9e2-425c-b6df-6fac1fb6373e"
      },
      "source": [
        "s1={1,2,3,4,5}\n",
        "s2={4,5,6,7}\n",
        "s1.intersection(s2)"
      ],
      "execution_count": null,
      "outputs": [
        {
          "output_type": "execute_result",
          "data": {
            "text/plain": [
              "{4, 5}"
            ]
          },
          "metadata": {
            "tags": []
          },
          "execution_count": 14
        }
      ]
    },
    {
      "cell_type": "code",
      "metadata": {
        "id": "xSi96UXgRkQo",
        "colab": {
          "base_uri": "https://localhost:8080/",
          "height": 35
        },
        "outputId": "b3e1bb5d-baea-48c0-e80f-c95046d8f662"
      },
      "source": [
        "s1&s2"
      ],
      "execution_count": null,
      "outputs": [
        {
          "output_type": "execute_result",
          "data": {
            "text/plain": [
              "{4, 5}"
            ]
          },
          "metadata": {
            "tags": []
          },
          "execution_count": 16
        }
      ]
    },
    {
      "cell_type": "markdown",
      "metadata": {
        "id": "REUkO7QnEJTB"
      },
      "source": [
        "###Diferencia"
      ]
    },
    {
      "cell_type": "code",
      "metadata": {
        "id": "W6RRlWhVDKKh",
        "colab": {
          "base_uri": "https://localhost:8080/",
          "height": 51
        },
        "outputId": "6fd8d23e-c5d2-437a-e143-f693e3cef838"
      },
      "source": [
        "print(s1.difference(s2))\n",
        "print(s1)"
      ],
      "execution_count": null,
      "outputs": [
        {
          "output_type": "stream",
          "text": [
            "{1, 2, 3}\n",
            "{1, 2, 3, 4, 5}\n"
          ],
          "name": "stdout"
        }
      ]
    },
    {
      "cell_type": "code",
      "metadata": {
        "id": "PABeEKrJRtwU",
        "colab": {
          "base_uri": "https://localhost:8080/",
          "height": 35
        },
        "outputId": "223da2b6-5748-43cb-9ced-5b7c1ef6bd9c"
      },
      "source": [
        "s1-s2"
      ],
      "execution_count": null,
      "outputs": [
        {
          "output_type": "execute_result",
          "data": {
            "text/plain": [
              "{1, 2, 3}"
            ]
          },
          "metadata": {
            "tags": []
          },
          "execution_count": 17
        }
      ]
    },
    {
      "cell_type": "markdown",
      "metadata": {
        "id": "9cAxEt-7EMXB"
      },
      "source": [
        "###Union"
      ]
    },
    {
      "cell_type": "code",
      "metadata": {
        "id": "jEgp3gd4DS7f",
        "colab": {
          "base_uri": "https://localhost:8080/",
          "height": 51
        },
        "outputId": "d8314402-17a8-41fa-f1a6-6f3b128d0426"
      },
      "source": [
        "print(s1.union(s2))\n",
        "print(s1)"
      ],
      "execution_count": null,
      "outputs": [
        {
          "output_type": "stream",
          "text": [
            "{1, 2, 3, 4, 5, 6, 7}\n",
            "{1, 2, 3, 4, 5}\n"
          ],
          "name": "stdout"
        }
      ]
    },
    {
      "cell_type": "code",
      "metadata": {
        "id": "t1KfsdWFR1Kx",
        "colab": {
          "base_uri": "https://localhost:8080/",
          "height": 35
        },
        "outputId": "4c3c66fd-f86a-4269-c279-d4551b5783ff"
      },
      "source": [
        "s1|s2"
      ],
      "execution_count": null,
      "outputs": [
        {
          "output_type": "execute_result",
          "data": {
            "text/plain": [
              "{1, 2, 3, 4, 5, 6, 7}"
            ]
          },
          "metadata": {
            "tags": []
          },
          "execution_count": 18
        }
      ]
    },
    {
      "cell_type": "code",
      "metadata": {
        "id": "HW2sjZCySEfW",
        "colab": {
          "base_uri": "https://localhost:8080/",
          "height": 35
        },
        "outputId": "914d14dd-5415-4a4a-9659-ff73913d64f9"
      },
      "source": [
        "s1^s2 #estan en s1 o en s2 pero no en ambos"
      ],
      "execution_count": null,
      "outputs": [
        {
          "output_type": "execute_result",
          "data": {
            "text/plain": [
              "{1, 2, 3, 6, 7}"
            ]
          },
          "metadata": {
            "tags": []
          },
          "execution_count": 19
        }
      ]
    },
    {
      "cell_type": "code",
      "metadata": {
        "id": "kRxr-orySTQk",
        "colab": {
          "base_uri": "https://localhost:8080/",
          "height": 35
        },
        "outputId": "0371457c-84e0-403d-ba5a-1da006a6c1a8"
      },
      "source": [
        "3^4 # 11 100 --> 111"
      ],
      "execution_count": null,
      "outputs": [
        {
          "output_type": "execute_result",
          "data": {
            "text/plain": [
              "7"
            ]
          },
          "metadata": {
            "tags": []
          },
          "execution_count": 22
        }
      ]
    },
    {
      "cell_type": "markdown",
      "metadata": {
        "id": "Ht7q8usCFLoW"
      },
      "source": [
        "###Actualiza diferencia"
      ]
    },
    {
      "cell_type": "code",
      "metadata": {
        "id": "CzfvHzvsDa7I",
        "colab": {
          "base_uri": "https://localhost:8080/",
          "height": 34
        },
        "outputId": "3040dad7-83ce-4688-8638-d895b16c797f"
      },
      "source": [
        "s1={1,2,3,4,5}\n",
        "s2={4,5,6,7}\n",
        "s1.difference_update(s2)\n",
        "print(s1)"
      ],
      "execution_count": null,
      "outputs": [
        {
          "output_type": "stream",
          "text": [
            "{1, 2, 3}\n"
          ],
          "name": "stdout"
        }
      ]
    },
    {
      "cell_type": "markdown",
      "metadata": {
        "id": "dL0jmW-3FGWC"
      },
      "source": [
        "###Actualiza intersección"
      ]
    },
    {
      "cell_type": "code",
      "metadata": {
        "id": "RdUlDbGLDr2-",
        "colab": {
          "base_uri": "https://localhost:8080/",
          "height": 34
        },
        "outputId": "c72c39c7-86a2-49d9-8bb3-5cbfb6c823cb"
      },
      "source": [
        "s1={1,2,3,4,5}\n",
        "s2={4,5,6,7}\n",
        "s1.intersection_update(s2)\n",
        "print(s1)"
      ],
      "execution_count": null,
      "outputs": [
        {
          "output_type": "stream",
          "text": [
            "{4, 5}\n"
          ],
          "name": "stdout"
        }
      ]
    },
    {
      "cell_type": "markdown",
      "metadata": {
        "id": "_XSbVNEqGFNc"
      },
      "source": [
        "###Actualiza unión"
      ]
    },
    {
      "cell_type": "code",
      "metadata": {
        "id": "PPMtAXQcGHiC",
        "colab": {
          "base_uri": "https://localhost:8080/",
          "height": 34
        },
        "outputId": "1c75194a-61f4-4697-f201-49e667f8abdd"
      },
      "source": [
        "s1={1,2,3,4,5}\n",
        "s2={4,5,6,7}\n",
        "s1.update(s2)\n",
        "print(s1)"
      ],
      "execution_count": null,
      "outputs": [
        {
          "output_type": "stream",
          "text": [
            "{1, 2, 3, 4, 5, 6, 7}\n"
          ],
          "name": "stdout"
        }
      ]
    },
    {
      "cell_type": "markdown",
      "source": [
        "Datos los siguientes conjuntos\n",
        "\n",
        "* primos={2,3,5,7}\n",
        "* uno={1}\n",
        "* cero={0}\n",
        "* naturales={1,2,3,4,5,6,7,8,9,10}\n",
        "\n",
        "Construya los conjuntos de los números compuestos y enteros positivos.\n",
        "\n",
        "Del siguiente conjunto diga los números que son:\n",
        "\n",
        "\n",
        "* Enteros\n",
        "* Primos\n",
        "* Compuestos\n",
        "* Fraccionarios\n",
        "* Negativos\n",
        "* Pares positivos\n",
        "\n",
        "misnumeros={-2,-1,0,1.68,2,3.1416,4,5,6,7,9,10}\n",
        "\n",
        "[clasificación de números](https://https://images.app.goo.gl/3ihxbp4vzaRT2VmA7)"
      ],
      "metadata": {
        "id": "BYtrfypS7vLh"
      }
    },
    {
      "cell_type": "code",
      "source": [
        ""
      ],
      "metadata": {
        "id": "C155BoTyGvTi"
      },
      "execution_count": null,
      "outputs": []
    },
    {
      "cell_type": "markdown",
      "metadata": {
        "id": "FW8Y54Z0Gs5P"
      },
      "source": [
        "##Diccionarios"
      ]
    },
    {
      "cell_type": "code",
      "metadata": {
        "id": "OmWVCyFCGMuz",
        "colab": {
          "base_uri": "https://localhost:8080/",
          "height": 55
        },
        "outputId": "ed39af76-a8f5-4294-85a0-1767ee13c7d1"
      },
      "source": [
        "molecula={\"nombre\":\"Agua\",\n",
        "      \"formula\":\"H2O\",\n",
        "      \"peso molecular\":18,\n",
        "      \"densidad\":1,\n",
        "      \"fusion\":0,\n",
        "      \"ebullicion\":100}\n",
        "print(molecula)"
      ],
      "execution_count": null,
      "outputs": [
        {
          "output_type": "stream",
          "text": [
            "{'nombre': 'Agua', 'formula': 'H2O', 'peso molecular': 18, 'densidad': 1, 'fusion': 0, 'ebullicion': 100}\n"
          ],
          "name": "stdout"
        }
      ]
    },
    {
      "cell_type": "code",
      "metadata": {
        "id": "ZC45GxsjaJkS",
        "colab": {
          "base_uri": "https://localhost:8080/",
          "height": 55
        },
        "outputId": "adeb9981-ab31-4f81-e069-38a94b20936c"
      },
      "source": [
        "molecula=dict(nombre=\"Agua\",\n",
        "      formula=\"H2O\",\n",
        "      peso_molecular=18,\n",
        "      densidad=1,\n",
        "      fusion=0,\n",
        "      ebullicion=100)\n",
        "print(molecula)"
      ],
      "execution_count": null,
      "outputs": [
        {
          "output_type": "stream",
          "text": [
            "{'nombre': 'Agua', 'formula': 'H2O', 'peso_molecular': 18, 'densidad': 1, 'fusion': 0, 'ebullicion': 100}\n"
          ],
          "name": "stdout"
        }
      ]
    },
    {
      "cell_type": "code",
      "metadata": {
        "id": "HJFusFfva0AZ",
        "colab": {
          "base_uri": "https://localhost:8080/",
          "height": 55
        },
        "outputId": "c85b5ab4-c73b-4b22-956a-ec138096eaaa"
      },
      "source": [
        "molecula=dict([(\"nombre\",\"Agua\"),\n",
        "      (\"formula\",\"H2O\"),\n",
        "      (\"peso molecular\",18),\n",
        "      (\"densidad\",1),\n",
        "      (\"fusion\",0),\n",
        "      (\"ebullicion\",100)])\n",
        "print(molecula)"
      ],
      "execution_count": null,
      "outputs": [
        {
          "output_type": "stream",
          "text": [
            "{'nombre': 'Agua', 'formula': 'H2O', 'peso molecular': 18, 'densidad': 1, 'fusion': 0, 'ebullicion': 100}\n"
          ],
          "name": "stdout"
        }
      ]
    },
    {
      "cell_type": "markdown",
      "metadata": {
        "id": "sQyhiUQgH9ab"
      },
      "source": [
        "###Acceder a los datos"
      ]
    },
    {
      "cell_type": "code",
      "metadata": {
        "id": "T7pLlc1FHWIN",
        "colab": {
          "base_uri": "https://localhost:8080/",
          "height": 35
        },
        "outputId": "f109921f-2c04-4842-ce53-9e320e2178f0"
      },
      "source": [
        "print(molecula[\"formula\"])"
      ],
      "execution_count": null,
      "outputs": [
        {
          "output_type": "stream",
          "text": [
            "H2O\n"
          ],
          "name": "stdout"
        }
      ]
    },
    {
      "cell_type": "code",
      "metadata": {
        "id": "culGJ5zZHctu",
        "colab": {
          "base_uri": "https://localhost:8080/",
          "height": 35
        },
        "outputId": "fb7ce441-0d0f-4dfd-ac06-f12e69f1e7e7"
      },
      "source": [
        "molecula.get(\"formula\")"
      ],
      "execution_count": null,
      "outputs": [
        {
          "output_type": "execute_result",
          "data": {
            "application/vnd.google.colaboratory.intrinsic+json": {
              "type": "string"
            },
            "text/plain": [
              "'H2O'"
            ]
          },
          "metadata": {
            "tags": []
          },
          "execution_count": 30
        }
      ]
    },
    {
      "cell_type": "markdown",
      "metadata": {
        "id": "l-Ihd-nJJfPj"
      },
      "source": [
        "###Cambiar valores"
      ]
    },
    {
      "cell_type": "code",
      "metadata": {
        "id": "OUmBu0FaHmts",
        "colab": {
          "base_uri": "https://localhost:8080/",
          "height": 55
        },
        "outputId": "d6a5cf8a-0c8f-4c74-e75a-00444874630b"
      },
      "source": [
        "molecula[\"ebullicion\"]=99.9\n",
        "print(molecula)"
      ],
      "execution_count": null,
      "outputs": [
        {
          "output_type": "stream",
          "text": [
            "{'nombre': 'Agua', 'formula': 'H2O', 'peso molecular': 18, 'densidad': 1, 'fusion': 0, 'ebullicion': 99.9}\n"
          ],
          "name": "stdout"
        }
      ]
    },
    {
      "cell_type": "markdown",
      "metadata": {
        "id": "YWtZDXciJjF5"
      },
      "source": [
        "###Agregar elementos"
      ]
    },
    {
      "cell_type": "code",
      "metadata": {
        "id": "kf3AZw4AIWUh",
        "colab": {
          "base_uri": "https://localhost:8080/",
          "height": 55
        },
        "outputId": "84ac2286-c9ea-4c51-f7c4-1147b9e62172"
      },
      "source": [
        "molecula[\"color\"]=\"incolora\"\n",
        "print(molecula)"
      ],
      "execution_count": null,
      "outputs": [
        {
          "output_type": "stream",
          "text": [
            "{'nombre': 'Agua', 'formula': 'H2O', 'peso molecular': 18, 'densidad': 1, 'fusion': 0, 'ebullicion': 99.9, 'color': 'incolora'}\n"
          ],
          "name": "stdout"
        }
      ]
    },
    {
      "cell_type": "code",
      "metadata": {
        "id": "6IWmIT5pJY7Y",
        "colab": {
          "base_uri": "https://localhost:8080/",
          "height": 55
        },
        "outputId": "97b83f16-0bce-4cbf-db06-09a775d24459"
      },
      "source": [
        "molecula.pop(\"color\")\n",
        "print(molecula)"
      ],
      "execution_count": null,
      "outputs": [
        {
          "output_type": "stream",
          "text": [
            "{'nombre': 'Agua', 'formula': 'H2O', 'peso molecular': 18, 'densidad': 1, 'fusion': 0, 'ebullicion': 99.9}\n"
          ],
          "name": "stdout"
        }
      ]
    },
    {
      "cell_type": "code",
      "metadata": {
        "id": "UFRBKDZuRZsS",
        "colab": {
          "base_uri": "https://localhost:8080/"
        },
        "outputId": "a4e353d5-fd62-42b9-9649-461b58f3a040"
      },
      "source": [
        "campo=['nombre','cargo','sueldo']\n",
        "valor=['Pedro Rojas','Ingeniero',1000]\n",
        "dic=dict(zip(campo,valor))\n",
        "dic"
      ],
      "execution_count": null,
      "outputs": [
        {
          "output_type": "execute_result",
          "data": {
            "text/plain": [
              "{'cargo': 'Ingeniero', 'nombre': 'Pedro Rojas', 'sueldo': 1000}"
            ]
          },
          "metadata": {
            "tags": []
          },
          "execution_count": 1
        }
      ]
    },
    {
      "cell_type": "code",
      "metadata": {
        "id": "GiK6eXwmJ7ug",
        "colab": {
          "base_uri": "https://localhost:8080/"
        },
        "outputId": "ba29cade-95e9-4436-ca01-13d7b8f92097"
      },
      "source": [
        "precios={\"AgCl\":2.1,\"NaCl\":0.5,\"KCl\":1.8}\n",
        "precios2={key:value*1.5 if value>1.5 else value for (key,value) in precios.items()}\n",
        "print(precios2)"
      ],
      "execution_count": null,
      "outputs": [
        {
          "output_type": "stream",
          "text": [
            "{'AgCl': 3.1500000000000004, 'NaCl': 0.5, 'KCl': 2.7}\n"
          ],
          "name": "stdout"
        }
      ]
    },
    {
      "cell_type": "markdown",
      "source": [
        "Crear un diccionario para los reactivos y productos de la siguiente reaccion quimica, la llave debe ser la ecuacion de la molecula y como valor su coeficiente estequimetrico\n",
        "\n",
        "$2H_2+O_2\\rightarrow 2H_2O$"
      ],
      "metadata": {
        "id": "6tZ4PyK9SWYH"
      }
    },
    {
      "cell_type": "code",
      "metadata": {
        "id": "bAaCoK12Z0HI"
      },
      "source": [
        ""
      ],
      "execution_count": null,
      "outputs": []
    }
  ]
}