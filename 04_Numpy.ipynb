{
  "nbformat": 4,
  "nbformat_minor": 0,
  "metadata": {
    "colab": {
      "name": "04_Numpy.ipynb",
      "provenance": [],
      "collapsed_sections": [],
      "include_colab_link": true
    },
    "kernelspec": {
      "name": "python3",
      "display_name": "Python 3"
    }
  },
  "cells": [
    {
      "cell_type": "markdown",
      "metadata": {
        "id": "view-in-github",
        "colab_type": "text"
      },
      "source": [
        "<a href=\"https://colab.research.google.com/github/jcjimenezb123/ProgramacionPython/blob/master/04_Numpy.ipynb\" target=\"_parent\"><img src=\"https://colab.research.google.com/assets/colab-badge.svg\" alt=\"Open In Colab\"/></a>"
      ]
    },
    {
      "cell_type": "markdown",
      "metadata": {
        "id": "E9mvKPXbhSgO"
      },
      "source": [
        "#Numpy\n",
        "\n",
        "**Numpy** es una biblioteca de Python específica para trabajar con arreglos, también tiene funciones de álgebral lineal, transformadas de Fourier y operaciones con matrices.\n",
        "\n",
        "NumPy fue creado en 2005 por Travis Oliphant. Es un proyecto de código abierto que se puede usar libremente.\n",
        "\n",
        "NumPy es un estándar para Python numérico.\n",
        "\n",
        "Las operaciones con listas en Python son muy lentas, el objetivo de numpy es proveer de objetos mucho más rápidos.\n",
        "\n",
        "NumPy almacena los arreglos en lugares continuos dentro de la memoria a diferencia de las listas, por lo tanto pueden ser accesadas y manipuladas de manera más eficiente.\n",
        "\n",
        "NumPy está escrito parcialment en Python pero las partes que requieren su manipulación rápida está escrita en C y C++.\n",
        "\n",
        "Para hacer uso de numpy primero se debe instalar y luego importar al ambiente de trabajo."
      ]
    },
    {
      "cell_type": "code",
      "source": [
        "import numpy as np\n",
        "\n",
        "a=np.array([1,2,3])\n",
        "a"
      ],
      "metadata": {
        "colab": {
          "base_uri": "https://localhost:8080/"
        },
        "id": "ZLNYbFvl_vgn",
        "outputId": "b9d7c7ab-ca34-4a03-98cd-e56044bb542d"
      },
      "execution_count": 2,
      "outputs": [
        {
          "output_type": "execute_result",
          "data": {
            "text/plain": [
              "array([1, 2, 3])"
            ]
          },
          "metadata": {},
          "execution_count": 2
        }
      ]
    },
    {
      "cell_type": "code",
      "metadata": {
        "id": "egDcto3W96QN",
        "colab": {
          "base_uri": "https://localhost:8080/"
        },
        "outputId": "4dfdad48-7649-42d9-9523-ff7ed9d5a864"
      },
      "source": [
        "lista=list(range(10000000))\n",
        "%timeit sum(lista)"
      ],
      "execution_count": null,
      "outputs": [
        {
          "output_type": "stream",
          "text": [
            "10 loops, best of 3: 53.3 ms per loop\n"
          ],
          "name": "stdout"
        }
      ]
    },
    {
      "cell_type": "code",
      "metadata": {
        "id": "1yjY7GV7-PtH",
        "colab": {
          "base_uri": "https://localhost:8080/"
        },
        "outputId": "4cb43ee1-4f10-43e3-8862-6edf1e017064"
      },
      "source": [
        "import numpy as np\n",
        "vector=np.array(lista)\n",
        "%timeit np.sum(vector)"
      ],
      "execution_count": null,
      "outputs": [
        {
          "output_type": "stream",
          "text": [
            "100 loops, best of 3: 9.66 ms per loop\n"
          ],
          "name": "stdout"
        }
      ]
    },
    {
      "cell_type": "code",
      "metadata": {
        "id": "m43Ov0UX8-xp",
        "colab": {
          "base_uri": "https://localhost:8080/"
        },
        "outputId": "305f7199-c57a-44ce-d673-2ffc7e5c4f06"
      },
      "source": [
        "a=[1,2,3,4]\n",
        "b=[10,11,12,13]\n",
        "a+b"
      ],
      "execution_count": 25,
      "outputs": [
        {
          "output_type": "execute_result",
          "data": {
            "text/plain": [
              "[1, 2, 3, 4, 10, 11, 12, 13]"
            ]
          },
          "metadata": {},
          "execution_count": 25
        }
      ]
    },
    {
      "cell_type": "code",
      "metadata": {
        "id": "LaVsRFdy8-k1",
        "colab": {
          "base_uri": "https://localhost:8080/"
        },
        "outputId": "27f11343-ec2f-4db3-e98f-e3928b3dade5"
      },
      "source": [
        "suma=[]\n",
        "for dato1,dato2 in zip(a,b):\n",
        "  suma.append(dato1+dato2)\n",
        "print(suma)"
      ],
      "execution_count": null,
      "outputs": [
        {
          "output_type": "stream",
          "text": [
            "[11, 13, 15, 17]\n"
          ],
          "name": "stdout"
        }
      ]
    },
    {
      "cell_type": "code",
      "metadata": {
        "id": "VEk9ddC2mw3m",
        "colab": {
          "base_uri": "https://localhost:8080/"
        },
        "outputId": "b91602c7-9cf4-4f53-e06f-82d539956dd6"
      },
      "source": [
        "x=np.array(a)\n",
        "y=np.array(b)\n",
        "print(x+y)\n",
        "print(x-y)\n",
        "print(x*y)\n",
        "print(x@y)"
      ],
      "execution_count": 29,
      "outputs": [
        {
          "output_type": "stream",
          "name": "stdout",
          "text": [
            "[11 13 15 17]\n",
            "[-9 -9 -9 -9]\n",
            "[10 22 36 52]\n",
            "120\n"
          ]
        }
      ]
    },
    {
      "cell_type": "code",
      "metadata": {
        "id": "xOINPrJHn6SH",
        "colab": {
          "base_uri": "https://localhost:8080/"
        },
        "outputId": "ade115a5-0b25-47c4-e2c9-b18aeb9b0f56"
      },
      "source": [
        "a = np.array(1)\n",
        "b = np.array([1, 2, 3, 4, 5])\n",
        "c = np.array([[1, 2, 3], [4, 5, 6]])\n",
        "d = np.array([[[1, 2, 3], [4, 5, 6]], [[1, 2, 3], [4, 5, 6]]])\n",
        "\n",
        "print(a.ndim)\n",
        "print(b.ndim)\n",
        "print(c.ndim)\n",
        "print(d.ndim)"
      ],
      "execution_count": null,
      "outputs": [
        {
          "output_type": "stream",
          "text": [
            "0\n",
            "1\n",
            "2\n",
            "3\n"
          ],
          "name": "stdout"
        }
      ]
    },
    {
      "cell_type": "code",
      "metadata": {
        "id": "X57pMgjroOBW",
        "colab": {
          "base_uri": "https://localhost:8080/"
        },
        "outputId": "d4844e58-39a7-4755-ce4f-9b2faa0fe2ad"
      },
      "source": [
        "e = np.array([1, 2, 3, 4], ndmin=5)\n",
        "\n",
        "print(e)\n",
        "print('number of dimensions :', e.ndim)"
      ],
      "execution_count": null,
      "outputs": [
        {
          "output_type": "stream",
          "text": [
            "[[[[[1 2 3 4]]]]]\n",
            "number of dimensions : 5\n"
          ],
          "name": "stdout"
        }
      ]
    },
    {
      "cell_type": "code",
      "metadata": {
        "id": "WkAmy31PqyNk",
        "colab": {
          "base_uri": "https://localhost:8080/"
        },
        "outputId": "3fa0761d-53ae-46cb-e12b-3a3ae78e5247"
      },
      "source": [
        "x=np.array([1,2,3,4,-5,-6,-7,-8])\n",
        "print(x)"
      ],
      "execution_count": 2,
      "outputs": [
        {
          "output_type": "stream",
          "name": "stdout",
          "text": [
            "[ 1  2  3  4 -5 -6 -7 -8]\n"
          ]
        }
      ]
    },
    {
      "cell_type": "code",
      "metadata": {
        "id": "GIJ6RAQkq-hz",
        "colab": {
          "base_uri": "https://localhost:8080/"
        },
        "outputId": "20f490d6-8e25-43ed-e35d-093d83ac453b"
      },
      "source": [
        "print('tipo de dato',x.dtype)\n",
        "print('forma ',x.shape)\n",
        "print('tamano ',x.size)\n",
        "print('dimensiones ',x.ndim)\n",
        "print('tamano de cada elemento ',x.itemsize)\n",
        "print('memoria usada ',x.nbytes)"
      ],
      "execution_count": 3,
      "outputs": [
        {
          "output_type": "stream",
          "name": "stdout",
          "text": [
            "tipo de dato int64\n",
            "forma  (8,)\n",
            "tamano  8\n",
            "dimensiones  1\n",
            "tamano de cada elemento  8\n",
            "memoria usada  64\n"
          ]
        }
      ]
    },
    {
      "cell_type": "code",
      "metadata": {
        "id": "-Vw-2xMXq6SU",
        "colab": {
          "base_uri": "https://localhost:8080/",
          "height": 35
        },
        "outputId": "5b44fb3a-1847-4c6b-9d1d-22a4082263f0"
      },
      "source": [
        "print(x[0])"
      ],
      "execution_count": null,
      "outputs": [
        {
          "output_type": "stream",
          "text": [
            "1\n"
          ],
          "name": "stdout"
        }
      ]
    },
    {
      "cell_type": "code",
      "metadata": {
        "id": "3kiv8dTmrFZG",
        "colab": {
          "base_uri": "https://localhost:8080/",
          "height": 35
        },
        "outputId": "02083c1f-272e-4c5e-f17a-bae12c4f3410"
      },
      "source": [
        "print(x[1])"
      ],
      "execution_count": null,
      "outputs": [
        {
          "output_type": "stream",
          "text": [
            "2\n"
          ],
          "name": "stdout"
        }
      ]
    },
    {
      "cell_type": "code",
      "metadata": {
        "id": "1_dNAQPYrKsQ",
        "colab": {
          "base_uri": "https://localhost:8080/",
          "height": 35
        },
        "outputId": "5021bb0e-7ae6-4096-e8fb-590feb038c7c"
      },
      "source": [
        "print(x.__getitem__(1))"
      ],
      "execution_count": null,
      "outputs": [
        {
          "output_type": "stream",
          "text": [
            "2\n"
          ],
          "name": "stdout"
        }
      ]
    },
    {
      "cell_type": "code",
      "metadata": {
        "id": "GUg5N5p099Js",
        "colab": {
          "base_uri": "https://localhost:8080/",
          "height": 35
        },
        "outputId": "7a5ac8c4-fb84-415a-bd08-197bf1594fd6"
      },
      "source": [
        "print(x[-1])"
      ],
      "execution_count": null,
      "outputs": [
        {
          "output_type": "stream",
          "text": [
            "-8\n"
          ],
          "name": "stdout"
        }
      ]
    },
    {
      "cell_type": "code",
      "metadata": {
        "id": "YWfXieEY-Hlt",
        "colab": {
          "base_uri": "https://localhost:8080/",
          "height": 35
        },
        "outputId": "f07f56d3-e775-496f-bea0-0cc541d17f4f"
      },
      "source": [
        "print(x[-2])"
      ],
      "execution_count": null,
      "outputs": [
        {
          "output_type": "stream",
          "text": [
            "-7\n"
          ],
          "name": "stdout"
        }
      ]
    },
    {
      "cell_type": "code",
      "metadata": {
        "id": "_3LYJULg-QV5",
        "colab": {
          "base_uri": "https://localhost:8080/",
          "height": 35
        },
        "outputId": "5c60238a-8828-4332-a058-70d9dbe4f34f"
      },
      "source": [
        "print(x[-2:])"
      ],
      "execution_count": null,
      "outputs": [
        {
          "output_type": "stream",
          "text": [
            "[-7 -8]\n"
          ],
          "name": "stdout"
        }
      ]
    },
    {
      "cell_type": "code",
      "metadata": {
        "id": "Dv2GOuBu-V3c",
        "colab": {
          "base_uri": "https://localhost:8080/",
          "height": 35
        },
        "outputId": "46c2296a-a74a-4499-f745-44c853c541f3"
      },
      "source": [
        "print(x[1:3])"
      ],
      "execution_count": null,
      "outputs": [
        {
          "output_type": "stream",
          "text": [
            "[2 3]\n"
          ],
          "name": "stdout"
        }
      ]
    },
    {
      "cell_type": "code",
      "metadata": {
        "id": "V7GClm5C-eEX",
        "colab": {
          "base_uri": "https://localhost:8080/",
          "height": 35
        },
        "outputId": "1d95801e-00e8-498e-e287-63d6e7f24f93"
      },
      "source": [
        "print(x[:3])"
      ],
      "execution_count": null,
      "outputs": [
        {
          "output_type": "stream",
          "text": [
            "[1 2 3]\n"
          ],
          "name": "stdout"
        }
      ]
    },
    {
      "cell_type": "code",
      "metadata": {
        "id": "TWWpsNxtrPG5",
        "colab": {
          "base_uri": "https://localhost:8080/",
          "height": 35
        },
        "outputId": "3da10d38-a907-435e-e344-8b95b96cf3cd"
      },
      "source": [
        "x[0]=3.1416\n",
        "print(x)"
      ],
      "execution_count": null,
      "outputs": [
        {
          "output_type": "stream",
          "text": [
            "[ 3  2  3  4 -5 -6 -7 -8]\n"
          ],
          "name": "stdout"
        }
      ]
    },
    {
      "cell_type": "code",
      "metadata": {
        "id": "JvqymrKPz2pN",
        "colab": {
          "base_uri": "https://localhost:8080/"
        },
        "outputId": "23216597-e7c9-4d86-dc16-c4d6043896f9"
      },
      "source": [
        "x=np.array([0 if valor<0 else valor for valor in x ])\n",
        "print(x)"
      ],
      "execution_count": 6,
      "outputs": [
        {
          "output_type": "stream",
          "name": "stdout",
          "text": [
            "[1 2 3 4 0 0 0 0]\n"
          ]
        }
      ]
    },
    {
      "cell_type": "code",
      "metadata": {
        "id": "92dCcK6EI6eI",
        "colab": {
          "base_uri": "https://localhost:8080/"
        },
        "outputId": "e448cd1c-0ff9-4704-f549-8b9b94dcecbf"
      },
      "source": [
        "x = np.empty([3,2], dtype=int)\n",
        "print(x)"
      ],
      "execution_count": null,
      "outputs": [
        {
          "output_type": "stream",
          "text": [
            "[[26525328        0]\n",
            " [       0        0]\n",
            " [       0        0]]\n"
          ],
          "name": "stdout"
        }
      ]
    },
    {
      "cell_type": "code",
      "metadata": {
        "id": "DDlorVehJTc1",
        "colab": {
          "base_uri": "https://localhost:8080/"
        },
        "outputId": "0cd384f0-d8d8-47bf-c571-8a650e949c21"
      },
      "source": [
        "x = np.zeros(5)\n",
        "print( x)"
      ],
      "execution_count": null,
      "outputs": [
        {
          "output_type": "stream",
          "text": [
            "[0. 0. 0. 0. 0.]\n"
          ],
          "name": "stdout"
        }
      ]
    },
    {
      "cell_type": "code",
      "metadata": {
        "id": "Cj0b9SMJJfOO",
        "colab": {
          "base_uri": "https://localhost:8080/"
        },
        "outputId": "8de332ae-6e6d-4720-b47d-02b969404b6a"
      },
      "source": [
        "x = np.zeros((2,2), dtype=[('x', 'i4'), ('y', 'i4')])\n",
        "print(x)"
      ],
      "execution_count": null,
      "outputs": [
        {
          "output_type": "stream",
          "text": [
            "[[(0, 0) (0, 0)]\n",
            " [(0, 0) (0, 0)]]\n"
          ],
          "name": "stdout"
        }
      ]
    },
    {
      "cell_type": "code",
      "metadata": {
        "id": "N5nLafbbJtsm",
        "colab": {
          "base_uri": "https://localhost:8080/"
        },
        "outputId": "ec13bbd7-984a-472f-913f-5b3b3c4bfe60"
      },
      "source": [
        "x = np.ones(5)\n",
        "print( x)"
      ],
      "execution_count": null,
      "outputs": [
        {
          "output_type": "stream",
          "text": [
            "[1. 1. 1. 1. 1.]\n"
          ],
          "name": "stdout"
        }
      ]
    },
    {
      "cell_type": "code",
      "metadata": {
        "id": "ve34Bx7cJwZO",
        "colab": {
          "base_uri": "https://localhost:8080/"
        },
        "outputId": "a2f6bbb9-9f4d-48bf-c7a1-c6bbea1805b9"
      },
      "source": [
        "x = np.ones(5)*np.pi\n",
        "print (x)"
      ],
      "execution_count": null,
      "outputs": [
        {
          "output_type": "stream",
          "text": [
            "[3.14159265 3.14159265 3.14159265 3.14159265 3.14159265]\n"
          ],
          "name": "stdout"
        }
      ]
    },
    {
      "cell_type": "code",
      "metadata": {
        "id": "7P5UmpzGK-bL",
        "colab": {
          "base_uri": "https://localhost:8080/"
        },
        "outputId": "ea05ac6f-1c1a-4fc0-e520-2542f0a9c884"
      },
      "source": [
        "x = np.arange(10)\n",
        "print(x)"
      ],
      "execution_count": null,
      "outputs": [
        {
          "output_type": "stream",
          "text": [
            "[0 1 2 3 4 5 6 7 8 9]\n"
          ],
          "name": "stdout"
        }
      ]
    },
    {
      "cell_type": "code",
      "metadata": {
        "id": "hipGXBM5LfDg",
        "colab": {
          "base_uri": "https://localhost:8080/"
        },
        "outputId": "bc160aa7-23d3-46dd-f186-1e0aae6bc6a6"
      },
      "source": [
        "x = np.arange(10,20)\n",
        "print(x)"
      ],
      "execution_count": null,
      "outputs": [
        {
          "output_type": "stream",
          "text": [
            "[10 11 12 13 14 15 16 17 18 19]\n"
          ],
          "name": "stdout"
        }
      ]
    },
    {
      "cell_type": "code",
      "metadata": {
        "id": "nSniLoN8Ljq1",
        "colab": {
          "base_uri": "https://localhost:8080/"
        },
        "outputId": "1bdf40d4-eee1-47d4-aad9-3568cad1e4af"
      },
      "source": [
        "x = np.arange(10,20,2)\n",
        "print(x)"
      ],
      "execution_count": null,
      "outputs": [
        {
          "output_type": "stream",
          "text": [
            "[10 12 14 16 18]\n"
          ],
          "name": "stdout"
        }
      ]
    },
    {
      "cell_type": "code",
      "metadata": {
        "id": "VMt2J0gGLnGC",
        "colab": {
          "base_uri": "https://localhost:8080/"
        },
        "outputId": "462631d0-d0c3-4082-cad0-7ccea204a09f"
      },
      "source": [
        "x = np.arange(10,20,2,dtype=float)\n",
        "print(x)"
      ],
      "execution_count": 3,
      "outputs": [
        {
          "output_type": "stream",
          "name": "stdout",
          "text": [
            "[10. 12. 14. 16. 18.]\n"
          ]
        }
      ]
    },
    {
      "cell_type": "code",
      "metadata": {
        "id": "v7_dnHqAMCFP",
        "colab": {
          "base_uri": "https://localhost:8080/"
        },
        "outputId": "a99ac5da-ba04-44f8-ee13-01f8184fbd5f"
      },
      "source": [
        "x = np.linspace(10,20)\n",
        "print(x)"
      ],
      "execution_count": null,
      "outputs": [
        {
          "output_type": "stream",
          "text": [
            "[10.         10.20408163 10.40816327 10.6122449  10.81632653 11.02040816\n",
            " 11.2244898  11.42857143 11.63265306 11.83673469 12.04081633 12.24489796\n",
            " 12.44897959 12.65306122 12.85714286 13.06122449 13.26530612 13.46938776\n",
            " 13.67346939 13.87755102 14.08163265 14.28571429 14.48979592 14.69387755\n",
            " 14.89795918 15.10204082 15.30612245 15.51020408 15.71428571 15.91836735\n",
            " 16.12244898 16.32653061 16.53061224 16.73469388 16.93877551 17.14285714\n",
            " 17.34693878 17.55102041 17.75510204 17.95918367 18.16326531 18.36734694\n",
            " 18.57142857 18.7755102  18.97959184 19.18367347 19.3877551  19.59183673\n",
            " 19.79591837 20.        ]\n"
          ],
          "name": "stdout"
        }
      ]
    },
    {
      "cell_type": "code",
      "metadata": {
        "id": "PpbcyiiSMQBl",
        "colab": {
          "base_uri": "https://localhost:8080/"
        },
        "outputId": "7c926f23-cac4-4ae1-990c-828683d60e64"
      },
      "source": [
        "x = np.linspace(10,20,11)\n",
        "print(x)"
      ],
      "execution_count": null,
      "outputs": [
        {
          "output_type": "stream",
          "text": [
            "[10. 11. 12. 13. 14. 15. 16. 17. 18. 19. 20.]\n"
          ],
          "name": "stdout"
        }
      ]
    },
    {
      "cell_type": "code",
      "metadata": {
        "id": "UQW1X_hOBD4n",
        "colab": {
          "base_uri": "https://localhost:8080/",
          "height": 51
        },
        "outputId": "c1ee989a-db4d-4af8-9b1b-58f03aa3ad9b"
      },
      "source": [
        "complejos=np.array([1+2j,3,4-2.1j])\n",
        "print(complejos)\n",
        "print(complejos.dtype)"
      ],
      "execution_count": null,
      "outputs": [
        {
          "output_type": "stream",
          "text": [
            "[1.+2.j  3.+0.j  4.-2.1j]\n",
            "complex128\n"
          ],
          "name": "stdout"
        }
      ]
    },
    {
      "cell_type": "code",
      "metadata": {
        "id": "aS_MMEEzrXL-",
        "colab": {
          "base_uri": "https://localhost:8080/",
          "height": 51
        },
        "outputId": "cae0be1a-5f27-4fca-aad2-549fd323e136"
      },
      "source": [
        "y=np.array([1,2,3.1416,4])\n",
        "print(y)\n",
        "print(y.dtype)\n"
      ],
      "execution_count": null,
      "outputs": [
        {
          "output_type": "stream",
          "text": [
            "[1.     2.     3.1416 4.    ]\n",
            "float64\n"
          ],
          "name": "stdout"
        }
      ]
    },
    {
      "cell_type": "code",
      "metadata": {
        "id": "SSyrGnRQri2O",
        "colab": {
          "base_uri": "https://localhost:8080/",
          "height": 34
        },
        "outputId": "7eac10a7-d7ed-465d-a21b-d15db9f7ab61"
      },
      "source": [
        "y[1]=2.7172\n",
        "print(y)"
      ],
      "execution_count": null,
      "outputs": [
        {
          "output_type": "stream",
          "text": [
            "[1.     2.7172 3.1416 4.    ]\n"
          ],
          "name": "stdout"
        }
      ]
    },
    {
      "cell_type": "code",
      "metadata": {
        "id": "Q2DFT7lervBn",
        "colab": {
          "base_uri": "https://localhost:8080/",
          "height": 51
        },
        "outputId": "7934b1c3-982d-4f9e-e7be-81c3049c2eef"
      },
      "source": [
        "xx=np.array([1,2,3,4],dtype=float)\n",
        "print(xx)\n",
        "print(xx.dtype)"
      ],
      "execution_count": null,
      "outputs": [
        {
          "output_type": "stream",
          "text": [
            "[1. 2. 3. 4.]\n",
            "float64\n"
          ],
          "name": "stdout"
        }
      ]
    },
    {
      "cell_type": "code",
      "metadata": {
        "id": "-edqleOFr7h1",
        "colab": {
          "base_uri": "https://localhost:8080/",
          "height": 34
        },
        "outputId": "c0e6b719-379a-417b-c8ab-453dfc0ddad9"
      },
      "source": [
        "xx[2]=3.1416\n",
        "print(xx)"
      ],
      "execution_count": null,
      "outputs": [
        {
          "output_type": "stream",
          "text": [
            "[1.     2.     3.1416 4.    ]\n"
          ],
          "name": "stdout"
        }
      ]
    },
    {
      "cell_type": "code",
      "metadata": {
        "id": "8TYOCsSZsD2q",
        "colab": {
          "base_uri": "https://localhost:8080/",
          "height": 34
        },
        "outputId": "67cdf45c-8447-4288-8b45-c5b496e8963f"
      },
      "source": [
        "xx.__setitem__(1,2.7172)\n",
        "print(xx)"
      ],
      "execution_count": null,
      "outputs": [
        {
          "output_type": "stream",
          "text": [
            "[1.     2.7172 3.1416 4.    ]\n"
          ],
          "name": "stdout"
        }
      ]
    },
    {
      "cell_type": "code",
      "metadata": {
        "id": "dpWZRLDlsbSn",
        "colab": {
          "base_uri": "https://localhost:8080/",
          "height": 34
        },
        "outputId": "552e59af-ff71-4007-b097-dd8fdaa05077"
      },
      "source": [
        "xx[0]=1.4142\n",
        "print(xx)"
      ],
      "execution_count": null,
      "outputs": [
        {
          "output_type": "stream",
          "text": [
            "[1.4142 2.7172 3.1416 4.    ]\n"
          ],
          "name": "stdout"
        }
      ]
    },
    {
      "cell_type": "code",
      "metadata": {
        "id": "BfQGECs9szcf",
        "colab": {
          "base_uri": "https://localhost:8080/",
          "height": 34
        },
        "outputId": "43eaeb63-7217-4767-ade0-bee47f0d6060"
      },
      "source": [
        "z=x+y\n",
        "print(z)"
      ],
      "execution_count": null,
      "outputs": [
        {
          "output_type": "stream",
          "text": [
            "[2.     4.7172 6.1416 8.    ]\n"
          ],
          "name": "stdout"
        }
      ]
    },
    {
      "cell_type": "code",
      "metadata": {
        "id": "HQJ4200Et817",
        "colab": {
          "base_uri": "https://localhost:8080/",
          "height": 34
        },
        "outputId": "ab3101be-7f34-4695-867d-5a0b9a5f46e2"
      },
      "source": [
        "z=x/y\n",
        "print(z)"
      ],
      "execution_count": null,
      "outputs": [
        {
          "output_type": "stream",
          "text": [
            "[1.         0.73605182 0.95492743 1.        ]\n"
          ],
          "name": "stdout"
        }
      ]
    },
    {
      "cell_type": "code",
      "metadata": {
        "id": "DOHMHAtWuGlH",
        "colab": {
          "base_uri": "https://localhost:8080/",
          "height": 34
        },
        "outputId": "21ebc801-38f2-4c14-9c9e-61b721d25b51"
      },
      "source": [
        "z=x*y\n",
        "print(z)"
      ],
      "execution_count": null,
      "outputs": [
        {
          "output_type": "stream",
          "text": [
            "[ 1.      5.4344  9.4248 16.    ]\n"
          ],
          "name": "stdout"
        }
      ]
    },
    {
      "cell_type": "code",
      "metadata": {
        "id": "r3d92rs8uKX6",
        "colab": {
          "base_uri": "https://localhost:8080/",
          "height": 34
        },
        "outputId": "ec3c82ab-d65b-4001-bd5e-575162d0fc6e"
      },
      "source": [
        "z=x**y\n",
        "print(z)"
      ],
      "execution_count": null,
      "outputs": [
        {
          "output_type": "stream",
          "text": [
            "[  1.           6.57595306  31.54453529 256.        ]\n"
          ],
          "name": "stdout"
        }
      ]
    },
    {
      "cell_type": "code",
      "metadata": {
        "id": "LbCTwK-UuNV7",
        "colab": {
          "base_uri": "https://localhost:8080/"
        },
        "outputId": "49571de1-bb27-4ed1-d625-48712bcf3a92"
      },
      "source": [
        "s=np.sin(x)\n",
        "print(s)"
      ],
      "execution_count": 4,
      "outputs": [
        {
          "output_type": "stream",
          "name": "stdout",
          "text": [
            "[-0.54402111 -0.53657292  0.99060736 -0.28790332 -0.75098725]\n"
          ]
        }
      ]
    },
    {
      "cell_type": "code",
      "source": [
        "s=np.cos(x)\n",
        "print(s)"
      ],
      "metadata": {
        "colab": {
          "base_uri": "https://localhost:8080/"
        },
        "id": "0eG0gclX7_Bv",
        "outputId": "8410d71c-67f3-487d-ab7c-a6064e588563"
      },
      "execution_count": 5,
      "outputs": [
        {
          "output_type": "stream",
          "name": "stdout",
          "text": [
            "[-0.83907153  0.84385396  0.13673722 -0.95765948  0.66031671]\n"
          ]
        }
      ]
    },
    {
      "cell_type": "code",
      "source": [
        "s=np.exp(x)\n",
        "print(s)"
      ],
      "metadata": {
        "colab": {
          "base_uri": "https://localhost:8080/"
        },
        "id": "UrgJP5Gh8B2a",
        "outputId": "00cfc5b5-3ddc-4d4f-e5d1-31c7389ffde3"
      },
      "execution_count": 6,
      "outputs": [
        {
          "output_type": "stream",
          "name": "stdout",
          "text": [
            "[2.20264658e+04 1.62754791e+05 1.20260428e+06 8.88611052e+06\n",
            " 6.56599691e+07]\n"
          ]
        }
      ]
    },
    {
      "cell_type": "code",
      "source": [
        "s=np.log(x)\n",
        "print(s)"
      ],
      "metadata": {
        "colab": {
          "base_uri": "https://localhost:8080/"
        },
        "id": "CWPWaFTn8EbX",
        "outputId": "f7d4f62b-ff2b-4eb6-c52f-80aec0657b28"
      },
      "execution_count": 7,
      "outputs": [
        {
          "output_type": "stream",
          "name": "stdout",
          "text": [
            "[2.30258509 2.48490665 2.63905733 2.77258872 2.89037176]\n"
          ]
        }
      ]
    },
    {
      "cell_type": "code",
      "source": [
        "s=np.log10(x)\n",
        "print(s)"
      ],
      "metadata": {
        "colab": {
          "base_uri": "https://localhost:8080/"
        },
        "id": "vHKgmFUX8G0O",
        "outputId": "aadc33aa-3112-4852-ac38-2e7fc9e0ba52"
      },
      "execution_count": 8,
      "outputs": [
        {
          "output_type": "stream",
          "name": "stdout",
          "text": [
            "[1.         1.07918125 1.14612804 1.20411998 1.25527251]\n"
          ]
        }
      ]
    },
    {
      "cell_type": "code",
      "source": [
        "s=np.arcsinh(x)\n",
        "print(s)"
      ],
      "metadata": {
        "colab": {
          "base_uri": "https://localhost:8080/"
        },
        "id": "3Lu1asga8Jxx",
        "outputId": "dfdcca8b-ef5e-459d-bb79-2a1bfc80383e"
      },
      "execution_count": 9,
      "outputs": [
        {
          "output_type": "stream",
          "name": "stdout",
          "text": [
            "[2.99822295 3.17978544 3.33347759 3.46671104 3.58428965]\n"
          ]
        }
      ]
    },
    {
      "cell_type": "code",
      "source": [
        "s=np.sqrt(x)\n",
        "print(s)"
      ],
      "metadata": {
        "colab": {
          "base_uri": "https://localhost:8080/"
        },
        "id": "EefdhXy08SC2",
        "outputId": "ad9e176a-d336-493e-8323-e347205992d7"
      },
      "execution_count": 10,
      "outputs": [
        {
          "output_type": "stream",
          "name": "stdout",
          "text": [
            "[3.16227766 3.46410162 3.74165739 4.         4.24264069]\n"
          ]
        }
      ]
    },
    {
      "cell_type": "code",
      "metadata": {
        "id": "MPZgGaYkuR3y",
        "colab": {
          "base_uri": "https://localhost:8080/",
          "height": 34
        },
        "outputId": "0711d62e-0854-4e3f-9d31-879ecf2c8cf5"
      },
      "source": [
        "x10=x*10\n",
        "print(x10)"
      ],
      "execution_count": null,
      "outputs": [
        {
          "output_type": "stream",
          "text": [
            "[10 20 30 40]\n"
          ],
          "name": "stdout"
        }
      ]
    },
    {
      "cell_type": "code",
      "metadata": {
        "id": "3G4yKS7GuWrh",
        "colab": {
          "base_uri": "https://localhost:8080/",
          "height": 34
        },
        "outputId": "43fc0a99-7a95-46b2-a86d-4f3a38361e29"
      },
      "source": [
        "x_10=x-10\n",
        "print(x_10)"
      ],
      "execution_count": null,
      "outputs": [
        {
          "output_type": "stream",
          "text": [
            "[-9 -8 -7 -6]\n"
          ],
          "name": "stdout"
        }
      ]
    },
    {
      "cell_type": "code",
      "metadata": {
        "id": "aIKhfZrTuerQ",
        "colab": {
          "base_uri": "https://localhost:8080/",
          "height": 34
        },
        "outputId": "8ef1fc6f-2412-43bf-c811-be813ea660e0"
      },
      "source": [
        "indices=[0,2,3]\n",
        "print(x[indices])"
      ],
      "execution_count": null,
      "outputs": [
        {
          "output_type": "stream",
          "text": [
            "[1 3 4]\n"
          ],
          "name": "stdout"
        }
      ]
    },
    {
      "cell_type": "code",
      "metadata": {
        "id": "tUn_n8FyxB8b",
        "colab": {
          "base_uri": "https://localhost:8080/",
          "height": 35
        },
        "outputId": "2d57731d-95f3-44cc-983d-1bf2a9716395"
      },
      "source": [
        "arreglo=np.array([-2,-3,0,1,-1,4,-10,3])\n",
        "negativos=arreglo<0\n",
        "print(negativos)"
      ],
      "execution_count": null,
      "outputs": [
        {
          "output_type": "stream",
          "text": [
            "[ True  True False False  True False  True False]\n"
          ],
          "name": "stdout"
        }
      ]
    },
    {
      "cell_type": "code",
      "metadata": {
        "id": "ajv8fzGQxack",
        "colab": {
          "base_uri": "https://localhost:8080/",
          "height": 35
        },
        "outputId": "b875269c-62e1-4f66-a53f-52bfa1f8210f"
      },
      "source": [
        "print(arreglo[negativos])"
      ],
      "execution_count": null,
      "outputs": [
        {
          "output_type": "stream",
          "text": [
            "[ -2  -3  -1 -10]\n"
          ],
          "name": "stdout"
        }
      ]
    },
    {
      "cell_type": "code",
      "metadata": {
        "id": "N38id_T3xeSn",
        "colab": {
          "base_uri": "https://localhost:8080/",
          "height": 35
        },
        "outputId": "4e7a9638-d82d-4200-8d72-f06bef220ec0"
      },
      "source": [
        "arreglo[negativos]=0\n",
        "print(arreglo)"
      ],
      "execution_count": null,
      "outputs": [
        {
          "output_type": "stream",
          "text": [
            "[0 0 0 1 0 4 0 3]\n"
          ],
          "name": "stdout"
        }
      ]
    },
    {
      "cell_type": "code",
      "metadata": {
        "id": "XS_S3Di5xkcu",
        "colab": {
          "base_uri": "https://localhost:8080/"
        },
        "outputId": "8b1545bd-4ed0-480d-e930-fe9c18adad08"
      },
      "source": [
        "x=np.array([-2,-4,-1,0,2,4,8,-9])\n",
        "print('x=',x)\n",
        "print('suma ',x.sum() )\n",
        "print('suma acumulada',x.cumsum())\n",
        "print('producto ',x.prod() )\n",
        "print('producto ',x.cumprod() )\n",
        "print('maximo ',x.max() )\n",
        "print('minimo ',x.min() )\n",
        "print('desviasion estandar ',x.std() )\n",
        "print('varianza ',x.var() )\n",
        "print('promedio ',x.mean( ) )"
      ],
      "execution_count": null,
      "outputs": [
        {
          "output_type": "stream",
          "text": [
            "x= [-2 -4 -1  0  2  4  8 -9]\n",
            "suma  -2\n",
            "suma acumulada [-2 -6 -7 -7 -5 -1  7 -2]\n",
            "producto  0\n",
            "producto  [-2  8 -8  0  0  0  0  0]\n",
            "maximo  8\n",
            "minimo  -9\n",
            "desviasion estandar  4.815340071064556\n",
            "varianza  23.1875\n",
            "promedio  -0.25\n"
          ],
          "name": "stdout"
        }
      ]
    },
    {
      "cell_type": "code",
      "metadata": {
        "id": "PCbEGioG4vPM",
        "colab": {
          "base_uri": "https://localhost:8080/"
        },
        "outputId": "37d16bd9-b8b7-4f7a-cb21-5a871034e863"
      },
      "source": [
        "print('suma positivos ',x.sum(where=x>0) )\n",
        "print('suma positivos ',x[x>0].sum() )\n",
        "\n",
        "print('suma negativos ',x.sum(where=x<0) )\n",
        "print('desviacion positivos ',x[x>0].std() )\n",
        "\n",
        "print('promedio positivos ',x[x>0].mean() )"
      ],
      "execution_count": null,
      "outputs": [
        {
          "output_type": "stream",
          "text": [
            "suma positivos  14\n",
            "suma positivos  14\n",
            "suma negativos  -16\n",
            "desviacion positivos  2.494438257849294\n",
            "promedio positivos  4.666666666666667\n"
          ],
          "name": "stdout"
        }
      ]
    },
    {
      "cell_type": "code",
      "metadata": {
        "id": "A2l3s5-H1BVH",
        "colab": {
          "base_uri": "https://localhost:8080/"
        },
        "outputId": "4b3e5e30-9d38-4bdb-c584-c60064423bf0"
      },
      "source": [
        "p_max=np.where(x==x.max())\n",
        "print(p_max)\n",
        "print(x[p_max])"
      ],
      "execution_count": null,
      "outputs": [
        {
          "output_type": "stream",
          "text": [
            "(array([6]),)\n",
            "[8]\n"
          ],
          "name": "stdout"
        }
      ]
    },
    {
      "cell_type": "code",
      "metadata": {
        "id": "nBF_Ip4ePnpl",
        "colab": {
          "base_uri": "https://localhost:8080/"
        },
        "outputId": "0be97709-1943-4656-cb25-1b59111c1c68"
      },
      "source": [
        "x = np.array([np.nan, 1,2,np.nan,3,4,5])\n",
        "print (x[~np.isnan(x)])"
      ],
      "execution_count": null,
      "outputs": [
        {
          "output_type": "stream",
          "text": [
            "[1. 2. 3. 4. 5.]\n"
          ],
          "name": "stdout"
        }
      ]
    },
    {
      "cell_type": "code",
      "metadata": {
        "id": "C3lTlGUg4olf",
        "colab": {
          "base_uri": "https://localhost:8080/"
        },
        "outputId": "4df6b7bb-36d6-4721-b3ba-1346c9819566"
      },
      "source": [
        "y=x\n",
        "y[0]=-100\n",
        "print(x)\n",
        "print(y)"
      ],
      "execution_count": null,
      "outputs": [
        {
          "output_type": "stream",
          "text": [
            "[-100   -4   -1    0    2    4    8   -9]\n",
            "[-100   -4   -1    0    2    4    8   -9]\n"
          ],
          "name": "stdout"
        }
      ]
    },
    {
      "cell_type": "code",
      "metadata": {
        "id": "wRCwVVS7581u",
        "colab": {
          "base_uri": "https://localhost:8080/"
        },
        "outputId": "37ef8201-328b-45b0-8b6c-edffce8d4087"
      },
      "source": [
        "import numpy as np\n",
        "x=np.array([-2,-4,-1,0,2,4,8,-9])\n",
        "\n",
        "copiax=x.copy()\n",
        "copiax[0]=200\n",
        "print(x)\n",
        "print(copiax)"
      ],
      "execution_count": 2,
      "outputs": [
        {
          "output_type": "stream",
          "name": "stdout",
          "text": [
            "[-2 -4 -1  0  2  4  8 -9]\n",
            "[200  -4  -1   0   2   4   8  -9]\n"
          ]
        }
      ]
    },
    {
      "cell_type": "markdown",
      "source": [
        "Sistemas de ecuaciones lineales\n",
        "\n",
        "$$\n",
        "\\begin{align}\n",
        "2x + y − z &= 11\\\\\n",
        "x − 3y &= −20\\\\\n",
        "4x + 2y + 5z &= 8\n",
        "\\end{align}\n",
        "$$"
      ],
      "metadata": {
        "id": "5qyvldMl9F-D"
      }
    },
    {
      "cell_type": "code",
      "source": [
        "A=np.array([[2,1,-1],\n",
        "            [1,-3,0],\n",
        "            [4,2,5]])\n",
        "b=np.array([[11,-20,8]])"
      ],
      "metadata": {
        "id": "8Qzh2PT__GqB"
      },
      "execution_count": 3,
      "outputs": []
    },
    {
      "cell_type": "code",
      "source": [
        "Ab=np.concatenate((A,b.T),axis=1)\n",
        "Ab"
      ],
      "metadata": {
        "colab": {
          "base_uri": "https://localhost:8080/"
        },
        "id": "TMH4JiTe_ghW",
        "outputId": "ccb902f9-5134-4d17-f473-0a3a4b38b456"
      },
      "execution_count": 22,
      "outputs": [
        {
          "output_type": "execute_result",
          "data": {
            "text/plain": [
              "array([[  2,   1,  -1,  11],\n",
              "       [  1,  -3,   0, -20],\n",
              "       [  4,   2,   5,   8]])"
            ]
          },
          "metadata": {},
          "execution_count": 22
        }
      ]
    },
    {
      "cell_type": "code",
      "source": [
        "np.linalg.matrix_rank(A)"
      ],
      "metadata": {
        "colab": {
          "base_uri": "https://localhost:8080/"
        },
        "id": "LnbbIeD18zww",
        "outputId": "872cea61-e1d4-45c6-d44b-c7df97d05ba0"
      },
      "execution_count": 23,
      "outputs": [
        {
          "output_type": "execute_result",
          "data": {
            "text/plain": [
              "3"
            ]
          },
          "metadata": {},
          "execution_count": 23
        }
      ]
    },
    {
      "cell_type": "code",
      "source": [
        "np.linalg.matrix_rank(Ab)"
      ],
      "metadata": {
        "colab": {
          "base_uri": "https://localhost:8080/"
        },
        "id": "e6LC_OcABWzy",
        "outputId": "88305b4f-dac1-4ba7-e4cf-46343b6b5c39"
      },
      "execution_count": 24,
      "outputs": [
        {
          "output_type": "execute_result",
          "data": {
            "text/plain": [
              "3"
            ]
          },
          "metadata": {},
          "execution_count": 24
        }
      ]
    },
    {
      "cell_type": "code",
      "source": [
        "solucion = np.linalg.matrix_rank(A) == np.linalg.matrix_rank(A) == 3\n",
        "solucion"
      ],
      "metadata": {
        "colab": {
          "base_uri": "https://localhost:8080/"
        },
        "id": "3g01YlsNCI24",
        "outputId": "0535c628-4c16-4c83-b09b-292f89ecd758"
      },
      "execution_count": 30,
      "outputs": [
        {
          "output_type": "execute_result",
          "data": {
            "text/plain": [
              "True"
            ]
          },
          "metadata": {},
          "execution_count": 30
        }
      ]
    },
    {
      "cell_type": "code",
      "source": [
        "np.linalg.det(A)"
      ],
      "metadata": {
        "colab": {
          "base_uri": "https://localhost:8080/"
        },
        "id": "4ms8SCuLGgel",
        "outputId": "3619a398-08b5-4bda-8a75-20e3f633bd26"
      },
      "execution_count": 9,
      "outputs": [
        {
          "output_type": "execute_result",
          "data": {
            "text/plain": [
              "-49.000000000000014"
            ]
          },
          "metadata": {},
          "execution_count": 9
        }
      ]
    },
    {
      "cell_type": "code",
      "source": [
        "np.linalg.solve(A,b.T)"
      ],
      "metadata": {
        "colab": {
          "base_uri": "https://localhost:8080/"
        },
        "id": "Rmv501DlCPrT",
        "outputId": "24c029e3-a1f7-47cf-e497-9d7aeb163681"
      },
      "execution_count": 6,
      "outputs": [
        {
          "output_type": "execute_result",
          "data": {
            "text/plain": [
              "array([[ 1.],\n",
              "       [ 7.],\n",
              "       [-2.]])"
            ]
          },
          "metadata": {},
          "execution_count": 6
        }
      ]
    },
    {
      "cell_type": "code",
      "source": [
        "np.dot(np.linalg.inv(A),b.T)"
      ],
      "metadata": {
        "colab": {
          "base_uri": "https://localhost:8080/"
        },
        "id": "HvnAfFWFGFHU",
        "outputId": "5ed4a74b-92e7-45b6-e260-c054461f1822"
      },
      "execution_count": 8,
      "outputs": [
        {
          "output_type": "execute_result",
          "data": {
            "text/plain": [
              "array([[ 1.],\n",
              "       [ 7.],\n",
              "       [-2.]])"
            ]
          },
          "metadata": {},
          "execution_count": 8
        }
      ]
    },
    {
      "cell_type": "code",
      "source": [
        "detA=np.linalg.det(A)\n",
        "cols=np.size(A,axis=1)\n",
        "x=np.zeros(cols)\n",
        "for c in range(cols):\n",
        "  Ac=A.copy()\n",
        "  Ac[:,c]=b\n",
        "  x[c]=np.linalg.det(Ac)/detA\n",
        "  \n",
        "print(x)"
      ],
      "metadata": {
        "colab": {
          "base_uri": "https://localhost:8080/"
        },
        "id": "mHYHKEbtGcjV",
        "outputId": "a2ae6e15-d89b-4501-a9da-5b336f9058e7"
      },
      "execution_count": 20,
      "outputs": [
        {
          "output_type": "stream",
          "name": "stdout",
          "text": [
            "[ 1.  7. -2.]\n"
          ]
        }
      ]
    },
    {
      "cell_type": "code",
      "metadata": {
        "id": "K7vXrznO6Mxc",
        "colab": {
          "base_uri": "https://localhost:8080/"
        },
        "outputId": "91974f37-62e3-4117-a016-8a69eb8e86a4"
      },
      "source": [
        "arr = np.array([1, 2, 3, 4, 5, 6, 7, 8, 9, 10, 11, 12])\n",
        "\n",
        "newarr = arr.reshape(4, 3)\n",
        "print(newarr)"
      ],
      "execution_count": null,
      "outputs": [
        {
          "output_type": "stream",
          "text": [
            "[[ 1  2  3]\n",
            " [ 4  5  6]\n",
            " [ 7  8  9]\n",
            " [10 11 12]]\n"
          ],
          "name": "stdout"
        }
      ]
    },
    {
      "cell_type": "code",
      "metadata": {
        "id": "VGl5uEjOplex",
        "colab": {
          "base_uri": "https://localhost:8080/"
        },
        "outputId": "74ec8b3b-7acd-4140-da56-df5de483dc18"
      },
      "source": [
        "arr = np.array([1, 2, 3, 4, 5, 6, 7, 8, 9, 10, 11, 12])\n",
        "\n",
        "newarr = arr.reshape(2, 3, 2)\n",
        "\n",
        "print(newarr)"
      ],
      "execution_count": null,
      "outputs": [
        {
          "output_type": "stream",
          "text": [
            "[[[ 1  2]\n",
            "  [ 3  4]\n",
            "  [ 5  6]]\n",
            "\n",
            " [[ 7  8]\n",
            "  [ 9 10]\n",
            "  [11 12]]]\n"
          ],
          "name": "stdout"
        }
      ]
    },
    {
      "cell_type": "code",
      "metadata": {
        "id": "UgcuBIyiqP_m",
        "colab": {
          "base_uri": "https://localhost:8080/"
        },
        "outputId": "a6a011d6-5e00-4cb4-f0c8-164cc4383917"
      },
      "source": [
        "arr = np.array([[1, 2, 3], [4, 5, 6]])\n",
        "\n",
        "newarr = arr.reshape(-1)\n",
        "\n",
        "print(newarr)"
      ],
      "execution_count": null,
      "outputs": [
        {
          "output_type": "stream",
          "text": [
            "[1 2 3 4 5 6]\n"
          ],
          "name": "stdout"
        }
      ]
    },
    {
      "cell_type": "code",
      "metadata": {
        "id": "VNYpF2z3qavi",
        "colab": {
          "base_uri": "https://localhost:8080/"
        },
        "outputId": "5dff9b08-20e1-4834-9aad-b0a6e53f0823"
      },
      "source": [
        "arr = np.array([[1, 2, 3], [4, 5, 6]])\n",
        "\n",
        "newarr = arr.flatten()\n",
        "\n",
        "print(newarr)"
      ],
      "execution_count": null,
      "outputs": [
        {
          "output_type": "stream",
          "text": [
            "[1 2 3 4 5 6]\n"
          ],
          "name": "stdout"
        }
      ]
    },
    {
      "cell_type": "code",
      "metadata": {
        "id": "z7urw99u3u0M",
        "colab": {
          "base_uri": "https://localhost:8080/"
        },
        "outputId": "e9123902-97f6-4d12-d2cc-8b1aa4b590a0"
      },
      "source": [
        "arr = np.array([3, 2, 0, 1])\n",
        "\n",
        "print(np.sort(arr))\n",
        "print(arr)"
      ],
      "execution_count": null,
      "outputs": [
        {
          "output_type": "stream",
          "text": [
            "[0 1 2 3]\n",
            "[3 2 0 1]\n"
          ],
          "name": "stdout"
        }
      ]
    },
    {
      "cell_type": "code",
      "metadata": {
        "id": "qTiU5AM1cv2b",
        "colab": {
          "base_uri": "https://localhost:8080/"
        },
        "outputId": "e8c422bd-984f-4485-9474-7d7c5f6213e2"
      },
      "source": [
        "arr.sort()\n",
        "print(arr)"
      ],
      "execution_count": null,
      "outputs": [
        {
          "output_type": "stream",
          "text": [
            "[0 1 2 3]\n"
          ],
          "name": "stdout"
        }
      ]
    },
    {
      "cell_type": "code",
      "metadata": {
        "id": "H4GkPOPR3zsa",
        "colab": {
          "base_uri": "https://localhost:8080/"
        },
        "outputId": "9bf5d039-4d2a-49c6-d91b-314e0c44522b"
      },
      "source": [
        "arr = np.array(['banana', 'cherry', 'apple'])\n",
        "\n",
        "print(np.sort(arr))\n",
        "print(arr)\n",
        "arr.sort()\n",
        "print(arr)"
      ],
      "execution_count": null,
      "outputs": [
        {
          "output_type": "stream",
          "text": [
            "['apple' 'banana' 'cherry']\n",
            "['banana' 'cherry' 'apple']\n",
            "['apple' 'banana' 'cherry']\n"
          ],
          "name": "stdout"
        }
      ]
    },
    {
      "cell_type": "code",
      "metadata": {
        "id": "mBPJK-gX337-",
        "colab": {
          "base_uri": "https://localhost:8080/",
          "height": 235
        },
        "outputId": "61883652-dbfe-4d6a-f374-47e62340bb83"
      },
      "source": [
        "arr = np.array([[3, 2, 4], [5, 0, 1]])\n",
        "\n",
        "print(np.sort(arr))\n",
        "\n",
        "vector=arr.reshape(-1)\n",
        "vector.sort()\n",
        "\n",
        "arr2=vector.reshape(2,3)\n",
        "print(arr2)"
      ],
      "execution_count": 1,
      "outputs": [
        {
          "output_type": "error",
          "ename": "NameError",
          "evalue": "ignored",
          "traceback": [
            "\u001b[0;31m---------------------------------------------------------------------------\u001b[0m",
            "\u001b[0;31mNameError\u001b[0m                                 Traceback (most recent call last)",
            "\u001b[0;32m<ipython-input-1-558d6390d1ed>\u001b[0m in \u001b[0;36m<module>\u001b[0;34m()\u001b[0m\n\u001b[0;32m----> 1\u001b[0;31m \u001b[0marr\u001b[0m \u001b[0;34m=\u001b[0m \u001b[0mnp\u001b[0m\u001b[0;34m.\u001b[0m\u001b[0marray\u001b[0m\u001b[0;34m(\u001b[0m\u001b[0;34m[\u001b[0m\u001b[0;34m[\u001b[0m\u001b[0;36m3\u001b[0m\u001b[0;34m,\u001b[0m \u001b[0;36m2\u001b[0m\u001b[0;34m,\u001b[0m \u001b[0;36m4\u001b[0m\u001b[0;34m]\u001b[0m\u001b[0;34m,\u001b[0m \u001b[0;34m[\u001b[0m\u001b[0;36m5\u001b[0m\u001b[0;34m,\u001b[0m \u001b[0;36m0\u001b[0m\u001b[0;34m,\u001b[0m \u001b[0;36m1\u001b[0m\u001b[0;34m]\u001b[0m\u001b[0;34m]\u001b[0m\u001b[0;34m)\u001b[0m\u001b[0;34m\u001b[0m\u001b[0;34m\u001b[0m\u001b[0m\n\u001b[0m\u001b[1;32m      2\u001b[0m \u001b[0;34m\u001b[0m\u001b[0m\n\u001b[1;32m      3\u001b[0m \u001b[0mprint\u001b[0m\u001b[0;34m(\u001b[0m\u001b[0mnp\u001b[0m\u001b[0;34m.\u001b[0m\u001b[0msort\u001b[0m\u001b[0;34m(\u001b[0m\u001b[0marr\u001b[0m\u001b[0;34m)\u001b[0m\u001b[0;34m)\u001b[0m\u001b[0;34m\u001b[0m\u001b[0;34m\u001b[0m\u001b[0m\n\u001b[1;32m      4\u001b[0m \u001b[0;34m\u001b[0m\u001b[0m\n\u001b[1;32m      5\u001b[0m \u001b[0mvector\u001b[0m\u001b[0;34m=\u001b[0m\u001b[0marr\u001b[0m\u001b[0;34m.\u001b[0m\u001b[0mreshape\u001b[0m\u001b[0;34m(\u001b[0m\u001b[0;34m-\u001b[0m\u001b[0;36m1\u001b[0m\u001b[0;34m)\u001b[0m\u001b[0;34m\u001b[0m\u001b[0;34m\u001b[0m\u001b[0m\n",
            "\u001b[0;31mNameError\u001b[0m: name 'np' is not defined"
          ]
        }
      ]
    },
    {
      "cell_type": "code",
      "metadata": {
        "id": "g5T06O9yT6KQ",
        "colab": {
          "base_uri": "https://localhost:8080/"
        },
        "outputId": "f19cefcc-e674-4a38-b479-b1378f59ba31"
      },
      "source": [
        "x=np.array([1,2,3,4])\n",
        "print (np.std(x))\n",
        "std = np.sqrt(np.mean(abs(x - x.mean())**2))\n",
        "print(std)"
      ],
      "execution_count": null,
      "outputs": [
        {
          "output_type": "stream",
          "text": [
            "1.118033988749895\n",
            "1.118033988749895\n"
          ],
          "name": "stdout"
        }
      ]
    },
    {
      "cell_type": "code",
      "metadata": {
        "id": "bCuSqg2hUY-_",
        "colab": {
          "base_uri": "https://localhost:8080/"
        },
        "outputId": "634a3876-4292-4b84-b044-6fd8cabe9729"
      },
      "source": [
        "print (np.var([1,2,3,4]))"
      ],
      "execution_count": null,
      "outputs": [
        {
          "output_type": "stream",
          "text": [
            "1.25\n"
          ],
          "name": "stdout"
        }
      ]
    },
    {
      "cell_type": "code",
      "metadata": {
        "id": "cRiPG6aAZtgf",
        "colab": {
          "base_uri": "https://localhost:8080/"
        },
        "outputId": "f056f153-0437-4a27-ab15-f7703759d681"
      },
      "source": [
        "import numpy as np\n",
        "a = [[1,0],[0,1]]\n",
        "b = [[4,1],[2,2]]\n",
        "print (np.matmul(a,b))"
      ],
      "execution_count": 2,
      "outputs": [
        {
          "output_type": "stream",
          "name": "stdout",
          "text": [
            "[[4 1]\n",
            " [2 2]]\n"
          ]
        }
      ]
    },
    {
      "cell_type": "code",
      "metadata": {
        "id": "PdZNePxcZ2pz",
        "colab": {
          "base_uri": "https://localhost:8080/"
        },
        "outputId": "614811d7-5ef8-4639-8a72-b82a97ed9b28"
      },
      "source": [
        "import numpy as np\n",
        "a=[[1,0],[0,1]]\n",
        "b=[1,2]\n",
        "print (np.matmul(a,b))\n",
        "print (np.matmul(b,a))"
      ],
      "execution_count": 3,
      "outputs": [
        {
          "output_type": "stream",
          "name": "stdout",
          "text": [
            "[1 2]\n",
            "[1 2]\n"
          ]
        }
      ]
    },
    {
      "cell_type": "code",
      "metadata": {
        "id": "Ks1MCHZzKI4Q",
        "outputId": "477be488-6dde-439a-f30e-bd441b527203",
        "colab": {
          "base_uri": "https://localhost:8080/"
        }
      },
      "source": [
        "import numpy as np\n",
        "\n",
        "x=np.array([4.1,12.2,20.3,28.2,38.1,45.2])\n",
        "y=np.array([1.0276,1.1013,1.1801,1.2652,1.3480,1.4120])\n",
        "\n",
        "xi = 15\n",
        "yi = np.interp(xi, x, y)\n",
        "\n",
        "print(xi,yi)"
      ],
      "execution_count": null,
      "outputs": [
        {
          "output_type": "stream",
          "text": [
            "15 1.1285395061728394\n"
          ],
          "name": "stdout"
        }
      ]
    },
    {
      "cell_type": "code",
      "metadata": {
        "id": "Vq_kLvAGbIGZ"
      },
      "source": [
        "a=np.array([[1,2,3,4,5],[-1,-2,3,8,7]])\n",
        "np.save('var_a',a)"
      ],
      "execution_count": null,
      "outputs": []
    },
    {
      "cell_type": "code",
      "metadata": {
        "id": "zLX1lpPFk_Ws",
        "colab": {
          "base_uri": "https://localhost:8080/"
        },
        "outputId": "b482be99-6109-4142-aa4a-33b1b4df2058"
      },
      "source": [
        "b = np.load('var_a.npy')\n",
        "print (b)"
      ],
      "execution_count": null,
      "outputs": [
        {
          "output_type": "stream",
          "text": [
            "[[ 1  2  3  4  5]\n",
            " [-1 -2  3  8  7]]\n"
          ],
          "name": "stdout"
        }
      ]
    },
    {
      "cell_type": "code",
      "metadata": {
        "id": "LLSpvyEulM1G",
        "colab": {
          "base_uri": "https://localhost:8080/"
        },
        "outputId": "f0c41601-7937-4bfe-ff69-7f80f1b099e8"
      },
      "source": [
        "a = np.array([1,2,3,4,5])\n",
        "np.savetxt('a.txt',a)\n",
        "b = np.loadtxt('a.txt')\n",
        "print (b)"
      ],
      "execution_count": null,
      "outputs": [
        {
          "output_type": "stream",
          "text": [
            "[1. 2. 3. 4. 5.]\n"
          ],
          "name": "stdout"
        }
      ]
    },
    {
      "cell_type": "code",
      "metadata": {
        "id": "e3I3i7JRl2m6",
        "colab": {
          "base_uri": "https://localhost:8080/"
        },
        "outputId": "79367d02-b3df-464f-e405-35cad72956fd"
      },
      "source": [
        "!cat a.txt"
      ],
      "execution_count": null,
      "outputs": [
        {
          "output_type": "stream",
          "text": [
            "1.000000000000000000e+00\n",
            "2.000000000000000000e+00\n",
            "asdasd\n",
            "3.000000000000000000e+00\n",
            "4.000000000000000000e+00\n",
            "5.000000000000000000e+00\n"
          ],
          "name": "stdout"
        }
      ]
    },
    {
      "cell_type": "code",
      "metadata": {
        "id": "qqaDawAymxPq"
      },
      "source": [
        "from mat4py import savemat\n",
        "a={'a':100}\n",
        "savemat('datafile.mat', a)"
      ],
      "execution_count": null,
      "outputs": []
    },
    {
      "cell_type": "code",
      "metadata": {
        "id": "XELs9vA0l9BS",
        "colab": {
          "base_uri": "https://localhost:8080/"
        },
        "outputId": "a676c2e5-fe6d-4dd4-b317-0c36cc2c4ec8"
      },
      "source": [
        "from mat4py import loadmat\n",
        "data = loadmat('datafile.mat')\n",
        "print(data)"
      ],
      "execution_count": null,
      "outputs": [
        {
          "output_type": "stream",
          "text": [
            "{'a': 100}\n"
          ],
          "name": "stdout"
        }
      ]
    },
    {
      "cell_type": "code",
      "metadata": {
        "id": "BCkk6wd_o-ys",
        "colab": {
          "base_uri": "https://localhost:8080/"
        },
        "outputId": "c0dbd9b5-8aeb-422b-ece4-6cc49900c748"
      },
      "source": [
        "!pip install matlab"
      ],
      "execution_count": 4,
      "outputs": [
        {
          "output_type": "stream",
          "name": "stdout",
          "text": [
            "Looking in indexes: https://pypi.org/simple, https://us-python.pkg.dev/colab-wheels/public/simple/\n",
            "Collecting matlab\n",
            "  Downloading matlab-0.1.tar.gz (538 bytes)\n",
            "Building wheels for collected packages: matlab\n",
            "  Building wheel for matlab (setup.py) ... \u001b[?25l\u001b[?25hdone\n",
            "  Created wheel for matlab: filename=matlab-0.1-py3-none-any.whl size=1180 sha256=37ce4f871697b3010a0d6b24e4f2ca5cdd4fcf85d882ada8ec9ab0c99398793a\n",
            "  Stored in directory: /root/.cache/pip/wheels/67/e4/81/3713ad26a6b4c61b830ca8b7e839b914e684ed6bf1878e4594\n",
            "Successfully built matlab\n",
            "Installing collected packages: matlab\n",
            "Successfully installed matlab-0.1\n"
          ]
        }
      ]
    },
    {
      "cell_type": "code",
      "metadata": {
        "id": "8bUlAXpyoARc",
        "colab": {
          "base_uri": "https://localhost:8080/"
        },
        "outputId": "ee0d8219-98f7-48e7-f184-4701f6e6448f"
      },
      "source": [
        "import matlab\n",
        "\n",
        "print(matlab.cos(np.pi))\n",
        "\n",
        "x=np.array([1,2,3,4])\n",
        "y=np.array([1,2,3,4])\n",
        "xi=1.5\n",
        "print(matlab.interp(xi,x,y))"
      ],
      "execution_count": 5,
      "outputs": [
        {
          "output_type": "stream",
          "name": "stdout",
          "text": [
            "-1.0\n",
            "1.5\n"
          ]
        }
      ]
    },
    {
      "cell_type": "code",
      "metadata": {
        "id": "OJOHan3HrT-J"
      },
      "source": [
        ""
      ],
      "execution_count": null,
      "outputs": []
    }
  ]
}