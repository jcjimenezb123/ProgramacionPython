{
  "nbformat": 4,
  "nbformat_minor": 0,
  "metadata": {
    "colab": {
      "name": "04_Numpy.ipynb",
      "provenance": [],
      "collapsed_sections": [],
      "include_colab_link": true
    },
    "kernelspec": {
      "name": "python3",
      "display_name": "Python 3"
    }
  },
  "cells": [
    {
      "cell_type": "markdown",
      "metadata": {
        "id": "view-in-github",
        "colab_type": "text"
      },
      "source": [
        "<a href=\"https://colab.research.google.com/github/jcjimenezb123/ProgramacionPython/blob/master/04_Numpy.ipynb\" target=\"_parent\"><img src=\"https://colab.research.google.com/assets/colab-badge.svg\" alt=\"Open In Colab\"/></a>"
      ]
    },
    {
      "cell_type": "markdown",
      "metadata": {
        "id": "E9mvKPXbhSgO"
      },
      "source": [
        "#Numpy\n",
        "\n",
        "**Numpy** es una biblioteca de Python específica para trabajar con arreglos, también tiene funciones de álgebral lineal, transformadas de Fourier y operaciones con matrices.\n",
        "\n",
        "NumPy fue creado en 2005 por Travis Oliphant. Es un proyecto de código abierto que se puede usar libremente.\n",
        "\n",
        "NumPy es un estándar para Python numérico.\n",
        "\n",
        "Las operaciones con listas en Python son muy lentas, el objetivo de numpy es proveer de objetos mucho más rápidos.\n",
        "\n",
        "NumPy almacena los arreglos en lugares continuos dentro de la memoria a diferencia de las listas, por lo tanto pueden ser accesadas y manipuladas de manera más eficiente.\n",
        "\n",
        "NumPy está escrito parcialment en Python pero las partes que requieren su manipulación rápida está escrita en C y C++.\n",
        "\n",
        "Para hacer uso de numpy primero se debe instalar y luego importar al ambiente de trabajo."
      ]
    },
    {
      "cell_type": "code",
      "source": [
        "import numpy as np\n",
        "\n",
        "a=np.array([1,2,3])\n",
        "a"
      ],
      "metadata": {
        "colab": {
          "base_uri": "https://localhost:8080/"
        },
        "id": "ZLNYbFvl_vgn",
        "outputId": "b9d7c7ab-ca34-4a03-98cd-e56044bb542d"
      },
      "execution_count": null,
      "outputs": [
        {
          "output_type": "execute_result",
          "data": {
            "text/plain": [
              "array([1, 2, 3])"
            ]
          },
          "metadata": {},
          "execution_count": 2
        }
      ]
    },
    {
      "cell_type": "code",
      "metadata": {
        "id": "egDcto3W96QN",
        "colab": {
          "base_uri": "https://localhost:8080/"
        },
        "outputId": "4dfdad48-7649-42d9-9523-ff7ed9d5a864"
      },
      "source": [
        "lista=list(range(10000000))\n",
        "%timeit sum(lista)"
      ],
      "execution_count": null,
      "outputs": [
        {
          "output_type": "stream",
          "text": [
            "10 loops, best of 3: 53.3 ms per loop\n"
          ],
          "name": "stdout"
        }
      ]
    },
    {
      "cell_type": "code",
      "metadata": {
        "id": "1yjY7GV7-PtH",
        "colab": {
          "base_uri": "https://localhost:8080/"
        },
        "outputId": "4cb43ee1-4f10-43e3-8862-6edf1e017064"
      },
      "source": [
        "import numpy as np\n",
        "vector=np.array(lista)\n",
        "%timeit np.sum(vector)"
      ],
      "execution_count": null,
      "outputs": [
        {
          "output_type": "stream",
          "text": [
            "100 loops, best of 3: 9.66 ms per loop\n"
          ],
          "name": "stdout"
        }
      ]
    },
    {
      "cell_type": "code",
      "metadata": {
        "id": "m43Ov0UX8-xp",
        "colab": {
          "base_uri": "https://localhost:8080/"
        },
        "outputId": "305f7199-c57a-44ce-d673-2ffc7e5c4f06"
      },
      "source": [
        "a=[1,2,3,4]\n",
        "b=[10,11,12,13]\n",
        "a+b"
      ],
      "execution_count": null,
      "outputs": [
        {
          "output_type": "execute_result",
          "data": {
            "text/plain": [
              "[1, 2, 3, 4, 10, 11, 12, 13]"
            ]
          },
          "metadata": {},
          "execution_count": 25
        }
      ]
    },
    {
      "cell_type": "code",
      "metadata": {
        "id": "LaVsRFdy8-k1",
        "colab": {
          "base_uri": "https://localhost:8080/"
        },
        "outputId": "27f11343-ec2f-4db3-e98f-e3928b3dade5"
      },
      "source": [
        "suma=[]\n",
        "for dato1,dato2 in zip(a,b):\n",
        "  suma.append(dato1+dato2)\n",
        "print(suma)"
      ],
      "execution_count": null,
      "outputs": [
        {
          "output_type": "stream",
          "text": [
            "[11, 13, 15, 17]\n"
          ],
          "name": "stdout"
        }
      ]
    },
    {
      "cell_type": "code",
      "metadata": {
        "id": "VEk9ddC2mw3m",
        "colab": {
          "base_uri": "https://localhost:8080/"
        },
        "outputId": "b91602c7-9cf4-4f53-e06f-82d539956dd6"
      },
      "source": [
        "x=np.array(a)\n",
        "y=np.array(b)\n",
        "print(x+y)\n",
        "print(x-y)\n",
        "print(x*y)\n",
        "print(x@y)"
      ],
      "execution_count": null,
      "outputs": [
        {
          "output_type": "stream",
          "name": "stdout",
          "text": [
            "[11 13 15 17]\n",
            "[-9 -9 -9 -9]\n",
            "[10 22 36 52]\n",
            "120\n"
          ]
        }
      ]
    },
    {
      "cell_type": "code",
      "metadata": {
        "id": "xOINPrJHn6SH",
        "colab": {
          "base_uri": "https://localhost:8080/"
        },
        "outputId": "ade115a5-0b25-47c4-e2c9-b18aeb9b0f56"
      },
      "source": [
        "a = np.array(1)\n",
        "b = np.array([1, 2, 3, 4, 5])\n",
        "c = np.array([[1, 2, 3], [4, 5, 6]])\n",
        "d = np.array([[[1, 2, 3], [4, 5, 6]], [[1, 2, 3], [4, 5, 6]]])\n",
        "\n",
        "print(a.ndim)\n",
        "print(b.ndim)\n",
        "print(c.ndim)\n",
        "print(d.ndim)"
      ],
      "execution_count": null,
      "outputs": [
        {
          "output_type": "stream",
          "text": [
            "0\n",
            "1\n",
            "2\n",
            "3\n"
          ],
          "name": "stdout"
        }
      ]
    },
    {
      "cell_type": "code",
      "metadata": {
        "id": "X57pMgjroOBW",
        "colab": {
          "base_uri": "https://localhost:8080/"
        },
        "outputId": "d4844e58-39a7-4755-ce4f-9b2faa0fe2ad"
      },
      "source": [
        "e = np.array([1, 2, 3, 4], ndmin=5)\n",
        "\n",
        "print(e)\n",
        "print('number of dimensions :', e.ndim)"
      ],
      "execution_count": null,
      "outputs": [
        {
          "output_type": "stream",
          "text": [
            "[[[[[1 2 3 4]]]]]\n",
            "number of dimensions : 5\n"
          ],
          "name": "stdout"
        }
      ]
    },
    {
      "cell_type": "code",
      "metadata": {
        "id": "WkAmy31PqyNk",
        "colab": {
          "base_uri": "https://localhost:8080/"
        },
        "outputId": "3fa0761d-53ae-46cb-e12b-3a3ae78e5247"
      },
      "source": [
        "x=np.array([1,2,3,4,-5,-6,-7,-8])\n",
        "print(x)"
      ],
      "execution_count": null,
      "outputs": [
        {
          "output_type": "stream",
          "name": "stdout",
          "text": [
            "[ 1  2  3  4 -5 -6 -7 -8]\n"
          ]
        }
      ]
    },
    {
      "cell_type": "code",
      "metadata": {
        "id": "GIJ6RAQkq-hz",
        "colab": {
          "base_uri": "https://localhost:8080/"
        },
        "outputId": "20f490d6-8e25-43ed-e35d-093d83ac453b"
      },
      "source": [
        "print('tipo de dato',x.dtype)\n",
        "print('forma ',x.shape)\n",
        "print('tamano ',x.size)\n",
        "print('dimensiones ',x.ndim)\n",
        "print('tamano de cada elemento ',x.itemsize)\n",
        "print('memoria usada ',x.nbytes)"
      ],
      "execution_count": null,
      "outputs": [
        {
          "output_type": "stream",
          "name": "stdout",
          "text": [
            "tipo de dato int64\n",
            "forma  (8,)\n",
            "tamano  8\n",
            "dimensiones  1\n",
            "tamano de cada elemento  8\n",
            "memoria usada  64\n"
          ]
        }
      ]
    },
    {
      "cell_type": "code",
      "metadata": {
        "id": "-Vw-2xMXq6SU",
        "colab": {
          "base_uri": "https://localhost:8080/",
          "height": 35
        },
        "outputId": "5b44fb3a-1847-4c6b-9d1d-22a4082263f0"
      },
      "source": [
        "print(x[0])"
      ],
      "execution_count": null,
      "outputs": [
        {
          "output_type": "stream",
          "text": [
            "1\n"
          ],
          "name": "stdout"
        }
      ]
    },
    {
      "cell_type": "code",
      "metadata": {
        "id": "3kiv8dTmrFZG",
        "colab": {
          "base_uri": "https://localhost:8080/",
          "height": 35
        },
        "outputId": "02083c1f-272e-4c5e-f17a-bae12c4f3410"
      },
      "source": [
        "print(x[1])"
      ],
      "execution_count": null,
      "outputs": [
        {
          "output_type": "stream",
          "text": [
            "2\n"
          ],
          "name": "stdout"
        }
      ]
    },
    {
      "cell_type": "code",
      "metadata": {
        "id": "1_dNAQPYrKsQ",
        "colab": {
          "base_uri": "https://localhost:8080/",
          "height": 35
        },
        "outputId": "5021bb0e-7ae6-4096-e8fb-590feb038c7c"
      },
      "source": [
        "print(x.__getitem__(1))"
      ],
      "execution_count": null,
      "outputs": [
        {
          "output_type": "stream",
          "text": [
            "2\n"
          ],
          "name": "stdout"
        }
      ]
    },
    {
      "cell_type": "code",
      "metadata": {
        "id": "GUg5N5p099Js",
        "colab": {
          "base_uri": "https://localhost:8080/",
          "height": 35
        },
        "outputId": "7a5ac8c4-fb84-415a-bd08-197bf1594fd6"
      },
      "source": [
        "print(x[-1])"
      ],
      "execution_count": null,
      "outputs": [
        {
          "output_type": "stream",
          "text": [
            "-8\n"
          ],
          "name": "stdout"
        }
      ]
    },
    {
      "cell_type": "code",
      "metadata": {
        "id": "YWfXieEY-Hlt",
        "colab": {
          "base_uri": "https://localhost:8080/",
          "height": 35
        },
        "outputId": "f07f56d3-e775-496f-bea0-0cc541d17f4f"
      },
      "source": [
        "print(x[-2])"
      ],
      "execution_count": null,
      "outputs": [
        {
          "output_type": "stream",
          "text": [
            "-7\n"
          ],
          "name": "stdout"
        }
      ]
    },
    {
      "cell_type": "code",
      "metadata": {
        "id": "_3LYJULg-QV5",
        "colab": {
          "base_uri": "https://localhost:8080/",
          "height": 35
        },
        "outputId": "5c60238a-8828-4332-a058-70d9dbe4f34f"
      },
      "source": [
        "print(x[-2:])"
      ],
      "execution_count": null,
      "outputs": [
        {
          "output_type": "stream",
          "text": [
            "[-7 -8]\n"
          ],
          "name": "stdout"
        }
      ]
    },
    {
      "cell_type": "code",
      "metadata": {
        "id": "Dv2GOuBu-V3c",
        "colab": {
          "base_uri": "https://localhost:8080/",
          "height": 35
        },
        "outputId": "46c2296a-a74a-4499-f745-44c853c541f3"
      },
      "source": [
        "print(x[1:3])"
      ],
      "execution_count": null,
      "outputs": [
        {
          "output_type": "stream",
          "text": [
            "[2 3]\n"
          ],
          "name": "stdout"
        }
      ]
    },
    {
      "cell_type": "code",
      "metadata": {
        "id": "V7GClm5C-eEX",
        "colab": {
          "base_uri": "https://localhost:8080/",
          "height": 35
        },
        "outputId": "1d95801e-00e8-498e-e287-63d6e7f24f93"
      },
      "source": [
        "print(x[:3])"
      ],
      "execution_count": null,
      "outputs": [
        {
          "output_type": "stream",
          "text": [
            "[1 2 3]\n"
          ],
          "name": "stdout"
        }
      ]
    },
    {
      "cell_type": "code",
      "metadata": {
        "id": "TWWpsNxtrPG5",
        "colab": {
          "base_uri": "https://localhost:8080/",
          "height": 35
        },
        "outputId": "3da10d38-a907-435e-e344-8b95b96cf3cd"
      },
      "source": [
        "x[0]=3.1416\n",
        "print(x)"
      ],
      "execution_count": null,
      "outputs": [
        {
          "output_type": "stream",
          "text": [
            "[ 3  2  3  4 -5 -6 -7 -8]\n"
          ],
          "name": "stdout"
        }
      ]
    },
    {
      "cell_type": "code",
      "metadata": {
        "id": "JvqymrKPz2pN",
        "colab": {
          "base_uri": "https://localhost:8080/"
        },
        "outputId": "23216597-e7c9-4d86-dc16-c4d6043896f9"
      },
      "source": [
        "x=np.array([0 if valor<0 else valor for valor in x ])\n",
        "print(x)"
      ],
      "execution_count": null,
      "outputs": [
        {
          "output_type": "stream",
          "name": "stdout",
          "text": [
            "[1 2 3 4 0 0 0 0]\n"
          ]
        }
      ]
    },
    {
      "cell_type": "code",
      "metadata": {
        "id": "92dCcK6EI6eI",
        "colab": {
          "base_uri": "https://localhost:8080/"
        },
        "outputId": "e448cd1c-0ff9-4704-f549-8b9b94dcecbf"
      },
      "source": [
        "x = np.empty([3,2], dtype=int)\n",
        "print(x)"
      ],
      "execution_count": null,
      "outputs": [
        {
          "output_type": "stream",
          "text": [
            "[[26525328        0]\n",
            " [       0        0]\n",
            " [       0        0]]\n"
          ],
          "name": "stdout"
        }
      ]
    },
    {
      "cell_type": "code",
      "metadata": {
        "id": "DDlorVehJTc1",
        "colab": {
          "base_uri": "https://localhost:8080/"
        },
        "outputId": "0cd384f0-d8d8-47bf-c571-8a650e949c21"
      },
      "source": [
        "x = np.zeros(5)\n",
        "print( x)"
      ],
      "execution_count": null,
      "outputs": [
        {
          "output_type": "stream",
          "text": [
            "[0. 0. 0. 0. 0.]\n"
          ],
          "name": "stdout"
        }
      ]
    },
    {
      "cell_type": "code",
      "metadata": {
        "id": "Cj0b9SMJJfOO",
        "colab": {
          "base_uri": "https://localhost:8080/"
        },
        "outputId": "8de332ae-6e6d-4720-b47d-02b969404b6a"
      },
      "source": [
        "x = np.zeros((2,2), dtype=[('x', 'i4'), ('y', 'i4')])\n",
        "print(x)"
      ],
      "execution_count": null,
      "outputs": [
        {
          "output_type": "stream",
          "text": [
            "[[(0, 0) (0, 0)]\n",
            " [(0, 0) (0, 0)]]\n"
          ],
          "name": "stdout"
        }
      ]
    },
    {
      "cell_type": "code",
      "metadata": {
        "id": "N5nLafbbJtsm",
        "colab": {
          "base_uri": "https://localhost:8080/"
        },
        "outputId": "ec13bbd7-984a-472f-913f-5b3b3c4bfe60"
      },
      "source": [
        "x = np.ones(5)\n",
        "print( x)"
      ],
      "execution_count": null,
      "outputs": [
        {
          "output_type": "stream",
          "text": [
            "[1. 1. 1. 1. 1.]\n"
          ],
          "name": "stdout"
        }
      ]
    },
    {
      "cell_type": "code",
      "metadata": {
        "id": "ve34Bx7cJwZO",
        "colab": {
          "base_uri": "https://localhost:8080/"
        },
        "outputId": "a2f6bbb9-9f4d-48bf-c7a1-c6bbea1805b9"
      },
      "source": [
        "x = np.ones(5)*np.pi\n",
        "print (x)"
      ],
      "execution_count": null,
      "outputs": [
        {
          "output_type": "stream",
          "text": [
            "[3.14159265 3.14159265 3.14159265 3.14159265 3.14159265]\n"
          ],
          "name": "stdout"
        }
      ]
    },
    {
      "cell_type": "code",
      "metadata": {
        "id": "7P5UmpzGK-bL",
        "colab": {
          "base_uri": "https://localhost:8080/"
        },
        "outputId": "ea05ac6f-1c1a-4fc0-e520-2542f0a9c884"
      },
      "source": [
        "x = np.arange(10)\n",
        "print(x)"
      ],
      "execution_count": null,
      "outputs": [
        {
          "output_type": "stream",
          "text": [
            "[0 1 2 3 4 5 6 7 8 9]\n"
          ],
          "name": "stdout"
        }
      ]
    },
    {
      "cell_type": "code",
      "metadata": {
        "id": "hipGXBM5LfDg",
        "colab": {
          "base_uri": "https://localhost:8080/"
        },
        "outputId": "bc160aa7-23d3-46dd-f186-1e0aae6bc6a6"
      },
      "source": [
        "x = np.arange(10,20)\n",
        "print(x)"
      ],
      "execution_count": null,
      "outputs": [
        {
          "output_type": "stream",
          "text": [
            "[10 11 12 13 14 15 16 17 18 19]\n"
          ],
          "name": "stdout"
        }
      ]
    },
    {
      "cell_type": "code",
      "metadata": {
        "id": "nSniLoN8Ljq1",
        "colab": {
          "base_uri": "https://localhost:8080/"
        },
        "outputId": "1bdf40d4-eee1-47d4-aad9-3568cad1e4af"
      },
      "source": [
        "x = np.arange(10,20,2)\n",
        "print(x)"
      ],
      "execution_count": null,
      "outputs": [
        {
          "output_type": "stream",
          "text": [
            "[10 12 14 16 18]\n"
          ],
          "name": "stdout"
        }
      ]
    },
    {
      "cell_type": "code",
      "metadata": {
        "id": "VMt2J0gGLnGC",
        "colab": {
          "base_uri": "https://localhost:8080/"
        },
        "outputId": "462631d0-d0c3-4082-cad0-7ccea204a09f"
      },
      "source": [
        "x = np.arange(10,20,2,dtype=float)\n",
        "print(x)"
      ],
      "execution_count": null,
      "outputs": [
        {
          "output_type": "stream",
          "name": "stdout",
          "text": [
            "[10. 12. 14. 16. 18.]\n"
          ]
        }
      ]
    },
    {
      "cell_type": "code",
      "metadata": {
        "id": "v7_dnHqAMCFP",
        "colab": {
          "base_uri": "https://localhost:8080/"
        },
        "outputId": "a99ac5da-ba04-44f8-ee13-01f8184fbd5f"
      },
      "source": [
        "x = np.linspace(10,20)\n",
        "print(x)"
      ],
      "execution_count": null,
      "outputs": [
        {
          "output_type": "stream",
          "text": [
            "[10.         10.20408163 10.40816327 10.6122449  10.81632653 11.02040816\n",
            " 11.2244898  11.42857143 11.63265306 11.83673469 12.04081633 12.24489796\n",
            " 12.44897959 12.65306122 12.85714286 13.06122449 13.26530612 13.46938776\n",
            " 13.67346939 13.87755102 14.08163265 14.28571429 14.48979592 14.69387755\n",
            " 14.89795918 15.10204082 15.30612245 15.51020408 15.71428571 15.91836735\n",
            " 16.12244898 16.32653061 16.53061224 16.73469388 16.93877551 17.14285714\n",
            " 17.34693878 17.55102041 17.75510204 17.95918367 18.16326531 18.36734694\n",
            " 18.57142857 18.7755102  18.97959184 19.18367347 19.3877551  19.59183673\n",
            " 19.79591837 20.        ]\n"
          ],
          "name": "stdout"
        }
      ]
    },
    {
      "cell_type": "code",
      "metadata": {
        "id": "PpbcyiiSMQBl",
        "colab": {
          "base_uri": "https://localhost:8080/"
        },
        "outputId": "7c926f23-cac4-4ae1-990c-828683d60e64"
      },
      "source": [
        "x = np.linspace(10,20,11)\n",
        "print(x)"
      ],
      "execution_count": null,
      "outputs": [
        {
          "output_type": "stream",
          "text": [
            "[10. 11. 12. 13. 14. 15. 16. 17. 18. 19. 20.]\n"
          ],
          "name": "stdout"
        }
      ]
    },
    {
      "cell_type": "code",
      "metadata": {
        "id": "UQW1X_hOBD4n",
        "colab": {
          "base_uri": "https://localhost:8080/",
          "height": 51
        },
        "outputId": "c1ee989a-db4d-4af8-9b1b-58f03aa3ad9b"
      },
      "source": [
        "complejos=np.array([1+2j,3,4-2.1j])\n",
        "print(complejos)\n",
        "print(complejos.dtype)"
      ],
      "execution_count": null,
      "outputs": [
        {
          "output_type": "stream",
          "text": [
            "[1.+2.j  3.+0.j  4.-2.1j]\n",
            "complex128\n"
          ],
          "name": "stdout"
        }
      ]
    },
    {
      "cell_type": "code",
      "metadata": {
        "id": "aS_MMEEzrXL-",
        "colab": {
          "base_uri": "https://localhost:8080/",
          "height": 51
        },
        "outputId": "cae0be1a-5f27-4fca-aad2-549fd323e136"
      },
      "source": [
        "y=np.array([1,2,3.1416,4])\n",
        "print(y)\n",
        "print(y.dtype)\n"
      ],
      "execution_count": null,
      "outputs": [
        {
          "output_type": "stream",
          "text": [
            "[1.     2.     3.1416 4.    ]\n",
            "float64\n"
          ],
          "name": "stdout"
        }
      ]
    },
    {
      "cell_type": "code",
      "metadata": {
        "id": "SSyrGnRQri2O",
        "colab": {
          "base_uri": "https://localhost:8080/",
          "height": 34
        },
        "outputId": "7eac10a7-d7ed-465d-a21b-d15db9f7ab61"
      },
      "source": [
        "y[1]=2.7172\n",
        "print(y)"
      ],
      "execution_count": null,
      "outputs": [
        {
          "output_type": "stream",
          "text": [
            "[1.     2.7172 3.1416 4.    ]\n"
          ],
          "name": "stdout"
        }
      ]
    },
    {
      "cell_type": "code",
      "metadata": {
        "id": "Q2DFT7lervBn",
        "colab": {
          "base_uri": "https://localhost:8080/",
          "height": 51
        },
        "outputId": "7934b1c3-982d-4f9e-e7be-81c3049c2eef"
      },
      "source": [
        "xx=np.array([1,2,3,4],dtype=float)\n",
        "print(xx)\n",
        "print(xx.dtype)"
      ],
      "execution_count": null,
      "outputs": [
        {
          "output_type": "stream",
          "text": [
            "[1. 2. 3. 4.]\n",
            "float64\n"
          ],
          "name": "stdout"
        }
      ]
    },
    {
      "cell_type": "code",
      "metadata": {
        "id": "-edqleOFr7h1",
        "colab": {
          "base_uri": "https://localhost:8080/",
          "height": 34
        },
        "outputId": "c0e6b719-379a-417b-c8ab-453dfc0ddad9"
      },
      "source": [
        "xx[2]=3.1416\n",
        "print(xx)"
      ],
      "execution_count": null,
      "outputs": [
        {
          "output_type": "stream",
          "text": [
            "[1.     2.     3.1416 4.    ]\n"
          ],
          "name": "stdout"
        }
      ]
    },
    {
      "cell_type": "code",
      "metadata": {
        "id": "8TYOCsSZsD2q",
        "colab": {
          "base_uri": "https://localhost:8080/",
          "height": 34
        },
        "outputId": "67cdf45c-8447-4288-8b45-c5b496e8963f"
      },
      "source": [
        "xx.__setitem__(1,2.7172)\n",
        "print(xx)"
      ],
      "execution_count": null,
      "outputs": [
        {
          "output_type": "stream",
          "text": [
            "[1.     2.7172 3.1416 4.    ]\n"
          ],
          "name": "stdout"
        }
      ]
    },
    {
      "cell_type": "code",
      "metadata": {
        "id": "dpWZRLDlsbSn",
        "colab": {
          "base_uri": "https://localhost:8080/",
          "height": 34
        },
        "outputId": "552e59af-ff71-4007-b097-dd8fdaa05077"
      },
      "source": [
        "xx[0]=1.4142\n",
        "print(xx)"
      ],
      "execution_count": null,
      "outputs": [
        {
          "output_type": "stream",
          "text": [
            "[1.4142 2.7172 3.1416 4.    ]\n"
          ],
          "name": "stdout"
        }
      ]
    },
    {
      "cell_type": "code",
      "metadata": {
        "id": "BfQGECs9szcf",
        "colab": {
          "base_uri": "https://localhost:8080/",
          "height": 34
        },
        "outputId": "43eaeb63-7217-4767-ade0-bee47f0d6060"
      },
      "source": [
        "z=x+y\n",
        "print(z)"
      ],
      "execution_count": null,
      "outputs": [
        {
          "output_type": "stream",
          "text": [
            "[2.     4.7172 6.1416 8.    ]\n"
          ],
          "name": "stdout"
        }
      ]
    },
    {
      "cell_type": "code",
      "metadata": {
        "id": "HQJ4200Et817",
        "colab": {
          "base_uri": "https://localhost:8080/",
          "height": 34
        },
        "outputId": "ab3101be-7f34-4695-867d-5a0b9a5f46e2"
      },
      "source": [
        "z=x/y\n",
        "print(z)"
      ],
      "execution_count": null,
      "outputs": [
        {
          "output_type": "stream",
          "text": [
            "[1.         0.73605182 0.95492743 1.        ]\n"
          ],
          "name": "stdout"
        }
      ]
    },
    {
      "cell_type": "code",
      "metadata": {
        "id": "DOHMHAtWuGlH",
        "colab": {
          "base_uri": "https://localhost:8080/",
          "height": 34
        },
        "outputId": "21ebc801-38f2-4c14-9c9e-61b721d25b51"
      },
      "source": [
        "z=x*y\n",
        "print(z)"
      ],
      "execution_count": null,
      "outputs": [
        {
          "output_type": "stream",
          "text": [
            "[ 1.      5.4344  9.4248 16.    ]\n"
          ],
          "name": "stdout"
        }
      ]
    },
    {
      "cell_type": "code",
      "metadata": {
        "id": "r3d92rs8uKX6",
        "colab": {
          "base_uri": "https://localhost:8080/",
          "height": 34
        },
        "outputId": "ec3c82ab-d65b-4001-bd5e-575162d0fc6e"
      },
      "source": [
        "z=x**y\n",
        "print(z)"
      ],
      "execution_count": null,
      "outputs": [
        {
          "output_type": "stream",
          "text": [
            "[  1.           6.57595306  31.54453529 256.        ]\n"
          ],
          "name": "stdout"
        }
      ]
    },
    {
      "cell_type": "code",
      "metadata": {
        "id": "LbCTwK-UuNV7",
        "colab": {
          "base_uri": "https://localhost:8080/"
        },
        "outputId": "49571de1-bb27-4ed1-d625-48712bcf3a92"
      },
      "source": [
        "s=np.sin(x)\n",
        "print(s)"
      ],
      "execution_count": null,
      "outputs": [
        {
          "output_type": "stream",
          "name": "stdout",
          "text": [
            "[-0.54402111 -0.53657292  0.99060736 -0.28790332 -0.75098725]\n"
          ]
        }
      ]
    },
    {
      "cell_type": "code",
      "source": [
        "s=np.cos(x)\n",
        "print(s)"
      ],
      "metadata": {
        "colab": {
          "base_uri": "https://localhost:8080/"
        },
        "id": "0eG0gclX7_Bv",
        "outputId": "8410d71c-67f3-487d-ab7c-a6064e588563"
      },
      "execution_count": null,
      "outputs": [
        {
          "output_type": "stream",
          "name": "stdout",
          "text": [
            "[-0.83907153  0.84385396  0.13673722 -0.95765948  0.66031671]\n"
          ]
        }
      ]
    },
    {
      "cell_type": "code",
      "source": [
        "s=np.exp(x)\n",
        "print(s)"
      ],
      "metadata": {
        "colab": {
          "base_uri": "https://localhost:8080/"
        },
        "id": "UrgJP5Gh8B2a",
        "outputId": "00cfc5b5-3ddc-4d4f-e5d1-31c7389ffde3"
      },
      "execution_count": null,
      "outputs": [
        {
          "output_type": "stream",
          "name": "stdout",
          "text": [
            "[2.20264658e+04 1.62754791e+05 1.20260428e+06 8.88611052e+06\n",
            " 6.56599691e+07]\n"
          ]
        }
      ]
    },
    {
      "cell_type": "code",
      "source": [
        "s=np.log(x)\n",
        "print(s)"
      ],
      "metadata": {
        "colab": {
          "base_uri": "https://localhost:8080/"
        },
        "id": "CWPWaFTn8EbX",
        "outputId": "f7d4f62b-ff2b-4eb6-c52f-80aec0657b28"
      },
      "execution_count": null,
      "outputs": [
        {
          "output_type": "stream",
          "name": "stdout",
          "text": [
            "[2.30258509 2.48490665 2.63905733 2.77258872 2.89037176]\n"
          ]
        }
      ]
    },
    {
      "cell_type": "code",
      "source": [
        "s=np.log10(x)\n",
        "print(s)"
      ],
      "metadata": {
        "colab": {
          "base_uri": "https://localhost:8080/"
        },
        "id": "vHKgmFUX8G0O",
        "outputId": "aadc33aa-3112-4852-ac38-2e7fc9e0ba52"
      },
      "execution_count": null,
      "outputs": [
        {
          "output_type": "stream",
          "name": "stdout",
          "text": [
            "[1.         1.07918125 1.14612804 1.20411998 1.25527251]\n"
          ]
        }
      ]
    },
    {
      "cell_type": "code",
      "source": [
        "s=np.arcsinh(x)\n",
        "print(s)"
      ],
      "metadata": {
        "colab": {
          "base_uri": "https://localhost:8080/"
        },
        "id": "3Lu1asga8Jxx",
        "outputId": "dfdcca8b-ef5e-459d-bb79-2a1bfc80383e"
      },
      "execution_count": null,
      "outputs": [
        {
          "output_type": "stream",
          "name": "stdout",
          "text": [
            "[2.99822295 3.17978544 3.33347759 3.46671104 3.58428965]\n"
          ]
        }
      ]
    },
    {
      "cell_type": "code",
      "source": [
        "s=np.sqrt(x)\n",
        "print(s)"
      ],
      "metadata": {
        "colab": {
          "base_uri": "https://localhost:8080/"
        },
        "id": "EefdhXy08SC2",
        "outputId": "ad9e176a-d336-493e-8323-e347205992d7"
      },
      "execution_count": null,
      "outputs": [
        {
          "output_type": "stream",
          "name": "stdout",
          "text": [
            "[3.16227766 3.46410162 3.74165739 4.         4.24264069]\n"
          ]
        }
      ]
    },
    {
      "cell_type": "code",
      "metadata": {
        "id": "MPZgGaYkuR3y",
        "colab": {
          "base_uri": "https://localhost:8080/",
          "height": 34
        },
        "outputId": "0711d62e-0854-4e3f-9d31-879ecf2c8cf5"
      },
      "source": [
        "x10=x*10\n",
        "print(x10)"
      ],
      "execution_count": null,
      "outputs": [
        {
          "output_type": "stream",
          "text": [
            "[10 20 30 40]\n"
          ],
          "name": "stdout"
        }
      ]
    },
    {
      "cell_type": "code",
      "metadata": {
        "id": "3G4yKS7GuWrh",
        "colab": {
          "base_uri": "https://localhost:8080/",
          "height": 34
        },
        "outputId": "43fc0a99-7a95-46b2-a86d-4f3a38361e29"
      },
      "source": [
        "x_10=x-10\n",
        "print(x_10)"
      ],
      "execution_count": null,
      "outputs": [
        {
          "output_type": "stream",
          "text": [
            "[-9 -8 -7 -6]\n"
          ],
          "name": "stdout"
        }
      ]
    },
    {
      "cell_type": "code",
      "metadata": {
        "id": "XS_S3Di5xkcu",
        "colab": {
          "base_uri": "https://localhost:8080/"
        },
        "outputId": "8b1545bd-4ed0-480d-e930-fe9c18adad08"
      },
      "source": [
        "x=np.array([-2,-4,-1,0,2,4,8,-9])\n",
        "print('x=',x)\n",
        "print('suma ',x.sum() )\n",
        "print('suma acumulada',x.cumsum())\n",
        "print('producto ',x.prod() )\n",
        "print('producto ',x.cumprod() )\n",
        "print('maximo ',x.max() )\n",
        "print('minimo ',x.min() )\n",
        "print('desviasion estandar ',x.std() )\n",
        "print('varianza ',x.var() )\n",
        "print('promedio ',x.mean( ) )"
      ],
      "execution_count": null,
      "outputs": [
        {
          "output_type": "stream",
          "text": [
            "x= [-2 -4 -1  0  2  4  8 -9]\n",
            "suma  -2\n",
            "suma acumulada [-2 -6 -7 -7 -5 -1  7 -2]\n",
            "producto  0\n",
            "producto  [-2  8 -8  0  0  0  0  0]\n",
            "maximo  8\n",
            "minimo  -9\n",
            "desviasion estandar  4.815340071064556\n",
            "varianza  23.1875\n",
            "promedio  -0.25\n"
          ],
          "name": "stdout"
        }
      ]
    },
    {
      "cell_type": "markdown",
      "source": [
        "La ecuación de Antoine permite calcular la presión de vapor de un componente\n",
        "puro en función de la temperatura.\n",
        "\n",
        "$$\n",
        "P_v=10^{A+\\frac{B}{C+T}}\n",
        "$$\n",
        "\n",
        "Se tienen los siguientes datos experimentales\n",
        "\n",
        "![image.png](data:image/png;base64,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)\n",
        "\n",
        "Calcule la presión de vapor con los siguientes valores de $A = 5.2258$ ; $B = -1560.0$ y $C = 428.1183$. \n",
        "\n",
        "Calcule las diferencias y el coeficiente de variación (cv=desv estandar/media)"
      ],
      "metadata": {
        "id": "KQ6z5zES6XBo"
      }
    },
    {
      "cell_type": "code",
      "source": [
        ""
      ],
      "metadata": {
        "id": "joZLaXqcoDuu"
      },
      "execution_count": null,
      "outputs": []
    },
    {
      "cell_type": "code",
      "metadata": {
        "id": "tUn_n8FyxB8b",
        "colab": {
          "base_uri": "https://localhost:8080/",
          "height": 35
        },
        "outputId": "2d57731d-95f3-44cc-983d-1bf2a9716395"
      },
      "source": [
        "arreglo=np.array([-2,-3,0,1,-1,4,-10,3])\n",
        "negativos=arreglo<0\n",
        "print(negativos)"
      ],
      "execution_count": null,
      "outputs": [
        {
          "output_type": "stream",
          "text": [
            "[ True  True False False  True False  True False]\n"
          ],
          "name": "stdout"
        }
      ]
    },
    {
      "cell_type": "code",
      "metadata": {
        "id": "ajv8fzGQxack",
        "colab": {
          "base_uri": "https://localhost:8080/",
          "height": 35
        },
        "outputId": "b875269c-62e1-4f66-a53f-52bfa1f8210f"
      },
      "source": [
        "print(arreglo[negativos])"
      ],
      "execution_count": null,
      "outputs": [
        {
          "output_type": "stream",
          "text": [
            "[ -2  -3  -1 -10]\n"
          ],
          "name": "stdout"
        }
      ]
    },
    {
      "cell_type": "code",
      "metadata": {
        "id": "N38id_T3xeSn",
        "colab": {
          "base_uri": "https://localhost:8080/",
          "height": 35
        },
        "outputId": "4e7a9638-d82d-4200-8d72-f06bef220ec0"
      },
      "source": [
        "arreglo[negativos]=0\n",
        "print(arreglo)"
      ],
      "execution_count": null,
      "outputs": [
        {
          "output_type": "stream",
          "text": [
            "[0 0 0 1 0 4 0 3]\n"
          ],
          "name": "stdout"
        }
      ]
    },
    {
      "cell_type": "code",
      "metadata": {
        "id": "PCbEGioG4vPM",
        "colab": {
          "base_uri": "https://localhost:8080/"
        },
        "outputId": "37d16bd9-b8b7-4f7a-cb21-5a871034e863"
      },
      "source": [
        "print('suma positivos ',x.sum(where=x>0) )\n",
        "print('suma positivos ',x[x>0].sum() )\n",
        "\n",
        "print('suma negativos ',x.sum(where=x<0) )\n",
        "print('desviacion positivos ',x[x>0].std() )\n",
        "\n",
        "print('promedio positivos ',x[x>0].mean() )"
      ],
      "execution_count": null,
      "outputs": [
        {
          "output_type": "stream",
          "text": [
            "suma positivos  14\n",
            "suma positivos  14\n",
            "suma negativos  -16\n",
            "desviacion positivos  2.494438257849294\n",
            "promedio positivos  4.666666666666667\n"
          ],
          "name": "stdout"
        }
      ]
    },
    {
      "cell_type": "code",
      "metadata": {
        "id": "A2l3s5-H1BVH",
        "colab": {
          "base_uri": "https://localhost:8080/"
        },
        "outputId": "4b3e5e30-9d38-4bdb-c584-c60064423bf0"
      },
      "source": [
        "p_max=np.where(x==x.max())\n",
        "print(p_max)\n",
        "print(x[p_max])"
      ],
      "execution_count": null,
      "outputs": [
        {
          "output_type": "stream",
          "text": [
            "(array([6]),)\n",
            "[8]\n"
          ],
          "name": "stdout"
        }
      ]
    },
    {
      "cell_type": "code",
      "metadata": {
        "id": "aIKhfZrTuerQ",
        "colab": {
          "base_uri": "https://localhost:8080/",
          "height": 34
        },
        "outputId": "8ef1fc6f-2412-43bf-c811-be813ea660e0"
      },
      "source": [
        "indices=[0,2,3]\n",
        "print(x[indices])"
      ],
      "execution_count": null,
      "outputs": [
        {
          "output_type": "stream",
          "text": [
            "[1 3 4]\n"
          ],
          "name": "stdout"
        }
      ]
    },
    {
      "cell_type": "code",
      "metadata": {
        "id": "nBF_Ip4ePnpl",
        "colab": {
          "base_uri": "https://localhost:8080/"
        },
        "outputId": "0be97709-1943-4656-cb25-1b59111c1c68"
      },
      "source": [
        "x = np.array([np.nan, 1,2,np.nan,3,4,5])\n",
        "print (x[~np.isnan(x)])"
      ],
      "execution_count": null,
      "outputs": [
        {
          "output_type": "stream",
          "text": [
            "[1. 2. 3. 4. 5.]\n"
          ],
          "name": "stdout"
        }
      ]
    },
    {
      "cell_type": "code",
      "metadata": {
        "id": "C3lTlGUg4olf",
        "colab": {
          "base_uri": "https://localhost:8080/"
        },
        "outputId": "4df6b7bb-36d6-4721-b3ba-1346c9819566"
      },
      "source": [
        "y=x\n",
        "y[0]=-100\n",
        "print(x)\n",
        "print(y)"
      ],
      "execution_count": null,
      "outputs": [
        {
          "output_type": "stream",
          "text": [
            "[-100   -4   -1    0    2    4    8   -9]\n",
            "[-100   -4   -1    0    2    4    8   -9]\n"
          ],
          "name": "stdout"
        }
      ]
    },
    {
      "cell_type": "code",
      "metadata": {
        "id": "wRCwVVS7581u",
        "colab": {
          "base_uri": "https://localhost:8080/"
        },
        "outputId": "37ef8201-328b-45b0-8b6c-edffce8d4087"
      },
      "source": [
        "import numpy as np\n",
        "x=np.array([-2,-4,-1,0,2,4,8,-9])\n",
        "\n",
        "copiax=x.copy()\n",
        "copiax[0]=200\n",
        "print(x)\n",
        "print(copiax)"
      ],
      "execution_count": null,
      "outputs": [
        {
          "output_type": "stream",
          "name": "stdout",
          "text": [
            "[-2 -4 -1  0  2  4  8 -9]\n",
            "[200  -4  -1   0   2   4   8  -9]\n"
          ]
        }
      ]
    },
    {
      "cell_type": "markdown",
      "source": [
        "Sistemas de ecuaciones lineales\n",
        "\n",
        "$$\n",
        "\\begin{align}\n",
        "2x + y − z &= 11\\\\\n",
        "x − 3y &= −20\\\\\n",
        "4x + 2y + 5z &= 8\n",
        "\\end{align}\n",
        "$$"
      ],
      "metadata": {
        "id": "5qyvldMl9F-D"
      }
    },
    {
      "cell_type": "code",
      "source": [
        "A=np.array([[2,1,-1],\n",
        "            [1,-3,0],\n",
        "            [4,2,5]])\n",
        "b=np.array([[11,-20,8]])"
      ],
      "metadata": {
        "id": "8Qzh2PT__GqB"
      },
      "execution_count": null,
      "outputs": []
    },
    {
      "cell_type": "code",
      "source": [
        "Ab=np.concatenate((A,b.T),axis=1)\n",
        "Ab"
      ],
      "metadata": {
        "colab": {
          "base_uri": "https://localhost:8080/"
        },
        "id": "TMH4JiTe_ghW",
        "outputId": "ccb902f9-5134-4d17-f473-0a3a4b38b456"
      },
      "execution_count": null,
      "outputs": [
        {
          "output_type": "execute_result",
          "data": {
            "text/plain": [
              "array([[  2,   1,  -1,  11],\n",
              "       [  1,  -3,   0, -20],\n",
              "       [  4,   2,   5,   8]])"
            ]
          },
          "metadata": {},
          "execution_count": 22
        }
      ]
    },
    {
      "cell_type": "code",
      "source": [
        "np.linalg.matrix_rank(A)"
      ],
      "metadata": {
        "colab": {
          "base_uri": "https://localhost:8080/"
        },
        "id": "LnbbIeD18zww",
        "outputId": "872cea61-e1d4-45c6-d44b-c7df97d05ba0"
      },
      "execution_count": null,
      "outputs": [
        {
          "output_type": "execute_result",
          "data": {
            "text/plain": [
              "3"
            ]
          },
          "metadata": {},
          "execution_count": 23
        }
      ]
    },
    {
      "cell_type": "code",
      "source": [
        "np.linalg.matrix_rank(Ab)"
      ],
      "metadata": {
        "colab": {
          "base_uri": "https://localhost:8080/"
        },
        "id": "e6LC_OcABWzy",
        "outputId": "88305b4f-dac1-4ba7-e4cf-46343b6b5c39"
      },
      "execution_count": null,
      "outputs": [
        {
          "output_type": "execute_result",
          "data": {
            "text/plain": [
              "3"
            ]
          },
          "metadata": {},
          "execution_count": 24
        }
      ]
    },
    {
      "cell_type": "code",
      "source": [
        "solucion = np.linalg.matrix_rank(A) == np.linalg.matrix_rank(A) == 3\n",
        "solucion"
      ],
      "metadata": {
        "colab": {
          "base_uri": "https://localhost:8080/"
        },
        "id": "3g01YlsNCI24",
        "outputId": "0535c628-4c16-4c83-b09b-292f89ecd758"
      },
      "execution_count": null,
      "outputs": [
        {
          "output_type": "execute_result",
          "data": {
            "text/plain": [
              "True"
            ]
          },
          "metadata": {},
          "execution_count": 30
        }
      ]
    },
    {
      "cell_type": "code",
      "source": [
        "np.linalg.det(A)"
      ],
      "metadata": {
        "colab": {
          "base_uri": "https://localhost:8080/"
        },
        "id": "4ms8SCuLGgel",
        "outputId": "3619a398-08b5-4bda-8a75-20e3f633bd26"
      },
      "execution_count": null,
      "outputs": [
        {
          "output_type": "execute_result",
          "data": {
            "text/plain": [
              "-49.000000000000014"
            ]
          },
          "metadata": {},
          "execution_count": 9
        }
      ]
    },
    {
      "cell_type": "code",
      "source": [
        "np.linalg.solve(A,b.T)"
      ],
      "metadata": {
        "colab": {
          "base_uri": "https://localhost:8080/"
        },
        "id": "Rmv501DlCPrT",
        "outputId": "24c029e3-a1f7-47cf-e497-9d7aeb163681"
      },
      "execution_count": null,
      "outputs": [
        {
          "output_type": "execute_result",
          "data": {
            "text/plain": [
              "array([[ 1.],\n",
              "       [ 7.],\n",
              "       [-2.]])"
            ]
          },
          "metadata": {},
          "execution_count": 6
        }
      ]
    },
    {
      "cell_type": "code",
      "source": [
        "np.dot(np.linalg.inv(A),b.T)"
      ],
      "metadata": {
        "colab": {
          "base_uri": "https://localhost:8080/"
        },
        "id": "HvnAfFWFGFHU",
        "outputId": "5ed4a74b-92e7-45b6-e260-c054461f1822"
      },
      "execution_count": null,
      "outputs": [
        {
          "output_type": "execute_result",
          "data": {
            "text/plain": [
              "array([[ 1.],\n",
              "       [ 7.],\n",
              "       [-2.]])"
            ]
          },
          "metadata": {},
          "execution_count": 8
        }
      ]
    },
    {
      "cell_type": "code",
      "source": [
        "#Regla de Cramer\n",
        "\n",
        "detA=np.linalg.det(A)\n",
        "cols=np.size(A,axis=1)\n",
        "x=np.zeros(cols)\n",
        "for c in range(cols):\n",
        "  Ac=A.copy()\n",
        "  Ac[:,c]=b\n",
        "  x[c]=np.linalg.det(Ac)/detA\n",
        "  \n",
        "print(x)"
      ],
      "metadata": {
        "colab": {
          "base_uri": "https://localhost:8080/"
        },
        "id": "mHYHKEbtGcjV",
        "outputId": "a2ae6e15-d89b-4501-a9da-5b336f9058e7"
      },
      "execution_count": null,
      "outputs": [
        {
          "output_type": "stream",
          "name": "stdout",
          "text": [
            "[ 1.  7. -2.]\n"
          ]
        }
      ]
    },
    {
      "cell_type": "markdown",
      "source": [
        "En el siguiente esquema de destilación\n",
        "que se usa para separar los siguientes cuatro componentes Para-Xileno, Estireno, Tolueno y\n",
        "Benceno, calcule el flujo molar de A, B, C y D para cumplir con la composición requerida en cada\n",
        "flujo.\n",
        "\n",
        "![image.png](data:image/png;base64,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)"
      ],
      "metadata": {
        "id": "HZ267b0r2x4s"
      }
    },
    {
      "cell_type": "code",
      "source": [
        ""
      ],
      "metadata": {
        "id": "RIzdHs8S4NVW"
      },
      "execution_count": null,
      "outputs": []
    },
    {
      "cell_type": "code",
      "metadata": {
        "id": "K7vXrznO6Mxc",
        "colab": {
          "base_uri": "https://localhost:8080/"
        },
        "outputId": "91974f37-62e3-4117-a016-8a69eb8e86a4"
      },
      "source": [
        "arr = np.array([1, 2, 3, 4, 5, 6, 7, 8, 9, 10, 11, 12])\n",
        "\n",
        "newarr = arr.reshape(4, 3)\n",
        "print(newarr)"
      ],
      "execution_count": null,
      "outputs": [
        {
          "output_type": "stream",
          "text": [
            "[[ 1  2  3]\n",
            " [ 4  5  6]\n",
            " [ 7  8  9]\n",
            " [10 11 12]]\n"
          ],
          "name": "stdout"
        }
      ]
    },
    {
      "cell_type": "code",
      "metadata": {
        "id": "VGl5uEjOplex",
        "colab": {
          "base_uri": "https://localhost:8080/"
        },
        "outputId": "74ec8b3b-7acd-4140-da56-df5de483dc18"
      },
      "source": [
        "arr = np.array([1, 2, 3, 4, 5, 6, 7, 8, 9, 10, 11, 12])\n",
        "\n",
        "newarr = arr.reshape(2, 3, 2)\n",
        "\n",
        "print(newarr)"
      ],
      "execution_count": null,
      "outputs": [
        {
          "output_type": "stream",
          "text": [
            "[[[ 1  2]\n",
            "  [ 3  4]\n",
            "  [ 5  6]]\n",
            "\n",
            " [[ 7  8]\n",
            "  [ 9 10]\n",
            "  [11 12]]]\n"
          ],
          "name": "stdout"
        }
      ]
    },
    {
      "cell_type": "code",
      "metadata": {
        "id": "UgcuBIyiqP_m",
        "colab": {
          "base_uri": "https://localhost:8080/"
        },
        "outputId": "a6a011d6-5e00-4cb4-f0c8-164cc4383917"
      },
      "source": [
        "arr = np.array([[1, 2, 3], [4, 5, 6]])\n",
        "\n",
        "newarr = arr.reshape(-1)\n",
        "\n",
        "print(newarr)"
      ],
      "execution_count": null,
      "outputs": [
        {
          "output_type": "stream",
          "text": [
            "[1 2 3 4 5 6]\n"
          ],
          "name": "stdout"
        }
      ]
    },
    {
      "cell_type": "code",
      "metadata": {
        "id": "VNYpF2z3qavi",
        "colab": {
          "base_uri": "https://localhost:8080/"
        },
        "outputId": "5dff9b08-20e1-4834-9aad-b0a6e53f0823"
      },
      "source": [
        "arr = np.array([[1, 2, 3], [4, 5, 6]])\n",
        "\n",
        "newarr = arr.flatten()\n",
        "\n",
        "print(newarr)"
      ],
      "execution_count": null,
      "outputs": [
        {
          "output_type": "stream",
          "text": [
            "[1 2 3 4 5 6]\n"
          ],
          "name": "stdout"
        }
      ]
    },
    {
      "cell_type": "code",
      "metadata": {
        "id": "z7urw99u3u0M",
        "colab": {
          "base_uri": "https://localhost:8080/"
        },
        "outputId": "e9123902-97f6-4d12-d2cc-8b1aa4b590a0"
      },
      "source": [
        "arr = np.array([3, 2, 0, 1])\n",
        "\n",
        "print(np.sort(arr))\n",
        "print(arr)"
      ],
      "execution_count": null,
      "outputs": [
        {
          "output_type": "stream",
          "text": [
            "[0 1 2 3]\n",
            "[3 2 0 1]\n"
          ],
          "name": "stdout"
        }
      ]
    },
    {
      "cell_type": "code",
      "metadata": {
        "id": "qTiU5AM1cv2b",
        "colab": {
          "base_uri": "https://localhost:8080/"
        },
        "outputId": "e8c422bd-984f-4485-9474-7d7c5f6213e2"
      },
      "source": [
        "arr.sort()\n",
        "print(arr)"
      ],
      "execution_count": null,
      "outputs": [
        {
          "output_type": "stream",
          "text": [
            "[0 1 2 3]\n"
          ],
          "name": "stdout"
        }
      ]
    },
    {
      "cell_type": "code",
      "metadata": {
        "id": "H4GkPOPR3zsa",
        "colab": {
          "base_uri": "https://localhost:8080/"
        },
        "outputId": "9bf5d039-4d2a-49c6-d91b-314e0c44522b"
      },
      "source": [
        "arr = np.array(['banana', 'cherry', 'apple'])\n",
        "\n",
        "print(np.sort(arr))\n",
        "print(arr)\n",
        "arr.sort()\n",
        "print(arr)"
      ],
      "execution_count": null,
      "outputs": [
        {
          "output_type": "stream",
          "text": [
            "['apple' 'banana' 'cherry']\n",
            "['banana' 'cherry' 'apple']\n",
            "['apple' 'banana' 'cherry']\n"
          ],
          "name": "stdout"
        }
      ]
    },
    {
      "cell_type": "code",
      "metadata": {
        "id": "mBPJK-gX337-"
      },
      "source": [
        "arr = np.array([[3, 2, 4], [5, 0, 1]])\n",
        "\n",
        "print(np.sort(arr))\n",
        "\n",
        "vector=arr.reshape(-1)\n",
        "vector.sort()\n",
        "\n",
        "arr2=vector.reshape(2,3)\n",
        "print(arr2)"
      ],
      "execution_count": null,
      "outputs": []
    },
    {
      "cell_type": "code",
      "metadata": {
        "id": "g5T06O9yT6KQ",
        "colab": {
          "base_uri": "https://localhost:8080/"
        },
        "outputId": "f19cefcc-e674-4a38-b479-b1378f59ba31"
      },
      "source": [
        "x=np.array([1,2,3,4])\n",
        "print (np.std(x))\n",
        "std = np.sqrt(np.mean(abs(x - x.mean())**2))\n",
        "print(std)"
      ],
      "execution_count": null,
      "outputs": [
        {
          "output_type": "stream",
          "text": [
            "1.118033988749895\n",
            "1.118033988749895\n"
          ],
          "name": "stdout"
        }
      ]
    },
    {
      "cell_type": "code",
      "metadata": {
        "id": "bCuSqg2hUY-_",
        "colab": {
          "base_uri": "https://localhost:8080/"
        },
        "outputId": "634a3876-4292-4b84-b044-6fd8cabe9729"
      },
      "source": [
        "print (np.var([1,2,3,4]))"
      ],
      "execution_count": null,
      "outputs": [
        {
          "output_type": "stream",
          "text": [
            "1.25\n"
          ],
          "name": "stdout"
        }
      ]
    },
    {
      "cell_type": "code",
      "metadata": {
        "id": "cRiPG6aAZtgf",
        "colab": {
          "base_uri": "https://localhost:8080/"
        },
        "outputId": "f056f153-0437-4a27-ab15-f7703759d681"
      },
      "source": [
        "import numpy as np\n",
        "a = [[1,0],[0,1]]\n",
        "b = [[4,1],[2,2]]\n",
        "print (np.matmul(a,b))"
      ],
      "execution_count": null,
      "outputs": [
        {
          "output_type": "stream",
          "name": "stdout",
          "text": [
            "[[4 1]\n",
            " [2 2]]\n"
          ]
        }
      ]
    },
    {
      "cell_type": "code",
      "metadata": {
        "id": "PdZNePxcZ2pz",
        "colab": {
          "base_uri": "https://localhost:8080/"
        },
        "outputId": "614811d7-5ef8-4639-8a72-b82a97ed9b28"
      },
      "source": [
        "import numpy as np\n",
        "a=[[1,0],[0,1]]\n",
        "b=[1,2]\n",
        "print (np.matmul(a,b))\n",
        "print (np.matmul(b,a))"
      ],
      "execution_count": null,
      "outputs": [
        {
          "output_type": "stream",
          "name": "stdout",
          "text": [
            "[1 2]\n",
            "[1 2]\n"
          ]
        }
      ]
    },
    {
      "cell_type": "code",
      "metadata": {
        "id": "Ks1MCHZzKI4Q",
        "outputId": "477be488-6dde-439a-f30e-bd441b527203",
        "colab": {
          "base_uri": "https://localhost:8080/"
        }
      },
      "source": [
        "import numpy as np\n",
        "\n",
        "x=np.array([4.1,12.2,20.3,28.2,38.1,45.2])\n",
        "y=np.array([1.0276,1.1013,1.1801,1.2652,1.3480,1.4120])\n",
        "\n",
        "xi = 15\n",
        "yi = np.interp(xi, x, y)\n",
        "\n",
        "print(xi,yi)"
      ],
      "execution_count": null,
      "outputs": [
        {
          "output_type": "stream",
          "text": [
            "15 1.1285395061728394\n"
          ],
          "name": "stdout"
        }
      ]
    },
    {
      "cell_type": "markdown",
      "source": [
        "El calor específico del agua está relacionado en la siguiente tabla\n",
        "\n",
        "Temperatura|Calor especifico\n",
        "---|---\n",
        "22|4179\n",
        "42|4181\n",
        "52|4186\n",
        "82|4199\n",
        "100|4217\n",
        "\n",
        "Estime el calor especifico para las siguientes temperaturas 30, 40, 50, 60, 70, 80 y 90"
      ],
      "metadata": {
        "id": "131fBaMtvVKe"
      }
    },
    {
      "cell_type": "code",
      "source": [
        ""
      ],
      "metadata": {
        "id": "U8z2O5avwgHL"
      },
      "execution_count": null,
      "outputs": []
    },
    {
      "cell_type": "code",
      "metadata": {
        "id": "Vq_kLvAGbIGZ"
      },
      "source": [
        "a=np.array([[1,2,3,4,5],[-1,-2,3,8,7]])\n",
        "np.save('var_a',a)"
      ],
      "execution_count": null,
      "outputs": []
    },
    {
      "cell_type": "code",
      "metadata": {
        "id": "zLX1lpPFk_Ws",
        "colab": {
          "base_uri": "https://localhost:8080/"
        },
        "outputId": "b482be99-6109-4142-aa4a-33b1b4df2058"
      },
      "source": [
        "b = np.load('var_a.npy')\n",
        "print (b)"
      ],
      "execution_count": null,
      "outputs": [
        {
          "output_type": "stream",
          "text": [
            "[[ 1  2  3  4  5]\n",
            " [-1 -2  3  8  7]]\n"
          ],
          "name": "stdout"
        }
      ]
    },
    {
      "cell_type": "code",
      "metadata": {
        "id": "LLSpvyEulM1G",
        "colab": {
          "base_uri": "https://localhost:8080/"
        },
        "outputId": "f0c41601-7937-4bfe-ff69-7f80f1b099e8"
      },
      "source": [
        "a = np.array([1,2,3,4,5])\n",
        "np.savetxt('a.txt',a)\n",
        "b = np.loadtxt('a.txt')\n",
        "print (b)"
      ],
      "execution_count": null,
      "outputs": [
        {
          "output_type": "stream",
          "text": [
            "[1. 2. 3. 4. 5.]\n"
          ],
          "name": "stdout"
        }
      ]
    },
    {
      "cell_type": "code",
      "metadata": {
        "id": "e3I3i7JRl2m6",
        "colab": {
          "base_uri": "https://localhost:8080/"
        },
        "outputId": "79367d02-b3df-464f-e405-35cad72956fd"
      },
      "source": [
        "!cat a.txt"
      ],
      "execution_count": null,
      "outputs": [
        {
          "output_type": "stream",
          "text": [
            "1.000000000000000000e+00\n",
            "2.000000000000000000e+00\n",
            "asdasd\n",
            "3.000000000000000000e+00\n",
            "4.000000000000000000e+00\n",
            "5.000000000000000000e+00\n"
          ],
          "name": "stdout"
        }
      ]
    },
    {
      "cell_type": "code",
      "metadata": {
        "id": "qqaDawAymxPq"
      },
      "source": [
        "from mat4py import savemat\n",
        "a={'a':100}\n",
        "savemat('datafile.mat', a)"
      ],
      "execution_count": null,
      "outputs": []
    },
    {
      "cell_type": "code",
      "metadata": {
        "id": "XELs9vA0l9BS",
        "colab": {
          "base_uri": "https://localhost:8080/"
        },
        "outputId": "a676c2e5-fe6d-4dd4-b317-0c36cc2c4ec8"
      },
      "source": [
        "from mat4py import loadmat\n",
        "data = loadmat('datafile.mat')\n",
        "print(data)"
      ],
      "execution_count": null,
      "outputs": [
        {
          "output_type": "stream",
          "text": [
            "{'a': 100}\n"
          ],
          "name": "stdout"
        }
      ]
    },
    {
      "cell_type": "code",
      "metadata": {
        "id": "BCkk6wd_o-ys",
        "colab": {
          "base_uri": "https://localhost:8080/"
        },
        "outputId": "c0dbd9b5-8aeb-422b-ece4-6cc49900c748"
      },
      "source": [
        "!pip install matlab"
      ],
      "execution_count": null,
      "outputs": [
        {
          "output_type": "stream",
          "name": "stdout",
          "text": [
            "Looking in indexes: https://pypi.org/simple, https://us-python.pkg.dev/colab-wheels/public/simple/\n",
            "Collecting matlab\n",
            "  Downloading matlab-0.1.tar.gz (538 bytes)\n",
            "Building wheels for collected packages: matlab\n",
            "  Building wheel for matlab (setup.py) ... \u001b[?25l\u001b[?25hdone\n",
            "  Created wheel for matlab: filename=matlab-0.1-py3-none-any.whl size=1180 sha256=37ce4f871697b3010a0d6b24e4f2ca5cdd4fcf85d882ada8ec9ab0c99398793a\n",
            "  Stored in directory: /root/.cache/pip/wheels/67/e4/81/3713ad26a6b4c61b830ca8b7e839b914e684ed6bf1878e4594\n",
            "Successfully built matlab\n",
            "Installing collected packages: matlab\n",
            "Successfully installed matlab-0.1\n"
          ]
        }
      ]
    },
    {
      "cell_type": "code",
      "metadata": {
        "id": "8bUlAXpyoARc",
        "colab": {
          "base_uri": "https://localhost:8080/"
        },
        "outputId": "ee0d8219-98f7-48e7-f184-4701f6e6448f"
      },
      "source": [
        "import matlab\n",
        "\n",
        "print(matlab.cos(np.pi))\n",
        "\n",
        "x=np.array([1,2,3,4])\n",
        "y=np.array([1,2,3,4])\n",
        "xi=1.5\n",
        "print(matlab.interp(xi,x,y))"
      ],
      "execution_count": null,
      "outputs": [
        {
          "output_type": "stream",
          "name": "stdout",
          "text": [
            "-1.0\n",
            "1.5\n"
          ]
        }
      ]
    },
    {
      "cell_type": "code",
      "metadata": {
        "id": "OJOHan3HrT-J"
      },
      "source": [
        ""
      ],
      "execution_count": null,
      "outputs": []
    }
  ]
}