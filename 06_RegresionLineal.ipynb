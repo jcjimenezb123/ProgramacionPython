{
  "nbformat": 4,
  "nbformat_minor": 0,
  "metadata": {
    "colab": {
      "name": "06_RegresionLineal.ipynb",
      "provenance": [],
      "authorship_tag": "ABX9TyO6zltGF7JGoBul/p6yu1v0",
      "include_colab_link": true
    },
    "kernelspec": {
      "name": "python3",
      "display_name": "Python 3"
    }
  },
  "cells": [
    {
      "cell_type": "markdown",
      "metadata": {
        "id": "view-in-github",
        "colab_type": "text"
      },
      "source": [
        "<a href=\"https://colab.research.google.com/github/jcjimenezb123/ProgramacionPython/blob/master/06_RegresionLineal.ipynb\" target=\"_parent\"><img src=\"https://colab.research.google.com/assets/colab-badge.svg\" alt=\"Open In Colab\"/></a>"
      ]
    },
    {
      "cell_type": "code",
      "metadata": {
        "id": "DQ_EKQq-zMqS"
      },
      "source": [
        "from numpy.polynomial import polynomial as P"
      ],
      "execution_count": 6,
      "outputs": []
    },
    {
      "cell_type": "code",
      "metadata": {
        "id": "fPaqIUUkzRDl",
        "outputId": "39d38c33-39a8-4677-b159-bf783793084b",
        "colab": {
          "base_uri": "https://localhost:8080/"
        }
      },
      "source": [
        "p=P.Polynomial([-2,0,1])\n",
        "p2=P.polyadd((-2,0,1),(0,1))\n",
        "p2"
      ],
      "execution_count": 10,
      "outputs": [
        {
          "output_type": "execute_result",
          "data": {
            "text/plain": [
              "array([-2.,  1.,  1.])"
            ]
          },
          "metadata": {
            "tags": []
          },
          "execution_count": 10
        }
      ]
    },
    {
      "cell_type": "markdown",
      "metadata": {
        "id": "1NUInRLl3VZF"
      },
      "source": [
        "#Regresión Lineal con numpy"
      ]
    },
    {
      "cell_type": "code",
      "metadata": {
        "id": "y5uC3D8Vzumz"
      },
      "source": [
        "import numpy as np"
      ],
      "execution_count": 1,
      "outputs": []
    },
    {
      "cell_type": "code",
      "metadata": {
        "id": "UNxh7VtW3l7_"
      },
      "source": [
        "x = np.array([0,1,2,3,4,5])\n",
        "y = np.array([0,0.8,0.9,0.1,-0.8,-1.0])"
      ],
      "execution_count": 2,
      "outputs": []
    },
    {
      "cell_type": "code",
      "metadata": {
        "colab": {
          "base_uri": "https://localhost:8080/"
        },
        "id": "9jCfKnUM4ATT",
        "outputId": "b3768753-18d4-40e0-dba1-80ea2bf2e982"
      },
      "source": [
        "pol = np.polyfit(x,y,1)\n",
        "pol"
      ],
      "execution_count": 3,
      "outputs": [
        {
          "output_type": "execute_result",
          "data": {
            "text/plain": [
              "array([-0.30285714,  0.75714286])"
            ]
          },
          "metadata": {
            "tags": []
          },
          "execution_count": 3
        }
      ]
    },
    {
      "cell_type": "markdown",
      "metadata": {
        "id": "v7uOyRm94nGi"
      },
      "source": [
        "Ecuacion de la linea recta de la regresion lineal\n",
        "\n",
        "$$\n",
        "y_{cor}=-0.30285714x +  0.75714286\n",
        "$$"
      ]
    },
    {
      "cell_type": "code",
      "metadata": {
        "colab": {
          "base_uri": "https://localhost:8080/"
        },
        "id": "hPSHhV_k4Sba",
        "outputId": "7520149f-3e69-4ab1-8235-ecee988e47a6"
      },
      "source": [
        "y_cor = np.polyval(pol,x)\n",
        "y_cor"
      ],
      "execution_count": 4,
      "outputs": [
        {
          "output_type": "execute_result",
          "data": {
            "text/plain": [
              "array([ 0.75714286,  0.45428571,  0.15142857, -0.15142857, -0.45428571,\n",
              "       -0.75714286])"
            ]
          },
          "metadata": {
            "tags": []
          },
          "execution_count": 4
        }
      ]
    },
    {
      "cell_type": "code",
      "metadata": {
        "colab": {
          "base_uri": "https://localhost:8080/",
          "height": 265
        },
        "id": "VROTqJYh5RUL",
        "outputId": "37a95864-dd91-4bc0-d6cc-02df1312dd56"
      },
      "source": [
        "import matplotlib.pyplot as plt\n",
        "\n",
        "plt.plot(x,y,'o',x,y_cor,'o--')\n",
        "plt.show()"
      ],
      "execution_count": 5,
      "outputs": [
        {
          "output_type": "display_data",
          "data": {
            "image/png": "[encoded data removed]",
            "text/plain": [
              "<Figure size 432x288 with 1 Axes>"
            ]
          },
          "metadata": {
            "tags": [],
            "needs_background": "light"
          }
        }
      ]
    },
    {
      "cell_type": "code",
      "metadata": {
        "colab": {
          "base_uri": "https://localhost:8080/"
        },
        "id": "bnQp-tFs5gZy",
        "outputId": "ff59b4c8-3022-417c-8fb9-cbc6a8761b1d"
      },
      "source": [
        "sse=sum((y-y_cor)**2)      # variabilidad explicada por la regresion\n",
        "tse=(len(y))*np.var(y)   # variabilidad total de los datos\n",
        "r2=1-sse/tse               # medida relativa entre las variabilidades\n",
        "print(r2)"
      ],
      "execution_count": 10,
      "outputs": [
        {
          "output_type": "stream",
          "text": [
            "0.5177880184331798\n"
          ],
          "name": "stdout"
        }
      ]
    },
    {
      "cell_type": "code",
      "metadata": {
        "id": "dExgbq7yutHi",
        "outputId": "98e6288c-4b2d-49d2-a4c6-beb64a65caaa",
        "colab": {
          "base_uri": "https://localhost:8080/"
        }
      },
      "source": [
        "sse=sum((y-y_cor)**2)      # variabilidad explicada por la regresion\n",
        "tse=sum((y-np.mean(y))**2)   # variabilidad total de los datos\n",
        "r2=1-sse/tse               # medida relativa entre las variabilidades\n",
        "print(r2)"
      ],
      "execution_count": 7,
      "outputs": [
        {
          "output_type": "stream",
          "text": [
            "0.5177880184331798\n"
          ],
          "name": "stdout"
        }
      ]
    },
    {
      "cell_type": "markdown",
      "metadata": {
        "id": "dCX08gss7ZyV"
      },
      "source": [
        "##Regresion cuadratica"
      ]
    },
    {
      "cell_type": "code",
      "metadata": {
        "colab": {
          "base_uri": "https://localhost:8080/"
        },
        "id": "8pQcwMIl7EHn",
        "outputId": "32a8694d-baba-4e77-f636-c344400e3d2f"
      },
      "source": [
        "pol2 = np.polyfit(x,y,deg=2)\n",
        "pol2"
      ],
      "execution_count": null,
      "outputs": [
        {
          "output_type": "execute_result",
          "data": {
            "text/plain": [
              "array([-0.16071429,  0.50071429,  0.22142857])"
            ]
          },
          "metadata": {
            "tags": []
          },
          "execution_count": 10
        }
      ]
    },
    {
      "cell_type": "markdown",
      "metadata": {
        "id": "EVhOkbVi7kS1"
      },
      "source": [
        "La ecuacion que representa la regresion cuadratica es\n",
        "\n",
        "$$\n",
        "y_{cor}=-0.16071429x^2+  0.50071429x+  0.22142857\n",
        "$$"
      ]
    },
    {
      "cell_type": "code",
      "metadata": {
        "colab": {
          "base_uri": "https://localhost:8080/"
        },
        "id": "-VgbrzQX7hND",
        "outputId": "4bee1992-b3a0-4cf1-a027-e994588a2999"
      },
      "source": [
        "y_cor2 = np.polyval(pol2,x)\n",
        "y_cor2"
      ],
      "execution_count": null,
      "outputs": [
        {
          "output_type": "execute_result",
          "data": {
            "text/plain": [
              "array([ 0.22142857,  0.56142857,  0.58      ,  0.27714286, -0.34714286,\n",
              "       -1.29285714])"
            ]
          },
          "metadata": {
            "tags": []
          },
          "execution_count": 11
        }
      ]
    },
    {
      "cell_type": "code",
      "metadata": {
        "colab": {
          "base_uri": "https://localhost:8080/"
        },
        "id": "yU7GWBC88KhY",
        "outputId": "464263b6-518c-45cb-bde6-f96278292523"
      },
      "source": [
        "sse=sum((y-y_cor2)**2)\n",
        "tse=(len(y)-1)*np.var(y)\n",
        "r22=1-sse/tse\n",
        "print(r22)"
      ],
      "execution_count": null,
      "outputs": [
        {
          "output_type": "stream",
          "text": [
            "0.7946175115207373\n"
          ],
          "name": "stdout"
        }
      ]
    },
    {
      "cell_type": "code",
      "metadata": {
        "colab": {
          "base_uri": "https://localhost:8080/",
          "height": 268
        },
        "id": "jCbT3lhM8eL3",
        "outputId": "80477f49-c6f8-4f00-a1e6-7eb2f382791d"
      },
      "source": [
        "plt.plot(x,y,'o',x,y_cor2,'*')\n",
        "plt.show()"
      ],
      "execution_count": null,
      "outputs": [
        {
          "output_type": "display_data",
          "data": {
            "image/png": "[encoded data removed]",
            "text/plain": [
              "<Figure size 432x288 with 1 Axes>"
            ]
          },
          "metadata": {
            "tags": [],
            "needs_background": "light"
          }
        }
      ]
    },
    {
      "cell_type": "code",
      "metadata": {
        "colab": {
          "base_uri": "https://localhost:8080/"
        },
        "id": "c9fg0Apw8nnN",
        "outputId": "4ae4a916-1650-433e-956f-90e720b63ac8"
      },
      "source": [
        "pol3 = np.polyfit(x,y,deg=3)\n",
        "pol3"
      ],
      "execution_count": null,
      "outputs": [
        {
          "output_type": "execute_result",
          "data": {
            "text/plain": [
              "array([ 0.08703704, -0.81349206,  1.69312169, -0.03968254])"
            ]
          },
          "metadata": {
            "tags": []
          },
          "execution_count": 14
        }
      ]
    },
    {
      "cell_type": "markdown",
      "metadata": {
        "id": "2PeuiT4C9CnX"
      },
      "source": [
        "Usando una regresion cubica tenemos la ecuacion\n",
        "\n",
        "$$\n",
        "y_{cor}=0.08703704x^3 -0.81349206x^2+  1.69312169x  -0.03968254\n",
        "$$"
      ]
    },
    {
      "cell_type": "code",
      "metadata": {
        "colab": {
          "base_uri": "https://localhost:8080/"
        },
        "id": "xJuhBJm79AwJ",
        "outputId": "36b06006-3b8f-4c14-f06e-e64f19d526d8"
      },
      "source": [
        "y_cor3=np.polyval(pol3,x)\n",
        "y_cor3"
      ],
      "execution_count": null,
      "outputs": [
        {
          "output_type": "execute_result",
          "data": {
            "text/plain": [
              "array([-0.03968254,  0.92698413,  0.78888889,  0.06825397, -0.71269841,\n",
              "       -1.03174603])"
            ]
          },
          "metadata": {
            "tags": []
          },
          "execution_count": 15
        }
      ]
    },
    {
      "cell_type": "code",
      "metadata": {
        "colab": {
          "base_uri": "https://localhost:8080/"
        },
        "id": "gmQHYmuU9y2B",
        "outputId": "7059f34d-a7ee-4a10-adb0-a2eee7093b0e"
      },
      "source": [
        "sse=sum((y-y_cor3)**2)\n",
        "tse=(len(y)-1)*np.var(y)\n",
        "r23=1-sse/tse\n",
        "print(r23)"
      ],
      "execution_count": null,
      "outputs": [
        {
          "output_type": "stream",
          "text": [
            "0.9846390168970814\n"
          ],
          "name": "stdout"
        }
      ]
    },
    {
      "cell_type": "code",
      "metadata": {
        "colab": {
          "base_uri": "https://localhost:8080/",
          "height": 267
        },
        "id": "gi98I4hz9coE",
        "outputId": "d4b4f845-303e-40b3-d071-0aff895daa32"
      },
      "source": [
        "plt.plot(x,y,'o',x,y_cor3,'*')\n",
        "plt.show()"
      ],
      "execution_count": null,
      "outputs": [
        {
          "output_type": "display_data",
          "data": {
            "image/png": "[encoded data removed]",
            "text/plain": [
              "<Figure size 432x288 with 1 Axes>"
            ]
          },
          "metadata": {
            "tags": [],
            "needs_background": "light"
          }
        }
      ]
    },
    {
      "cell_type": "markdown",
      "metadata": {
        "id": "qXWiKLVG-JOh"
      },
      "source": [
        "**Problema** En la fabricación de láminas de acero, el método para deformar acero a temperatura normal mantiene una relación inversa con la dureza del\n",
        "mismo, ya que a medida que la deformación crece, se afecta la dureza del acero. Con el objetivo de conocer ésta relación se tomaron los siguientes datos\n",
        "\n",
        "$$\n",
        "\\begin{array}{l|c|c|c|c|c|c|c|c|c|}\n",
        "\\text{Deformacion}&6&9&11&13&22&26&28&33&35\\\\\n",
        "\\hline\n",
        "\\text{Dureza}&68&67&65&53&44&40&37&34&32\n",
        "\\end{array}\n",
        "$$"
      ]
    },
    {
      "cell_type": "code",
      "metadata": {
        "id": "bqeBrksL9sxh"
      },
      "source": [
        "x = np.array([6,9,11,13,22,26,28,33,35])\n",
        "y = np.array([68,67,65,53,44,40,37,34,32])"
      ],
      "execution_count": null,
      "outputs": []
    },
    {
      "cell_type": "code",
      "metadata": {
        "colab": {
          "base_uri": "https://localhost:8080/"
        },
        "id": "6jSjmlYWAa6i",
        "outputId": "ed16c7aa-e12a-4cd9-b628-e4cdb31ee180"
      },
      "source": [
        "pol = np.polyfit(x,y,deg=1)\n",
        "pol"
      ],
      "execution_count": null,
      "outputs": [
        {
          "output_type": "execute_result",
          "data": {
            "text/plain": [
              "array([-1.31956215, 75.71998588])"
            ]
          },
          "metadata": {
            "tags": []
          },
          "execution_count": 20
        }
      ]
    },
    {
      "cell_type": "markdown",
      "metadata": {
        "id": "w5lq2PvLAnYM"
      },
      "source": [
        "La ecuacion que relaciona la dureza con la deformacion es\n",
        "\n",
        "$$\n",
        "Dureza=-1.31956215Deformacion+ 75.71998588\n",
        "$$"
      ]
    },
    {
      "cell_type": "code",
      "metadata": {
        "colab": {
          "base_uri": "https://localhost:8080/"
        },
        "id": "QmATiiUQAi0v",
        "outputId": "c88cec4a-a68a-45fd-d574-7ffedcca3536"
      },
      "source": [
        "y_cor = np.polyval(pol,x)\n",
        "y_cor"
      ],
      "execution_count": null,
      "outputs": [
        {
          "output_type": "execute_result",
          "data": {
            "text/plain": [
              "array([67.80261299, 63.84392655, 61.20480226, 58.56567797, 46.68961864,\n",
              "       41.41137006, 38.77224576, 32.17443503, 29.53531073])"
            ]
          },
          "metadata": {
            "tags": []
          },
          "execution_count": 21
        }
      ]
    },
    {
      "cell_type": "code",
      "metadata": {
        "colab": {
          "base_uri": "https://localhost:8080/"
        },
        "id": "fHlKmzwCBDEB",
        "outputId": "4cae1a16-9c3b-4b83-a58d-4a402f2554c6"
      },
      "source": [
        "sse=sum((y-y_cor)**2)\n",
        "tse=(len(y)-1)*np.var(y)\n",
        "r2=1-sse/tse\n",
        "print(r2)"
      ],
      "execution_count": null,
      "outputs": [
        {
          "output_type": "stream",
          "text": [
            "0.949561766039208\n"
          ],
          "name": "stdout"
        }
      ]
    },
    {
      "cell_type": "code",
      "metadata": {
        "colab": {
          "base_uri": "https://localhost:8080/",
          "height": 279
        },
        "id": "_xcbvjzJBWHe",
        "outputId": "5cd906c9-ec0c-4e84-bd49-088e814324d6"
      },
      "source": [
        "plt.plot(x,y,'o',x,y_cor,'*--')\n",
        "plt.xlabel('Deformacion')\n",
        "plt.ylabel('Dureza')\n",
        "plt.show()"
      ],
      "execution_count": null,
      "outputs": [
        {
          "output_type": "display_data",
          "data": {
            "image/png": "[encoded data removed]",
            "text/plain": [
              "<Figure size 432x288 with 1 Axes>"
            ]
          },
          "metadata": {
            "tags": [],
            "needs_background": "light"
          }
        }
      ]
    },
    {
      "cell_type": "code",
      "metadata": {
        "id": "CnxkGcSwBqZN"
      },
      "source": [
        ""
      ],
      "execution_count": null,
      "outputs": []
    },
    {
      "cell_type": "markdown",
      "metadata": {
        "id": "7DGsVpygCNcF"
      },
      "source": [
        "**Problema 2** Un proyectil es disparado hacia arriba desde el piso, se mide la altura del proyectil en el tiempo y se obtienen los siguientes datos.\n",
        "\n",
        "$$\n",
        "\\begin{array}{l|c|c|c|c|c|c|}\n",
        "\\text{Tiempo(s)}& 0& 0.5& 1.0& 1.5& 2.0 &2.5\\\\\n",
        "\\hline\n",
        "\\text{Altura(ft)}& 0 &20.5& 31.36& 36.25& 30.41& 28.23\n",
        "\\end{array}\n",
        "$$"
      ]
    },
    {
      "cell_type": "code",
      "metadata": {
        "id": "Tf6vfywEElHN"
      },
      "source": [
        "x = np.array([0,0.5,1.0,1.5,2.0,2.5])\n",
        "y = np.array([0,20.5,31.36,36.25,30.41,28.23])"
      ],
      "execution_count": null,
      "outputs": []
    },
    {
      "cell_type": "code",
      "metadata": {
        "colab": {
          "base_uri": "https://localhost:8080/"
        },
        "id": "LDYyZR2jE48Z",
        "outputId": "7803f9ee-888d-4c1f-dfc9-4baba5dedccf"
      },
      "source": [
        "pol2=np.polyfit(x,y,deg=2)\n",
        "pol2"
      ],
      "execution_count": null,
      "outputs": [
        {
          "output_type": "execute_result",
          "data": {
            "text/plain": [
              "array([-12.87142857,  42.22257143,   1.17714286])"
            ]
          },
          "metadata": {
            "tags": []
          },
          "execution_count": 27
        }
      ]
    },
    {
      "cell_type": "markdown",
      "metadata": {
        "id": "gg2bVt_YFI73"
      },
      "source": [
        "La ecuacion del tiro parabolico es\n",
        "\n",
        "$$\n",
        "Altura=-12.87142857t^2 + 42.22257143t  + 1.17714286\n",
        "$$"
      ]
    },
    {
      "cell_type": "code",
      "metadata": {
        "colab": {
          "base_uri": "https://localhost:8080/"
        },
        "id": "5kf93aS5FAxh",
        "outputId": "436c635a-0bd4-4048-f35f-a7bccc8daabf"
      },
      "source": [
        "y_cor2 = np.polyval(pol2,x)\n",
        "y_cor2"
      ],
      "execution_count": null,
      "outputs": [
        {
          "output_type": "execute_result",
          "data": {
            "text/plain": [
              "array([ 1.17714286, 19.07057143, 30.52828571, 35.55028571, 34.13657143,\n",
              "       26.28714286])"
            ]
          },
          "metadata": {
            "tags": []
          },
          "execution_count": 28
        }
      ]
    },
    {
      "cell_type": "code",
      "metadata": {
        "colab": {
          "base_uri": "https://localhost:8080/"
        },
        "id": "LxcbS78RH25o",
        "outputId": "1bf5c81c-531d-4b11-c3d9-4c81947d0d25"
      },
      "source": [
        "np.roots(pol2)"
      ],
      "execution_count": null,
      "outputs": [
        {
          "output_type": "execute_result",
          "data": {
            "text/plain": [
              "array([ 3.30797943, -0.02764647])"
            ]
          },
          "metadata": {
            "tags": []
          },
          "execution_count": 34
        }
      ]
    },
    {
      "cell_type": "code",
      "metadata": {
        "id": "v9JNTPj_GQQQ"
      },
      "source": [
        "xs = np.linspace(x.min(),3.30)\n",
        "ys = np.polyval(pol2,xs)"
      ],
      "execution_count": null,
      "outputs": []
    },
    {
      "cell_type": "code",
      "metadata": {
        "colab": {
          "base_uri": "https://localhost:8080/",
          "height": 279
        },
        "id": "g1X08BetFc4v",
        "outputId": "9bd20745-8338-401f-e94c-ccd80b71c0c9"
      },
      "source": [
        "plt.plot(x,y,'o',x,y_cor2,'*',xs,ys,'--')\n",
        "plt.xlabel('Tiempo [s]')\n",
        "plt.ylabel('Altura [ft]')\n",
        "plt.show()"
      ],
      "execution_count": null,
      "outputs": [
        {
          "output_type": "display_data",
          "data": {
            "image/png": "[encoded data removed]",
            "text/plain": [
              "<Figure size 432x288 with 1 Axes>"
            ]
          },
          "metadata": {
            "tags": [],
            "needs_background": "light"
          }
        }
      ]
    },
    {
      "cell_type": "markdown",
      "metadata": {
        "id": "iqpRUNevI5WO"
      },
      "source": [
        "**Problema 3** Con los siguientes datos de Cp del Propano vs Temperatura, obtenga los coeficientes de la ecuación de Cp de la forma.\n",
        "\n",
        "$$\n",
        "Cp =a+bT+cT^2+dT^3\n",
        "$$\n",
        "\n",
        "Donde $a,b,c,d$ son los coeficientes a determinar y $T$ es la temperatura del Propano.\n",
        "\n",
        "$$\n",
        "\\begin{array}{l|c|c|c|c|c|c|c|c|c|c|c|c|c|c|c|}\n",
        "\\text{Temp(C)}& 50 &100 &150 &200 &273.16 &298.15 &300& 400 &500 &600 &700 &800 &900 &1000 &1100\\\\\n",
        "\\hline\n",
        "\\text{Cp(kJ/kg)} &34.06 &41.3 &48.79 &56.07 &68.74 &73.6 &73.93 &94.01&112.59& 142.67 &154.77& 163.35 &174.6& 182.67& 128.7\n",
        "\\end{array}\n",
        "$$\n",
        "\n",
        "Aplique la regresion cubica para obtener los coeficientes $a,b,c,d.$"
      ]
    },
    {
      "cell_type": "code",
      "metadata": {
        "id": "18nsLCefF05p"
      },
      "source": [
        "x = np.array([50 ,100 ,150 ,200 ,273.16 ,298.15 ,300, 400 ,500 ,600 ,700 ,800 ,900 ,1000 ,1100])\n",
        "y = np.array([34.06,41.3,48.79 ,56.07 ,68.74,73.6,73.93,94.01,112.59,142.67,154.77,163.35,174.6,182.67,189.74])"
      ],
      "execution_count": null,
      "outputs": []
    },
    {
      "cell_type": "code",
      "metadata": {
        "colab": {
          "base_uri": "https://localhost:8080/"
        },
        "id": "RqvBTo7xNX0d",
        "outputId": "bda8770a-c817-4e35-d1b2-9a0986d595a0"
      },
      "source": [
        "pol3=np.polyfit(x,y,deg=3)\n",
        "pol3"
      ],
      "execution_count": null,
      "outputs": [
        {
          "output_type": "execute_result",
          "data": {
            "text/plain": [
              "array([-1.57390652e-07,  2.00985608e-04,  1.14380718e-01,  2.70935513e+01])"
            ]
          },
          "metadata": {
            "tags": []
          },
          "execution_count": 53
        }
      ]
    },
    {
      "cell_type": "markdown",
      "metadata": {
        "id": "ya1wQdQuNiAo"
      },
      "source": [
        "$$\n",
        "Cp=-1.57390652\\times10^{-07}T^3+ 2.00985608\\times10^{-04}T^2+1.14380718\\times10^{-01}T+  27.0935513\n",
        "$$"
      ]
    },
    {
      "cell_type": "code",
      "metadata": {
        "colab": {
          "base_uri": "https://localhost:8080/"
        },
        "id": "KzqyIBteNgDF",
        "outputId": "90dc7e0a-b322-41dc-fddf-854f63cfc5ce"
      },
      "source": [
        "y_cor3 = np.polyval(pol3,x)\n",
        "y_cor3"
      ],
      "execution_count": null,
      "outputs": [
        {
          "output_type": "execute_result",
          "data": {
            "text/plain": [
              "array([ 33.2953774 ,  40.38408853,  48.24164171,  56.74999397,\n",
              "        70.12663817,  74.89104609,  75.24692374,  94.93053394,\n",
              "       114.85648064, 134.08041994, 151.65800791, 166.64490065,\n",
              "       178.09675424, 185.06922476, 186.6179683 ])"
            ]
          },
          "metadata": {
            "tags": []
          },
          "execution_count": 54
        }
      ]
    },
    {
      "cell_type": "code",
      "metadata": {
        "id": "pQY6hzmdPf_h"
      },
      "source": [
        "xs=np.linspace(x.min(),x.max())\n",
        "ys=np.polyval(pol3,xs)"
      ],
      "execution_count": null,
      "outputs": []
    },
    {
      "cell_type": "code",
      "metadata": {
        "colab": {
          "base_uri": "https://localhost:8080/",
          "height": 279
        },
        "id": "pMFrDN3mONz6",
        "outputId": "e9094d2c-3a3a-41bb-a642-c5f7611c98e4"
      },
      "source": [
        "plt.plot(x,y,'o',x,y_cor3,'*',xs,ys,'--')\n",
        "plt.xlabel('Temperatura')\n",
        "plt.ylabel('Cp')\n",
        "plt.show()"
      ],
      "execution_count": null,
      "outputs": [
        {
          "output_type": "display_data",
          "data": {
            "image/png": "[encoded data removed]",
            "text/plain": [
              "<Figure size 432x288 with 1 Axes>"
            ]
          },
          "metadata": {
            "tags": [],
            "needs_background": "light"
          }
        }
      ]
    },
    {
      "cell_type": "code",
      "metadata": {
        "id": "lrZ5AVrFObAX"
      },
      "source": [
        ""
      ],
      "execution_count": null,
      "outputs": []
    }
  ]
}