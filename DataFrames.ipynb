{
  "nbformat": 4,
  "nbformat_minor": 0,
  "metadata": {
    "colab": {
      "name": "DataFrames.ipynb",
      "provenance": [],
      "authorship_tag": "ABX9TyMj9Pd4hXw0//hRm4N+IdUA",
      "include_colab_link": true
    },
    "kernelspec": {
      "name": "python3",
      "display_name": "Python 3"
    },
    "language_info": {
      "name": "python"
    }
  },
  "cells": [
    {
      "cell_type": "markdown",
      "metadata": {
        "id": "view-in-github",
        "colab_type": "text"
      },
      "source": [
        "<a href=\"https://colab.research.google.com/github/jcjimenezb123/ProgramacionPython/blob/master/DataFrames.ipynb\" target=\"_parent\"><img src=\"https://colab.research.google.com/assets/colab-badge.svg\" alt=\"Open In Colab\"/></a>"
      ]
    },
    {
      "cell_type": "markdown",
      "metadata": {
        "id": "3t0uikDNcii4"
      },
      "source": [
        "##Crear un dataframe"
      ]
    },
    {
      "cell_type": "code",
      "metadata": {
        "id": "5q0KaJb-cM8T"
      },
      "source": [
        "import pandas as pd"
      ],
      "execution_count": 1,
      "outputs": []
    },
    {
      "cell_type": "markdown",
      "metadata": {
        "id": "SNBThWZHcsW_"
      },
      "source": [
        "###Desde un arreglo de numpy"
      ]
    },
    {
      "cell_type": "code",
      "metadata": {
        "id": "oChLhAbmcpyD"
      },
      "source": [
        "import numpy as np"
      ],
      "execution_count": 2,
      "outputs": []
    },
    {
      "cell_type": "markdown",
      "metadata": {
        "id": "nKRGobi-GfxK"
      },
      "source": [
        "###Desde un arreglo"
      ]
    },
    {
      "cell_type": "code",
      "metadata": {
        "colab": {
          "base_uri": "https://localhost:8080/",
          "height": 110
        },
        "id": "9eEeo0ywcxkP",
        "outputId": "2b955d43-e0b7-4ac7-9179-84ecff7566da"
      },
      "source": [
        "datos=np.array([[11,12],\n",
        "               [21,22]])\n",
        "df=pd.DataFrame(data=datos,\n",
        "                columns=['Col1','Col2'])\n",
        "df"
      ],
      "execution_count": 3,
      "outputs": [
        {
          "output_type": "execute_result",
          "data": {
            "text/html": [
              "<div>\n",
              "<style scoped>\n",
              "    .dataframe tbody tr th:only-of-type {\n",
              "        vertical-align: middle;\n",
              "    }\n",
              "\n",
              "    .dataframe tbody tr th {\n",
              "        vertical-align: top;\n",
              "    }\n",
              "\n",
              "    .dataframe thead th {\n",
              "        text-align: right;\n",
              "    }\n",
              "</style>\n",
              "<table border=\"1\" class=\"dataframe\">\n",
              "  <thead>\n",
              "    <tr style=\"text-align: right;\">\n",
              "      <th></th>\n",
              "      <th>Col1</th>\n",
              "      <th>Col2</th>\n",
              "    </tr>\n",
              "  </thead>\n",
              "  <tbody>\n",
              "    <tr>\n",
              "      <th>0</th>\n",
              "      <td>11</td>\n",
              "      <td>12</td>\n",
              "    </tr>\n",
              "    <tr>\n",
              "      <th>1</th>\n",
              "      <td>21</td>\n",
              "      <td>22</td>\n",
              "    </tr>\n",
              "  </tbody>\n",
              "</table>\n",
              "</div>"
            ],
            "text/plain": [
              "   Col1  Col2\n",
              "0    11    12\n",
              "1    21    22"
            ]
          },
          "metadata": {},
          "execution_count": 3
        }
      ]
    },
    {
      "cell_type": "markdown",
      "metadata": {
        "id": "CQ5atVLQeP9q"
      },
      "source": [
        "###Desde un diccionario"
      ]
    },
    {
      "cell_type": "code",
      "metadata": {
        "colab": {
          "base_uri": "https://localhost:8080/",
          "height": 172
        },
        "id": "WvmffU_1xSog",
        "outputId": "e0469dda-545e-47e3-e8ac-979612ca0399"
      },
      "source": [
        "datos={'Products':['Computer','Monitor','Printer','Desk'],\n",
        "       'Prices':[1500,300,150,250]}\n",
        "df=pd.DataFrame(datos)\n",
        "df"
      ],
      "execution_count": 4,
      "outputs": [
        {
          "output_type": "execute_result",
          "data": {
            "text/html": [
              "<div>\n",
              "<style scoped>\n",
              "    .dataframe tbody tr th:only-of-type {\n",
              "        vertical-align: middle;\n",
              "    }\n",
              "\n",
              "    .dataframe tbody tr th {\n",
              "        vertical-align: top;\n",
              "    }\n",
              "\n",
              "    .dataframe thead th {\n",
              "        text-align: right;\n",
              "    }\n",
              "</style>\n",
              "<table border=\"1\" class=\"dataframe\">\n",
              "  <thead>\n",
              "    <tr style=\"text-align: right;\">\n",
              "      <th></th>\n",
              "      <th>Products</th>\n",
              "      <th>Prices</th>\n",
              "    </tr>\n",
              "  </thead>\n",
              "  <tbody>\n",
              "    <tr>\n",
              "      <th>0</th>\n",
              "      <td>Computer</td>\n",
              "      <td>1500</td>\n",
              "    </tr>\n",
              "    <tr>\n",
              "      <th>1</th>\n",
              "      <td>Monitor</td>\n",
              "      <td>300</td>\n",
              "    </tr>\n",
              "    <tr>\n",
              "      <th>2</th>\n",
              "      <td>Printer</td>\n",
              "      <td>150</td>\n",
              "    </tr>\n",
              "    <tr>\n",
              "      <th>3</th>\n",
              "      <td>Desk</td>\n",
              "      <td>250</td>\n",
              "    </tr>\n",
              "  </tbody>\n",
              "</table>\n",
              "</div>"
            ],
            "text/plain": [
              "   Products  Prices\n",
              "0  Computer    1500\n",
              "1   Monitor     300\n",
              "2   Printer     150\n",
              "3      Desk     250"
            ]
          },
          "metadata": {},
          "execution_count": 4
        }
      ]
    },
    {
      "cell_type": "code",
      "metadata": {
        "colab": {
          "base_uri": "https://localhost:8080/",
          "height": 172
        },
        "id": "aeMcmFRQvnFA",
        "outputId": "27122d63-6dfa-4660-eee3-11d940623f18"
      },
      "source": [
        "datos={'Products':['Computer','Monitor','Printer','Desk'],\n",
        "       'Prices':[1500,300,150,250]}\n",
        "df=pd.DataFrame(datos['Prices'],columns=['Prices'],index=datos['Products'])\n",
        "df"
      ],
      "execution_count": 5,
      "outputs": [
        {
          "output_type": "execute_result",
          "data": {
            "text/html": [
              "<div>\n",
              "<style scoped>\n",
              "    .dataframe tbody tr th:only-of-type {\n",
              "        vertical-align: middle;\n",
              "    }\n",
              "\n",
              "    .dataframe tbody tr th {\n",
              "        vertical-align: top;\n",
              "    }\n",
              "\n",
              "    .dataframe thead th {\n",
              "        text-align: right;\n",
              "    }\n",
              "</style>\n",
              "<table border=\"1\" class=\"dataframe\">\n",
              "  <thead>\n",
              "    <tr style=\"text-align: right;\">\n",
              "      <th></th>\n",
              "      <th>Prices</th>\n",
              "    </tr>\n",
              "  </thead>\n",
              "  <tbody>\n",
              "    <tr>\n",
              "      <th>Computer</th>\n",
              "      <td>1500</td>\n",
              "    </tr>\n",
              "    <tr>\n",
              "      <th>Monitor</th>\n",
              "      <td>300</td>\n",
              "    </tr>\n",
              "    <tr>\n",
              "      <th>Printer</th>\n",
              "      <td>150</td>\n",
              "    </tr>\n",
              "    <tr>\n",
              "      <th>Desk</th>\n",
              "      <td>250</td>\n",
              "    </tr>\n",
              "  </tbody>\n",
              "</table>\n",
              "</div>"
            ],
            "text/plain": [
              "          Prices\n",
              "Computer    1500\n",
              "Monitor      300\n",
              "Printer      150\n",
              "Desk         250"
            ]
          },
          "metadata": {},
          "execution_count": 5
        }
      ]
    },
    {
      "cell_type": "markdown",
      "metadata": {
        "id": "fpQEaM748-DO"
      },
      "source": [
        "###Desde el dataset de sklearn"
      ]
    },
    {
      "cell_type": "code",
      "metadata": {
        "id": "K5QAAkBNzw4A"
      },
      "source": [
        "from sklearn.datasets import load_iris\n",
        "import pandas as pd\n",
        "import numpy as np\n",
        "\n",
        "iris = load_iris()\n",
        "\n",
        "df= pd.DataFrame(data= np.c_[iris['data'], iris['target']],\n",
        "                 columns= iris['feature_names'] + ['target'])\n",
        "\n",
        "df['species'] = pd.Categorical.from_codes(iris.target, iris.target_names)\n",
        "df.to_csv('iris.csv',index=False)\n",
        "df.to_excel('iris.xlsx',index=False)\n",
        "df.to_json('iris.json')\n",
        "df.to_pickle('iris.pickle')\n",
        "\n",
        "datos=df.to_string()\n",
        "archivo=open('iris.txt','w')\n",
        "print(datos,file=archivo)\n",
        "archivo.close()"
      ],
      "execution_count": 2,
      "outputs": []
    },
    {
      "cell_type": "markdown",
      "metadata": {
        "id": "0snlu1megMQQ"
      },
      "source": [
        "###Desde un archivo csv"
      ]
    },
    {
      "cell_type": "code",
      "metadata": {
        "colab": {
          "base_uri": "https://localhost:8080/",
          "height": 470
        },
        "id": "4NBIW6dZf68v",
        "outputId": "a7e4f17f-ca3a-4aea-c531-4109a26b9b1c"
      },
      "source": [
        "df=pd.read_csv('iris.csv')\n",
        "df"
      ],
      "execution_count": 3,
      "outputs": [
        {
          "output_type": "stream",
          "name": "stderr",
          "text": [
            "/usr/local/lib/python3.7/dist-packages/IPython/core/interactiveshell.py:2718: DtypeWarning: Columns (2) have mixed types.Specify dtype option on import or set low_memory=False.\n",
            "  interactivity=interactivity, compiler=compiler, result=result)\n"
          ]
        },
        {
          "output_type": "execute_result",
          "data": {
            "text/html": [
              "<div>\n",
              "<style scoped>\n",
              "    .dataframe tbody tr th:only-of-type {\n",
              "        vertical-align: middle;\n",
              "    }\n",
              "\n",
              "    .dataframe tbody tr th {\n",
              "        vertical-align: top;\n",
              "    }\n",
              "\n",
              "    .dataframe thead th {\n",
              "        text-align: right;\n",
              "    }\n",
              "</style>\n",
              "<table border=\"1\" class=\"dataframe\">\n",
              "  <thead>\n",
              "    <tr style=\"text-align: right;\">\n",
              "      <th></th>\n",
              "      <th>TI_CVE_N</th>\n",
              "      <th>ID_ART</th>\n",
              "      <th>TA_CVE_N</th>\n",
              "      <th>EXH_FEC_DT</th>\n",
              "      <th>SUM(EXH_CANT_N)</th>\n",
              "      <th>VTANTA</th>\n",
              "    </tr>\n",
              "  </thead>\n",
              "  <tbody>\n",
              "    <tr>\n",
              "      <th>0</th>\n",
              "      <td>1</td>\n",
              "      <td>996,309</td>\n",
              "      <td>5</td>\n",
              "      <td>10/03/2021 00:00:00</td>\n",
              "      <td>3</td>\n",
              "      <td>1</td>\n",
              "    </tr>\n",
              "    <tr>\n",
              "      <th>1</th>\n",
              "      <td>1</td>\n",
              "      <td>996,389</td>\n",
              "      <td>11</td>\n",
              "      <td>10/03/2021 00:00:00</td>\n",
              "      <td>30</td>\n",
              "      <td>0</td>\n",
              "    </tr>\n",
              "    <tr>\n",
              "      <th>2</th>\n",
              "      <td>1</td>\n",
              "      <td>1,013,122</td>\n",
              "      <td>25</td>\n",
              "      <td>10/03/2021 00:00:00</td>\n",
              "      <td>1</td>\n",
              "      <td>1</td>\n",
              "    </tr>\n",
              "    <tr>\n",
              "      <th>3</th>\n",
              "      <td>1</td>\n",
              "      <td>1,013,124</td>\n",
              "      <td>29</td>\n",
              "      <td>10/03/2021 00:00:00</td>\n",
              "      <td>2</td>\n",
              "      <td>0</td>\n",
              "    </tr>\n",
              "    <tr>\n",
              "      <th>4</th>\n",
              "      <td>1</td>\n",
              "      <td>1,013,128</td>\n",
              "      <td>21</td>\n",
              "      <td>10/03/2021 00:00:00</td>\n",
              "      <td>2</td>\n",
              "      <td>0</td>\n",
              "    </tr>\n",
              "    <tr>\n",
              "      <th>...</th>\n",
              "      <td>...</td>\n",
              "      <td>...</td>\n",
              "      <td>...</td>\n",
              "      <td>...</td>\n",
              "      <td>...</td>\n",
              "      <td>...</td>\n",
              "    </tr>\n",
              "    <tr>\n",
              "      <th>4495707</th>\n",
              "      <td>109</td>\n",
              "      <td>829,742</td>\n",
              "      <td>15</td>\n",
              "      <td>10/05/2021 00:00:00</td>\n",
              "      <td>2</td>\n",
              "      <td>0</td>\n",
              "    </tr>\n",
              "    <tr>\n",
              "      <th>4495708</th>\n",
              "      <td>109</td>\n",
              "      <td>992,529</td>\n",
              "      <td>27</td>\n",
              "      <td>10/05/2021 00:00:00</td>\n",
              "      <td>2</td>\n",
              "      <td>0</td>\n",
              "    </tr>\n",
              "    <tr>\n",
              "      <th>4495709</th>\n",
              "      <td>109</td>\n",
              "      <td>96,388</td>\n",
              "      <td>2</td>\n",
              "      <td>10/05/2021 00:00:00</td>\n",
              "      <td>3</td>\n",
              "      <td>0</td>\n",
              "    </tr>\n",
              "    <tr>\n",
              "      <th>4495710</th>\n",
              "      <td>109</td>\n",
              "      <td>1,002,864</td>\n",
              "      <td>48</td>\n",
              "      <td>10/05/2021 00:00:00</td>\n",
              "      <td>6</td>\n",
              "      <td>0</td>\n",
              "    </tr>\n",
              "    <tr>\n",
              "      <th>4495711</th>\n",
              "      <td>109</td>\n",
              "      <td>1,007,111</td>\n",
              "      <td>48</td>\n",
              "      <td>10/05/2021 00:00:00</td>\n",
              "      <td>15</td>\n",
              "      <td>0</td>\n",
              "    </tr>\n",
              "  </tbody>\n",
              "</table>\n",
              "<p>4495712 rows × 6 columns</p>\n",
              "</div>"
            ],
            "text/plain": [
              "         TI_CVE_N     ID_ART  ... SUM(EXH_CANT_N) VTANTA\n",
              "0               1    996,309  ...               3      1\n",
              "1               1    996,389  ...              30      0\n",
              "2               1  1,013,122  ...               1      1\n",
              "3               1  1,013,124  ...               2      0\n",
              "4               1  1,013,128  ...               2      0\n",
              "...           ...        ...  ...             ...    ...\n",
              "4495707       109    829,742  ...               2      0\n",
              "4495708       109    992,529  ...               2      0\n",
              "4495709       109     96,388  ...               3      0\n",
              "4495710       109  1,002,864  ...               6      0\n",
              "4495711       109  1,007,111  ...              15      0\n",
              "\n",
              "[4495712 rows x 6 columns]"
            ]
          },
          "metadata": {},
          "execution_count": 3
        }
      ]
    },
    {
      "cell_type": "markdown",
      "metadata": {
        "id": "wfDGHf4F9Q_6"
      },
      "source": [
        "####Guardar DS en base de datos"
      ]
    },
    {
      "cell_type": "code",
      "metadata": {
        "colab": {
          "base_uri": "https://localhost:8080/"
        },
        "id": "IgoXQ1DB89Fx",
        "outputId": "db1259d6-841e-4526-895c-ce9be34527e4"
      },
      "source": [
        "import sqlite3\n",
        "conn=sqlite3.connect('bdd.db')\n",
        "\n",
        "#cursor = conn.cursor()\n",
        "#cursor.execute(\"DROP TABLE iris\")\n",
        "#print(\"Table dropped... \")\n",
        "#conn.commit()\n",
        "\n",
        "df.to_sql('iris',conn,index=False)"
      ],
      "execution_count": 8,
      "outputs": [
        {
          "output_type": "stream",
          "name": "stderr",
          "text": [
            "/usr/local/lib/python3.7/dist-packages/pandas/core/generic.py:2615: UserWarning: The spaces in these column names will not be changed. In pandas versions < 0.14, spaces were converted to underscores.\n",
            "  method=method,\n"
          ]
        }
      ]
    },
    {
      "cell_type": "code",
      "metadata": {
        "id": "i6um1VU3FVZX"
      },
      "source": [
        "cursor = conn.cursor()\n",
        "cursor.execute('Select * from iris')\n",
        "rows = cursor.fetchall()\n",
        "\n",
        "for row in rows:\n",
        "    print(row)"
      ],
      "execution_count": null,
      "outputs": []
    },
    {
      "cell_type": "markdown",
      "metadata": {
        "id": "MSZHwSlwgPov"
      },
      "source": [
        "###Desde un archivo Excel"
      ]
    },
    {
      "cell_type": "code",
      "metadata": {
        "colab": {
          "base_uri": "https://localhost:8080/",
          "height": 417
        },
        "id": "18eKq_qFgRm7",
        "outputId": "857e065a-817c-41d0-b3fb-76b2a6fb3159"
      },
      "source": [
        "df=pd.read_excel('iris.xlsx') #sheet_name=\n",
        "df"
      ],
      "execution_count": 11,
      "outputs": [
        {
          "output_type": "execute_result",
          "data": {
            "text/html": [
              "<div>\n",
              "<style scoped>\n",
              "    .dataframe tbody tr th:only-of-type {\n",
              "        vertical-align: middle;\n",
              "    }\n",
              "\n",
              "    .dataframe tbody tr th {\n",
              "        vertical-align: top;\n",
              "    }\n",
              "\n",
              "    .dataframe thead th {\n",
              "        text-align: right;\n",
              "    }\n",
              "</style>\n",
              "<table border=\"1\" class=\"dataframe\">\n",
              "  <thead>\n",
              "    <tr style=\"text-align: right;\">\n",
              "      <th></th>\n",
              "      <th>sepal length (cm)</th>\n",
              "      <th>sepal width (cm)</th>\n",
              "      <th>petal length (cm)</th>\n",
              "      <th>petal width (cm)</th>\n",
              "      <th>target</th>\n",
              "      <th>species</th>\n",
              "    </tr>\n",
              "  </thead>\n",
              "  <tbody>\n",
              "    <tr>\n",
              "      <th>0</th>\n",
              "      <td>5.1</td>\n",
              "      <td>3.5</td>\n",
              "      <td>1.4</td>\n",
              "      <td>0.2</td>\n",
              "      <td>0</td>\n",
              "      <td>setosa</td>\n",
              "    </tr>\n",
              "    <tr>\n",
              "      <th>1</th>\n",
              "      <td>4.9</td>\n",
              "      <td>3.0</td>\n",
              "      <td>1.4</td>\n",
              "      <td>0.2</td>\n",
              "      <td>0</td>\n",
              "      <td>setosa</td>\n",
              "    </tr>\n",
              "    <tr>\n",
              "      <th>2</th>\n",
              "      <td>4.7</td>\n",
              "      <td>3.2</td>\n",
              "      <td>1.3</td>\n",
              "      <td>0.2</td>\n",
              "      <td>0</td>\n",
              "      <td>setosa</td>\n",
              "    </tr>\n",
              "    <tr>\n",
              "      <th>3</th>\n",
              "      <td>4.6</td>\n",
              "      <td>3.1</td>\n",
              "      <td>1.5</td>\n",
              "      <td>0.2</td>\n",
              "      <td>0</td>\n",
              "      <td>setosa</td>\n",
              "    </tr>\n",
              "    <tr>\n",
              "      <th>4</th>\n",
              "      <td>5.0</td>\n",
              "      <td>3.6</td>\n",
              "      <td>1.4</td>\n",
              "      <td>0.2</td>\n",
              "      <td>0</td>\n",
              "      <td>setosa</td>\n",
              "    </tr>\n",
              "    <tr>\n",
              "      <th>...</th>\n",
              "      <td>...</td>\n",
              "      <td>...</td>\n",
              "      <td>...</td>\n",
              "      <td>...</td>\n",
              "      <td>...</td>\n",
              "      <td>...</td>\n",
              "    </tr>\n",
              "    <tr>\n",
              "      <th>145</th>\n",
              "      <td>6.7</td>\n",
              "      <td>3.0</td>\n",
              "      <td>5.2</td>\n",
              "      <td>2.3</td>\n",
              "      <td>2</td>\n",
              "      <td>virginica</td>\n",
              "    </tr>\n",
              "    <tr>\n",
              "      <th>146</th>\n",
              "      <td>6.3</td>\n",
              "      <td>2.5</td>\n",
              "      <td>5.0</td>\n",
              "      <td>1.9</td>\n",
              "      <td>2</td>\n",
              "      <td>virginica</td>\n",
              "    </tr>\n",
              "    <tr>\n",
              "      <th>147</th>\n",
              "      <td>6.5</td>\n",
              "      <td>3.0</td>\n",
              "      <td>5.2</td>\n",
              "      <td>2.0</td>\n",
              "      <td>2</td>\n",
              "      <td>virginica</td>\n",
              "    </tr>\n",
              "    <tr>\n",
              "      <th>148</th>\n",
              "      <td>6.2</td>\n",
              "      <td>3.4</td>\n",
              "      <td>5.4</td>\n",
              "      <td>2.3</td>\n",
              "      <td>2</td>\n",
              "      <td>virginica</td>\n",
              "    </tr>\n",
              "    <tr>\n",
              "      <th>149</th>\n",
              "      <td>5.9</td>\n",
              "      <td>3.0</td>\n",
              "      <td>5.1</td>\n",
              "      <td>1.8</td>\n",
              "      <td>2</td>\n",
              "      <td>virginica</td>\n",
              "    </tr>\n",
              "  </tbody>\n",
              "</table>\n",
              "<p>150 rows × 6 columns</p>\n",
              "</div>"
            ],
            "text/plain": [
              "     sepal length (cm)  sepal width (cm)  ...  target    species\n",
              "0                  5.1               3.5  ...       0     setosa\n",
              "1                  4.9               3.0  ...       0     setosa\n",
              "2                  4.7               3.2  ...       0     setosa\n",
              "3                  4.6               3.1  ...       0     setosa\n",
              "4                  5.0               3.6  ...       0     setosa\n",
              "..                 ...               ...  ...     ...        ...\n",
              "145                6.7               3.0  ...       2  virginica\n",
              "146                6.3               2.5  ...       2  virginica\n",
              "147                6.5               3.0  ...       2  virginica\n",
              "148                6.2               3.4  ...       2  virginica\n",
              "149                5.9               3.0  ...       2  virginica\n",
              "\n",
              "[150 rows x 6 columns]"
            ]
          },
          "metadata": {},
          "execution_count": 11
        }
      ]
    },
    {
      "cell_type": "markdown",
      "metadata": {
        "id": "Nic_SeGL4ftR"
      },
      "source": [
        "###Desde una base de datos"
      ]
    },
    {
      "cell_type": "code",
      "metadata": {
        "id": "VMOch44E4iRk"
      },
      "source": [
        "import sqlite3\n",
        "conn=sqlite3.connect('bdd.db')"
      ],
      "execution_count": 10,
      "outputs": []
    },
    {
      "cell_type": "code",
      "metadata": {
        "colab": {
          "base_uri": "https://localhost:8080/",
          "height": 417
        },
        "id": "Zldx05Tm4te4",
        "outputId": "32152c4f-d93c-4b21-a956-c4486cf64b12"
      },
      "source": [
        "df=pd.read_sql('Select * from iris',conn)\n",
        "df"
      ],
      "execution_count": 12,
      "outputs": [
        {
          "output_type": "execute_result",
          "data": {
            "text/html": [
              "<div>\n",
              "<style scoped>\n",
              "    .dataframe tbody tr th:only-of-type {\n",
              "        vertical-align: middle;\n",
              "    }\n",
              "\n",
              "    .dataframe tbody tr th {\n",
              "        vertical-align: top;\n",
              "    }\n",
              "\n",
              "    .dataframe thead th {\n",
              "        text-align: right;\n",
              "    }\n",
              "</style>\n",
              "<table border=\"1\" class=\"dataframe\">\n",
              "  <thead>\n",
              "    <tr style=\"text-align: right;\">\n",
              "      <th></th>\n",
              "      <th>sepal length (cm)</th>\n",
              "      <th>sepal width (cm)</th>\n",
              "      <th>petal length (cm)</th>\n",
              "      <th>petal width (cm)</th>\n",
              "      <th>target</th>\n",
              "      <th>species</th>\n",
              "    </tr>\n",
              "  </thead>\n",
              "  <tbody>\n",
              "    <tr>\n",
              "      <th>0</th>\n",
              "      <td>5.1</td>\n",
              "      <td>3.5</td>\n",
              "      <td>1.4</td>\n",
              "      <td>0.2</td>\n",
              "      <td>0.0</td>\n",
              "      <td>setosa</td>\n",
              "    </tr>\n",
              "    <tr>\n",
              "      <th>1</th>\n",
              "      <td>4.9</td>\n",
              "      <td>3.0</td>\n",
              "      <td>1.4</td>\n",
              "      <td>0.2</td>\n",
              "      <td>0.0</td>\n",
              "      <td>setosa</td>\n",
              "    </tr>\n",
              "    <tr>\n",
              "      <th>2</th>\n",
              "      <td>4.7</td>\n",
              "      <td>3.2</td>\n",
              "      <td>1.3</td>\n",
              "      <td>0.2</td>\n",
              "      <td>0.0</td>\n",
              "      <td>setosa</td>\n",
              "    </tr>\n",
              "    <tr>\n",
              "      <th>3</th>\n",
              "      <td>4.6</td>\n",
              "      <td>3.1</td>\n",
              "      <td>1.5</td>\n",
              "      <td>0.2</td>\n",
              "      <td>0.0</td>\n",
              "      <td>setosa</td>\n",
              "    </tr>\n",
              "    <tr>\n",
              "      <th>4</th>\n",
              "      <td>5.0</td>\n",
              "      <td>3.6</td>\n",
              "      <td>1.4</td>\n",
              "      <td>0.2</td>\n",
              "      <td>0.0</td>\n",
              "      <td>setosa</td>\n",
              "    </tr>\n",
              "    <tr>\n",
              "      <th>...</th>\n",
              "      <td>...</td>\n",
              "      <td>...</td>\n",
              "      <td>...</td>\n",
              "      <td>...</td>\n",
              "      <td>...</td>\n",
              "      <td>...</td>\n",
              "    </tr>\n",
              "    <tr>\n",
              "      <th>145</th>\n",
              "      <td>6.7</td>\n",
              "      <td>3.0</td>\n",
              "      <td>5.2</td>\n",
              "      <td>2.3</td>\n",
              "      <td>2.0</td>\n",
              "      <td>virginica</td>\n",
              "    </tr>\n",
              "    <tr>\n",
              "      <th>146</th>\n",
              "      <td>6.3</td>\n",
              "      <td>2.5</td>\n",
              "      <td>5.0</td>\n",
              "      <td>1.9</td>\n",
              "      <td>2.0</td>\n",
              "      <td>virginica</td>\n",
              "    </tr>\n",
              "    <tr>\n",
              "      <th>147</th>\n",
              "      <td>6.5</td>\n",
              "      <td>3.0</td>\n",
              "      <td>5.2</td>\n",
              "      <td>2.0</td>\n",
              "      <td>2.0</td>\n",
              "      <td>virginica</td>\n",
              "    </tr>\n",
              "    <tr>\n",
              "      <th>148</th>\n",
              "      <td>6.2</td>\n",
              "      <td>3.4</td>\n",
              "      <td>5.4</td>\n",
              "      <td>2.3</td>\n",
              "      <td>2.0</td>\n",
              "      <td>virginica</td>\n",
              "    </tr>\n",
              "    <tr>\n",
              "      <th>149</th>\n",
              "      <td>5.9</td>\n",
              "      <td>3.0</td>\n",
              "      <td>5.1</td>\n",
              "      <td>1.8</td>\n",
              "      <td>2.0</td>\n",
              "      <td>virginica</td>\n",
              "    </tr>\n",
              "  </tbody>\n",
              "</table>\n",
              "<p>150 rows × 6 columns</p>\n",
              "</div>"
            ],
            "text/plain": [
              "     sepal length (cm)  sepal width (cm)  ...  target    species\n",
              "0                  5.1               3.5  ...     0.0     setosa\n",
              "1                  4.9               3.0  ...     0.0     setosa\n",
              "2                  4.7               3.2  ...     0.0     setosa\n",
              "3                  4.6               3.1  ...     0.0     setosa\n",
              "4                  5.0               3.6  ...     0.0     setosa\n",
              "..                 ...               ...  ...     ...        ...\n",
              "145                6.7               3.0  ...     2.0  virginica\n",
              "146                6.3               2.5  ...     2.0  virginica\n",
              "147                6.5               3.0  ...     2.0  virginica\n",
              "148                6.2               3.4  ...     2.0  virginica\n",
              "149                5.9               3.0  ...     2.0  virginica\n",
              "\n",
              "[150 rows x 6 columns]"
            ]
          },
          "metadata": {},
          "execution_count": 12
        }
      ]
    },
    {
      "cell_type": "markdown",
      "metadata": {
        "id": "_ikhtBNFh8Lb"
      },
      "source": [
        "##Desplegar informacion de un dataframe"
      ]
    },
    {
      "cell_type": "markdown",
      "metadata": {
        "id": "qjK5RfUWifC1"
      },
      "source": [
        "###Dimension"
      ]
    },
    {
      "cell_type": "code",
      "metadata": {
        "colab": {
          "base_uri": "https://localhost:8080/"
        },
        "id": "_06WjHTJiUa6",
        "outputId": "d472d01c-e2e1-4c29-e855-ce6ee87ff134"
      },
      "source": [
        "df.shape"
      ],
      "execution_count": 4,
      "outputs": [
        {
          "output_type": "execute_result",
          "data": {
            "text/plain": [
              "(4495712, 6)"
            ]
          },
          "metadata": {},
          "execution_count": 4
        }
      ]
    },
    {
      "cell_type": "code",
      "metadata": {
        "colab": {
          "base_uri": "https://localhost:8080/"
        },
        "id": "fhBoGRcRyPaZ",
        "outputId": "f33db719-d20f-4341-e83f-f44a8d8c888d"
      },
      "source": [
        "df.columns"
      ],
      "execution_count": 5,
      "outputs": [
        {
          "output_type": "execute_result",
          "data": {
            "text/plain": [
              "Index(['TI_CVE_N', 'ID_ART', 'TA_CVE_N', 'EXH_FEC_DT', 'SUM(EXH_CANT_N)',\n",
              "       'VTANTA'],\n",
              "      dtype='object')"
            ]
          },
          "metadata": {},
          "execution_count": 5
        }
      ]
    },
    {
      "cell_type": "code",
      "metadata": {
        "colab": {
          "base_uri": "https://localhost:8080/"
        },
        "id": "rGyk0WZwjmsh",
        "outputId": "f7da8341-ad68-49ce-a681-0df2c92b2822"
      },
      "source": [
        "print(df.size)\n",
        "print(150*6)"
      ],
      "execution_count": 15,
      "outputs": [
        {
          "output_type": "stream",
          "name": "stdout",
          "text": [
            "900\n",
            "900\n"
          ]
        }
      ]
    },
    {
      "cell_type": "code",
      "metadata": {
        "colab": {
          "base_uri": "https://localhost:8080/"
        },
        "id": "a6WKP88ryjqm",
        "outputId": "c9a7f5d3-ce35-4cea-e833-36c0ec3a44cc"
      },
      "source": [
        "df.info()"
      ],
      "execution_count": 6,
      "outputs": [
        {
          "output_type": "stream",
          "name": "stdout",
          "text": [
            "<class 'pandas.core.frame.DataFrame'>\n",
            "RangeIndex: 4495712 entries, 0 to 4495711\n",
            "Data columns (total 6 columns):\n",
            " #   Column           Dtype \n",
            "---  ------           ----- \n",
            " 0   TI_CVE_N         int64 \n",
            " 1   ID_ART           object\n",
            " 2   TA_CVE_N         object\n",
            " 3   EXH_FEC_DT       object\n",
            " 4   SUM(EXH_CANT_N)  object\n",
            " 5   VTANTA           int64 \n",
            "dtypes: int64(2), object(4)\n",
            "memory usage: 205.8+ MB\n"
          ]
        }
      ]
    },
    {
      "cell_type": "code",
      "metadata": {
        "id": "YZ-ZiF2xkBE6",
        "colab": {
          "base_uri": "https://localhost:8080/"
        },
        "outputId": "abb3820b-912c-4bb5-d3a3-849c3c4d75ed"
      },
      "source": [
        "df.values"
      ],
      "execution_count": 7,
      "outputs": [
        {
          "output_type": "execute_result",
          "data": {
            "text/plain": [
              "array([[1, '996,309', 5, '10/03/2021 00:00:00', '3', 1],\n",
              "       [1, '996,389', 11, '10/03/2021 00:00:00', '30', 0],\n",
              "       [1, '1,013,122', 25, '10/03/2021 00:00:00', '1', 1],\n",
              "       ...,\n",
              "       [109, '96,388', 2, '10/05/2021 00:00:00', '3', 0],\n",
              "       [109, '1,002,864', 48, '10/05/2021 00:00:00', '6', 0],\n",
              "       [109, '1,007,111', 48, '10/05/2021 00:00:00', '15', 0]],\n",
              "      dtype=object)"
            ]
          },
          "metadata": {},
          "execution_count": 7
        }
      ]
    },
    {
      "cell_type": "code",
      "metadata": {
        "colab": {
          "base_uri": "https://localhost:8080/",
          "height": 203
        },
        "id": "cDr-ImsbiklO",
        "outputId": "4cfb6540-c574-4e06-a44c-82b6d0f2af2c"
      },
      "source": [
        "df.head()"
      ],
      "execution_count": 8,
      "outputs": [
        {
          "output_type": "execute_result",
          "data": {
            "text/html": [
              "<div>\n",
              "<style scoped>\n",
              "    .dataframe tbody tr th:only-of-type {\n",
              "        vertical-align: middle;\n",
              "    }\n",
              "\n",
              "    .dataframe tbody tr th {\n",
              "        vertical-align: top;\n",
              "    }\n",
              "\n",
              "    .dataframe thead th {\n",
              "        text-align: right;\n",
              "    }\n",
              "</style>\n",
              "<table border=\"1\" class=\"dataframe\">\n",
              "  <thead>\n",
              "    <tr style=\"text-align: right;\">\n",
              "      <th></th>\n",
              "      <th>TI_CVE_N</th>\n",
              "      <th>ID_ART</th>\n",
              "      <th>TA_CVE_N</th>\n",
              "      <th>EXH_FEC_DT</th>\n",
              "      <th>SUM(EXH_CANT_N)</th>\n",
              "      <th>VTANTA</th>\n",
              "    </tr>\n",
              "  </thead>\n",
              "  <tbody>\n",
              "    <tr>\n",
              "      <th>0</th>\n",
              "      <td>1</td>\n",
              "      <td>996,309</td>\n",
              "      <td>5</td>\n",
              "      <td>10/03/2021 00:00:00</td>\n",
              "      <td>3</td>\n",
              "      <td>1</td>\n",
              "    </tr>\n",
              "    <tr>\n",
              "      <th>1</th>\n",
              "      <td>1</td>\n",
              "      <td>996,389</td>\n",
              "      <td>11</td>\n",
              "      <td>10/03/2021 00:00:00</td>\n",
              "      <td>30</td>\n",
              "      <td>0</td>\n",
              "    </tr>\n",
              "    <tr>\n",
              "      <th>2</th>\n",
              "      <td>1</td>\n",
              "      <td>1,013,122</td>\n",
              "      <td>25</td>\n",
              "      <td>10/03/2021 00:00:00</td>\n",
              "      <td>1</td>\n",
              "      <td>1</td>\n",
              "    </tr>\n",
              "    <tr>\n",
              "      <th>3</th>\n",
              "      <td>1</td>\n",
              "      <td>1,013,124</td>\n",
              "      <td>29</td>\n",
              "      <td>10/03/2021 00:00:00</td>\n",
              "      <td>2</td>\n",
              "      <td>0</td>\n",
              "    </tr>\n",
              "    <tr>\n",
              "      <th>4</th>\n",
              "      <td>1</td>\n",
              "      <td>1,013,128</td>\n",
              "      <td>21</td>\n",
              "      <td>10/03/2021 00:00:00</td>\n",
              "      <td>2</td>\n",
              "      <td>0</td>\n",
              "    </tr>\n",
              "  </tbody>\n",
              "</table>\n",
              "</div>"
            ],
            "text/plain": [
              "   TI_CVE_N     ID_ART TA_CVE_N           EXH_FEC_DT SUM(EXH_CANT_N)  VTANTA\n",
              "0         1    996,309        5  10/03/2021 00:00:00               3       1\n",
              "1         1    996,389       11  10/03/2021 00:00:00              30       0\n",
              "2         1  1,013,122       25  10/03/2021 00:00:00               1       1\n",
              "3         1  1,013,124       29  10/03/2021 00:00:00               2       0\n",
              "4         1  1,013,128       21  10/03/2021 00:00:00               2       0"
            ]
          },
          "metadata": {},
          "execution_count": 8
        }
      ]
    },
    {
      "cell_type": "code",
      "metadata": {
        "colab": {
          "base_uri": "https://localhost:8080/",
          "height": 203
        },
        "id": "I8Nq8_VCinp8",
        "outputId": "040ed6a1-475c-4ad2-cc57-fd04db3de408"
      },
      "source": [
        "df.tail()"
      ],
      "execution_count": 9,
      "outputs": [
        {
          "output_type": "execute_result",
          "data": {
            "text/html": [
              "<div>\n",
              "<style scoped>\n",
              "    .dataframe tbody tr th:only-of-type {\n",
              "        vertical-align: middle;\n",
              "    }\n",
              "\n",
              "    .dataframe tbody tr th {\n",
              "        vertical-align: top;\n",
              "    }\n",
              "\n",
              "    .dataframe thead th {\n",
              "        text-align: right;\n",
              "    }\n",
              "</style>\n",
              "<table border=\"1\" class=\"dataframe\">\n",
              "  <thead>\n",
              "    <tr style=\"text-align: right;\">\n",
              "      <th></th>\n",
              "      <th>TI_CVE_N</th>\n",
              "      <th>ID_ART</th>\n",
              "      <th>TA_CVE_N</th>\n",
              "      <th>EXH_FEC_DT</th>\n",
              "      <th>SUM(EXH_CANT_N)</th>\n",
              "      <th>VTANTA</th>\n",
              "    </tr>\n",
              "  </thead>\n",
              "  <tbody>\n",
              "    <tr>\n",
              "      <th>4495707</th>\n",
              "      <td>109</td>\n",
              "      <td>829,742</td>\n",
              "      <td>15</td>\n",
              "      <td>10/05/2021 00:00:00</td>\n",
              "      <td>2</td>\n",
              "      <td>0</td>\n",
              "    </tr>\n",
              "    <tr>\n",
              "      <th>4495708</th>\n",
              "      <td>109</td>\n",
              "      <td>992,529</td>\n",
              "      <td>27</td>\n",
              "      <td>10/05/2021 00:00:00</td>\n",
              "      <td>2</td>\n",
              "      <td>0</td>\n",
              "    </tr>\n",
              "    <tr>\n",
              "      <th>4495709</th>\n",
              "      <td>109</td>\n",
              "      <td>96,388</td>\n",
              "      <td>2</td>\n",
              "      <td>10/05/2021 00:00:00</td>\n",
              "      <td>3</td>\n",
              "      <td>0</td>\n",
              "    </tr>\n",
              "    <tr>\n",
              "      <th>4495710</th>\n",
              "      <td>109</td>\n",
              "      <td>1,002,864</td>\n",
              "      <td>48</td>\n",
              "      <td>10/05/2021 00:00:00</td>\n",
              "      <td>6</td>\n",
              "      <td>0</td>\n",
              "    </tr>\n",
              "    <tr>\n",
              "      <th>4495711</th>\n",
              "      <td>109</td>\n",
              "      <td>1,007,111</td>\n",
              "      <td>48</td>\n",
              "      <td>10/05/2021 00:00:00</td>\n",
              "      <td>15</td>\n",
              "      <td>0</td>\n",
              "    </tr>\n",
              "  </tbody>\n",
              "</table>\n",
              "</div>"
            ],
            "text/plain": [
              "         TI_CVE_N     ID_ART  ... SUM(EXH_CANT_N) VTANTA\n",
              "4495707       109    829,742  ...               2      0\n",
              "4495708       109    992,529  ...               2      0\n",
              "4495709       109     96,388  ...               3      0\n",
              "4495710       109  1,002,864  ...               6      0\n",
              "4495711       109  1,007,111  ...              15      0\n",
              "\n",
              "[5 rows x 6 columns]"
            ]
          },
          "metadata": {},
          "execution_count": 9
        }
      ]
    },
    {
      "cell_type": "code",
      "metadata": {
        "id": "TS-vAuoVnUv1",
        "colab": {
          "base_uri": "https://localhost:8080/",
          "height": 357
        },
        "outputId": "5fccac6e-bdd4-41b0-831d-686319297c99"
      },
      "source": [
        "df.sample(10)"
      ],
      "execution_count": 10,
      "outputs": [
        {
          "output_type": "execute_result",
          "data": {
            "text/html": [
              "<div>\n",
              "<style scoped>\n",
              "    .dataframe tbody tr th:only-of-type {\n",
              "        vertical-align: middle;\n",
              "    }\n",
              "\n",
              "    .dataframe tbody tr th {\n",
              "        vertical-align: top;\n",
              "    }\n",
              "\n",
              "    .dataframe thead th {\n",
              "        text-align: right;\n",
              "    }\n",
              "</style>\n",
              "<table border=\"1\" class=\"dataframe\">\n",
              "  <thead>\n",
              "    <tr style=\"text-align: right;\">\n",
              "      <th></th>\n",
              "      <th>TI_CVE_N</th>\n",
              "      <th>ID_ART</th>\n",
              "      <th>TA_CVE_N</th>\n",
              "      <th>EXH_FEC_DT</th>\n",
              "      <th>SUM(EXH_CANT_N)</th>\n",
              "      <th>VTANTA</th>\n",
              "    </tr>\n",
              "  </thead>\n",
              "  <tbody>\n",
              "    <tr>\n",
              "      <th>1545033</th>\n",
              "      <td>98</td>\n",
              "      <td>990,466</td>\n",
              "      <td>26</td>\n",
              "      <td>10/05/2021 00:00:00</td>\n",
              "      <td>2</td>\n",
              "      <td>0</td>\n",
              "    </tr>\n",
              "    <tr>\n",
              "      <th>1743720</th>\n",
              "      <td>5</td>\n",
              "      <td>157,451</td>\n",
              "      <td>24</td>\n",
              "      <td>10/04/2021 00:00:00</td>\n",
              "      <td>1</td>\n",
              "      <td>0</td>\n",
              "    </tr>\n",
              "    <tr>\n",
              "      <th>4084846</th>\n",
              "      <td>5</td>\n",
              "      <td>996,915</td>\n",
              "      <td>5</td>\n",
              "      <td>10/03/2021 00:00:00</td>\n",
              "      <td>2</td>\n",
              "      <td>0</td>\n",
              "    </tr>\n",
              "    <tr>\n",
              "      <th>4447950</th>\n",
              "      <td>98</td>\n",
              "      <td>926,256</td>\n",
              "      <td>26</td>\n",
              "      <td>10/04/2021 00:00:00</td>\n",
              "      <td>11</td>\n",
              "      <td>0</td>\n",
              "    </tr>\n",
              "    <tr>\n",
              "      <th>3532623</th>\n",
              "      <td>29</td>\n",
              "      <td>829,288</td>\n",
              "      <td>26</td>\n",
              "      <td>10/03/2021 00:00:00</td>\n",
              "      <td>1</td>\n",
              "      <td>0</td>\n",
              "    </tr>\n",
              "    <tr>\n",
              "      <th>1865243</th>\n",
              "      <td>68</td>\n",
              "      <td>1,011,350</td>\n",
              "      <td>26</td>\n",
              "      <td>10/03/2021 00:00:00</td>\n",
              "      <td>2</td>\n",
              "      <td>0</td>\n",
              "    </tr>\n",
              "    <tr>\n",
              "      <th>1488754</th>\n",
              "      <td>65</td>\n",
              "      <td>832,622</td>\n",
              "      <td>7</td>\n",
              "      <td>10/04/2021 00:00:00</td>\n",
              "      <td>6</td>\n",
              "      <td>0</td>\n",
              "    </tr>\n",
              "    <tr>\n",
              "      <th>3923633</th>\n",
              "      <td>45</td>\n",
              "      <td>831,430</td>\n",
              "      <td>25</td>\n",
              "      <td>10/05/2021 00:00:00</td>\n",
              "      <td>1</td>\n",
              "      <td>0</td>\n",
              "    </tr>\n",
              "    <tr>\n",
              "      <th>1660485</th>\n",
              "      <td>29</td>\n",
              "      <td>873,643</td>\n",
              "      <td>5</td>\n",
              "      <td>10/05/2021 00:00:00</td>\n",
              "      <td>4</td>\n",
              "      <td>0</td>\n",
              "    </tr>\n",
              "    <tr>\n",
              "      <th>1382061</th>\n",
              "      <td>30</td>\n",
              "      <td>992,972</td>\n",
              "      <td>24</td>\n",
              "      <td>10/05/2021 00:00:00</td>\n",
              "      <td>3</td>\n",
              "      <td>0</td>\n",
              "    </tr>\n",
              "  </tbody>\n",
              "</table>\n",
              "</div>"
            ],
            "text/plain": [
              "         TI_CVE_N     ID_ART  ... SUM(EXH_CANT_N) VTANTA\n",
              "1545033        98    990,466  ...               2      0\n",
              "1743720         5    157,451  ...               1      0\n",
              "4084846         5    996,915  ...               2      0\n",
              "4447950        98    926,256  ...              11      0\n",
              "3532623        29    829,288  ...               1      0\n",
              "1865243        68  1,011,350  ...               2      0\n",
              "1488754        65    832,622  ...               6      0\n",
              "3923633        45    831,430  ...               1      0\n",
              "1660485        29    873,643  ...               4      0\n",
              "1382061        30    992,972  ...               3      0\n",
              "\n",
              "[10 rows x 6 columns]"
            ]
          },
          "metadata": {},
          "execution_count": 10
        }
      ]
    },
    {
      "cell_type": "markdown",
      "metadata": {
        "id": "FfsHIdBeiEDk"
      },
      "source": [
        "###Descripcion"
      ]
    },
    {
      "cell_type": "code",
      "metadata": {
        "colab": {
          "base_uri": "https://localhost:8080/",
          "height": 295
        },
        "id": "NFSh4ELBiDjw",
        "outputId": "4f6d5a02-2dcf-4768-99d8-b26dd6f0b5b2"
      },
      "source": [
        "df.describe()"
      ],
      "execution_count": 11,
      "outputs": [
        {
          "output_type": "execute_result",
          "data": {
            "text/html": [
              "<div>\n",
              "<style scoped>\n",
              "    .dataframe tbody tr th:only-of-type {\n",
              "        vertical-align: middle;\n",
              "    }\n",
              "\n",
              "    .dataframe tbody tr th {\n",
              "        vertical-align: top;\n",
              "    }\n",
              "\n",
              "    .dataframe thead th {\n",
              "        text-align: right;\n",
              "    }\n",
              "</style>\n",
              "<table border=\"1\" class=\"dataframe\">\n",
              "  <thead>\n",
              "    <tr style=\"text-align: right;\">\n",
              "      <th></th>\n",
              "      <th>TI_CVE_N</th>\n",
              "      <th>VTANTA</th>\n",
              "    </tr>\n",
              "  </thead>\n",
              "  <tbody>\n",
              "    <tr>\n",
              "      <th>count</th>\n",
              "      <td>4.495712e+06</td>\n",
              "      <td>4.495712e+06</td>\n",
              "    </tr>\n",
              "    <tr>\n",
              "      <th>mean</th>\n",
              "      <td>3.552992e+01</td>\n",
              "      <td>5.796746e-02</td>\n",
              "    </tr>\n",
              "    <tr>\n",
              "      <th>std</th>\n",
              "      <td>2.904752e+01</td>\n",
              "      <td>8.644672e-01</td>\n",
              "    </tr>\n",
              "    <tr>\n",
              "      <th>min</th>\n",
              "      <td>1.000000e+00</td>\n",
              "      <td>-4.000000e+00</td>\n",
              "    </tr>\n",
              "    <tr>\n",
              "      <th>25%</th>\n",
              "      <td>5.000000e+00</td>\n",
              "      <td>0.000000e+00</td>\n",
              "    </tr>\n",
              "    <tr>\n",
              "      <th>50%</th>\n",
              "      <td>3.000000e+01</td>\n",
              "      <td>0.000000e+00</td>\n",
              "    </tr>\n",
              "    <tr>\n",
              "      <th>75%</th>\n",
              "      <td>4.400000e+01</td>\n",
              "      <td>0.000000e+00</td>\n",
              "    </tr>\n",
              "    <tr>\n",
              "      <th>max</th>\n",
              "      <td>1.090000e+02</td>\n",
              "      <td>2.820000e+02</td>\n",
              "    </tr>\n",
              "  </tbody>\n",
              "</table>\n",
              "</div>"
            ],
            "text/plain": [
              "           TI_CVE_N        VTANTA\n",
              "count  4.495712e+06  4.495712e+06\n",
              "mean   3.552992e+01  5.796746e-02\n",
              "std    2.904752e+01  8.644672e-01\n",
              "min    1.000000e+00 -4.000000e+00\n",
              "25%    5.000000e+00  0.000000e+00\n",
              "50%    3.000000e+01  0.000000e+00\n",
              "75%    4.400000e+01  0.000000e+00\n",
              "max    1.090000e+02  2.820000e+02"
            ]
          },
          "metadata": {},
          "execution_count": 11
        }
      ]
    },
    {
      "cell_type": "code",
      "metadata": {
        "colab": {
          "base_uri": "https://localhost:8080/"
        },
        "id": "VsW6cyaKGgw6",
        "outputId": "85a2c154-75ff-412b-c9c0-930c99ee93eb"
      },
      "source": [
        "df['sepal length (cm)'].std()"
      ],
      "execution_count": 22,
      "outputs": [
        {
          "output_type": "execute_result",
          "data": {
            "text/plain": [
              "0.8280661279778629"
            ]
          },
          "metadata": {},
          "execution_count": 22
        }
      ]
    },
    {
      "cell_type": "code",
      "metadata": {
        "colab": {
          "base_uri": "https://localhost:8080/"
        },
        "id": "jYPUwkdRGuwy",
        "outputId": "6f494823-fbc3-400f-9b5f-653b12bb1477"
      },
      "source": [
        "df['sepal length (cm)'].sum()"
      ],
      "execution_count": 23,
      "outputs": [
        {
          "output_type": "execute_result",
          "data": {
            "text/plain": [
              "876.5"
            ]
          },
          "metadata": {},
          "execution_count": 23
        }
      ]
    },
    {
      "cell_type": "code",
      "metadata": {
        "colab": {
          "base_uri": "https://localhost:8080/"
        },
        "id": "3ySLl4UIzCAi",
        "outputId": "2592aea2-35f0-430b-ec8f-df9fbb095cdc"
      },
      "source": [
        "df.iloc[:,0].mode()"
      ],
      "execution_count": 24,
      "outputs": [
        {
          "output_type": "execute_result",
          "data": {
            "text/plain": [
              "0    5.0\n",
              "dtype: float64"
            ]
          },
          "metadata": {},
          "execution_count": 24
        }
      ]
    },
    {
      "cell_type": "code",
      "metadata": {
        "colab": {
          "base_uri": "https://localhost:8080/"
        },
        "id": "zA6d1_VqG3YD",
        "outputId": "da414cea-6548-4b46-81aa-a9e879265958"
      },
      "source": [
        "df.iloc[:,0].mean()"
      ],
      "execution_count": 25,
      "outputs": [
        {
          "output_type": "execute_result",
          "data": {
            "text/plain": [
              "5.843333333333335"
            ]
          },
          "metadata": {},
          "execution_count": 25
        }
      ]
    },
    {
      "cell_type": "markdown",
      "metadata": {
        "id": "YQkGAl_lqPCe"
      },
      "source": [
        "###Mostrar columnas"
      ]
    },
    {
      "cell_type": "code",
      "metadata": {
        "colab": {
          "base_uri": "https://localhost:8080/"
        },
        "id": "UU-C8nxyiq8C",
        "outputId": "72772f4e-9a46-46b6-d62a-2327b3ca3cb5"
      },
      "source": [
        "df.columns"
      ],
      "execution_count": 27,
      "outputs": [
        {
          "output_type": "execute_result",
          "data": {
            "text/plain": [
              "Index(['sepal length (cm)', 'sepal width (cm)', 'petal length (cm)',\n",
              "       'petal width (cm)', 'target', 'species'],\n",
              "      dtype='object')"
            ]
          },
          "metadata": {},
          "execution_count": 27
        }
      ]
    },
    {
      "cell_type": "code",
      "metadata": {
        "colab": {
          "base_uri": "https://localhost:8080/"
        },
        "id": "4nDqLXcXtFRB",
        "outputId": "78bb6ca3-5e52-4144-e0a3-969138d5bf4b"
      },
      "source": [
        "df.columns[[0,1]]"
      ],
      "execution_count": 28,
      "outputs": [
        {
          "output_type": "execute_result",
          "data": {
            "text/plain": [
              "Index(['sepal length (cm)', 'sepal width (cm)'], dtype='object')"
            ]
          },
          "metadata": {},
          "execution_count": 28
        }
      ]
    },
    {
      "cell_type": "code",
      "metadata": {
        "colab": {
          "base_uri": "https://localhost:8080/",
          "height": 417
        },
        "id": "YObzjn_VnyEQ",
        "outputId": "38acfb55-058a-44a9-d578-2465a9069708"
      },
      "source": [
        "df[['sepal length (cm)', 'sepal width (cm)']]"
      ],
      "execution_count": 29,
      "outputs": [
        {
          "output_type": "execute_result",
          "data": {
            "text/html": [
              "<div>\n",
              "<style scoped>\n",
              "    .dataframe tbody tr th:only-of-type {\n",
              "        vertical-align: middle;\n",
              "    }\n",
              "\n",
              "    .dataframe tbody tr th {\n",
              "        vertical-align: top;\n",
              "    }\n",
              "\n",
              "    .dataframe thead th {\n",
              "        text-align: right;\n",
              "    }\n",
              "</style>\n",
              "<table border=\"1\" class=\"dataframe\">\n",
              "  <thead>\n",
              "    <tr style=\"text-align: right;\">\n",
              "      <th></th>\n",
              "      <th>sepal length (cm)</th>\n",
              "      <th>sepal width (cm)</th>\n",
              "    </tr>\n",
              "  </thead>\n",
              "  <tbody>\n",
              "    <tr>\n",
              "      <th>0</th>\n",
              "      <td>5.1</td>\n",
              "      <td>3.5</td>\n",
              "    </tr>\n",
              "    <tr>\n",
              "      <th>1</th>\n",
              "      <td>4.9</td>\n",
              "      <td>3.0</td>\n",
              "    </tr>\n",
              "    <tr>\n",
              "      <th>2</th>\n",
              "      <td>4.7</td>\n",
              "      <td>3.2</td>\n",
              "    </tr>\n",
              "    <tr>\n",
              "      <th>3</th>\n",
              "      <td>4.6</td>\n",
              "      <td>3.1</td>\n",
              "    </tr>\n",
              "    <tr>\n",
              "      <th>4</th>\n",
              "      <td>5.0</td>\n",
              "      <td>3.6</td>\n",
              "    </tr>\n",
              "    <tr>\n",
              "      <th>...</th>\n",
              "      <td>...</td>\n",
              "      <td>...</td>\n",
              "    </tr>\n",
              "    <tr>\n",
              "      <th>145</th>\n",
              "      <td>6.7</td>\n",
              "      <td>3.0</td>\n",
              "    </tr>\n",
              "    <tr>\n",
              "      <th>146</th>\n",
              "      <td>6.3</td>\n",
              "      <td>2.5</td>\n",
              "    </tr>\n",
              "    <tr>\n",
              "      <th>147</th>\n",
              "      <td>6.5</td>\n",
              "      <td>3.0</td>\n",
              "    </tr>\n",
              "    <tr>\n",
              "      <th>148</th>\n",
              "      <td>6.2</td>\n",
              "      <td>3.4</td>\n",
              "    </tr>\n",
              "    <tr>\n",
              "      <th>149</th>\n",
              "      <td>5.9</td>\n",
              "      <td>3.0</td>\n",
              "    </tr>\n",
              "  </tbody>\n",
              "</table>\n",
              "<p>150 rows × 2 columns</p>\n",
              "</div>"
            ],
            "text/plain": [
              "     sepal length (cm)  sepal width (cm)\n",
              "0                  5.1               3.5\n",
              "1                  4.9               3.0\n",
              "2                  4.7               3.2\n",
              "3                  4.6               3.1\n",
              "4                  5.0               3.6\n",
              "..                 ...               ...\n",
              "145                6.7               3.0\n",
              "146                6.3               2.5\n",
              "147                6.5               3.0\n",
              "148                6.2               3.4\n",
              "149                5.9               3.0\n",
              "\n",
              "[150 rows x 2 columns]"
            ]
          },
          "metadata": {},
          "execution_count": 29
        }
      ]
    },
    {
      "cell_type": "code",
      "metadata": {
        "colab": {
          "base_uri": "https://localhost:8080/"
        },
        "id": "UB1CdjyPHFbn",
        "outputId": "1721a373-c461-4c25-d07f-89a36f413d41"
      },
      "source": [
        "df.iloc[:].var()"
      ],
      "execution_count": 26,
      "outputs": [
        {
          "output_type": "execute_result",
          "data": {
            "text/plain": [
              "sepal length (cm)    0.685694\n",
              "sepal width (cm)     0.189979\n",
              "petal length (cm)    3.116278\n",
              "petal width (cm)     0.581006\n",
              "target               0.671141\n",
              "dtype: float64"
            ]
          },
          "metadata": {},
          "execution_count": 26
        }
      ]
    },
    {
      "cell_type": "markdown",
      "metadata": {
        "id": "V2L6Z2UVn7Ju"
      },
      "source": [
        "###Renombrar columnas"
      ]
    },
    {
      "cell_type": "code",
      "metadata": {
        "id": "lKU46Q2sn58K",
        "colab": {
          "base_uri": "https://localhost:8080/",
          "height": 417
        },
        "outputId": "afba398d-5f5e-4800-fa45-60a0f81dc793"
      },
      "source": [
        "newcols={\n",
        "    \"sepal length (cm)\":\"SepaloLongitud\",\n",
        "    \"sepal width (cm)\":\"SepaloAncho\"}\n",
        "\n",
        "df.rename(columns=newcols,inplace=True)\n",
        "df"
      ],
      "execution_count": 16,
      "outputs": [
        {
          "output_type": "execute_result",
          "data": {
            "text/html": [
              "<div>\n",
              "<style scoped>\n",
              "    .dataframe tbody tr th:only-of-type {\n",
              "        vertical-align: middle;\n",
              "    }\n",
              "\n",
              "    .dataframe tbody tr th {\n",
              "        vertical-align: top;\n",
              "    }\n",
              "\n",
              "    .dataframe thead th {\n",
              "        text-align: right;\n",
              "    }\n",
              "</style>\n",
              "<table border=\"1\" class=\"dataframe\">\n",
              "  <thead>\n",
              "    <tr style=\"text-align: right;\">\n",
              "      <th></th>\n",
              "      <th>TI_CVE_N</th>\n",
              "      <th>ID_ART</th>\n",
              "      <th>TA_CVE_N</th>\n",
              "      <th>EXH_FEC_DT</th>\n",
              "      <th>Existencia</th>\n",
              "      <th>VTANTA</th>\n",
              "    </tr>\n",
              "  </thead>\n",
              "  <tbody>\n",
              "    <tr>\n",
              "      <th>0</th>\n",
              "      <td>1</td>\n",
              "      <td>996,309</td>\n",
              "      <td>5</td>\n",
              "      <td>10/03/2021 00:00:00</td>\n",
              "      <td>3</td>\n",
              "      <td>1</td>\n",
              "    </tr>\n",
              "    <tr>\n",
              "      <th>1</th>\n",
              "      <td>1</td>\n",
              "      <td>996,389</td>\n",
              "      <td>11</td>\n",
              "      <td>10/03/2021 00:00:00</td>\n",
              "      <td>30</td>\n",
              "      <td>0</td>\n",
              "    </tr>\n",
              "    <tr>\n",
              "      <th>2</th>\n",
              "      <td>1</td>\n",
              "      <td>1,013,122</td>\n",
              "      <td>25</td>\n",
              "      <td>10/03/2021 00:00:00</td>\n",
              "      <td>1</td>\n",
              "      <td>1</td>\n",
              "    </tr>\n",
              "    <tr>\n",
              "      <th>3</th>\n",
              "      <td>1</td>\n",
              "      <td>1,013,124</td>\n",
              "      <td>29</td>\n",
              "      <td>10/03/2021 00:00:00</td>\n",
              "      <td>2</td>\n",
              "      <td>0</td>\n",
              "    </tr>\n",
              "    <tr>\n",
              "      <th>4</th>\n",
              "      <td>1</td>\n",
              "      <td>1,013,128</td>\n",
              "      <td>21</td>\n",
              "      <td>10/03/2021 00:00:00</td>\n",
              "      <td>2</td>\n",
              "      <td>0</td>\n",
              "    </tr>\n",
              "    <tr>\n",
              "      <th>...</th>\n",
              "      <td>...</td>\n",
              "      <td>...</td>\n",
              "      <td>...</td>\n",
              "      <td>...</td>\n",
              "      <td>...</td>\n",
              "      <td>...</td>\n",
              "    </tr>\n",
              "    <tr>\n",
              "      <th>4495707</th>\n",
              "      <td>109</td>\n",
              "      <td>829,742</td>\n",
              "      <td>15</td>\n",
              "      <td>10/05/2021 00:00:00</td>\n",
              "      <td>2</td>\n",
              "      <td>0</td>\n",
              "    </tr>\n",
              "    <tr>\n",
              "      <th>4495708</th>\n",
              "      <td>109</td>\n",
              "      <td>992,529</td>\n",
              "      <td>27</td>\n",
              "      <td>10/05/2021 00:00:00</td>\n",
              "      <td>2</td>\n",
              "      <td>0</td>\n",
              "    </tr>\n",
              "    <tr>\n",
              "      <th>4495709</th>\n",
              "      <td>109</td>\n",
              "      <td>96,388</td>\n",
              "      <td>2</td>\n",
              "      <td>10/05/2021 00:00:00</td>\n",
              "      <td>3</td>\n",
              "      <td>0</td>\n",
              "    </tr>\n",
              "    <tr>\n",
              "      <th>4495710</th>\n",
              "      <td>109</td>\n",
              "      <td>1,002,864</td>\n",
              "      <td>48</td>\n",
              "      <td>10/05/2021 00:00:00</td>\n",
              "      <td>6</td>\n",
              "      <td>0</td>\n",
              "    </tr>\n",
              "    <tr>\n",
              "      <th>4495711</th>\n",
              "      <td>109</td>\n",
              "      <td>1,007,111</td>\n",
              "      <td>48</td>\n",
              "      <td>10/05/2021 00:00:00</td>\n",
              "      <td>15</td>\n",
              "      <td>0</td>\n",
              "    </tr>\n",
              "  </tbody>\n",
              "</table>\n",
              "<p>4495712 rows × 6 columns</p>\n",
              "</div>"
            ],
            "text/plain": [
              "         TI_CVE_N     ID_ART TA_CVE_N           EXH_FEC_DT Existencia  VTANTA\n",
              "0               1    996,309        5  10/03/2021 00:00:00          3       1\n",
              "1               1    996,389       11  10/03/2021 00:00:00         30       0\n",
              "2               1  1,013,122       25  10/03/2021 00:00:00          1       1\n",
              "3               1  1,013,124       29  10/03/2021 00:00:00          2       0\n",
              "4               1  1,013,128       21  10/03/2021 00:00:00          2       0\n",
              "...           ...        ...      ...                  ...        ...     ...\n",
              "4495707       109    829,742       15  10/05/2021 00:00:00          2       0\n",
              "4495708       109    992,529       27  10/05/2021 00:00:00          2       0\n",
              "4495709       109     96,388        2  10/05/2021 00:00:00          3       0\n",
              "4495710       109  1,002,864       48  10/05/2021 00:00:00          6       0\n",
              "4495711       109  1,007,111       48  10/05/2021 00:00:00         15       0\n",
              "\n",
              "[4495712 rows x 6 columns]"
            ]
          },
          "metadata": {},
          "execution_count": 16
        }
      ]
    },
    {
      "cell_type": "code",
      "metadata": {
        "id": "BZolMa9_phQB",
        "colab": {
          "base_uri": "https://localhost:8080/",
          "height": 80
        },
        "outputId": "9eebf068-2183-479e-e843-06d2639cebf9"
      },
      "source": [
        "newcols={\n",
        "    \"SepaloLongitud\":\"sepal length (cm)\",\n",
        "    \"SepaloAncho\":\"sepal width (cm)\"}\n",
        " \n",
        "df.rename(columns=newcols,inplace=True)\n",
        "df.head(1)"
      ],
      "execution_count": 31,
      "outputs": [
        {
          "output_type": "execute_result",
          "data": {
            "text/html": [
              "<div>\n",
              "<style scoped>\n",
              "    .dataframe tbody tr th:only-of-type {\n",
              "        vertical-align: middle;\n",
              "    }\n",
              "\n",
              "    .dataframe tbody tr th {\n",
              "        vertical-align: top;\n",
              "    }\n",
              "\n",
              "    .dataframe thead th {\n",
              "        text-align: right;\n",
              "    }\n",
              "</style>\n",
              "<table border=\"1\" class=\"dataframe\">\n",
              "  <thead>\n",
              "    <tr style=\"text-align: right;\">\n",
              "      <th></th>\n",
              "      <th>sepal length (cm)</th>\n",
              "      <th>sepal width (cm)</th>\n",
              "      <th>petal length (cm)</th>\n",
              "      <th>petal width (cm)</th>\n",
              "      <th>target</th>\n",
              "      <th>species</th>\n",
              "    </tr>\n",
              "  </thead>\n",
              "  <tbody>\n",
              "    <tr>\n",
              "      <th>0</th>\n",
              "      <td>5.1</td>\n",
              "      <td>3.5</td>\n",
              "      <td>1.4</td>\n",
              "      <td>0.2</td>\n",
              "      <td>0.0</td>\n",
              "      <td>setosa</td>\n",
              "    </tr>\n",
              "  </tbody>\n",
              "</table>\n",
              "</div>"
            ],
            "text/plain": [
              "   sepal length (cm)  sepal width (cm)  ...  target  species\n",
              "0                5.1               3.5  ...     0.0   setosa\n",
              "\n",
              "[1 rows x 6 columns]"
            ]
          },
          "metadata": {},
          "execution_count": 31
        }
      ]
    },
    {
      "cell_type": "markdown",
      "metadata": {
        "id": "Im1qJ_WUqTIk"
      },
      "source": [
        "###Filtrar renglones"
      ]
    },
    {
      "cell_type": "code",
      "metadata": {
        "id": "FecpHJmeoOnE"
      },
      "source": [
        "df[df['species']=='setosa']"
      ],
      "execution_count": null,
      "outputs": []
    },
    {
      "cell_type": "code",
      "metadata": {
        "id": "PSIgLOwnomc9"
      },
      "source": [
        "df[(df['species']=='setosa') & (df['sepal length (cm)']>5)] "
      ],
      "execution_count": null,
      "outputs": []
    },
    {
      "cell_type": "code",
      "metadata": {
        "id": "K0VGoyalHkQa"
      },
      "source": [
        "df[(df['species']=='setosa') & (df['sepal length (cm)']>5)]['sepal length (cm)']"
      ],
      "execution_count": null,
      "outputs": []
    },
    {
      "cell_type": "code",
      "metadata": {
        "colab": {
          "base_uri": "https://localhost:8080/"
        },
        "id": "SPFu5-paIHVw",
        "outputId": "4c7daa0b-591a-4965-8884-c9c550299c76"
      },
      "source": [
        "df[(df['species']=='setosa') & (df['sepal length (cm)']>5)]['sepal length (cm)'].mean()"
      ],
      "execution_count": 37,
      "outputs": [
        {
          "output_type": "execute_result",
          "data": {
            "text/plain": [
              "5.3136363636363635"
            ]
          },
          "metadata": {},
          "execution_count": 37
        }
      ]
    },
    {
      "cell_type": "code",
      "metadata": {
        "colab": {
          "base_uri": "https://localhost:8080/"
        },
        "id": "Yn4Ma2L2iXw4",
        "outputId": "c8695b2e-946c-49b4-b1f3-69868595705e"
      },
      "source": [
        "df.iloc[0]"
      ],
      "execution_count": 38,
      "outputs": [
        {
          "output_type": "execute_result",
          "data": {
            "text/plain": [
              "sepal length (cm)       5.1\n",
              "sepal width (cm)        3.5\n",
              "petal length (cm)       1.4\n",
              "petal width (cm)        0.2\n",
              "target                    0\n",
              "species              setosa\n",
              "Name: 0, dtype: object"
            ]
          },
          "metadata": {},
          "execution_count": 38
        }
      ]
    },
    {
      "cell_type": "code",
      "metadata": {
        "colab": {
          "base_uri": "https://localhost:8080/"
        },
        "id": "K-8EWhQosae_",
        "outputId": "527189be-d86f-4ef5-d518-f5305a7002df"
      },
      "source": [
        "df.loc[0]"
      ],
      "execution_count": 39,
      "outputs": [
        {
          "output_type": "execute_result",
          "data": {
            "text/plain": [
              "sepal length (cm)       5.1\n",
              "sepal width (cm)        3.5\n",
              "petal length (cm)       1.4\n",
              "petal width (cm)        0.2\n",
              "target                    0\n",
              "species              setosa\n",
              "Name: 0, dtype: object"
            ]
          },
          "metadata": {},
          "execution_count": 39
        }
      ]
    },
    {
      "cell_type": "code",
      "metadata": {
        "colab": {
          "base_uri": "https://localhost:8080/",
          "height": 357
        },
        "id": "Gt0EFiDh8DIS",
        "outputId": "8617b04d-2e8b-4eab-cdc3-a59fceeb15f0"
      },
      "source": [
        "df.iloc[0:10,1:3]"
      ],
      "execution_count": 40,
      "outputs": [
        {
          "output_type": "execute_result",
          "data": {
            "text/html": [
              "<div>\n",
              "<style scoped>\n",
              "    .dataframe tbody tr th:only-of-type {\n",
              "        vertical-align: middle;\n",
              "    }\n",
              "\n",
              "    .dataframe tbody tr th {\n",
              "        vertical-align: top;\n",
              "    }\n",
              "\n",
              "    .dataframe thead th {\n",
              "        text-align: right;\n",
              "    }\n",
              "</style>\n",
              "<table border=\"1\" class=\"dataframe\">\n",
              "  <thead>\n",
              "    <tr style=\"text-align: right;\">\n",
              "      <th></th>\n",
              "      <th>sepal width (cm)</th>\n",
              "      <th>petal length (cm)</th>\n",
              "    </tr>\n",
              "  </thead>\n",
              "  <tbody>\n",
              "    <tr>\n",
              "      <th>0</th>\n",
              "      <td>3.5</td>\n",
              "      <td>1.4</td>\n",
              "    </tr>\n",
              "    <tr>\n",
              "      <th>1</th>\n",
              "      <td>3.0</td>\n",
              "      <td>1.4</td>\n",
              "    </tr>\n",
              "    <tr>\n",
              "      <th>2</th>\n",
              "      <td>3.2</td>\n",
              "      <td>1.3</td>\n",
              "    </tr>\n",
              "    <tr>\n",
              "      <th>3</th>\n",
              "      <td>3.1</td>\n",
              "      <td>1.5</td>\n",
              "    </tr>\n",
              "    <tr>\n",
              "      <th>4</th>\n",
              "      <td>3.6</td>\n",
              "      <td>1.4</td>\n",
              "    </tr>\n",
              "    <tr>\n",
              "      <th>5</th>\n",
              "      <td>3.9</td>\n",
              "      <td>1.7</td>\n",
              "    </tr>\n",
              "    <tr>\n",
              "      <th>6</th>\n",
              "      <td>3.4</td>\n",
              "      <td>1.4</td>\n",
              "    </tr>\n",
              "    <tr>\n",
              "      <th>7</th>\n",
              "      <td>3.4</td>\n",
              "      <td>1.5</td>\n",
              "    </tr>\n",
              "    <tr>\n",
              "      <th>8</th>\n",
              "      <td>2.9</td>\n",
              "      <td>1.4</td>\n",
              "    </tr>\n",
              "    <tr>\n",
              "      <th>9</th>\n",
              "      <td>3.1</td>\n",
              "      <td>1.5</td>\n",
              "    </tr>\n",
              "  </tbody>\n",
              "</table>\n",
              "</div>"
            ],
            "text/plain": [
              "   sepal width (cm)  petal length (cm)\n",
              "0               3.5                1.4\n",
              "1               3.0                1.4\n",
              "2               3.2                1.3\n",
              "3               3.1                1.5\n",
              "4               3.6                1.4\n",
              "5               3.9                1.7\n",
              "6               3.4                1.4\n",
              "7               3.4                1.5\n",
              "8               2.9                1.4\n",
              "9               3.1                1.5"
            ]
          },
          "metadata": {},
          "execution_count": 40
        }
      ]
    },
    {
      "cell_type": "code",
      "metadata": {
        "colab": {
          "base_uri": "https://localhost:8080/",
          "height": 142
        },
        "id": "UlWNvUXK8JSN",
        "outputId": "8dfc4f6e-02a5-439e-f700-f776bf74dba6"
      },
      "source": [
        "df.loc[[7,10,30]]"
      ],
      "execution_count": 41,
      "outputs": [
        {
          "output_type": "execute_result",
          "data": {
            "text/html": [
              "<div>\n",
              "<style scoped>\n",
              "    .dataframe tbody tr th:only-of-type {\n",
              "        vertical-align: middle;\n",
              "    }\n",
              "\n",
              "    .dataframe tbody tr th {\n",
              "        vertical-align: top;\n",
              "    }\n",
              "\n",
              "    .dataframe thead th {\n",
              "        text-align: right;\n",
              "    }\n",
              "</style>\n",
              "<table border=\"1\" class=\"dataframe\">\n",
              "  <thead>\n",
              "    <tr style=\"text-align: right;\">\n",
              "      <th></th>\n",
              "      <th>sepal length (cm)</th>\n",
              "      <th>sepal width (cm)</th>\n",
              "      <th>petal length (cm)</th>\n",
              "      <th>petal width (cm)</th>\n",
              "      <th>target</th>\n",
              "      <th>species</th>\n",
              "    </tr>\n",
              "  </thead>\n",
              "  <tbody>\n",
              "    <tr>\n",
              "      <th>7</th>\n",
              "      <td>5.0</td>\n",
              "      <td>3.4</td>\n",
              "      <td>1.5</td>\n",
              "      <td>0.2</td>\n",
              "      <td>0.0</td>\n",
              "      <td>setosa</td>\n",
              "    </tr>\n",
              "    <tr>\n",
              "      <th>10</th>\n",
              "      <td>5.4</td>\n",
              "      <td>3.7</td>\n",
              "      <td>1.5</td>\n",
              "      <td>0.2</td>\n",
              "      <td>0.0</td>\n",
              "      <td>setosa</td>\n",
              "    </tr>\n",
              "    <tr>\n",
              "      <th>30</th>\n",
              "      <td>4.8</td>\n",
              "      <td>3.1</td>\n",
              "      <td>1.6</td>\n",
              "      <td>0.2</td>\n",
              "      <td>0.0</td>\n",
              "      <td>setosa</td>\n",
              "    </tr>\n",
              "  </tbody>\n",
              "</table>\n",
              "</div>"
            ],
            "text/plain": [
              "    sepal length (cm)  sepal width (cm)  ...  target  species\n",
              "7                 5.0               3.4  ...     0.0   setosa\n",
              "10                5.4               3.7  ...     0.0   setosa\n",
              "30                4.8               3.1  ...     0.0   setosa\n",
              "\n",
              "[3 rows x 6 columns]"
            ]
          },
          "metadata": {},
          "execution_count": 41
        }
      ]
    },
    {
      "cell_type": "markdown",
      "metadata": {
        "id": "trOoqQmprzz2"
      },
      "source": [
        "###Ordenar renglones"
      ]
    },
    {
      "cell_type": "code",
      "metadata": {
        "id": "Uso7DP2gr2y8",
        "colab": {
          "base_uri": "https://localhost:8080/",
          "height": 417
        },
        "outputId": "630efaa0-98da-4214-e72a-73e21248e6ed"
      },
      "source": [
        "df.sort_values(by=['species','sepal length (cm)'],inplace=True)\n",
        "df"
      ],
      "execution_count": 42,
      "outputs": [
        {
          "output_type": "execute_result",
          "data": {
            "text/html": [
              "<div>\n",
              "<style scoped>\n",
              "    .dataframe tbody tr th:only-of-type {\n",
              "        vertical-align: middle;\n",
              "    }\n",
              "\n",
              "    .dataframe tbody tr th {\n",
              "        vertical-align: top;\n",
              "    }\n",
              "\n",
              "    .dataframe thead th {\n",
              "        text-align: right;\n",
              "    }\n",
              "</style>\n",
              "<table border=\"1\" class=\"dataframe\">\n",
              "  <thead>\n",
              "    <tr style=\"text-align: right;\">\n",
              "      <th></th>\n",
              "      <th>sepal length (cm)</th>\n",
              "      <th>sepal width (cm)</th>\n",
              "      <th>petal length (cm)</th>\n",
              "      <th>petal width (cm)</th>\n",
              "      <th>target</th>\n",
              "      <th>species</th>\n",
              "    </tr>\n",
              "  </thead>\n",
              "  <tbody>\n",
              "    <tr>\n",
              "      <th>13</th>\n",
              "      <td>4.3</td>\n",
              "      <td>3.0</td>\n",
              "      <td>1.1</td>\n",
              "      <td>0.1</td>\n",
              "      <td>0.0</td>\n",
              "      <td>setosa</td>\n",
              "    </tr>\n",
              "    <tr>\n",
              "      <th>8</th>\n",
              "      <td>4.4</td>\n",
              "      <td>2.9</td>\n",
              "      <td>1.4</td>\n",
              "      <td>0.2</td>\n",
              "      <td>0.0</td>\n",
              "      <td>setosa</td>\n",
              "    </tr>\n",
              "    <tr>\n",
              "      <th>38</th>\n",
              "      <td>4.4</td>\n",
              "      <td>3.0</td>\n",
              "      <td>1.3</td>\n",
              "      <td>0.2</td>\n",
              "      <td>0.0</td>\n",
              "      <td>setosa</td>\n",
              "    </tr>\n",
              "    <tr>\n",
              "      <th>42</th>\n",
              "      <td>4.4</td>\n",
              "      <td>3.2</td>\n",
              "      <td>1.3</td>\n",
              "      <td>0.2</td>\n",
              "      <td>0.0</td>\n",
              "      <td>setosa</td>\n",
              "    </tr>\n",
              "    <tr>\n",
              "      <th>41</th>\n",
              "      <td>4.5</td>\n",
              "      <td>2.3</td>\n",
              "      <td>1.3</td>\n",
              "      <td>0.3</td>\n",
              "      <td>0.0</td>\n",
              "      <td>setosa</td>\n",
              "    </tr>\n",
              "    <tr>\n",
              "      <th>...</th>\n",
              "      <td>...</td>\n",
              "      <td>...</td>\n",
              "      <td>...</td>\n",
              "      <td>...</td>\n",
              "      <td>...</td>\n",
              "      <td>...</td>\n",
              "    </tr>\n",
              "    <tr>\n",
              "      <th>117</th>\n",
              "      <td>7.7</td>\n",
              "      <td>3.8</td>\n",
              "      <td>6.7</td>\n",
              "      <td>2.2</td>\n",
              "      <td>2.0</td>\n",
              "      <td>virginica</td>\n",
              "    </tr>\n",
              "    <tr>\n",
              "      <th>118</th>\n",
              "      <td>7.7</td>\n",
              "      <td>2.6</td>\n",
              "      <td>6.9</td>\n",
              "      <td>2.3</td>\n",
              "      <td>2.0</td>\n",
              "      <td>virginica</td>\n",
              "    </tr>\n",
              "    <tr>\n",
              "      <th>122</th>\n",
              "      <td>7.7</td>\n",
              "      <td>2.8</td>\n",
              "      <td>6.7</td>\n",
              "      <td>2.0</td>\n",
              "      <td>2.0</td>\n",
              "      <td>virginica</td>\n",
              "    </tr>\n",
              "    <tr>\n",
              "      <th>135</th>\n",
              "      <td>7.7</td>\n",
              "      <td>3.0</td>\n",
              "      <td>6.1</td>\n",
              "      <td>2.3</td>\n",
              "      <td>2.0</td>\n",
              "      <td>virginica</td>\n",
              "    </tr>\n",
              "    <tr>\n",
              "      <th>131</th>\n",
              "      <td>7.9</td>\n",
              "      <td>3.8</td>\n",
              "      <td>6.4</td>\n",
              "      <td>2.0</td>\n",
              "      <td>2.0</td>\n",
              "      <td>virginica</td>\n",
              "    </tr>\n",
              "  </tbody>\n",
              "</table>\n",
              "<p>150 rows × 6 columns</p>\n",
              "</div>"
            ],
            "text/plain": [
              "     sepal length (cm)  sepal width (cm)  ...  target    species\n",
              "13                 4.3               3.0  ...     0.0     setosa\n",
              "8                  4.4               2.9  ...     0.0     setosa\n",
              "38                 4.4               3.0  ...     0.0     setosa\n",
              "42                 4.4               3.2  ...     0.0     setosa\n",
              "41                 4.5               2.3  ...     0.0     setosa\n",
              "..                 ...               ...  ...     ...        ...\n",
              "117                7.7               3.8  ...     2.0  virginica\n",
              "118                7.7               2.6  ...     2.0  virginica\n",
              "122                7.7               2.8  ...     2.0  virginica\n",
              "135                7.7               3.0  ...     2.0  virginica\n",
              "131                7.9               3.8  ...     2.0  virginica\n",
              "\n",
              "[150 rows x 6 columns]"
            ]
          },
          "metadata": {},
          "execution_count": 42
        }
      ]
    },
    {
      "cell_type": "markdown",
      "metadata": {
        "id": "c-hrMerRqJQM"
      },
      "source": [
        "###Marca los valores maximos por columna"
      ]
    },
    {
      "cell_type": "code",
      "metadata": {
        "id": "M8HR_wGPpLVM",
        "colab": {
          "base_uri": "https://localhost:8080/",
          "height": 251
        },
        "outputId": "1496352d-384b-4953-8b4b-18f5981b5376"
      },
      "source": [
        "df.head(10).style.highlight_max(color='lightgreen', axis=0)"
      ],
      "execution_count": null,
      "outputs": [
        {
          "output_type": "execute_result",
          "data": {
            "text/html": [
              "<style  type=\"text/css\" >\n",
              "#T_ab3b0198_14f0_11ec_aa71_0242ac1c0002row0_col4,#T_ab3b0198_14f0_11ec_aa71_0242ac1c0002row1_col4,#T_ab3b0198_14f0_11ec_aa71_0242ac1c0002row2_col4,#T_ab3b0198_14f0_11ec_aa71_0242ac1c0002row3_col4,#T_ab3b0198_14f0_11ec_aa71_0242ac1c0002row4_col4,#T_ab3b0198_14f0_11ec_aa71_0242ac1c0002row5_col0,#T_ab3b0198_14f0_11ec_aa71_0242ac1c0002row5_col1,#T_ab3b0198_14f0_11ec_aa71_0242ac1c0002row5_col2,#T_ab3b0198_14f0_11ec_aa71_0242ac1c0002row5_col3,#T_ab3b0198_14f0_11ec_aa71_0242ac1c0002row5_col4,#T_ab3b0198_14f0_11ec_aa71_0242ac1c0002row6_col4,#T_ab3b0198_14f0_11ec_aa71_0242ac1c0002row7_col4,#T_ab3b0198_14f0_11ec_aa71_0242ac1c0002row8_col4,#T_ab3b0198_14f0_11ec_aa71_0242ac1c0002row9_col4{\n",
              "            background-color:  lightgreen;\n",
              "        }</style><table id=\"T_ab3b0198_14f0_11ec_aa71_0242ac1c0002\" ><thead>    <tr>        <th class=\"blank level0\" ></th>        <th class=\"col_heading level0 col0\" >sepal length (cm)</th>        <th class=\"col_heading level0 col1\" >sepal width (cm)</th>        <th class=\"col_heading level0 col2\" >petal length (cm)</th>        <th class=\"col_heading level0 col3\" >petal width (cm)</th>        <th class=\"col_heading level0 col4\" >target</th>        <th class=\"col_heading level0 col5\" >species</th>    </tr></thead><tbody>\n",
              "                <tr>\n",
              "                        <th id=\"T_ab3b0198_14f0_11ec_aa71_0242ac1c0002level0_row0\" class=\"row_heading level0 row0\" >0</th>\n",
              "                        <td id=\"T_ab3b0198_14f0_11ec_aa71_0242ac1c0002row0_col0\" class=\"data row0 col0\" >5.100000</td>\n",
              "                        <td id=\"T_ab3b0198_14f0_11ec_aa71_0242ac1c0002row0_col1\" class=\"data row0 col1\" >3.500000</td>\n",
              "                        <td id=\"T_ab3b0198_14f0_11ec_aa71_0242ac1c0002row0_col2\" class=\"data row0 col2\" >1.400000</td>\n",
              "                        <td id=\"T_ab3b0198_14f0_11ec_aa71_0242ac1c0002row0_col3\" class=\"data row0 col3\" >0.200000</td>\n",
              "                        <td id=\"T_ab3b0198_14f0_11ec_aa71_0242ac1c0002row0_col4\" class=\"data row0 col4\" >0.000000</td>\n",
              "                        <td id=\"T_ab3b0198_14f0_11ec_aa71_0242ac1c0002row0_col5\" class=\"data row0 col5\" >setosa</td>\n",
              "            </tr>\n",
              "            <tr>\n",
              "                        <th id=\"T_ab3b0198_14f0_11ec_aa71_0242ac1c0002level0_row1\" class=\"row_heading level0 row1\" >1</th>\n",
              "                        <td id=\"T_ab3b0198_14f0_11ec_aa71_0242ac1c0002row1_col0\" class=\"data row1 col0\" >4.900000</td>\n",
              "                        <td id=\"T_ab3b0198_14f0_11ec_aa71_0242ac1c0002row1_col1\" class=\"data row1 col1\" >3.000000</td>\n",
              "                        <td id=\"T_ab3b0198_14f0_11ec_aa71_0242ac1c0002row1_col2\" class=\"data row1 col2\" >1.400000</td>\n",
              "                        <td id=\"T_ab3b0198_14f0_11ec_aa71_0242ac1c0002row1_col3\" class=\"data row1 col3\" >0.200000</td>\n",
              "                        <td id=\"T_ab3b0198_14f0_11ec_aa71_0242ac1c0002row1_col4\" class=\"data row1 col4\" >0.000000</td>\n",
              "                        <td id=\"T_ab3b0198_14f0_11ec_aa71_0242ac1c0002row1_col5\" class=\"data row1 col5\" >setosa</td>\n",
              "            </tr>\n",
              "            <tr>\n",
              "                        <th id=\"T_ab3b0198_14f0_11ec_aa71_0242ac1c0002level0_row2\" class=\"row_heading level0 row2\" >2</th>\n",
              "                        <td id=\"T_ab3b0198_14f0_11ec_aa71_0242ac1c0002row2_col0\" class=\"data row2 col0\" >4.700000</td>\n",
              "                        <td id=\"T_ab3b0198_14f0_11ec_aa71_0242ac1c0002row2_col1\" class=\"data row2 col1\" >3.200000</td>\n",
              "                        <td id=\"T_ab3b0198_14f0_11ec_aa71_0242ac1c0002row2_col2\" class=\"data row2 col2\" >1.300000</td>\n",
              "                        <td id=\"T_ab3b0198_14f0_11ec_aa71_0242ac1c0002row2_col3\" class=\"data row2 col3\" >0.200000</td>\n",
              "                        <td id=\"T_ab3b0198_14f0_11ec_aa71_0242ac1c0002row2_col4\" class=\"data row2 col4\" >0.000000</td>\n",
              "                        <td id=\"T_ab3b0198_14f0_11ec_aa71_0242ac1c0002row2_col5\" class=\"data row2 col5\" >setosa</td>\n",
              "            </tr>\n",
              "            <tr>\n",
              "                        <th id=\"T_ab3b0198_14f0_11ec_aa71_0242ac1c0002level0_row3\" class=\"row_heading level0 row3\" >3</th>\n",
              "                        <td id=\"T_ab3b0198_14f0_11ec_aa71_0242ac1c0002row3_col0\" class=\"data row3 col0\" >4.600000</td>\n",
              "                        <td id=\"T_ab3b0198_14f0_11ec_aa71_0242ac1c0002row3_col1\" class=\"data row3 col1\" >3.100000</td>\n",
              "                        <td id=\"T_ab3b0198_14f0_11ec_aa71_0242ac1c0002row3_col2\" class=\"data row3 col2\" >1.500000</td>\n",
              "                        <td id=\"T_ab3b0198_14f0_11ec_aa71_0242ac1c0002row3_col3\" class=\"data row3 col3\" >0.200000</td>\n",
              "                        <td id=\"T_ab3b0198_14f0_11ec_aa71_0242ac1c0002row3_col4\" class=\"data row3 col4\" >0.000000</td>\n",
              "                        <td id=\"T_ab3b0198_14f0_11ec_aa71_0242ac1c0002row3_col5\" class=\"data row3 col5\" >setosa</td>\n",
              "            </tr>\n",
              "            <tr>\n",
              "                        <th id=\"T_ab3b0198_14f0_11ec_aa71_0242ac1c0002level0_row4\" class=\"row_heading level0 row4\" >4</th>\n",
              "                        <td id=\"T_ab3b0198_14f0_11ec_aa71_0242ac1c0002row4_col0\" class=\"data row4 col0\" >5.000000</td>\n",
              "                        <td id=\"T_ab3b0198_14f0_11ec_aa71_0242ac1c0002row4_col1\" class=\"data row4 col1\" >3.600000</td>\n",
              "                        <td id=\"T_ab3b0198_14f0_11ec_aa71_0242ac1c0002row4_col2\" class=\"data row4 col2\" >1.400000</td>\n",
              "                        <td id=\"T_ab3b0198_14f0_11ec_aa71_0242ac1c0002row4_col3\" class=\"data row4 col3\" >0.200000</td>\n",
              "                        <td id=\"T_ab3b0198_14f0_11ec_aa71_0242ac1c0002row4_col4\" class=\"data row4 col4\" >0.000000</td>\n",
              "                        <td id=\"T_ab3b0198_14f0_11ec_aa71_0242ac1c0002row4_col5\" class=\"data row4 col5\" >setosa</td>\n",
              "            </tr>\n",
              "            <tr>\n",
              "                        <th id=\"T_ab3b0198_14f0_11ec_aa71_0242ac1c0002level0_row5\" class=\"row_heading level0 row5\" >5</th>\n",
              "                        <td id=\"T_ab3b0198_14f0_11ec_aa71_0242ac1c0002row5_col0\" class=\"data row5 col0\" >5.400000</td>\n",
              "                        <td id=\"T_ab3b0198_14f0_11ec_aa71_0242ac1c0002row5_col1\" class=\"data row5 col1\" >3.900000</td>\n",
              "                        <td id=\"T_ab3b0198_14f0_11ec_aa71_0242ac1c0002row5_col2\" class=\"data row5 col2\" >1.700000</td>\n",
              "                        <td id=\"T_ab3b0198_14f0_11ec_aa71_0242ac1c0002row5_col3\" class=\"data row5 col3\" >0.400000</td>\n",
              "                        <td id=\"T_ab3b0198_14f0_11ec_aa71_0242ac1c0002row5_col4\" class=\"data row5 col4\" >0.000000</td>\n",
              "                        <td id=\"T_ab3b0198_14f0_11ec_aa71_0242ac1c0002row5_col5\" class=\"data row5 col5\" >setosa</td>\n",
              "            </tr>\n",
              "            <tr>\n",
              "                        <th id=\"T_ab3b0198_14f0_11ec_aa71_0242ac1c0002level0_row6\" class=\"row_heading level0 row6\" >6</th>\n",
              "                        <td id=\"T_ab3b0198_14f0_11ec_aa71_0242ac1c0002row6_col0\" class=\"data row6 col0\" >4.600000</td>\n",
              "                        <td id=\"T_ab3b0198_14f0_11ec_aa71_0242ac1c0002row6_col1\" class=\"data row6 col1\" >3.400000</td>\n",
              "                        <td id=\"T_ab3b0198_14f0_11ec_aa71_0242ac1c0002row6_col2\" class=\"data row6 col2\" >1.400000</td>\n",
              "                        <td id=\"T_ab3b0198_14f0_11ec_aa71_0242ac1c0002row6_col3\" class=\"data row6 col3\" >0.300000</td>\n",
              "                        <td id=\"T_ab3b0198_14f0_11ec_aa71_0242ac1c0002row6_col4\" class=\"data row6 col4\" >0.000000</td>\n",
              "                        <td id=\"T_ab3b0198_14f0_11ec_aa71_0242ac1c0002row6_col5\" class=\"data row6 col5\" >setosa</td>\n",
              "            </tr>\n",
              "            <tr>\n",
              "                        <th id=\"T_ab3b0198_14f0_11ec_aa71_0242ac1c0002level0_row7\" class=\"row_heading level0 row7\" >7</th>\n",
              "                        <td id=\"T_ab3b0198_14f0_11ec_aa71_0242ac1c0002row7_col0\" class=\"data row7 col0\" >5.000000</td>\n",
              "                        <td id=\"T_ab3b0198_14f0_11ec_aa71_0242ac1c0002row7_col1\" class=\"data row7 col1\" >3.400000</td>\n",
              "                        <td id=\"T_ab3b0198_14f0_11ec_aa71_0242ac1c0002row7_col2\" class=\"data row7 col2\" >1.500000</td>\n",
              "                        <td id=\"T_ab3b0198_14f0_11ec_aa71_0242ac1c0002row7_col3\" class=\"data row7 col3\" >0.200000</td>\n",
              "                        <td id=\"T_ab3b0198_14f0_11ec_aa71_0242ac1c0002row7_col4\" class=\"data row7 col4\" >0.000000</td>\n",
              "                        <td id=\"T_ab3b0198_14f0_11ec_aa71_0242ac1c0002row7_col5\" class=\"data row7 col5\" >setosa</td>\n",
              "            </tr>\n",
              "            <tr>\n",
              "                        <th id=\"T_ab3b0198_14f0_11ec_aa71_0242ac1c0002level0_row8\" class=\"row_heading level0 row8\" >8</th>\n",
              "                        <td id=\"T_ab3b0198_14f0_11ec_aa71_0242ac1c0002row8_col0\" class=\"data row8 col0\" >4.400000</td>\n",
              "                        <td id=\"T_ab3b0198_14f0_11ec_aa71_0242ac1c0002row8_col1\" class=\"data row8 col1\" >2.900000</td>\n",
              "                        <td id=\"T_ab3b0198_14f0_11ec_aa71_0242ac1c0002row8_col2\" class=\"data row8 col2\" >1.400000</td>\n",
              "                        <td id=\"T_ab3b0198_14f0_11ec_aa71_0242ac1c0002row8_col3\" class=\"data row8 col3\" >0.200000</td>\n",
              "                        <td id=\"T_ab3b0198_14f0_11ec_aa71_0242ac1c0002row8_col4\" class=\"data row8 col4\" >0.000000</td>\n",
              "                        <td id=\"T_ab3b0198_14f0_11ec_aa71_0242ac1c0002row8_col5\" class=\"data row8 col5\" >setosa</td>\n",
              "            </tr>\n",
              "            <tr>\n",
              "                        <th id=\"T_ab3b0198_14f0_11ec_aa71_0242ac1c0002level0_row9\" class=\"row_heading level0 row9\" >9</th>\n",
              "                        <td id=\"T_ab3b0198_14f0_11ec_aa71_0242ac1c0002row9_col0\" class=\"data row9 col0\" >4.900000</td>\n",
              "                        <td id=\"T_ab3b0198_14f0_11ec_aa71_0242ac1c0002row9_col1\" class=\"data row9 col1\" >3.100000</td>\n",
              "                        <td id=\"T_ab3b0198_14f0_11ec_aa71_0242ac1c0002row9_col2\" class=\"data row9 col2\" >1.500000</td>\n",
              "                        <td id=\"T_ab3b0198_14f0_11ec_aa71_0242ac1c0002row9_col3\" class=\"data row9 col3\" >0.100000</td>\n",
              "                        <td id=\"T_ab3b0198_14f0_11ec_aa71_0242ac1c0002row9_col4\" class=\"data row9 col4\" >0.000000</td>\n",
              "                        <td id=\"T_ab3b0198_14f0_11ec_aa71_0242ac1c0002row9_col5\" class=\"data row9 col5\" >setosa</td>\n",
              "            </tr>\n",
              "    </tbody></table>"
            ],
            "text/plain": [
              "<pandas.io.formats.style.Styler at 0x7f13c0e0cc90>"
            ]
          },
          "metadata": {},
          "execution_count": 38
        }
      ]
    },
    {
      "cell_type": "markdown",
      "metadata": {
        "id": "Iep6kMVqqZJV"
      },
      "source": [
        "###Marca los valores maximos por renglon"
      ]
    },
    {
      "cell_type": "code",
      "metadata": {
        "id": "xjt9XhEip5CD",
        "colab": {
          "base_uri": "https://localhost:8080/",
          "height": 251
        },
        "outputId": "94305cca-17c1-4072-d630-2bab8192d987"
      },
      "source": [
        "df.head(10).style.highlight_max(color='lightgreen', axis=1)"
      ],
      "execution_count": null,
      "outputs": [
        {
          "output_type": "execute_result",
          "data": {
            "text/html": [
              "<style  type=\"text/css\" >\n",
              "#T_c0724422_14f0_11ec_aa71_0242ac1c0002row0_col0,#T_c0724422_14f0_11ec_aa71_0242ac1c0002row1_col0,#T_c0724422_14f0_11ec_aa71_0242ac1c0002row2_col0,#T_c0724422_14f0_11ec_aa71_0242ac1c0002row3_col0,#T_c0724422_14f0_11ec_aa71_0242ac1c0002row4_col0,#T_c0724422_14f0_11ec_aa71_0242ac1c0002row5_col0,#T_c0724422_14f0_11ec_aa71_0242ac1c0002row6_col0,#T_c0724422_14f0_11ec_aa71_0242ac1c0002row7_col0,#T_c0724422_14f0_11ec_aa71_0242ac1c0002row8_col0,#T_c0724422_14f0_11ec_aa71_0242ac1c0002row9_col0{\n",
              "            background-color:  lightgreen;\n",
              "        }</style><table id=\"T_c0724422_14f0_11ec_aa71_0242ac1c0002\" ><thead>    <tr>        <th class=\"blank level0\" ></th>        <th class=\"col_heading level0 col0\" >sepal length (cm)</th>        <th class=\"col_heading level0 col1\" >sepal width (cm)</th>        <th class=\"col_heading level0 col2\" >petal length (cm)</th>        <th class=\"col_heading level0 col3\" >petal width (cm)</th>        <th class=\"col_heading level0 col4\" >target</th>        <th class=\"col_heading level0 col5\" >species</th>    </tr></thead><tbody>\n",
              "                <tr>\n",
              "                        <th id=\"T_c0724422_14f0_11ec_aa71_0242ac1c0002level0_row0\" class=\"row_heading level0 row0\" >0</th>\n",
              "                        <td id=\"T_c0724422_14f0_11ec_aa71_0242ac1c0002row0_col0\" class=\"data row0 col0\" >5.100000</td>\n",
              "                        <td id=\"T_c0724422_14f0_11ec_aa71_0242ac1c0002row0_col1\" class=\"data row0 col1\" >3.500000</td>\n",
              "                        <td id=\"T_c0724422_14f0_11ec_aa71_0242ac1c0002row0_col2\" class=\"data row0 col2\" >1.400000</td>\n",
              "                        <td id=\"T_c0724422_14f0_11ec_aa71_0242ac1c0002row0_col3\" class=\"data row0 col3\" >0.200000</td>\n",
              "                        <td id=\"T_c0724422_14f0_11ec_aa71_0242ac1c0002row0_col4\" class=\"data row0 col4\" >0.000000</td>\n",
              "                        <td id=\"T_c0724422_14f0_11ec_aa71_0242ac1c0002row0_col5\" class=\"data row0 col5\" >setosa</td>\n",
              "            </tr>\n",
              "            <tr>\n",
              "                        <th id=\"T_c0724422_14f0_11ec_aa71_0242ac1c0002level0_row1\" class=\"row_heading level0 row1\" >1</th>\n",
              "                        <td id=\"T_c0724422_14f0_11ec_aa71_0242ac1c0002row1_col0\" class=\"data row1 col0\" >4.900000</td>\n",
              "                        <td id=\"T_c0724422_14f0_11ec_aa71_0242ac1c0002row1_col1\" class=\"data row1 col1\" >3.000000</td>\n",
              "                        <td id=\"T_c0724422_14f0_11ec_aa71_0242ac1c0002row1_col2\" class=\"data row1 col2\" >1.400000</td>\n",
              "                        <td id=\"T_c0724422_14f0_11ec_aa71_0242ac1c0002row1_col3\" class=\"data row1 col3\" >0.200000</td>\n",
              "                        <td id=\"T_c0724422_14f0_11ec_aa71_0242ac1c0002row1_col4\" class=\"data row1 col4\" >0.000000</td>\n",
              "                        <td id=\"T_c0724422_14f0_11ec_aa71_0242ac1c0002row1_col5\" class=\"data row1 col5\" >setosa</td>\n",
              "            </tr>\n",
              "            <tr>\n",
              "                        <th id=\"T_c0724422_14f0_11ec_aa71_0242ac1c0002level0_row2\" class=\"row_heading level0 row2\" >2</th>\n",
              "                        <td id=\"T_c0724422_14f0_11ec_aa71_0242ac1c0002row2_col0\" class=\"data row2 col0\" >4.700000</td>\n",
              "                        <td id=\"T_c0724422_14f0_11ec_aa71_0242ac1c0002row2_col1\" class=\"data row2 col1\" >3.200000</td>\n",
              "                        <td id=\"T_c0724422_14f0_11ec_aa71_0242ac1c0002row2_col2\" class=\"data row2 col2\" >1.300000</td>\n",
              "                        <td id=\"T_c0724422_14f0_11ec_aa71_0242ac1c0002row2_col3\" class=\"data row2 col3\" >0.200000</td>\n",
              "                        <td id=\"T_c0724422_14f0_11ec_aa71_0242ac1c0002row2_col4\" class=\"data row2 col4\" >0.000000</td>\n",
              "                        <td id=\"T_c0724422_14f0_11ec_aa71_0242ac1c0002row2_col5\" class=\"data row2 col5\" >setosa</td>\n",
              "            </tr>\n",
              "            <tr>\n",
              "                        <th id=\"T_c0724422_14f0_11ec_aa71_0242ac1c0002level0_row3\" class=\"row_heading level0 row3\" >3</th>\n",
              "                        <td id=\"T_c0724422_14f0_11ec_aa71_0242ac1c0002row3_col0\" class=\"data row3 col0\" >4.600000</td>\n",
              "                        <td id=\"T_c0724422_14f0_11ec_aa71_0242ac1c0002row3_col1\" class=\"data row3 col1\" >3.100000</td>\n",
              "                        <td id=\"T_c0724422_14f0_11ec_aa71_0242ac1c0002row3_col2\" class=\"data row3 col2\" >1.500000</td>\n",
              "                        <td id=\"T_c0724422_14f0_11ec_aa71_0242ac1c0002row3_col3\" class=\"data row3 col3\" >0.200000</td>\n",
              "                        <td id=\"T_c0724422_14f0_11ec_aa71_0242ac1c0002row3_col4\" class=\"data row3 col4\" >0.000000</td>\n",
              "                        <td id=\"T_c0724422_14f0_11ec_aa71_0242ac1c0002row3_col5\" class=\"data row3 col5\" >setosa</td>\n",
              "            </tr>\n",
              "            <tr>\n",
              "                        <th id=\"T_c0724422_14f0_11ec_aa71_0242ac1c0002level0_row4\" class=\"row_heading level0 row4\" >4</th>\n",
              "                        <td id=\"T_c0724422_14f0_11ec_aa71_0242ac1c0002row4_col0\" class=\"data row4 col0\" >5.000000</td>\n",
              "                        <td id=\"T_c0724422_14f0_11ec_aa71_0242ac1c0002row4_col1\" class=\"data row4 col1\" >3.600000</td>\n",
              "                        <td id=\"T_c0724422_14f0_11ec_aa71_0242ac1c0002row4_col2\" class=\"data row4 col2\" >1.400000</td>\n",
              "                        <td id=\"T_c0724422_14f0_11ec_aa71_0242ac1c0002row4_col3\" class=\"data row4 col3\" >0.200000</td>\n",
              "                        <td id=\"T_c0724422_14f0_11ec_aa71_0242ac1c0002row4_col4\" class=\"data row4 col4\" >0.000000</td>\n",
              "                        <td id=\"T_c0724422_14f0_11ec_aa71_0242ac1c0002row4_col5\" class=\"data row4 col5\" >setosa</td>\n",
              "            </tr>\n",
              "            <tr>\n",
              "                        <th id=\"T_c0724422_14f0_11ec_aa71_0242ac1c0002level0_row5\" class=\"row_heading level0 row5\" >5</th>\n",
              "                        <td id=\"T_c0724422_14f0_11ec_aa71_0242ac1c0002row5_col0\" class=\"data row5 col0\" >5.400000</td>\n",
              "                        <td id=\"T_c0724422_14f0_11ec_aa71_0242ac1c0002row5_col1\" class=\"data row5 col1\" >3.900000</td>\n",
              "                        <td id=\"T_c0724422_14f0_11ec_aa71_0242ac1c0002row5_col2\" class=\"data row5 col2\" >1.700000</td>\n",
              "                        <td id=\"T_c0724422_14f0_11ec_aa71_0242ac1c0002row5_col3\" class=\"data row5 col3\" >0.400000</td>\n",
              "                        <td id=\"T_c0724422_14f0_11ec_aa71_0242ac1c0002row5_col4\" class=\"data row5 col4\" >0.000000</td>\n",
              "                        <td id=\"T_c0724422_14f0_11ec_aa71_0242ac1c0002row5_col5\" class=\"data row5 col5\" >setosa</td>\n",
              "            </tr>\n",
              "            <tr>\n",
              "                        <th id=\"T_c0724422_14f0_11ec_aa71_0242ac1c0002level0_row6\" class=\"row_heading level0 row6\" >6</th>\n",
              "                        <td id=\"T_c0724422_14f0_11ec_aa71_0242ac1c0002row6_col0\" class=\"data row6 col0\" >4.600000</td>\n",
              "                        <td id=\"T_c0724422_14f0_11ec_aa71_0242ac1c0002row6_col1\" class=\"data row6 col1\" >3.400000</td>\n",
              "                        <td id=\"T_c0724422_14f0_11ec_aa71_0242ac1c0002row6_col2\" class=\"data row6 col2\" >1.400000</td>\n",
              "                        <td id=\"T_c0724422_14f0_11ec_aa71_0242ac1c0002row6_col3\" class=\"data row6 col3\" >0.300000</td>\n",
              "                        <td id=\"T_c0724422_14f0_11ec_aa71_0242ac1c0002row6_col4\" class=\"data row6 col4\" >0.000000</td>\n",
              "                        <td id=\"T_c0724422_14f0_11ec_aa71_0242ac1c0002row6_col5\" class=\"data row6 col5\" >setosa</td>\n",
              "            </tr>\n",
              "            <tr>\n",
              "                        <th id=\"T_c0724422_14f0_11ec_aa71_0242ac1c0002level0_row7\" class=\"row_heading level0 row7\" >7</th>\n",
              "                        <td id=\"T_c0724422_14f0_11ec_aa71_0242ac1c0002row7_col0\" class=\"data row7 col0\" >5.000000</td>\n",
              "                        <td id=\"T_c0724422_14f0_11ec_aa71_0242ac1c0002row7_col1\" class=\"data row7 col1\" >3.400000</td>\n",
              "                        <td id=\"T_c0724422_14f0_11ec_aa71_0242ac1c0002row7_col2\" class=\"data row7 col2\" >1.500000</td>\n",
              "                        <td id=\"T_c0724422_14f0_11ec_aa71_0242ac1c0002row7_col3\" class=\"data row7 col3\" >0.200000</td>\n",
              "                        <td id=\"T_c0724422_14f0_11ec_aa71_0242ac1c0002row7_col4\" class=\"data row7 col4\" >0.000000</td>\n",
              "                        <td id=\"T_c0724422_14f0_11ec_aa71_0242ac1c0002row7_col5\" class=\"data row7 col5\" >setosa</td>\n",
              "            </tr>\n",
              "            <tr>\n",
              "                        <th id=\"T_c0724422_14f0_11ec_aa71_0242ac1c0002level0_row8\" class=\"row_heading level0 row8\" >8</th>\n",
              "                        <td id=\"T_c0724422_14f0_11ec_aa71_0242ac1c0002row8_col0\" class=\"data row8 col0\" >4.400000</td>\n",
              "                        <td id=\"T_c0724422_14f0_11ec_aa71_0242ac1c0002row8_col1\" class=\"data row8 col1\" >2.900000</td>\n",
              "                        <td id=\"T_c0724422_14f0_11ec_aa71_0242ac1c0002row8_col2\" class=\"data row8 col2\" >1.400000</td>\n",
              "                        <td id=\"T_c0724422_14f0_11ec_aa71_0242ac1c0002row8_col3\" class=\"data row8 col3\" >0.200000</td>\n",
              "                        <td id=\"T_c0724422_14f0_11ec_aa71_0242ac1c0002row8_col4\" class=\"data row8 col4\" >0.000000</td>\n",
              "                        <td id=\"T_c0724422_14f0_11ec_aa71_0242ac1c0002row8_col5\" class=\"data row8 col5\" >setosa</td>\n",
              "            </tr>\n",
              "            <tr>\n",
              "                        <th id=\"T_c0724422_14f0_11ec_aa71_0242ac1c0002level0_row9\" class=\"row_heading level0 row9\" >9</th>\n",
              "                        <td id=\"T_c0724422_14f0_11ec_aa71_0242ac1c0002row9_col0\" class=\"data row9 col0\" >4.900000</td>\n",
              "                        <td id=\"T_c0724422_14f0_11ec_aa71_0242ac1c0002row9_col1\" class=\"data row9 col1\" >3.100000</td>\n",
              "                        <td id=\"T_c0724422_14f0_11ec_aa71_0242ac1c0002row9_col2\" class=\"data row9 col2\" >1.500000</td>\n",
              "                        <td id=\"T_c0724422_14f0_11ec_aa71_0242ac1c0002row9_col3\" class=\"data row9 col3\" >0.100000</td>\n",
              "                        <td id=\"T_c0724422_14f0_11ec_aa71_0242ac1c0002row9_col4\" class=\"data row9 col4\" >0.000000</td>\n",
              "                        <td id=\"T_c0724422_14f0_11ec_aa71_0242ac1c0002row9_col5\" class=\"data row9 col5\" >setosa</td>\n",
              "            </tr>\n",
              "    </tbody></table>"
            ],
            "text/plain": [
              "<pandas.io.formats.style.Styler at 0x7f13c0e0a350>"
            ]
          },
          "metadata": {},
          "execution_count": 40
        }
      ]
    },
    {
      "cell_type": "markdown",
      "metadata": {
        "id": "AHowhh_Lqc4y"
      },
      "source": [
        "###Marca los valores maximos por todo el dataframe"
      ]
    },
    {
      "cell_type": "code",
      "metadata": {
        "id": "kCFWjYyPqDed",
        "colab": {
          "base_uri": "https://localhost:8080/",
          "height": 251
        },
        "outputId": "47901426-8e02-4135-f2a8-44c24c9d4bbd"
      },
      "source": [
        "df.head(10).style.highlight_max(color='lightgreen', axis=None)"
      ],
      "execution_count": null,
      "outputs": [
        {
          "output_type": "execute_result",
          "data": {
            "text/html": [
              "<style  type=\"text/css\" >\n",
              "#T_d301a740_14f0_11ec_aa71_0242ac1c0002row5_col0{\n",
              "            background-color:  lightgreen;\n",
              "        }</style><table id=\"T_d301a740_14f0_11ec_aa71_0242ac1c0002\" ><thead>    <tr>        <th class=\"blank level0\" ></th>        <th class=\"col_heading level0 col0\" >sepal length (cm)</th>        <th class=\"col_heading level0 col1\" >sepal width (cm)</th>        <th class=\"col_heading level0 col2\" >petal length (cm)</th>        <th class=\"col_heading level0 col3\" >petal width (cm)</th>        <th class=\"col_heading level0 col4\" >target</th>        <th class=\"col_heading level0 col5\" >species</th>    </tr></thead><tbody>\n",
              "                <tr>\n",
              "                        <th id=\"T_d301a740_14f0_11ec_aa71_0242ac1c0002level0_row0\" class=\"row_heading level0 row0\" >0</th>\n",
              "                        <td id=\"T_d301a740_14f0_11ec_aa71_0242ac1c0002row0_col0\" class=\"data row0 col0\" >5.100000</td>\n",
              "                        <td id=\"T_d301a740_14f0_11ec_aa71_0242ac1c0002row0_col1\" class=\"data row0 col1\" >3.500000</td>\n",
              "                        <td id=\"T_d301a740_14f0_11ec_aa71_0242ac1c0002row0_col2\" class=\"data row0 col2\" >1.400000</td>\n",
              "                        <td id=\"T_d301a740_14f0_11ec_aa71_0242ac1c0002row0_col3\" class=\"data row0 col3\" >0.200000</td>\n",
              "                        <td id=\"T_d301a740_14f0_11ec_aa71_0242ac1c0002row0_col4\" class=\"data row0 col4\" >0.000000</td>\n",
              "                        <td id=\"T_d301a740_14f0_11ec_aa71_0242ac1c0002row0_col5\" class=\"data row0 col5\" >setosa</td>\n",
              "            </tr>\n",
              "            <tr>\n",
              "                        <th id=\"T_d301a740_14f0_11ec_aa71_0242ac1c0002level0_row1\" class=\"row_heading level0 row1\" >1</th>\n",
              "                        <td id=\"T_d301a740_14f0_11ec_aa71_0242ac1c0002row1_col0\" class=\"data row1 col0\" >4.900000</td>\n",
              "                        <td id=\"T_d301a740_14f0_11ec_aa71_0242ac1c0002row1_col1\" class=\"data row1 col1\" >3.000000</td>\n",
              "                        <td id=\"T_d301a740_14f0_11ec_aa71_0242ac1c0002row1_col2\" class=\"data row1 col2\" >1.400000</td>\n",
              "                        <td id=\"T_d301a740_14f0_11ec_aa71_0242ac1c0002row1_col3\" class=\"data row1 col3\" >0.200000</td>\n",
              "                        <td id=\"T_d301a740_14f0_11ec_aa71_0242ac1c0002row1_col4\" class=\"data row1 col4\" >0.000000</td>\n",
              "                        <td id=\"T_d301a740_14f0_11ec_aa71_0242ac1c0002row1_col5\" class=\"data row1 col5\" >setosa</td>\n",
              "            </tr>\n",
              "            <tr>\n",
              "                        <th id=\"T_d301a740_14f0_11ec_aa71_0242ac1c0002level0_row2\" class=\"row_heading level0 row2\" >2</th>\n",
              "                        <td id=\"T_d301a740_14f0_11ec_aa71_0242ac1c0002row2_col0\" class=\"data row2 col0\" >4.700000</td>\n",
              "                        <td id=\"T_d301a740_14f0_11ec_aa71_0242ac1c0002row2_col1\" class=\"data row2 col1\" >3.200000</td>\n",
              "                        <td id=\"T_d301a740_14f0_11ec_aa71_0242ac1c0002row2_col2\" class=\"data row2 col2\" >1.300000</td>\n",
              "                        <td id=\"T_d301a740_14f0_11ec_aa71_0242ac1c0002row2_col3\" class=\"data row2 col3\" >0.200000</td>\n",
              "                        <td id=\"T_d301a740_14f0_11ec_aa71_0242ac1c0002row2_col4\" class=\"data row2 col4\" >0.000000</td>\n",
              "                        <td id=\"T_d301a740_14f0_11ec_aa71_0242ac1c0002row2_col5\" class=\"data row2 col5\" >setosa</td>\n",
              "            </tr>\n",
              "            <tr>\n",
              "                        <th id=\"T_d301a740_14f0_11ec_aa71_0242ac1c0002level0_row3\" class=\"row_heading level0 row3\" >3</th>\n",
              "                        <td id=\"T_d301a740_14f0_11ec_aa71_0242ac1c0002row3_col0\" class=\"data row3 col0\" >4.600000</td>\n",
              "                        <td id=\"T_d301a740_14f0_11ec_aa71_0242ac1c0002row3_col1\" class=\"data row3 col1\" >3.100000</td>\n",
              "                        <td id=\"T_d301a740_14f0_11ec_aa71_0242ac1c0002row3_col2\" class=\"data row3 col2\" >1.500000</td>\n",
              "                        <td id=\"T_d301a740_14f0_11ec_aa71_0242ac1c0002row3_col3\" class=\"data row3 col3\" >0.200000</td>\n",
              "                        <td id=\"T_d301a740_14f0_11ec_aa71_0242ac1c0002row3_col4\" class=\"data row3 col4\" >0.000000</td>\n",
              "                        <td id=\"T_d301a740_14f0_11ec_aa71_0242ac1c0002row3_col5\" class=\"data row3 col5\" >setosa</td>\n",
              "            </tr>\n",
              "            <tr>\n",
              "                        <th id=\"T_d301a740_14f0_11ec_aa71_0242ac1c0002level0_row4\" class=\"row_heading level0 row4\" >4</th>\n",
              "                        <td id=\"T_d301a740_14f0_11ec_aa71_0242ac1c0002row4_col0\" class=\"data row4 col0\" >5.000000</td>\n",
              "                        <td id=\"T_d301a740_14f0_11ec_aa71_0242ac1c0002row4_col1\" class=\"data row4 col1\" >3.600000</td>\n",
              "                        <td id=\"T_d301a740_14f0_11ec_aa71_0242ac1c0002row4_col2\" class=\"data row4 col2\" >1.400000</td>\n",
              "                        <td id=\"T_d301a740_14f0_11ec_aa71_0242ac1c0002row4_col3\" class=\"data row4 col3\" >0.200000</td>\n",
              "                        <td id=\"T_d301a740_14f0_11ec_aa71_0242ac1c0002row4_col4\" class=\"data row4 col4\" >0.000000</td>\n",
              "                        <td id=\"T_d301a740_14f0_11ec_aa71_0242ac1c0002row4_col5\" class=\"data row4 col5\" >setosa</td>\n",
              "            </tr>\n",
              "            <tr>\n",
              "                        <th id=\"T_d301a740_14f0_11ec_aa71_0242ac1c0002level0_row5\" class=\"row_heading level0 row5\" >5</th>\n",
              "                        <td id=\"T_d301a740_14f0_11ec_aa71_0242ac1c0002row5_col0\" class=\"data row5 col0\" >5.400000</td>\n",
              "                        <td id=\"T_d301a740_14f0_11ec_aa71_0242ac1c0002row5_col1\" class=\"data row5 col1\" >3.900000</td>\n",
              "                        <td id=\"T_d301a740_14f0_11ec_aa71_0242ac1c0002row5_col2\" class=\"data row5 col2\" >1.700000</td>\n",
              "                        <td id=\"T_d301a740_14f0_11ec_aa71_0242ac1c0002row5_col3\" class=\"data row5 col3\" >0.400000</td>\n",
              "                        <td id=\"T_d301a740_14f0_11ec_aa71_0242ac1c0002row5_col4\" class=\"data row5 col4\" >0.000000</td>\n",
              "                        <td id=\"T_d301a740_14f0_11ec_aa71_0242ac1c0002row5_col5\" class=\"data row5 col5\" >setosa</td>\n",
              "            </tr>\n",
              "            <tr>\n",
              "                        <th id=\"T_d301a740_14f0_11ec_aa71_0242ac1c0002level0_row6\" class=\"row_heading level0 row6\" >6</th>\n",
              "                        <td id=\"T_d301a740_14f0_11ec_aa71_0242ac1c0002row6_col0\" class=\"data row6 col0\" >4.600000</td>\n",
              "                        <td id=\"T_d301a740_14f0_11ec_aa71_0242ac1c0002row6_col1\" class=\"data row6 col1\" >3.400000</td>\n",
              "                        <td id=\"T_d301a740_14f0_11ec_aa71_0242ac1c0002row6_col2\" class=\"data row6 col2\" >1.400000</td>\n",
              "                        <td id=\"T_d301a740_14f0_11ec_aa71_0242ac1c0002row6_col3\" class=\"data row6 col3\" >0.300000</td>\n",
              "                        <td id=\"T_d301a740_14f0_11ec_aa71_0242ac1c0002row6_col4\" class=\"data row6 col4\" >0.000000</td>\n",
              "                        <td id=\"T_d301a740_14f0_11ec_aa71_0242ac1c0002row6_col5\" class=\"data row6 col5\" >setosa</td>\n",
              "            </tr>\n",
              "            <tr>\n",
              "                        <th id=\"T_d301a740_14f0_11ec_aa71_0242ac1c0002level0_row7\" class=\"row_heading level0 row7\" >7</th>\n",
              "                        <td id=\"T_d301a740_14f0_11ec_aa71_0242ac1c0002row7_col0\" class=\"data row7 col0\" >5.000000</td>\n",
              "                        <td id=\"T_d301a740_14f0_11ec_aa71_0242ac1c0002row7_col1\" class=\"data row7 col1\" >3.400000</td>\n",
              "                        <td id=\"T_d301a740_14f0_11ec_aa71_0242ac1c0002row7_col2\" class=\"data row7 col2\" >1.500000</td>\n",
              "                        <td id=\"T_d301a740_14f0_11ec_aa71_0242ac1c0002row7_col3\" class=\"data row7 col3\" >0.200000</td>\n",
              "                        <td id=\"T_d301a740_14f0_11ec_aa71_0242ac1c0002row7_col4\" class=\"data row7 col4\" >0.000000</td>\n",
              "                        <td id=\"T_d301a740_14f0_11ec_aa71_0242ac1c0002row7_col5\" class=\"data row7 col5\" >setosa</td>\n",
              "            </tr>\n",
              "            <tr>\n",
              "                        <th id=\"T_d301a740_14f0_11ec_aa71_0242ac1c0002level0_row8\" class=\"row_heading level0 row8\" >8</th>\n",
              "                        <td id=\"T_d301a740_14f0_11ec_aa71_0242ac1c0002row8_col0\" class=\"data row8 col0\" >4.400000</td>\n",
              "                        <td id=\"T_d301a740_14f0_11ec_aa71_0242ac1c0002row8_col1\" class=\"data row8 col1\" >2.900000</td>\n",
              "                        <td id=\"T_d301a740_14f0_11ec_aa71_0242ac1c0002row8_col2\" class=\"data row8 col2\" >1.400000</td>\n",
              "                        <td id=\"T_d301a740_14f0_11ec_aa71_0242ac1c0002row8_col3\" class=\"data row8 col3\" >0.200000</td>\n",
              "                        <td id=\"T_d301a740_14f0_11ec_aa71_0242ac1c0002row8_col4\" class=\"data row8 col4\" >0.000000</td>\n",
              "                        <td id=\"T_d301a740_14f0_11ec_aa71_0242ac1c0002row8_col5\" class=\"data row8 col5\" >setosa</td>\n",
              "            </tr>\n",
              "            <tr>\n",
              "                        <th id=\"T_d301a740_14f0_11ec_aa71_0242ac1c0002level0_row9\" class=\"row_heading level0 row9\" >9</th>\n",
              "                        <td id=\"T_d301a740_14f0_11ec_aa71_0242ac1c0002row9_col0\" class=\"data row9 col0\" >4.900000</td>\n",
              "                        <td id=\"T_d301a740_14f0_11ec_aa71_0242ac1c0002row9_col1\" class=\"data row9 col1\" >3.100000</td>\n",
              "                        <td id=\"T_d301a740_14f0_11ec_aa71_0242ac1c0002row9_col2\" class=\"data row9 col2\" >1.500000</td>\n",
              "                        <td id=\"T_d301a740_14f0_11ec_aa71_0242ac1c0002row9_col3\" class=\"data row9 col3\" >0.100000</td>\n",
              "                        <td id=\"T_d301a740_14f0_11ec_aa71_0242ac1c0002row9_col4\" class=\"data row9 col4\" >0.000000</td>\n",
              "                        <td id=\"T_d301a740_14f0_11ec_aa71_0242ac1c0002row9_col5\" class=\"data row9 col5\" >setosa</td>\n",
              "            </tr>\n",
              "    </tbody></table>"
            ],
            "text/plain": [
              "<pandas.io.formats.style.Styler at 0x7f13c0e2a910>"
            ]
          },
          "metadata": {},
          "execution_count": 42
        }
      ]
    },
    {
      "cell_type": "markdown",
      "metadata": {
        "id": "1yxBFpTS8v__"
      },
      "source": [
        "###Agregar renglones"
      ]
    },
    {
      "cell_type": "code",
      "metadata": {
        "colab": {
          "base_uri": "https://localhost:8080/"
        },
        "id": "VGAbTlOk3l3-",
        "outputId": "e389eff1-0d33-49ca-8d39-0745499a6549"
      },
      "source": [
        "df.columns"
      ],
      "execution_count": 43,
      "outputs": [
        {
          "output_type": "execute_result",
          "data": {
            "text/plain": [
              "Index(['sepal length (cm)', 'sepal width (cm)', 'petal length (cm)',\n",
              "       'petal width (cm)', 'target', 'species'],\n",
              "      dtype='object')"
            ]
          },
          "metadata": {},
          "execution_count": 43
        }
      ]
    },
    {
      "cell_type": "code",
      "metadata": {
        "colab": {
          "base_uri": "https://localhost:8080/",
          "height": 110
        },
        "id": "QSov7AXdJHSP",
        "outputId": "528c9fcb-9ea8-4566-b42e-9d3f915d4793"
      },
      "source": [
        "import pandas as pd\n",
        "df=pd.read_csv('iris.csv')\n",
        "df.tail(2)"
      ],
      "execution_count": 1,
      "outputs": [
        {
          "output_type": "execute_result",
          "data": {
            "text/html": [
              "<div>\n",
              "<style scoped>\n",
              "    .dataframe tbody tr th:only-of-type {\n",
              "        vertical-align: middle;\n",
              "    }\n",
              "\n",
              "    .dataframe tbody tr th {\n",
              "        vertical-align: top;\n",
              "    }\n",
              "\n",
              "    .dataframe thead th {\n",
              "        text-align: right;\n",
              "    }\n",
              "</style>\n",
              "<table border=\"1\" class=\"dataframe\">\n",
              "  <thead>\n",
              "    <tr style=\"text-align: right;\">\n",
              "      <th></th>\n",
              "      <th>sepal length (cm)</th>\n",
              "      <th>sepal width (cm)</th>\n",
              "      <th>petal length (cm)</th>\n",
              "      <th>petal width (cm)</th>\n",
              "      <th>target</th>\n",
              "      <th>species</th>\n",
              "    </tr>\n",
              "  </thead>\n",
              "  <tbody>\n",
              "    <tr>\n",
              "      <th>148</th>\n",
              "      <td>6.2</td>\n",
              "      <td>3.4</td>\n",
              "      <td>5.4</td>\n",
              "      <td>2.3</td>\n",
              "      <td>2.0</td>\n",
              "      <td>virginica</td>\n",
              "    </tr>\n",
              "    <tr>\n",
              "      <th>149</th>\n",
              "      <td>5.9</td>\n",
              "      <td>3.0</td>\n",
              "      <td>5.1</td>\n",
              "      <td>1.8</td>\n",
              "      <td>2.0</td>\n",
              "      <td>virginica</td>\n",
              "    </tr>\n",
              "  </tbody>\n",
              "</table>\n",
              "</div>"
            ],
            "text/plain": [
              "     sepal length (cm)  sepal width (cm)  ...  target    species\n",
              "148                6.2               3.4  ...     2.0  virginica\n",
              "149                5.9               3.0  ...     2.0  virginica\n",
              "\n",
              "[2 rows x 6 columns]"
            ]
          },
          "metadata": {},
          "execution_count": 1
        }
      ]
    },
    {
      "cell_type": "code",
      "metadata": {
        "colab": {
          "base_uri": "https://localhost:8080/",
          "height": 80
        },
        "id": "tofV1hCe8uwl",
        "outputId": "ed032394-ee08-4725-eb2c-e9813d6e434f"
      },
      "source": [
        "df2=pd.DataFrame([[1,2,3,4,0.0,'otra']],columns=df.columns)\n",
        "df2"
      ],
      "execution_count": 45,
      "outputs": [
        {
          "output_type": "execute_result",
          "data": {
            "text/html": [
              "<div>\n",
              "<style scoped>\n",
              "    .dataframe tbody tr th:only-of-type {\n",
              "        vertical-align: middle;\n",
              "    }\n",
              "\n",
              "    .dataframe tbody tr th {\n",
              "        vertical-align: top;\n",
              "    }\n",
              "\n",
              "    .dataframe thead th {\n",
              "        text-align: right;\n",
              "    }\n",
              "</style>\n",
              "<table border=\"1\" class=\"dataframe\">\n",
              "  <thead>\n",
              "    <tr style=\"text-align: right;\">\n",
              "      <th></th>\n",
              "      <th>sepal length (cm)</th>\n",
              "      <th>sepal width (cm)</th>\n",
              "      <th>petal length (cm)</th>\n",
              "      <th>petal width (cm)</th>\n",
              "      <th>target</th>\n",
              "      <th>species</th>\n",
              "    </tr>\n",
              "  </thead>\n",
              "  <tbody>\n",
              "    <tr>\n",
              "      <th>0</th>\n",
              "      <td>1</td>\n",
              "      <td>2</td>\n",
              "      <td>3</td>\n",
              "      <td>4</td>\n",
              "      <td>0.0</td>\n",
              "      <td>otra</td>\n",
              "    </tr>\n",
              "  </tbody>\n",
              "</table>\n",
              "</div>"
            ],
            "text/plain": [
              "   sepal length (cm)  sepal width (cm)  ...  target  species\n",
              "0                  1                 2  ...     0.0     otra\n",
              "\n",
              "[1 rows x 6 columns]"
            ]
          },
          "metadata": {},
          "execution_count": 45
        }
      ]
    },
    {
      "cell_type": "code",
      "metadata": {
        "id": "f4ogyEUs5cm-"
      },
      "source": [
        "#Genera 3'000,000 de registros\n",
        "for _ in range(20000):\n",
        "  df2=df2.append(df,ignore_index=True)\n"
      ],
      "execution_count": 4,
      "outputs": []
    },
    {
      "cell_type": "code",
      "metadata": {
        "colab": {
          "base_uri": "https://localhost:8080/",
          "height": 295
        },
        "id": "05F2dZn89KC1",
        "outputId": "eb82b233-4ece-4e13-9fb1-97cb12b0192b"
      },
      "source": [
        "df2.describe()"
      ],
      "execution_count": 9,
      "outputs": [
        {
          "output_type": "execute_result",
          "data": {
            "text/html": [
              "<div>\n",
              "<style scoped>\n",
              "    .dataframe tbody tr th:only-of-type {\n",
              "        vertical-align: middle;\n",
              "    }\n",
              "\n",
              "    .dataframe tbody tr th {\n",
              "        vertical-align: top;\n",
              "    }\n",
              "\n",
              "    .dataframe thead th {\n",
              "        text-align: right;\n",
              "    }\n",
              "</style>\n",
              "<table border=\"1\" class=\"dataframe\">\n",
              "  <thead>\n",
              "    <tr style=\"text-align: right;\">\n",
              "      <th></th>\n",
              "      <th>sepal length (cm)</th>\n",
              "      <th>sepal width (cm)</th>\n",
              "      <th>petal length (cm)</th>\n",
              "      <th>petal width (cm)</th>\n",
              "      <th>target</th>\n",
              "    </tr>\n",
              "  </thead>\n",
              "  <tbody>\n",
              "    <tr>\n",
              "      <th>count</th>\n",
              "      <td>1.500300e+06</td>\n",
              "      <td>1.500300e+06</td>\n",
              "      <td>1.500300e+06</td>\n",
              "      <td>1.500300e+06</td>\n",
              "      <td>1.500300e+06</td>\n",
              "    </tr>\n",
              "    <tr>\n",
              "      <th>mean</th>\n",
              "      <td>5.843333e+00</td>\n",
              "      <td>3.057333e+00</td>\n",
              "      <td>3.758000e+00</td>\n",
              "      <td>1.199333e+00</td>\n",
              "      <td>1.000000e+00</td>\n",
              "    </tr>\n",
              "    <tr>\n",
              "      <th>std</th>\n",
              "      <td>8.253016e-01</td>\n",
              "      <td>4.344111e-01</td>\n",
              "      <td>1.759405e+00</td>\n",
              "      <td>7.596929e-01</td>\n",
              "      <td>8.164969e-01</td>\n",
              "    </tr>\n",
              "    <tr>\n",
              "      <th>min</th>\n",
              "      <td>4.300000e+00</td>\n",
              "      <td>2.000000e+00</td>\n",
              "      <td>1.000000e+00</td>\n",
              "      <td>1.000000e-01</td>\n",
              "      <td>0.000000e+00</td>\n",
              "    </tr>\n",
              "    <tr>\n",
              "      <th>25%</th>\n",
              "      <td>5.100000e+00</td>\n",
              "      <td>2.800000e+00</td>\n",
              "      <td>1.600000e+00</td>\n",
              "      <td>3.000000e-01</td>\n",
              "      <td>0.000000e+00</td>\n",
              "    </tr>\n",
              "    <tr>\n",
              "      <th>50%</th>\n",
              "      <td>5.800000e+00</td>\n",
              "      <td>3.000000e+00</td>\n",
              "      <td>4.350000e+00</td>\n",
              "      <td>1.300000e+00</td>\n",
              "      <td>1.000000e+00</td>\n",
              "    </tr>\n",
              "    <tr>\n",
              "      <th>75%</th>\n",
              "      <td>6.400000e+00</td>\n",
              "      <td>3.300000e+00</td>\n",
              "      <td>5.100000e+00</td>\n",
              "      <td>1.800000e+00</td>\n",
              "      <td>2.000000e+00</td>\n",
              "    </tr>\n",
              "    <tr>\n",
              "      <th>max</th>\n",
              "      <td>7.900000e+00</td>\n",
              "      <td>4.400000e+00</td>\n",
              "      <td>6.900000e+00</td>\n",
              "      <td>2.500000e+00</td>\n",
              "      <td>2.000000e+00</td>\n",
              "    </tr>\n",
              "  </tbody>\n",
              "</table>\n",
              "</div>"
            ],
            "text/plain": [
              "       sepal length (cm)  sepal width (cm)  ...  petal width (cm)        target\n",
              "count       1.500300e+06      1.500300e+06  ...      1.500300e+06  1.500300e+06\n",
              "mean        5.843333e+00      3.057333e+00  ...      1.199333e+00  1.000000e+00\n",
              "std         8.253016e-01      4.344111e-01  ...      7.596929e-01  8.164969e-01\n",
              "min         4.300000e+00      2.000000e+00  ...      1.000000e-01  0.000000e+00\n",
              "25%         5.100000e+00      2.800000e+00  ...      3.000000e-01  0.000000e+00\n",
              "50%         5.800000e+00      3.000000e+00  ...      1.300000e+00  1.000000e+00\n",
              "75%         6.400000e+00      3.300000e+00  ...      1.800000e+00  2.000000e+00\n",
              "max         7.900000e+00      4.400000e+00  ...      2.500000e+00  2.000000e+00\n",
              "\n",
              "[8 rows x 5 columns]"
            ]
          },
          "metadata": {},
          "execution_count": 9
        }
      ]
    },
    {
      "cell_type": "markdown",
      "metadata": {
        "id": "JIv3uM56B1t0"
      },
      "source": [
        "###Borrar renglones"
      ]
    },
    {
      "cell_type": "code",
      "metadata": {
        "colab": {
          "base_uri": "https://localhost:8080/"
        },
        "id": "xCbdnf_RBCl6",
        "outputId": "b81e8fc2-f4eb-452e-92d8-695676394c1a"
      },
      "source": [
        "index_names=df[df['species']=='otra'].index\n",
        "index_names"
      ],
      "execution_count": null,
      "outputs": [
        {
          "output_type": "execute_result",
          "data": {
            "text/plain": [
              "Int64Index([150, 151, 152, 153], dtype='int64')"
            ]
          },
          "metadata": {},
          "execution_count": 96
        }
      ]
    },
    {
      "cell_type": "code",
      "metadata": {
        "colab": {
          "base_uri": "https://localhost:8080/",
          "height": 49
        },
        "id": "nNXkl4WDBULu",
        "outputId": "b70c1bc4-83d1-40d7-a090-d49c0f0420c6"
      },
      "source": [
        "df.drop(index_names,inplace=True)\n",
        "df[df['species']=='otra']"
      ],
      "execution_count": null,
      "outputs": [
        {
          "output_type": "execute_result",
          "data": {
            "text/html": [
              "<div>\n",
              "<style scoped>\n",
              "    .dataframe tbody tr th:only-of-type {\n",
              "        vertical-align: middle;\n",
              "    }\n",
              "\n",
              "    .dataframe tbody tr th {\n",
              "        vertical-align: top;\n",
              "    }\n",
              "\n",
              "    .dataframe thead th {\n",
              "        text-align: right;\n",
              "    }\n",
              "</style>\n",
              "<table border=\"1\" class=\"dataframe\">\n",
              "  <thead>\n",
              "    <tr style=\"text-align: right;\">\n",
              "      <th></th>\n",
              "      <th>sepal length (cm)</th>\n",
              "      <th>sepal width (cm)</th>\n",
              "      <th>petal length (cm)</th>\n",
              "      <th>petal width (cm)</th>\n",
              "      <th>target</th>\n",
              "      <th>species</th>\n",
              "    </tr>\n",
              "  </thead>\n",
              "  <tbody>\n",
              "  </tbody>\n",
              "</table>\n",
              "</div>"
            ],
            "text/plain": [
              "Empty DataFrame\n",
              "Columns: [sepal length (cm), sepal width (cm), petal length (cm), petal width (cm), target, species]\n",
              "Index: []"
            ]
          },
          "metadata": {},
          "execution_count": 97
        }
      ]
    },
    {
      "cell_type": "markdown",
      "metadata": {
        "id": "BWU3mhvUB4-U"
      },
      "source": [
        "###Limpieza de datos nulos"
      ]
    },
    {
      "cell_type": "code",
      "metadata": {
        "colab": {
          "base_uri": "https://localhost:8080/"
        },
        "id": "3EO2mo_PCB_7",
        "outputId": "dca326d9-8a91-45dd-93e9-df681171c0f8"
      },
      "source": [
        "df.loc[0:3,'species']=np.nan\n",
        "df.loc[2:10,'petal width (cm)']=np.nan\n",
        "df.info()"
      ],
      "execution_count": null,
      "outputs": [
        {
          "output_type": "stream",
          "name": "stdout",
          "text": [
            "<class 'pandas.core.frame.DataFrame'>\n",
            "RangeIndex: 150 entries, 0 to 149\n",
            "Data columns (total 6 columns):\n",
            " #   Column             Non-Null Count  Dtype   \n",
            "---  ------             --------------  -----   \n",
            " 0   sepal length (cm)  150 non-null    float64 \n",
            " 1   sepal width (cm)   150 non-null    float64 \n",
            " 2   petal length (cm)  150 non-null    float64 \n",
            " 3   petal width (cm)   141 non-null    float64 \n",
            " 4   target             150 non-null    float64 \n",
            " 5   species            146 non-null    category\n",
            "dtypes: category(1), float64(5)\n",
            "memory usage: 6.2 KB\n"
          ]
        }
      ]
    },
    {
      "cell_type": "markdown",
      "metadata": {
        "id": "mwMZGoB0jttY"
      },
      "source": [
        "###Contar nulos"
      ]
    },
    {
      "cell_type": "code",
      "metadata": {
        "id": "C7WaQBrwjgtk",
        "colab": {
          "base_uri": "https://localhost:8080/"
        },
        "outputId": "a6502898-47a0-4e21-e14f-86b4848ab0e2"
      },
      "source": [
        "df['species'].isna().sum()"
      ],
      "execution_count": null,
      "outputs": [
        {
          "output_type": "execute_result",
          "data": {
            "text/plain": [
              "4"
            ]
          },
          "metadata": {},
          "execution_count": 21
        }
      ]
    },
    {
      "cell_type": "code",
      "metadata": {
        "id": "7TGxCfWpjKPb",
        "colab": {
          "base_uri": "https://localhost:8080/"
        },
        "outputId": "8ac91a09-b687-4bb1-af20-6d9e223762da"
      },
      "source": [
        "df.isna().sum().sum()"
      ],
      "execution_count": 18,
      "outputs": [
        {
          "output_type": "execute_result",
          "data": {
            "text/plain": [
              "0"
            ]
          },
          "metadata": {},
          "execution_count": 18
        }
      ]
    },
    {
      "cell_type": "markdown",
      "metadata": {
        "id": "qt_T8THJjzor"
      },
      "source": [
        "###Eliminar registros nulos"
      ]
    },
    {
      "cell_type": "code",
      "metadata": {
        "colab": {
          "base_uri": "https://localhost:8080/",
          "height": 417
        },
        "id": "OuTxbZEuClOo",
        "outputId": "1c6694ed-b68b-4d89-c775-8272b29aaf07"
      },
      "source": [
        "df.dropna(inplace=True)\n",
        "df"
      ],
      "execution_count": 11,
      "outputs": [
        {
          "output_type": "execute_result",
          "data": {
            "text/html": [
              "<div>\n",
              "<style scoped>\n",
              "    .dataframe tbody tr th:only-of-type {\n",
              "        vertical-align: middle;\n",
              "    }\n",
              "\n",
              "    .dataframe tbody tr th {\n",
              "        vertical-align: top;\n",
              "    }\n",
              "\n",
              "    .dataframe thead th {\n",
              "        text-align: right;\n",
              "    }\n",
              "</style>\n",
              "<table border=\"1\" class=\"dataframe\">\n",
              "  <thead>\n",
              "    <tr style=\"text-align: right;\">\n",
              "      <th></th>\n",
              "      <th>sepal length (cm)</th>\n",
              "      <th>sepal width (cm)</th>\n",
              "      <th>petal length (cm)</th>\n",
              "      <th>petal width (cm)</th>\n",
              "      <th>target</th>\n",
              "      <th>species</th>\n",
              "    </tr>\n",
              "  </thead>\n",
              "  <tbody>\n",
              "    <tr>\n",
              "      <th>0</th>\n",
              "      <td>5.1</td>\n",
              "      <td>3.5</td>\n",
              "      <td>1.4</td>\n",
              "      <td>0.2</td>\n",
              "      <td>0.0</td>\n",
              "      <td>setosa</td>\n",
              "    </tr>\n",
              "    <tr>\n",
              "      <th>1</th>\n",
              "      <td>4.9</td>\n",
              "      <td>3.0</td>\n",
              "      <td>1.4</td>\n",
              "      <td>0.2</td>\n",
              "      <td>0.0</td>\n",
              "      <td>setosa</td>\n",
              "    </tr>\n",
              "    <tr>\n",
              "      <th>2</th>\n",
              "      <td>4.7</td>\n",
              "      <td>3.2</td>\n",
              "      <td>1.3</td>\n",
              "      <td>0.2</td>\n",
              "      <td>0.0</td>\n",
              "      <td>setosa</td>\n",
              "    </tr>\n",
              "    <tr>\n",
              "      <th>3</th>\n",
              "      <td>4.6</td>\n",
              "      <td>3.1</td>\n",
              "      <td>1.5</td>\n",
              "      <td>0.2</td>\n",
              "      <td>0.0</td>\n",
              "      <td>setosa</td>\n",
              "    </tr>\n",
              "    <tr>\n",
              "      <th>4</th>\n",
              "      <td>5.0</td>\n",
              "      <td>3.6</td>\n",
              "      <td>1.4</td>\n",
              "      <td>0.2</td>\n",
              "      <td>0.0</td>\n",
              "      <td>setosa</td>\n",
              "    </tr>\n",
              "    <tr>\n",
              "      <th>...</th>\n",
              "      <td>...</td>\n",
              "      <td>...</td>\n",
              "      <td>...</td>\n",
              "      <td>...</td>\n",
              "      <td>...</td>\n",
              "      <td>...</td>\n",
              "    </tr>\n",
              "    <tr>\n",
              "      <th>1500295</th>\n",
              "      <td>6.7</td>\n",
              "      <td>3.0</td>\n",
              "      <td>5.2</td>\n",
              "      <td>2.3</td>\n",
              "      <td>2.0</td>\n",
              "      <td>virginica</td>\n",
              "    </tr>\n",
              "    <tr>\n",
              "      <th>1500296</th>\n",
              "      <td>6.3</td>\n",
              "      <td>2.5</td>\n",
              "      <td>5.0</td>\n",
              "      <td>1.9</td>\n",
              "      <td>2.0</td>\n",
              "      <td>virginica</td>\n",
              "    </tr>\n",
              "    <tr>\n",
              "      <th>1500297</th>\n",
              "      <td>6.5</td>\n",
              "      <td>3.0</td>\n",
              "      <td>5.2</td>\n",
              "      <td>2.0</td>\n",
              "      <td>2.0</td>\n",
              "      <td>virginica</td>\n",
              "    </tr>\n",
              "    <tr>\n",
              "      <th>1500298</th>\n",
              "      <td>6.2</td>\n",
              "      <td>3.4</td>\n",
              "      <td>5.4</td>\n",
              "      <td>2.3</td>\n",
              "      <td>2.0</td>\n",
              "      <td>virginica</td>\n",
              "    </tr>\n",
              "    <tr>\n",
              "      <th>1500299</th>\n",
              "      <td>5.9</td>\n",
              "      <td>3.0</td>\n",
              "      <td>5.1</td>\n",
              "      <td>1.8</td>\n",
              "      <td>2.0</td>\n",
              "      <td>virginica</td>\n",
              "    </tr>\n",
              "  </tbody>\n",
              "</table>\n",
              "<p>1500300 rows × 6 columns</p>\n",
              "</div>"
            ],
            "text/plain": [
              "         sepal length (cm)  sepal width (cm)  ...  target    species\n",
              "0                      5.1               3.5  ...     0.0     setosa\n",
              "1                      4.9               3.0  ...     0.0     setosa\n",
              "2                      4.7               3.2  ...     0.0     setosa\n",
              "3                      4.6               3.1  ...     0.0     setosa\n",
              "4                      5.0               3.6  ...     0.0     setosa\n",
              "...                    ...               ...  ...     ...        ...\n",
              "1500295                6.7               3.0  ...     2.0  virginica\n",
              "1500296                6.3               2.5  ...     2.0  virginica\n",
              "1500297                6.5               3.0  ...     2.0  virginica\n",
              "1500298                6.2               3.4  ...     2.0  virginica\n",
              "1500299                5.9               3.0  ...     2.0  virginica\n",
              "\n",
              "[1500300 rows x 6 columns]"
            ]
          },
          "metadata": {},
          "execution_count": 11
        }
      ]
    },
    {
      "cell_type": "markdown",
      "metadata": {
        "id": "icjM7441C1Ni"
      },
      "source": [
        "###Sustituir valores nulos con un valor por defecto"
      ]
    },
    {
      "cell_type": "code",
      "metadata": {
        "colab": {
          "base_uri": "https://localhost:8080/"
        },
        "id": "9_KxN7qnC5Kk",
        "outputId": "5b9423a6-1c12-4dc7-f595-ad7f5b87cd2e"
      },
      "source": [
        "df.loc[14:16,'petal width (cm)']=np.nan\n",
        "df.loc[16:18,'petal length (cm)']=np.nan\n",
        "df.info()"
      ],
      "execution_count": null,
      "outputs": [
        {
          "output_type": "stream",
          "name": "stdout",
          "text": [
            "<class 'pandas.core.frame.DataFrame'>\n",
            "Int64Index: 139 entries, 11 to 149\n",
            "Data columns (total 6 columns):\n",
            " #   Column             Non-Null Count  Dtype   \n",
            "---  ------             --------------  -----   \n",
            " 0   sepal length (cm)  139 non-null    float64 \n",
            " 1   sepal width (cm)   139 non-null    float64 \n",
            " 2   petal length (cm)  136 non-null    float64 \n",
            " 3   petal width (cm)   136 non-null    float64 \n",
            " 4   target             139 non-null    float64 \n",
            " 5   species            139 non-null    category\n",
            "dtypes: category(1), float64(5)\n",
            "memory usage: 11.8 KB\n"
          ]
        }
      ]
    },
    {
      "cell_type": "code",
      "metadata": {
        "colab": {
          "base_uri": "https://localhost:8080/",
          "height": 422
        },
        "id": "65NbFpUPDBfW",
        "outputId": "f10d1b39-cde4-4d02-f0ac-d2cf15b0a760"
      },
      "source": [
        "df.fillna(0,inplace=True)\n",
        "df"
      ],
      "execution_count": null,
      "outputs": [
        {
          "output_type": "execute_result",
          "data": {
            "text/html": [
              "<div>\n",
              "<style scoped>\n",
              "    .dataframe tbody tr th:only-of-type {\n",
              "        vertical-align: middle;\n",
              "    }\n",
              "\n",
              "    .dataframe tbody tr th {\n",
              "        vertical-align: top;\n",
              "    }\n",
              "\n",
              "    .dataframe thead th {\n",
              "        text-align: right;\n",
              "    }\n",
              "</style>\n",
              "<table border=\"1\" class=\"dataframe\">\n",
              "  <thead>\n",
              "    <tr style=\"text-align: right;\">\n",
              "      <th></th>\n",
              "      <th>sepal length (cm)</th>\n",
              "      <th>sepal width (cm)</th>\n",
              "      <th>petal length (cm)</th>\n",
              "      <th>petal width (cm)</th>\n",
              "      <th>target</th>\n",
              "      <th>species</th>\n",
              "    </tr>\n",
              "  </thead>\n",
              "  <tbody>\n",
              "    <tr>\n",
              "      <th>4</th>\n",
              "      <td>5.0</td>\n",
              "      <td>3.6</td>\n",
              "      <td>1.4</td>\n",
              "      <td>0.0</td>\n",
              "      <td>0.0</td>\n",
              "      <td>setosa</td>\n",
              "    </tr>\n",
              "    <tr>\n",
              "      <th>5</th>\n",
              "      <td>5.4</td>\n",
              "      <td>3.9</td>\n",
              "      <td>1.7</td>\n",
              "      <td>0.0</td>\n",
              "      <td>0.0</td>\n",
              "      <td>setosa</td>\n",
              "    </tr>\n",
              "    <tr>\n",
              "      <th>6</th>\n",
              "      <td>4.6</td>\n",
              "      <td>3.4</td>\n",
              "      <td>0.0</td>\n",
              "      <td>0.0</td>\n",
              "      <td>0.0</td>\n",
              "      <td>setosa</td>\n",
              "    </tr>\n",
              "    <tr>\n",
              "      <th>7</th>\n",
              "      <td>5.0</td>\n",
              "      <td>3.4</td>\n",
              "      <td>0.0</td>\n",
              "      <td>0.2</td>\n",
              "      <td>0.0</td>\n",
              "      <td>setosa</td>\n",
              "    </tr>\n",
              "    <tr>\n",
              "      <th>8</th>\n",
              "      <td>4.4</td>\n",
              "      <td>2.9</td>\n",
              "      <td>0.0</td>\n",
              "      <td>0.2</td>\n",
              "      <td>0.0</td>\n",
              "      <td>setosa</td>\n",
              "    </tr>\n",
              "    <tr>\n",
              "      <th>...</th>\n",
              "      <td>...</td>\n",
              "      <td>...</td>\n",
              "      <td>...</td>\n",
              "      <td>...</td>\n",
              "      <td>...</td>\n",
              "      <td>...</td>\n",
              "    </tr>\n",
              "    <tr>\n",
              "      <th>145</th>\n",
              "      <td>6.7</td>\n",
              "      <td>3.0</td>\n",
              "      <td>5.2</td>\n",
              "      <td>2.3</td>\n",
              "      <td>2.0</td>\n",
              "      <td>virginica</td>\n",
              "    </tr>\n",
              "    <tr>\n",
              "      <th>146</th>\n",
              "      <td>6.3</td>\n",
              "      <td>2.5</td>\n",
              "      <td>5.0</td>\n",
              "      <td>1.9</td>\n",
              "      <td>2.0</td>\n",
              "      <td>virginica</td>\n",
              "    </tr>\n",
              "    <tr>\n",
              "      <th>147</th>\n",
              "      <td>6.5</td>\n",
              "      <td>3.0</td>\n",
              "      <td>5.2</td>\n",
              "      <td>2.0</td>\n",
              "      <td>2.0</td>\n",
              "      <td>virginica</td>\n",
              "    </tr>\n",
              "    <tr>\n",
              "      <th>148</th>\n",
              "      <td>6.2</td>\n",
              "      <td>3.4</td>\n",
              "      <td>5.4</td>\n",
              "      <td>2.3</td>\n",
              "      <td>2.0</td>\n",
              "      <td>virginica</td>\n",
              "    </tr>\n",
              "    <tr>\n",
              "      <th>149</th>\n",
              "      <td>5.9</td>\n",
              "      <td>3.0</td>\n",
              "      <td>5.1</td>\n",
              "      <td>1.8</td>\n",
              "      <td>2.0</td>\n",
              "      <td>virginica</td>\n",
              "    </tr>\n",
              "  </tbody>\n",
              "</table>\n",
              "<p>146 rows × 6 columns</p>\n",
              "</div>"
            ],
            "text/plain": [
              "     sepal length (cm)  sepal width (cm)  ...  target    species\n",
              "4                  5.0               3.6  ...     0.0     setosa\n",
              "5                  5.4               3.9  ...     0.0     setosa\n",
              "6                  4.6               3.4  ...     0.0     setosa\n",
              "7                  5.0               3.4  ...     0.0     setosa\n",
              "8                  4.4               2.9  ...     0.0     setosa\n",
              "..                 ...               ...  ...     ...        ...\n",
              "145                6.7               3.0  ...     2.0  virginica\n",
              "146                6.3               2.5  ...     2.0  virginica\n",
              "147                6.5               3.0  ...     2.0  virginica\n",
              "148                6.2               3.4  ...     2.0  virginica\n",
              "149                5.9               3.0  ...     2.0  virginica\n",
              "\n",
              "[146 rows x 6 columns]"
            ]
          },
          "metadata": {},
          "execution_count": 103
        }
      ]
    },
    {
      "cell_type": "code",
      "metadata": {
        "colab": {
          "base_uri": "https://localhost:8080/",
          "height": 422
        },
        "id": "cBM0tF0FDL5h",
        "outputId": "33428c57-8e08-438e-c09f-f94280ee8437"
      },
      "source": [
        "df.loc[4:6,'petal width (cm)']=np.nan\n",
        "df.loc[6:8,'petal length (cm)']=np.nan\n",
        "\n",
        "df['petal width (cm)'].fillna(0,inplace=True)\n",
        "df['petal length (cm)'].fillna(1,inplace=True)\n",
        "df"
      ],
      "execution_count": null,
      "outputs": [
        {
          "output_type": "execute_result",
          "data": {
            "text/html": [
              "<div>\n",
              "<style scoped>\n",
              "    .dataframe tbody tr th:only-of-type {\n",
              "        vertical-align: middle;\n",
              "    }\n",
              "\n",
              "    .dataframe tbody tr th {\n",
              "        vertical-align: top;\n",
              "    }\n",
              "\n",
              "    .dataframe thead th {\n",
              "        text-align: right;\n",
              "    }\n",
              "</style>\n",
              "<table border=\"1\" class=\"dataframe\">\n",
              "  <thead>\n",
              "    <tr style=\"text-align: right;\">\n",
              "      <th></th>\n",
              "      <th>sepal length (cm)</th>\n",
              "      <th>sepal width (cm)</th>\n",
              "      <th>petal length (cm)</th>\n",
              "      <th>petal width (cm)</th>\n",
              "      <th>target</th>\n",
              "      <th>species</th>\n",
              "    </tr>\n",
              "  </thead>\n",
              "  <tbody>\n",
              "    <tr>\n",
              "      <th>4</th>\n",
              "      <td>5.0</td>\n",
              "      <td>3.6</td>\n",
              "      <td>1.4</td>\n",
              "      <td>0.0</td>\n",
              "      <td>0.0</td>\n",
              "      <td>setosa</td>\n",
              "    </tr>\n",
              "    <tr>\n",
              "      <th>5</th>\n",
              "      <td>5.4</td>\n",
              "      <td>3.9</td>\n",
              "      <td>1.7</td>\n",
              "      <td>0.0</td>\n",
              "      <td>0.0</td>\n",
              "      <td>setosa</td>\n",
              "    </tr>\n",
              "    <tr>\n",
              "      <th>6</th>\n",
              "      <td>4.6</td>\n",
              "      <td>3.4</td>\n",
              "      <td>1.0</td>\n",
              "      <td>0.0</td>\n",
              "      <td>0.0</td>\n",
              "      <td>setosa</td>\n",
              "    </tr>\n",
              "    <tr>\n",
              "      <th>7</th>\n",
              "      <td>5.0</td>\n",
              "      <td>3.4</td>\n",
              "      <td>1.0</td>\n",
              "      <td>0.2</td>\n",
              "      <td>0.0</td>\n",
              "      <td>setosa</td>\n",
              "    </tr>\n",
              "    <tr>\n",
              "      <th>8</th>\n",
              "      <td>4.4</td>\n",
              "      <td>2.9</td>\n",
              "      <td>1.0</td>\n",
              "      <td>0.2</td>\n",
              "      <td>0.0</td>\n",
              "      <td>setosa</td>\n",
              "    </tr>\n",
              "    <tr>\n",
              "      <th>...</th>\n",
              "      <td>...</td>\n",
              "      <td>...</td>\n",
              "      <td>...</td>\n",
              "      <td>...</td>\n",
              "      <td>...</td>\n",
              "      <td>...</td>\n",
              "    </tr>\n",
              "    <tr>\n",
              "      <th>145</th>\n",
              "      <td>6.7</td>\n",
              "      <td>3.0</td>\n",
              "      <td>5.2</td>\n",
              "      <td>2.3</td>\n",
              "      <td>2.0</td>\n",
              "      <td>virginica</td>\n",
              "    </tr>\n",
              "    <tr>\n",
              "      <th>146</th>\n",
              "      <td>6.3</td>\n",
              "      <td>2.5</td>\n",
              "      <td>5.0</td>\n",
              "      <td>1.9</td>\n",
              "      <td>2.0</td>\n",
              "      <td>virginica</td>\n",
              "    </tr>\n",
              "    <tr>\n",
              "      <th>147</th>\n",
              "      <td>6.5</td>\n",
              "      <td>3.0</td>\n",
              "      <td>5.2</td>\n",
              "      <td>2.0</td>\n",
              "      <td>2.0</td>\n",
              "      <td>virginica</td>\n",
              "    </tr>\n",
              "    <tr>\n",
              "      <th>148</th>\n",
              "      <td>6.2</td>\n",
              "      <td>3.4</td>\n",
              "      <td>5.4</td>\n",
              "      <td>2.3</td>\n",
              "      <td>2.0</td>\n",
              "      <td>virginica</td>\n",
              "    </tr>\n",
              "    <tr>\n",
              "      <th>149</th>\n",
              "      <td>5.9</td>\n",
              "      <td>3.0</td>\n",
              "      <td>5.1</td>\n",
              "      <td>1.8</td>\n",
              "      <td>2.0</td>\n",
              "      <td>virginica</td>\n",
              "    </tr>\n",
              "  </tbody>\n",
              "</table>\n",
              "<p>146 rows × 6 columns</p>\n",
              "</div>"
            ],
            "text/plain": [
              "     sepal length (cm)  sepal width (cm)  ...  target    species\n",
              "4                  5.0               3.6  ...     0.0     setosa\n",
              "5                  5.4               3.9  ...     0.0     setosa\n",
              "6                  4.6               3.4  ...     0.0     setosa\n",
              "7                  5.0               3.4  ...     0.0     setosa\n",
              "8                  4.4               2.9  ...     0.0     setosa\n",
              "..                 ...               ...  ...     ...        ...\n",
              "145                6.7               3.0  ...     2.0  virginica\n",
              "146                6.3               2.5  ...     2.0  virginica\n",
              "147                6.5               3.0  ...     2.0  virginica\n",
              "148                6.2               3.4  ...     2.0  virginica\n",
              "149                5.9               3.0  ...     2.0  virginica\n",
              "\n",
              "[146 rows x 6 columns]"
            ]
          },
          "metadata": {},
          "execution_count": 104
        }
      ]
    },
    {
      "cell_type": "code",
      "metadata": {
        "colab": {
          "base_uri": "https://localhost:8080/",
          "height": 422
        },
        "id": "2S_TFXxxDawB",
        "outputId": "a7e0a8f1-ef2a-4da2-9cfe-90b8737f1bf1"
      },
      "source": [
        "df.loc[4:6,'petal width (cm)']=np.nan\n",
        "df.loc[6:8,'petal length (cm)']=np.nan\n",
        "\n",
        "df['petal width (cm)'].fillna(df['petal width (cm)'].mean(),inplace=True)\n",
        "df['petal length (cm)'].fillna(df['petal length (cm)'].median(),inplace=True)\n",
        "df"
      ],
      "execution_count": null,
      "outputs": [
        {
          "output_type": "execute_result",
          "data": {
            "text/html": [
              "<div>\n",
              "<style scoped>\n",
              "    .dataframe tbody tr th:only-of-type {\n",
              "        vertical-align: middle;\n",
              "    }\n",
              "\n",
              "    .dataframe tbody tr th {\n",
              "        vertical-align: top;\n",
              "    }\n",
              "\n",
              "    .dataframe thead th {\n",
              "        text-align: right;\n",
              "    }\n",
              "</style>\n",
              "<table border=\"1\" class=\"dataframe\">\n",
              "  <thead>\n",
              "    <tr style=\"text-align: right;\">\n",
              "      <th></th>\n",
              "      <th>sepal length (cm)</th>\n",
              "      <th>sepal width (cm)</th>\n",
              "      <th>petal length (cm)</th>\n",
              "      <th>petal width (cm)</th>\n",
              "      <th>target</th>\n",
              "      <th>species</th>\n",
              "    </tr>\n",
              "  </thead>\n",
              "  <tbody>\n",
              "    <tr>\n",
              "      <th>4</th>\n",
              "      <td>5.0</td>\n",
              "      <td>3.6</td>\n",
              "      <td>1.4</td>\n",
              "      <td>1.246154</td>\n",
              "      <td>0.0</td>\n",
              "      <td>setosa</td>\n",
              "    </tr>\n",
              "    <tr>\n",
              "      <th>5</th>\n",
              "      <td>5.4</td>\n",
              "      <td>3.9</td>\n",
              "      <td>1.7</td>\n",
              "      <td>1.246154</td>\n",
              "      <td>0.0</td>\n",
              "      <td>setosa</td>\n",
              "    </tr>\n",
              "    <tr>\n",
              "      <th>6</th>\n",
              "      <td>4.6</td>\n",
              "      <td>3.4</td>\n",
              "      <td>4.4</td>\n",
              "      <td>1.246154</td>\n",
              "      <td>0.0</td>\n",
              "      <td>setosa</td>\n",
              "    </tr>\n",
              "    <tr>\n",
              "      <th>7</th>\n",
              "      <td>5.0</td>\n",
              "      <td>3.4</td>\n",
              "      <td>4.4</td>\n",
              "      <td>0.200000</td>\n",
              "      <td>0.0</td>\n",
              "      <td>setosa</td>\n",
              "    </tr>\n",
              "    <tr>\n",
              "      <th>8</th>\n",
              "      <td>4.4</td>\n",
              "      <td>2.9</td>\n",
              "      <td>4.4</td>\n",
              "      <td>0.200000</td>\n",
              "      <td>0.0</td>\n",
              "      <td>setosa</td>\n",
              "    </tr>\n",
              "    <tr>\n",
              "      <th>...</th>\n",
              "      <td>...</td>\n",
              "      <td>...</td>\n",
              "      <td>...</td>\n",
              "      <td>...</td>\n",
              "      <td>...</td>\n",
              "      <td>...</td>\n",
              "    </tr>\n",
              "    <tr>\n",
              "      <th>145</th>\n",
              "      <td>6.7</td>\n",
              "      <td>3.0</td>\n",
              "      <td>5.2</td>\n",
              "      <td>2.300000</td>\n",
              "      <td>2.0</td>\n",
              "      <td>virginica</td>\n",
              "    </tr>\n",
              "    <tr>\n",
              "      <th>146</th>\n",
              "      <td>6.3</td>\n",
              "      <td>2.5</td>\n",
              "      <td>5.0</td>\n",
              "      <td>1.900000</td>\n",
              "      <td>2.0</td>\n",
              "      <td>virginica</td>\n",
              "    </tr>\n",
              "    <tr>\n",
              "      <th>147</th>\n",
              "      <td>6.5</td>\n",
              "      <td>3.0</td>\n",
              "      <td>5.2</td>\n",
              "      <td>2.000000</td>\n",
              "      <td>2.0</td>\n",
              "      <td>virginica</td>\n",
              "    </tr>\n",
              "    <tr>\n",
              "      <th>148</th>\n",
              "      <td>6.2</td>\n",
              "      <td>3.4</td>\n",
              "      <td>5.4</td>\n",
              "      <td>2.300000</td>\n",
              "      <td>2.0</td>\n",
              "      <td>virginica</td>\n",
              "    </tr>\n",
              "    <tr>\n",
              "      <th>149</th>\n",
              "      <td>5.9</td>\n",
              "      <td>3.0</td>\n",
              "      <td>5.1</td>\n",
              "      <td>1.800000</td>\n",
              "      <td>2.0</td>\n",
              "      <td>virginica</td>\n",
              "    </tr>\n",
              "  </tbody>\n",
              "</table>\n",
              "<p>146 rows × 6 columns</p>\n",
              "</div>"
            ],
            "text/plain": [
              "     sepal length (cm)  sepal width (cm)  ...  target    species\n",
              "4                  5.0               3.6  ...     0.0     setosa\n",
              "5                  5.4               3.9  ...     0.0     setosa\n",
              "6                  4.6               3.4  ...     0.0     setosa\n",
              "7                  5.0               3.4  ...     0.0     setosa\n",
              "8                  4.4               2.9  ...     0.0     setosa\n",
              "..                 ...               ...  ...     ...        ...\n",
              "145                6.7               3.0  ...     2.0  virginica\n",
              "146                6.3               2.5  ...     2.0  virginica\n",
              "147                6.5               3.0  ...     2.0  virginica\n",
              "148                6.2               3.4  ...     2.0  virginica\n",
              "149                5.9               3.0  ...     2.0  virginica\n",
              "\n",
              "[146 rows x 6 columns]"
            ]
          },
          "metadata": {},
          "execution_count": 105
        }
      ]
    },
    {
      "cell_type": "markdown",
      "metadata": {
        "id": "6dWcAI2WkhHI"
      },
      "source": [
        "###Calcular valores nulos con una interpolación"
      ]
    },
    {
      "cell_type": "code",
      "metadata": {
        "colab": {
          "base_uri": "https://localhost:8080/",
          "height": 265
        },
        "id": "ojt8qRsuRr2K",
        "outputId": "3d009d1d-bfa8-4d4e-e825-d6563f1327d7"
      },
      "source": [
        "df.loc[4:6,'petal width (cm)']=np.nan\n",
        "df.loc[6:8,'petal length (cm)']=np.nan\n",
        "\n",
        "df['petal width (cm)'].interpolate(method='quadratic', limit_direction='forward',inplace=True)\n",
        "df['petal length (cm)'].interpolate(method='nearest', limit_direction='forward',inplace=True)\n",
        "\n",
        "df.loc[3:9]"
      ],
      "execution_count": 19,
      "outputs": [
        {
          "output_type": "execute_result",
          "data": {
            "text/html": [
              "<div>\n",
              "<style scoped>\n",
              "    .dataframe tbody tr th:only-of-type {\n",
              "        vertical-align: middle;\n",
              "    }\n",
              "\n",
              "    .dataframe tbody tr th {\n",
              "        vertical-align: top;\n",
              "    }\n",
              "\n",
              "    .dataframe thead th {\n",
              "        text-align: right;\n",
              "    }\n",
              "</style>\n",
              "<table border=\"1\" class=\"dataframe\">\n",
              "  <thead>\n",
              "    <tr style=\"text-align: right;\">\n",
              "      <th></th>\n",
              "      <th>TI_CVE_N</th>\n",
              "      <th>ID_ART</th>\n",
              "      <th>TA_CVE_N</th>\n",
              "      <th>EXH_FEC_DT</th>\n",
              "      <th>Existencia</th>\n",
              "      <th>VTANTA</th>\n",
              "      <th>petal width (cm)</th>\n",
              "      <th>petal length (cm)</th>\n",
              "    </tr>\n",
              "  </thead>\n",
              "  <tbody>\n",
              "    <tr>\n",
              "      <th>3</th>\n",
              "      <td>1</td>\n",
              "      <td>1,013,124</td>\n",
              "      <td>29</td>\n",
              "      <td>10/03/2021 00:00:00</td>\n",
              "      <td>2</td>\n",
              "      <td>0</td>\n",
              "      <td>NaN</td>\n",
              "      <td>NaN</td>\n",
              "    </tr>\n",
              "    <tr>\n",
              "      <th>4</th>\n",
              "      <td>1</td>\n",
              "      <td>1,013,128</td>\n",
              "      <td>21</td>\n",
              "      <td>10/03/2021 00:00:00</td>\n",
              "      <td>2</td>\n",
              "      <td>0</td>\n",
              "      <td>NaN</td>\n",
              "      <td>NaN</td>\n",
              "    </tr>\n",
              "    <tr>\n",
              "      <th>5</th>\n",
              "      <td>1</td>\n",
              "      <td>1,001,841</td>\n",
              "      <td>26</td>\n",
              "      <td>10/03/2021 00:00:00</td>\n",
              "      <td>2</td>\n",
              "      <td>0</td>\n",
              "      <td>NaN</td>\n",
              "      <td>NaN</td>\n",
              "    </tr>\n",
              "    <tr>\n",
              "      <th>6</th>\n",
              "      <td>1</td>\n",
              "      <td>1,001,846</td>\n",
              "      <td>26</td>\n",
              "      <td>10/03/2021 00:00:00</td>\n",
              "      <td>1</td>\n",
              "      <td>0</td>\n",
              "      <td>NaN</td>\n",
              "      <td>NaN</td>\n",
              "    </tr>\n",
              "    <tr>\n",
              "      <th>7</th>\n",
              "      <td>1</td>\n",
              "      <td>992,771</td>\n",
              "      <td>18</td>\n",
              "      <td>10/03/2021 00:00:00</td>\n",
              "      <td>24</td>\n",
              "      <td>1</td>\n",
              "      <td>NaN</td>\n",
              "      <td>NaN</td>\n",
              "    </tr>\n",
              "    <tr>\n",
              "      <th>8</th>\n",
              "      <td>1</td>\n",
              "      <td>992,777</td>\n",
              "      <td>24</td>\n",
              "      <td>10/03/2021 00:00:00</td>\n",
              "      <td>6</td>\n",
              "      <td>0</td>\n",
              "      <td>NaN</td>\n",
              "      <td>NaN</td>\n",
              "    </tr>\n",
              "    <tr>\n",
              "      <th>9</th>\n",
              "      <td>1</td>\n",
              "      <td>997,853</td>\n",
              "      <td>24</td>\n",
              "      <td>10/03/2021 00:00:00</td>\n",
              "      <td>9</td>\n",
              "      <td>0</td>\n",
              "      <td>NaN</td>\n",
              "      <td>NaN</td>\n",
              "    </tr>\n",
              "  </tbody>\n",
              "</table>\n",
              "</div>"
            ],
            "text/plain": [
              "   TI_CVE_N     ID_ART TA_CVE_N  ... VTANTA petal width (cm)  petal length (cm)\n",
              "3         1  1,013,124       29  ...      0              NaN                NaN\n",
              "4         1  1,013,128       21  ...      0              NaN                NaN\n",
              "5         1  1,001,841       26  ...      0              NaN                NaN\n",
              "6         1  1,001,846       26  ...      0              NaN                NaN\n",
              "7         1    992,771       18  ...      1              NaN                NaN\n",
              "8         1    992,777       24  ...      0              NaN                NaN\n",
              "9         1    997,853       24  ...      0              NaN                NaN\n",
              "\n",
              "[7 rows x 8 columns]"
            ]
          },
          "metadata": {},
          "execution_count": 19
        }
      ]
    },
    {
      "cell_type": "markdown",
      "metadata": {
        "id": "PI1n5vX59mUy"
      },
      "source": [
        "##Graficos"
      ]
    },
    {
      "cell_type": "code",
      "metadata": {
        "id": "__8R7mDz0WUd",
        "colab": {
          "base_uri": "https://localhost:8080/",
          "height": 282
        },
        "outputId": "3c4fc234-d711-40ed-a5b9-856380c5ab20"
      },
      "source": [
        "df.plot(kind='scatter',x='sepal length (cm)',y='sepal width (cm)');"
      ],
      "execution_count": 3,
      "outputs": [
        {
          "output_type": "display_data",
          "data": {
            "image/png": "[encoded data removed]",
            "text/plain": [
              "<Figure size 432x288 with 1 Axes>"
            ]
          },
          "metadata": {
            "needs_background": "light"
          }
        }
      ]
    },
    {
      "cell_type": "code",
      "metadata": {
        "id": "ZM2fOw2Y1YEY",
        "outputId": "400944c1-b8b9-42ba-8745-af0a7bc85ff0",
        "colab": {
          "base_uri": "https://localhost:8080/",
          "height": 265
        }
      },
      "source": [
        "df.plot(kind='hist',x='sepal width (cm)',bins=15,alpha=0.4);"
      ],
      "execution_count": 16,
      "outputs": [
        {
          "output_type": "display_data",
          "data": {
            "image/png": "[encoded data removed]",
            "text/plain": [
              "<Figure size 432x288 with 1 Axes>"
            ]
          },
          "metadata": {
            "needs_background": "light"
          }
        }
      ]
    },
    {
      "cell_type": "markdown",
      "metadata": {
        "id": "zPGHXsxfi2Yh"
      },
      "source": [
        "Generate Kernel Density Estimate plot using Gaussian kernels.\n",
        "\n",
        "In statistics, kernel density estimation (KDE) is a non-parametric way to estimate the probability density function (PDF) of a random variable. This function uses Gaussian kernels and includes automatic bandwidth determination."
      ]
    },
    {
      "cell_type": "code",
      "metadata": {
        "id": "5_f1gJQw5pLo",
        "outputId": "24ece452-2098-4dee-dd8a-b367ec25fe9e",
        "colab": {
          "base_uri": "https://localhost:8080/",
          "height": 266
        }
      },
      "source": [
        "df.plot(kind='kde',x='sepal width (cm)');"
      ],
      "execution_count": 3,
      "outputs": [
        {
          "output_type": "display_data",
          "data": {
            "image/png": "[encoded data removed]",
            "text/plain": [
              "<Figure size 432x288 with 1 Axes>"
            ]
          },
          "metadata": {
            "needs_background": "light"
          }
        }
      ]
    },
    {
      "cell_type": "code",
      "metadata": {
        "id": "dyM4s4K-piG1"
      },
      "source": [
        "x=[1,2,3,4,5]\n",
        "y=[2,5,1,3,8]\n",
        "z=[\"rojo\",\"blanco\",\"azul\",\"verde\",\"magenta\"]\n",
        "df2=pd.DataFrame(data={\"x\":x,\"y\":y},index=z)"
      ],
      "execution_count": 47,
      "outputs": []
    },
    {
      "cell_type": "code",
      "metadata": {
        "id": "pm3ILxumjAvH",
        "outputId": "0947cb53-f2e2-4ee4-9e9f-038fe867b335",
        "colab": {
          "base_uri": "https://localhost:8080/",
          "height": 279
        }
      },
      "source": [
        "df2.plot(kind='area',x='x',y='y',alpha=0.4);"
      ],
      "execution_count": 48,
      "outputs": [
        {
          "output_type": "display_data",
          "data": {
            "image/png": "[encoded data removed]",
            "text/plain": [
              "<Figure size 432x288 with 1 Axes>"
            ]
          },
          "metadata": {
            "needs_background": "light"
          }
        }
      ]
    },
    {
      "cell_type": "code",
      "metadata": {
        "id": "_JKEjOdtjcjT",
        "outputId": "116931c3-3622-4cd2-d46e-78f0c958826e",
        "colab": {
          "base_uri": "https://localhost:8080/",
          "height": 300
        }
      },
      "source": [
        "df2.plot.bar();"
      ],
      "execution_count": 49,
      "outputs": [
        {
          "output_type": "display_data",
          "data": {
            "image/png": "[encoded data removed]",
            "text/plain": [
              "<Figure size 432x288 with 1 Axes>"
            ]
          },
          "metadata": {
            "needs_background": "light"
          }
        }
      ]
    },
    {
      "cell_type": "code",
      "metadata": {
        "id": "27bR66qyjr61",
        "outputId": "6c35967c-bf57-4a08-96e3-2e23e73e2992",
        "colab": {
          "base_uri": "https://localhost:8080/",
          "height": 265
        }
      },
      "source": [
        "df2.plot.barh();"
      ],
      "execution_count": 50,
      "outputs": [
        {
          "output_type": "display_data",
          "data": {
            "image/png": "[encoded data removed]",
            "text/plain": [
              "<Figure size 432x288 with 1 Axes>"
            ]
          },
          "metadata": {
            "needs_background": "light"
          }
        }
      ]
    },
    {
      "cell_type": "code",
      "metadata": {
        "id": "soJvONfKjwVV",
        "outputId": "8b758ab1-ed18-4c8d-b649-12052009f8ef",
        "colab": {
          "base_uri": "https://localhost:8080/",
          "height": 265
        }
      },
      "source": [
        "df2.plot(kind='box');"
      ],
      "execution_count": 51,
      "outputs": [
        {
          "output_type": "display_data",
          "data": {
            "image/png": "[encoded data removed]",
            "text/plain": [
              "<Figure size 432x288 with 1 Axes>"
            ]
          },
          "metadata": {
            "needs_background": "light"
          }
        }
      ]
    },
    {
      "cell_type": "code",
      "metadata": {
        "id": "Ae9YQyRsj1_f",
        "outputId": "5a9cb329-ce28-464b-b6e3-05a7c4dbb36a",
        "colab": {
          "base_uri": "https://localhost:8080/",
          "height": 265
        }
      },
      "source": [
        "df2.plot(kind='density');"
      ],
      "execution_count": 52,
      "outputs": [
        {
          "output_type": "display_data",
          "data": {
            "image/png": "[encoded data removed]",
            "text/plain": [
              "<Figure size 432x288 with 1 Axes>"
            ]
          },
          "metadata": {
            "needs_background": "light"
          }
        }
      ]
    },
    {
      "cell_type": "code",
      "metadata": {
        "id": "ODURB911kKa-",
        "outputId": "55ba4cc4-a62d-408c-b420-35b68898b7b9",
        "colab": {
          "base_uri": "https://localhost:8080/",
          "height": 258
        }
      },
      "source": [
        "df2.plot(kind='hexbin',x='x',y='y');"
      ],
      "execution_count": 53,
      "outputs": [
        {
          "output_type": "display_data",
          "data": {
            "image/png": "[encoded data removed]",
            "text/plain": [
              "<Figure size 432x288 with 2 Axes>"
            ]
          },
          "metadata": {
            "needs_background": "light"
          }
        }
      ]
    },
    {
      "cell_type": "code",
      "metadata": {
        "id": "Jsx45o7MlF54",
        "outputId": "50837919-7f95-44d4-c6f7-8597c5fbe16c",
        "colab": {
          "base_uri": "https://localhost:8080/",
          "height": 248
        }
      },
      "source": [
        "df2.plot(kind='pie',y='y');"
      ],
      "execution_count": 55,
      "outputs": [
        {
          "output_type": "display_data",
          "data": {
            "image/png": "[encoded data removed]",
            "text/plain": [
              "<Figure size 432x288 with 1 Axes>"
            ]
          },
          "metadata": {}
        }
      ]
    },
    {
      "cell_type": "code",
      "metadata": {
        "id": "68ZFYEYhqGvR",
        "outputId": "0a0b3af4-f77b-4bb5-e2d0-42c30d177cb6",
        "colab": {
          "base_uri": "https://localhost:8080/",
          "height": 279
        }
      },
      "source": [
        "df2.plot(kind='line',x='x',y='y');"
      ],
      "execution_count": 56,
      "outputs": [
        {
          "output_type": "display_data",
          "data": {
            "image/png": "[encoded data removed]",
            "text/plain": [
              "<Figure size 432x288 with 1 Axes>"
            ]
          },
          "metadata": {
            "needs_background": "light"
          }
        }
      ]
    },
    {
      "cell_type": "markdown",
      "metadata": {
        "id": "jyWFSOpY-GEn"
      },
      "source": [
        "###SeaBorn"
      ]
    },
    {
      "cell_type": "code",
      "metadata": {
        "id": "VXcpqzyE-Imt"
      },
      "source": [
        "import seaborn as sns\n",
        "import matplotlib.pyplot as plt"
      ],
      "execution_count": null,
      "outputs": []
    },
    {
      "cell_type": "markdown",
      "metadata": {
        "id": "1hAYp7ZwWa20"
      },
      "source": [
        "###scatter histogramas"
      ]
    },
    {
      "cell_type": "code",
      "metadata": {
        "id": "pstyXpIn-Ogl",
        "colab": {
          "base_uri": "https://localhost:8080/",
          "height": 441
        },
        "outputId": "409486fb-7d76-48bb-c910-2baeeca9c7a7"
      },
      "source": [
        "sns.jointplot(data=df,x='sepal length (cm)',y='sepal width (cm)');"
      ],
      "execution_count": null,
      "outputs": [
        {
          "output_type": "display_data",
          "data": {
            "image/png": "[encoded data removed]",
            "text/plain": [
              "<Figure size 432x432 with 3 Axes>"
            ]
          },
          "metadata": {
            "needs_background": "light"
          }
        }
      ]
    },
    {
      "cell_type": "markdown",
      "metadata": {
        "id": "U4JUqoA1Wiwy"
      },
      "source": [
        "###Facetgrid"
      ]
    },
    {
      "cell_type": "code",
      "metadata": {
        "id": "iQPadY7g-jhF",
        "colab": {
          "base_uri": "https://localhost:8080/",
          "height": 225
        },
        "outputId": "70236082-b236-4edc-fb18-8b2c7e46f5ed"
      },
      "source": [
        "sns.FacetGrid(df,hue='species',palette='Set2').map(plt.scatter,'sepal length (cm)','sepal width (cm)').add_legend();"
      ],
      "execution_count": null,
      "outputs": [
        {
          "output_type": "display_data",
          "data": {
            "image/png": "[encoded data removed]",
            "text/plain": [
              "<Figure size 300.75x216 with 1 Axes>"
            ]
          },
          "metadata": {
            "needs_background": "light"
          }
        }
      ]
    },
    {
      "cell_type": "markdown",
      "metadata": {
        "id": "uUtP_74FWlLg"
      },
      "source": [
        "###Box"
      ]
    },
    {
      "cell_type": "code",
      "metadata": {
        "id": "fczT6BS6_VJS",
        "colab": {
          "base_uri": "https://localhost:8080/",
          "height": 279
        },
        "outputId": "4c6fc181-f6ed-45bb-d91e-70f36d52d4c5"
      },
      "source": [
        "sns.boxplot(data=df,x='species',y='petal length (cm)',palette='husl');"
      ],
      "execution_count": null,
      "outputs": [
        {
          "output_type": "display_data",
          "data": {
            "image/png": "[encoded data removed]",
            "text/plain": [
              "<Figure size 432x288 with 1 Axes>"
            ]
          },
          "metadata": {
            "needs_background": "light"
          }
        }
      ]
    },
    {
      "cell_type": "markdown",
      "metadata": {
        "id": "52OQLnOsWn1x"
      },
      "source": [
        "###Violin"
      ]
    },
    {
      "cell_type": "code",
      "metadata": {
        "id": "AMhVzZ6K_y2P",
        "colab": {
          "base_uri": "https://localhost:8080/",
          "height": 279
        },
        "outputId": "38813557-8d2e-4d0e-9b6c-ae5186f0c4c9"
      },
      "source": [
        "sns.violinplot(data=df,x='species',y='petal length (cm)',palette='husl');"
      ],
      "execution_count": null,
      "outputs": [
        {
          "output_type": "display_data",
          "data": {
            "image/png": "[encoded data removed]",
            "text/plain": [
              "<Figure size 432x288 with 1 Axes>"
            ]
          },
          "metadata": {
            "needs_background": "light"
          }
        }
      ]
    },
    {
      "cell_type": "markdown",
      "metadata": {
        "id": "Fv8KECbNWrcu"
      },
      "source": [
        "###Correlacion"
      ]
    },
    {
      "cell_type": "code",
      "metadata": {
        "id": "czNfoncnAe_T",
        "colab": {
          "base_uri": "https://localhost:8080/",
          "height": 726
        },
        "outputId": "c66a8152-d228-4903-f804-04837fde974a"
      },
      "source": [
        "sns.pairplot(df.drop('target',axis=1),hue='species',palette='Set2',diag_kind='hist');"
      ],
      "execution_count": null,
      "outputs": [
        {
          "output_type": "display_data",
          "data": {
            "image/png": "[encoded data removed]",
            "text/plain": [
              "<Figure size 804.75x720 with 20 Axes>"
            ]
          },
          "metadata": {
            "needs_background": "light"
          }
        }
      ]
    },
    {
      "cell_type": "markdown",
      "metadata": {
        "id": "fEsVgkLLWw9n"
      },
      "source": [
        "###Correlacion cajas"
      ]
    },
    {
      "cell_type": "code",
      "metadata": {
        "id": "KtCnhgeWA9Rc",
        "colab": {
          "base_uri": "https://localhost:8080/",
          "height": 540
        },
        "outputId": "1519ed0f-f7bb-4320-813a-883be36c9366"
      },
      "source": [
        "df.drop('target',axis=1).boxplot(by='species',figsize=(16,8));"
      ],
      "execution_count": null,
      "outputs": [
        {
          "output_type": "display_data",
          "data": {
            "image/png": "[encoded data removed]",
            "text/plain": [
              "<Figure size 1152x576 with 4 Axes>"
            ]
          },
          "metadata": {
            "needs_background": "light"
          }
        }
      ]
    },
    {
      "cell_type": "markdown",
      "metadata": {
        "id": "pDnS1mEnW3Cb"
      },
      "source": [
        "###Curvas de Andrews"
      ]
    },
    {
      "cell_type": "code",
      "metadata": {
        "id": "SiL9qwGKVAAl"
      },
      "source": [
        "from pandas.plotting import andrews_curves"
      ],
      "execution_count": null,
      "outputs": []
    },
    {
      "cell_type": "code",
      "metadata": {
        "id": "Cyg4VUiWVHra",
        "colab": {
          "base_uri": "https://localhost:8080/",
          "height": 265
        },
        "outputId": "fb2a3802-10b7-42c0-84e0-c5862216ade4"
      },
      "source": [
        "andrews_curves(df.drop('target',axis=1),'species');"
      ],
      "execution_count": null,
      "outputs": [
        {
          "output_type": "display_data",
          "data": {
            "image/png": "[encoded data removed]",
            "text/plain": [
              "<Figure size 432x288 with 1 Axes>"
            ]
          },
          "metadata": {
            "needs_background": "light"
          }
        }
      ]
    },
    {
      "cell_type": "code",
      "metadata": {
        "id": "StMJDe9qV5_m",
        "colab": {
          "base_uri": "https://localhost:8080/",
          "height": 265
        },
        "outputId": "d48eb116-8f8d-4821-d65d-4f859e6e78de"
      },
      "source": [
        "from pandas.plotting import parallel_coordinates\n",
        "parallel_coordinates(df.drop('target',axis=1),'species');"
      ],
      "execution_count": null,
      "outputs": [
        {
          "output_type": "display_data",
          "data": {
            "image/png": "[encoded data removed]",
            "text/plain": [
              "<Figure size 432x288 with 1 Axes>"
            ]
          },
          "metadata": {
            "needs_background": "light"
          }
        }
      ]
    },
    {
      "cell_type": "code",
      "metadata": {
        "id": "HZtkXVixWUUQ",
        "colab": {
          "base_uri": "https://localhost:8080/",
          "height": 265
        },
        "outputId": "64827a0f-8793-49b2-f03a-492882d22b15"
      },
      "source": [
        "from pandas.plotting import radviz\n",
        "radviz(df.drop('target',axis=1),'species');"
      ],
      "execution_count": null,
      "outputs": [
        {
          "output_type": "display_data",
          "data": {
            "image/png": "[encoded data removed]",
            "text/plain": [
              "<Figure size 432x288 with 1 Axes>"
            ]
          },
          "metadata": {
            "needs_background": "light"
          }
        }
      ]
    },
    {
      "cell_type": "code",
      "metadata": {
        "id": "GT33o2a60E7o",
        "colab": {
          "base_uri": "https://localhost:8080/"
        },
        "outputId": "4ac1dd38-2db1-4e8c-f539-da07ce82a48f"
      },
      "source": [
        "df.drop('petal area',axis=1,inplace=True)\n",
        "df.columns"
      ],
      "execution_count": 16,
      "outputs": [
        {
          "output_type": "execute_result",
          "data": {
            "text/plain": [
              "Index(['sepal length (cm)', 'sepal width (cm)', 'petal length (cm)',\n",
              "       'petal width (cm)', 'target', 'species'],\n",
              "      dtype='object')"
            ]
          },
          "metadata": {},
          "execution_count": 16
        }
      ]
    },
    {
      "cell_type": "markdown",
      "metadata": {
        "id": "P_Z6HBQflbDt"
      },
      "source": [
        "##Correlación"
      ]
    },
    {
      "cell_type": "markdown",
      "metadata": {
        "id": "yhAn_Wt2ld-Q"
      },
      "source": [
        "El método corr() genera una tabla con muchos números que representa qué tan bien está la relación entre dos columnas.\n",
        "\n",
        "El número varía de -1 a 1.\n",
        "\n",
        "1 significa que hay una relación de 1 a 1 (una correlación perfecta), y para este conjunto de datos, cada vez que un valor subió en la primera columna, la otra subió también.\n",
        "\n",
        "0.9 también es una buena relación, y si aumenta un valor, el otro probablemente también lo hará.\n",
        "\n",
        "-0,9 sería una relación tan buena como 0,9, pero si aumenta un valor, el otro probablemente bajará.\n",
        "\n",
        "0.2 significa NO una buena relación, lo que significa que si un valor aumenta no significa que el otro lo hará.\n",
        "\n",
        "¿Qué es una buena correlación? Depende del uso, pero creo que es seguro decir que debe tener al menos 0.6(o -0.6) para llamarlo una buena correlación.\n"
      ]
    },
    {
      "cell_type": "code",
      "metadata": {
        "id": "HpKDS3jilGuA",
        "colab": {
          "base_uri": "https://localhost:8080/",
          "height": 172
        },
        "outputId": "ef90d139-f63b-473b-f7ac-26fa2cdeb781"
      },
      "source": [
        "df.corr()"
      ],
      "execution_count": 20,
      "outputs": [
        {
          "output_type": "execute_result",
          "data": {
            "text/html": [
              "<div>\n",
              "<style scoped>\n",
              "    .dataframe tbody tr th:only-of-type {\n",
              "        vertical-align: middle;\n",
              "    }\n",
              "\n",
              "    .dataframe tbody tr th {\n",
              "        vertical-align: top;\n",
              "    }\n",
              "\n",
              "    .dataframe thead th {\n",
              "        text-align: right;\n",
              "    }\n",
              "</style>\n",
              "<table border=\"1\" class=\"dataframe\">\n",
              "  <thead>\n",
              "    <tr style=\"text-align: right;\">\n",
              "      <th></th>\n",
              "      <th>TI_CVE_N</th>\n",
              "      <th>VTANTA</th>\n",
              "      <th>petal width (cm)</th>\n",
              "      <th>petal length (cm)</th>\n",
              "    </tr>\n",
              "  </thead>\n",
              "  <tbody>\n",
              "    <tr>\n",
              "      <th>TI_CVE_N</th>\n",
              "      <td>1.00000</td>\n",
              "      <td>-0.00108</td>\n",
              "      <td>NaN</td>\n",
              "      <td>NaN</td>\n",
              "    </tr>\n",
              "    <tr>\n",
              "      <th>VTANTA</th>\n",
              "      <td>-0.00108</td>\n",
              "      <td>1.00000</td>\n",
              "      <td>NaN</td>\n",
              "      <td>NaN</td>\n",
              "    </tr>\n",
              "    <tr>\n",
              "      <th>petal width (cm)</th>\n",
              "      <td>NaN</td>\n",
              "      <td>NaN</td>\n",
              "      <td>NaN</td>\n",
              "      <td>NaN</td>\n",
              "    </tr>\n",
              "    <tr>\n",
              "      <th>petal length (cm)</th>\n",
              "      <td>NaN</td>\n",
              "      <td>NaN</td>\n",
              "      <td>NaN</td>\n",
              "      <td>NaN</td>\n",
              "    </tr>\n",
              "  </tbody>\n",
              "</table>\n",
              "</div>"
            ],
            "text/plain": [
              "                   TI_CVE_N   VTANTA  petal width (cm)  petal length (cm)\n",
              "TI_CVE_N            1.00000 -0.00108               NaN                NaN\n",
              "VTANTA             -0.00108  1.00000               NaN                NaN\n",
              "petal width (cm)        NaN      NaN               NaN                NaN\n",
              "petal length (cm)       NaN      NaN               NaN                NaN"
            ]
          },
          "metadata": {},
          "execution_count": 20
        }
      ]
    },
    {
      "cell_type": "markdown",
      "metadata": {
        "id": "hgV6IMBttnoQ"
      },
      "source": [
        "##Calculos"
      ]
    },
    {
      "cell_type": "markdown",
      "metadata": {
        "id": "mssDArWqtt8q"
      },
      "source": [
        "###Entre columnas"
      ]
    },
    {
      "cell_type": "code",
      "metadata": {
        "id": "UbXocPNSmK5y",
        "colab": {
          "base_uri": "https://localhost:8080/",
          "height": 417
        },
        "outputId": "a6c130cb-8054-4a28-8545-0b6dc9d36d86"
      },
      "source": [
        "df['petal area']=df['petal length (cm)']*df['petal width (cm)']\n",
        "df"
      ],
      "execution_count": 15,
      "outputs": [
        {
          "output_type": "execute_result",
          "data": {
            "text/html": [
              "<div>\n",
              "<style scoped>\n",
              "    .dataframe tbody tr th:only-of-type {\n",
              "        vertical-align: middle;\n",
              "    }\n",
              "\n",
              "    .dataframe tbody tr th {\n",
              "        vertical-align: top;\n",
              "    }\n",
              "\n",
              "    .dataframe thead th {\n",
              "        text-align: right;\n",
              "    }\n",
              "</style>\n",
              "<table border=\"1\" class=\"dataframe\">\n",
              "  <thead>\n",
              "    <tr style=\"text-align: right;\">\n",
              "      <th></th>\n",
              "      <th>sepal length (cm)</th>\n",
              "      <th>sepal width (cm)</th>\n",
              "      <th>petal length (cm)</th>\n",
              "      <th>petal width (cm)</th>\n",
              "      <th>target</th>\n",
              "      <th>species</th>\n",
              "      <th>petal area</th>\n",
              "    </tr>\n",
              "  </thead>\n",
              "  <tbody>\n",
              "    <tr>\n",
              "      <th>0</th>\n",
              "      <td>5.1</td>\n",
              "      <td>3.5</td>\n",
              "      <td>1.4</td>\n",
              "      <td>0.2</td>\n",
              "      <td>0.0</td>\n",
              "      <td>setosa</td>\n",
              "      <td>0.28</td>\n",
              "    </tr>\n",
              "    <tr>\n",
              "      <th>1</th>\n",
              "      <td>4.9</td>\n",
              "      <td>3.0</td>\n",
              "      <td>1.4</td>\n",
              "      <td>0.2</td>\n",
              "      <td>0.0</td>\n",
              "      <td>setosa</td>\n",
              "      <td>0.28</td>\n",
              "    </tr>\n",
              "    <tr>\n",
              "      <th>2</th>\n",
              "      <td>4.7</td>\n",
              "      <td>3.2</td>\n",
              "      <td>1.3</td>\n",
              "      <td>0.2</td>\n",
              "      <td>0.0</td>\n",
              "      <td>setosa</td>\n",
              "      <td>0.26</td>\n",
              "    </tr>\n",
              "    <tr>\n",
              "      <th>3</th>\n",
              "      <td>4.6</td>\n",
              "      <td>3.1</td>\n",
              "      <td>1.5</td>\n",
              "      <td>0.2</td>\n",
              "      <td>0.0</td>\n",
              "      <td>setosa</td>\n",
              "      <td>0.30</td>\n",
              "    </tr>\n",
              "    <tr>\n",
              "      <th>4</th>\n",
              "      <td>5.0</td>\n",
              "      <td>3.6</td>\n",
              "      <td>1.4</td>\n",
              "      <td>0.2</td>\n",
              "      <td>0.0</td>\n",
              "      <td>setosa</td>\n",
              "      <td>0.28</td>\n",
              "    </tr>\n",
              "    <tr>\n",
              "      <th>...</th>\n",
              "      <td>...</td>\n",
              "      <td>...</td>\n",
              "      <td>...</td>\n",
              "      <td>...</td>\n",
              "      <td>...</td>\n",
              "      <td>...</td>\n",
              "      <td>...</td>\n",
              "    </tr>\n",
              "    <tr>\n",
              "      <th>1500295</th>\n",
              "      <td>6.7</td>\n",
              "      <td>3.0</td>\n",
              "      <td>5.2</td>\n",
              "      <td>2.3</td>\n",
              "      <td>2.0</td>\n",
              "      <td>virginica</td>\n",
              "      <td>11.96</td>\n",
              "    </tr>\n",
              "    <tr>\n",
              "      <th>1500296</th>\n",
              "      <td>6.3</td>\n",
              "      <td>2.5</td>\n",
              "      <td>5.0</td>\n",
              "      <td>1.9</td>\n",
              "      <td>2.0</td>\n",
              "      <td>virginica</td>\n",
              "      <td>9.50</td>\n",
              "    </tr>\n",
              "    <tr>\n",
              "      <th>1500297</th>\n",
              "      <td>6.5</td>\n",
              "      <td>3.0</td>\n",
              "      <td>5.2</td>\n",
              "      <td>2.0</td>\n",
              "      <td>2.0</td>\n",
              "      <td>virginica</td>\n",
              "      <td>10.40</td>\n",
              "    </tr>\n",
              "    <tr>\n",
              "      <th>1500298</th>\n",
              "      <td>6.2</td>\n",
              "      <td>3.4</td>\n",
              "      <td>5.4</td>\n",
              "      <td>2.3</td>\n",
              "      <td>2.0</td>\n",
              "      <td>virginica</td>\n",
              "      <td>12.42</td>\n",
              "    </tr>\n",
              "    <tr>\n",
              "      <th>1500299</th>\n",
              "      <td>5.9</td>\n",
              "      <td>3.0</td>\n",
              "      <td>5.1</td>\n",
              "      <td>1.8</td>\n",
              "      <td>2.0</td>\n",
              "      <td>virginica</td>\n",
              "      <td>9.18</td>\n",
              "    </tr>\n",
              "  </tbody>\n",
              "</table>\n",
              "<p>1500300 rows × 7 columns</p>\n",
              "</div>"
            ],
            "text/plain": [
              "         sepal length (cm)  sepal width (cm)  ...    species  petal area\n",
              "0                      5.1               3.5  ...     setosa        0.28\n",
              "1                      4.9               3.0  ...     setosa        0.28\n",
              "2                      4.7               3.2  ...     setosa        0.26\n",
              "3                      4.6               3.1  ...     setosa        0.30\n",
              "4                      5.0               3.6  ...     setosa        0.28\n",
              "...                    ...               ...  ...        ...         ...\n",
              "1500295                6.7               3.0  ...  virginica       11.96\n",
              "1500296                6.3               2.5  ...  virginica        9.50\n",
              "1500297                6.5               3.0  ...  virginica       10.40\n",
              "1500298                6.2               3.4  ...  virginica       12.42\n",
              "1500299                5.9               3.0  ...  virginica        9.18\n",
              "\n",
              "[1500300 rows x 7 columns]"
            ]
          },
          "metadata": {},
          "execution_count": 15
        }
      ]
    }
  ]
}