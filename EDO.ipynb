{
  "nbformat": 4,
  "nbformat_minor": 0,
  "metadata": {
    "colab": {
      "name": "EDO.ipynb",
      "provenance": [],
      "authorship_tag": "ABX9TyPD0x6Lgw9EQngFQ2WZYHpW",
      "include_colab_link": true
    },
    "kernelspec": {
      "name": "python3",
      "display_name": "Python 3"
    },
    "language_info": {
      "name": "python"
    }
  },
  "cells": [
    {
      "cell_type": "markdown",
      "metadata": {
        "id": "view-in-github",
        "colab_type": "text"
      },
      "source": [
        "<a href=\"https://colab.research.google.com/github/jcjimenezb123/ProgramacionPython/blob/master/EDO.ipynb\" target=\"_parent\"><img src=\"https://colab.research.google.com/assets/colab-badge.svg\" alt=\"Open In Colab\"/></a>"
      ]
    },
    {
      "cell_type": "code",
      "metadata": {
        "id": "lmILtMYuCXlS"
      },
      "source": [
        "from scipy.integrate import odeint\n",
        "import numpy as np\n",
        "import matplotlib.pyplot as plt"
      ],
      "execution_count": 1,
      "outputs": []
    },
    {
      "cell_type": "code",
      "metadata": {
        "id": "gD5BqBLxCcTW"
      },
      "source": [
        "def f(Ca,t):\n",
        "  return -2*Ca"
      ],
      "execution_count": 12,
      "outputs": []
    },
    {
      "cell_type": "code",
      "metadata": {
        "id": "EgLw9jswC507"
      },
      "source": [
        "t0 =0 # valor inicial de tiempo\n",
        "C0 =[1.5] # condiciones iniciales de\n",
        "t1 =0.5 # valor final del tiempo\n",
        "tiempo =np.linspace (t0,t1) #11 es para 10 pasos\n",
        "# llamada a la funcion odeint\n",
        "sol = odeint(f,C0,tiempo )\n",
        "sol"
      ],
      "execution_count": null,
      "outputs": []
    },
    {
      "cell_type": "code",
      "metadata": {
        "colab": {
          "base_uri": "https://localhost:8080/",
          "height": 265
        },
        "id": "PgWZBFqNFlLu",
        "outputId": "f79395ec-1656-417f-b218-6414d2ea3edb"
      },
      "source": [
        "plt.plot(tiempo,sol,'or')\n",
        "plt.show()"
      ],
      "execution_count": 16,
      "outputs": [
        {
          "output_type": "display_data",
          "data": {
            "image/png": "[encoded data removed]",
            "text/plain": [
              "<Figure size 432x288 with 1 Axes>"
            ]
          },
          "metadata": {
            "needs_background": "light"
          }
        }
      ]
    },
    {
      "cell_type": "code",
      "metadata": {
        "id": "8RhciS5aEA7b"
      },
      "source": [
        "def f(M,t):\n",
        "  return 1.6-0.02*M"
      ],
      "execution_count": 6,
      "outputs": []
    },
    {
      "cell_type": "code",
      "metadata": {
        "colab": {
          "base_uri": "https://localhost:8080/"
        },
        "id": "XHiyX57bEOQi",
        "outputId": "87811c48-a4c3-4ba6-c640-89870024c7ef"
      },
      "source": [
        "t0 =0 # valor inicial de tiempo\n",
        "C0 =[50] # condiciones iniciales de\n",
        "t1 =30 # valor final del tiempo\n",
        "tiempo =np.linspace (t0,t1,31) #11 es para 10 pasos\n",
        "# llamada a la funcion odeint\n",
        "sol = odeint(f,C0,tiempo )\n",
        "sol[-1]"
      ],
      "execution_count": 11,
      "outputs": [
        {
          "output_type": "execute_result",
          "data": {
            "text/plain": [
              "array([63.53565039])"
            ]
          },
          "metadata": {},
          "execution_count": 11
        }
      ]
    },
    {
      "cell_type": "code",
      "metadata": {
        "colab": {
          "base_uri": "https://localhost:8080/",
          "height": 266
        },
        "id": "E6RPTjDFEsS1",
        "outputId": "4f7d2c09-9c61-46f3-9955-033430266447"
      },
      "source": [
        "plt.plot(tiempo,sol,'or')\n",
        "plt.show()"
      ],
      "execution_count": 10,
      "outputs": [
        {
          "output_type": "display_data",
          "data": {
            "image/png": "[encoded data removed]",
            "text/plain": [
              "<Figure size 432x288 with 1 Axes>"
            ]
          },
          "metadata": {
            "needs_background": "light"
          }
        }
      ]
    }
  ]
}