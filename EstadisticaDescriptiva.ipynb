{
  "nbformat": 4,
  "nbformat_minor": 0,
  "metadata": {
    "colab": {
      "name": "EstadisticaDescriptiva.ipynb",
      "provenance": [],
      "collapsed_sections": [],
      "authorship_tag": "ABX9TyOCqQ7Bkvk6w0O2/xCAY4ch",
      "include_colab_link": true
    },
    "kernelspec": {
      "name": "python3",
      "display_name": "Python 3"
    },
    "language_info": {
      "name": "python"
    }
  },
  "cells": [
    {
      "cell_type": "markdown",
      "metadata": {
        "id": "view-in-github",
        "colab_type": "text"
      },
      "source": [
        "<a href=\"https://colab.research.google.com/github/jcjimenezb123/ProgramacionPython/blob/master/EstadisticaDescriptiva.ipynb\" target=\"_parent\"><img src=\"https://colab.research.google.com/assets/colab-badge.svg\" alt=\"Open In Colab\"/></a>"
      ]
    },
    {
      "cell_type": "markdown",
      "metadata": {
        "id": "pfpFlpA5niZe"
      },
      "source": [
        "#Estadística descriptiva"
      ]
    },
    {
      "cell_type": "markdown",
      "metadata": {
        "id": "CMw10Ot3n30s"
      },
      "source": [
        "Una de las dos ramas principales de la estadística aplicada se conoce como estadística descriptiva, que simplemente describe alguna propiedad numérica de un conjunto de datos.\n",
        "\n",
        "El módulo statistics contiene las métricas principales de la estadística descriptiva, se debe importar para poder usar sus funciones."
      ]
    },
    {
      "cell_type": "code",
      "metadata": {
        "id": "AFf93lmZqMAm"
      },
      "source": [
        "import statistics as st"
      ],
      "execution_count": null,
      "outputs": []
    },
    {
      "cell_type": "markdown",
      "metadata": {
        "id": "sY0euL_Xn7zm"
      },
      "source": [
        "##Media (promedio)"
      ]
    },
    {
      "cell_type": "markdown",
      "metadata": {
        "id": "9VWv6hDfoRGE"
      },
      "source": [
        "El tipo más familiar de estadística descriptiva y la medida más importante de tendencia central probablemente sería la media o el promedio. De una población media, μ , se encuentra sumando todos los datos, $x_i$ , y dividiendo por el número total, $N$.\n",
        "\n",
        "$$\n",
        "\\mu=\\frac{x_1+x_2+x_3+\\cdots +x_n}{N}=\\frac{1}{N}\\sum_{i=1}^{N}x_i \\cdots(1)\n",
        "$$\n",
        "\n",
        "También podemos calcular lo que se llama media muestral utilizando solo un subconjunto de la población que contiene n valores de los N posibles. La media muestral es muy similar a la Ecuación $(1)$\n",
        "\n",
        "$$\n",
        "\\mu=\\frac{x_1+x_2+x_3+\\cdots +x_n}{n}=\\frac{1}{n}\\sum_{i=1}^{n}x_i \\cdots(2)\n",
        "$$\n",
        "donde $n$ es el número de datos, $x_i$ , en la muestra.\n",
        "\n",
        "Hacemos esta distinción porque la mayoría de las veces no tenemos acceso a toda la población de datos. Sin embargo, es posible que deseemos conocer alguna propiedad estadística de esos datos. Por ejemplo, digamos que deseamos conocer la dimensión máxima promedio de las partículas de arena en una playa. Para obtener la media de esa población, tendríamos que medir cada grano, una tarea imposible, por lo que debemos conformarnos con una media muestral . Creamos una muestra representativa de la playa eligiendo una fracción del número total de granos de ubicaciones aleatorias. Luego mediríamos la dimensión máxima de cada grano en esta pequeña muestra y promediaríamos esos datos para encontrar una media muestral, como una aproximación de la media poblacional.\n",
        "\n",
        "Ejemplo: se tienen las siguientes estaturas de un grupo de alumnos \n",
        "$[1.70, 1.75, 1.83, 1.68, 1.91, 1.78, 1.70, 1.73]$, entonces la media muestral es"
      ]
    },
    {
      "cell_type": "code",
      "metadata": {
        "colab": {
          "base_uri": "https://localhost:8080/"
        },
        "id": "d5yg780WnftW",
        "outputId": "fac3a99b-fae5-45f1-d9a0-92b15e84cf6a"
      },
      "source": [
        "estaturas=[1.70, 1.75, 1.83, 1.68, 1.91, 1.78, 1.70, 1.73]\n",
        "media=st.mean(estaturas)\n",
        "media"
      ],
      "execution_count": null,
      "outputs": [
        {
          "output_type": "execute_result",
          "data": {
            "text/plain": [
              "1.76"
            ]
          },
          "metadata": {
            "tags": []
          },
          "execution_count": 5
        }
      ]
    },
    {
      "cell_type": "markdown",
      "metadata": {
        "id": "RcZM4wPU3NU2"
      },
      "source": [
        "##Promedio armónico"
      ]
    },
    {
      "cell_type": "markdown",
      "metadata": {
        "id": "49fqRzsQ3TCD"
      },
      "source": [
        "El promedio armónico es el recíproco del promedio aritmético de los recíprocos de los datos.\n",
        "\n",
        "El promedio armónico se calcula de la siguiente manera\n",
        "\n",
        "$$\n",
        "h=\\frac{n}{\\frac{1}{x_1}+\\frac{1}{x_2}+\\frac{1}{x_3}+\\cdots +\\frac{1}{x_n}}=\\frac{n}{\\sum_{i=1}^{n}\\frac{1}{x_i}}\n",
        "$$"
      ]
    },
    {
      "cell_type": "code",
      "metadata": {
        "colab": {
          "base_uri": "https://localhost:8080/"
        },
        "id": "hHS6qDG7494j",
        "outputId": "b3f0ad62-4435-405b-fde9-1a9a4ae7093b"
      },
      "source": [
        "estaturas=[1.70, 1.75, 1.83, 1.68, 1.91, 1.78, 1.70, 1.73]\n",
        "media=st.harmonic_mean(estaturas)\n",
        "media"
      ],
      "execution_count": null,
      "outputs": [
        {
          "output_type": "execute_result",
          "data": {
            "text/plain": [
              "1.7570917372017392"
            ]
          },
          "metadata": {
            "tags": []
          },
          "execution_count": 7
        }
      ]
    },
    {
      "cell_type": "markdown",
      "metadata": {
        "id": "azuOrX0squgD"
      },
      "source": [
        "##Mediana"
      ]
    },
    {
      "cell_type": "markdown",
      "metadata": {
        "id": "lZVwwmX4qwpw"
      },
      "source": [
        "Si tuviéramos que ordenar nuestros datos de menor a mayor, la mediana sería el valor en el medio de esa lista. Si hay un número par de puntos de datos y, por lo tanto, no hay un valor mediano único, el promedio de los dos valores más cercanos al medio se toma como la mediana.\n",
        "\n",
        "Ejemplo: se tienen las siguientes estaturas de un grupo de alumnos \n",
        "$[1.70, 1.75, 1.83, 1.68, 1.91, 1.78, 1.70, 1.73]$, entonces la media muestral es"
      ]
    },
    {
      "cell_type": "code",
      "metadata": {
        "colab": {
          "base_uri": "https://localhost:8080/"
        },
        "id": "-6rv81N0nprC",
        "outputId": "8e933b13-58db-48c7-fb71-5c2e2486f4ca"
      },
      "source": [
        "estaturas=[1.70, 1.75, 1.83, 1.68, 1.91, 1.78, 1.70, 1.73]\n",
        "mediana=st.median(estaturas)\n",
        "mediana"
      ],
      "execution_count": null,
      "outputs": [
        {
          "output_type": "execute_result",
          "data": {
            "text/plain": [
              "1.74"
            ]
          },
          "metadata": {
            "tags": []
          },
          "execution_count": 10
        }
      ]
    },
    {
      "cell_type": "markdown",
      "metadata": {
        "id": "Ac5lmhuYBGoq"
      },
      "source": [
        "Si el número de datos es impar, retornará el valor medio. Si el número de datos es par, retornará el valor más alto de los dos de en medio.\n"
      ]
    },
    {
      "cell_type": "code",
      "metadata": {
        "colab": {
          "base_uri": "https://localhost:8080/"
        },
        "id": "TTPgqfJEAoP0",
        "outputId": "caef00b3-aadb-4c3c-e6fa-3566a4a0bf39"
      },
      "source": [
        "mediana=st.median_high(estaturas)\n",
        "mediana"
      ],
      "execution_count": null,
      "outputs": [
        {
          "output_type": "execute_result",
          "data": {
            "text/plain": [
              "1.75"
            ]
          },
          "metadata": {
            "tags": []
          },
          "execution_count": 8
        }
      ]
    },
    {
      "cell_type": "markdown",
      "metadata": {
        "id": "9mv_7jxyBh-R"
      },
      "source": [
        "Si el número de datos es impar, retornará el valor medio. Si el número de datos es par, retornará el valor más bajo de los dos de en medio."
      ]
    },
    {
      "cell_type": "code",
      "metadata": {
        "colab": {
          "base_uri": "https://localhost:8080/"
        },
        "id": "Oe0zKtMdAzcM",
        "outputId": "03153dec-5a80-4a81-916a-545bb0add5f0"
      },
      "source": [
        "mediana=st.median_low(estaturas)\n",
        "mediana"
      ],
      "execution_count": null,
      "outputs": [
        {
          "output_type": "execute_result",
          "data": {
            "text/plain": [
              "1.73"
            ]
          },
          "metadata": {
            "tags": []
          },
          "execution_count": 9
        }
      ]
    },
    {
      "cell_type": "code",
      "metadata": {
        "colab": {
          "base_uri": "https://localhost:8080/"
        },
        "id": "yhovpdSRsaP1",
        "outputId": "5c543556-37bf-4faa-dd89-ef3b8e97f0ab"
      },
      "source": [
        "estaturas.sort()\n",
        "print(estaturas)"
      ],
      "execution_count": null,
      "outputs": [
        {
          "output_type": "stream",
          "text": [
            "[1.68, 1.7, 1.7, 1.73, 1.75, 1.78, 1.83, 1.91]\n"
          ],
          "name": "stdout"
        }
      ]
    },
    {
      "cell_type": "markdown",
      "metadata": {
        "id": "lKwReK7Okzkl"
      },
      "source": [
        "##Moda"
      ]
    },
    {
      "cell_type": "markdown",
      "metadata": {
        "id": "ts4Dgz4Bk2Yn"
      },
      "source": [
        "La moda se define como el valor que ocurre con mayor frecuencia en un conjunto de datos. Como tal, a menudo hay ocasiones en las que el modo es más de un número. Por ejemplo, si nuestros datos son [4, 5, 5, 1, 3, 3, 5, 2, 3], entonces los datos serían bimodales , con modas de 5 y 3. Cuando los datos están en un continuo no hay moda a menos que redondeemos los datos con cierta precisión."
      ]
    },
    {
      "cell_type": "code",
      "metadata": {
        "colab": {
          "base_uri": "https://localhost:8080/"
        },
        "id": "sNRZWb6Asdng",
        "outputId": "8630cfa9-4d35-4631-fefd-961c5d8ea9c1"
      },
      "source": [
        "estaturas=[1.70, 1.75, 1.83, 1.68, 1.91, 1.78, 1.70, 1.73]\n",
        "moda=st.mode(estaturas)\n",
        "moda"
      ],
      "execution_count": null,
      "outputs": [
        {
          "output_type": "execute_result",
          "data": {
            "text/plain": [
              "1.7"
            ]
          },
          "metadata": {
            "tags": []
          },
          "execution_count": 13
        }
      ]
    },
    {
      "cell_type": "markdown",
      "metadata": {
        "id": "bPmlPR1_uPID"
      },
      "source": [
        "##Desviación estándar"
      ]
    },
    {
      "cell_type": "markdown",
      "metadata": {
        "id": "tv6HoIoEuTrV"
      },
      "source": [
        "La desviación estándar nos da una idea de cuán ampliamente se separan nuestros datos de su media. Junto con la varianza, esta propiedad estadística se encuentra entre las más familiares y útiles dentro de la categoría de medidas de dispersión. La desviación estándar se define como la raíz cuadrada de la distancia al cuadrado promedio de cada dato de la media. Como tal, la desviación estándar de la población se define como:\n",
        "\n",
        "$$\n",
        "\\sigma=\\sqrt{\\frac{(x_1-\\mu)^2+(x_2-\\mu)^2+(x_3-\\mu)^2+\\cdots+(x_N-\\mu)^2}{N}}=\\sqrt{\\frac{1}{N}\\sum_{i=1}^N(x_i-\\mu)^2}\n",
        "$$\n",
        "\n",
        "Al igual que con la media, también podemos encontrar una desviación estándar muestral. Aquí, se debe tener cuidado, ya que la terminología se vuelve algo confusa. La siguiente ecuación es para lo que llamamos la desviación estándar de la muestra :\n",
        "\n",
        "$$\n",
        "s_n=\\sqrt{\\frac{1}{n}\\sum_{i=1}^n(x_i-\\bar{x})^2}\n",
        "$$\n",
        "\n",
        "la desviación estándar de la muestra es\n",
        "\n",
        "$$\n",
        "s=\\sqrt{\\frac{1}{n-1}\\sum_{i=1}^n(x_i-\\bar{x})^2}\n",
        "$$\n",
        "\n",
        "La diferencia entre las dos ecuaciones está en lo que se llama la corrección de Bessel, usando $n -1$ en lugar de $n$ en la ecuación anterior. Esta corrección se usa con mayor frecuencia al calcular las desviaciones estándar, para corregir el hecho de que $s$ es un estimador sesgado y tiende a subestimar σ . Por supuesto, a medida que $n$ se vuelve grande, $s$ se acercará a $s_n$ , pero, a medida que $n$ se acerque a $N$, $s_n$ se convierte en el estimador más preciso de σ."
      ]
    },
    {
      "cell_type": "code",
      "metadata": {
        "colab": {
          "base_uri": "https://localhost:8080/"
        },
        "id": "xQ9X7HaDtMiS",
        "outputId": "c9274629-ec56-421f-dd19-80688a98f0c3"
      },
      "source": [
        "estaturas=[1.70, 1.75, 1.83, 1.68, 1.91, 1.78, 1.70, 1.73]\n",
        "desv=st.stdev(estaturas)\n",
        "desv"
      ],
      "execution_count": null,
      "outputs": [
        {
          "output_type": "execute_result",
          "data": {
            "text/plain": [
              "0.07782764841072136"
            ]
          },
          "metadata": {
            "tags": []
          },
          "execution_count": 13
        }
      ]
    },
    {
      "cell_type": "markdown",
      "metadata": {
        "id": "D03VtJ7L-XNX"
      },
      "source": [
        "##Varianza"
      ]
    },
    {
      "cell_type": "markdown",
      "metadata": {
        "id": "2n5-VcEJ-Z23"
      },
      "source": [
        "La varianza es simplemente la desviación estándar al cuadrado, que es la distancia al cuadrado promedio de cada dato de la media. Por tanto, la varianza de la población es la Ecuación $\\sigma$ al cuadrado y la varianza muestral es la Ecuación $s$ al cuadrado."
      ]
    },
    {
      "cell_type": "code",
      "metadata": {
        "colab": {
          "base_uri": "https://localhost:8080/"
        },
        "id": "cwUUEouS-uEL",
        "outputId": "0a5e95a1-1d2b-4677-f682-6f35bfdfdde1"
      },
      "source": [
        "desv**2"
      ],
      "execution_count": null,
      "outputs": [
        {
          "output_type": "execute_result",
          "data": {
            "text/plain": [
              "0.006057142857142859"
            ]
          },
          "metadata": {
            "tags": []
          },
          "execution_count": 17
        }
      ]
    },
    {
      "cell_type": "code",
      "metadata": {
        "colab": {
          "base_uri": "https://localhost:8080/"
        },
        "id": "ehUyEH6K41b8",
        "outputId": "17a47377-63ef-4f5d-f16b-49cfa244c2d1"
      },
      "source": [
        "estaturas=[1.70, 1.75, 1.83, 1.68, 1.91, 1.78, 1.70, 1.73]\n",
        "var=st.variance(estaturas)\n",
        "var"
      ],
      "execution_count": null,
      "outputs": [
        {
          "output_type": "execute_result",
          "data": {
            "text/plain": [
              "0.006057142857142859"
            ]
          },
          "metadata": {
            "tags": []
          },
          "execution_count": 15
        }
      ]
    }
  ]
}