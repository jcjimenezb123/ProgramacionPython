{
  "nbformat": 4,
  "nbformat_minor": 0,
  "metadata": {
    "colab": {
      "name": "GSS.ipynb",
      "provenance": [],
      "collapsed_sections": [],
      "include_colab_link": true
    },
    "kernelspec": {
      "name": "python3",
      "display_name": "Python 3"
    },
    "language_info": {
      "name": "python"
    }
  },
  "cells": [
    {
      "cell_type": "markdown",
      "metadata": {
        "id": "view-in-github",
        "colab_type": "text"
      },
      "source": [
        "<a href=\"https://colab.research.google.com/github/jcjimenezb123/ProgramacionPython/blob/master/GSS.ipynb\" target=\"_parent\"><img src=\"https://colab.research.google.com/assets/colab-badge.svg\" alt=\"Open In Colab\"/></a>"
      ]
    },
    {
      "cell_type": "markdown",
      "metadata": {
        "id": "H3Ef9e3YujL6"
      },
      "source": [
        "#1. Instalar tradingeconomics"
      ]
    },
    {
      "cell_type": "code",
      "metadata": {
        "colab": {
          "base_uri": "https://localhost:8080/"
        },
        "id": "Cy5Eaid5tYfw",
        "outputId": "cc0cc5d5-2adb-4e76-d3ca-b1c8c90a08eb"
      },
      "source": [
        "!pip install tradingeconomics"
      ],
      "execution_count": null,
      "outputs": [
        {
          "output_type": "stream",
          "text": [
            "Collecting tradingeconomics\n",
            "\u001b[?25l  Downloading https://files.pythonhosted.org/packages/60/4c/cdec55f769f077e1b97c737b660cc34d6da12fc86c4a09916672e2a1ad11/tradingeconomics-0.2.981-py3-none-any.whl (40kB)\n",
            "\u001b[K     |████████████████████████████████| 40kB 3.1MB/s \n",
            "\u001b[?25hRequirement already satisfied: pandas in /usr/local/lib/python3.7/dist-packages (from tradingeconomics) (1.1.5)\n",
            "Collecting websocket-client\n",
            "\u001b[?25l  Downloading https://files.pythonhosted.org/packages/ca/5f/3c211d168b2e9f9342cfb53bcfc26aab0eac63b998015e7af7bcae66119d/websocket_client-1.1.0-py2.py3-none-any.whl (68kB)\n",
            "\u001b[K     |████████████████████████████████| 71kB 3.2MB/s \n",
            "\u001b[?25hRequirement already satisfied: pytz>=2017.2 in /usr/local/lib/python3.7/dist-packages (from pandas->tradingeconomics) (2018.9)\n",
            "Requirement already satisfied: numpy>=1.15.4 in /usr/local/lib/python3.7/dist-packages (from pandas->tradingeconomics) (1.19.5)\n",
            "Requirement already satisfied: python-dateutil>=2.7.3 in /usr/local/lib/python3.7/dist-packages (from pandas->tradingeconomics) (2.8.1)\n",
            "Requirement already satisfied: six>=1.5 in /usr/local/lib/python3.7/dist-packages (from python-dateutil>=2.7.3->pandas->tradingeconomics) (1.15.0)\n",
            "Installing collected packages: websocket-client, tradingeconomics\n",
            "Successfully installed tradingeconomics-0.2.981 websocket-client-1.1.0\n"
          ],
          "name": "stdout"
        }
      ]
    },
    {
      "cell_type": "markdown",
      "metadata": {
        "id": "qGiUxH1xutZu"
      },
      "source": [
        "#2. Importar modulos necesarios"
      ]
    },
    {
      "cell_type": "code",
      "metadata": {
        "id": "-Y3cJHl4v4xE"
      },
      "source": [
        "import tradingeconomics as te\n",
        "import pandas as pd\n",
        "# Google spread sheets\n",
        "import gspread\n",
        "from oauth2client.service_account import ServiceAccountCredentials\n",
        "from gspread_dataframe import set_with_dataframe"
      ],
      "execution_count": null,
      "outputs": []
    },
    {
      "cell_type": "markdown",
      "metadata": {
        "id": "WkAUBR_ou-3Z"
      },
      "source": [
        "#3. Obtener informacion de la pagina de Trading Economics"
      ]
    },
    {
      "cell_type": "code",
      "metadata": {
        "id": "zK0ypY1XtGSV"
      },
      "source": [
        "te.login('guest:guest')  # indicar credenciales"
      ],
      "execution_count": null,
      "outputs": []
    },
    {
      "cell_type": "code",
      "metadata": {
        "id": "EZiHmVmBw6NU"
      },
      "source": [
        "def LeeData(indicador,fecha):\n",
        "  df=pd.DataFrame(\n",
        "      te.getHistoricalData(country='Mexico', # Pais\n",
        "                          indicator=f'{indicador}',  # indicador\n",
        "                          initDate=f'{fecha}') #fecha inicial\n",
        "      )\n",
        "  return df"
      ],
      "execution_count": null,
      "outputs": []
    },
    {
      "cell_type": "markdown",
      "metadata": {
        "id": "BrwOhLUqwiRo"
      },
      "source": [
        "#4. Conectar con la hoja de Google Sheet"
      ]
    },
    {
      "cell_type": "code",
      "metadata": {
        "id": "PtCE0IvXc6uq"
      },
      "source": [
        "# N O T A : asegurarse que el archivo .json se encuentra en la carpeta de trabajo\n",
        "\n",
        "scope=['https://www.googleapis.com/auth/spreadsheets',\n",
        "       'https://www.googleapis.com/auth/drive.file',\n",
        "       'https://www.googleapis.com/auth/drive']\n",
        "\n",
        "# indicar el nombre del archivo .json\n",
        "creds=ServiceAccountCredentials.from_json_keyfile_name('credentials.json',scope)\n",
        "client=gspread.authorize(creds)\n",
        "#sheet.update_cell(10,1,'Hola Mundo!!')"
      ],
      "execution_count": null,
      "outputs": []
    },
    {
      "cell_type": "markdown",
      "metadata": {
        "id": "SUE2B2ppwouj"
      },
      "source": [
        "#5. Guardar la informacion en la hoja de Google Sheets"
      ]
    },
    {
      "cell_type": "code",
      "metadata": {
        "id": "1qOYG2oh9UNR"
      },
      "source": [
        "def pandas_to_sheets(pandas_df, sheet, clear = True):\n",
        "    # Updates all values in a workbook to match a pandas dataframe\n",
        "    if clear:\n",
        "        sheet.clear()\n",
        "    (row, col) = pandas_df.shape\n",
        "    for i in range(row):\n",
        "      print(pandas_df.index[i])\n",
        "      sheet.update_cell(i+1,1,str(pandas_df.index[i]))\n",
        "      for j in range(col):\n",
        "        sheet.update_cell(i+1,j+2,pandas_df.iloc[i, j])\n",
        "        "
      ],
      "execution_count": null,
      "outputs": []
    },
    {
      "cell_type": "markdown",
      "metadata": {
        "id": "KRsPc0TbySxO"
      },
      "source": [
        "#6. Ejecutar proceso"
      ]
    },
    {
      "cell_type": "code",
      "metadata": {
        "colab": {
          "base_uri": "https://localhost:8080/"
        },
        "id": "v9Jl7-GF9zCi",
        "outputId": "a10f843d-92ac-42ec-abbe-d8536791bf37"
      },
      "source": [
        "hoja='Nombre de la hoja'\n",
        "inicio='2010-01-01' #fecha de inicio con formato aaaa-mm-dd\n",
        "indicadores=['GDP','GDP Construction','etc']\n",
        "tab=['PIB','PIB Construccion','otra']\n",
        "\n",
        "for ind,t in zip(indicadores,tab):\n",
        "  #lee informacion de GDP\n",
        "  df=LeeData(indicador=ind,fecha=inicio)\n",
        "\n",
        "  #indicar el nombre de la hoja y la pestana\n",
        "  sheet=client.open(hoja).worksheet(t)\n",
        "  #guarda informacion en la hoja\n",
        "  pandas_to_sheets(df, sheet)"
      ],
      "execution_count": null,
      "outputs": [
        {
          "output_type": "stream",
          "text": [
            "2011-12-31 00:00:00\n",
            "2012-12-31 00:00:00\n",
            "2013-12-31 00:00:00\n",
            "2014-12-31 00:00:00\n",
            "2015-12-31 00:00:00\n",
            "2016-12-31 00:00:00\n",
            "2017-12-31 00:00:00\n",
            "2018-12-31 00:00:00\n",
            "2019-12-31 00:00:00\n",
            "2020-12-31 00:00:00\n"
          ],
          "name": "stdout"
        }
      ]
    }
  ]
}