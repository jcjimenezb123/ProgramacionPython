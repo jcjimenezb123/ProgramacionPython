{
  "nbformat": 4,
  "nbformat_minor": 0,
  "metadata": {
    "colab": {
      "name": "GSS.ipynb",
      "provenance": [],
      "collapsed_sections": [],
      "include_colab_link": true
    },
    "kernelspec": {
      "name": "python3",
      "display_name": "Python 3"
    },
    "language_info": {
      "name": "python"
    }
  },
  "cells": [
    {
      "cell_type": "markdown",
      "metadata": {
        "id": "view-in-github",
        "colab_type": "text"
      },
      "source": [
        "<a href=\"https://colab.research.google.com/github/jcjimenezb123/ProgramacionPython/blob/master/GSS.ipynb\" target=\"_parent\"><img src=\"https://colab.research.google.com/assets/colab-badge.svg\" alt=\"Open In Colab\"/></a>"
      ]
    },
    {
      "cell_type": "markdown",
      "metadata": {
        "id": "H3Ef9e3YujL6"
      },
      "source": [
        "#1. Instalar tradingeconomics"
      ]
    },
    {
      "cell_type": "code",
      "metadata": {
        "colab": {
          "base_uri": "https://localhost:8080/"
        },
        "id": "Cy5Eaid5tYfw",
        "outputId": "d0f5f951-a657-46e1-f9e2-23f6e7c595fa"
      },
      "source": [
        "!pip install tradingeconomics"
      ],
      "execution_count": null,
      "outputs": [
        {
          "output_type": "stream",
          "text": [
            "Collecting tradingeconomics\n",
            "\u001b[?25l  Downloading https://files.pythonhosted.org/packages/60/4c/cdec55f769f077e1b97c737b660cc34d6da12fc86c4a09916672e2a1ad11/tradingeconomics-0.2.981-py3-none-any.whl (40kB)\n",
            "\r\u001b[K     |████████▏                       | 10kB 9.6MB/s eta 0:00:01\r\u001b[K     |████████████████▎               | 20kB 13.2MB/s eta 0:00:01\r\u001b[K     |████████████████████████▍       | 30kB 16.9MB/s eta 0:00:01\r\u001b[K     |████████████████████████████████| 40kB 3.7MB/s \n",
            "\u001b[?25hCollecting websocket-client\n",
            "\u001b[?25l  Downloading https://files.pythonhosted.org/packages/ca/5f/3c211d168b2e9f9342cfb53bcfc26aab0eac63b998015e7af7bcae66119d/websocket_client-1.1.0-py2.py3-none-any.whl (68kB)\n",
            "\r\u001b[K     |████▊                           | 10kB 10.9MB/s eta 0:00:01\r\u001b[K     |█████████▌                      | 20kB 16.0MB/s eta 0:00:01\r\u001b[K     |██████████████▎                 | 30kB 19.2MB/s eta 0:00:01\r\u001b[K     |███████████████████             | 40kB 22.2MB/s eta 0:00:01\r\u001b[K     |███████████████████████▉        | 51kB 24.7MB/s eta 0:00:01\r\u001b[K     |████████████████████████████▋   | 61kB 21.7MB/s eta 0:00:01\r\u001b[K     |████████████████████████████████| 71kB 4.6MB/s \n",
            "\u001b[?25hRequirement already satisfied: pandas in /usr/local/lib/python3.7/dist-packages (from tradingeconomics) (1.1.5)\n",
            "Requirement already satisfied: python-dateutil>=2.7.3 in /usr/local/lib/python3.7/dist-packages (from pandas->tradingeconomics) (2.8.1)\n",
            "Requirement already satisfied: numpy>=1.15.4 in /usr/local/lib/python3.7/dist-packages (from pandas->tradingeconomics) (1.19.5)\n",
            "Requirement already satisfied: pytz>=2017.2 in /usr/local/lib/python3.7/dist-packages (from pandas->tradingeconomics) (2018.9)\n",
            "Requirement already satisfied: six>=1.5 in /usr/local/lib/python3.7/dist-packages (from python-dateutil>=2.7.3->pandas->tradingeconomics) (1.15.0)\n",
            "Installing collected packages: websocket-client, tradingeconomics\n",
            "Successfully installed tradingeconomics-0.2.981 websocket-client-1.1.0\n"
          ],
          "name": "stdout"
        }
      ]
    },
    {
      "cell_type": "markdown",
      "metadata": {
        "id": "qGiUxH1xutZu"
      },
      "source": [
        "#2. Importar modulos necesarios"
      ]
    },
    {
      "cell_type": "code",
      "metadata": {
        "id": "-Y3cJHl4v4xE"
      },
      "source": [
        "import tradingeconomics as te\n",
        "import pandas as pd\n",
        "# Google spread sheets\n",
        "import gspread\n",
        "from oauth2client.service_account import ServiceAccountCredentials\n",
        "from gspread_dataframe import set_with_dataframe"
      ],
      "execution_count": null,
      "outputs": []
    },
    {
      "cell_type": "markdown",
      "metadata": {
        "id": "WkAUBR_ou-3Z"
      },
      "source": [
        "#3. Obtener informacion de la pagina de Trading Economics"
      ]
    },
    {
      "cell_type": "code",
      "metadata": {
        "id": "zK0ypY1XtGSV",
        "colab": {
          "base_uri": "https://localhost:8080/",
          "height": 67
        },
        "outputId": "1064b47a-52a6-4914-8248-fea1178a8a44"
      },
      "source": [
        "te.login('B44ECBFF555A4C8:405D4DAF7CD24C1')  # indicar credenciales\n",
        "#te.login('guest:guest')  # indicar credenciales"
      ],
      "execution_count": null,
      "outputs": [
        {
          "output_type": "execute_result",
          "data": {
            "application/vnd.google.colaboratory.intrinsic+json": {
              "type": "string"
            },
            "text/plain": [
              "'You are logged in as a B44ECBFF555A4C8:405D4DAF7CD24C1'"
            ]
          },
          "metadata": {
            "tags": []
          },
          "execution_count": 3
        }
      ]
    },
    {
      "cell_type": "code",
      "metadata": {
        "id": "6tiXVdRj6jRl"
      },
      "source": [
        ""
      ],
      "execution_count": null,
      "outputs": []
    },
    {
      "cell_type": "code",
      "metadata": {
        "id": "EZiHmVmBw6NU"
      },
      "source": [
        "def LeeData(indicador,fecha):\n",
        "  df=pd.DataFrame(\n",
        "      te.getHistoricalData(country='Mexico', # Pais\n",
        "                          indicator=f'{indicador}',  # indicador\n",
        "                          initDate=f'{fecha}') #fecha inicial\n",
        "      )\n",
        "  return df"
      ],
      "execution_count": null,
      "outputs": []
    },
    {
      "cell_type": "code",
      "metadata": {
        "id": "sI6PSEDNMr8K",
        "colab": {
          "base_uri": "https://localhost:8080/",
          "height": 824
        },
        "outputId": "5e702a8f-29c2-4dc0-8886-7e5cb479b2a6"
      },
      "source": [
        "df=pd.DataFrame(\n",
        "    te.getHistoricalData(country='Mexico', # Pais\n",
        "                        indicator='GDP from Construction',  # indicador\n",
        "                        initDate='2015-01-01') #fecha inicial\n",
        "    )\n",
        "df"
      ],
      "execution_count": null,
      "outputs": [
        {
          "output_type": "execute_result",
          "data": {
            "text/html": [
              "<div>\n",
              "<style scoped>\n",
              "    .dataframe tbody tr th:only-of-type {\n",
              "        vertical-align: middle;\n",
              "    }\n",
              "\n",
              "    .dataframe tbody tr th {\n",
              "        vertical-align: top;\n",
              "    }\n",
              "\n",
              "    .dataframe thead th {\n",
              "        text-align: right;\n",
              "    }\n",
              "</style>\n",
              "<table border=\"1\" class=\"dataframe\">\n",
              "  <thead>\n",
              "    <tr style=\"text-align: right;\">\n",
              "      <th></th>\n",
              "      <th>0</th>\n",
              "    </tr>\n",
              "  </thead>\n",
              "  <tbody>\n",
              "    <tr>\n",
              "      <th>2015-03-31</th>\n",
              "      <td>1188729.0</td>\n",
              "    </tr>\n",
              "    <tr>\n",
              "      <th>2015-06-30</th>\n",
              "      <td>1250424.0</td>\n",
              "    </tr>\n",
              "    <tr>\n",
              "      <th>2015-09-30</th>\n",
              "      <td>1332693.0</td>\n",
              "    </tr>\n",
              "    <tr>\n",
              "      <th>2015-12-31</th>\n",
              "      <td>1301013.0</td>\n",
              "    </tr>\n",
              "    <tr>\n",
              "      <th>2016-03-31</th>\n",
              "      <td>1242246.0</td>\n",
              "    </tr>\n",
              "    <tr>\n",
              "      <th>2016-06-30</th>\n",
              "      <td>1286852.0</td>\n",
              "    </tr>\n",
              "    <tr>\n",
              "      <th>2016-09-30</th>\n",
              "      <td>1284340.0</td>\n",
              "    </tr>\n",
              "    <tr>\n",
              "      <th>2016-12-31</th>\n",
              "      <td>1342243.0</td>\n",
              "    </tr>\n",
              "    <tr>\n",
              "      <th>2017-03-31</th>\n",
              "      <td>1256746.0</td>\n",
              "    </tr>\n",
              "    <tr>\n",
              "      <th>2017-06-30</th>\n",
              "      <td>1249363.0</td>\n",
              "    </tr>\n",
              "    <tr>\n",
              "      <th>2017-09-30</th>\n",
              "      <td>1292040.0</td>\n",
              "    </tr>\n",
              "    <tr>\n",
              "      <th>2017-12-31</th>\n",
              "      <td>1339304.0</td>\n",
              "    </tr>\n",
              "    <tr>\n",
              "      <th>2018-03-31</th>\n",
              "      <td>1289298.0</td>\n",
              "    </tr>\n",
              "    <tr>\n",
              "      <th>2018-06-30</th>\n",
              "      <td>1307458.0</td>\n",
              "    </tr>\n",
              "    <tr>\n",
              "      <th>2018-09-30</th>\n",
              "      <td>1284317.0</td>\n",
              "    </tr>\n",
              "    <tr>\n",
              "      <th>2018-12-31</th>\n",
              "      <td>1265449.0</td>\n",
              "    </tr>\n",
              "    <tr>\n",
              "      <th>2019-03-31</th>\n",
              "      <td>1295981.0</td>\n",
              "    </tr>\n",
              "    <tr>\n",
              "      <th>2019-06-30</th>\n",
              "      <td>1215210.0</td>\n",
              "    </tr>\n",
              "    <tr>\n",
              "      <th>2019-09-30</th>\n",
              "      <td>1195275.0</td>\n",
              "    </tr>\n",
              "    <tr>\n",
              "      <th>2019-12-31</th>\n",
              "      <td>1189465.0</td>\n",
              "    </tr>\n",
              "    <tr>\n",
              "      <th>2020-03-31</th>\n",
              "      <td>1192967.0</td>\n",
              "    </tr>\n",
              "    <tr>\n",
              "      <th>2020-06-30</th>\n",
              "      <td>800832.0</td>\n",
              "    </tr>\n",
              "    <tr>\n",
              "      <th>2020-09-30</th>\n",
              "      <td>983408.0</td>\n",
              "    </tr>\n",
              "    <tr>\n",
              "      <th>2020-12-31</th>\n",
              "      <td>1065482.0</td>\n",
              "    </tr>\n",
              "    <tr>\n",
              "      <th>2021-03-31</th>\n",
              "      <td>1111794.0</td>\n",
              "    </tr>\n",
              "  </tbody>\n",
              "</table>\n",
              "</div>"
            ],
            "text/plain": [
              "                    0\n",
              "2015-03-31  1188729.0\n",
              "2015-06-30  1250424.0\n",
              "2015-09-30  1332693.0\n",
              "2015-12-31  1301013.0\n",
              "2016-03-31  1242246.0\n",
              "2016-06-30  1286852.0\n",
              "2016-09-30  1284340.0\n",
              "2016-12-31  1342243.0\n",
              "2017-03-31  1256746.0\n",
              "2017-06-30  1249363.0\n",
              "2017-09-30  1292040.0\n",
              "2017-12-31  1339304.0\n",
              "2018-03-31  1289298.0\n",
              "2018-06-30  1307458.0\n",
              "2018-09-30  1284317.0\n",
              "2018-12-31  1265449.0\n",
              "2019-03-31  1295981.0\n",
              "2019-06-30  1215210.0\n",
              "2019-09-30  1195275.0\n",
              "2019-12-31  1189465.0\n",
              "2020-03-31  1192967.0\n",
              "2020-06-30   800832.0\n",
              "2020-09-30   983408.0\n",
              "2020-12-31  1065482.0\n",
              "2021-03-31  1111794.0"
            ]
          },
          "metadata": {
            "tags": []
          },
          "execution_count": 6
        }
      ]
    },
    {
      "cell_type": "markdown",
      "metadata": {
        "id": "BrwOhLUqwiRo"
      },
      "source": [
        "#4. Conectar con la hoja de Google Sheet"
      ]
    },
    {
      "cell_type": "code",
      "metadata": {
        "id": "PtCE0IvXc6uq"
      },
      "source": [
        "# N O T A : asegurarse que el archivo .json se encuentra en la carpeta de trabajo\n",
        "\n",
        "scope=['https://www.googleapis.com/auth/spreadsheets',\n",
        "       'https://www.googleapis.com/auth/drive.file',\n",
        "       'https://www.googleapis.com/auth/drive']\n",
        "\n",
        "# indicar el nombre del archivo .json\n",
        "creds=ServiceAccountCredentials.from_json_keyfile_name('credenciales.json',scope)\n",
        "client=gspread.authorize(creds)\n",
        "#sheet.update_cell(10,1,'Hola Mundo!!')"
      ],
      "execution_count": null,
      "outputs": []
    },
    {
      "cell_type": "markdown",
      "metadata": {
        "id": "SUE2B2ppwouj"
      },
      "source": [
        "#5. Guardar la informacion en la hoja de Google Sheets"
      ]
    },
    {
      "cell_type": "code",
      "metadata": {
        "id": "1qOYG2oh9UNR"
      },
      "source": [
        "def pandas_to_sheets(pandas_df, sheet, r=1,c=1):\n",
        "    # Updates all values in a workbook to match a pandas dataframe\n",
        "    #if clear:\n",
        "    #    sheet.clear()\n",
        "    (row, col) = pandas_df.shape\n",
        "    for i in range(row):\n",
        "      print(pandas_df.index[i])\n",
        "      sheet.update_cell(i+r,c,str(pandas_df.index[i]))\n",
        "      for j in range(col):\n",
        "        sheet.update_cell(i+r,j+c+1,pandas_df.iloc[i, j])\n",
        "        "
      ],
      "execution_count": null,
      "outputs": []
    },
    {
      "cell_type": "markdown",
      "metadata": {
        "id": "KRsPc0TbySxO"
      },
      "source": [
        "#6. Ejecutar proceso"
      ]
    },
    {
      "cell_type": "code",
      "metadata": {
        "colab": {
          "base_uri": "https://localhost:8080/"
        },
        "id": "v9Jl7-GF9zCi",
        "outputId": "64772761-e0e3-41d9-b3eb-d1a9e3efd999"
      },
      "source": [
        "hoja='CALCULOS PLANEACIÓN 2022'\n",
        "inicio='2015-01-01' #fecha de inicio con formato aaaa-mm-dd\n",
        "indicadores=['GDP','GDP from construction']\n",
        "tab=[('PIB',2,1),('PIB por actividad',2,1)]\n",
        "\n",
        "for ind,t in zip(indicadores,tab):\n",
        "  #lee informacion de GDP\n",
        "  df=LeeData(indicador=ind,fecha=inicio)\n",
        "\n",
        "  #indicar el nombre de la hoja y la pestana\n",
        "  sheet=client.open(hoja).worksheet(t[0])\n",
        "  #guarda informacion en la hoja\n",
        "  pandas_to_sheets(df, sheet,t[1],t[2])"
      ],
      "execution_count": null,
      "outputs": [
        {
          "output_type": "stream",
          "text": [
            "2015-12-31 00:00:00\n",
            "2016-12-31 00:00:00\n",
            "2017-12-31 00:00:00\n",
            "2018-12-31 00:00:00\n",
            "2019-12-31 00:00:00\n",
            "2020-12-31 00:00:00\n"
          ],
          "name": "stdout"
        }
      ]
    }
  ]
}