{
  "nbformat": 4,
  "nbformat_minor": 0,
  "metadata": {
    "colab": {
      "name": "GSpreadSheets.ipynb",
      "provenance": [],
      "authorship_tag": "ABX9TyMMEPrqIBESEdpaIRgXV1sb",
      "include_colab_link": true
    },
    "kernelspec": {
      "name": "python3",
      "display_name": "Python 3"
    },
    "language_info": {
      "name": "python"
    }
  },
  "cells": [
    {
      "cell_type": "markdown",
      "metadata": {
        "id": "view-in-github",
        "colab_type": "text"
      },
      "source": [
        "<a href=\"https://colab.research.google.com/github/jcjimenezb123/ProgramacionPython/blob/master/GSpreadSheets.ipynb\" target=\"_parent\"><img src=\"https://colab.research.google.com/assets/colab-badge.svg\" alt=\"Open In Colab\"/></a>"
      ]
    },
    {
      "cell_type": "code",
      "metadata": {
        "id": "YcB9fWZrbUTz"
      },
      "source": [
        "# import necessary libraries\n",
        "import gspread\n",
        "from oauth2client.service_account import ServiceAccountCredentials"
      ],
      "execution_count": 1,
      "outputs": []
    },
    {
      "cell_type": "code",
      "metadata": {
        "colab": {
          "base_uri": "https://localhost:8080/"
        },
        "id": "VFrMXDKlbXhd",
        "outputId": "50694be3-035d-45b7-8485-3200a3fe6916"
      },
      "source": [
        "scope=['https://www.googleapis.com/auth/spreadsheets',\n",
        "       'https://www.googleapis.com/auth/drive.file',\n",
        "       'https://www.googleapis.com/auth/drive']\n",
        "       \n",
        "creds=ServiceAccountCredentials.from_json_keyfile_name('credentials.json',scope)\n",
        "client=gspread.authorize(creds)\n",
        "\n",
        "datos=client.open('GSS1').worksheet('MisDatos')\n",
        "datos.update_cell(12,1,'Hola Mundo!!')"
      ],
      "execution_count": 2,
      "outputs": [
        {
          "output_type": "execute_result",
          "data": {
            "text/plain": [
              "{'spreadsheetId': '1sjvno46lSPr4zMNbHH8faNfHIEVBwD1bTM-zcLI604A',\n",
              " 'updatedCells': 1,\n",
              " 'updatedColumns': 1,\n",
              " 'updatedRange': 'MisDatos!A12',\n",
              " 'updatedRows': 1}"
            ]
          },
          "metadata": {
            "tags": []
          },
          "execution_count": 2
        }
      ]
    }
  ]
}