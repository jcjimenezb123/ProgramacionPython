{
  "nbformat": 4,
  "nbformat_minor": 0,
  "metadata": {
    "colab": {
      "name": "LambdaMapFilterReduce.ipynb",
      "provenance": [],
      "collapsed_sections": [],
      "authorship_tag": "ABX9TyM63IP60B0oOMDRjjOU0tO/",
      "include_colab_link": true
    },
    "kernelspec": {
      "name": "python3",
      "display_name": "Python 3"
    },
    "language_info": {
      "name": "python"
    }
  },
  "cells": [
    {
      "cell_type": "markdown",
      "metadata": {
        "id": "view-in-github",
        "colab_type": "text"
      },
      "source": [
        "<a href=\"https://colab.research.google.com/github/jcjimenezb123/ProgramacionPython/blob/master/LambdaMapFilterReduce.ipynb\" target=\"_parent\"><img src=\"https://colab.research.google.com/assets/colab-badge.svg\" alt=\"Open In Colab\"/></a>"
      ]
    },
    {
      "cell_type": "markdown",
      "metadata": {
        "id": "M4RzzRFqQdG-"
      },
      "source": [
        "##Funciones Lambda"
      ]
    },
    {
      "cell_type": "code",
      "metadata": {
        "id": "6dr6tQKTQcQZ"
      },
      "source": [
        "def f(x):\n",
        "  return 2*x"
      ],
      "execution_count": null,
      "outputs": []
    },
    {
      "cell_type": "code",
      "metadata": {
        "id": "l6URILMZQrFZ"
      },
      "source": [
        "lf=lambda x:2*x"
      ],
      "execution_count": null,
      "outputs": []
    },
    {
      "cell_type": "code",
      "metadata": {
        "colab": {
          "base_uri": "https://localhost:8080/"
        },
        "id": "r2PqRwODRFfK",
        "outputId": "9915b589-6d07-41be-a8fe-462ea10b7963"
      },
      "source": [
        "print(lf(5))"
      ],
      "execution_count": null,
      "outputs": [
        {
          "output_type": "stream",
          "text": [
            "10\n"
          ],
          "name": "stdout"
        }
      ]
    },
    {
      "cell_type": "code",
      "metadata": {
        "colab": {
          "base_uri": "https://localhost:8080/"
        },
        "id": "ikj7ErE3RJwz",
        "outputId": "36d4ba39-6266-45c7-acff-81b32f0d4801"
      },
      "source": [
        "print(f(5))"
      ],
      "execution_count": null,
      "outputs": [
        {
          "output_type": "stream",
          "text": [
            "10\n"
          ],
          "name": "stdout"
        }
      ]
    },
    {
      "cell_type": "code",
      "metadata": {
        "id": "0aD434LhRMZv"
      },
      "source": [
        "def f2(x,y):\n",
        "  return x+y"
      ],
      "execution_count": null,
      "outputs": []
    },
    {
      "cell_type": "code",
      "metadata": {
        "id": "wj7_QtA_RTbN"
      },
      "source": [
        "lf2=lambda x,y:x+y"
      ],
      "execution_count": null,
      "outputs": []
    },
    {
      "cell_type": "code",
      "metadata": {
        "colab": {
          "base_uri": "https://localhost:8080/"
        },
        "id": "-Zby19nXRYLR",
        "outputId": "2b7f8a2e-da2c-4a21-ff49-980ee2a9bafa"
      },
      "source": [
        "print(f2(1,2),lf2(1,2))"
      ],
      "execution_count": null,
      "outputs": [
        {
          "output_type": "stream",
          "text": [
            "3 3\n"
          ],
          "name": "stdout"
        }
      ]
    },
    {
      "cell_type": "markdown",
      "metadata": {
        "id": "MdsFDyXMRo4Y"
      },
      "source": [
        "##Map\n",
        "list[a,b,c]\n",
        "Function f() --> map --> list [f(a),f(b),f(c)]"
      ]
    },
    {
      "cell_type": "code",
      "metadata": {
        "id": "VLBMmNZORdwf"
      },
      "source": [
        "def cuadrado(lista1):\n",
        "  lista2=[]\n",
        "  for num in lista1:\n",
        "    lista2.append(num**2)\n",
        "  return lista2"
      ],
      "execution_count": null,
      "outputs": []
    },
    {
      "cell_type": "code",
      "metadata": {
        "colab": {
          "base_uri": "https://localhost:8080/"
        },
        "id": "bTSrPmezSeTF",
        "outputId": "a009d07f-0263-4a2e-9a83-9eb167a7e4a4"
      },
      "source": [
        "n=[1,2,3,4]\n",
        "print(cuadrado(n))"
      ],
      "execution_count": null,
      "outputs": [
        {
          "output_type": "stream",
          "text": [
            "[1, 4, 9, 16]\n"
          ],
          "name": "stdout"
        }
      ]
    },
    {
      "cell_type": "code",
      "metadata": {
        "colab": {
          "base_uri": "https://localhost:8080/"
        },
        "id": "c3cSLhMjpnvG",
        "outputId": "2975f2e9-5d40-4764-e471-7bbc2d9eb2eb"
      },
      "source": [
        "def cuadrado2(x):\n",
        "  return x**2\n",
        "print(list(map(cuadrado2,n)))"
      ],
      "execution_count": null,
      "outputs": [
        {
          "output_type": "stream",
          "text": [
            "[1, 4, 9, 16]\n"
          ],
          "name": "stdout"
        }
      ]
    },
    {
      "cell_type": "code",
      "metadata": {
        "colab": {
          "base_uri": "https://localhost:8080/"
        },
        "id": "kcrS4VU3Tv0Q",
        "outputId": "426e6e5f-fa9c-4394-d4d6-74244999e192"
      },
      "source": [
        "print(list(map(lambda x:x**2,n)))"
      ],
      "execution_count": null,
      "outputs": [
        {
          "output_type": "stream",
          "text": [
            "[1, 4, 9, 16]\n"
          ],
          "name": "stdout"
        }
      ]
    },
    {
      "cell_type": "code",
      "metadata": {
        "colab": {
          "base_uri": "https://localhost:8080/"
        },
        "id": "AqZdFtrqV7EB",
        "outputId": "e3a587d3-f92f-491b-ba8c-3265c1115009"
      },
      "source": [
        "print([x**2 for x in n])"
      ],
      "execution_count": null,
      "outputs": [
        {
          "output_type": "stream",
          "text": [
            "[1, 4, 9, 16]\n"
          ],
          "name": "stdout"
        }
      ]
    },
    {
      "cell_type": "markdown",
      "metadata": {
        "id": "TPoWM1x-aNQn"
      },
      "source": [
        "##Filter\n",
        "\n",
        "List [x,y,z] condicion c() -->filter--> list[x,z]"
      ]
    },
    {
      "cell_type": "code",
      "metadata": {
        "id": "WbI2oVTUagvM"
      },
      "source": [
        "def mayor2(lista1):\n",
        "  lista2=[]\n",
        "  for num in lista1:\n",
        "    if num>2:\n",
        "      lista2.append(num)\n",
        "  return lista2"
      ],
      "execution_count": null,
      "outputs": []
    },
    {
      "cell_type": "code",
      "metadata": {
        "colab": {
          "base_uri": "https://localhost:8080/"
        },
        "id": "ZUQe8gaqbF6i",
        "outputId": "72884647-569f-4a86-c8fb-2ca75c2ee00b"
      },
      "source": [
        "n=[4,3,2,1]\n",
        "print(mayor2(n))"
      ],
      "execution_count": null,
      "outputs": [
        {
          "output_type": "stream",
          "text": [
            "[4, 3]\n"
          ],
          "name": "stdout"
        }
      ]
    },
    {
      "cell_type": "code",
      "metadata": {
        "colab": {
          "base_uri": "https://localhost:8080/"
        },
        "id": "7x8YrgTAbNCH",
        "outputId": "22dcaebe-67f0-4c20-8cd5-94a73f0d8605"
      },
      "source": [
        "print(list(filter(lambda x:x>2,n)))"
      ],
      "execution_count": null,
      "outputs": [
        {
          "output_type": "stream",
          "text": [
            "[4, 3]\n"
          ],
          "name": "stdout"
        }
      ]
    },
    {
      "cell_type": "code",
      "metadata": {
        "colab": {
          "base_uri": "https://localhost:8080/"
        },
        "id": "tQMlguTLbVm1",
        "outputId": "d28a62f4-5642-482a-ad3e-83a7d716a532"
      },
      "source": [
        "print([x for x in n if x>2])"
      ],
      "execution_count": null,
      "outputs": [
        {
          "output_type": "stream",
          "text": [
            "[4, 3]\n"
          ],
          "name": "stdout"
        }
      ]
    },
    {
      "cell_type": "markdown",
      "metadata": {
        "id": "wsR4A4cwb1xd"
      },
      "source": [
        "##reduce\n",
        " list[x,y,z] function f()-->reduce-->f(f(x,y),z)"
      ]
    },
    {
      "cell_type": "code",
      "metadata": {
        "id": "B-4Dm_6vbb4n"
      },
      "source": [
        "def mult(lista1):\n",
        "  p=lista1[0]\n",
        "  for i in range(1,len(lista1)):\n",
        "    p*=lista1[i]\n",
        "  return p"
      ],
      "execution_count": null,
      "outputs": []
    },
    {
      "cell_type": "code",
      "metadata": {
        "colab": {
          "base_uri": "https://localhost:8080/"
        },
        "id": "WC1FNwH2cZgl",
        "outputId": "0277c622-7c01-4eea-f374-88250a7c796a"
      },
      "source": [
        "print(mult([4,3,2,1]))"
      ],
      "execution_count": null,
      "outputs": [
        {
          "output_type": "stream",
          "text": [
            "24\n"
          ],
          "name": "stdout"
        }
      ]
    },
    {
      "cell_type": "code",
      "metadata": {
        "colab": {
          "base_uri": "https://localhost:8080/"
        },
        "id": "YMdwtkB6cjM6",
        "outputId": "ae63c34a-bae2-43de-b3ba-1ec480cd8372"
      },
      "source": [
        "from functools import reduce\n",
        "n=[4,3,2,1]\n",
        "print(reduce(lambda x,y:x*y,n))"
      ],
      "execution_count": null,
      "outputs": [
        {
          "output_type": "stream",
          "text": [
            "24\n"
          ],
          "name": "stdout"
        }
      ]
    },
    {
      "cell_type": "markdown",
      "metadata": {
        "id": "ky8zcGBN3gOO"
      },
      "source": [
        "filtrar los elementos mayor o igual a 4 y aplicar el cuadrado a cada uno"
      ]
    },
    {
      "cell_type": "code",
      "metadata": {
        "colab": {
          "base_uri": "https://localhost:8080/"
        },
        "id": "P67g34WFctng",
        "outputId": "0bb81927-d40b-4fca-aa77-6df8610664d3"
      },
      "source": [
        "c=map(lambda x:x**2,filter(lambda x:(x>=4),[1,2,3,4,5]))\n",
        "print(list(c))"
      ],
      "execution_count": null,
      "outputs": [
        {
          "output_type": "stream",
          "text": [
            "[16, 25]\n"
          ],
          "name": "stdout"
        }
      ]
    },
    {
      "cell_type": "markdown",
      "metadata": {
        "id": "UNZ4P6-Y3psj"
      },
      "source": [
        "aplicar el cuadrado a cada elemento y filtrar aquellos donde su cuadrado sea mayor a 5"
      ]
    },
    {
      "cell_type": "code",
      "metadata": {
        "colab": {
          "base_uri": "https://localhost:8080/"
        },
        "id": "onQmQKFt3BRG",
        "outputId": "bdfdd22f-4043-4330-b2dd-3e19dbc1d660"
      },
      "source": [
        "c=filter(lambda x:x>5,map(lambda x:x**2,[1,2,3,4,5]))\n",
        "print(list(c))"
      ],
      "execution_count": 2,
      "outputs": [
        {
          "output_type": "stream",
          "text": [
            "[9, 16, 25]\n"
          ],
          "name": "stdout"
        }
      ]
    },
    {
      "cell_type": "code",
      "metadata": {
        "id": "7E6P6gXW3ZV6"
      },
      "source": [
        ""
      ],
      "execution_count": null,
      "outputs": []
    }
  ]
}