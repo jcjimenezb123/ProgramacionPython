{
  "nbformat": 4,
  "nbformat_minor": 0,
  "metadata": {
    "colab": {
      "name": "Untitled19.ipynb",
      "provenance": [],
      "include_colab_link": true
    },
    "kernelspec": {
      "name": "python3",
      "display_name": "Python 3"
    },
    "language_info": {
      "name": "python"
    }
  },
  "cells": [
    {
      "cell_type": "markdown",
      "metadata": {
        "id": "view-in-github",
        "colab_type": "text"
      },
      "source": [
        "<a href=\"https://colab.research.google.com/github/jcjimenezb123/ProgramacionPython/blob/master/MHW.ipynb\" target=\"_parent\"><img src=\"https://colab.research.google.com/assets/colab-badge.svg\" alt=\"Open In Colab\"/></a>"
      ]
    },
    {
      "cell_type": "code",
      "metadata": {
        "colab": {
          "base_uri": "https://localhost:8080/"
        },
        "id": "Cy5Eaid5tYfw",
        "outputId": "d5473e47-c23c-4406-afce-1878ee7ad6e7"
      },
      "source": [
        "!pip install tradingeconomics"
      ],
      "execution_count": 59,
      "outputs": [
        {
          "output_type": "stream",
          "text": [
            "Requirement already satisfied: tradingeconomics in /usr/local/lib/python3.7/dist-packages (0.2.981)\n",
            "Requirement already satisfied: websocket-client in /usr/local/lib/python3.7/dist-packages (from tradingeconomics) (1.1.0)\n",
            "Requirement already satisfied: pandas in /usr/local/lib/python3.7/dist-packages (from tradingeconomics) (1.1.5)\n",
            "Requirement already satisfied: numpy>=1.15.4 in /usr/local/lib/python3.7/dist-packages (from pandas->tradingeconomics) (1.19.5)\n",
            "Requirement already satisfied: python-dateutil>=2.7.3 in /usr/local/lib/python3.7/dist-packages (from pandas->tradingeconomics) (2.8.1)\n",
            "Requirement already satisfied: pytz>=2017.2 in /usr/local/lib/python3.7/dist-packages (from pandas->tradingeconomics) (2018.9)\n",
            "Requirement already satisfied: six>=1.5 in /usr/local/lib/python3.7/dist-packages (from python-dateutil>=2.7.3->pandas->tradingeconomics) (1.15.0)\n"
          ],
          "name": "stdout"
        }
      ]
    },
    {
      "cell_type": "code",
      "metadata": {
        "id": "-Y3cJHl4v4xE"
      },
      "source": [
        "import pandas as pd"
      ],
      "execution_count": 68,
      "outputs": []
    },
    {
      "cell_type": "code",
      "metadata": {
        "id": "zK0ypY1XtGSV"
      },
      "source": [
        "import tradingeconomics as te\n",
        "te.login('guest:guest')\n",
        "df=pd.DataFrame(\n",
        "    te.getHistoricalData(country='Mexico', \n",
        "                         indicator='GDP', \n",
        "                         initDate='2010-01-01')\n",
        "    )\n",
        "#te.getHistoricalData((country='Mexico',indicator='Imports', \n",
        "#                         initDate='2010-01-01')"
      ],
      "execution_count": 77,
      "outputs": []
    },
    {
      "cell_type": "code",
      "metadata": {
        "colab": {
          "base_uri": "https://localhost:8080/",
          "height": 359
        },
        "id": "nJOpOkNixBmU",
        "outputId": "2d281d1c-487c-48f3-ded9-d2cc1ba5f8a0"
      },
      "source": [
        "df.head(10)"
      ],
      "execution_count": 78,
      "outputs": [
        {
          "output_type": "execute_result",
          "data": {
            "text/html": [
              "<div>\n",
              "<style scoped>\n",
              "    .dataframe tbody tr th:only-of-type {\n",
              "        vertical-align: middle;\n",
              "    }\n",
              "\n",
              "    .dataframe tbody tr th {\n",
              "        vertical-align: top;\n",
              "    }\n",
              "\n",
              "    .dataframe thead th {\n",
              "        text-align: right;\n",
              "    }\n",
              "</style>\n",
              "<table border=\"1\" class=\"dataframe\">\n",
              "  <thead>\n",
              "    <tr style=\"text-align: right;\">\n",
              "      <th></th>\n",
              "      <th>0</th>\n",
              "    </tr>\n",
              "  </thead>\n",
              "  <tbody>\n",
              "    <tr>\n",
              "      <th>2011-12-31</th>\n",
              "      <td>1180.49</td>\n",
              "    </tr>\n",
              "    <tr>\n",
              "      <th>2012-12-31</th>\n",
              "      <td>1201.09</td>\n",
              "    </tr>\n",
              "    <tr>\n",
              "      <th>2013-12-31</th>\n",
              "      <td>1274.44</td>\n",
              "    </tr>\n",
              "    <tr>\n",
              "      <th>2014-12-31</th>\n",
              "      <td>1315.35</td>\n",
              "    </tr>\n",
              "    <tr>\n",
              "      <th>2015-12-31</th>\n",
              "      <td>1171.87</td>\n",
              "    </tr>\n",
              "    <tr>\n",
              "      <th>2016-12-31</th>\n",
              "      <td>1078.49</td>\n",
              "    </tr>\n",
              "    <tr>\n",
              "      <th>2017-12-31</th>\n",
              "      <td>1158.91</td>\n",
              "    </tr>\n",
              "    <tr>\n",
              "      <th>2018-12-31</th>\n",
              "      <td>1222.35</td>\n",
              "    </tr>\n",
              "    <tr>\n",
              "      <th>2019-12-31</th>\n",
              "      <td>1268.87</td>\n",
              "    </tr>\n",
              "    <tr>\n",
              "      <th>2020-12-31</th>\n",
              "      <td>1076.16</td>\n",
              "    </tr>\n",
              "  </tbody>\n",
              "</table>\n",
              "</div>"
            ],
            "text/plain": [
              "                  0\n",
              "2011-12-31  1180.49\n",
              "2012-12-31  1201.09\n",
              "2013-12-31  1274.44\n",
              "2014-12-31  1315.35\n",
              "2015-12-31  1171.87\n",
              "2016-12-31  1078.49\n",
              "2017-12-31  1158.91\n",
              "2018-12-31  1222.35\n",
              "2019-12-31  1268.87\n",
              "2020-12-31  1076.16"
            ]
          },
          "metadata": {
            "tags": []
          },
          "execution_count": 78
        }
      ]
    },
    {
      "cell_type": "code",
      "metadata": {
        "id": "zYP4b-P4wc6c"
      },
      "source": [
        "df.to_excel('CALCULOS PLANEACIÓN 2022.xlsx',\n",
        "            sheet_name='PIB',\n",
        "            startrow=3,startcol=2)"
      ],
      "execution_count": 71,
      "outputs": []
    },
    {
      "cell_type": "code",
      "metadata": {
        "id": "xdJCwmpsc1mV"
      },
      "source": [
        "# import necessary libraries\n",
        "import gspread\n",
        "from oauth2client.service_account import ServiceAccountCredentials"
      ],
      "execution_count": 72,
      "outputs": []
    },
    {
      "cell_type": "code",
      "metadata": {
        "id": "PtCE0IvXc6uq"
      },
      "source": [
        "scope=['https://www.googleapis.com/auth/spreadsheets',\n",
        "       'https://www.googleapis.com/auth/drive.file',\n",
        "       'https://www.googleapis.com/auth/drive']\n",
        "       \n",
        "creds=ServiceAccountCredentials.from_json_keyfile_name('credentials.json',scope)\n",
        "client=gspread.authorize(creds)\n",
        "\n",
        "sheet=client.open('GSS1').worksheet('MisDatos')\n",
        "\n",
        "#sheet.update_cell(10,1,'Hola Mundo!!')\n",
        "\n"
      ],
      "execution_count": 73,
      "outputs": []
    },
    {
      "cell_type": "code",
      "metadata": {
        "id": "IsdI_bBaeLWc"
      },
      "source": [
        "from gspread_dataframe import set_with_dataframe"
      ],
      "execution_count": 74,
      "outputs": []
    },
    {
      "cell_type": "code",
      "metadata": {
        "id": "O8jvwPmBecQC"
      },
      "source": [
        "# APPEND DATA TO SHEET\n",
        "set_with_dataframe(datos, df) "
      ],
      "execution_count": null,
      "outputs": []
    },
    {
      "cell_type": "code",
      "metadata": {
        "id": "1qOYG2oh9UNR"
      },
      "source": [
        "def pandas_to_sheets(pandas_df, sheet, clear = True):\n",
        "    # Updates all values in a workbook to match a pandas dataframe\n",
        "    if clear:\n",
        "        sheet.clear()\n",
        "    (row, col) = pandas_df.shape\n",
        "    for i in range(row):\n",
        "      print(pandas_df.index[i])\n",
        "      sheet.update_cell(i+1,1,str(pandas_df.index[i]))\n",
        "      for j in range(col):\n",
        "        sheet.update_cell(i+1,j+2,pandas_df.iloc[i, j])\n",
        "        "
      ],
      "execution_count": 95,
      "outputs": []
    },
    {
      "cell_type": "code",
      "metadata": {
        "colab": {
          "base_uri": "https://localhost:8080/"
        },
        "id": "v9Jl7-GF9zCi",
        "outputId": "7532b650-a0f3-42af-8aac-bee9f6a3ddd9"
      },
      "source": [
        "pandas_to_sheets(df, sheet)"
      ],
      "execution_count": 96,
      "outputs": [
        {
          "output_type": "stream",
          "text": [
            "2011-12-31 00:00:00\n",
            "2012-12-31 00:00:00\n",
            "2013-12-31 00:00:00\n",
            "2014-12-31 00:00:00\n",
            "2015-12-31 00:00:00\n",
            "2016-12-31 00:00:00\n",
            "2017-12-31 00:00:00\n",
            "2018-12-31 00:00:00\n",
            "2019-12-31 00:00:00\n",
            "2020-12-31 00:00:00\n"
          ],
          "name": "stdout"
        }
      ]
    }
  ]
}