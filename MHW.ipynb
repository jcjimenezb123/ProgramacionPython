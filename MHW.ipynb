{
  "nbformat": 4,
  "nbformat_minor": 0,
  "metadata": {
    "colab": {
      "name": "Untitled19.ipynb",
      "provenance": [],
      "authorship_tag": "ABX9TyN9NTm7Zfqed73OGzoaYYF/",
      "include_colab_link": true
    },
    "kernelspec": {
      "name": "python3",
      "display_name": "Python 3"
    },
    "language_info": {
      "name": "python"
    }
  },
  "cells": [
    {
      "cell_type": "markdown",
      "metadata": {
        "id": "view-in-github",
        "colab_type": "text"
      },
      "source": [
        "<a href=\"https://colab.research.google.com/github/jcjimenezb123/ProgramacionPython/blob/master/MHW.ipynb\" target=\"_parent\"><img src=\"https://colab.research.google.com/assets/colab-badge.svg\" alt=\"Open In Colab\"/></a>"
      ]
    },
    {
      "cell_type": "code",
      "metadata": {
        "colab": {
          "base_uri": "https://localhost:8080/"
        },
        "id": "Cy5Eaid5tYfw",
        "outputId": "0fd7f23f-c5a2-49a2-c4cb-890c533a4909"
      },
      "source": [
        "!pip install tradingeconomics"
      ],
      "execution_count": 3,
      "outputs": [
        {
          "output_type": "stream",
          "text": [
            "Collecting tradingeconomics\n",
            "\u001b[?25l  Downloading https://files.pythonhosted.org/packages/60/4c/cdec55f769f077e1b97c737b660cc34d6da12fc86c4a09916672e2a1ad11/tradingeconomics-0.2.981-py3-none-any.whl (40kB)\n",
            "\u001b[K     |████████████████████████████████| 40kB 3.3MB/s \n",
            "\u001b[?25hRequirement already satisfied: pandas in /usr/local/lib/python3.7/dist-packages (from tradingeconomics) (1.1.5)\n",
            "Collecting websocket-client\n",
            "\u001b[?25l  Downloading https://files.pythonhosted.org/packages/ca/5f/3c211d168b2e9f9342cfb53bcfc26aab0eac63b998015e7af7bcae66119d/websocket_client-1.1.0-py2.py3-none-any.whl (68kB)\n",
            "\u001b[K     |████████████████████████████████| 71kB 3.7MB/s \n",
            "\u001b[?25hRequirement already satisfied: numpy>=1.15.4 in /usr/local/lib/python3.7/dist-packages (from pandas->tradingeconomics) (1.19.5)\n",
            "Requirement already satisfied: pytz>=2017.2 in /usr/local/lib/python3.7/dist-packages (from pandas->tradingeconomics) (2018.9)\n",
            "Requirement already satisfied: python-dateutil>=2.7.3 in /usr/local/lib/python3.7/dist-packages (from pandas->tradingeconomics) (2.8.1)\n",
            "Requirement already satisfied: six>=1.5 in /usr/local/lib/python3.7/dist-packages (from python-dateutil>=2.7.3->pandas->tradingeconomics) (1.15.0)\n",
            "Installing collected packages: websocket-client, tradingeconomics\n",
            "Successfully installed tradingeconomics-0.2.981 websocket-client-1.1.0\n"
          ],
          "name": "stdout"
        }
      ]
    },
    {
      "cell_type": "code",
      "metadata": {
        "id": "-Y3cJHl4v4xE"
      },
      "source": [
        "import pandas as pd\n",
        "\n",
        "df=pd.DataFrame()"
      ],
      "execution_count": 12,
      "outputs": []
    },
    {
      "cell_type": "code",
      "metadata": {
        "id": "zK0ypY1XtGSV"
      },
      "source": [
        "import tradingeconomics as te\n",
        "te.login('guest:guest')\n",
        "df=pd.DataFrame(\n",
        "    te.getHistoricalData(country='Mexico', \n",
        "                         indicator='GDP', \n",
        "                         initDate='2010-01-01')\n",
        "    )\n",
        "#te.getHistoricalData((country='Mexico',indicator='Imports', \n",
        "#                         initDate='2010-01-01')"
      ],
      "execution_count": 34,
      "outputs": []
    },
    {
      "cell_type": "code",
      "metadata": {
        "colab": {
          "base_uri": "https://localhost:8080/",
          "height": 362
        },
        "id": "nJOpOkNixBmU",
        "outputId": "49ce34c4-9691-40d1-dbcd-a042b94dabf2"
      },
      "source": [
        "df.head(10)"
      ],
      "execution_count": 35,
      "outputs": [
        {
          "output_type": "execute_result",
          "data": {
            "text/html": [
              "<div>\n",
              "<style scoped>\n",
              "    .dataframe tbody tr th:only-of-type {\n",
              "        vertical-align: middle;\n",
              "    }\n",
              "\n",
              "    .dataframe tbody tr th {\n",
              "        vertical-align: top;\n",
              "    }\n",
              "\n",
              "    .dataframe thead th {\n",
              "        text-align: right;\n",
              "    }\n",
              "</style>\n",
              "<table border=\"1\" class=\"dataframe\">\n",
              "  <thead>\n",
              "    <tr style=\"text-align: right;\">\n",
              "      <th></th>\n",
              "      <th>0</th>\n",
              "    </tr>\n",
              "  </thead>\n",
              "  <tbody>\n",
              "    <tr>\n",
              "      <th>2011-12-31</th>\n",
              "      <td>1180.49</td>\n",
              "    </tr>\n",
              "    <tr>\n",
              "      <th>2012-12-31</th>\n",
              "      <td>1201.09</td>\n",
              "    </tr>\n",
              "    <tr>\n",
              "      <th>2013-12-31</th>\n",
              "      <td>1274.44</td>\n",
              "    </tr>\n",
              "    <tr>\n",
              "      <th>2014-12-31</th>\n",
              "      <td>1315.35</td>\n",
              "    </tr>\n",
              "    <tr>\n",
              "      <th>2015-12-31</th>\n",
              "      <td>1171.87</td>\n",
              "    </tr>\n",
              "    <tr>\n",
              "      <th>2016-12-31</th>\n",
              "      <td>1078.49</td>\n",
              "    </tr>\n",
              "    <tr>\n",
              "      <th>2017-12-31</th>\n",
              "      <td>1158.91</td>\n",
              "    </tr>\n",
              "    <tr>\n",
              "      <th>2018-12-31</th>\n",
              "      <td>1222.35</td>\n",
              "    </tr>\n",
              "    <tr>\n",
              "      <th>2019-12-31</th>\n",
              "      <td>1268.87</td>\n",
              "    </tr>\n",
              "    <tr>\n",
              "      <th>2020-12-31</th>\n",
              "      <td>1076.16</td>\n",
              "    </tr>\n",
              "  </tbody>\n",
              "</table>\n",
              "</div>"
            ],
            "text/plain": [
              "                  0\n",
              "2011-12-31  1180.49\n",
              "2012-12-31  1201.09\n",
              "2013-12-31  1274.44\n",
              "2014-12-31  1315.35\n",
              "2015-12-31  1171.87\n",
              "2016-12-31  1078.49\n",
              "2017-12-31  1158.91\n",
              "2018-12-31  1222.35\n",
              "2019-12-31  1268.87\n",
              "2020-12-31  1076.16"
            ]
          },
          "metadata": {
            "tags": []
          },
          "execution_count": 35
        }
      ]
    },
    {
      "cell_type": "code",
      "metadata": {
        "id": "zYP4b-P4wc6c"
      },
      "source": [
        "df.to_excel('CALCULOS PLANEACIÓN 2022.xlsx',\n",
        "            sheet_name='PIB',\n",
        "            startrow=3,startcol=2)"
      ],
      "execution_count": 36,
      "outputs": []
    }
  ]
}