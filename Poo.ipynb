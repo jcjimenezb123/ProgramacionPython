{
  "nbformat": 4,
  "nbformat_minor": 0,
  "metadata": {
    "colab": {
      "name": "Poo.ipynb",
      "provenance": [],
      "collapsed_sections": [],
      "authorship_tag": "ABX9TyNaKDfrGjgTxYGan5kwlay1",
      "include_colab_link": true
    },
    "kernelspec": {
      "name": "python3",
      "display_name": "Python 3"
    },
    "language_info": {
      "name": "python"
    }
  },
  "cells": [
    {
      "cell_type": "markdown",
      "metadata": {
        "id": "view-in-github",
        "colab_type": "text"
      },
      "source": [
        "<a href=\"https://colab.research.google.com/github/jcjimenezb123/ProgramacionPython/blob/master/Poo.ipynb\" target=\"_parent\"><img src=\"https://colab.research.google.com/assets/colab-badge.svg\" alt=\"Open In Colab\"/></a>"
      ]
    },
    {
      "cell_type": "code",
      "metadata": {
        "id": "Ytst_MnzegLo"
      },
      "source": [
        "class Punto():\n",
        "  x=0\n",
        "  y=0"
      ],
      "execution_count": 4,
      "outputs": []
    },
    {
      "cell_type": "code",
      "metadata": {
        "colab": {
          "base_uri": "https://localhost:8080/"
        },
        "id": "0TMVNsL-exx2",
        "outputId": "d6b59954-98de-4597-edbf-18c7a68b9b1f"
      },
      "source": [
        "p=Punto()\n",
        "print(p.x,p.y)\n",
        "\n",
        "print(p)\n",
        "print(Punto)\n",
        "\n",
        "print(type(p))\n",
        "print(type(Punto))"
      ],
      "execution_count": 13,
      "outputs": [
        {
          "output_type": "stream",
          "text": [
            "0 0\n",
            "<__main__.Punto object at 0x7f7003e43910>\n",
            "<class '__main__.Punto'>\n",
            "<class '__main__.Punto'>\n",
            "<class 'type'>\n"
          ],
          "name": "stdout"
        }
      ]
    },
    {
      "cell_type": "code",
      "metadata": {
        "id": "1htbk46_SHfZ"
      },
      "source": [
        "import numpy as np\n",
        "\n",
        "class Punto():\n",
        "  def __init__(self,x,y):\n",
        "    self.x=x\n",
        "    self.y=y\n",
        "  def __str__(self):\n",
        "    return f'P({self.x},{self.y})'\n",
        "  def distancia_con(self,otropunto):\n",
        "    d=np.sqrt((otropunto.y-self.y)**2+(otropunto.x-self.x)**2)\n",
        "    return d\n",
        "  def punto_medio(self,otropunto):\n",
        "    xm=(self.x+otropunto.x)/2\n",
        "    ym=(self.y+otropunto.y)/2\n",
        "    return Punto(xm,ym)"
      ],
      "execution_count": 26,
      "outputs": []
    },
    {
      "cell_type": "code",
      "metadata": {
        "colab": {
          "base_uri": "https://localhost:8080/"
        },
        "id": "Sa0lq8TBqerq",
        "outputId": "5f25f9ce-9dd1-4da9-f65c-f1861d58f421"
      },
      "source": [
        "p=Punto(3.1416,1.4142)\n",
        "\n",
        "print(p.y)"
      ],
      "execution_count": 30,
      "outputs": [
        {
          "output_type": "stream",
          "text": [
            "1.4142\n"
          ],
          "name": "stdout"
        }
      ]
    },
    {
      "cell_type": "code",
      "metadata": {
        "colab": {
          "base_uri": "https://localhost:8080/"
        },
        "id": "utQ69mjwS-F5",
        "outputId": "f3b386e9-d59b-4f82-ca56-ec15ab4e77aa"
      },
      "source": [
        "pA=Punto(0,0)\n",
        "pB=Punto(1,1)\n",
        "print(pA)\n",
        "print(pB)"
      ],
      "execution_count": null,
      "outputs": [
        {
          "output_type": "stream",
          "text": [
            "P(0,0)\n",
            "P(1,1)\n"
          ],
          "name": "stdout"
        }
      ]
    },
    {
      "cell_type": "code",
      "metadata": {
        "colab": {
          "base_uri": "https://localhost:8080/"
        },
        "id": "nI24yndjTkU8",
        "outputId": "e9d0bcc7-916b-49b6-96dd-f66d6b479eb1"
      },
      "source": [
        "pA.distancia_con(pB)"
      ],
      "execution_count": null,
      "outputs": [
        {
          "output_type": "execute_result",
          "data": {
            "text/plain": [
              "1.4142135623730951"
            ]
          },
          "metadata": {
            "tags": []
          },
          "execution_count": 6
        }
      ]
    },
    {
      "cell_type": "code",
      "metadata": {
        "colab": {
          "base_uri": "https://localhost:8080/"
        },
        "id": "-C6y0Xima2E1",
        "outputId": "a47c962b-2764-422b-8a8d-6a955a2d6e50"
      },
      "source": [
        "pm=pA.punto_medio(pB)\n",
        "print(pm)"
      ],
      "execution_count": null,
      "outputs": [
        {
          "output_type": "stream",
          "text": [
            "P(0.5,0.5)\n"
          ],
          "name": "stdout"
        }
      ]
    },
    {
      "cell_type": "code",
      "metadata": {
        "id": "xKjPuljaJJzQ",
        "colab": {
          "base_uri": "https://localhost:8080/"
        },
        "outputId": "7ff9c582-0a40-401d-b5ed-7c24c794a2b6"
      },
      "source": [
        "class Rectangulo():\n",
        "  def __init__(self,PuntoA,PuntoB):\n",
        "    self.PuntoA=PuntoA\n",
        "    self.PuntoB=PuntoB\n",
        "  def __str__(self):\n",
        "    return f'Rectangulo ({self.PuntoA},{self.PuntoB})'\n",
        "  def area(self):\n",
        "    lado1=self.PuntoA.distancia_con(Punto(self.PuntoA.x,self.PuntoB.y))\n",
        "    lado2=self.PuntoA.distancia_con(Punto(self.PuntoB.x,self.PuntoA.y))\n",
        "    return lado1 * lado2\n",
        "  def perimetro(self):\n",
        "    lado1=self.PuntoA.distancia_con(Punto(self.PuntoA.x,self.PuntoB.y))\n",
        "    lado2=self.PuntoA.distancia_con(Punto(self.PuntoB.x,self.PuntoA.y))\n",
        "    return 2*lado1 + 2*lado2\n",
        "\n",
        "r=Rectangulo(Punto(0,0),Punto(10,5))\n",
        "print(r)\n",
        "\n",
        "print(f'area = {r.area()}')\n",
        "\n",
        "print(f'perimetro = {r.perimetro()}')"
      ],
      "execution_count": 42,
      "outputs": [
        {
          "output_type": "stream",
          "text": [
            "Rectangulo (P(0,0),P(10,5))\n",
            "area = 50.0\n",
            "perimetro = 30.0\n"
          ],
          "name": "stdout"
        }
      ]
    }
  ]
}