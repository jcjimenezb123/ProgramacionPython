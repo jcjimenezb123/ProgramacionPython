{
  "nbformat": 4,
  "nbformat_minor": 0,
  "metadata": {
    "colab": {
      "name": "ProgramacionLineal.ipynb",
      "provenance": [],
      "collapsed_sections": [],
      "authorship_tag": "ABX9TyMVFWRkQnMTfweiV7tWtqHE",
      "include_colab_link": true
    },
    "kernelspec": {
      "name": "python3",
      "display_name": "Python 3"
    },
    "language_info": {
      "name": "python"
    }
  },
  "cells": [
    {
      "cell_type": "markdown",
      "metadata": {
        "id": "view-in-github",
        "colab_type": "text"
      },
      "source": [
        "<a href=\"https://colab.research.google.com/github/jcjimenezb123/ProgramacionPython/blob/master/ProgramacionLineal.ipynb\" target=\"_parent\"><img src=\"https://colab.research.google.com/assets/colab-badge.svg\" alt=\"Open In Colab\"/></a>"
      ]
    },
    {
      "cell_type": "markdown",
      "metadata": {
        "id": "c2AJQGqalmP5"
      },
      "source": [
        "#Optimización. Programación Lineal"
      ]
    },
    {
      "cell_type": "markdown",
      "metadata": {
        "id": "77SHCXtzljb2"
      },
      "source": [
        "Se requiere hacer el plan de producción de dos productos **Producto 1 y 2** con el uso de dos ingredientes **A y B**. La cantidad disponible es **A=30** unidades y **B=44**. La producción requiere de:\n",
        "\n",
        "* 3 unidades de **A** y 8 unidades de **B** para producir el **Producto 1**\n",
        "* 6 unidades de **A** y 4 unidades de **B** para producir el **Producto 2**\n",
        "\n",
        "Hay al menos 5 unidades del **Producto 1** y 4 unidades del **Producto 2**. El producto 1 puede ser vendido por 100 y el producto 2 puede ser vendido por 125. El objetivo es maximizar el beneficio de la producción"
      ]
    },
    {
      "cell_type": "code",
      "metadata": {
        "colab": {
          "base_uri": "https://localhost:8080/"
        },
        "id": "kUHqrufvleLm",
        "outputId": "5cddbda9-15be-406b-a14c-7292576fdb62"
      },
      "source": [
        "!pip install gekko"
      ],
      "execution_count": 1,
      "outputs": [
        {
          "output_type": "stream",
          "text": [
            "Collecting gekko\n",
            "\u001b[?25l  Downloading https://files.pythonhosted.org/packages/f9/4b/d5520da5a95fe677d05479a8391327d318fad9f250de791e390c4c39e712/gekko-0.2.8-py3-none-any.whl (10.8MB)\n",
            "\u001b[K     |████████████████████████████████| 10.8MB 12.0MB/s \n",
            "\u001b[?25hRequirement already satisfied: flask in /usr/local/lib/python3.7/dist-packages (from gekko) (1.1.2)\n",
            "Collecting flask-cors\n",
            "  Downloading https://files.pythonhosted.org/packages/db/84/901e700de86604b1c4ef4b57110d4e947c218b9997adf5d38fa7da493bce/Flask_Cors-3.0.10-py2.py3-none-any.whl\n",
            "Requirement already satisfied: numpy>=1.8 in /usr/local/lib/python3.7/dist-packages (from gekko) (1.19.5)\n",
            "Requirement already satisfied: itsdangerous>=0.24 in /usr/local/lib/python3.7/dist-packages (from flask->gekko) (2.0.0)\n",
            "Requirement already satisfied: Werkzeug>=0.15 in /usr/local/lib/python3.7/dist-packages (from flask->gekko) (2.0.0)\n",
            "Requirement already satisfied: click>=5.1 in /usr/local/lib/python3.7/dist-packages (from flask->gekko) (8.0.0)\n",
            "Requirement already satisfied: Jinja2>=2.10.1 in /usr/local/lib/python3.7/dist-packages (from flask->gekko) (2.11.3)\n",
            "Requirement already satisfied: Six in /usr/local/lib/python3.7/dist-packages (from flask-cors->gekko) (1.15.0)\n",
            "Requirement already satisfied: MarkupSafe>=0.23 in /usr/local/lib/python3.7/dist-packages (from Jinja2>=2.10.1->flask->gekko) (2.0.0)\n",
            "Installing collected packages: flask-cors, gekko\n",
            "Successfully installed flask-cors-3.0.10 gekko-0.2.8\n"
          ],
          "name": "stdout"
        }
      ]
    },
    {
      "cell_type": "code",
      "metadata": {
        "id": "VYB-bNs1lvvW"
      },
      "source": [
        "from gekko import GEKKO"
      ],
      "execution_count": 3,
      "outputs": []
    },
    {
      "cell_type": "code",
      "metadata": {
        "colab": {
          "base_uri": "https://localhost:8080/"
        },
        "id": "LqsU1gUIl2hE",
        "outputId": "9467aed5-e40d-4d07-f471-42d6d615f0b3"
      },
      "source": [
        "m=GEKKO()\n",
        "x1=m.Var() #producto 1\n",
        "x2=m.Var() #producto 2\n",
        "m.Maximize(100*x1+125*x2) #funcion objetivo\n",
        "m.Equation(3*x1+6*x2<=30) #unidades de A\n",
        "m.Equation(8*x1+4*x2<=44) #unidades de B\n",
        "m.solve()"
      ],
      "execution_count": 4,
      "outputs": [
        {
          "output_type": "stream",
          "text": [
            "apm 35.245.65.215_gk_model0 <br><pre> ----------------------------------------------------------------\n",
            " APMonitor, Version 1.0.0\n",
            " APMonitor Optimization Suite\n",
            " ----------------------------------------------------------------\n",
            " \n",
            " \n",
            " Warning: there is insufficient data in CSV file 35.245.65.215_gk_model0.csv\n",
            " \n",
            " --------- APM Model Size ------------\n",
            " Each time step contains\n",
            "   Objects      :            0\n",
            "   Constants    :            0\n",
            "   Variables    :            4\n",
            "   Intermediates:            0\n",
            "   Connections  :            0\n",
            "   Equations    :            3\n",
            "   Residuals    :            3\n",
            " \n",
            " Number of state variables:              4\n",
            " Number of total equations: -            2\n",
            " Number of slack variables: -            2\n",
            " ---------------------------------------\n",
            " Degrees of freedom       :              0\n",
            " \n",
            " **********************************************\n",
            " Steady State Optimization with Interior Point Solver\n",
            " **********************************************\n",
            "  \n",
            "  \n",
            " Info: Exact Hessian\n",
            "\n",
            "******************************************************************************\n",
            "This program contains Ipopt, a library for large-scale nonlinear optimization.\n",
            " Ipopt is released as open source code under the Eclipse Public License (EPL).\n",
            "         For more information visit http://projects.coin-or.org/Ipopt\n",
            "******************************************************************************\n",
            "\n",
            "This is Ipopt version 3.12.10, running with linear solver mumps.\n",
            "NOTE: Other linear solvers might be more efficient (see Ipopt documentation).\n",
            "\n",
            "Number of nonzeros in equality constraint Jacobian...:        6\n",
            "Number of nonzeros in inequality constraint Jacobian.:        0\n",
            "Number of nonzeros in Lagrangian Hessian.............:        0\n",
            "\n",
            "Total number of variables............................:        4\n",
            "                     variables with only lower bounds:        2\n",
            "                variables with lower and upper bounds:        0\n",
            "                     variables with only upper bounds:        0\n",
            "Total number of equality constraints.................:        2\n",
            "Total number of inequality constraints...............:        0\n",
            "        inequality constraints with only lower bounds:        0\n",
            "   inequality constraints with lower and upper bounds:        0\n",
            "        inequality constraints with only upper bounds:        0\n",
            "\n",
            "iter    objective    inf_pr   inf_du lg(mu)  ||d||  lg(rg) alpha_du alpha_pr  ls\n",
            "   0  0.0000000e+00 4.40e+01 1.18e+01   0.0 0.00e+00    -  0.00e+00 0.00e+00   0\n",
            "   1 -7.7436326e+02 3.18e-15 1.28e-06  -0.9 3.99e+00    -  1.00e+00 1.00e+00f  1\n",
            "   2 -7.7499363e+02 8.12e-15 2.55e-12  -6.6 8.84e-02    -  1.00e+00 9.90e-01f  1\n",
            "   3 -7.7499997e+02 2.58e-15 2.58e-14  -8.6 8.84e-04    -  1.00e+00 9.96e-01f  1\n",
            "   4 -7.7500000e+02 1.54e-15 0.00e+00 -10.9 3.91e-06    -  1.00e+00 1.00e+00f  1\n",
            "\n",
            "Number of Iterations....: 4\n",
            "\n",
            "                                   (scaled)                 (unscaled)\n",
            "Objective...............:  -6.2000000018288404e+02   -7.7500000022860502e+02\n",
            "Dual infeasibility......:   0.0000000000000000e+00    0.0000000000000000e+00\n",
            "Constraint violation....:   1.5369531412541895e-15    1.5369531412541895e-15\n",
            "Complementarity.........:   3.8151410018213077e-10    4.7689262522766348e-10\n",
            "Overall NLP error.......:   3.8151410018213077e-10    4.7689262522766348e-10\n",
            "\n",
            "\n",
            "Number of objective function evaluations             = 5\n",
            "Number of objective gradient evaluations             = 5\n",
            "Number of equality constraint evaluations            = 5\n",
            "Number of inequality constraint evaluations          = 0\n",
            "Number of equality constraint Jacobian evaluations   = 5\n",
            "Number of inequality constraint Jacobian evaluations = 0\n",
            "Number of Lagrangian Hessian evaluations             = 4\n",
            "Total CPU secs in IPOPT (w/o function evaluations)   =      0.003\n",
            "Total CPU secs in NLP function evaluations           =      0.000\n",
            "\n",
            "EXIT: Optimal Solution Found.\n",
            " \n",
            " The solution was found.\n",
            " \n",
            " The final value of the objective function is   -775.000000228605     \n",
            " \n",
            " ---------------------------------------------------\n",
            " Solver         :  IPOPT (v3.12)\n",
            " Solution time  :   8.800000010523945E-003 sec\n",
            " Objective      :   -775.000000228605     \n",
            " Successful solution\n",
            " ---------------------------------------------------\n",
            " \n"
          ],
          "name": "stdout"
        }
      ]
    },
    {
      "cell_type": "code",
      "metadata": {
        "colab": {
          "base_uri": "https://localhost:8080/"
        },
        "id": "3_DC2LmDl3Mh",
        "outputId": "81128bf2-e2ca-41fa-bda2-de36c61d16eb"
      },
      "source": [
        "p1=x1.value[0]\n",
        "p2=x2.value[0]\n",
        "print('Producto 1 ',p1)\n",
        "print('Producto 2 ',p2)\n",
        "print('Profit ',100*p1+125*p2)"
      ],
      "execution_count": 5,
      "outputs": [
        {
          "output_type": "stream",
          "text": [
            "Producto 1  4.0000000005\n",
            "Producto 2  3.0000000014\n",
            "Profit  775.000000225\n"
          ],
          "name": "stdout"
        }
      ]
    },
    {
      "cell_type": "code",
      "metadata": {
        "id": "d0m5-s0TmLZS"
      },
      "source": [
        "from scipy.optimize import linprog"
      ],
      "execution_count": 6,
      "outputs": []
    },
    {
      "cell_type": "code",
      "metadata": {
        "colab": {
          "base_uri": "https://localhost:8080/"
        },
        "id": "m-7Eb6ySmlk_",
        "outputId": "a4e5b28e-25f4-4dae-a11a-b6fb9cbbb548"
      },
      "source": [
        "c=[-100,-125]\n",
        "A=[[3,6],[8,4]]\n",
        "b=[30,44]\n",
        "x0_bounds=(0,5)\n",
        "x1_bounds=(0,4)\n",
        "res=linprog(c,A_ub=A,b_ub=b,\\\n",
        "            bounds=(x0_bounds,x1_bounds),\n",
        "            options={\"disp\":True})\n",
        "print(res)"
      ],
      "execution_count": 7,
      "outputs": [
        {
          "output_type": "stream",
          "text": [
            "Primal Feasibility  Dual Feasibility    Duality Gap         Step             Path Parameter      Objective          \n",
            "1.0                 1.0                 1.0                 -                1.0                 -225.0              \n",
            "0.1954734975464     0.1954734975464     0.1954734975464     0.8151046518636  0.1954734975465     -432.5883006987     \n",
            "0.01672002013426    0.01672002013427    0.01672002013427    0.9299492396439  0.0167200201343     -734.2508248454     \n",
            "1.120332348627e-05  1.120332237116e-05  1.12033223714e-05   0.9994467181632  1.120331485401e-05  -774.971529105      \n",
            "5.603101111059e-10  5.60302623559e-10   5.603025345278e-10  0.9999499878171  5.601701786094e-10  -774.9999985761     \n",
            "Optimization terminated successfully.\n",
            "         Current function value: -774.999999 \n",
            "         Iterations: 4\n",
            "     con: array([], dtype=float64)\n",
            "     fun: -774.9999985760514\n",
            " message: 'Optimization terminated successfully.'\n",
            "     nit: 4\n",
            "   slack: array([5.37016689e-08, 8.46273309e-08])\n",
            "  status: 0\n",
            " success: True\n",
            "       x: array([3.99999999, 3.        ])\n"
          ],
          "name": "stdout"
        },
        {
          "output_type": "stream",
          "text": [
            "/usr/local/lib/python3.7/dist-packages/numpy/core/fromnumeric.py:87: VisibleDeprecationWarning: Creating an ndarray from ragged nested sequences (which is a list-or-tuple of lists-or-tuples-or ndarrays with different lengths or shapes) is deprecated. If you meant to do this, you must specify 'dtype=object' when creating the ndarray\n",
            "  return ufunc.reduce(obj, axis, dtype, out, **passkwargs)\n"
          ],
          "name": "stderr"
        }
      ]
    },
    {
      "cell_type": "code",
      "metadata": {
        "colab": {
          "base_uri": "https://localhost:8080/"
        },
        "id": "cVbbnCM9molW",
        "outputId": "6fc18a70-2a2d-4e61-e506-26aa3babff32"
      },
      "source": [
        "!pip install pulp"
      ],
      "execution_count": 1,
      "outputs": [
        {
          "output_type": "stream",
          "text": [
            "Collecting pulp\n",
            "\u001b[?25l  Downloading https://files.pythonhosted.org/packages/14/c4/0eec14a0123209c261de6ff154ef3be5cad3fd557c084f468356662e0585/PuLP-2.4-py3-none-any.whl (40.6MB)\n",
            "\u001b[K     |████████████████████████████████| 40.6MB 111kB/s \n",
            "\u001b[?25hCollecting amply>=0.1.2\n",
            "  Downloading https://files.pythonhosted.org/packages/f3/c5/dfa09dd2595a2ab2ab4e6fa7bebef9565812722e1980d04b0edce5032066/amply-0.1.4-py3-none-any.whl\n",
            "Requirement already satisfied: docutils>=0.3 in /usr/local/lib/python3.7/dist-packages (from amply>=0.1.2->pulp) (0.17.1)\n",
            "Requirement already satisfied: pyparsing in /usr/local/lib/python3.7/dist-packages (from amply>=0.1.2->pulp) (2.4.7)\n",
            "Installing collected packages: amply, pulp\n",
            "Successfully installed amply-0.1.4 pulp-2.4\n"
          ],
          "name": "stdout"
        }
      ]
    },
    {
      "cell_type": "code",
      "metadata": {
        "id": "A94P-ccpxLXJ"
      },
      "source": [
        "from pulp import *"
      ],
      "execution_count": 2,
      "outputs": []
    },
    {
      "cell_type": "code",
      "metadata": {
        "colab": {
          "base_uri": "https://localhost:8080/"
        },
        "id": "4PZERyBqxOO7",
        "outputId": "4e3325c9-8e89-4e78-aefc-ae7c4273a906"
      },
      "source": [
        "prob = LpProblem(\"Producci[on\", LpMaximize)  # Create a LP maximization problem\n",
        "\n",
        "x1 = LpVariable(\"x1\", lowBound=0,upBound=5) # Create a variable x1 >= 0\n",
        "x2 = LpVariable(\"x2\", lowBound=0,upBound=4) # Create another variable x2 >= 0\n",
        "\n",
        "prob += (100*x1+125*x2,'Objective function')\n",
        "prob += (3*x1+6*x2<=30, 'Finishing hours')\n",
        "prob += (8*x1+4*x2<=44,  'Carpentry hours')\n",
        "prob  # Display the LP problem"
      ],
      "execution_count": 19,
      "outputs": [
        {
          "output_type": "execute_result",
          "data": {
            "text/plain": [
              "Producci[on:\n",
              "MAXIMIZE\n",
              "100*x1 + 125*x2 + 0\n",
              "SUBJECT TO\n",
              "Finishing_hours: 3 x1 + 6 x2 <= 30\n",
              "\n",
              "Carpentry_hours: 8 x1 + 4 x2 <= 44\n",
              "\n",
              "VARIABLES\n",
              "x1 <= 5 Continuous\n",
              "x2 <= 4 Continuous"
            ]
          },
          "metadata": {
            "tags": []
          },
          "execution_count": 19
        }
      ]
    },
    {
      "cell_type": "code",
      "metadata": {
        "id": "nlQ48ZFLyJbs"
      },
      "source": [
        "status = prob.solve()  # Solve with the default solver"
      ],
      "execution_count": 20,
      "outputs": []
    },
    {
      "cell_type": "code",
      "metadata": {
        "colab": {
          "base_uri": "https://localhost:8080/"
        },
        "id": "zaXDFuNqyNar",
        "outputId": "352bace3-4041-4b92-cda6-7543a8ded9b2"
      },
      "source": [
        "# Get the results\n",
        "print(f\"status: {prob.status}, {LpStatus[prob.status]}\")\n",
        "print(f\"objective: {prob.objective.value()}\")\n",
        "\n",
        "for var in prob.variables():\n",
        "    print(f\"{var.name}: {var.value()}\")"
      ],
      "execution_count": 21,
      "outputs": [
        {
          "output_type": "stream",
          "text": [
            "status: 1, Optimal\n",
            "objective: 775.0\n",
            "x1: 4.0\n",
            "x2: 3.0\n"
          ],
          "name": "stdout"
        }
      ]
    },
    {
      "cell_type": "markdown",
      "metadata": {
        "id": "QG2rlIvT1lIC"
      },
      "source": [
        "\n",
        "------------------------\n",
        "\n",
        "Una empresa de instalaciones dispone de 195 kg de cobre, 20 kg de titanio y 14 kg de aluminio. Para fabricar 100 metros de cable de tipo A se necesitan 10 kg de cobre, 2 de titanio y 1 de aluminio, mientras que para fabricar 100 metros de cable de tipo B se necesitan 15 kg de cobre, 1 de titanio y 1 de aluminio. El beneficio que se obtiene por 100 metros de cable de tipo A es de 1500 euros, y por 100 metros de cable de tipo B, 1000 euros. Calcular los metros de cable de cada tipo que hay que fabricar para maximizar el beneficio de la empresa.\n",
        "\n",
        "Variables : En el planteamiento del problema notamos que todos los datos están referidos a 100 metros de cable, en base a esto podemos definir las variables como : \n",
        "A = Cantidad de “rollos” de 100 mts. de cable del tipo A a fabricar. \n",
        "B = Cantidad de “rollos” de 100 mts. de cable del tipo B a fabricar. \n",
        "\n",
        "Función Objetivo : $Z = 1,500 A + 1,000 B$ (maximizar) \n",
        "\n",
        "Restricciones : Se recomienda elaborar una tabla donde se refleje toda la información disponible para visualizar mejor las restricciones del problema.\n",
        "\n",
        "|Metal |\tA|\tB|\tdisponibilidad|\n",
        "|-|-|-|-|\n",
        "|Kilogramos de cobre|\t10|\t15|\t195|\n",
        "|Kilogramos de titanio|\t2|\t1|\t20|\n",
        "|Kilogramos de aluminio|\t1|\t1|\t14|\n",
        "\n",
        "Maximizar:\n",
        "\n",
        "$1500*A + 1000*B $\n",
        "\n",
        "Sujeto a:\n",
        "* $10 A + 15 B <= 195$\n",
        "\n",
        "* $2 A + B <= 20$\n",
        "\n",
        "* $A + B <= 14$\n"
      ]
    },
    {
      "cell_type": "code",
      "metadata": {
        "colab": {
          "base_uri": "https://localhost:8080/"
        },
        "id": "qNuz1weG2rlY",
        "outputId": "9153dd15-f92c-4071-b586-5a63d69d1a23"
      },
      "source": [
        "prob = LpProblem(\"Fabricación_de_cable\", LpMaximize)  # Create a LP maximization problem\n",
        "\n",
        "cableA = LpVariable(\"A\", lowBound=0, cat='Integer') # Create a variable A >= 0\n",
        "cableB = LpVariable(\"B\", lowBound=0, cat='Integer') # Create another variable B >= 0\n",
        "\n",
        "prob += 1500*cableA+1000*cableB  # Objective function\n",
        "prob += (10*cableA+15*cableB<=195,'Cobre')\n",
        "prob += (2*cableA+cableB<=20,'Titanio')\n",
        "prob += (cableA+cableB<=14,'Aluminio')\n",
        "prob  # Display the LP problem"
      ],
      "execution_count": 15,
      "outputs": [
        {
          "output_type": "execute_result",
          "data": {
            "text/plain": [
              "Fabricación_de_cable:\n",
              "MAXIMIZE\n",
              "1500*A + 1000*B + 0\n",
              "SUBJECT TO\n",
              "Cobre: 10 A + 15 B <= 195\n",
              "\n",
              "Titanio: 2 A + B <= 20\n",
              "\n",
              "Aluminio: A + B <= 14\n",
              "\n",
              "VARIABLES\n",
              "0 <= A Integer\n",
              "0 <= B Integer"
            ]
          },
          "metadata": {
            "tags": []
          },
          "execution_count": 15
        }
      ]
    },
    {
      "cell_type": "code",
      "metadata": {
        "colab": {
          "base_uri": "https://localhost:8080/",
          "height": 35
        },
        "id": "I4Gq9qU24vtS",
        "outputId": "92870e71-a5ea-4b69-9427-641d6b99f378"
      },
      "source": [
        "status = prob.solve()  # Solve with the default solver\n",
        "LpStatus[status]  # Print the solution status"
      ],
      "execution_count": 16,
      "outputs": [
        {
          "output_type": "execute_result",
          "data": {
            "application/vnd.google.colaboratory.intrinsic+json": {
              "type": "string"
            },
            "text/plain": [
              "'Optimal'"
            ]
          },
          "metadata": {
            "tags": []
          },
          "execution_count": 16
        }
      ]
    },
    {
      "cell_type": "code",
      "metadata": {
        "colab": {
          "base_uri": "https://localhost:8080/"
        },
        "id": "xW6hjUme4z7j",
        "outputId": "baa165ec-78b8-46f0-99b2-3965218f4897"
      },
      "source": [
        "print(f\"objetivo: {prob.objective.value()}\")\n",
        "for var in prob.variables():\n",
        "  print(f\"{var.name}: {var.value()}\")"
      ],
      "execution_count": 17,
      "outputs": [
        {
          "output_type": "stream",
          "text": [
            "objetivo: 17000.0\n",
            "A: 6.0\n",
            "B: 8.0\n"
          ],
          "name": "stdout"
        }
      ]
    },
    {
      "cell_type": "code",
      "metadata": {
        "colab": {
          "base_uri": "https://localhost:8080/"
        },
        "id": "BaJPf9XAlRXH",
        "outputId": "a499345f-020f-40e7-f347-e742a04d5801"
      },
      "source": [
        "for name, constraint in prob.constraints.items():\n",
        "  print(f\"{name}: {constraint.value()}\")"
      ],
      "execution_count": 18,
      "outputs": [
        {
          "output_type": "stream",
          "text": [
            "Cobre: -15.0\n",
            "Titanio: 0.0\n",
            "Aluminio: 0.0\n"
          ],
          "name": "stdout"
        }
      ]
    },
    {
      "cell_type": "markdown",
      "metadata": {
        "id": "XE3qTZ-C5Bj8"
      },
      "source": [
        "El beneficio máximo asciende a **17,000** euros y se obtiene fabricando:\n",
        "\n",
        "* **600** metros (6 rollos de 100 metros) de cable de tipo **A** y \n",
        "* **800** metros (8 rollos de 100 metros) de tipo **B**."
      ]
    },
    {
      "cell_type": "markdown",
      "metadata": {
        "id": "7GIFgLRN65QV"
      },
      "source": [
        "\n",
        "---------------\n",
        "\n",
        "Se desea obtener la mezcla de petróleo a partir de crudos de distintas procedencias, cada uno de los cuales tienen distintas características. En la siguiente tabla se detallan los distintos crudos (4 en total) y sus características más importantes: el tanto por ciento de azufre, la densidad y el precio por TM.\n",
        "\n",
        "Se requiere que la mezcla tenga 40% de contenido de asufre y una densidad igual al 91%. Se desea que el precio de la mezcla sea el mínimo.\n",
        "\n",
        "Variables de decisión:\n",
        "* $K$ cantidad de crudo de *Kuwait*\n",
        "* $A$ cantidad de crudo de *Arabia*\n",
        "* $N$ cantidad de crudo de *Noruega*\n",
        "* $V$ cantidad de crudo de *Venezuela*\n",
        "\n",
        "La función objetivo es minimizar el precio de la mezcla. Sabemos en cuánto contribuye cada crudo en el precio, por lo tanto la función objetivo es\n",
        "$$\n",
        "MinZ=35000K+31000A+39000N+34000V\n",
        "$$\n",
        "\n",
        "En las restricciones se requiere que la mezcla de los crudos tenga el 40% de asufre, por lo tanto la combinación de los crudos debe ser igual a 0.4\n",
        "$$\n",
        "0.45K+0.4A+0.38N+0.41V=0.4\n",
        "$$\n",
        "La segunda restricción requiere que la densidad de la mezcla de crudos sea de 0.91, por lo tanto\n",
        "$$\n",
        "0.91K+0.95A+0.89N+0.92V=0.91\n",
        "$$\n",
        "Por otro lado, aunque no se mensione en el problema, la suma de las proporciones de cada crudo debe ser la unidad\n",
        "$$\n",
        "K+A+N+V=1\n",
        "$$\n",
        "El problema de programación lineal queda expresado como\n",
        "\n",
        "Funcion objetivo $Z=35000K+31000A+39000N+34000V$\n",
        "\n",
        "Sujeto a:\n",
        "* $0.45K+0.4A+0.38N+0.41V=0.4$\n",
        "* $0.91K+0.95A+0.89N+0.92V=0.91$\n",
        "* $K+A+N+V=1$\n"
      ]
    },
    {
      "cell_type": "code",
      "metadata": {
        "colab": {
          "base_uri": "https://localhost:8080/"
        },
        "id": "3tYRIPrw5VbP",
        "outputId": "08826537-a7fd-422d-99ff-0a1ce4a326b1"
      },
      "source": [
        "prob = LpProblem(\"Fabricación_de_crudo\", LpMaximize)  # Create a LP maximization problem\n",
        "\n",
        "K = LpVariable(\"K\", lowBound=0) # Kuwait >= 0\n",
        "A = LpVariable(\"A\", lowBound=0) # Arabia >= 0\n",
        "N = LpVariable(\"N\", lowBound=0) # Noruega >= 0\n",
        "V = LpVariable(\"V\", lowBound=0) # Venezuela >= 0\n",
        "\n",
        "prob += 3500*K+31000*A+39000*N+34000*V    # Objective function\n",
        "prob += (0.45*K+0.4*A+0.38*N+0.41*V==0.4,'contenido de asufre')\n",
        "prob += (0.91*K+0.95*A+0.89*N+0.92*V==0.91,'densidad')\n",
        "prob += (K+A+N+V==1,'suma de proporciones')\n",
        "prob  # Display the LP problem"
      ],
      "execution_count": 11,
      "outputs": [
        {
          "output_type": "execute_result",
          "data": {
            "text/plain": [
              "Fabricación_de_crudo:\n",
              "MAXIMIZE\n",
              "31000*A + 3500*K + 39000*N + 34000*V + 0\n",
              "SUBJECT TO\n",
              "contenido_de_asufre: 0.4 A + 0.45 K + 0.38 N + 0.41 V = 0.4\n",
              "\n",
              "densidad: 0.95 A + 0.91 K + 0.89 N + 0.92 V = 0.91\n",
              "\n",
              "suma_de_proporciones: A + K + N + V = 1\n",
              "\n",
              "VARIABLES\n",
              "A Continuous\n",
              "K Continuous\n",
              "N Continuous\n",
              "V Continuous"
            ]
          },
          "metadata": {
            "tags": []
          },
          "execution_count": 11
        }
      ]
    },
    {
      "cell_type": "code",
      "metadata": {
        "colab": {
          "base_uri": "https://localhost:8080/",
          "height": 35
        },
        "id": "wAqhUga8-vr5",
        "outputId": "1aedf8c2-3075-4223-9b1d-53a1f700021a"
      },
      "source": [
        "status = prob.solve()  # Solve with the default solver\n",
        "LpStatus[status]  # Print the solution status"
      ],
      "execution_count": 12,
      "outputs": [
        {
          "output_type": "execute_result",
          "data": {
            "application/vnd.google.colaboratory.intrinsic+json": {
              "type": "string"
            },
            "text/plain": [
              "'Optimal'"
            ]
          },
          "metadata": {
            "tags": []
          },
          "execution_count": 12
        }
      ]
    },
    {
      "cell_type": "code",
      "metadata": {
        "colab": {
          "base_uri": "https://localhost:8080/"
        },
        "id": "x-nDTJlO-1iI",
        "outputId": "425afac2-2951-46db-9972-fb3380a8bac2"
      },
      "source": [
        "print(f\"objetivo: {prob.objective.value()}\")\n",
        "for var in prob.variables():\n",
        "  print(f\"{var.name}: {var.value()}\")"
      ],
      "execution_count": 13,
      "outputs": [
        {
          "output_type": "stream",
          "text": [
            "objetivo: 35666.66665\n",
            "A: 0.0\n",
            "K: 0.0\n",
            "N: 0.33333333\n",
            "V: 0.66666667\n"
          ],
          "name": "stdout"
        }
      ]
    },
    {
      "cell_type": "code",
      "metadata": {
        "colab": {
          "base_uri": "https://localhost:8080/"
        },
        "id": "Nysip6FTkrd-",
        "outputId": "30cd5dbe-15a1-44de-9d71-7054e7b4a511"
      },
      "source": [
        "for name, constraint in prob.constraints.items():\n",
        "  print(f\"{name}: {constraint.value()}\")"
      ],
      "execution_count": 14,
      "outputs": [
        {
          "output_type": "stream",
          "text": [
            "contenido_de_asufre: 9.999995276288587e-11\n",
            "densidad: 1.0000011929633956e-10\n",
            "suma_de_proporciones: 0.0\n"
          ],
          "name": "stdout"
        }
      ]
    }
  ]
}