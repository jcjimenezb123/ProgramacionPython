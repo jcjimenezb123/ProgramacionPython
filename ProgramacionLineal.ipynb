{
  "nbformat": 4,
  "nbformat_minor": 0,
  "metadata": {
    "colab": {
      "name": "ProgramacionLineal.ipynb",
      "provenance": [],
      "collapsed_sections": [],
      "authorship_tag": "ABX9TyNRpHlSF30PidoI27VJjlqe",
      "include_colab_link": true
    },
    "kernelspec": {
      "name": "python3",
      "display_name": "Python 3"
    },
    "language_info": {
      "name": "python"
    }
  },
  "cells": [
    {
      "cell_type": "markdown",
      "metadata": {
        "id": "view-in-github",
        "colab_type": "text"
      },
      "source": [
        "<a href=\"https://colab.research.google.com/github/jcjimenezb123/ProgramacionPython/blob/master/ProgramacionLineal.ipynb\" target=\"_parent\"><img src=\"https://colab.research.google.com/assets/colab-badge.svg\" alt=\"Open In Colab\"/></a>"
      ]
    },
    {
      "cell_type": "markdown",
      "metadata": {
        "id": "c2AJQGqalmP5"
      },
      "source": [
        "#Optimización. Programación Lineal"
      ]
    },
    {
      "cell_type": "markdown",
      "metadata": {
        "id": "77SHCXtzljb2"
      },
      "source": [
        "Se requiere hacer el plan de producción de dos productos **Producto 1 y 2** con el uso de dos ingredientes **A y B**. La cantidad disponible es **A=30** unidades y **B=44**. La producción requiere de:\n",
        "\n",
        "* 3 unidades de **A** y 8 unidades de **B** para producir el **Producto 1**\n",
        "* 6 unidades de **A** y 4 unidades de **B** para producir el **Producto 2**\n",
        "\n",
        "Hay al menos 5 unidades del **Producto 1** y 4 unidades del **Producto 2**. El producto 1 puede ser vendido por 100 y el producto 2 puede ser vendido por 125. El objetivo es maximizar el beneficio de la producción"
      ]
    },
    {
      "cell_type": "code",
      "metadata": {
        "colab": {
          "base_uri": "https://localhost:8080/"
        },
        "id": "kUHqrufvleLm",
        "outputId": "5cddbda9-15be-406b-a14c-7292576fdb62"
      },
      "source": [
        "!pip install gekko"
      ],
      "execution_count": 1,
      "outputs": [
        {
          "output_type": "stream",
          "text": [
            "Collecting gekko\n",
            "\u001b[?25l  Downloading https://files.pythonhosted.org/packages/f9/4b/d5520da5a95fe677d05479a8391327d318fad9f250de791e390c4c39e712/gekko-0.2.8-py3-none-any.whl (10.8MB)\n",
            "\u001b[K     |████████████████████████████████| 10.8MB 12.0MB/s \n",
            "\u001b[?25hRequirement already satisfied: flask in /usr/local/lib/python3.7/dist-packages (from gekko) (1.1.2)\n",
            "Collecting flask-cors\n",
            "  Downloading https://files.pythonhosted.org/packages/db/84/901e700de86604b1c4ef4b57110d4e947c218b9997adf5d38fa7da493bce/Flask_Cors-3.0.10-py2.py3-none-any.whl\n",
            "Requirement already satisfied: numpy>=1.8 in /usr/local/lib/python3.7/dist-packages (from gekko) (1.19.5)\n",
            "Requirement already satisfied: itsdangerous>=0.24 in /usr/local/lib/python3.7/dist-packages (from flask->gekko) (2.0.0)\n",
            "Requirement already satisfied: Werkzeug>=0.15 in /usr/local/lib/python3.7/dist-packages (from flask->gekko) (2.0.0)\n",
            "Requirement already satisfied: click>=5.1 in /usr/local/lib/python3.7/dist-packages (from flask->gekko) (8.0.0)\n",
            "Requirement already satisfied: Jinja2>=2.10.1 in /usr/local/lib/python3.7/dist-packages (from flask->gekko) (2.11.3)\n",
            "Requirement already satisfied: Six in /usr/local/lib/python3.7/dist-packages (from flask-cors->gekko) (1.15.0)\n",
            "Requirement already satisfied: MarkupSafe>=0.23 in /usr/local/lib/python3.7/dist-packages (from Jinja2>=2.10.1->flask->gekko) (2.0.0)\n",
            "Installing collected packages: flask-cors, gekko\n",
            "Successfully installed flask-cors-3.0.10 gekko-0.2.8\n"
          ],
          "name": "stdout"
        }
      ]
    },
    {
      "cell_type": "code",
      "metadata": {
        "id": "VYB-bNs1lvvW"
      },
      "source": [
        "from gekko import GEKKO"
      ],
      "execution_count": 3,
      "outputs": []
    },
    {
      "cell_type": "code",
      "metadata": {
        "colab": {
          "base_uri": "https://localhost:8080/"
        },
        "id": "LqsU1gUIl2hE",
        "outputId": "9467aed5-e40d-4d07-f471-42d6d615f0b3"
      },
      "source": [
        "m=GEKKO()\n",
        "x1=m.Var() #producto 1\n",
        "x2=m.Var() #producto 2\n",
        "m.Maximize(100*x1+125*x2) #funcion objetivo\n",
        "m.Equation(3*x1+6*x2<=30) #unidades de A\n",
        "m.Equation(8*x1+4*x2<=44) #unidades de B\n",
        "m.solve()"
      ],
      "execution_count": 4,
      "outputs": [
        {
          "output_type": "stream",
          "text": [
            "apm 35.245.65.215_gk_model0 <br><pre> ----------------------------------------------------------------\n",
            " APMonitor, Version 1.0.0\n",
            " APMonitor Optimization Suite\n",
            " ----------------------------------------------------------------\n",
            " \n",
            " \n",
            " Warning: there is insufficient data in CSV file 35.245.65.215_gk_model0.csv\n",
            " \n",
            " --------- APM Model Size ------------\n",
            " Each time step contains\n",
            "   Objects      :            0\n",
            "   Constants    :            0\n",
            "   Variables    :            4\n",
            "   Intermediates:            0\n",
            "   Connections  :            0\n",
            "   Equations    :            3\n",
            "   Residuals    :            3\n",
            " \n",
            " Number of state variables:              4\n",
            " Number of total equations: -            2\n",
            " Number of slack variables: -            2\n",
            " ---------------------------------------\n",
            " Degrees of freedom       :              0\n",
            " \n",
            " **********************************************\n",
            " Steady State Optimization with Interior Point Solver\n",
            " **********************************************\n",
            "  \n",
            "  \n",
            " Info: Exact Hessian\n",
            "\n",
            "******************************************************************************\n",
            "This program contains Ipopt, a library for large-scale nonlinear optimization.\n",
            " Ipopt is released as open source code under the Eclipse Public License (EPL).\n",
            "         For more information visit http://projects.coin-or.org/Ipopt\n",
            "******************************************************************************\n",
            "\n",
            "This is Ipopt version 3.12.10, running with linear solver mumps.\n",
            "NOTE: Other linear solvers might be more efficient (see Ipopt documentation).\n",
            "\n",
            "Number of nonzeros in equality constraint Jacobian...:        6\n",
            "Number of nonzeros in inequality constraint Jacobian.:        0\n",
            "Number of nonzeros in Lagrangian Hessian.............:        0\n",
            "\n",
            "Total number of variables............................:        4\n",
            "                     variables with only lower bounds:        2\n",
            "                variables with lower and upper bounds:        0\n",
            "                     variables with only upper bounds:        0\n",
            "Total number of equality constraints.................:        2\n",
            "Total number of inequality constraints...............:        0\n",
            "        inequality constraints with only lower bounds:        0\n",
            "   inequality constraints with lower and upper bounds:        0\n",
            "        inequality constraints with only upper bounds:        0\n",
            "\n",
            "iter    objective    inf_pr   inf_du lg(mu)  ||d||  lg(rg) alpha_du alpha_pr  ls\n",
            "   0  0.0000000e+00 4.40e+01 1.18e+01   0.0 0.00e+00    -  0.00e+00 0.00e+00   0\n",
            "   1 -7.7436326e+02 3.18e-15 1.28e-06  -0.9 3.99e+00    -  1.00e+00 1.00e+00f  1\n",
            "   2 -7.7499363e+02 8.12e-15 2.55e-12  -6.6 8.84e-02    -  1.00e+00 9.90e-01f  1\n",
            "   3 -7.7499997e+02 2.58e-15 2.58e-14  -8.6 8.84e-04    -  1.00e+00 9.96e-01f  1\n",
            "   4 -7.7500000e+02 1.54e-15 0.00e+00 -10.9 3.91e-06    -  1.00e+00 1.00e+00f  1\n",
            "\n",
            "Number of Iterations....: 4\n",
            "\n",
            "                                   (scaled)                 (unscaled)\n",
            "Objective...............:  -6.2000000018288404e+02   -7.7500000022860502e+02\n",
            "Dual infeasibility......:   0.0000000000000000e+00    0.0000000000000000e+00\n",
            "Constraint violation....:   1.5369531412541895e-15    1.5369531412541895e-15\n",
            "Complementarity.........:   3.8151410018213077e-10    4.7689262522766348e-10\n",
            "Overall NLP error.......:   3.8151410018213077e-10    4.7689262522766348e-10\n",
            "\n",
            "\n",
            "Number of objective function evaluations             = 5\n",
            "Number of objective gradient evaluations             = 5\n",
            "Number of equality constraint evaluations            = 5\n",
            "Number of inequality constraint evaluations          = 0\n",
            "Number of equality constraint Jacobian evaluations   = 5\n",
            "Number of inequality constraint Jacobian evaluations = 0\n",
            "Number of Lagrangian Hessian evaluations             = 4\n",
            "Total CPU secs in IPOPT (w/o function evaluations)   =      0.003\n",
            "Total CPU secs in NLP function evaluations           =      0.000\n",
            "\n",
            "EXIT: Optimal Solution Found.\n",
            " \n",
            " The solution was found.\n",
            " \n",
            " The final value of the objective function is   -775.000000228605     \n",
            " \n",
            " ---------------------------------------------------\n",
            " Solver         :  IPOPT (v3.12)\n",
            " Solution time  :   8.800000010523945E-003 sec\n",
            " Objective      :   -775.000000228605     \n",
            " Successful solution\n",
            " ---------------------------------------------------\n",
            " \n"
          ],
          "name": "stdout"
        }
      ]
    },
    {
      "cell_type": "code",
      "metadata": {
        "colab": {
          "base_uri": "https://localhost:8080/"
        },
        "id": "3_DC2LmDl3Mh",
        "outputId": "81128bf2-e2ca-41fa-bda2-de36c61d16eb"
      },
      "source": [
        "p1=x1.value[0]\n",
        "p2=x2.value[0]\n",
        "print('Producto 1 ',p1)\n",
        "print('Producto 2 ',p2)\n",
        "print('Profit ',100*p1+125*p2)"
      ],
      "execution_count": 5,
      "outputs": [
        {
          "output_type": "stream",
          "text": [
            "Producto 1  4.0000000005\n",
            "Producto 2  3.0000000014\n",
            "Profit  775.000000225\n"
          ],
          "name": "stdout"
        }
      ]
    },
    {
      "cell_type": "code",
      "metadata": {
        "id": "d0m5-s0TmLZS"
      },
      "source": [
        "from scipy.optimize import linprog"
      ],
      "execution_count": 6,
      "outputs": []
    },
    {
      "cell_type": "code",
      "metadata": {
        "colab": {
          "base_uri": "https://localhost:8080/"
        },
        "id": "m-7Eb6ySmlk_",
        "outputId": "a4e5b28e-25f4-4dae-a11a-b6fb9cbbb548"
      },
      "source": [
        "c=[-100,-125]\n",
        "A=[[3,6],[8,4]]\n",
        "b=[30,44]\n",
        "x0_bounds=(0,5)\n",
        "x1_bounds=(0,4)\n",
        "res=linprog(c,A_ub=A,b_ub=b,\\\n",
        "            bounds=(x0_bounds,x1_bounds),\n",
        "            options={\"disp\":True})\n",
        "print(res)"
      ],
      "execution_count": 7,
      "outputs": [
        {
          "output_type": "stream",
          "text": [
            "Primal Feasibility  Dual Feasibility    Duality Gap         Step             Path Parameter      Objective          \n",
            "1.0                 1.0                 1.0                 -                1.0                 -225.0              \n",
            "0.1954734975464     0.1954734975464     0.1954734975464     0.8151046518636  0.1954734975465     -432.5883006987     \n",
            "0.01672002013426    0.01672002013427    0.01672002013427    0.9299492396439  0.0167200201343     -734.2508248454     \n",
            "1.120332348627e-05  1.120332237116e-05  1.12033223714e-05   0.9994467181632  1.120331485401e-05  -774.971529105      \n",
            "5.603101111059e-10  5.60302623559e-10   5.603025345278e-10  0.9999499878171  5.601701786094e-10  -774.9999985761     \n",
            "Optimization terminated successfully.\n",
            "         Current function value: -774.999999 \n",
            "         Iterations: 4\n",
            "     con: array([], dtype=float64)\n",
            "     fun: -774.9999985760514\n",
            " message: 'Optimization terminated successfully.'\n",
            "     nit: 4\n",
            "   slack: array([5.37016689e-08, 8.46273309e-08])\n",
            "  status: 0\n",
            " success: True\n",
            "       x: array([3.99999999, 3.        ])\n"
          ],
          "name": "stdout"
        },
        {
          "output_type": "stream",
          "text": [
            "/usr/local/lib/python3.7/dist-packages/numpy/core/fromnumeric.py:87: VisibleDeprecationWarning: Creating an ndarray from ragged nested sequences (which is a list-or-tuple of lists-or-tuples-or ndarrays with different lengths or shapes) is deprecated. If you meant to do this, you must specify 'dtype=object' when creating the ndarray\n",
            "  return ufunc.reduce(obj, axis, dtype, out, **passkwargs)\n"
          ],
          "name": "stderr"
        }
      ]
    },
    {
      "cell_type": "code",
      "metadata": {
        "id": "cVbbnCM9molW"
      },
      "source": [
        ""
      ],
      "execution_count": null,
      "outputs": []
    }
  ]
}