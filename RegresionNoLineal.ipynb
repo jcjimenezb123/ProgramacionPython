{
  "nbformat": 4,
  "nbformat_minor": 0,
  "metadata": {
    "colab": {
      "name": "RegresionNoLineal.ipynb",
      "provenance": [],
      "authorship_tag": "ABX9TyPIf0RdNS1AKLq6in9oV5Qw",
      "include_colab_link": true
    },
    "kernelspec": {
      "name": "python3",
      "display_name": "Python 3"
    },
    "language_info": {
      "name": "python"
    }
  },
  "cells": [
    {
      "cell_type": "markdown",
      "metadata": {
        "id": "view-in-github",
        "colab_type": "text"
      },
      "source": [
        "<a href=\"https://colab.research.google.com/github/jcjimenezb123/ProgramacionPython/blob/master/RegresionNoLineal.ipynb\" target=\"_parent\"><img src=\"https://colab.research.google.com/assets/colab-badge.svg\" alt=\"Open In Colab\"/></a>"
      ]
    },
    {
      "cell_type": "markdown",
      "metadata": {
        "id": "3IFuRMi-uIHM"
      },
      "source": [
        "#Regresion exponencial"
      ]
    },
    {
      "cell_type": "markdown",
      "metadata": {
        "id": "jeUXuozCuRfg"
      },
      "source": [
        "El modelo exponencial se aplica a problemas de de reacciones químicas. El modelo tiene\n",
        "la forma:\n",
        "$$\n",
        "y = ae^{bx}\n",
        "$$\n",
        "Donde $a$ y $b$ son los parámetros a determinar."
      ]
    },
    {
      "cell_type": "markdown",
      "metadata": {
        "id": "BrgbQdEEugga"
      },
      "source": [
        "El Anhídrido Nítrico se descompone homogéneamente de acuerdo a la siguiente reacción.\n",
        "$$\n",
        "N_2O_5\\rightarrow N_2O_4 +\\frac{1}{2}O_2\n",
        "$$\n",
        "Los datos de la reacción de $N_2O_5$ en el tiempo a una temperatura de $313K$ se muestran en la siguiente tabla:\n",
        "\n",
        "$$\n",
        "\\begin{array}{|l|c|c|c|c|c|c|c|c|}\n",
        "\\hline\n",
        "tiempo(s) &0 &500& 1000& 1500& 2000& 2500& 3000\\\\\n",
        "\\hline\n",
        "N_2O_5(gr/l) &0.1000& 0.0892& 0.0776& 0.0705& 0.0603& 0.0542& 0.0471\\\\\n",
        "\\hline\n",
        "\\end{array}\n",
        "$$\n",
        "\n",
        "Asumiendo que la reacción es de primer orden $r = kC_A$ entonces la concentración varía\n",
        "de acuerdo a:\n",
        "$$\n",
        "C_A = C_{A0} e^{-kt}\n",
        "$$\n",
        "Donde $C_{A0}$ es la concentración inicial. Encontrar los valores de $C_{A0}$ y $k$ usando una regresión exponencial."
      ]
    },
    {
      "cell_type": "code",
      "metadata": {
        "id": "t1w5eEnquEIs"
      },
      "source": [
        "import numpy as np\n",
        "from scipy.optimize import curve_fit\n",
        "import matplotlib.pyplot as plt"
      ],
      "execution_count": 1,
      "outputs": []
    },
    {
      "cell_type": "code",
      "metadata": {
        "id": "vOAe92dsw5e4"
      },
      "source": [
        "x = np.array([0 ,500 ,1000 ,1500 ,2000 ,2500 ,3000])\n",
        "y = np.array([0.1000 ,0.0892 ,0.0776 ,0.0705 ,0.0603 ,0.0542 ,0.0471])"
      ],
      "execution_count": 30,
      "outputs": []
    },
    {
      "cell_type": "code",
      "metadata": {
        "id": "CfSBRcHOxAuO"
      },
      "source": [
        "def f(t,Ca,k):\n",
        "  return Ca*np.exp(-k*t)"
      ],
      "execution_count": 31,
      "outputs": []
    },
    {
      "cell_type": "code",
      "metadata": {
        "colab": {
          "base_uri": "https://localhost:8080/"
        },
        "id": "TWOm2dKWxJ46",
        "outputId": "713f310f-5334-4d91-a6b7-97b03133b100"
      },
      "source": [
        "param ,_= curve_fit(f,x,y,p0 =[0.1 , -0.0001])\n",
        "print ( param )"
      ],
      "execution_count": 33,
      "outputs": [
        {
          "output_type": "stream",
          "text": [
            "[0.10040589 0.00024895]\n"
          ],
          "name": "stdout"
        }
      ]
    },
    {
      "cell_type": "markdown",
      "metadata": {
        "id": "sjSZqvK4xoEB"
      },
      "source": [
        "Por lo tanto la ecuación que de la concentración de $N_2O_5$ es:\n",
        "\n",
        "$$\n",
        "C_A = 0.10040589e^{-0.00024895t}\n",
        "$$"
      ]
    },
    {
      "cell_type": "code",
      "metadata": {
        "colab": {
          "base_uri": "https://localhost:8080/",
          "height": 295
        },
        "id": "-OApf-rvxiUC",
        "outputId": "6f8f8aa9-157f-4767-dcfa-386b2ad4e6ea"
      },
      "source": [
        "xs=np.linspace (x.min(),x.max())\n",
        "ys=f(xs,*param)\n",
        "\n",
        "plt.scatter(x,y,c='r')\n",
        "plt.plot(xs,ys,'c-.')\n",
        "plt.xlabel('tiempo')\n",
        "plt.ylabel('concentracion $N_2O_5$')\n",
        "plt.title('descomposicion del Anhídrido Nítrico')\n",
        "plt.grid()\n",
        "plt.show()"
      ],
      "execution_count": 14,
      "outputs": [
        {
          "output_type": "display_data",
          "data": {
            "image/png": "[encoded data removed]",
            "text/plain": [
              "<Figure size 432x288 with 1 Axes>"
            ]
          },
          "metadata": {
            "tags": [],
            "needs_background": "light"
          }
        }
      ]
    },
    {
      "cell_type": "markdown",
      "metadata": {
        "id": "tBnyQt7Dz4C7"
      },
      "source": [
        "#Regresion potencial"
      ]
    },
    {
      "cell_type": "markdown",
      "metadata": {
        "id": "exdHSJPhz7lo"
      },
      "source": [
        "El modelo potencial tiene la forma:\n",
        "\n",
        "$$y = ax^b$$\n",
        "\n",
        "Donde $a$ y $b$ son los parámetros a determinar"
      ]
    },
    {
      "cell_type": "markdown",
      "metadata": {
        "id": "eUOdNvFK0IbI"
      },
      "source": [
        "La ecuación de Bernoulli para un flujo continuo que sale de un tanque se relaciona con el flujo Q y la altura h del tanque.\n",
        "\n",
        "$$Q=kh^a$$\n",
        "\n",
        "Los datos del flujo como función del nivel del líquido se muestran en la siguiente tabla:\n",
        "\n",
        "$$\n",
        "\\begin{array}{|l|c|c|c|c|}\n",
        "\\hline\n",
        "Altura h& 5& 40& 70& 100\\\\\n",
        "\\hline\n",
        "Flujo Q &0.2322& 0.6450& 0.820& 0.9856\\\\\n",
        "\\hline\n",
        "\\end{array}\n",
        "$$\n",
        "\n",
        "Estimar los valores de $k$ y $a$."
      ]
    },
    {
      "cell_type": "markdown",
      "metadata": {
        "id": "HiXlcWW60Eeu"
      },
      "source": [
        ""
      ]
    },
    {
      "cell_type": "code",
      "metadata": {
        "id": "5yfgRr4Mz6y5"
      },
      "source": [
        "x = np.array([5 ,40 ,70 ,100])\n",
        "y = np.array([0.2322 ,0.6450 ,0.820 ,0.9856])"
      ],
      "execution_count": 18,
      "outputs": []
    },
    {
      "cell_type": "code",
      "metadata": {
        "id": "bomAlqW21PqG"
      },
      "source": [
        "def Q(h,k,a):\n",
        "  return k*h**a"
      ],
      "execution_count": 19,
      "outputs": []
    },
    {
      "cell_type": "code",
      "metadata": {
        "colab": {
          "base_uri": "https://localhost:8080/"
        },
        "id": "Tn2ayFzA1lGU",
        "outputId": "c67b64ef-1a0d-4e98-ce84-af68abb2b0c2"
      },
      "source": [
        "param ,_= curve_fit(Q,x,y)\n",
        "print ( param )"
      ],
      "execution_count": 20,
      "outputs": [
        {
          "output_type": "stream",
          "text": [
            "[0.10975514 0.47604171]\n"
          ],
          "name": "stdout"
        }
      ]
    },
    {
      "cell_type": "markdown",
      "metadata": {
        "id": "AIa4jbrC13ZQ"
      },
      "source": [
        "Por lo tanto la ecuación es:\n",
        "\n",
        "$$Q = 0.10975514h^{0.47604171}$$"
      ]
    },
    {
      "cell_type": "code",
      "metadata": {
        "colab": {
          "base_uri": "https://localhost:8080/",
          "height": 295
        },
        "id": "t4Rr3KMG2H4J",
        "outputId": "e42f8803-a314-4756-f1d5-8ff9f971eb37"
      },
      "source": [
        "xs=np.linspace (x.min(),x.max())\n",
        "ys=Q(xs,*param)\n",
        "\n",
        "plt.scatter(x,y,c='r')\n",
        "plt.plot(xs,ys,'c-.')\n",
        "plt.xlabel('Altura')\n",
        "plt.ylabel('Flujo')\n",
        "plt.title('Flujo continuo')\n",
        "plt.grid()\n",
        "plt.show()"
      ],
      "execution_count": 23,
      "outputs": [
        {
          "output_type": "display_data",
          "data": {
            "image/png": "[encoded data removed]",
            "text/plain": [
              "<Figure size 432x288 with 1 Axes>"
            ]
          },
          "metadata": {
            "tags": [],
            "needs_background": "light"
          }
        }
      ]
    },
    {
      "cell_type": "markdown",
      "metadata": {
        "id": "T82fCLoh2j4Q"
      },
      "source": [
        "#Regresion reciproca o hiperbolica"
      ]
    },
    {
      "cell_type": "markdown",
      "metadata": {
        "id": "ptP9Mrwo2ptw"
      },
      "source": [
        "El modelo Recíproco o Hiperbólico tiene la forma:\n",
        "\n",
        "$$y=\\frac{1}{a+bx}$$\n",
        "\n",
        "Donde $a$ y $b$ son los parámetros a determinar."
      ]
    },
    {
      "cell_type": "markdown",
      "metadata": {
        "id": "ZpRxxqys266y"
      },
      "source": [
        "La ecuación de Antoine obtiene la\n",
        "presión de vapor de una sustancia a distintas temperaturas.\n",
        "\n",
        "$$\n",
        "log(P) = a+\\frac{b}{c+t}\n",
        "$$\n",
        "\n",
        "Los datos de la presión de vapor como función de la temperatura se muestran en la siguiente\n",
        "tabla:\n",
        "\n",
        "$$\n",
        "\\begin{array}{|l|c|c|c|c|c|c|c|c|c|c|c|}\n",
        "\\hline\n",
        "T (C) &20& 22& 25& 27& 30& 34& 40& 43& 48& 51\\\\\n",
        "\\hline\n",
        "log(P) (mmHg)&1.175& 1.230& 1.312& 1.365& 1.443& 1.544& 1.690& 1.761& 1.875& 1.942\\\\\n",
        "\\hline\n",
        "\\end{array}\n",
        "$$\n",
        "\n",
        "Estimar los valores de $a$,$b$ y $c$ de la ecuación de Antoine."
      ]
    },
    {
      "cell_type": "code",
      "metadata": {
        "id": "prv6Jfw42o7f"
      },
      "source": [
        "x = np.array([20 ,22 ,25 ,27 ,30 ,34 ,40 ,43 ,48 ,51])\n",
        "y = np.array([1.175 ,1.230 ,1.312 ,1.365 ,1.443 ,\\\n",
        "              1.544 ,1.690 ,1.761 ,1.875 ,1.942])"
      ],
      "execution_count": 25,
      "outputs": []
    },
    {
      "cell_type": "code",
      "metadata": {
        "id": "XWs9oDFN4GhK"
      },
      "source": [
        "def P(t,a,b,c):\n",
        "  return a+b/(c+t)"
      ],
      "execution_count": 26,
      "outputs": []
    },
    {
      "cell_type": "code",
      "metadata": {
        "colab": {
          "base_uri": "https://localhost:8080/"
        },
        "id": "hXChZxco4OB2",
        "outputId": "213ffeb8-5ce7-4bed-8de2-cb5db6cbf93c"
      },
      "source": [
        "param ,_= curve_fit(P,x,y)\n",
        "print ( param )"
      ],
      "execution_count": 27,
      "outputs": [
        {
          "output_type": "stream",
          "text": [
            "[    7.97152383 -1657.04353334   223.80983991]\n"
          ],
          "name": "stdout"
        }
      ]
    },
    {
      "cell_type": "markdown",
      "metadata": {
        "id": "x4EWGIpV4Xdi"
      },
      "source": [
        "Por lo tanto la ecuación de Antoine es:\n",
        "\n",
        "$$\n",
        "log(P) = 7.97152383-\\frac{1657.04353334}{223.80983991+t}\n",
        "$$\n"
      ]
    },
    {
      "cell_type": "code",
      "metadata": {
        "colab": {
          "base_uri": "https://localhost:8080/",
          "height": 295
        },
        "id": "NahK2Lug4nvK",
        "outputId": "89ac6be8-a249-41ce-ee0a-70a54195bb40"
      },
      "source": [
        "xs=np.linspace (x.min(),x.max())\n",
        "ys=P(xs,*param)\n",
        "\n",
        "plt.scatter(x,y,c='r')\n",
        "plt.plot(xs,ys,'c-.')\n",
        "plt.xlabel('Temperatura')\n",
        "plt.ylabel('Log(P)')\n",
        "plt.title('Ecuacion de Antoine')\n",
        "plt.grid()\n",
        "plt.show()"
      ],
      "execution_count": 29,
      "outputs": [
        {
          "output_type": "display_data",
          "data": {
            "image/png": "[encoded data removed]",
            "text/plain": [
              "<Figure size 432x288 with 1 Axes>"
            ]
          },
          "metadata": {
            "tags": [],
            "needs_background": "light"
          }
        }
      ]
    },
    {
      "cell_type": "code",
      "metadata": {
        "id": "plp4RVW84z_x"
      },
      "source": [
        ""
      ],
      "execution_count": null,
      "outputs": []
    }
  ]
}