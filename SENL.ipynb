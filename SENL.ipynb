{
  "nbformat": 4,
  "nbformat_minor": 0,
  "metadata": {
    "colab": {
      "name": "SENL.ipynb",
      "provenance": [],
      "authorship_tag": "ABX9TyMmvuD1axcjcrOqPRQmMqJD",
      "include_colab_link": true
    },
    "kernelspec": {
      "name": "python3",
      "display_name": "Python 3"
    },
    "language_info": {
      "name": "python"
    }
  },
  "cells": [
    {
      "cell_type": "markdown",
      "metadata": {
        "id": "view-in-github",
        "colab_type": "text"
      },
      "source": [
        "<a href=\"https://colab.research.google.com/github/jcjimenezb123/ProgramacionPython/blob/master/SENL.ipynb\" target=\"_parent\"><img src=\"https://colab.research.google.com/assets/colab-badge.svg\" alt=\"Open In Colab\"/></a>"
      ]
    },
    {
      "cell_type": "code",
      "metadata": {
        "id": "BvxMElg2PYyr"
      },
      "source": [
        "import numpy as np"
      ],
      "execution_count": 1,
      "outputs": []
    },
    {
      "cell_type": "code",
      "metadata": {
        "id": "QJC-bhK2PmjT"
      },
      "source": [
        "def g(x):\n",
        "  x1,x2,x3=x #se separan los tres valores de x\n",
        "  g1=np.cos(x2*x3)/3+1/6\n",
        "  g2=np.sqrt(x1**2+np.sin(x3)+1.06)/9-0.1\n",
        "  g3=-np.exp(-x1*x2)/20+(10*np.pi-3)/60\n",
        "  return np.array([g1,g2,g3])"
      ],
      "execution_count": 2,
      "outputs": []
    },
    {
      "cell_type": "code",
      "metadata": {
        "colab": {
          "base_uri": "https://localhost:8080/"
        },
        "id": "VTlSyUrzRhUa",
        "outputId": "bd788a94-599a-42bf-8c27-2e630e3ce903"
      },
      "source": [
        "x=np.array([0.1,0.2,-0.3])"
      ],
      "execution_count": 7,
      "outputs": [
        {
          "output_type": "execute_result",
          "data": {
            "text/plain": [
              "array([0.49993692, 0.04580608, 0.42473077])"
            ]
          },
          "metadata": {},
          "execution_count": 7
        }
      ]
    },
    {
      "cell_type": "code",
      "metadata": {
        "id": "UUUbwTWCSoR8"
      },
      "source": [
        "def pfm(g,x,imax=100,tol=1e-8):\n",
        "  cumple=False\n",
        "  k=0 #cuenta el numero de iteraciones\n",
        "  while (not cumple and k<imax):\n",
        "    x0=x.copy() #se obtiene una copia de los valores iniciales\n",
        "    x=g(x0) #se calcual el vector de g\n",
        "    norma=np.linalg.norm(x-x0) #calcula la norma de la diferencia\n",
        "    print(x,norma)\n",
        "    cumple=norma<tol #se valida el criterio de conververgencia\n",
        "    k+=1 #cuenta cada iteracion\n",
        "\n",
        "  return x"
      ],
      "execution_count": 12,
      "outputs": []
    },
    {
      "cell_type": "code",
      "metadata": {
        "colab": {
          "base_uri": "https://localhost:8080/"
        },
        "id": "rYmoGoUqUwF-",
        "outputId": "5a204bf2-6b6b-4991-9da7-4a1e6a3f8b5c"
      },
      "source": [
        "x=np.array([0,0,0])\n",
        "sol=pfm(g,x)\n",
        "sol"
      ],
      "execution_count": 13,
      "outputs": [
        {
          "output_type": "stream",
          "name": "stdout",
          "text": [
            "[0.5        0.01439589 0.42359878] 0.6554717113273326\n",
            "[0.4999938  0.04576507 0.42395738] 0.031371225662540796\n",
            "[0.49993726 0.04577865 0.4247299 ] 0.0007747022272973615\n",
            "[0.49993699 0.04580606 0.4247301 ] 2.741559434220079e-05\n",
            "[0.49993692 0.04580606 0.42473077] 6.734057807872749e-07\n",
            "[0.49993692 0.04580608 0.42473077] 2.2616408820907023e-08\n",
            "[0.49993692 0.04580608 0.42473077] 5.558380325753473e-10\n"
          ]
        },
        {
          "output_type": "execute_result",
          "data": {
            "text/plain": [
              "array([0.49993692, 0.04580608, 0.42473077])"
            ]
          },
          "metadata": {},
          "execution_count": 13
        }
      ]
    },
    {
      "cell_type": "code",
      "metadata": {
        "id": "X9x9cAhVZtM0"
      },
      "source": [
        "def nrm(F,J,x,imax=100,tol=1e-8):\n",
        "  cumple=False\n",
        "  k=0\n",
        "  while(not cumple and k<imax):\n",
        "    deltax=np.linalg.solve(J(x),-F(x))\n",
        "    x=x+deltax\n",
        "    cumple=np.linalg.norm(F(x))<tol\n",
        "    k+=1\n",
        "\n",
        "  return x"
      ],
      "execution_count": 14,
      "outputs": []
    },
    {
      "cell_type": "code",
      "metadata": {
        "id": "HPk00qEQbWyq"
      },
      "source": [
        "def F(x):\n",
        "  x1,x2=x\n",
        "  f1=2*x1-x2-np.exp(-x1)\n",
        "  f2=-x1+2*x2-np.exp(-x2)\n",
        "  return np.array([f1,f2])"
      ],
      "execution_count": 15,
      "outputs": []
    },
    {
      "cell_type": "code",
      "metadata": {
        "id": "gjvb6ewYcUi1"
      },
      "source": [
        "def J(x):\n",
        "  x1,x2=x\n",
        "  df1x1=2+np.exp(-x1)\n",
        "  df1x2=-1\n",
        "  df2x1=-1\n",
        "  df2x2=2+np.exp(-x2)\n",
        "  return np.array([[df1x1,df1x2],[df2x1,df2x2]])"
      ],
      "execution_count": 16,
      "outputs": []
    },
    {
      "cell_type": "code",
      "metadata": {
        "colab": {
          "base_uri": "https://localhost:8080/"
        },
        "id": "QRkz-ge4dKCv",
        "outputId": "3b8eaf53-a90d-4828-d102-f58cd426792a"
      },
      "source": [
        "x=np.array([0,0])\n",
        "sol=nrm(F,J,x)\n",
        "sol"
      ],
      "execution_count": 17,
      "outputs": [
        {
          "output_type": "execute_result",
          "data": {
            "text/plain": [
              "array([0.56714329, 0.56714329])"
            ]
          },
          "metadata": {},
          "execution_count": 17
        }
      ]
    },
    {
      "cell_type": "code",
      "metadata": {
        "id": "11GMiOeDdqe2"
      },
      "source": [
        ""
      ],
      "execution_count": null,
      "outputs": []
    }
  ]
}