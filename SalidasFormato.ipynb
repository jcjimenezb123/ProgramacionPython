{
  "nbformat": 4,
  "nbformat_minor": 0,
  "metadata": {
    "colab": {
      "name": "SalidasFormato.ipynb",
      "provenance": [],
      "collapsed_sections": [],
      "authorship_tag": "ABX9TyN1QClKQGilildKAqzoXAf2",
      "include_colab_link": true
    },
    "kernelspec": {
      "name": "python3",
      "display_name": "Python 3"
    }
  },
  "cells": [
    {
      "cell_type": "markdown",
      "metadata": {
        "id": "view-in-github",
        "colab_type": "text"
      },
      "source": [
        "<a href=\"https://colab.research.google.com/github/jcjimenezb123/ProgramacionPython/blob/master/SalidasFormato.ipynb\" target=\"_parent\"><img src=\"https://colab.research.google.com/assets/colab-badge.svg\" alt=\"Open In Colab\"/></a>"
      ]
    },
    {
      "cell_type": "code",
      "metadata": {
        "colab": {
          "base_uri": "https://localhost:8080/"
        },
        "id": "OumXQGZS1o5N",
        "outputId": "2a80d7c0-8abb-4da0-b6ba-d71ebe970ffe"
      },
      "source": [
        "cantidad=10\n",
        "producto='Manzanas'\n",
        "precio=4.3\n",
        "print('%d %s cuestan $%.2f'%(cantidad,producto,cantidad*precio))"
      ],
      "execution_count": 4,
      "outputs": [
        {
          "output_type": "stream",
          "text": [
            "10 Manzanas cuestan $43.00\n"
          ],
          "name": "stdout"
        }
      ]
    },
    {
      "cell_type": "code",
      "metadata": {
        "id": "73YL468CTnaU",
        "outputId": "f42c4fa8-845d-4ca6-8f82-dc10bf23c857",
        "colab": {
          "base_uri": "https://localhost:8080/"
        }
      },
      "source": [
        "elementos=['Hidrogeno','Helio','Litio','Berilio']\n",
        "pesos=[1.008000,4.002602,6.940000,9.012183]\n",
        "\n",
        "for e,p in zip(elementos,pesos):\n",
        "  print('%10s %8.4f'%(e,p))"
      ],
      "execution_count": 10,
      "outputs": [
        {
          "output_type": "stream",
          "text": [
            " Hidrogeno   1.0080\n",
            "     Helio   4.0026\n",
            "     Litio   6.9400\n",
            "   Berilio   9.0122\n"
          ],
          "name": "stdout"
        }
      ]
    },
    {
      "cell_type": "markdown",
      "metadata": {
        "id": "QYBUT8DCBLEI"
      },
      "source": [
        "#${[<name>][!<conversion>][:<format\\_spec>]}$"
      ]
    },
    {
      "cell_type": "markdown",
      "metadata": {
        "id": "9cQfMsANBoDp"
      },
      "source": [
        "##$[<name>]$"
      ]
    },
    {
      "cell_type": "code",
      "metadata": {
        "colab": {
          "base_uri": "https://localhost:8080/"
        },
        "id": "d0h2WHr67ucd",
        "outputId": "aa88d32f-e399-4640-bf00-1492e0e87bfc"
      },
      "source": [
        "print('{} {} cuestan ${}'.format(cantidad,producto,cantidad*precio))"
      ],
      "execution_count": null,
      "outputs": [
        {
          "output_type": "stream",
          "text": [
            "10 Manzanas cuestan $43.0\n"
          ],
          "name": "stdout"
        }
      ]
    },
    {
      "cell_type": "code",
      "metadata": {
        "colab": {
          "base_uri": "https://localhost:8080/"
        },
        "id": "gfGuUmS32UcW",
        "outputId": "0908346f-9d3e-42ff-954c-6390c7672b0d"
      },
      "source": [
        "print('{0} {1} cuestan ${2}'.format(cantidad,producto,cantidad*precio))"
      ],
      "execution_count": null,
      "outputs": [
        {
          "output_type": "stream",
          "text": [
            "10 Manzanas cuestan $43.0\n"
          ],
          "name": "stdout"
        }
      ]
    },
    {
      "cell_type": "code",
      "metadata": {
        "colab": {
          "base_uri": "https://localhost:8080/",
          "height": 35
        },
        "id": "ZxcOpbSp7AYa",
        "outputId": "bf3eb715-78c0-49d2-cab7-7df688bdd93f"
      },
      "source": [
        "'{0} {1} cuestan ${2}. Las {1} son saludables'.format(cantidad,producto,cantidad*precio)"
      ],
      "execution_count": null,
      "outputs": [
        {
          "output_type": "execute_result",
          "data": {
            "application/vnd.google.colaboratory.intrinsic+json": {
              "type": "string"
            },
            "text/plain": [
              "'10 Manzanas cuestan $43.0. Las Manzanas son saludables'"
            ]
          },
          "metadata": {
            "tags": []
          },
          "execution_count": 7
        }
      ]
    },
    {
      "cell_type": "code",
      "metadata": {
        "colab": {
          "base_uri": "https://localhost:8080/",
          "height": 35
        },
        "id": "nzQxEDHA7Yiv",
        "outputId": "c02b98f7-6fb8-459a-f49c-fc7b7d622a1c"
      },
      "source": [
        "'{c} {p} cuestan ${pr}. Las {p} son saludables'.format(c=cantidad,p=producto,pr=cantidad*precio)"
      ],
      "execution_count": null,
      "outputs": [
        {
          "output_type": "execute_result",
          "data": {
            "application/vnd.google.colaboratory.intrinsic+json": {
              "type": "string"
            },
            "text/plain": [
              "'10 Manzanas cuestan $43.0. Las Manzanas son saludables'"
            ]
          },
          "metadata": {
            "tags": []
          },
          "execution_count": 8
        }
      ]
    },
    {
      "cell_type": "code",
      "metadata": {
        "colab": {
          "base_uri": "https://localhost:8080/"
        },
        "id": "pFcDo8RW8ScV",
        "outputId": "580f706b-1bf0-45eb-c10f-c5943e02b586"
      },
      "source": [
        "print('{} {} cuestan ${costo}'.format(cantidad,producto,costo=cantidad*precio))"
      ],
      "execution_count": null,
      "outputs": [
        {
          "output_type": "stream",
          "text": [
            "10 Manzanas cuestan $43.0\n"
          ],
          "name": "stdout"
        }
      ]
    },
    {
      "cell_type": "code",
      "metadata": {
        "colab": {
          "base_uri": "https://localhost:8080/",
          "height": 35
        },
        "id": "VN1SMDAm-AeN",
        "outputId": "27eaea0f-2c18-41df-ce81-df7ccf85d5cb"
      },
      "source": [
        "lista=[10,'Manzanas',4.3]\n",
        "'Las {0[1]} son sabrosas y cuestan ${0[2]} cada una'.format(lista)"
      ],
      "execution_count": null,
      "outputs": [
        {
          "output_type": "execute_result",
          "data": {
            "application/vnd.google.colaboratory.intrinsic+json": {
              "type": "string"
            },
            "text/plain": [
              "'Las Manzanas son sabrosas y cuestan $4.3 cada una'"
            ]
          },
          "metadata": {
            "tags": []
          },
          "execution_count": 13
        }
      ]
    },
    {
      "cell_type": "code",
      "metadata": {
        "colab": {
          "base_uri": "https://localhost:8080/",
          "height": 35
        },
        "id": "4wqF5Ksv-YuF",
        "outputId": "6b8d49b9-67a4-414b-b92a-d14d17e997a4"
      },
      "source": [
        "'Las {a[1]} son sabrosas y cuestan ${a[2]} cada una'.format(a=lista)"
      ],
      "execution_count": null,
      "outputs": [
        {
          "output_type": "execute_result",
          "data": {
            "application/vnd.google.colaboratory.intrinsic+json": {
              "type": "string"
            },
            "text/plain": [
              "'Las Manzanas son sabrosas y cuestan $4.3 cada una'"
            ]
          },
          "metadata": {
            "tags": []
          },
          "execution_count": 14
        }
      ]
    },
    {
      "cell_type": "code",
      "metadata": {
        "colab": {
          "base_uri": "https://localhost:8080/",
          "height": 35
        },
        "id": "CPB-dutu_PHi",
        "outputId": "49f2d3fc-ac1e-4804-d985-03369f292120"
      },
      "source": [
        "diccionario={'Agua':'H2O','AcidoSulfurico':'H2SO4'}\n",
        "'La formula del Acido Sulfurico es {d[AcidoSulfurico]}'.format(d=diccionario)"
      ],
      "execution_count": null,
      "outputs": [
        {
          "output_type": "execute_result",
          "data": {
            "application/vnd.google.colaboratory.intrinsic+json": {
              "type": "string"
            },
            "text/plain": [
              "'La formula del Acido Sulfurico es H2SO4'"
            ]
          },
          "metadata": {
            "tags": []
          },
          "execution_count": 15
        }
      ]
    },
    {
      "cell_type": "code",
      "metadata": {
        "colab": {
          "base_uri": "https://localhost:8080/",
          "height": 35
        },
        "id": "z5Byxhcz_0Or",
        "outputId": "ba9c39b2-d4e6-46c7-9a5d-0945e3606c26"
      },
      "source": [
        "'La formula del Acido Sulfurico es {0[AcidoSulfurico]}'.format(diccionario)"
      ],
      "execution_count": null,
      "outputs": [
        {
          "output_type": "execute_result",
          "data": {
            "application/vnd.google.colaboratory.intrinsic+json": {
              "type": "string"
            },
            "text/plain": [
              "'La formula del Acido Sulfurico es H2SO4'"
            ]
          },
          "metadata": {
            "tags": []
          },
          "execution_count": 16
        }
      ]
    },
    {
      "cell_type": "code",
      "metadata": {
        "colab": {
          "base_uri": "https://localhost:8080/",
          "height": 35
        },
        "id": "Be12KSndAMrw",
        "outputId": "f751885b-7b58-42e2-d1bf-1160a41b9844"
      },
      "source": [
        "z=1+2j\n",
        "'La parte real es {0.real} y la parte imaginaria es {0.imag}'.format(z)"
      ],
      "execution_count": null,
      "outputs": [
        {
          "output_type": "execute_result",
          "data": {
            "application/vnd.google.colaboratory.intrinsic+json": {
              "type": "string"
            },
            "text/plain": [
              "'La parte real es 1.0 y la parte imaginaria es 2.0'"
            ]
          },
          "metadata": {
            "tags": []
          },
          "execution_count": 17
        }
      ]
    },
    {
      "cell_type": "markdown",
      "metadata": {
        "id": "o4wB6JeDBupc"
      },
      "source": [
        "##$[!<conversion>]$"
      ]
    },
    {
      "cell_type": "code",
      "metadata": {
        "colab": {
          "base_uri": "https://localhost:8080/",
          "height": 35
        },
        "id": "9u8neYfkAYaU",
        "outputId": "91ae7036-0879-465f-da96-91f60ade776b"
      },
      "source": [
        "'Las {0!s} son sabrosas'.format(producto)"
      ],
      "execution_count": null,
      "outputs": [
        {
          "output_type": "execute_result",
          "data": {
            "application/vnd.google.colaboratory.intrinsic+json": {
              "type": "string"
            },
            "text/plain": [
              "'Las Manzanas son sabrosas'"
            ]
          },
          "metadata": {
            "tags": []
          },
          "execution_count": 18
        }
      ]
    },
    {
      "cell_type": "code",
      "metadata": {
        "colab": {
          "base_uri": "https://localhost:8080/",
          "height": 35
        },
        "id": "5-9jU8AbCMkD",
        "outputId": "81ca4fc1-745b-43d1-8a9e-50e8c94cebec"
      },
      "source": [
        "'Las {0!r} cuestan ${1!s}'.format(producto,precio)"
      ],
      "execution_count": null,
      "outputs": [
        {
          "output_type": "execute_result",
          "data": {
            "application/vnd.google.colaboratory.intrinsic+json": {
              "type": "string"
            },
            "text/plain": [
              "\"Las 'Manzanas' cuestan $4.3\""
            ]
          },
          "metadata": {
            "tags": []
          },
          "execution_count": 19
        }
      ]
    },
    {
      "cell_type": "code",
      "metadata": {
        "colab": {
          "base_uri": "https://localhost:8080/",
          "height": 35
        },
        "id": "xigkFa3mCcfv",
        "outputId": "980b7506-20b8-4b44-e425-a6e15f803a55"
      },
      "source": [
        "'Las {0!a} cuestan ${1!s}'.format(producto,precio)"
      ],
      "execution_count": null,
      "outputs": [
        {
          "output_type": "execute_result",
          "data": {
            "application/vnd.google.colaboratory.intrinsic+json": {
              "type": "string"
            },
            "text/plain": [
              "\"Las 'Manzanas' cuestan $4.3\""
            ]
          },
          "metadata": {
            "tags": []
          },
          "execution_count": 20
        }
      ]
    },
    {
      "cell_type": "markdown",
      "metadata": {
        "id": "DxnxcUSKCl6k"
      },
      "source": [
        "##[:<format\\_spec>]"
      ]
    },
    {
      "cell_type": "markdown",
      "metadata": {
        "id": "tW2s1IBlC0Oc"
      },
      "source": [
        "###$:[[<fill>]<align>][<sign>][\\#][0][<width>][<group>][.<prec>][<type>]$"
      ]
    },
    {
      "cell_type": "markdown",
      "metadata": {
        "id": "gvs5G3lGD4BO"
      },
      "source": [
        "####$:[<type>]$"
      ]
    },
    {
      "cell_type": "code",
      "metadata": {
        "colab": {
          "base_uri": "https://localhost:8080/",
          "height": 35
        },
        "id": "FDxPAkTnCukw",
        "outputId": "77869498-b4bf-4a50-9cc2-46d8ad0e875f"
      },
      "source": [
        "a=26\n",
        "'{:d}'.format(a)"
      ],
      "execution_count": null,
      "outputs": [
        {
          "output_type": "execute_result",
          "data": {
            "application/vnd.google.colaboratory.intrinsic+json": {
              "type": "string"
            },
            "text/plain": [
              "'26'"
            ]
          },
          "metadata": {
            "tags": []
          },
          "execution_count": 21
        }
      ]
    },
    {
      "cell_type": "code",
      "metadata": {
        "colab": {
          "base_uri": "https://localhost:8080/",
          "height": 35
        },
        "id": "KGjdKDLPENO5",
        "outputId": "f4cfb4cd-5bfd-45b2-84e0-2ed122a36963"
      },
      "source": [
        "'{:b}'.format(a)"
      ],
      "execution_count": null,
      "outputs": [
        {
          "output_type": "execute_result",
          "data": {
            "application/vnd.google.colaboratory.intrinsic+json": {
              "type": "string"
            },
            "text/plain": [
              "'11010'"
            ]
          },
          "metadata": {
            "tags": []
          },
          "execution_count": 22
        }
      ]
    },
    {
      "cell_type": "code",
      "metadata": {
        "colab": {
          "base_uri": "https://localhost:8080/",
          "height": 35
        },
        "id": "tcPxEAIIEQqm",
        "outputId": "5915d093-c9a4-457d-e74d-a1bf513e22ef"
      },
      "source": [
        "'{:o}'.format(a)"
      ],
      "execution_count": null,
      "outputs": [
        {
          "output_type": "execute_result",
          "data": {
            "application/vnd.google.colaboratory.intrinsic+json": {
              "type": "string"
            },
            "text/plain": [
              "'32'"
            ]
          },
          "metadata": {
            "tags": []
          },
          "execution_count": 23
        }
      ]
    },
    {
      "cell_type": "code",
      "metadata": {
        "colab": {
          "base_uri": "https://localhost:8080/",
          "height": 35
        },
        "id": "4BQvaZG1ETFq",
        "outputId": "d61bdf9e-c7a4-4615-fcc4-cefa7bba3705"
      },
      "source": [
        "'{:x}'.format(a)"
      ],
      "execution_count": null,
      "outputs": [
        {
          "output_type": "execute_result",
          "data": {
            "application/vnd.google.colaboratory.intrinsic+json": {
              "type": "string"
            },
            "text/plain": [
              "'1a'"
            ]
          },
          "metadata": {
            "tags": []
          },
          "execution_count": 24
        }
      ]
    },
    {
      "cell_type": "code",
      "metadata": {
        "colab": {
          "base_uri": "https://localhost:8080/",
          "height": 35
        },
        "id": "zlepo9o-EU8n",
        "outputId": "0f4023d2-9596-4fe9-9297-ca2a6434ea2e"
      },
      "source": [
        "'{:f}'.format(a)"
      ],
      "execution_count": null,
      "outputs": [
        {
          "output_type": "execute_result",
          "data": {
            "application/vnd.google.colaboratory.intrinsic+json": {
              "type": "string"
            },
            "text/plain": [
              "'26.000000'"
            ]
          },
          "metadata": {
            "tags": []
          },
          "execution_count": 25
        }
      ]
    },
    {
      "cell_type": "code",
      "metadata": {
        "colab": {
          "base_uri": "https://localhost:8080/",
          "height": 35
        },
        "id": "753JTjKpEa9C",
        "outputId": "67c44651-477e-4d36-fe11-d7b5d3f2ee15"
      },
      "source": [
        "'{:e}'.format(a)"
      ],
      "execution_count": null,
      "outputs": [
        {
          "output_type": "execute_result",
          "data": {
            "application/vnd.google.colaboratory.intrinsic+json": {
              "type": "string"
            },
            "text/plain": [
              "'2.600000e+01'"
            ]
          },
          "metadata": {
            "tags": []
          },
          "execution_count": 26
        }
      ]
    },
    {
      "cell_type": "code",
      "metadata": {
        "colab": {
          "base_uri": "https://localhost:8080/",
          "height": 35
        },
        "id": "0o3zjh19Ep3-",
        "outputId": "96c9848e-a431-4305-fdaa-c7a1196bf2ac"
      },
      "source": [
        "b=6.22e23\n",
        "'{:f}'.format(b)"
      ],
      "execution_count": 1,
      "outputs": [
        {
          "output_type": "execute_result",
          "data": {
            "application/vnd.google.colaboratory.intrinsic+json": {
              "type": "string"
            },
            "text/plain": [
              "'621999999999999987417088.000000'"
            ]
          },
          "metadata": {
            "tags": []
          },
          "execution_count": 1
        }
      ]
    },
    {
      "cell_type": "code",
      "metadata": {
        "colab": {
          "base_uri": "https://localhost:8080/",
          "height": 35
        },
        "id": "tou830RJE89m",
        "outputId": "cbfec103-164d-4699-f51b-aa0df93884f2"
      },
      "source": [
        "'{:g}'.format(b)"
      ],
      "execution_count": 8,
      "outputs": [
        {
          "output_type": "execute_result",
          "data": {
            "application/vnd.google.colaboratory.intrinsic+json": {
              "type": "string"
            },
            "text/plain": [
              "'6.22e+23'"
            ]
          },
          "metadata": {
            "tags": []
          },
          "execution_count": 8
        }
      ]
    },
    {
      "cell_type": "code",
      "metadata": {
        "colab": {
          "base_uri": "https://localhost:8080/",
          "height": 35
        },
        "id": "ZQUdrtq_aCvt",
        "outputId": "093c65b0-721a-445b-9147-0dd2d7df9987"
      },
      "source": [
        "'{:g}'.format(-123456789.8765)"
      ],
      "execution_count": 4,
      "outputs": [
        {
          "output_type": "execute_result",
          "data": {
            "application/vnd.google.colaboratory.intrinsic+json": {
              "type": "string"
            },
            "text/plain": [
              "'-1.23457e+08'"
            ]
          },
          "metadata": {
            "tags": []
          },
          "execution_count": 4
        }
      ]
    },
    {
      "cell_type": "code",
      "metadata": {
        "colab": {
          "base_uri": "https://localhost:8080/",
          "height": 35
        },
        "id": "eEhqr7j8E2BN",
        "outputId": "0f592209-7416-46e3-ff01-806bdd1124bb"
      },
      "source": [
        "'{:e}'.format(b)"
      ],
      "execution_count": 9,
      "outputs": [
        {
          "output_type": "execute_result",
          "data": {
            "application/vnd.google.colaboratory.intrinsic+json": {
              "type": "string"
            },
            "text/plain": [
              "'6.220000e+23'"
            ]
          },
          "metadata": {
            "tags": []
          },
          "execution_count": 9
        }
      ]
    },
    {
      "cell_type": "code",
      "metadata": {
        "colab": {
          "base_uri": "https://localhost:8080/",
          "height": 35
        },
        "id": "qG2KX-OwZM3X",
        "outputId": "51c9b0d5-cf74-4cbe-bbd4-d68d47e1b78a"
      },
      "source": [
        "c=0.123\n",
        "'{:%}'.format(c)"
      ],
      "execution_count": null,
      "outputs": [
        {
          "output_type": "execute_result",
          "data": {
            "application/vnd.google.colaboratory.intrinsic+json": {
              "type": "string"
            },
            "text/plain": [
              "'12.300000%'"
            ]
          },
          "metadata": {
            "tags": []
          },
          "execution_count": 35
        }
      ]
    },
    {
      "cell_type": "code",
      "metadata": {
        "colab": {
          "base_uri": "https://localhost:8080/",
          "height": 35
        },
        "id": "-8ItEdgKZUuN",
        "outputId": "93ce1e89-13f8-464c-9fc0-d1c23ad63a2f"
      },
      "source": [
        "d=64\n",
        "'{:c}'.format(d)"
      ],
      "execution_count": null,
      "outputs": [
        {
          "output_type": "execute_result",
          "data": {
            "application/vnd.google.colaboratory.intrinsic+json": {
              "type": "string"
            },
            "text/plain": [
              "'@'"
            ]
          },
          "metadata": {
            "tags": []
          },
          "execution_count": 38
        }
      ]
    },
    {
      "cell_type": "markdown",
      "metadata": {
        "id": "nixY6SH1aZH2"
      },
      "source": [
        "####$:[[<fill>]<align>]]$"
      ]
    },
    {
      "cell_type": "code",
      "metadata": {
        "colab": {
          "base_uri": "https://localhost:8080/",
          "height": 35
        },
        "id": "-_ehCNR0adET",
        "outputId": "07ad85cc-9f7f-4318-bf8a-c6ddb66568eb"
      },
      "source": [
        "a=123\n",
        "b='Hola'\n",
        "'{0:<8d}'.format(a)"
      ],
      "execution_count": null,
      "outputs": [
        {
          "output_type": "execute_result",
          "data": {
            "application/vnd.google.colaboratory.intrinsic+json": {
              "type": "string"
            },
            "text/plain": [
              "'123     '"
            ]
          },
          "metadata": {
            "tags": []
          },
          "execution_count": 43
        }
      ]
    },
    {
      "cell_type": "code",
      "metadata": {
        "colab": {
          "base_uri": "https://localhost:8080/",
          "height": 35
        },
        "id": "J3q7FciJa759",
        "outputId": "019f2dfb-60ce-42d5-846e-cb5f8851c085"
      },
      "source": [
        "'{0:<8s}'.format(b)"
      ],
      "execution_count": null,
      "outputs": [
        {
          "output_type": "execute_result",
          "data": {
            "application/vnd.google.colaboratory.intrinsic+json": {
              "type": "string"
            },
            "text/plain": [
              "'Hola    '"
            ]
          },
          "metadata": {
            "tags": []
          },
          "execution_count": 42
        }
      ]
    },
    {
      "cell_type": "code",
      "metadata": {
        "colab": {
          "base_uri": "https://localhost:8080/",
          "height": 35
        },
        "id": "X_Z-rvNUbFqf",
        "outputId": "181dcdfb-cec9-4ee0-b995-23d93d02a154"
      },
      "source": [
        "'{0:>8d}'.format(a)"
      ],
      "execution_count": null,
      "outputs": [
        {
          "output_type": "execute_result",
          "data": {
            "application/vnd.google.colaboratory.intrinsic+json": {
              "type": "string"
            },
            "text/plain": [
              "'     123'"
            ]
          },
          "metadata": {
            "tags": []
          },
          "execution_count": 44
        }
      ]
    },
    {
      "cell_type": "code",
      "metadata": {
        "colab": {
          "base_uri": "https://localhost:8080/",
          "height": 35
        },
        "id": "X1NcDWw8bIlv",
        "outputId": "967886f8-074a-4c82-dac0-d2dc60cb50ed"
      },
      "source": [
        "'{0:>8s}'.format(b)"
      ],
      "execution_count": null,
      "outputs": [
        {
          "output_type": "execute_result",
          "data": {
            "application/vnd.google.colaboratory.intrinsic+json": {
              "type": "string"
            },
            "text/plain": [
              "'    Hola'"
            ]
          },
          "metadata": {
            "tags": []
          },
          "execution_count": 45
        }
      ]
    },
    {
      "cell_type": "code",
      "metadata": {
        "colab": {
          "base_uri": "https://localhost:8080/",
          "height": 35
        },
        "id": "Xq_pfsupbSOx",
        "outputId": "a3a5f8dc-5540-4dad-a338-b40f6edd30ef"
      },
      "source": [
        "'{0:^8d}'.format(a)"
      ],
      "execution_count": null,
      "outputs": [
        {
          "output_type": "execute_result",
          "data": {
            "application/vnd.google.colaboratory.intrinsic+json": {
              "type": "string"
            },
            "text/plain": [
              "'  123   '"
            ]
          },
          "metadata": {
            "tags": []
          },
          "execution_count": 46
        }
      ]
    },
    {
      "cell_type": "code",
      "metadata": {
        "colab": {
          "base_uri": "https://localhost:8080/",
          "height": 35
        },
        "id": "nt2bcbx3bVmt",
        "outputId": "1a799e96-454b-4a53-865c-9b92b0c8ccef"
      },
      "source": [
        "'{0:^8s}'.format(b)"
      ],
      "execution_count": null,
      "outputs": [
        {
          "output_type": "execute_result",
          "data": {
            "application/vnd.google.colaboratory.intrinsic+json": {
              "type": "string"
            },
            "text/plain": [
              "'  Hola  '"
            ]
          },
          "metadata": {
            "tags": []
          },
          "execution_count": 47
        }
      ]
    },
    {
      "cell_type": "code",
      "metadata": {
        "colab": {
          "base_uri": "https://localhost:8080/",
          "height": 35
        },
        "id": "P5yJnFiXbgd9",
        "outputId": "9de6bd67-4480-45ca-bf1f-e7c9e2a2d61b"
      },
      "source": [
        "'{0:+8d}'.format(a)"
      ],
      "execution_count": null,
      "outputs": [
        {
          "output_type": "execute_result",
          "data": {
            "application/vnd.google.colaboratory.intrinsic+json": {
              "type": "string"
            },
            "text/plain": [
              "'    +123'"
            ]
          },
          "metadata": {
            "tags": []
          },
          "execution_count": 48
        }
      ]
    },
    {
      "cell_type": "code",
      "metadata": {
        "colab": {
          "base_uri": "https://localhost:8080/",
          "height": 35
        },
        "id": "jVVHHyrabmwz",
        "outputId": "4936625b-b949-461e-9f62-3f6f7f23ad0b"
      },
      "source": [
        "'{0:=+8d}'.format(a)"
      ],
      "execution_count": null,
      "outputs": [
        {
          "output_type": "execute_result",
          "data": {
            "application/vnd.google.colaboratory.intrinsic+json": {
              "type": "string"
            },
            "text/plain": [
              "'+    123'"
            ]
          },
          "metadata": {
            "tags": []
          },
          "execution_count": 49
        }
      ]
    },
    {
      "cell_type": "code",
      "metadata": {
        "colab": {
          "base_uri": "https://localhost:8080/",
          "height": 35
        },
        "id": "MFwdGI_WbxMI",
        "outputId": "09583654-19ce-460d-e85d-0fe252540416"
      },
      "source": [
        "'{0:->8s}'.format(b)"
      ],
      "execution_count": null,
      "outputs": [
        {
          "output_type": "execute_result",
          "data": {
            "application/vnd.google.colaboratory.intrinsic+json": {
              "type": "string"
            },
            "text/plain": [
              "'----Hola'"
            ]
          },
          "metadata": {
            "tags": []
          },
          "execution_count": 50
        }
      ]
    },
    {
      "cell_type": "code",
      "metadata": {
        "colab": {
          "base_uri": "https://localhost:8080/",
          "height": 35
        },
        "id": "muYMncO8b1Lv",
        "outputId": "f6e2f0fb-80b1-46e4-f047-1c9b1caf8d1c"
      },
      "source": [
        "'{0:-<8s}'.format(b)"
      ],
      "execution_count": null,
      "outputs": [
        {
          "output_type": "execute_result",
          "data": {
            "application/vnd.google.colaboratory.intrinsic+json": {
              "type": "string"
            },
            "text/plain": [
              "'Hola----'"
            ]
          },
          "metadata": {
            "tags": []
          },
          "execution_count": 51
        }
      ]
    },
    {
      "cell_type": "code",
      "metadata": {
        "colab": {
          "base_uri": "https://localhost:8080/",
          "height": 35
        },
        "id": "9UMOrS4xb5cc",
        "outputId": "3d53ab51-ef7d-4465-fe79-73d8ec3fd673"
      },
      "source": [
        "'{0:-^8s}'.format(b)"
      ],
      "execution_count": null,
      "outputs": [
        {
          "output_type": "execute_result",
          "data": {
            "application/vnd.google.colaboratory.intrinsic+json": {
              "type": "string"
            },
            "text/plain": [
              "'--Hola--'"
            ]
          },
          "metadata": {
            "tags": []
          },
          "execution_count": 53
        }
      ]
    },
    {
      "cell_type": "code",
      "metadata": {
        "colab": {
          "base_uri": "https://localhost:8080/",
          "height": 35
        },
        "id": "5T_57VFHcFBV",
        "outputId": "e539360c-7089-45f7-f182-b8615da6758f"
      },
      "source": [
        "'{0:!^8d}'.format(a)"
      ],
      "execution_count": null,
      "outputs": [
        {
          "output_type": "execute_result",
          "data": {
            "application/vnd.google.colaboratory.intrinsic+json": {
              "type": "string"
            },
            "text/plain": [
              "'!!123!!!'"
            ]
          },
          "metadata": {
            "tags": []
          },
          "execution_count": 56
        }
      ]
    },
    {
      "cell_type": "code",
      "metadata": {
        "colab": {
          "base_uri": "https://localhost:8080/",
          "height": 35
        },
        "id": "HOy_p3_Hcicc",
        "outputId": "d8f5b7ce-cf03-4fc7-bb7f-342d1ad4ece7"
      },
      "source": [
        "'${0:=8d}'.format(a)"
      ],
      "execution_count": null,
      "outputs": [
        {
          "output_type": "execute_result",
          "data": {
            "application/vnd.google.colaboratory.intrinsic+json": {
              "type": "string"
            },
            "text/plain": [
              "'$     123'"
            ]
          },
          "metadata": {
            "tags": []
          },
          "execution_count": 59
        }
      ]
    },
    {
      "cell_type": "markdown",
      "metadata": {
        "id": "Fj2Q2hb5dVrU"
      },
      "source": [
        "####$:[[<width>]]$"
      ]
    },
    {
      "cell_type": "code",
      "metadata": {
        "colab": {
          "base_uri": "https://localhost:8080/",
          "height": 35
        },
        "id": "v3xnTgWBdbes",
        "outputId": "8ebfafd7-f670-48c4-898c-8845f3450137"
      },
      "source": [
        "'{0:18s}'.format(b)"
      ],
      "execution_count": null,
      "outputs": [
        {
          "output_type": "execute_result",
          "data": {
            "application/vnd.google.colaboratory.intrinsic+json": {
              "type": "string"
            },
            "text/plain": [
              "'Hola              '"
            ]
          },
          "metadata": {
            "tags": []
          },
          "execution_count": 61
        }
      ]
    },
    {
      "cell_type": "markdown",
      "metadata": {
        "id": "EMTYrJQEdtK7"
      },
      "source": [
        "####$:[[<group>]]$"
      ]
    },
    {
      "cell_type": "code",
      "metadata": {
        "colab": {
          "base_uri": "https://localhost:8080/",
          "height": 35
        },
        "id": "QxL0UJ6wdoJm",
        "outputId": "eade172a-c1c7-4da9-e3e2-75223fbdc908"
      },
      "source": [
        "'{0:,d}'.format(1234567)"
      ],
      "execution_count": null,
      "outputs": [
        {
          "output_type": "execute_result",
          "data": {
            "application/vnd.google.colaboratory.intrinsic+json": {
              "type": "string"
            },
            "text/plain": [
              "'1,234,567'"
            ]
          },
          "metadata": {
            "tags": []
          },
          "execution_count": 63
        }
      ]
    },
    {
      "cell_type": "code",
      "metadata": {
        "colab": {
          "base_uri": "https://localhost:8080/",
          "height": 35
        },
        "id": "UfUyL5fJd3lj",
        "outputId": "9a84e5fb-1b33-4b9f-d54f-47faf3166206"
      },
      "source": [
        "'{0:,.2f}'.format(1234567.89)"
      ],
      "execution_count": null,
      "outputs": [
        {
          "output_type": "execute_result",
          "data": {
            "application/vnd.google.colaboratory.intrinsic+json": {
              "type": "string"
            },
            "text/plain": [
              "'1,234,567.89'"
            ]
          },
          "metadata": {
            "tags": []
          },
          "execution_count": 64
        }
      ]
    },
    {
      "cell_type": "code",
      "metadata": {
        "colab": {
          "base_uri": "https://localhost:8080/",
          "height": 35
        },
        "id": "cyjDZ-pjd5_9",
        "outputId": "9dd818b1-fbac-413d-d459-c218a1d12e26"
      },
      "source": [
        "'${0:18,.2f}'.format(1234567.89)"
      ],
      "execution_count": null,
      "outputs": [
        {
          "output_type": "execute_result",
          "data": {
            "application/vnd.google.colaboratory.intrinsic+json": {
              "type": "string"
            },
            "text/plain": [
              "'$      1,234,567.89'"
            ]
          },
          "metadata": {
            "tags": []
          },
          "execution_count": 67
        }
      ]
    },
    {
      "cell_type": "markdown",
      "metadata": {
        "id": "cMMr2wTmei0e"
      },
      "source": [
        "####$:[[<prec>]]$"
      ]
    },
    {
      "cell_type": "code",
      "metadata": {
        "colab": {
          "base_uri": "https://localhost:8080/",
          "height": 35
        },
        "id": "p2lZuAHQem5d",
        "outputId": "de3865b7-b61a-46d9-a797-3fbab4dece1d"
      },
      "source": [
        "'{0:8.2f}'.format(1234.5678)"
      ],
      "execution_count": null,
      "outputs": [
        {
          "output_type": "execute_result",
          "data": {
            "application/vnd.google.colaboratory.intrinsic+json": {
              "type": "string"
            },
            "text/plain": [
              "' 1234.57'"
            ]
          },
          "metadata": {
            "tags": []
          },
          "execution_count": 68
        }
      ]
    },
    {
      "cell_type": "code",
      "metadata": {
        "colab": {
          "base_uri": "https://localhost:8080/",
          "height": 35
        },
        "id": "SYp6gOUKetey",
        "outputId": "7c78c4d0-e2ce-45b3-9085-6330c6e67b2a"
      },
      "source": [
        "'{0:8.4f}'.format(1.23)"
      ],
      "execution_count": null,
      "outputs": [
        {
          "output_type": "execute_result",
          "data": {
            "application/vnd.google.colaboratory.intrinsic+json": {
              "type": "string"
            },
            "text/plain": [
              "'  1.2300'"
            ]
          },
          "metadata": {
            "tags": []
          },
          "execution_count": 69
        }
      ]
    },
    {
      "cell_type": "code",
      "metadata": {
        "colab": {
          "base_uri": "https://localhost:8080/",
          "height": 35
        },
        "id": "kNHG8u41eugt",
        "outputId": "eea6017d-abd8-4f73-b91d-3863e802c6ae"
      },
      "source": [
        "'{0:8.2e}'.format(1234.5678)"
      ],
      "execution_count": null,
      "outputs": [
        {
          "output_type": "execute_result",
          "data": {
            "application/vnd.google.colaboratory.intrinsic+json": {
              "type": "string"
            },
            "text/plain": [
              "'1.23e+03'"
            ]
          },
          "metadata": {
            "tags": []
          },
          "execution_count": 70
        }
      ]
    },
    {
      "cell_type": "code",
      "metadata": {
        "colab": {
          "base_uri": "https://localhost:8080/",
          "height": 35
        },
        "id": "ZRIXFVrhe22B",
        "outputId": "37ee65a7-b812-44f9-8c5d-c5cda2b1085d"
      },
      "source": [
        "'{0:8.4e}'.format(1.23)"
      ],
      "execution_count": null,
      "outputs": [
        {
          "output_type": "execute_result",
          "data": {
            "application/vnd.google.colaboratory.intrinsic+json": {
              "type": "string"
            },
            "text/plain": [
              "'1.2300e+00'"
            ]
          },
          "metadata": {
            "tags": []
          },
          "execution_count": 71
        }
      ]
    },
    {
      "cell_type": "markdown",
      "metadata": {
        "id": "8mnLY7svgAml"
      },
      "source": [
        "##Sintaxis f-string"
      ]
    },
    {
      "cell_type": "code",
      "metadata": {
        "colab": {
          "base_uri": "https://localhost:8080/"
        },
        "id": "yV3sR8sJgBIl",
        "outputId": "f37b2e4b-7544-4c06-a72e-791a21db937a"
      },
      "source": [
        "cantidad=10\n",
        "producto='Manzanas'\n",
        "precio=4.3\n",
        "\n",
        "print(f'{cantidad} {producto} cuestan ${cantidad*precio}')"
      ],
      "execution_count": null,
      "outputs": [
        {
          "output_type": "stream",
          "text": [
            "10 Manzanas cuestan $43.0\n"
          ],
          "name": "stdout"
        }
      ]
    },
    {
      "cell_type": "code",
      "metadata": {
        "colab": {
          "base_uri": "https://localhost:8080/",
          "height": 35
        },
        "id": "zpH36e1FgWa1",
        "outputId": "b628bb4f-e8a3-4030-c38d-7572a7f80c50"
      },
      "source": [
        "f'Las {producto} son deliciosas'"
      ],
      "execution_count": null,
      "outputs": [
        {
          "output_type": "execute_result",
          "data": {
            "application/vnd.google.colaboratory.intrinsic+json": {
              "type": "string"
            },
            "text/plain": [
              "'Las Manzanas son deliciosas'"
            ]
          },
          "metadata": {
            "tags": []
          },
          "execution_count": 75
        }
      ]
    },
    {
      "cell_type": "code",
      "metadata": {
        "colab": {
          "base_uri": "https://localhost:8080/"
        },
        "id": "-goj6MtOgo5K",
        "outputId": "3295af3a-072f-45e4-fbff-fc35ca2f758c"
      },
      "source": [
        "lista=['IQ','IQM','QFB']\n",
        "diccionario={'Agua':'H2O','Metano':'CH4'}\n",
        "print(f'Carreras {lista}\\nCompuestos {diccionario}')"
      ],
      "execution_count": null,
      "outputs": [
        {
          "output_type": "stream",
          "text": [
            "Carreras ['IQ', 'IQM', 'QFB']\n",
            "Compuestos {'Agua': 'H2O', 'Metano': 'CH4'}\n"
          ],
          "name": "stdout"
        }
      ]
    },
    {
      "cell_type": "code",
      "metadata": {
        "colab": {
          "base_uri": "https://localhost:8080/",
          "height": 35
        },
        "id": "HX-POJ5nhHoT",
        "outputId": "00c98a26-3630-4756-b268-cffa1df7de4b"
      },
      "source": [
        "f'la mejor carrera {lista[0]}'"
      ],
      "execution_count": null,
      "outputs": [
        {
          "output_type": "execute_result",
          "data": {
            "application/vnd.google.colaboratory.intrinsic+json": {
              "type": "string"
            },
            "text/plain": [
              "'la mejor carrera IQ'"
            ]
          },
          "metadata": {
            "tags": []
          },
          "execution_count": 80
        }
      ]
    },
    {
      "cell_type": "code",
      "metadata": {
        "colab": {
          "base_uri": "https://localhost:8080/",
          "height": 35
        },
        "id": "PDYwISfThm5z",
        "outputId": "977c13bf-59f7-4d5f-d259-4fb87f271c62"
      },
      "source": [
        "f\"la formula del agua es {diccionario['Agua']}\""
      ],
      "execution_count": null,
      "outputs": [
        {
          "output_type": "execute_result",
          "data": {
            "application/vnd.google.colaboratory.intrinsic+json": {
              "type": "string"
            },
            "text/plain": [
              "'la formula del agua es H2O'"
            ]
          },
          "metadata": {
            "tags": []
          },
          "execution_count": 83
        }
      ]
    },
    {
      "cell_type": "code",
      "metadata": {
        "colab": {
          "base_uri": "https://localhost:8080/",
          "height": 35
        },
        "id": "APO9up_sh_wU",
        "outputId": "472f9924-dfaa-44ab-9fd1-76be2b1881a2"
      },
      "source": [
        "f'La lista tiene {len(lista)} elementos'"
      ],
      "execution_count": null,
      "outputs": [
        {
          "output_type": "execute_result",
          "data": {
            "application/vnd.google.colaboratory.intrinsic+json": {
              "type": "string"
            },
            "text/plain": [
              "'La lista tiene 3 elementos'"
            ]
          },
          "metadata": {
            "tags": []
          },
          "execution_count": 84
        }
      ]
    },
    {
      "cell_type": "code",
      "metadata": {
        "colab": {
          "base_uri": "https://localhost:8080/",
          "height": 35
        },
        "id": "HJI--CwXiPbY",
        "outputId": "9e1b1a29-ac32-4915-cbdf-b3f3326c00fc"
      },
      "source": [
        "a=10\n",
        "b=5\n",
        "f'el valor mayor entre {a} y {b} es {a if a>b else b}'"
      ],
      "execution_count": null,
      "outputs": [
        {
          "output_type": "execute_result",
          "data": {
            "application/vnd.google.colaboratory.intrinsic+json": {
              "type": "string"
            },
            "text/plain": [
              "'el valor mayor entre 10 y 5 es 10'"
            ]
          },
          "metadata": {
            "tags": []
          },
          "execution_count": 85
        }
      ]
    },
    {
      "cell_type": "code",
      "metadata": {
        "colab": {
          "base_uri": "https://localhost:8080/",
          "height": 35
        },
        "id": "4X6nzcvei30c",
        "outputId": "86e65772-d9ec-44b3-e53d-2c597ea56097"
      },
      "source": [
        "f'Yo {\"aprobe\" if a>5 else \"reprobe\"} Metodos Numericos' "
      ],
      "execution_count": null,
      "outputs": [
        {
          "output_type": "execute_result",
          "data": {
            "application/vnd.google.colaboratory.intrinsic+json": {
              "type": "string"
            },
            "text/plain": [
              "'Yo aprobe Metodos Numericos'"
            ]
          },
          "metadata": {
            "tags": []
          },
          "execution_count": 87
        }
      ]
    },
    {
      "cell_type": "code",
      "metadata": {
        "colab": {
          "base_uri": "https://localhost:8080/",
          "height": 35
        },
        "id": "mt7nPitJjLoN",
        "outputId": "22afc8b1-f67d-4f6f-9add-cfffa137fdc5"
      },
      "source": [
        "a='ROMA'\n",
        "f'{a[::-1]}'"
      ],
      "execution_count": null,
      "outputs": [
        {
          "output_type": "execute_result",
          "data": {
            "application/vnd.google.colaboratory.intrinsic+json": {
              "type": "string"
            },
            "text/plain": [
              "'AMOR'"
            ]
          },
          "metadata": {
            "tags": []
          },
          "execution_count": 88
        }
      ]
    },
    {
      "cell_type": "code",
      "metadata": {
        "colab": {
          "base_uri": "https://localhost:8080/"
        },
        "id": "vVTBRKwLscQI",
        "outputId": "d1a7fa8b-92e0-41d4-f549-c10a0cacff98"
      },
      "source": [
        "zonas=['Norte','Centro','Sureste','Suroeste']\n",
        "produccion=[1000,800,1750,1500]\n",
        "precio=[20.4,18.9,21.32,20.98]\n",
        "\n",
        "print('{:^42}'.format(\"Reporte de produccion\"))\n",
        "print(f'{\"Zona\":^20}{\"Prod\":>6}{\"Precio\":^10}{\"Pct\":^6}')\n",
        "for r in zip(zonas,produccion,precio):\n",
        "  m=f'{\"* Maximo\" if r[1]==max(produccion) else \"\"}'\n",
        "  print(f'{r[0]:.<20}{r[1]:>6,}  ${r[2]:>6.2f} {r[1]/sum(produccion):.2%} {m}')"
      ],
      "execution_count": 3,
      "outputs": [
        {
          "output_type": "stream",
          "text": [
            "          Reporte de produccion           \n",
            "        Zona          Prod  Precio   Pct  \n",
            "Norte............... 1,000  $ 20.40 19.80% \n",
            "Centro..............   800  $ 18.90 15.84% \n",
            "Sureste............. 1,750  $ 21.32 34.65% * Maximo\n",
            "Suroeste............ 1,500  $ 20.98 29.70% \n"
          ],
          "name": "stdout"
        }
      ]
    }
  ]
}