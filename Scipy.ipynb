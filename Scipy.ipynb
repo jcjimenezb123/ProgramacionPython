{
  "nbformat": 4,
  "nbformat_minor": 0,
  "metadata": {
    "colab": {
      "name": "Scipy.ipynb",
      "provenance": [],
      "collapsed_sections": [],
      "authorship_tag": "ABX9TyNOyecLKulNOlibnw2dZsQ4",
      "include_colab_link": true
    },
    "kernelspec": {
      "name": "python3",
      "display_name": "Python 3"
    },
    "language_info": {
      "name": "python"
    }
  },
  "cells": [
    {
      "cell_type": "markdown",
      "metadata": {
        "id": "view-in-github",
        "colab_type": "text"
      },
      "source": [
        "<a href=\"https://colab.research.google.com/github/jcjimenezb123/ProgramacionPython/blob/master/Scipy.ipynb\" target=\"_parent\"><img src=\"https://colab.research.google.com/assets/colab-badge.svg\" alt=\"Open In Colab\"/></a>"
      ]
    },
    {
      "cell_type": "markdown",
      "metadata": {
        "id": "ZKciZnXUvHJ8"
      },
      "source": [
        "##Ecuaciones no lineales"
      ]
    },
    {
      "cell_type": "code",
      "metadata": {
        "id": "XnKdaxxqtuF8"
      },
      "source": [
        "from scipy.optimize import bisect,brentq,ridder,newton,broyden1,anderson"
      ],
      "execution_count": 38,
      "outputs": []
    },
    {
      "cell_type": "code",
      "metadata": {
        "id": "hWC_150BuZ8O"
      },
      "source": [
        "f=lambda x:x**2-2\n",
        "df=lambda x:2*x\n",
        "df2=lambda x:2"
      ],
      "execution_count": 17,
      "outputs": []
    },
    {
      "cell_type": "code",
      "metadata": {
        "colab": {
          "base_uri": "https://localhost:8080/"
        },
        "id": "tmmF0dD4unxV",
        "outputId": "d6603b4c-9fec-45b2-94b9-6db117c1772d"
      },
      "source": [
        "bisect(f,1,2)"
      ],
      "execution_count": 3,
      "outputs": [
        {
          "output_type": "execute_result",
          "data": {
            "text/plain": [
              "1.4142135623715149"
            ]
          },
          "metadata": {
            "tags": []
          },
          "execution_count": 3
        }
      ]
    },
    {
      "cell_type": "code",
      "metadata": {
        "colab": {
          "base_uri": "https://localhost:8080/"
        },
        "id": "N8pnz2Wpu_Np",
        "outputId": "687dfe06-1c05-4905-f578-3223d2dedc75"
      },
      "source": [
        "brentq(f,1,2)"
      ],
      "execution_count": 7,
      "outputs": [
        {
          "output_type": "execute_result",
          "data": {
            "text/plain": [
              "1.4142135623731364"
            ]
          },
          "metadata": {
            "tags": []
          },
          "execution_count": 7
        }
      ]
    },
    {
      "cell_type": "code",
      "metadata": {
        "colab": {
          "base_uri": "https://localhost:8080/"
        },
        "id": "kKSvAA6ZvRDp",
        "outputId": "f0334cf8-fa3e-4c0e-c3bb-5e27ddbc7a7a"
      },
      "source": [
        "ridder(f,1,2)"
      ],
      "execution_count": 9,
      "outputs": [
        {
          "output_type": "execute_result",
          "data": {
            "text/plain": [
              "1.4142135623740955"
            ]
          },
          "metadata": {
            "tags": []
          },
          "execution_count": 9
        }
      ]
    },
    {
      "cell_type": "code",
      "metadata": {
        "colab": {
          "base_uri": "https://localhost:8080/"
        },
        "id": "RyTd5U3Nus4i",
        "outputId": "d52d302b-a082-44a5-e5ab-78807f9d9516"
      },
      "source": [
        "newton(f,1) #secante"
      ],
      "execution_count": 4,
      "outputs": [
        {
          "output_type": "execute_result",
          "data": {
            "text/plain": [
              "1.414213562373095"
            ]
          },
          "metadata": {
            "tags": []
          },
          "execution_count": 4
        }
      ]
    },
    {
      "cell_type": "code",
      "metadata": {
        "colab": {
          "base_uri": "https://localhost:8080/"
        },
        "id": "04DA2yksuvaZ",
        "outputId": "b5d28b2b-27a2-4bd8-f538-23683108ce84"
      },
      "source": [
        "newton(f,1,fprime=df) #Newton"
      ],
      "execution_count": 20,
      "outputs": [
        {
          "output_type": "execute_result",
          "data": {
            "text/plain": [
              "1.4142135623730951"
            ]
          },
          "metadata": {
            "tags": []
          },
          "execution_count": 20
        }
      ]
    },
    {
      "cell_type": "code",
      "metadata": {
        "colab": {
          "base_uri": "https://localhost:8080/"
        },
        "id": "G27BhF0PwjY1",
        "outputId": "e0f7f087-d8c3-45b3-843b-6172f44b2a3e"
      },
      "source": [
        "newton(f,1,fprime=df,fprime2=df2) #Halley"
      ],
      "execution_count": 19,
      "outputs": [
        {
          "output_type": "execute_result",
          "data": {
            "text/plain": [
              "1.4142135623730951"
            ]
          },
          "metadata": {
            "tags": []
          },
          "execution_count": 19
        }
      ]
    },
    {
      "cell_type": "code",
      "metadata": {
        "colab": {
          "base_uri": "https://localhost:8080/"
        },
        "id": "iAp-KO0q2lGh",
        "outputId": "a36aafa7-112f-45c4-bb2a-0daca3dc01f1"
      },
      "source": [
        "broyden1(f,1)"
      ],
      "execution_count": 39,
      "outputs": [
        {
          "output_type": "execute_result",
          "data": {
            "text/plain": [
              "array(1.41421242)"
            ]
          },
          "metadata": {
            "tags": []
          },
          "execution_count": 39
        }
      ]
    },
    {
      "cell_type": "code",
      "metadata": {
        "colab": {
          "base_uri": "https://localhost:8080/"
        },
        "id": "O2f8ulMZ2spB",
        "outputId": "18a9ce2d-6c21-4fd7-dce2-dee7c00ff793"
      },
      "source": [
        "anderson(f,1)"
      ],
      "execution_count": 40,
      "outputs": [
        {
          "output_type": "execute_result",
          "data": {
            "text/plain": [
              "array(1.41421443)"
            ]
          },
          "metadata": {
            "tags": []
          },
          "execution_count": 40
        }
      ]
    },
    {
      "cell_type": "markdown",
      "metadata": {
        "id": "h2l_QO3Wvp-G"
      },
      "source": [
        "###Raices complejas"
      ]
    },
    {
      "cell_type": "code",
      "metadata": {
        "id": "QvT4jHPVuyoy"
      },
      "source": [
        "f=lambda x:x**2+2\n",
        "df=lambda x:2*x"
      ],
      "execution_count": 10,
      "outputs": []
    },
    {
      "cell_type": "code",
      "metadata": {
        "colab": {
          "base_uri": "https://localhost:8080/"
        },
        "id": "c8RKXrBAvyKv",
        "outputId": "ec1dc070-6012-43b6-c028-0a78733e52f3"
      },
      "source": [
        "newton(f,1.0j,df)"
      ],
      "execution_count": 14,
      "outputs": [
        {
          "output_type": "execute_result",
          "data": {
            "text/plain": [
              "1.4142135623730951j"
            ]
          },
          "metadata": {
            "tags": []
          },
          "execution_count": 14
        }
      ]
    },
    {
      "cell_type": "code",
      "metadata": {
        "id": "RT-frxGfv1FA"
      },
      "source": [
        "from scipy.optimize import fsolve"
      ],
      "execution_count": 21,
      "outputs": []
    },
    {
      "cell_type": "code",
      "metadata": {
        "colab": {
          "base_uri": "https://localhost:8080/"
        },
        "id": "b3SAoKPbyKqr",
        "outputId": "af4678c3-e635-4a10-ba45-38bca1e3ccf1"
      },
      "source": [
        "f=lambda x:x**2-2\n",
        "fsolve(f,[1,-1])"
      ],
      "execution_count": 24,
      "outputs": [
        {
          "output_type": "execute_result",
          "data": {
            "text/plain": [
              "array([ 1.41421356, -1.41421356])"
            ]
          },
          "metadata": {
            "tags": []
          },
          "execution_count": 24
        }
      ]
    },
    {
      "cell_type": "markdown",
      "metadata": {
        "id": "W10rcF2-2QOv"
      },
      "source": [
        "##Sistema de ecuaciones no lineales"
      ]
    },
    {
      "cell_type": "code",
      "metadata": {
        "id": "2zQkJfQeyR8K"
      },
      "source": [
        "import numpy as np\n",
        "\n",
        "def sistema(x):\n",
        "  x1,x2=x\n",
        "  return np.array([2*x1-x2-np.exp(-x1),\n",
        "                   -x1+2*x2-np.exp(-x2)])"
      ],
      "execution_count": 50,
      "outputs": []
    },
    {
      "cell_type": "code",
      "metadata": {
        "colab": {
          "base_uri": "https://localhost:8080/"
        },
        "id": "BfAu-UE81uKb",
        "outputId": "0641df77-b42b-464f-bbf6-2ad2b08fcae4"
      },
      "source": [
        "r=fsolve(sistema,[-5,-5],xtol=1e-16)\n",
        "print(r,sistema(r))"
      ],
      "execution_count": 62,
      "outputs": [
        {
          "output_type": "stream",
          "text": [
            "[0.56714329 0.56714329] [0. 0.]\n"
          ],
          "name": "stdout"
        }
      ]
    },
    {
      "cell_type": "code",
      "metadata": {
        "colab": {
          "base_uri": "https://localhost:8080/"
        },
        "id": "oVs4SGRj2wvt",
        "outputId": "7cc99112-0078-45ff-9853-d839c079fe5e"
      },
      "source": [
        "r=broyden1(sistema,[-5,-5],f_tol=1e-16)\n",
        "print(r,sistema(r))"
      ],
      "execution_count": 57,
      "outputs": [
        {
          "output_type": "stream",
          "text": [
            "[0.56714329 0.56714329] [0. 0.]\n"
          ],
          "name": "stdout"
        }
      ]
    },
    {
      "cell_type": "code",
      "metadata": {
        "colab": {
          "base_uri": "https://localhost:8080/"
        },
        "id": "7cNoTYOa2zuz",
        "outputId": "f014e9b2-6d24-4f27-a5b3-834a78b90710"
      },
      "source": [
        "r=anderson(sistema,[-5,-5],f_tol=1e-11)\n",
        "print(r,sistema(r))"
      ],
      "execution_count": 61,
      "outputs": [
        {
          "output_type": "stream",
          "text": [
            "[0.56714329 0.56714329] [-8.75077788e-13 -8.75077788e-13]\n"
          ],
          "name": "stdout"
        }
      ]
    },
    {
      "cell_type": "markdown",
      "metadata": {
        "id": "goBP6YZo-xit"
      },
      "source": [
        "##Minimo de una funcion"
      ]
    },
    {
      "cell_type": "markdown",
      "metadata": {
        "id": "mRxHDEdf-K9p"
      },
      "source": [
        "Se tiene una placa de longitud 50 y ancho 30, se desea construir una caja cortando las cuatro esquinas de longitud $x$, cual es el valor de $x$ para maximizar el volumen de la caja?\n",
        "\n",
        "$$\n",
        "v(x)=(30-2x)(50-2x)x\n",
        "$$"
      ]
    },
    {
      "cell_type": "code",
      "metadata": {
        "id": "pFA_Bdcq-6aK"
      },
      "source": [
        "f=lambda x:(30-2*x)*(50-2*x)*x"
      ],
      "execution_count": 84,
      "outputs": []
    },
    {
      "cell_type": "code",
      "metadata": {
        "colab": {
          "base_uri": "https://localhost:8080/",
          "height": 265
        },
        "id": "yK8zYdIW-_nx",
        "outputId": "133bb72c-f87c-4c4b-e03a-e708b2e2cf11"
      },
      "source": [
        "import matplotlib.pyplot as plt\n",
        "\n",
        "x=np.linspace(-3,30)\n",
        "y=f(x)\n",
        "\n",
        "plt.plot(x,y)\n",
        "plt.grid()"
      ],
      "execution_count": 87,
      "outputs": [
        {
          "output_type": "display_data",
          "data": {
            "image/png": "[encoded data removed]",
            "text/plain": [
              "<Figure size 432x288 with 1 Axes>"
            ]
          },
          "metadata": {
            "tags": [],
            "needs_background": "light"
          }
        }
      ]
    },
    {
      "cell_type": "code",
      "metadata": {
        "id": "hPHSbvHa65qu"
      },
      "source": [
        "from scipy.optimize import golden"
      ],
      "execution_count": 64,
      "outputs": []
    },
    {
      "cell_type": "code",
      "metadata": {
        "id": "7vR6ybxF22gj"
      },
      "source": [
        "fmin=lambda x:-(30-2*x)*(50-2*x)*x"
      ],
      "execution_count": 75,
      "outputs": []
    },
    {
      "cell_type": "code",
      "metadata": {
        "colab": {
          "base_uri": "https://localhost:8080/",
          "height": 282
        },
        "id": "ur1IFao363Q8",
        "outputId": "ab95a42f-996e-4a81-db57-d91e46af08e2"
      },
      "source": [
        "import matplotlib.pyplot as plt\n",
        "\n",
        "x=np.linspace(0,15)\n",
        "y=fmin(x)\n",
        "\n",
        "plt.plot(x,y)"
      ],
      "execution_count": 76,
      "outputs": [
        {
          "output_type": "execute_result",
          "data": {
            "text/plain": [
              "[<matplotlib.lines.Line2D at 0x7fb4d4b1ec90>]"
            ]
          },
          "metadata": {
            "tags": []
          },
          "execution_count": 76
        },
        {
          "output_type": "display_data",
          "data": {
            "image/png": "[encoded data removed]",
            "text/plain": [
              "<Figure size 432x288 with 1 Axes>"
            ]
          },
          "metadata": {
            "tags": [],
            "needs_background": "light"
          }
        }
      ]
    },
    {
      "cell_type": "code",
      "metadata": {
        "colab": {
          "base_uri": "https://localhost:8080/"
        },
        "id": "rFsQzU829sDS",
        "outputId": "6c9ea906-9fdb-4c9f-af62-a67c82647a9a"
      },
      "source": [
        "min=golden(fmin)\n",
        "print(min,fmin(min))"
      ],
      "execution_count": 83,
      "outputs": [
        {
          "output_type": "stream",
          "text": [
            "6.068501682390323 -4104.41036767677\n"
          ],
          "name": "stdout"
        }
      ]
    },
    {
      "cell_type": "code",
      "metadata": {
        "id": "Mc-Xj8vf7VBD"
      },
      "source": [
        "from scipy.optimize import minimize_scalar"
      ],
      "execution_count": 72,
      "outputs": []
    },
    {
      "cell_type": "code",
      "metadata": {
        "colab": {
          "base_uri": "https://localhost:8080/"
        },
        "id": "W85-ienY8xBW",
        "outputId": "1b58ab68-fcf5-458c-97be-c5d768dc43a3"
      },
      "source": [
        "min = minimize_scalar(fmin,method='Golden')\n",
        "min"
      ],
      "execution_count": 92,
      "outputs": [
        {
          "output_type": "execute_result",
          "data": {
            "text/plain": [
              "     fun: -4104.41036767677\n",
              "    nfev: 44\n",
              "     nit: 37\n",
              " success: True\n",
              "       x: 6.068501682390323"
            ]
          },
          "metadata": {
            "tags": []
          },
          "execution_count": 92
        }
      ]
    },
    {
      "cell_type": "code",
      "metadata": {
        "colab": {
          "base_uri": "https://localhost:8080/"
        },
        "id": "ncjzUtGw85Le",
        "outputId": "526a90e0-8af2-4936-9a9a-ffbbde916410"
      },
      "source": [
        "f(min.x)"
      ],
      "execution_count": 90,
      "outputs": [
        {
          "output_type": "execute_result",
          "data": {
            "text/plain": [
              "4104.41036767677"
            ]
          },
          "metadata": {
            "tags": []
          },
          "execution_count": 90
        }
      ]
    },
    {
      "cell_type": "code",
      "metadata": {
        "colab": {
          "base_uri": "https://localhost:8080/"
        },
        "id": "QoT-NctC9Ke4",
        "outputId": "3598ea08-f9b4-41c3-b55f-6d9be6eaee73"
      },
      "source": [
        "print(f(6),f(min.x),f(6.1))"
      ],
      "execution_count": 91,
      "outputs": [
        {
          "output_type": "stream",
          "text": [
            "4104 4104.41036767677 4104.324\n"
          ],
          "name": "stdout"
        }
      ]
    },
    {
      "cell_type": "markdown",
      "metadata": {
        "id": "0hhBGb1yCikE"
      },
      "source": [
        "##Integrales"
      ]
    },
    {
      "cell_type": "markdown",
      "metadata": {
        "id": "0Q7bjmKQFjI1"
      },
      "source": [
        "La cantidad de masa transportada por una tubería\n",
        "en un periodo de tiempo se calcula con la ecuación\n",
        "\n",
        "$$\n",
        "M=\\int_2^8\\left( 9+4cos(0.4t)^2\\right)\\left( 5e^{0.5t}+2e^{0.15t}\\right)dt\n",
        "$$"
      ]
    },
    {
      "cell_type": "code",
      "metadata": {
        "id": "5XB_wqZzC4cr"
      },
      "source": [
        "from scipy.integrate import simps,trapz,quad"
      ],
      "execution_count": 94,
      "outputs": []
    },
    {
      "cell_type": "code",
      "metadata": {
        "id": "wfOp3VX89hkE"
      },
      "source": [
        "f=lambda x:(9+4*np.cos(0.4*x)**2)*(5*np.exp(0.5*x)+2*np.exp(0.15*x))"
      ],
      "execution_count": 99,
      "outputs": []
    },
    {
      "cell_type": "code",
      "metadata": {
        "colab": {
          "base_uri": "https://localhost:8080/"
        },
        "id": "gFcY3yeJDF7F",
        "outputId": "ade1cff1-a541-4f8c-cc6f-2d2641fc3bf5"
      },
      "source": [
        "x=np.linspace(2,8)\n",
        "simps(f(x),x)"
      ],
      "execution_count": 101,
      "outputs": [
        {
          "output_type": "execute_result",
          "data": {
            "text/plain": [
              "6332.030910205964"
            ]
          },
          "metadata": {
            "tags": []
          },
          "execution_count": 101
        }
      ]
    },
    {
      "cell_type": "code",
      "metadata": {
        "colab": {
          "base_uri": "https://localhost:8080/"
        },
        "id": "15v7ahwNEiSV",
        "outputId": "9192cf5f-931d-4dd9-ab89-6dba26a9635d"
      },
      "source": [
        "trapz(f(x),x)"
      ],
      "execution_count": 103,
      "outputs": [
        {
          "output_type": "execute_result",
          "data": {
            "text/plain": [
              "6334.09249248221"
            ]
          },
          "metadata": {
            "tags": []
          },
          "execution_count": 103
        }
      ]
    },
    {
      "cell_type": "code",
      "metadata": {
        "colab": {
          "base_uri": "https://localhost:8080/"
        },
        "id": "eTtgulBfE4TR",
        "outputId": "2b84934b-7b5e-44a4-ca27-dd26fe0d60d2"
      },
      "source": [
        "quad(f,2,8)"
      ],
      "execution_count": 104,
      "outputs": [
        {
          "output_type": "execute_result",
          "data": {
            "text/plain": [
              "(6331.9925382759175, 7.029923907748612e-11)"
            ]
          },
          "metadata": {
            "tags": []
          },
          "execution_count": 104
        }
      ]
    },
    {
      "cell_type": "markdown",
      "metadata": {
        "id": "LPlvR_awH9It"
      },
      "source": [
        "##Ecuaciones diferenciales ordinarias"
      ]
    },
    {
      "cell_type": "markdown",
      "metadata": {
        "id": "5UFY0-c8I2Dm"
      },
      "source": [
        "Calcular la concentración final de A si la constante de velocidad de reacción $k = 2$ y la concentración inicial $C_{A0}= 1.5$ en el tiempo 0, calcular en el tiempo $t_n = 0.6$\n",
        "\n",
        "$$\n",
        "A \\xrightarrow{k=2} B\n",
        "$$\n",
        "\n",
        "$$\n",
        "\\frac{dC_A}{dt}=-2C_A\n",
        "$$"
      ]
    },
    {
      "cell_type": "code",
      "metadata": {
        "id": "H4NC4FByH0qb"
      },
      "source": [
        "from scipy.integrate import odeint"
      ],
      "execution_count": 105,
      "outputs": []
    },
    {
      "cell_type": "code",
      "metadata": {
        "id": "uljRzImAH8SE"
      },
      "source": [
        "def dydx(y,x):\n",
        "  return -2*y"
      ],
      "execution_count": 106,
      "outputs": []
    },
    {
      "cell_type": "code",
      "metadata": {
        "colab": {
          "base_uri": "https://localhost:8080/",
          "height": 282
        },
        "id": "roeqY_koIKw5",
        "outputId": "9ea376cf-f407-4453-86ac-a9cf9adfecc5"
      },
      "source": [
        "t=np.linspace(0,0.6)\n",
        "y=odeint(dydx,1.5,t)\n",
        "print(y[-1])\n",
        "plt.plot(t,y)\n",
        "plt.grid()\n",
        "plt.show()"
      ],
      "execution_count": 112,
      "outputs": [
        {
          "output_type": "stream",
          "text": [
            "[0.45179132]\n"
          ],
          "name": "stdout"
        },
        {
          "output_type": "display_data",
          "data": {
            "image/png": "[encoded data removed]",
            "text/plain": [
              "<Figure size 432x288 with 1 Axes>"
            ]
          },
          "metadata": {
            "tags": [],
            "needs_background": "light"
          }
        }
      ]
    },
    {
      "cell_type": "markdown",
      "metadata": {
        "id": "q0YPX8QALzlU"
      },
      "source": [
        "El meta-Xyleno se produce en un reactor de flujo de pistón a 1500R y 35atm a partir de Mesitileno. Ocurren dos reacciones en éste reactor\n",
        "\n",
        "$$\n",
        "Mesitileno (M) + Hidrógeno (H) \\xrightarrow{k1} Meta-Xyleno (X) + Metano\n",
        "$$\n",
        "\n",
        "$$\n",
        "Meta-Xyleno (X) + Hidrógeno (H) \\xrightarrow{k2} Tolueno (T) + Metano\n",
        "$$\n",
        "\n",
        "La segunda reacción no es deseable porque convierte el meta-Xyleno a Tolueno. El siguiente sistema se obtiene del balance\n",
        "\n",
        "$$\n",
        "\\frac{dC_H}{dt}=-k_1C_H^{0.5}C_M-k_2C_H^{0.5}C_X\n",
        "$$\n",
        "\n",
        "$$\n",
        "\\frac{dC_M}{dt}=-k_1C_H^{0.5}C_M\n",
        "$$\n",
        "\n",
        "$$\n",
        "\\frac{dC_X}{dt}=k_1C_H^{0.5}C_M -k_2C_H^{0.5}C_X\n",
        "$$\n",
        "\n",
        "Donde $k_1$ es la constante de la reacción 1, $k_2$ es la constante de la reacción 2, $C_H$,$C_M$ y\n",
        "$C_X$ son las concentraciones de hidrógeno, mesitileno y meta-Xyleno en un $t$ específico en el\n",
        "reactor. Las concentraciones de hidrógeno y mesitileno en la entrada del reactor son $0.021$ y\n",
        "$0.0105$ $lbmol/ft^3$ y $k_1 = 55.2 ft^3/lbmol 0.5/hr$ $k_2 = 30.2 ft^3/lbmol 0.5/hr$.\n",
        "\n",
        "Graficar la concentración de hidrógeno, mesitileno, meta-Xyleno como una función de $t$ de 0 a 0.5 hr."
      ]
    },
    {
      "cell_type": "code",
      "metadata": {
        "id": "Aw7RGm7SIwqd"
      },
      "source": [
        "def f(C,t):\n",
        "  k1 =55.2\n",
        "  k2 =30.2\n",
        "  #C [0] concentracion de Hidrogeno\n",
        "  #C [1] concentracion de Mesitileno\n",
        "  #C [2] concentracion de Meta - Xylen\n",
        "  dch =-k1*C s[0]**0.5* C[1] - k2*C [0]**0.5* C [2] # Hidrogeno\n",
        "  dcm =-k1*C [0]**0.5* C [1] # Mesitileno\n",
        "  dcx =k1*C [0]**0.5* C[1] - k2*C [0]**0.5* C [2] #Meta - Xylen\n",
        "  return [dch ,dcm , dcx ]"
      ],
      "execution_count": 113,
      "outputs": []
    },
    {
      "cell_type": "code",
      "metadata": {
        "colab": {
          "base_uri": "https://localhost:8080/"
        },
        "id": "re54Mr9wLTaw",
        "outputId": "e610f014-2af6-4d37-c309-a0498ee58071"
      },
      "source": [
        "x0 =0\n",
        "x1 =0.5\n",
        "y0 =[0.021 ,0.0105 ,0.]\n",
        "tiempo =np. linspace (x0 ,x1)\n",
        "sol = odeint (f,y0 , tiempo )\n",
        "sol"
      ],
      "execution_count": 115,
      "outputs": [
        {
          "output_type": "execute_result",
          "data": {
            "text/plain": [
              "array([[0.021     , 0.0105    , 0.        ],\n",
              "       [0.02016696, 0.00968495, 0.00079705],\n",
              "       [0.01937978, 0.00894753, 0.00148472],\n",
              "       [0.01863538, 0.00827906, 0.00207726],\n",
              "       [0.01793091, 0.00767198, 0.00258694],\n",
              "       [0.01726372, 0.00711968, 0.00302437],\n",
              "       [0.01663138, 0.00661634, 0.00339871],\n",
              "       [0.01603163, 0.00615685, 0.00371792],\n",
              "       [0.01546238, 0.00573673, 0.00398891],\n",
              "       [0.01492169, 0.005352  , 0.00421768],\n",
              "       [0.01440778, 0.00499915, 0.00440949],\n",
              "       [0.01391897, 0.00467504, 0.00456888],\n",
              "       [0.01345372, 0.00437693, 0.00469985],\n",
              "       [0.01301061, 0.00410235, 0.0048059 ],\n",
              "       [0.0125883 , 0.0038491 , 0.00489009],\n",
              "       [0.01218555, 0.00361523, 0.00495509],\n",
              "       [0.01180123, 0.00339898, 0.00500327],\n",
              "       [0.01143426, 0.00319877, 0.00503672],\n",
              "       [0.01108364, 0.0030132 , 0.00505724],\n",
              "       [0.01074845, 0.002841  , 0.00506644],\n",
              "       [0.01042782, 0.00268103, 0.00506576],\n",
              "       [0.01012095, 0.00253226, 0.00505643],\n",
              "       [0.00982707, 0.00239375, 0.00503957],\n",
              "       [0.00954549, 0.00226467, 0.00501615],\n",
              "       [0.00927555, 0.00214425, 0.00498705],\n",
              "       [0.00901663, 0.00203181, 0.00495301],\n",
              "       [0.00876815, 0.00192671, 0.00491473],\n",
              "       [0.00852957, 0.00182838, 0.00487281],\n",
              "       [0.00830039, 0.00173631, 0.00482776],\n",
              "       [0.00808013, 0.00165003, 0.00478008],\n",
              "       [0.00786834, 0.00156909, 0.00473016],\n",
              "       [0.0076646 , 0.00149311, 0.00467839],\n",
              "       [0.00746852, 0.00142172, 0.00462509],\n",
              "       [0.00727972, 0.00135459, 0.00457054],\n",
              "       [0.00709786, 0.00129142, 0.00451502],\n",
              "       [0.0069226 , 0.00123193, 0.00445874],\n",
              "       [0.00675365, 0.00117587, 0.00440191],\n",
              "       [0.00659069, 0.00112299, 0.0043447 ],\n",
              "       [0.00643346, 0.00107309, 0.00428728],\n",
              "       [0.0062817 , 0.00102597, 0.00422977],\n",
              "       [0.00613516, 0.00098143, 0.0041723 ],\n",
              "       [0.00599361, 0.00093931, 0.00411498],\n",
              "       [0.00585682, 0.00089946, 0.00405791],\n",
              "       [0.0057246 , 0.00086172, 0.00400115],\n",
              "       [0.00559673, 0.00082597, 0.0039448 ],\n",
              "       [0.00547304, 0.00079207, 0.00388889],\n",
              "       [0.00535334, 0.00075992, 0.00383351],\n",
              "       [0.00523748, 0.0007294 , 0.00377868],\n",
              "       [0.00512528, 0.00070042, 0.00372444],\n",
              "       [0.0050166 , 0.00067288, 0.00367084]])"
            ]
          },
          "metadata": {
            "tags": []
          },
          "execution_count": 115
        }
      ]
    },
    {
      "cell_type": "code",
      "metadata": {
        "colab": {
          "base_uri": "https://localhost:8080/",
          "height": 265
        },
        "id": "nOm0pMaSLlk1",
        "outputId": "d7239803-c0df-4d0d-8822-f237e9386ad9"
      },
      "source": [
        "plt.plot ( tiempo , sol [: ,0] , label = ' $Hidrogeno (H)$ ')\n",
        "plt.plot ( tiempo , sol [: ,1] , label = ' $Mesitileno (M)$ ')\n",
        "plt.plot ( tiempo , sol [: ,2] , label = '$Meta - Xileno (X)$ ')\n",
        "plt.legend ()\n",
        "plt.grid ()\n",
        "plt.show ()"
      ],
      "execution_count": 116,
      "outputs": [
        {
          "output_type": "display_data",
          "data": {
            "image/png": "[encoded data removed]",
            "text/plain": [
              "<Figure size 432x288 with 1 Axes>"
            ]
          },
          "metadata": {
            "tags": [],
            "needs_background": "light"
          }
        }
      ]
    }
  ]
}