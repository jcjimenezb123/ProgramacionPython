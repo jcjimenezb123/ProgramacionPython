{
  "nbformat": 4,
  "nbformat_minor": 0,
  "metadata": {
    "colab": {
      "name": "Scipy.ipynb",
      "provenance": [],
      "collapsed_sections": [],
      "authorship_tag": "ABX9TyPRxW/3IMwE/56Q/kPfhIje",
      "include_colab_link": true
    },
    "kernelspec": {
      "name": "python3",
      "display_name": "Python 3"
    },
    "language_info": {
      "name": "python"
    }
  },
  "cells": [
    {
      "cell_type": "markdown",
      "metadata": {
        "id": "view-in-github",
        "colab_type": "text"
      },
      "source": [
        "<a href=\"https://colab.research.google.com/github/jcjimenezb123/ProgramacionPython/blob/master/Scipy.ipynb\" target=\"_parent\"><img src=\"https://colab.research.google.com/assets/colab-badge.svg\" alt=\"Open In Colab\"/></a>"
      ]
    },
    {
      "cell_type": "markdown",
      "metadata": {
        "id": "ZKciZnXUvHJ8"
      },
      "source": [
        "##Ecuaciones no lineales"
      ]
    },
    {
      "cell_type": "code",
      "metadata": {
        "id": "XnKdaxxqtuF8"
      },
      "source": [
        "from scipy.optimize import bisect,brentq,ridder,newton,broyden1,anderson"
      ],
      "execution_count": 1,
      "outputs": []
    },
    {
      "cell_type": "code",
      "metadata": {
        "id": "hWC_150BuZ8O"
      },
      "source": [
        "f=lambda x:x**2-2 # ecuacion no lineal a resolver\n",
        "df=lambda x:2*x   # primer derivada de la ecuacion\n",
        "df2=lambda x:2    # segunda derivada de la ecuacion"
      ],
      "execution_count": 77,
      "outputs": []
    },
    {
      "cell_type": "code",
      "metadata": {
        "id": "kMbVYUbj0b2S",
        "outputId": "f7be8c3e-42cc-468e-ec94-022361ebf9b4",
        "colab": {
          "base_uri": "https://localhost:8080/",
          "height": 265
        }
      },
      "source": [
        "x=np.linspace(-2,2)\n",
        "plt.plot(x,f(x))\n",
        "plt.grid()"
      ],
      "execution_count": 79,
      "outputs": [
        {
          "output_type": "display_data",
          "data": {
            "image/png": "[encoded data removed]",
            "text/plain": [
              "<Figure size 432x288 with 1 Axes>"
            ]
          },
          "metadata": {
            "tags": [],
            "needs_background": "light"
          }
        }
      ]
    },
    {
      "cell_type": "code",
      "metadata": {
        "colab": {
          "base_uri": "https://localhost:8080/"
        },
        "id": "tmmF0dD4unxV",
        "outputId": "405aed11-85c4-47e7-a69c-04f31024b8f6"
      },
      "source": [
        "bisect(f,-2,-1)"
      ],
      "execution_count": 8,
      "outputs": [
        {
          "output_type": "execute_result",
          "data": {
            "text/plain": [
              "-1.4142135623715149"
            ]
          },
          "metadata": {
            "tags": []
          },
          "execution_count": 8
        }
      ]
    },
    {
      "cell_type": "code",
      "metadata": {
        "id": "TylsJwzR2cK-"
      },
      "source": [
        " def f(x):\n",
        "   return 0.8-np.tan(x)*((1-0.08*np.tan(x))/(0.08+np.tan(x)))"
      ],
      "execution_count": 82,
      "outputs": []
    },
    {
      "cell_type": "code",
      "metadata": {
        "id": "iFslhJAQ2d6w",
        "outputId": "45b4208b-90f2-471c-884f-4371953d4888",
        "colab": {
          "base_uri": "https://localhost:8080/",
          "height": 265
        }
      },
      "source": [
        "import math\n",
        "\n",
        "x=np.linspace(math.radians(10),math.radians(30),100)\n",
        "plt.plot(x,f(x))\n",
        "plt.grid()"
      ],
      "execution_count": 89,
      "outputs": [
        {
          "output_type": "display_data",
          "data": {
            "image/png": "[encoded data removed]",
            "text/plain": [
              "<Figure size 432x288 with 1 Axes>"
            ]
          },
          "metadata": {
            "tags": [],
            "needs_background": "light"
          }
        }
      ]
    },
    {
      "cell_type": "code",
      "metadata": {
        "id": "g4NK8vMV202N",
        "outputId": "72ef6639-d609-4303-c411-56b6b45434ab",
        "colab": {
          "base_uri": "https://localhost:8080/"
        }
      },
      "source": [
        "bisect(f,math.radians(10),math.radians(30))"
      ],
      "execution_count": 90,
      "outputs": [
        {
          "output_type": "execute_result",
          "data": {
            "text/plain": [
              "0.3603369070417111"
            ]
          },
          "metadata": {
            "tags": []
          },
          "execution_count": 90
        }
      ]
    },
    {
      "cell_type": "code",
      "metadata": {
        "id": "60vfGB2p5dl4"
      },
      "source": [
        "f=lambda x:x**2-2 # ecuacion no lineal a resolver\n",
        "df=lambda x:2*x   # primer derivada de la ecuacion\n",
        "df2=lambda x:2    # segunda derivada de la ecuacion"
      ],
      "execution_count": null,
      "outputs": []
    },
    {
      "cell_type": "code",
      "metadata": {
        "colab": {
          "base_uri": "https://localhost:8080/"
        },
        "id": "N8pnz2Wpu_Np",
        "outputId": "e3319009-e0d7-4c8b-9169-8d893b308441"
      },
      "source": [
        "brentq(f,1,2)"
      ],
      "execution_count": 6,
      "outputs": [
        {
          "output_type": "execute_result",
          "data": {
            "text/plain": [
              "1.4142135623731364"
            ]
          },
          "metadata": {
            "tags": []
          },
          "execution_count": 6
        }
      ]
    },
    {
      "cell_type": "code",
      "metadata": {
        "colab": {
          "base_uri": "https://localhost:8080/"
        },
        "id": "kKSvAA6ZvRDp",
        "outputId": "4cc5b7d4-24da-467c-abd9-30a898aab659"
      },
      "source": [
        "ridder(f,1,2)"
      ],
      "execution_count": 7,
      "outputs": [
        {
          "output_type": "execute_result",
          "data": {
            "text/plain": [
              "1.4142135623740955"
            ]
          },
          "metadata": {
            "tags": []
          },
          "execution_count": 7
        }
      ]
    },
    {
      "cell_type": "code",
      "metadata": {
        "colab": {
          "base_uri": "https://localhost:8080/"
        },
        "id": "RyTd5U3Nus4i",
        "outputId": "1e9f4e33-f2f3-4b24-d705-e4d99a1448ac"
      },
      "source": [
        "newton(f,1) #secante"
      ],
      "execution_count": 13,
      "outputs": [
        {
          "output_type": "execute_result",
          "data": {
            "text/plain": [
              "1.414213562373095"
            ]
          },
          "metadata": {
            "tags": []
          },
          "execution_count": 13
        }
      ]
    },
    {
      "cell_type": "code",
      "metadata": {
        "colab": {
          "base_uri": "https://localhost:8080/"
        },
        "id": "04DA2yksuvaZ",
        "outputId": "5834b59c-207f-4959-c760-2a823ee8357d"
      },
      "source": [
        "newton(f,1,fprime=df) #Newton"
      ],
      "execution_count": 17,
      "outputs": [
        {
          "output_type": "execute_result",
          "data": {
            "text/plain": [
              "1.4142135623730951"
            ]
          },
          "metadata": {
            "tags": []
          },
          "execution_count": 17
        }
      ]
    },
    {
      "cell_type": "code",
      "metadata": {
        "colab": {
          "base_uri": "https://localhost:8080/"
        },
        "id": "G27BhF0PwjY1",
        "outputId": "187950c5-7611-464e-9a60-55f008b60748"
      },
      "source": [
        "newton(f,1,fprime=df,fprime2=df2) #Halley"
      ],
      "execution_count": 18,
      "outputs": [
        {
          "output_type": "execute_result",
          "data": {
            "text/plain": [
              "1.4142135623730951"
            ]
          },
          "metadata": {
            "tags": []
          },
          "execution_count": 18
        }
      ]
    },
    {
      "cell_type": "code",
      "metadata": {
        "colab": {
          "base_uri": "https://localhost:8080/"
        },
        "id": "iAp-KO0q2lGh",
        "outputId": "6ca8292f-b61a-4663-b194-47a5b23ec14c"
      },
      "source": [
        "broyden1(f,1)"
      ],
      "execution_count": 19,
      "outputs": [
        {
          "output_type": "execute_result",
          "data": {
            "text/plain": [
              "array(1.41421242)"
            ]
          },
          "metadata": {
            "tags": []
          },
          "execution_count": 19
        }
      ]
    },
    {
      "cell_type": "code",
      "metadata": {
        "colab": {
          "base_uri": "https://localhost:8080/"
        },
        "id": "O2f8ulMZ2spB",
        "outputId": "029cd556-f739-481b-fa17-320ba5787e22"
      },
      "source": [
        "anderson(f,1)"
      ],
      "execution_count": 20,
      "outputs": [
        {
          "output_type": "execute_result",
          "data": {
            "text/plain": [
              "array(1.41421443)"
            ]
          },
          "metadata": {
            "tags": []
          },
          "execution_count": 20
        }
      ]
    },
    {
      "cell_type": "markdown",
      "metadata": {
        "id": "h2l_QO3Wvp-G"
      },
      "source": [
        "###Raices complejas"
      ]
    },
    {
      "cell_type": "code",
      "metadata": {
        "id": "QvT4jHPVuyoy"
      },
      "source": [
        "f=lambda x:x**2+2\n",
        "df=lambda x:2*x"
      ],
      "execution_count": 22,
      "outputs": []
    },
    {
      "cell_type": "code",
      "metadata": {
        "colab": {
          "base_uri": "https://localhost:8080/"
        },
        "id": "c8RKXrBAvyKv",
        "outputId": "2a6d7bda-3b5c-4c99-9b9c-efd7cc1a0038"
      },
      "source": [
        "newton(f,1.0j,df)"
      ],
      "execution_count": 25,
      "outputs": [
        {
          "output_type": "execute_result",
          "data": {
            "text/plain": [
              "1.4142135623730951j"
            ]
          },
          "metadata": {
            "tags": []
          },
          "execution_count": 25
        }
      ]
    },
    {
      "cell_type": "code",
      "metadata": {
        "id": "RT-frxGfv1FA"
      },
      "source": [
        "from scipy.optimize import fsolve"
      ],
      "execution_count": 26,
      "outputs": []
    },
    {
      "cell_type": "code",
      "metadata": {
        "colab": {
          "base_uri": "https://localhost:8080/"
        },
        "id": "b3SAoKPbyKqr",
        "outputId": "fb8be434-af1a-46f0-8119-4d829dab7411"
      },
      "source": [
        "f=lambda x:x**2-2\n",
        "fsolve(f,[1,-1])"
      ],
      "execution_count": 27,
      "outputs": [
        {
          "output_type": "execute_result",
          "data": {
            "text/plain": [
              "array([ 1.41421356, -1.41421356])"
            ]
          },
          "metadata": {
            "tags": []
          },
          "execution_count": 27
        }
      ]
    },
    {
      "cell_type": "markdown",
      "metadata": {
        "id": "W10rcF2-2QOv"
      },
      "source": [
        "##Sistema de ecuaciones no lineales"
      ]
    },
    {
      "cell_type": "markdown",
      "metadata": {
        "id": "c0UGkw-Dnt-S"
      },
      "source": [
        "$$\n",
        "f_1(x_1,x_2)=2x_1-x_2-e^{-x_1}\\\\\n",
        "f_2(x_1,x_2)=-x_1+2x_2-e^{-x_2}\n",
        "$$"
      ]
    },
    {
      "cell_type": "code",
      "metadata": {
        "id": "2zQkJfQeyR8K"
      },
      "source": [
        "import numpy as np\n",
        "\n",
        "def sistema(x):\n",
        "  x1,x2=x\n",
        "  return np.array([2*x1-x2-np.exp(-x1),\n",
        "                   -x1+2*x2-np.exp(-x2)])"
      ],
      "execution_count": 28,
      "outputs": []
    },
    {
      "cell_type": "code",
      "metadata": {
        "colab": {
          "base_uri": "https://localhost:8080/"
        },
        "id": "BfAu-UE81uKb",
        "outputId": "5f05598a-7f0c-4c4d-e66e-921c58d6ffd6"
      },
      "source": [
        "r=fsolve(sistema,[-5,-5],xtol=1e-16)\n",
        "print(r,sistema(r))"
      ],
      "execution_count": 29,
      "outputs": [
        {
          "output_type": "stream",
          "text": [
            "[0.56714329 0.56714329] [0. 0.]\n"
          ],
          "name": "stdout"
        }
      ]
    },
    {
      "cell_type": "code",
      "metadata": {
        "colab": {
          "base_uri": "https://localhost:8080/"
        },
        "id": "oVs4SGRj2wvt",
        "outputId": "65556996-30dd-468d-d435-d9b581a68cf6"
      },
      "source": [
        "r=broyden1(sistema,[-5,-5],f_tol=1e-16)\n",
        "print(r,sistema(r))"
      ],
      "execution_count": 30,
      "outputs": [
        {
          "output_type": "stream",
          "text": [
            "[0.56714329 0.56714329] [0. 0.]\n"
          ],
          "name": "stdout"
        }
      ]
    },
    {
      "cell_type": "code",
      "metadata": {
        "colab": {
          "base_uri": "https://localhost:8080/"
        },
        "id": "7cNoTYOa2zuz",
        "outputId": "95cff69b-3584-4e58-9072-68a7a504721f"
      },
      "source": [
        "r=anderson(sistema,[-5,-5],f_tol=1e-11)\n",
        "print(r,sistema(r))"
      ],
      "execution_count": 31,
      "outputs": [
        {
          "output_type": "stream",
          "text": [
            "[0.56714329 0.56714329] [-8.75077788e-13 -8.75077788e-13]\n"
          ],
          "name": "stdout"
        }
      ]
    },
    {
      "cell_type": "markdown",
      "metadata": {
        "id": "goBP6YZo-xit"
      },
      "source": [
        "##Minimo de una funcion"
      ]
    },
    {
      "cell_type": "markdown",
      "metadata": {
        "id": "mRxHDEdf-K9p"
      },
      "source": [
        "Se tiene una placa de longitud 50 y ancho 30, se desea construir una caja cortando las cuatro esquinas de longitud $x$, cual es el valor de $x$ para maximizar el volumen de la caja?\n",
        "\n",
        "$$\n",
        "v(x)=(30-2x)(50-2x)x\n",
        "$$"
      ]
    },
    {
      "cell_type": "code",
      "metadata": {
        "id": "pFA_Bdcq-6aK"
      },
      "source": [
        "f=lambda x:(30-2*x)*(50-2*x)*x"
      ],
      "execution_count": 32,
      "outputs": []
    },
    {
      "cell_type": "code",
      "metadata": {
        "colab": {
          "base_uri": "https://localhost:8080/",
          "height": 265
        },
        "id": "yK8zYdIW-_nx",
        "outputId": "d6e88d25-586d-419f-ffca-01fae9ac29fa"
      },
      "source": [
        "import matplotlib.pyplot as plt\n",
        "\n",
        "x=np.linspace(0,15)\n",
        "y=f(x)\n",
        "\n",
        "plt.plot(x,y)\n",
        "plt.grid()"
      ],
      "execution_count": 34,
      "outputs": [
        {
          "output_type": "display_data",
          "data": {
            "image/png": "[encoded data removed]",
            "text/plain": [
              "<Figure size 432x288 with 1 Axes>"
            ]
          },
          "metadata": {
            "tags": [],
            "needs_background": "light"
          }
        }
      ]
    },
    {
      "cell_type": "code",
      "metadata": {
        "id": "hPHSbvHa65qu"
      },
      "source": [
        "from scipy.optimize import golden"
      ],
      "execution_count": 35,
      "outputs": []
    },
    {
      "cell_type": "code",
      "metadata": {
        "id": "7vR6ybxF22gj"
      },
      "source": [
        "fmin=lambda x:-(30-2*x)*(50-2*x)*x"
      ],
      "execution_count": 36,
      "outputs": []
    },
    {
      "cell_type": "code",
      "metadata": {
        "colab": {
          "base_uri": "https://localhost:8080/",
          "height": 283
        },
        "id": "ur1IFao363Q8",
        "outputId": "b54cb09c-e6d7-43ca-acfe-903a6de43259"
      },
      "source": [
        "import matplotlib.pyplot as plt\n",
        "\n",
        "x=np.linspace(0,15)\n",
        "y=fmin(x)\n",
        "\n",
        "plt.plot(x,y)"
      ],
      "execution_count": 37,
      "outputs": [
        {
          "output_type": "execute_result",
          "data": {
            "text/plain": [
              "[<matplotlib.lines.Line2D at 0x7f97d2cfc410>]"
            ]
          },
          "metadata": {
            "tags": []
          },
          "execution_count": 37
        },
        {
          "output_type": "display_data",
          "data": {
            "image/png": "[encoded data removed]",
            "text/plain": [
              "<Figure size 432x288 with 1 Axes>"
            ]
          },
          "metadata": {
            "tags": [],
            "needs_background": "light"
          }
        }
      ]
    },
    {
      "cell_type": "code",
      "metadata": {
        "colab": {
          "base_uri": "https://localhost:8080/"
        },
        "id": "rFsQzU829sDS",
        "outputId": "3e16f482-a6cf-48e4-c5d8-8a83088baa8f"
      },
      "source": [
        "min=golden(fmin)\n",
        "print(min,fmin(min))"
      ],
      "execution_count": 38,
      "outputs": [
        {
          "output_type": "stream",
          "text": [
            "6.068501682390323 -4104.41036767677\n"
          ],
          "name": "stdout"
        }
      ]
    },
    {
      "cell_type": "code",
      "metadata": {
        "id": "Mc-Xj8vf7VBD"
      },
      "source": [
        "from scipy.optimize import minimize_scalar"
      ],
      "execution_count": 39,
      "outputs": []
    },
    {
      "cell_type": "code",
      "metadata": {
        "colab": {
          "base_uri": "https://localhost:8080/"
        },
        "id": "W85-ienY8xBW",
        "outputId": "0d87b6e7-e6ea-4aac-9526-d17a06efe960"
      },
      "source": [
        "min = minimize_scalar(fmin,method='Brent')\n",
        "min"
      ],
      "execution_count": 49,
      "outputs": [
        {
          "output_type": "execute_result",
          "data": {
            "text/plain": [
              "     fun: -4104.41036767677\n",
              "    nfev: 15\n",
              "     nit: 9\n",
              " success: True\n",
              "       x: 6.068501760626361"
            ]
          },
          "metadata": {
            "tags": []
          },
          "execution_count": 49
        }
      ]
    },
    {
      "cell_type": "code",
      "metadata": {
        "id": "qWN5nXc1sQQu",
        "outputId": "60b09b02-c032-4955-ac77-24bff2ccb6c3",
        "colab": {
          "base_uri": "https://localhost:8080/"
        }
      },
      "source": [
        "min.x"
      ],
      "execution_count": 46,
      "outputs": [
        {
          "output_type": "execute_result",
          "data": {
            "text/plain": [
              "6.068501682390323"
            ]
          },
          "metadata": {
            "tags": []
          },
          "execution_count": 46
        }
      ]
    },
    {
      "cell_type": "code",
      "metadata": {
        "colab": {
          "base_uri": "https://localhost:8080/"
        },
        "id": "ncjzUtGw85Le",
        "outputId": "cd9a4533-fa89-4719-82c7-f724de8774ca"
      },
      "source": [
        "f(min.x)"
      ],
      "execution_count": 44,
      "outputs": [
        {
          "output_type": "execute_result",
          "data": {
            "text/plain": [
              "4104.41036767677"
            ]
          },
          "metadata": {
            "tags": []
          },
          "execution_count": 44
        }
      ]
    },
    {
      "cell_type": "code",
      "metadata": {
        "colab": {
          "base_uri": "https://localhost:8080/"
        },
        "id": "QoT-NctC9Ke4",
        "outputId": "3ac7bf61-6ce9-4cdb-b741-28819ef9edea"
      },
      "source": [
        "print(f(6),f(min.x),f(6.1))"
      ],
      "execution_count": 47,
      "outputs": [
        {
          "output_type": "stream",
          "text": [
            "4104 4104.41036767677 4104.324\n"
          ],
          "name": "stdout"
        }
      ]
    },
    {
      "cell_type": "markdown",
      "metadata": {
        "id": "0hhBGb1yCikE"
      },
      "source": [
        "##Integrales"
      ]
    },
    {
      "cell_type": "markdown",
      "metadata": {
        "id": "0Q7bjmKQFjI1"
      },
      "source": [
        "La cantidad de masa transportada por una tubería\n",
        "en un periodo de tiempo se calcula con la ecuación\n",
        "\n",
        "$$\n",
        "M=\\int_2^8\\left( 9+4cos(0.4t)^2\\right)\\left( 5e^{0.5t}+2e^{0.15t}\\right)dt\n",
        "$$"
      ]
    },
    {
      "cell_type": "code",
      "metadata": {
        "id": "5XB_wqZzC4cr"
      },
      "source": [
        "import numpy as np\n",
        "from scipy.integrate import simps,trapz,quad"
      ],
      "execution_count": 50,
      "outputs": []
    },
    {
      "cell_type": "code",
      "metadata": {
        "id": "wfOp3VX89hkE"
      },
      "source": [
        "f=lambda x:(9+4*np.cos(0.4*x)**2)*(5*np.exp(0.5*x)+2*np.exp(0.15*x))"
      ],
      "execution_count": 51,
      "outputs": []
    },
    {
      "cell_type": "code",
      "metadata": {
        "colab": {
          "base_uri": "https://localhost:8080/"
        },
        "id": "gFcY3yeJDF7F",
        "outputId": "ab4bb260-757c-4776-b05f-b4d13438037d"
      },
      "source": [
        "x=np.linspace(2,8,100)\n",
        "simps(f(x),x)"
      ],
      "execution_count": 55,
      "outputs": [
        {
          "output_type": "execute_result",
          "data": {
            "text/plain": [
              "6331.997168808797"
            ]
          },
          "metadata": {
            "tags": []
          },
          "execution_count": 55
        }
      ]
    },
    {
      "cell_type": "code",
      "metadata": {
        "colab": {
          "base_uri": "https://localhost:8080/"
        },
        "id": "15v7ahwNEiSV",
        "outputId": "6bb83efc-6f3b-4bed-ad4c-d01f150baf8c"
      },
      "source": [
        "x=np.linspace(2,8,1000)\n",
        "trapz(f(x),x)"
      ],
      "execution_count": 60,
      "outputs": [
        {
          "output_type": "execute_result",
          "data": {
            "text/plain": [
              "6331.997590286038"
            ]
          },
          "metadata": {
            "tags": []
          },
          "execution_count": 60
        }
      ]
    },
    {
      "cell_type": "code",
      "metadata": {
        "colab": {
          "base_uri": "https://localhost:8080/"
        },
        "id": "eTtgulBfE4TR",
        "outputId": "fffb1279-9958-4a66-e79b-6ad8c186df25"
      },
      "source": [
        "quad(f,2,8)"
      ],
      "execution_count": 61,
      "outputs": [
        {
          "output_type": "execute_result",
          "data": {
            "text/plain": [
              "(6331.9925382759175, 7.029923907748612e-11)"
            ]
          },
          "metadata": {
            "tags": []
          },
          "execution_count": 61
        }
      ]
    },
    {
      "cell_type": "markdown",
      "metadata": {
        "id": "9J442OSm1IbS"
      },
      "source": [
        "$$\n",
        "f(x)=\\int_1^3e^{e^x}\n",
        "$$"
      ]
    },
    {
      "cell_type": "code",
      "metadata": {
        "id": "xaREFYJ108FY"
      },
      "source": [
        "f=lambda x:np.exp(np.exp(x))"
      ],
      "execution_count": 80,
      "outputs": []
    },
    {
      "cell_type": "code",
      "metadata": {
        "id": "qWvfv2hc1SBj",
        "outputId": "60eff867-7150-4dfc-a5ba-1cf899a39107",
        "colab": {
          "base_uri": "https://localhost:8080/"
        }
      },
      "source": [
        "quad(f,1,3)"
      ],
      "execution_count": 81,
      "outputs": [
        {
          "output_type": "execute_result",
          "data": {
            "text/plain": [
              "(27777265.192732867, 0.0001715371376320718)"
            ]
          },
          "metadata": {
            "tags": []
          },
          "execution_count": 81
        }
      ]
    },
    {
      "cell_type": "markdown",
      "metadata": {
        "id": "LPlvR_awH9It"
      },
      "source": [
        "##Ecuaciones diferenciales ordinarias"
      ]
    },
    {
      "cell_type": "markdown",
      "metadata": {
        "id": "5UFY0-c8I2Dm"
      },
      "source": [
        "Calcular la concentración final de A si la constante de velocidad de reacción $k = 2$ y la concentración inicial $C_{A0}= 1.5$ en el tiempo 0, calcular en el tiempo $t_n = 0.6$\n",
        "\n",
        "$$\n",
        "A \\xrightarrow{k=2} B\n",
        "$$\n",
        "\n",
        "$$\n",
        "\\frac{dC_A}{dt}=-2C_A\n",
        "$$"
      ]
    },
    {
      "cell_type": "code",
      "metadata": {
        "id": "H4NC4FByH0qb"
      },
      "source": [
        "from scipy.integrate import odeint"
      ],
      "execution_count": 63,
      "outputs": []
    },
    {
      "cell_type": "code",
      "metadata": {
        "id": "uljRzImAH8SE"
      },
      "source": [
        "#los parametros SIEMPRE se deben indicar \n",
        "#primero la variable dependeinte y luego la variable independiente\n",
        "def dCAdt(CA,t):\n",
        "  return -2*CA"
      ],
      "execution_count": 64,
      "outputs": []
    },
    {
      "cell_type": "code",
      "metadata": {
        "colab": {
          "base_uri": "https://localhost:8080/",
          "height": 283
        },
        "id": "roeqY_koIKw5",
        "outputId": "eed8741f-6d7f-4cbc-a748-9ae68f2800ef"
      },
      "source": [
        "t=np.linspace(0,0.6)\n",
        "#los parametros de odeint son:\n",
        "#EDO, Valor inicial,vector de la variable independiente\n",
        "y=odeint(dCAdt,1.5,t)\n",
        "print(y[-1])\n",
        "plt.plot(t,y)\n",
        "plt.grid()\n",
        "plt.show()"
      ],
      "execution_count": 72,
      "outputs": [
        {
          "output_type": "stream",
          "text": [
            "[0.45179132]\n"
          ],
          "name": "stdout"
        },
        {
          "output_type": "display_data",
          "data": {
            "image/png": "[encoded data removed]",
            "text/plain": [
              "<Figure size 432x288 with 1 Axes>"
            ]
          },
          "metadata": {
            "tags": [],
            "needs_background": "light"
          }
        }
      ]
    },
    {
      "cell_type": "code",
      "metadata": {
        "id": "iLHq8nXEwT-V",
        "outputId": "cb2d9c98-817b-4d31-a905-de3520a4f149",
        "colab": {
          "base_uri": "https://localhost:8080/"
        }
      },
      "source": [
        "print(y)"
      ],
      "execution_count": 66,
      "outputs": [
        {
          "output_type": "stream",
          "text": [
            "[[1.5       ]\n",
            " [1.46371148]\n",
            " [1.42830088]\n",
            " [1.39374692]\n",
            " [1.3600289 ]\n",
            " [1.32712659]\n",
            " [1.29502028]\n",
            " [1.26369069]\n",
            " [1.23311903]\n",
            " [1.20328698]\n",
            " [1.17417663]\n",
            " [1.14577052]\n",
            " [1.11805161]\n",
            " [1.0910033 ]\n",
            " [1.06460937]\n",
            " [1.03885399]\n",
            " [1.01372169]\n",
            " [0.98919738]\n",
            " [0.96526636]\n",
            " [0.94191429]\n",
            " [0.91912716]\n",
            " [0.89689132]\n",
            " [0.87519341]\n",
            " [0.85402042]\n",
            " [0.83335966]\n",
            " [0.81319873]\n",
            " [0.79352554]\n",
            " [0.77432829]\n",
            " [0.75559546]\n",
            " [0.73731583]\n",
            " [0.71947842]\n",
            " [0.70207255]\n",
            " [0.68508776]\n",
            " [0.66851388]\n",
            " [0.65234095]\n",
            " [0.63655929]\n",
            " [0.62115943]\n",
            " [0.60613213]\n",
            " [0.59146837]\n",
            " [0.57715936]\n",
            " [0.56319651]\n",
            " [0.54957146]\n",
            " [0.53627602]\n",
            " [0.52330224]\n",
            " [0.51064232]\n",
            " [0.49828868]\n",
            " [0.4862339 ]\n",
            " [0.47447076]\n",
            " [0.46299219]\n",
            " [0.45179132]]\n"
          ],
          "name": "stdout"
        }
      ]
    },
    {
      "cell_type": "markdown",
      "metadata": {
        "id": "q0YPX8QALzlU"
      },
      "source": [
        "El meta-Xyleno se produce en un reactor de flujo de pistón a 1500R y 35atm a partir de Mesitileno. Ocurren dos reacciones en éste reactor\n",
        "\n",
        "$$\n",
        "Mesitileno (M) + Hidrógeno (H) \\xrightarrow{k1} Meta-Xyleno (X) + Metano\n",
        "$$\n",
        "\n",
        "$$\n",
        "Meta-Xyleno (X) + Hidrógeno (H) \\xrightarrow{k2} Tolueno (T) + Metano\n",
        "$$\n",
        "\n",
        "La segunda reacción no es deseable porque convierte el meta-Xyleno a Tolueno. El siguiente sistema se obtiene del balance\n",
        "\n",
        "$$\n",
        "\\frac{dC_H}{dt}=-k_1C_H^{0.5}C_M-k_2C_H^{0.5}C_X\n",
        "$$\n",
        "\n",
        "$$\n",
        "\\frac{dC_M}{dt}=-k_1C_H^{0.5}C_M\n",
        "$$\n",
        "\n",
        "$$\n",
        "\\frac{dC_X}{dt}=k_1C_H^{0.5}C_M -k_2C_H^{0.5}C_X\n",
        "$$\n",
        "\n",
        "Donde $k_1$ es la constante de la reacción 1, $k_2$ es la constante de la reacción 2, $C_H$,$C_M$ y\n",
        "$C_X$ son las concentraciones de hidrógeno, mesitileno y meta-Xyleno en un $t$ específico en el\n",
        "reactor. Las concentraciones de hidrógeno y mesitileno en la entrada del reactor son $0.021$ y\n",
        "$0.0105$ $lbmol/ft^3$ y $k_1 = 55.2 ft^3/lbmol 0.5/hr$ $k_2 = 30.2 ft^3/lbmol 0.5/hr$.\n",
        "\n",
        "Graficar la concentración de hidrógeno, mesitileno, meta-Xyleno como una función de $t$ de 0 a 0.5 hr."
      ]
    },
    {
      "cell_type": "code",
      "metadata": {
        "id": "Aw7RGm7SIwqd"
      },
      "source": [
        "def f(C,t):\n",
        "  k1 =55.2\n",
        "  k2 =30.2\n",
        "  #C [0] concentracion de Hidrogeno\n",
        "  #C [1] concentracion de Mesitileno\n",
        "  #C [2] concentracion de Meta - Xylen\n",
        "  dch =-k1*C[0]**0.5* C[1] - k2*C [0]**0.5* C [2] # Hidrogeno\n",
        "  dcm =-k1*C [0]**0.5* C [1] # Mesitileno\n",
        "  dcx =k1*C [0]**0.5* C[1] - k2*C [0]**0.5* C [2] #Meta - Xylen\n",
        "  return [dch ,dcm , dcx ]"
      ],
      "execution_count": 73,
      "outputs": []
    },
    {
      "cell_type": "code",
      "metadata": {
        "colab": {
          "base_uri": "https://localhost:8080/"
        },
        "id": "re54Mr9wLTaw",
        "outputId": "3ab842a7-b668-4d2f-abbd-2c6b50f87ce8"
      },
      "source": [
        "x0 =0\n",
        "x1 =0.5\n",
        "y0 =[0.021 ,0.0105 ,0.]\n",
        "tiempo =np. linspace (x0 ,x1)\n",
        "sol = odeint (f,y0 , tiempo )\n",
        "sol"
      ],
      "execution_count": 75,
      "outputs": [
        {
          "output_type": "execute_result",
          "data": {
            "text/plain": [
              "array([[0.021     , 0.0105    , 0.        ],\n",
              "       [0.02016696, 0.00968495, 0.00079705],\n",
              "       [0.01937978, 0.00894753, 0.00148472],\n",
              "       [0.01863538, 0.00827906, 0.00207726],\n",
              "       [0.01793091, 0.00767198, 0.00258694],\n",
              "       [0.01726372, 0.00711968, 0.00302437],\n",
              "       [0.01663138, 0.00661634, 0.00339871],\n",
              "       [0.01603163, 0.00615685, 0.00371792],\n",
              "       [0.01546238, 0.00573673, 0.00398891],\n",
              "       [0.01492169, 0.005352  , 0.00421768],\n",
              "       [0.01440778, 0.00499915, 0.00440949],\n",
              "       [0.01391897, 0.00467504, 0.00456888],\n",
              "       [0.01345372, 0.00437693, 0.00469985],\n",
              "       [0.01301061, 0.00410235, 0.0048059 ],\n",
              "       [0.0125883 , 0.0038491 , 0.00489009],\n",
              "       [0.01218555, 0.00361523, 0.00495509],\n",
              "       [0.01180123, 0.00339898, 0.00500327],\n",
              "       [0.01143426, 0.00319877, 0.00503672],\n",
              "       [0.01108364, 0.0030132 , 0.00505724],\n",
              "       [0.01074845, 0.002841  , 0.00506644],\n",
              "       [0.01042782, 0.00268103, 0.00506576],\n",
              "       [0.01012095, 0.00253226, 0.00505643],\n",
              "       [0.00982707, 0.00239375, 0.00503957],\n",
              "       [0.00954549, 0.00226467, 0.00501615],\n",
              "       [0.00927555, 0.00214425, 0.00498705],\n",
              "       [0.00901663, 0.00203181, 0.00495301],\n",
              "       [0.00876815, 0.00192671, 0.00491473],\n",
              "       [0.00852957, 0.00182838, 0.00487281],\n",
              "       [0.00830039, 0.00173631, 0.00482776],\n",
              "       [0.00808013, 0.00165003, 0.00478008],\n",
              "       [0.00786834, 0.00156909, 0.00473016],\n",
              "       [0.0076646 , 0.00149311, 0.00467839],\n",
              "       [0.00746852, 0.00142172, 0.00462509],\n",
              "       [0.00727972, 0.00135459, 0.00457054],\n",
              "       [0.00709786, 0.00129142, 0.00451502],\n",
              "       [0.0069226 , 0.00123193, 0.00445874],\n",
              "       [0.00675365, 0.00117587, 0.00440191],\n",
              "       [0.00659069, 0.00112299, 0.0043447 ],\n",
              "       [0.00643346, 0.00107309, 0.00428728],\n",
              "       [0.0062817 , 0.00102597, 0.00422977],\n",
              "       [0.00613516, 0.00098143, 0.0041723 ],\n",
              "       [0.00599361, 0.00093931, 0.00411498],\n",
              "       [0.00585682, 0.00089946, 0.00405791],\n",
              "       [0.0057246 , 0.00086172, 0.00400115],\n",
              "       [0.00559673, 0.00082597, 0.0039448 ],\n",
              "       [0.00547304, 0.00079207, 0.00388889],\n",
              "       [0.00535334, 0.00075992, 0.00383351],\n",
              "       [0.00523748, 0.0007294 , 0.00377868],\n",
              "       [0.00512528, 0.00070042, 0.00372444],\n",
              "       [0.0050166 , 0.00067288, 0.00367084]])"
            ]
          },
          "metadata": {
            "tags": []
          },
          "execution_count": 75
        }
      ]
    },
    {
      "cell_type": "code",
      "metadata": {
        "colab": {
          "base_uri": "https://localhost:8080/",
          "height": 265
        },
        "id": "nOm0pMaSLlk1",
        "outputId": "996106e4-2335-411c-ed1c-e4b5bf413fad"
      },
      "source": [
        "plt.plot ( tiempo , sol [: ,0] , label = ' $Hidrogeno (H)$ ')\n",
        "plt.plot ( tiempo , sol [: ,1] , label = ' $Mesitileno (M)$ ')\n",
        "plt.plot ( tiempo , sol [: ,2] , label = '$Meta - Xileno (X)$ ')\n",
        "plt.legend ()\n",
        "plt.grid ()\n",
        "plt.show ()"
      ],
      "execution_count": 76,
      "outputs": [
        {
          "output_type": "display_data",
          "data": {
            "image/png": "[encoded data removed]",
            "text/plain": [
              "<Figure size 432x288 with 1 Axes>"
            ]
          },
          "metadata": {
            "tags": [],
            "needs_background": "light"
          }
        }
      ]
    }
  ]
}