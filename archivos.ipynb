{
  "nbformat": 4,
  "nbformat_minor": 0,
  "metadata": {
    "colab": {
      "name": "archivos.ipynb",
      "provenance": [],
      "collapsed_sections": [],
      "authorship_tag": "ABX9TyOhnAXcARzy62+nd2ZrZOkU",
      "include_colab_link": true
    },
    "kernelspec": {
      "name": "python3",
      "display_name": "Python 3"
    },
    "language_info": {
      "name": "python"
    }
  },
  "cells": [
    {
      "cell_type": "markdown",
      "metadata": {
        "id": "view-in-github",
        "colab_type": "text"
      },
      "source": [
        "<a href=\"https://colab.research.google.com/github/jcjimenezb123/ProgramacionPython/blob/master/archivos.ipynb\" target=\"_parent\"><img src=\"https://colab.research.google.com/assets/colab-badge.svg\" alt=\"Open In Colab\"/></a>"
      ]
    },
    {
      "cell_type": "markdown",
      "metadata": {
        "id": "wGDK9_CWrbZz"
      },
      "source": [
        "##Archivos planos"
      ]
    },
    {
      "cell_type": "code",
      "metadata": {
        "id": "Do8249zVrZ8l"
      },
      "source": [
        "with open('Euler.txt','w') as f:\n",
        "  f.write('Leonhard Paul Euler\\n\\n')\n",
        "  f.write('Conocido como Leonhard Euler y también llamado Leonardo Euler en español, ')\n",
        "  f.write('fue un matemático y físico suizo.\\n')\n",
        "  f.write('Euler ha sido uno de los matemáticos más prolíficos, ')\n",
        "  f.write('y se calcula que sus obras completas reunidas podrían ocupar entre 60 y 80 volúmenes.')"
      ],
      "execution_count": null,
      "outputs": []
    },
    {
      "cell_type": "code",
      "metadata": {
        "colab": {
          "base_uri": "https://localhost:8080/"
        },
        "id": "AEs_znWw6-co",
        "outputId": "034738c9-8f86-43a2-c778-5b0351fca687"
      },
      "source": [
        "with open('Euler.txt','r') as f:\n",
        "  contenido=f.read()\n",
        "\n",
        "print(contenido)"
      ],
      "execution_count": null,
      "outputs": [
        {
          "output_type": "stream",
          "text": [
            "Leonhard Paul Euler\n",
            "\n",
            "Conocido como Leonhard Euler y también llamado Leonardo Euler en español, fue un matemático y físico suizo.\n",
            "Euler ha sido uno de los matemáticos más prolíficos, y se calcula que sus obras completas reunidas podrían ocupar entre 60 y 80 volúmenes.\n"
          ],
          "name": "stdout"
        }
      ]
    },
    {
      "cell_type": "code",
      "metadata": {
        "colab": {
          "base_uri": "https://localhost:8080/"
        },
        "id": "wsTBO2_r8JNF",
        "outputId": "45fe6ea0-67a0-4bf2-d438-ca88aa01e38b"
      },
      "source": [
        "f=open('Euler.txt','r')\n",
        "for linea in f:\n",
        "  print(linea,end='')\n",
        "f.close()"
      ],
      "execution_count": null,
      "outputs": [
        {
          "output_type": "stream",
          "text": [
            "Leonhard Paul Euler\n",
            "\n",
            "Conocido como Leonhard Euler y también llamado Leonardo Euler en español, fue un matemático y físico suizo.\n",
            "Euler ha sido uno de los matemáticos más prolíficos, y se calcula que sus obras completas reunidas podrían ocupar entre 60 y 80 volúmenes."
          ],
          "name": "stdout"
        }
      ]
    },
    {
      "cell_type": "code",
      "metadata": {
        "id": "ibjEw6XuuvFL"
      },
      "source": [
        "T=300\n",
        "n=2\n",
        "R=0.082\n",
        "with open('GasIdeal.txt','w') as f:\n",
        "  for presion in range(1,10):\n",
        "    f.write(f'{presion:8.2f},{n*R*T/presion:8.2f}\\n')"
      ],
      "execution_count": null,
      "outputs": []
    },
    {
      "cell_type": "code",
      "metadata": {
        "colab": {
          "base_uri": "https://localhost:8080/"
        },
        "id": "rb-cMqzS6OSc",
        "outputId": "e11e3698-00f7-48a0-9e0f-71e8e43057e1"
      },
      "source": [
        "with open('GasIdeal.txt','r') as f:\n",
        "  contenido=f.read()\n",
        "\n",
        "print(contenido)"
      ],
      "execution_count": null,
      "outputs": [
        {
          "output_type": "stream",
          "text": [
            "    1.00,   49.20\n",
            "    2.00,   24.60\n",
            "    3.00,   16.40\n",
            "    4.00,   12.30\n",
            "    5.00,    9.84\n",
            "    6.00,    8.20\n",
            "    7.00,    7.03\n",
            "    8.00,    6.15\n",
            "    9.00,    5.47\n",
            "\n"
          ],
          "name": "stdout"
        }
      ]
    },
    {
      "cell_type": "code",
      "metadata": {
        "colab": {
          "base_uri": "https://localhost:8080/"
        },
        "id": "MB5i4rrc9jVe",
        "outputId": "fc8cb77e-99aa-480a-8a6a-09220cf04054"
      },
      "source": [
        "f=open('GasIdeal.txt','r')\n",
        "for linea in f:\n",
        "  pv=linea\n",
        "  print(pv,end='')\n",
        "f.close()"
      ],
      "execution_count": null,
      "outputs": [
        {
          "output_type": "stream",
          "text": [
            "    1.00,   49.20\n",
            "    2.00,   24.60\n",
            "    3.00,   16.40\n",
            "    4.00,   12.30\n",
            "    5.00,    9.84\n",
            "    6.00,    8.20\n",
            "    7.00,    7.03\n",
            "    8.00,    6.15\n",
            "    9.00,    5.47\n"
          ],
          "name": "stdout"
        }
      ]
    },
    {
      "cell_type": "markdown",
      "metadata": {
        "id": "5AzrY0XGLJ9_"
      },
      "source": [
        "##Excel"
      ]
    },
    {
      "cell_type": "code",
      "metadata": {
        "colab": {
          "base_uri": "https://localhost:8080/"
        },
        "id": "szfzfLZgLLK7",
        "outputId": "584f5e43-5549-46e5-aca4-8a270d3641f2"
      },
      "source": [
        "!pip install openpyxl"
      ],
      "execution_count": null,
      "outputs": [
        {
          "output_type": "stream",
          "text": [
            "Requirement already satisfied: openpyxl in /usr/local/lib/python3.7/dist-packages (2.5.9)\n",
            "Requirement already satisfied: et-xmlfile in /usr/local/lib/python3.7/dist-packages (from openpyxl) (1.1.0)\n",
            "Requirement already satisfied: jdcal in /usr/local/lib/python3.7/dist-packages (from openpyxl) (1.4.1)\n"
          ],
          "name": "stdout"
        }
      ]
    },
    {
      "cell_type": "code",
      "metadata": {
        "id": "6OHXoI3oEgnh"
      },
      "source": [
        "from openpyxl import Workbook\n",
        "\n",
        "libro = Workbook()\n",
        "\n",
        "#obtiene la hoja activa\n",
        "hoja = libro.active\n",
        "hoja.cell(row=1,column=1,value=1.4142)\n",
        "hoja.cell(row=2,column=1).value=2.7178\n",
        "hoja['A3']=3.1416\n",
        "\n",
        "libro.save(filename='MiLibro.xlsx')"
      ],
      "execution_count": null,
      "outputs": []
    },
    {
      "cell_type": "code",
      "metadata": {
        "id": "LVlCWFwvYori"
      },
      "source": [
        "#     -oO| Procesa los datos |Oo-\n",
        "import numpy as np\n",
        "\n",
        "#concentracion (variable independiente x)\n",
        "x=np.array([4.1,12.2,20.3,28.2,38.1,45.2])\n",
        "#densidad  (variable dependiente y)\n",
        "y=np.array([1.0276,1.1013,1.1801,1.2652,1.3480,1.4120])\n",
        "\n",
        "#obtiene la interpolacion lineal\n",
        "xi = np.linspace(x.min(),x.max(),10)\n",
        "yi = np.interp(xi, x, y) #interpolacion lineal\n",
        "\n",
        "\n",
        "#     -oO| Persiste los datos |Oo-\n",
        "from openpyxl import Workbook\n",
        "\n",
        "libro = Workbook()\n",
        "\n",
        "#obtiene la hoja activa\n",
        "hoja = libro.active\n",
        "#periste los datos en el archivo Excel\n",
        "for i,(x,y) in enumerate(zip(xi,yi)):\n",
        "  #se cambia el renglon en la columna 1 y asigna el valor de x\n",
        "  hoja.cell(row=i+1,column=1).value=x \n",
        "  #se cambia el renglon en la columna 2 y asigna el valor de y\n",
        "  hoja.cell(row=i+1,column=2).value=y\n",
        "\n",
        "hoja.cell(row=11,column=1).value='=SUM(A1:A10)'\n",
        "hoja.cell(row=11,column=2).value='=AVERAGE(b1:b10)'\n",
        "\n",
        "libro.save(filename='Interp.xlsx')"
      ],
      "execution_count": null,
      "outputs": []
    },
    {
      "cell_type": "code",
      "metadata": {
        "id": "fPDHdfL3_6Ef"
      },
      "source": [
        "from openpyxl.utils import FORMULAE\n",
        "\n",
        "FORMULAE"
      ],
      "execution_count": null,
      "outputs": []
    },
    {
      "cell_type": "code",
      "metadata": {
        "id": "8Kn7XVcqt4kd"
      },
      "source": [
        "from openpyxl import Workbook\n",
        "\n",
        "#lista de alumnos y sus calificaciones\n",
        "grupo=[('Juan',10),('Pedro',9),('Ana',8),('Jose',6),\\\n",
        "       ('Maria',7),('Paola',10),('Ernesto',5),\\\n",
        "       ('Francisco',8),('Laura',10)]\n",
        "\n",
        "libro = Workbook()\n",
        "\n",
        "#obtiene la hoja activa\n",
        "hoja = libro.active\n",
        "\n",
        "#escibe los titulos\n",
        "hoja.cell(row=1,column=1).value='Nombre'\n",
        "hoja.cell(row=1,column=2).value='Calificacion'\n",
        "\n",
        "#guarda la informacion de la lista\n",
        "for i,(nombre,cal) in enumerate(grupo):\n",
        "  #se cambia el renglon en la columna 1 y asigna el valor del nombre\n",
        "  hoja.cell(row=i+2,column=1).value=nombre \n",
        "  #se cambia el renglon en la columna 2 y asigna el valor de la calificacion\n",
        "  hoja.cell(row=i+2,column=2).value=cal\n",
        "\n",
        "#calcula la cantidad de alumnos\n",
        "hoja.cell(row=12,column=1).value='Total Alumnos'\n",
        "hoja['b12']='=COUNT(B2:B10)'\n",
        "\n",
        "#calcula el promedio general\n",
        "hoja.cell(row=13,column=1).value='Promedio Gral'\n",
        "hoja['b13']='=AVERAGE(b2:b10)'\n",
        "\n",
        "#cuenta los alumnos si su calificacion es mayor a 5\n",
        "hoja.cell(row=15,column=1).value='Alumnos aprobados'\n",
        "hoja['b15']='=COUNTIF(B2:B10,\">5\")'\n",
        "\n",
        "#promedia los alumnos si su calificacion es mayor a 5\n",
        "hoja.cell(row=16,column=1).value='Promedio Aprobados'\n",
        "hoja['b16']='=AVERAGEIF(b2:b10,\">5\")'\n",
        "\n",
        "libro.save(filename='alumnos.xlsx')"
      ],
      "execution_count": null,
      "outputs": []
    },
    {
      "cell_type": "code",
      "metadata": {
        "id": "NKrkPjAbnXj5"
      },
      "source": [
        "from openpyxl.styles import NamedStyle, Font, Color, Alignment, Border, Side,PatternFill\n",
        "from openpyxl.worksheet.dimensions import ColumnDimension\n",
        "from openpyxl import Workbook\n",
        "\n",
        "#lista de alumnos y sus calificaciones\n",
        "grupo=[('Juan',10),('Pedro',9),('Ana',8),('Jose',6),\\\n",
        "       ('Maria',7),('Paola',10),('Ernesto',5),\\\n",
        "       ('Francisco',8),('Laura',10)]\n",
        "\n",
        "#define el estilo\n",
        "encabezado = NamedStyle(name=\"encabezado\")\n",
        "\n",
        "encabezado.alignment = Alignment(horizontal=\"center\")\n",
        "encabezado.font = Font(name='Calibri',bold=True,color=\"FFFFFF\", size=12)\n",
        "encabezado.fill = PatternFill(start_color='0099CA',\n",
        "                   end_color='0099CA',\n",
        "                   fill_type='solid')\n",
        "\n",
        "libro = Workbook()\n",
        "\n",
        "#obtiene la hoja activa\n",
        "hoja = libro.active\n",
        "\n",
        "#escibe los titulos\n",
        "hoja['a1']='Nombre'\n",
        "hoja['b1']='Calificacion'\n",
        "\n",
        "#cambia el estilo\n",
        "hoja['a1'].style=encabezado\n",
        "hoja.column_dimensions['A'].width=20\n",
        "\n",
        "hoja['b1'].style=encabezado\n",
        "hoja.column_dimensions['B'].width=15\n",
        "\n",
        "#guarda la informacion de la lista\n",
        "for i,(nombre,cal) in enumerate(grupo):\n",
        "  #se cambia el renglon en la columna 1 y asigna el valor del nombre\n",
        "  hoja.cell(row=i+2,column=1).value=nombre \n",
        "  #se cambia el renglon en la columna 2 y asigna el valor de la calificacion\n",
        "  hoja.cell(row=i+2,column=2).value=cal\n",
        "\n",
        "libro.save(filename='alumnos.xlsx')"
      ],
      "execution_count": 10,
      "outputs": []
    },
    {
      "cell_type": "code",
      "metadata": {
        "id": "29_mwWF3HTNV"
      },
      "source": [
        "from openpyxl.styles import NamedStyle, Font, Color, Alignment, Border, Side,PatternFill\n",
        "from openpyxl.styles.differential import DifferentialStyle\n",
        "from openpyxl.formatting.rule import Rule\n",
        "from openpyxl import Workbook\n",
        "\n",
        "#lista de alumnos y sus calificaciones\n",
        "grupo=[('Juan',10),('Pedro',9),('Ana',8),('Jose',6),\\\n",
        "       ('Maria',7),('Paola',10),('Ernesto',5),\\\n",
        "       ('Francisco',8),('Laura',10)]\n",
        "\n",
        "#define el estilo\n",
        "encabezado = NamedStyle(name=\"encabezado\")\n",
        "\n",
        "encabezado.alignment = Alignment(horizontal=\"center\")\n",
        "encabezado.font = Font(name='Calibri',bold=True,color=\"FFFFFF\", size=12)\n",
        "encabezado.fill = PatternFill(start_color='0099CA',\n",
        "                   end_color='0099CA',\n",
        "                   fill_type='solid')\n",
        "\n",
        "libro = Workbook()\n",
        "\n",
        "#obtiene la hoja activa\n",
        "hoja = libro.active\n",
        "\n",
        "#escibe los titulos\n",
        "hoja['a1']='Nombre'\n",
        "hoja['b1']='Calificacion'\n",
        "\n",
        "#cambia el estilo\n",
        "hoja['a1'].style=encabezado\n",
        "hoja.column_dimensions['A'].width=20\n",
        "\n",
        "hoja['b1'].style=encabezado\n",
        "hoja.column_dimensions['B'].width=15\n",
        "\n",
        "#Estilo condicionado\n",
        "rojo=PatternFill(bgColor=\"F39D9D\")  #color de letra\n",
        "estilo_cond = DifferentialStyle(fill=rojo) #estilo condicionado\n",
        "regla = Rule(type=\"expression\", dxf=estilo_cond) #crea regla\n",
        "regla.formula = [\"$b2<6\"]  #define la formula\n",
        "hoja.conditional_formatting.add(\"b2:b10\", regla) #asigna el estilo al reango\n",
        "\n",
        "#guarda la informacion de la lista\n",
        "for i,(nombre,cal) in enumerate(grupo):\n",
        "  #se cambia el renglon en la columna 1 y asigna el valor del nombre\n",
        "  hoja.cell(row=i+2,column=1).value=nombre \n",
        "  #se cambia el renglon en la columna 2 y asigna el valor de la calificacion\n",
        "  hoja.cell(row=i+2,column=2).value=cal\n",
        "\n",
        "libro.save(filename='alumnos.xlsx')"
      ],
      "execution_count": 4,
      "outputs": []
    },
    {
      "cell_type": "code",
      "metadata": {
        "id": "TefahaLtlm3M"
      },
      "source": [
        "from openpyxl.styles import NamedStyle, Font, Color, Alignment, Border, Side,PatternFill\n",
        "from openpyxl.styles.differential import DifferentialStyle\n",
        "from openpyxl.formatting.rule import Rule\n",
        "from openpyxl import Workbook\n",
        "\n",
        "#lista de alumnos y sus calificaciones\n",
        "grupo=[('Juan',10),('Pedro',9),('Ana',8),('Jose',6),\\\n",
        "       ('Maria',7),('Paola',10),('Ernesto',5),\\\n",
        "       ('Francisco',8),('Laura',10)]\n",
        "\n",
        "#define el estilo\n",
        "encabezado = NamedStyle(name=\"encabezado\")\n",
        "\n",
        "encabezado.alignment = Alignment(horizontal=\"center\")\n",
        "encabezado.font = Font(name='Calibri',bold=True,color=\"FFFFFF\", size=12)\n",
        "encabezado.fill = PatternFill(start_color='0099CA',\n",
        "                   end_color='0099CA',\n",
        "                   fill_type='solid')\n",
        "\n",
        "libro = Workbook()\n",
        "\n",
        "#obtiene la hoja activa\n",
        "hoja = libro.active\n",
        "\n",
        "#escibe los titulos\n",
        "hoja['a1']='Nombre'\n",
        "hoja['b1']='Calificacion'\n",
        "\n",
        "#cambia el estilo\n",
        "hoja['a1'].style=encabezado\n",
        "hoja.column_dimensions['A'].width=20\n",
        "\n",
        "hoja['b1'].style=encabezado\n",
        "hoja.column_dimensions['B'].width=15\n",
        "\n",
        "#Estilo condicionado\n",
        "from openpyxl.formatting.rule import ColorScaleRule\n",
        "escala_color = ColorScaleRule(start_type=\"min\",\n",
        "                              start_color=\"00FF0000\",  # rojo\n",
        "                              end_type=\"max\",\n",
        "                              end_color=\"0000FF00\")  # verde\n",
        "\n",
        "# aplica la escala de colores al rango\n",
        "hoja.conditional_formatting.add(\"b2:b10\", escala_color)\n",
        "\n",
        "#guarda la informacion de la lista\n",
        "for i,(nombre,cal) in enumerate(grupo):\n",
        "  #se cambia el renglon en la columna 1 y asigna el valor del nombre\n",
        "  hoja.cell(row=i+2,column=1).value=nombre \n",
        "  #se cambia el renglon en la columna 2 y asigna el valor de la calificacion\n",
        "  hoja.cell(row=i+2,column=2).value=cal\n",
        "\n",
        "libro.save(filename='alumnos.xlsx')"
      ],
      "execution_count": 5,
      "outputs": []
    },
    {
      "cell_type": "code",
      "metadata": {
        "id": "PrY3ogYJLYg2"
      },
      "source": [
        "from openpyxl import Workbook\n",
        "\n",
        "workbook = Workbook()\n",
        "sheet = workbook.active\n",
        "\n",
        "sheet.title='Hola'\n",
        "sheet.sheet_properties.tabColor = '3393FF'\n",
        "\n",
        "sheet[\"A1\"] = \"Hola\"\n",
        "sheet[\"B1\"] = \"Mundo!\"\n",
        "\n",
        "workbook.properties.creator='Juan Carlos Jimenez'\n",
        "workbook.properties.version='1.0'\n",
        "workbook.properties.title='Hola Mundo'\n",
        "workbook.properties.subject='Python para ingenieros'\n",
        "workbook.properties.keywords='Python'\n",
        "workbook.properties.description='Ejemplo de guardado desde Python'\n",
        "\n",
        "#workbook.security.lockStructure=True\n",
        "#workbook.security.workbookPassword='Libro'\n",
        "\n",
        "\n",
        "#sheet.protection.sheet=True\n",
        "#sheet.protection.set_password('clave')\n",
        "#sheet.protection.enable()\n",
        "\n",
        "workbook.save(filename=\"MiArchivo.xlsx\")"
      ],
      "execution_count": null,
      "outputs": []
    },
    {
      "cell_type": "code",
      "metadata": {
        "id": "5AjyjqVEM0AY"
      },
      "source": [
        "# importamos load_workbook\n",
        "from openpyxl import load_workbook\n",
        "\n",
        "# ruta de nuestro archivo\n",
        "filesheet = \"MiArchivo.xlsx\"\n",
        "\n",
        "# creamos el objeto load_workbook\n",
        "wb = load_workbook(filesheet)\n",
        "\n",
        "# seleccionaos el archivo\n",
        "sheet = wb.active\n",
        "\n",
        "# escribirmos los datos con sus respectivas filas y columnas\n",
        "datos = [(p,2*0.082*300/p) for p in range(1,10)]\n",
        "\n",
        "# recorremos las columnas y escribimos los datos\n",
        "for row in datos:\n",
        " sheet.append(row)\n",
        "\n",
        "# guardamos los cambios\n",
        "wb.save(filesheet)"
      ],
      "execution_count": null,
      "outputs": []
    },
    {
      "cell_type": "code",
      "metadata": {
        "colab": {
          "base_uri": "https://localhost:8080/"
        },
        "id": "uCpBL8OnW40E",
        "outputId": "06c14b79-2204-4589-91cd-64f958c18bc4"
      },
      "source": [
        "# importamos load_workbook\n",
        "from openpyxl import load_workbook\n",
        "\n",
        "# ruta de nuestro archivo\n",
        "filesheet = \"MiArchivo.xlsx\"\n",
        "\n",
        "# creamos el objeto load_workbook\n",
        "wb = load_workbook(filesheet,data_only=True)\n",
        "\n",
        "# seleccionaos el archivo\n",
        "sheet = wb.active\n",
        "\n",
        "# recorremos las columnas y escribimos los datos\n",
        "for row in range(2,20):\n",
        " p=sheet.cell(row=row,column=1).value\n",
        " v=sheet.cell(row=row,column=2).value\n",
        " print(p,v)\n"
      ],
      "execution_count": null,
      "outputs": [
        {
          "output_type": "stream",
          "text": [
            "1 49.2\n",
            "2 24.6\n",
            "3 16.4\n",
            "4 12.3\n",
            "5 9.84\n",
            "6 8.200000000000001\n",
            "7 7.028571428571429\n",
            "8 6.15\n",
            "9 5.466666666666667\n",
            "11 4.472727272727273\n",
            "12 4.100000000000001\n",
            "13 3.784615384615385\n",
            "14 3.514285714285715\n",
            "15 3.28\n",
            "16 3.075\n",
            "17 2.894117647058824\n",
            "18 2.733333333333333\n",
            "19 2.589473684210526\n"
          ],
          "name": "stdout"
        }
      ]
    }
  ]
}