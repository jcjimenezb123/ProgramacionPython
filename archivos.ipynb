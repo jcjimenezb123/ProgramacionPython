{
  "nbformat": 4,
  "nbformat_minor": 0,
  "metadata": {
    "colab": {
      "name": "archivos.ipynb",
      "provenance": [],
      "collapsed_sections": [],
      "authorship_tag": "ABX9TyNNSxmY+OQZvo9NzHVXL65i",
      "include_colab_link": true
    },
    "kernelspec": {
      "name": "python3",
      "display_name": "Python 3"
    },
    "language_info": {
      "name": "python"
    }
  },
  "cells": [
    {
      "cell_type": "markdown",
      "metadata": {
        "id": "view-in-github",
        "colab_type": "text"
      },
      "source": [
        "<a href=\"https://colab.research.google.com/github/jcjimenezb123/ProgramacionPython/blob/master/archivos.ipynb\" target=\"_parent\"><img src=\"https://colab.research.google.com/assets/colab-badge.svg\" alt=\"Open In Colab\"/></a>"
      ]
    },
    {
      "cell_type": "markdown",
      "metadata": {
        "id": "wGDK9_CWrbZz"
      },
      "source": [
        "##Archivos planos"
      ]
    },
    {
      "cell_type": "code",
      "metadata": {
        "id": "Do8249zVrZ8l"
      },
      "source": [
        "with open('Euler.txt','w') as f:\n",
        "  f.write('Leonhard Paul Euler\\n\\n')\n",
        "  f.write('Conocido como Leonhard Euler y también llamado Leonardo Euler en español, ')\n",
        "  f.write('fue un matemático y físico suizo.\\n')\n",
        "  f.write('Euler ha sido uno de los matemáticos más prolíficos, ')\n",
        "  f.write('y se calcula que sus obras completas reunidas podrían ocupar entre 60 y 80 volúmenes.')"
      ],
      "execution_count": null,
      "outputs": []
    },
    {
      "cell_type": "code",
      "metadata": {
        "colab": {
          "base_uri": "https://localhost:8080/"
        },
        "id": "AEs_znWw6-co",
        "outputId": "034738c9-8f86-43a2-c778-5b0351fca687"
      },
      "source": [
        "with open('Euler.txt','r') as f:\n",
        "  contenido=f.read()\n",
        "\n",
        "print(contenido)"
      ],
      "execution_count": null,
      "outputs": [
        {
          "output_type": "stream",
          "text": [
            "Leonhard Paul Euler\n",
            "\n",
            "Conocido como Leonhard Euler y también llamado Leonardo Euler en español, fue un matemático y físico suizo.\n",
            "Euler ha sido uno de los matemáticos más prolíficos, y se calcula que sus obras completas reunidas podrían ocupar entre 60 y 80 volúmenes.\n"
          ],
          "name": "stdout"
        }
      ]
    },
    {
      "cell_type": "code",
      "metadata": {
        "colab": {
          "base_uri": "https://localhost:8080/"
        },
        "id": "wsTBO2_r8JNF",
        "outputId": "45fe6ea0-67a0-4bf2-d438-ca88aa01e38b"
      },
      "source": [
        "f=open('Euler.txt','r')\n",
        "for linea in f:\n",
        "  print(linea,end='')\n",
        "f.close()"
      ],
      "execution_count": null,
      "outputs": [
        {
          "output_type": "stream",
          "text": [
            "Leonhard Paul Euler\n",
            "\n",
            "Conocido como Leonhard Euler y también llamado Leonardo Euler en español, fue un matemático y físico suizo.\n",
            "Euler ha sido uno de los matemáticos más prolíficos, y se calcula que sus obras completas reunidas podrían ocupar entre 60 y 80 volúmenes."
          ],
          "name": "stdout"
        }
      ]
    },
    {
      "cell_type": "code",
      "metadata": {
        "id": "ibjEw6XuuvFL"
      },
      "source": [
        "T=300\n",
        "n=2\n",
        "R=0.082\n",
        "with open('GasIdeal.txt','w') as f:\n",
        "  for presion in range(1,10):\n",
        "    f.write(f'{presion:8.2f},{n*R*T/presion:8.2f}\\n')"
      ],
      "execution_count": null,
      "outputs": []
    },
    {
      "cell_type": "code",
      "metadata": {
        "colab": {
          "base_uri": "https://localhost:8080/"
        },
        "id": "rb-cMqzS6OSc",
        "outputId": "e11e3698-00f7-48a0-9e0f-71e8e43057e1"
      },
      "source": [
        "with open('GasIdeal.txt','r') as f:\n",
        "  contenido=f.read()\n",
        "\n",
        "print(contenido)"
      ],
      "execution_count": null,
      "outputs": [
        {
          "output_type": "stream",
          "text": [
            "    1.00,   49.20\n",
            "    2.00,   24.60\n",
            "    3.00,   16.40\n",
            "    4.00,   12.30\n",
            "    5.00,    9.84\n",
            "    6.00,    8.20\n",
            "    7.00,    7.03\n",
            "    8.00,    6.15\n",
            "    9.00,    5.47\n",
            "\n"
          ],
          "name": "stdout"
        }
      ]
    },
    {
      "cell_type": "code",
      "metadata": {
        "colab": {
          "base_uri": "https://localhost:8080/"
        },
        "id": "MB5i4rrc9jVe",
        "outputId": "fc8cb77e-99aa-480a-8a6a-09220cf04054"
      },
      "source": [
        "f=open('GasIdeal.txt','r')\n",
        "for linea in f:\n",
        "  pv=linea\n",
        "  print(pv,end='')\n",
        "f.close()"
      ],
      "execution_count": null,
      "outputs": [
        {
          "output_type": "stream",
          "text": [
            "    1.00,   49.20\n",
            "    2.00,   24.60\n",
            "    3.00,   16.40\n",
            "    4.00,   12.30\n",
            "    5.00,    9.84\n",
            "    6.00,    8.20\n",
            "    7.00,    7.03\n",
            "    8.00,    6.15\n",
            "    9.00,    5.47\n"
          ],
          "name": "stdout"
        }
      ]
    },
    {
      "cell_type": "markdown",
      "metadata": {
        "id": "5AzrY0XGLJ9_"
      },
      "source": [
        "##Excel"
      ]
    },
    {
      "cell_type": "code",
      "metadata": {
        "colab": {
          "base_uri": "https://localhost:8080/"
        },
        "id": "szfzfLZgLLK7",
        "outputId": "73530ece-6d6b-4dc2-a950-de15e990b4bd"
      },
      "source": [
        "!pip install openpyxl"
      ],
      "execution_count": 1,
      "outputs": [
        {
          "output_type": "stream",
          "text": [
            "Requirement already satisfied: openpyxl in /usr/local/lib/python3.7/dist-packages (2.5.9)\n",
            "Requirement already satisfied: et-xmlfile in /usr/local/lib/python3.7/dist-packages (from openpyxl) (1.1.0)\n",
            "Requirement already satisfied: jdcal in /usr/local/lib/python3.7/dist-packages (from openpyxl) (1.4.1)\n"
          ],
          "name": "stdout"
        }
      ]
    },
    {
      "cell_type": "code",
      "metadata": {
        "id": "6OHXoI3oEgnh"
      },
      "source": [
        "from openpyxl import Workbook\n",
        "\n",
        "libro = Workbook()\n",
        "\n",
        "#obtiene la hoja activa\n",
        "hoja = libro.active\n",
        "hoja.cell(row=1,column=1,value=1.4142)\n",
        "hoja.cell(row=2,column=1).value=2.7178\n",
        "hoja['A3']=3.1416\n",
        "\n",
        "libro.save(filename='MiLibro.xlsx')"
      ],
      "execution_count": null,
      "outputs": []
    },
    {
      "cell_type": "code",
      "metadata": {
        "id": "LVlCWFwvYori"
      },
      "source": [
        "#     -oO| Procesa los datos |Oo-\n",
        "import numpy as np\n",
        "\n",
        "#concentracion (variable independiente x)\n",
        "x=np.array([4.1,12.2,20.3,28.2,38.1,45.2])\n",
        "#densidad  (variable dependiente y)\n",
        "y=np.array([1.0276,1.1013,1.1801,1.2652,1.3480,1.4120])\n",
        "\n",
        "#obtiene la interpolacion lineal\n",
        "xi = np.linspace(x.min(),x.max(),10)\n",
        "yi = np.interp(xi, x, y) #interpolacion lineal\n",
        "\n",
        "\n",
        "#     -oO| Persiste los datos |Oo-\n",
        "from openpyxl import Workbook\n",
        "\n",
        "libro = Workbook()\n",
        "\n",
        "#obtiene la hoja activa\n",
        "hoja = libro.active\n",
        "#periste los datos en el archivo Excel\n",
        "for i,(x,y) in enumerate(zip(xi,yi)):\n",
        "  #se cambia el renglon en la columna 1 y asigna el valor de x\n",
        "  hoja.cell(row=i+1,column=1).value=x \n",
        "  #se cambia el renglon en la columna 2 y asigna el valor de y\n",
        "  hoja.cell(row=i+1,column=2).value=y\n",
        "\n",
        "libro.save(filename='Interp.xlsx')"
      ],
      "execution_count": 2,
      "outputs": []
    },
    {
      "cell_type": "code",
      "metadata": {
        "id": "fPDHdfL3_6Ef"
      },
      "source": [
        "from openpyxl.utils import FORMULAE\n",
        "\n",
        "FORMULAE"
      ],
      "execution_count": null,
      "outputs": []
    },
    {
      "cell_type": "code",
      "metadata": {
        "id": "8Kn7XVcqt4kd"
      },
      "source": [
        "from openpyxl import Workbook\n",
        "\n",
        "#lista de alumnos y sus calificaciones\n",
        "grupo=[('Juan',10),('Pedro',9),('Ana',8),('Jose',6),\\\n",
        "       ('Maria',7),('Paola',10),('Ernesto',5),\\\n",
        "       ('Francisco',8),('Laura',10)]\n",
        "\n",
        "libro = Workbook()\n",
        "\n",
        "#obtiene la hoja activa\n",
        "hoja = libro.active\n",
        "\n",
        "#escibe los titulos\n",
        "hoja.cell(row=1,column=1).value='Nombre'\n",
        "hoja.cell(row=1,column=2).value='Calificacion'\n",
        "\n",
        "#guarda la informacion de la lista\n",
        "for i,(nombre,cal) in enumerate(grupo):\n",
        "  #se cambia el renglon en la columna 1 y asigna el valor del nombre\n",
        "  hoja.cell(row=i+2,column=1).value=nombre \n",
        "  #se cambia el renglon en la columna 2 y asigna el valor de la calificacion\n",
        "  hoja.cell(row=i+2,column=2).value=cal\n",
        "\n",
        "#calcula la cantidad de alumnos\n",
        "hoja.cell(row=12,column=1).value='Total Alumnos'\n",
        "hoja['b12']='=COUNT(B2:B10)'\n",
        "\n",
        "#calcula el promedio general\n",
        "hoja.cell(row=13,column=1).value='Promedio Gral'\n",
        "hoja['b13']='=AVERAGE(b2:b10)'\n",
        "\n",
        "#cuenta los alumnos si su calificacion es mayor a 5\n",
        "hoja.cell(row=15,column=1).value='Alumnos aprobados'\n",
        "hoja['b15']='=COUNTIF(B2:B10,\">5\")'\n",
        "\n",
        "#promedia los alumnos si su calificacion es mayor a 5\n",
        "hoja.cell(row=16,column=1).value='Promedio Aprobados'\n",
        "hoja['b16']='=AVERAGEIF(b2:b10,\">5\")'\n",
        "\n",
        "libro.save(filename='alumnos.xlsx')"
      ],
      "execution_count": null,
      "outputs": []
    },
    {
      "cell_type": "code",
      "metadata": {
        "id": "NKrkPjAbnXj5"
      },
      "source": [
        "from openpyxl.styles import NamedStyle, Font, Color, Alignment, Border, Side,PatternFill\n",
        "from openpyxl.worksheet.dimensions import ColumnDimension\n",
        "from openpyxl import Workbook\n",
        "\n",
        "#lista de alumnos y sus calificaciones\n",
        "grupo=[('Juan',10),('Pedro',9),('Ana',8),('Jose',6),\\\n",
        "       ('Maria',7),('Paola',10),('Ernesto',5),\\\n",
        "       ('Francisco',8),('Laura',10)]\n",
        "\n",
        "#define el estilo\n",
        "encabezado = NamedStyle(name=\"encabezado\")\n",
        "\n",
        "encabezado.alignment = Alignment(horizontal=\"center\")\n",
        "encabezado.font = Font(name='Calibri',bold=True,color=\"FFFFFF\", size=12)\n",
        "encabezado.fill = PatternFill(start_color='0099CA',\n",
        "                   end_color='0099CA',\n",
        "                   fill_type='solid')\n",
        "\n",
        "libro = Workbook()\n",
        "\n",
        "#obtiene la hoja activa\n",
        "hoja = libro.active\n",
        "\n",
        "#escibe los titulos\n",
        "hoja['a1']='Nombre'\n",
        "hoja['b1']='Calificacion'\n",
        "\n",
        "#cambia el estilo\n",
        "hoja['a1'].style=encabezado\n",
        "hoja.column_dimensions['A'].width=20\n",
        "\n",
        "hoja['b1'].style=encabezado\n",
        "hoja.column_dimensions['B'].width=15\n",
        "\n",
        "#guarda la informacion de la lista\n",
        "for i,(nombre,cal) in enumerate(grupo):\n",
        "  #se cambia el renglon en la columna 1 y asigna el valor del nombre\n",
        "  hoja.cell(row=i+2,column=1).value=nombre \n",
        "  #se cambia el renglon en la columna 2 y asigna el valor de la calificacion\n",
        "  hoja.cell(row=i+2,column=2).value=cal\n",
        "\n",
        "libro.save(filename='alumnos.xlsx')"
      ],
      "execution_count": 10,
      "outputs": []
    },
    {
      "cell_type": "code",
      "metadata": {
        "id": "29_mwWF3HTNV"
      },
      "source": [
        "from openpyxl.styles import NamedStyle, Font, Color, Alignment, Border, Side,PatternFill\n",
        "from openpyxl.styles.differential import DifferentialStyle\n",
        "from openpyxl.formatting.rule import Rule\n",
        "from openpyxl import Workbook\n",
        "\n",
        "#lista de alumnos y sus calificaciones\n",
        "grupo=[('Juan',10),('Pedro',9),('Ana',8),('Jose',6),\\\n",
        "       ('Maria',7),('Paola',10),('Ernesto',5),\\\n",
        "       ('Francisco',8),('Laura',10)]\n",
        "\n",
        "#define el estilo\n",
        "encabezado = NamedStyle(name=\"encabezado\")\n",
        "\n",
        "encabezado.alignment = Alignment(horizontal=\"center\")\n",
        "encabezado.font = Font(name='Calibri',bold=True,color=\"FFFFFF\", size=12)\n",
        "encabezado.fill = PatternFill(start_color='0099CA',\n",
        "                   end_color='0099CA',\n",
        "                   fill_type='solid')\n",
        "\n",
        "libro = Workbook()\n",
        "\n",
        "#obtiene la hoja activa\n",
        "hoja = libro.active\n",
        "\n",
        "#escibe los titulos\n",
        "hoja['a1']='Nombre'\n",
        "hoja['b1']='Calificacion'\n",
        "\n",
        "#cambia el estilo\n",
        "hoja['a1'].style=encabezado\n",
        "hoja.column_dimensions['A'].width=20\n",
        "\n",
        "hoja['b1'].style=encabezado\n",
        "hoja.column_dimensions['B'].width=15\n",
        "\n",
        "#Estilo condicionado\n",
        "rojo=PatternFill(bgColor=\"F39D9D\")  #color de letra\n",
        "estilo_cond = DifferentialStyle(fill=rojo) #estilo condicionado\n",
        "regla = Rule(type=\"expression\", dxf=estilo_cond) #crea regla\n",
        "regla.formula = [\"$b2<6\"]  #define la formula\n",
        "hoja.conditional_formatting.add(\"b2:b10\", regla) #asigna el estilo al reango\n",
        "\n",
        "#guarda la informacion de la lista\n",
        "for i,(nombre,cal) in enumerate(grupo):\n",
        "  #se cambia el renglon en la columna 1 y asigna el valor del nombre\n",
        "  hoja.cell(row=i+2,column=1).value=nombre \n",
        "  #se cambia el renglon en la columna 2 y asigna el valor de la calificacion\n",
        "  hoja.cell(row=i+2,column=2).value=cal\n",
        "\n",
        "libro.save(filename='alumnos.xlsx')"
      ],
      "execution_count": 4,
      "outputs": []
    },
    {
      "cell_type": "code",
      "metadata": {
        "id": "TefahaLtlm3M"
      },
      "source": [
        "from openpyxl.styles import NamedStyle, Font, Color, Alignment, Border, Side,PatternFill\n",
        "from openpyxl.styles.differential import DifferentialStyle\n",
        "from openpyxl.formatting.rule import Rule\n",
        "from openpyxl import Workbook\n",
        "\n",
        "#lista de alumnos y sus calificaciones\n",
        "grupo=[('Juan',10),('Pedro',9),('Ana',8),('Jose',6),\\\n",
        "       ('Maria',7),('Paola',10),('Ernesto',5),\\\n",
        "       ('Francisco',8),('Laura',10)]\n",
        "\n",
        "#define el estilo\n",
        "encabezado = NamedStyle(name=\"encabezado\")\n",
        "\n",
        "encabezado.alignment = Alignment(horizontal=\"center\")\n",
        "encabezado.font = Font(name='Calibri',bold=True,color=\"FFFFFF\", size=12)\n",
        "encabezado.fill = PatternFill(start_color='0099CA',\n",
        "                   end_color='0099CA',\n",
        "                   fill_type='solid')\n",
        "\n",
        "libro = Workbook()\n",
        "\n",
        "#obtiene la hoja activa\n",
        "hoja = libro.active\n",
        "\n",
        "#escibe los titulos\n",
        "hoja['a1']='Nombre'\n",
        "hoja['b1']='Calificacion'\n",
        "\n",
        "#cambia el estilo\n",
        "hoja['a1'].style=encabezado\n",
        "hoja.column_dimensions['A'].width=20\n",
        "\n",
        "hoja['b1'].style=encabezado\n",
        "hoja.column_dimensions['B'].width=15\n",
        "\n",
        "#Estilo condicionado\n",
        "from openpyxl.formatting.rule import ColorScaleRule\n",
        "escala_color = ColorScaleRule(start_type=\"min\",\n",
        "                              start_color=\"00FF0000\",  # rojo\n",
        "                              end_type=\"max\",\n",
        "                              end_color=\"0000FF00\")  # verde\n",
        "\n",
        "# aplica la escala de colores al rango\n",
        "hoja.conditional_formatting.add(\"b2:b10\", escala_color)\n",
        "\n",
        "#guarda la informacion de la lista\n",
        "for i,(nombre,cal) in enumerate(grupo):\n",
        "  #se cambia el renglon en la columna 1 y asigna el valor del nombre\n",
        "  hoja.cell(row=i+2,column=1).value=nombre \n",
        "  #se cambia el renglon en la columna 2 y asigna el valor de la calificacion\n",
        "  hoja.cell(row=i+2,column=2).value=cal\n",
        "\n",
        "libro.save(filename='alumnos.xlsx')"
      ],
      "execution_count": 5,
      "outputs": []
    },
    {
      "cell_type": "code",
      "metadata": {
        "id": "DF-jzRTsu2KC"
      },
      "source": [
        "from openpyxl.styles import NamedStyle, Font, Color, Alignment, Border, Side,PatternFill\n",
        "from openpyxl.styles.differential import DifferentialStyle\n",
        "from openpyxl.formatting.rule import Rule\n",
        "from openpyxl import Workbook\n",
        "\n",
        "#lista de alumnos y sus calificaciones\n",
        "grupo=[('Juan',10),('Pedro',9),('Ana',8),('Jose',6),\\\n",
        "       ('Maria',7),('Paola',10),('Ernesto',5),\\\n",
        "       ('Francisco',8),('Laura',10)]\n",
        "\n",
        "#define el estilo\n",
        "encabezado = NamedStyle(name=\"encabezado\")\n",
        "\n",
        "encabezado.alignment = Alignment(horizontal=\"center\")\n",
        "encabezado.font = Font(name='Calibri',bold=True,color=\"FFFFFF\", size=12)\n",
        "encabezado.fill = PatternFill(start_color='0099CA',\n",
        "                   end_color='0099CA',\n",
        "                   fill_type='solid')\n",
        "\n",
        "libro = Workbook()\n",
        "\n",
        "#obtiene la hoja activa\n",
        "hoja = libro.active\n",
        "\n",
        "#escibe los titulos\n",
        "hoja['a1']='Nombre'\n",
        "hoja['b1']='Calificacion'\n",
        "\n",
        "#cambia el estilo\n",
        "hoja['a1'].style=encabezado\n",
        "hoja.column_dimensions['A'].width=20\n",
        "\n",
        "hoja['b1'].style=encabezado\n",
        "hoja.column_dimensions['B'].width=15\n",
        "\n",
        "#Estilo con el icono de flecha\n",
        "from openpyxl.formatting.rule import IconSetRule\n",
        "\n",
        "regla_icono = IconSetRule(\"5Arrows\", \"num\", [5,6,7,8,9,10])\n",
        "hoja.conditional_formatting.add(\"b2:b10\", regla_icono)\n",
        "\n",
        "#guarda la informacion de la lista\n",
        "for i,(nombre,cal) in enumerate(grupo):\n",
        "  #se cambia el renglon en la columna 1 y asigna el valor del nombre\n",
        "  hoja.cell(row=i+2,column=1).value=nombre \n",
        "  #se cambia el renglon en la columna 2 y asigna el valor de la calificacion\n",
        "  hoja.cell(row=i+2,column=2).value=cal\n",
        "\n",
        "libro.save(filename='alumnos.xlsx')"
      ],
      "execution_count": 6,
      "outputs": []
    },
    {
      "cell_type": "code",
      "metadata": {
        "id": "QfoQypAN9FpS"
      },
      "source": [
        "from openpyxl.styles import NamedStyle, Font, Color, Alignment, Border, Side,PatternFill\n",
        "from openpyxl.styles.differential import DifferentialStyle\n",
        "from openpyxl.formatting.rule import Rule\n",
        "from openpyxl import Workbook\n",
        "\n",
        "#lista de alumnos y sus calificaciones\n",
        "grupo=[('Juan',10),('Pedro',9),('Ana',8),('Jose',6),\\\n",
        "       ('Maria',7),('Paola',10),('Ernesto',5),\\\n",
        "       ('Francisco',8),('Laura',10)]\n",
        "\n",
        "#define el estilo\n",
        "encabezado = NamedStyle(name=\"encabezado\")\n",
        "\n",
        "encabezado.alignment = Alignment(horizontal=\"center\")\n",
        "encabezado.font = Font(name='Calibri',bold=True,color=\"FFFFFF\", size=12)\n",
        "encabezado.fill = PatternFill(start_color='0099CA',\n",
        "                   end_color='0099CA',\n",
        "                   fill_type='solid')\n",
        "\n",
        "libro = Workbook()\n",
        "\n",
        "#obtiene la hoja activa\n",
        "hoja = libro.active\n",
        "\n",
        "#escibe los titulos\n",
        "hoja['a1']='Nombre'\n",
        "hoja['b1']='Calificacion'\n",
        "\n",
        "#cambia el estilo\n",
        "hoja['a1'].style=encabezado\n",
        "hoja.column_dimensions['A'].width=20\n",
        "\n",
        "hoja['b1'].style=encabezado\n",
        "hoja.column_dimensions['B'].width=15\n",
        "\n",
        "#Estilo con barra de progreso\n",
        "from openpyxl.formatting.rule import DataBarRule\n",
        "\n",
        "regla_barra = DataBarRule(start_type=\"num\",\n",
        "                          start_value=5,\n",
        "                          end_type=\"num\",\n",
        "                          end_value=\"10\",\n",
        "                          color=\"F39C12\")  # Naranja\n",
        "hoja.conditional_formatting.add(\"b2:b10\", regla_barra)\n",
        "\n",
        "#guarda la informacion de la lista\n",
        "for i,(nombre,cal) in enumerate(grupo):\n",
        "  #se cambia el renglon en la columna 1 y asigna el valor del nombre\n",
        "  hoja.cell(row=i+2,column=1).value=nombre \n",
        "  #se cambia el renglon en la columna 2 y asigna el valor de la calificacion\n",
        "  hoja.cell(row=i+2,column=2).value=cal\n",
        "\n",
        "libro.save(filename='alumnos.xlsx')"
      ],
      "execution_count": 8,
      "outputs": []
    },
    {
      "cell_type": "code",
      "metadata": {
        "id": "dCHsCFGi_cWD"
      },
      "source": [
        "from openpyxl import Workbook\n",
        "from openpyxl.drawing.image import Image\n",
        "\n",
        "# Let's use the hello_world spreadsheet since it has less data\n",
        "libro = Workbook()\n",
        "hoja = libro.active\n",
        "\n",
        "logo = Image(\"unam.png\")\n",
        "\n",
        "# ajusta las dimensiones\n",
        "logo.height = 160\n",
        "logo.width = 150\n",
        "\n",
        "hoja.add_image(logo, \"A1\")\n",
        "libro.save(filename=\"Logo.xlsx\")"
      ],
      "execution_count": 11,
      "outputs": []
    },
    {
      "cell_type": "code",
      "metadata": {
        "id": "GuMdSbFSc0k9"
      },
      "source": [
        "from openpyxl import Workbook\n",
        "from openpyxl.chart import BarChart, LineChart, Reference\n",
        "\n",
        "#lista de alumnos y sus calificaciones\n",
        "grupo=[('Juan',10),('Pedro',9),('Ana',8),('Jose',6),\\\n",
        "       ('Maria',7),('Paola',10),('Ernesto',5),\\\n",
        "       ('Francisco',8),('Laura',10)]\n",
        "\n",
        "libro = Workbook()\n",
        "\n",
        "#obtiene la hoja activa\n",
        "hoja = libro.active\n",
        "\n",
        "#escibe los titulos\n",
        "hoja.cell(row=1,column=1).value='Nombre'\n",
        "hoja.cell(row=1,column=2).value='Calificacion'\n",
        "\n",
        "#guarda la informacion de la lista\n",
        "for i,(nombre,cal) in enumerate(grupo):\n",
        "  #se cambia el renglon en la columna 1 y asigna el valor del nombre\n",
        "  hoja.cell(row=i+2,column=1).value=nombre \n",
        "  #se cambia el renglon en la columna 2 y asigna el valor de la calificacion\n",
        "  hoja.cell(row=i+2,column=2).value=cal\n",
        "\n",
        "#se crean los objetos de cada grafica\n",
        "barras = BarChart()\n",
        "lineas = LineChart()\n",
        "\n",
        "#se crea la referencia de los datos a graficar\n",
        "data = Reference(worksheet=hoja,\n",
        "                 min_row=1,\n",
        "                 max_row=10,\n",
        "                 min_col=2,\n",
        "                 max_col=2)\n",
        "\n",
        "#titulo de los ejes\n",
        "barras.x_axis.title='Alumno'\n",
        "barras.y_axis.title='Calificacion'\n",
        "\n",
        "#crea la grafica de barras y la inserta\n",
        "barras.add_data(data, titles_from_data=True)\n",
        "hoja.add_chart(barras, \"D1\")\n",
        "\n",
        "#crea la grafica de lineas y la inserta\n",
        "lineas.add_data(data, titles_from_data=True)\n",
        "hoja.add_chart(lineas, \"D16\")\n",
        "\n",
        "libro.save(filename=\"grafica.xlsx\")"
      ],
      "execution_count": 4,
      "outputs": []
    },
    {
      "cell_type": "code",
      "metadata": {
        "id": "PrY3ogYJLYg2"
      },
      "source": [
        "from openpyxl import Workbook\n",
        "\n",
        "workbook = Workbook()\n",
        "sheet = workbook.active\n",
        "\n",
        "sheet.title='Hola'\n",
        "sheet.sheet_properties.tabColor = '3393FF'\n",
        "\n",
        "sheet[\"A1\"] = \"Hola\"\n",
        "sheet[\"B1\"] = \"Mundo!\"\n",
        "\n",
        "workbook.properties.creator='Juan Carlos Jimenez'\n",
        "workbook.properties.version='1.0'\n",
        "workbook.properties.title='Hola Mundo'\n",
        "workbook.properties.subject='Python para ingenieros'\n",
        "workbook.properties.keywords='Python'\n",
        "workbook.properties.description='Ejemplo de guardado desde Python'\n",
        "\n",
        "#workbook.security.lockStructure=True\n",
        "#workbook.security.workbookPassword='Libro'\n",
        "\n",
        "\n",
        "#sheet.protection.sheet=True\n",
        "#sheet.protection.set_password('clave')\n",
        "#sheet.protection.enable()\n",
        "\n",
        "workbook.save(filename=\"MiArchivo.xlsx\")"
      ],
      "execution_count": null,
      "outputs": []
    },
    {
      "cell_type": "code",
      "metadata": {
        "id": "5AjyjqVEM0AY",
        "colab": {
          "base_uri": "https://localhost:8080/"
        },
        "outputId": "0968b168-f057-44cd-8e34-6aab064dbed3"
      },
      "source": [
        "# importamos load_workbook\n",
        "from openpyxl import load_workbook\n",
        "\n",
        "# ruta de nuestro archivo\n",
        "archivo = \"Interp.xlsx\"\n",
        "\n",
        "# creamos el objeto load_workbook\n",
        "libro = load_workbook(archivo)\n",
        "\n",
        "# seleccionaos el archivo\n",
        "hoja = libro.active\n",
        "\n",
        "# recorremos un rango\n",
        "for row in hoja['a2:b10']:\n",
        "  print([x.value for x in row])\n",
        " \n",
        "# guardamos los cambios\n",
        "libro.close()"
      ],
      "execution_count": 4,
      "outputs": [
        {
          "output_type": "stream",
          "text": [
            "[8.666666666666666, 1.069151028806584]\n",
            "[13.23333333333333, 1.111352674897119]\n",
            "[17.8, 1.155779012345679]\n",
            "[22.36666666666667, 1.202362447257384]\n",
            "[26.93333333333333, 1.251555274261603]\n",
            "[31.5, 1.2928]\n",
            "[36.06666666666666, 1.330993939393939]\n",
            "[40.63333333333333, 1.370835680751174]\n",
            "[45.2, 1.412]\n"
          ],
          "name": "stdout"
        }
      ]
    },
    {
      "cell_type": "code",
      "metadata": {
        "colab": {
          "base_uri": "https://localhost:8080/"
        },
        "id": "C2-32i6VGmc-",
        "outputId": "dea590f6-ec37-4431-b373-cce129df6f77"
      },
      "source": [
        "# importamos load_workbook\n",
        "from openpyxl import load_workbook\n",
        "\n",
        "# ruta de nuestro archivo\n",
        "archivo = \"Interp.xlsx\"\n",
        "\n",
        "# creamos el objeto load_workbook\n",
        "libro = load_workbook(archivo)\n",
        "\n",
        "# seleccionaos el archivo\n",
        "hoja = libro.active\n",
        "\n",
        "# recorremos los renglones\n",
        "for row in hoja.rows:\n",
        "  print([x.value for x in row])\n",
        " \n",
        "# guardamos los cambios\n",
        "libro.close()"
      ],
      "execution_count": 5,
      "outputs": [
        {
          "output_type": "stream",
          "text": [
            "[4.1, 1.0276]\n",
            "[8.666666666666666, 1.069151028806584]\n",
            "[13.23333333333333, 1.111352674897119]\n",
            "[17.8, 1.155779012345679]\n",
            "[22.36666666666667, 1.202362447257384]\n",
            "[26.93333333333333, 1.251555274261603]\n",
            "[31.5, 1.2928]\n",
            "[36.06666666666666, 1.330993939393939]\n",
            "[40.63333333333333, 1.370835680751174]\n",
            "[45.2, 1.412]\n"
          ],
          "name": "stdout"
        }
      ]
    },
    {
      "cell_type": "code",
      "metadata": {
        "colab": {
          "base_uri": "https://localhost:8080/"
        },
        "id": "tA64KqKAKWuv",
        "outputId": "c17a148c-8a2b-4f90-f3b5-e4a3a75ec106"
      },
      "source": [
        "# importamos load_workbook\n",
        "from openpyxl import load_workbook\n",
        "\n",
        "# ruta de nuestro archivo\n",
        "archivo = \"Interp.xlsx\"\n",
        "\n",
        "# creamos el objeto load_workbook\n",
        "libro = load_workbook(archivo)\n",
        "\n",
        "# seleccionaos el archivo\n",
        "hoja = libro.active\n",
        "\n",
        "# recorremos las columnas\n",
        "for col in hoja.columns:\n",
        "  print([x.value for x in col])\n",
        " \n",
        "# guardamos los cambios\n",
        "libro.close()"
      ],
      "execution_count": 37,
      "outputs": [
        {
          "output_type": "stream",
          "text": [
            "[4.1, 8.666666666666666, 13.23333333333333, 17.8, 22.36666666666667, 26.93333333333333, 31.5, 36.06666666666666, 40.63333333333333, 45.2]\n",
            "[1.0276, 1.069151028806584, 1.111352674897119, 1.155779012345679, 1.202362447257384, 1.251555274261603, 1.2928, 1.330993939393939, 1.370835680751174, 1.412]\n"
          ],
          "name": "stdout"
        }
      ]
    },
    {
      "cell_type": "code",
      "metadata": {
        "colab": {
          "base_uri": "https://localhost:8080/"
        },
        "id": "Yb8_7XVxHvWQ",
        "outputId": "46e413fc-b292-4d27-b07d-f98e1141e25d"
      },
      "source": [
        "from numpy.core.numeric import True_\n",
        "# importamos load_workbook\n",
        "from openpyxl import load_workbook\n",
        "import numpy as np\n",
        "\n",
        "# ruta de nuestro archivo\n",
        "archivo = \"Interp.xlsx\"\n",
        "\n",
        "# creamos el objeto load_workbook\n",
        "libro = load_workbook(archivo)\n",
        "\n",
        "# seleccionamos la hoja activa\n",
        "hoja = libro.active\n",
        "\n",
        "# tomamos los datos por columna\n",
        "conc=np.array([datos.value for datos in hoja['A'] ])\n",
        "dens=np.array([datos.value for datos in hoja['B'] ])\n",
        "\n",
        "print(conc,dens)\n",
        "\n",
        "# guardamos los cambios\n",
        "libro.close()"
      ],
      "execution_count": 40,
      "outputs": [
        {
          "output_type": "stream",
          "text": [
            "[ 4.1         8.66666667 13.23333333 17.8        22.36666667 26.93333333\n",
            " 31.5        36.06666667 40.63333333 45.2       ] [1.0276     1.06915103 1.11135267 1.15577901 1.20236245 1.25155527\n",
            " 1.2928     1.33099394 1.37083568 1.412     ]\n"
          ],
          "name": "stdout"
        }
      ]
    },
    {
      "cell_type": "code",
      "metadata": {
        "colab": {
          "base_uri": "https://localhost:8080/"
        },
        "id": "3q71HHeAJgif",
        "outputId": "9ad6d4ae-6294-4a11-fb3c-db32ada4ec7b"
      },
      "source": [
        "# importamos load_workbook\n",
        "from openpyxl import load_workbook\n",
        "import numpy as np\n",
        "\n",
        "# ruta de nuestro archivo\n",
        "archivo = \"Interp.xlsx\"\n",
        "\n",
        "# creamos el objeto load_workbook\n",
        "libro = load_workbook(archivo)\n",
        "\n",
        "# seleccionamos la hoja activa\n",
        "hoja = libro.active\n",
        "\n",
        "# tomamos los datos por columna\n",
        "datos=np.zeros([hoja.max_column,hoja.max_row])\n",
        "for i,col in enumerate(hoja.columns):\n",
        "  datos[i]=np.array([data.value for data in col])\n",
        "\n",
        "print(datos)\n",
        "\n",
        "# guardamos los cambios\n",
        "libro.close()"
      ],
      "execution_count": 18,
      "outputs": [
        {
          "output_type": "stream",
          "text": [
            "[[ 4.1         8.66666667 13.23333333 17.8        22.36666667 26.93333333\n",
            "  31.5        36.06666667 40.63333333 45.2       ]\n",
            " [ 1.0276      1.06915103  1.11135267  1.15577901  1.20236245  1.25155527\n",
            "   1.2928      1.33099394  1.37083568  1.412     ]]\n"
          ],
          "name": "stdout"
        }
      ]
    },
    {
      "cell_type": "code",
      "metadata": {
        "colab": {
          "base_uri": "https://localhost:8080/"
        },
        "id": "Lmbn1YvLK98f",
        "outputId": "ed449b5e-7ef6-49ec-8314-75a2c50062fa"
      },
      "source": [
        "# importamos load_workbook\n",
        "from openpyxl import load_workbook\n",
        "import numpy as np\n",
        "\n",
        "# ruta de nuestro archivo\n",
        "archivo = \"Interp.xlsx\"\n",
        "\n",
        "# creamos el objeto load_workbook\n",
        "libro = load_workbook(archivo)\n",
        "\n",
        "# seleccionamos la hoja activa\n",
        "hoja = libro.active\n",
        "\n",
        "# tomamos los datos de la hoja\n",
        "datos=np.zeros([hoja.max_row,hoja.max_column])\n",
        "for i,row in enumerate(hoja):\n",
        "  datos[i]=[dato.value for dato in row]\n",
        "\n",
        "print(datos)\n",
        "# guardamos los cambios\n",
        "libro.close()"
      ],
      "execution_count": 27,
      "outputs": [
        {
          "output_type": "stream",
          "text": [
            "[[ 4.1         1.0276    ]\n",
            " [ 8.66666667  1.06915103]\n",
            " [13.23333333  1.11135267]\n",
            " [17.8         1.15577901]\n",
            " [22.36666667  1.20236245]\n",
            " [26.93333333  1.25155527]\n",
            " [31.5         1.2928    ]\n",
            " [36.06666667  1.33099394]\n",
            " [40.63333333  1.37083568]\n",
            " [45.2         1.412     ]]\n"
          ],
          "name": "stdout"
        }
      ]
    },
    {
      "cell_type": "code",
      "metadata": {
        "colab": {
          "base_uri": "https://localhost:8080/"
        },
        "id": "Yt6Vu0el4ZpL",
        "outputId": "6df7f82d-463a-4b12-848b-fcdc0808f59a"
      },
      "source": [
        "# importamos load_workbook\n",
        "from openpyxl import load_workbook\n",
        "import numpy as np\n",
        "\n",
        "# ruta de nuestro archivo\n",
        "archivo = \"Interp.xlsx\"\n",
        "\n",
        "# creamos el objeto load_workbook\n",
        "libro = load_workbook(archivo)\n",
        "\n",
        "# seleccionamos la hoja activa\n",
        "hoja = libro.active\n",
        "\n",
        "# tomamos los datos de la hoja\n",
        "datos=np.zeros([hoja.max_row,hoja.max_column])\n",
        "\n",
        "print(hoja.min_row,hoja.max_row)\n",
        "print(hoja.min_column,hoja.max_column)\n",
        "\n",
        "for row in hoja.iter_rows(min_row=hoja.min_row,\n",
        "                          max_row=hoja.max_row,\n",
        "                          min_col=hoja.min_column,\n",
        "                          max_col=hoja.max_column):\n",
        "  print([datos.value for datos in row])\n",
        "\n",
        "# guardamos los cambios\n",
        "libro.close()"
      ],
      "execution_count": 33,
      "outputs": [
        {
          "output_type": "stream",
          "text": [
            "1 10\n",
            "1 2\n",
            "[4.1, 1.0276]\n",
            "[8.666666666666666, 1.069151028806584]\n",
            "[13.23333333333333, 1.111352674897119]\n",
            "[17.8, 1.155779012345679]\n",
            "[22.36666666666667, 1.202362447257384]\n",
            "[26.93333333333333, 1.251555274261603]\n",
            "[31.5, 1.2928]\n",
            "[36.06666666666666, 1.330993939393939]\n",
            "[40.63333333333333, 1.370835680751174]\n",
            "[45.2, 1.412]\n"
          ],
          "name": "stdout"
        }
      ]
    },
    {
      "cell_type": "code",
      "metadata": {
        "colab": {
          "base_uri": "https://localhost:8080/"
        },
        "id": "4w2Mfgj17fUt",
        "outputId": "9a1bcc28-ce45-4509-9d4b-489a8f4f7e44"
      },
      "source": [
        "# importamos load_workbook\n",
        "from openpyxl import load_workbook\n",
        "import numpy as np\n",
        "\n",
        "# ruta de nuestro archivo\n",
        "archivo = \"Interp.xlsx\"\n",
        "\n",
        "# creamos el objeto load_workbook\n",
        "libro = load_workbook(archivo)\n",
        "\n",
        "# seleccionamos la hoja activa\n",
        "hoja = libro.active\n",
        "\n",
        "# tomamos los datos de la hoja\n",
        "datos=np.zeros([hoja.max_row,hoja.max_column])\n",
        "\n",
        "print(hoja.min_row,hoja.max_row)\n",
        "print(hoja.min_column,hoja.max_column)\n",
        "\n",
        "for row in hoja.iter_rows(min_row=hoja.min_row,\n",
        "                          max_row=hoja.max_row):\n",
        "  print([datos.value for datos in row])\n",
        "\n",
        "# guardamos los cambios\n",
        "libro.close()"
      ],
      "execution_count": 34,
      "outputs": [
        {
          "output_type": "stream",
          "text": [
            "1 10\n",
            "1 2\n",
            "[4.1, 1.0276]\n",
            "[8.666666666666666, 1.069151028806584]\n",
            "[13.23333333333333, 1.111352674897119]\n",
            "[17.8, 1.155779012345679]\n",
            "[22.36666666666667, 1.202362447257384]\n",
            "[26.93333333333333, 1.251555274261603]\n",
            "[31.5, 1.2928]\n",
            "[36.06666666666666, 1.330993939393939]\n",
            "[40.63333333333333, 1.370835680751174]\n",
            "[45.2, 1.412]\n"
          ],
          "name": "stdout"
        }
      ]
    },
    {
      "cell_type": "code",
      "metadata": {
        "colab": {
          "base_uri": "https://localhost:8080/"
        },
        "id": "a2LEjRql7tAD",
        "outputId": "3ab56092-3333-49f5-9fb2-6a579dbe0f0a"
      },
      "source": [
        "# importamos load_workbook\n",
        "from openpyxl import load_workbook\n",
        "import numpy as np\n",
        "\n",
        "# ruta de nuestro archivo\n",
        "archivo = \"Interp.xlsx\"\n",
        "\n",
        "# creamos el objeto load_workbook\n",
        "libro = load_workbook(archivo)\n",
        "\n",
        "# seleccionamos la hoja activa\n",
        "hoja = libro.active\n",
        "\n",
        "# tomamos los datos de la hoja\n",
        "datos=np.zeros([hoja.max_row,hoja.max_column])\n",
        "\n",
        "print(hoja.min_row,hoja.max_row)\n",
        "print(hoja.min_column,hoja.max_column)\n",
        "\n",
        "for col in hoja.iter_cols(min_row=hoja.min_row,\n",
        "                          max_row=hoja.max_row,\n",
        "                          min_col=hoja.min_column,\n",
        "                          max_col=hoja.max_column):\n",
        "  print([datos.value for datos in col])\n",
        "\n",
        "# guardamos los cambios\n",
        "libro.close()"
      ],
      "execution_count": 35,
      "outputs": [
        {
          "output_type": "stream",
          "text": [
            "1 10\n",
            "1 2\n",
            "[4.1, 8.666666666666666, 13.23333333333333, 17.8, 22.36666666666667, 26.93333333333333, 31.5, 36.06666666666666, 40.63333333333333, 45.2]\n",
            "[1.0276, 1.069151028806584, 1.111352674897119, 1.155779012345679, 1.202362447257384, 1.251555274261603, 1.2928, 1.330993939393939, 1.370835680751174, 1.412]\n"
          ],
          "name": "stdout"
        }
      ]
    },
    {
      "cell_type": "code",
      "metadata": {
        "colab": {
          "base_uri": "https://localhost:8080/"
        },
        "id": "k_sNJlHP7_mB",
        "outputId": "6f76a28a-cd78-40eb-839e-b34aa3c07e8e"
      },
      "source": [
        "# importamos load_workbook\n",
        "from openpyxl import load_workbook\n",
        "import numpy as np\n",
        "\n",
        "# ruta de nuestro archivo\n",
        "archivo = \"Interp.xlsx\"\n",
        "\n",
        "# creamos el objeto load_workbook\n",
        "libro = load_workbook(archivo)\n",
        "\n",
        "# seleccionamos la hoja activa\n",
        "hoja = libro.active\n",
        "\n",
        "# tomamos los datos de la hoja\n",
        "datos=np.zeros([hoja.max_row,hoja.max_column])\n",
        "\n",
        "print(hoja.min_row,hoja.max_row)\n",
        "print(hoja.min_column,hoja.max_column)\n",
        "\n",
        "for col in hoja.iter_cols():\n",
        "  print([datos.value for datos in col])\n",
        "\n",
        "# guardamos los cambios\n",
        "libro.close()"
      ],
      "execution_count": 36,
      "outputs": [
        {
          "output_type": "stream",
          "text": [
            "1 10\n",
            "1 2\n",
            "[4.1, 8.666666666666666, 13.23333333333333, 17.8, 22.36666666666667, 26.93333333333333, 31.5, 36.06666666666666, 40.63333333333333, 45.2]\n",
            "[1.0276, 1.069151028806584, 1.111352674897119, 1.155779012345679, 1.202362447257384, 1.251555274261603, 1.2928, 1.330993939393939, 1.370835680751174, 1.412]\n"
          ],
          "name": "stdout"
        }
      ]
    },
    {
      "cell_type": "code",
      "metadata": {
        "id": "KwaRB57wqWAp"
      },
      "source": [
        "from openpyxl import Workbook\n",
        "\n",
        "libro = Workbook()\n",
        "hoja = libro.active\n",
        "\n",
        "lista=[1,2,3,4,5]\n",
        "\n",
        "for dato in lista:\n",
        "  hoja.append([dato])\n",
        "\n",
        "libro.save(\"lista.xlsx\")"
      ],
      "execution_count": 45,
      "outputs": []
    },
    {
      "cell_type": "code",
      "metadata": {
        "id": "nzJ3QvHMrS5R"
      },
      "source": [
        "from openpyxl import Workbook\n",
        "\n",
        "libro = Workbook()\n",
        "hoja = libro.active\n",
        "\n",
        "tupla=(1,2,3,4,5)\n",
        "\n",
        "for dato in tupla:\n",
        "  hoja.append([dato])\n",
        "\n",
        "libro.save(\"tupla.xlsx\")"
      ],
      "execution_count": 46,
      "outputs": []
    },
    {
      "cell_type": "code",
      "metadata": {
        "id": "Jqfq3-3Zreq0"
      },
      "source": [
        "from openpyxl import Workbook\n",
        "\n",
        "libro = Workbook()\n",
        "hoja = libro.active\n",
        "\n",
        "diccionario={'id':123,'nombre':'Juan','grupo':1}\n",
        "\n",
        "for clave,dato in diccionario.items():\n",
        "  #print(dato)\n",
        "  hoja.append((clave,dato))\n",
        "\n",
        "libro.save(\"diccionario.xlsx\")"
      ],
      "execution_count": 56,
      "outputs": []
    },
    {
      "cell_type": "code",
      "metadata": {
        "id": "ayXFU5kGr83T"
      },
      "source": [
        "from openpyxl import Workbook\n",
        "\n",
        "libro = Workbook()\n",
        "hoja = libro.active\n",
        "\n",
        "lista_tupla=[('Nombre','Calificacion'),('Juan',10),('Pedro',9),('Ana',10)]\n",
        "\n",
        "for dato in lista_tupla:\n",
        "  #print(dato)\n",
        "  hoja.append(dato)\n",
        "\n",
        "libro.save(\"lista2.xlsx\")"
      ],
      "execution_count": 57,
      "outputs": []
    },
    {
      "cell_type": "code",
      "metadata": {
        "id": "4IvBqu5ZuEQ7"
      },
      "source": [
        "from openpyxl import Workbook\n",
        "import numpy as np\n",
        "\n",
        "libro = Workbook()\n",
        "hoja = libro.active\n",
        "\n",
        "x=np.array([1,2,3,4,5])\n",
        "y=np.array([2,4,1,6,7])\n",
        "\n",
        "tupla=((a,b) for (a,b) in zip(x,y))\n",
        "\n",
        "for dato in tupla:\n",
        "  hoja.append(dato)\n",
        "\n",
        "libro.save(\"arreglo.xlsx\")"
      ],
      "execution_count": 59,
      "outputs": []
    }
  ]
}