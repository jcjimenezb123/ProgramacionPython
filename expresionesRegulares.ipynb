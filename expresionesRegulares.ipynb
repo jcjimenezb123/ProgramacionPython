{
  "nbformat": 4,
  "nbformat_minor": 0,
  "metadata": {
    "colab": {
      "name": "expresionesRegulares.ipynb",
      "provenance": [],
      "collapsed_sections": [],
      "authorship_tag": "ABX9TyNJbD/k1PG4HzZmVYlf3DRl",
      "include_colab_link": true
    },
    "kernelspec": {
      "name": "python3",
      "display_name": "Python 3"
    },
    "language_info": {
      "name": "python"
    }
  },
  "cells": [
    {
      "cell_type": "markdown",
      "metadata": {
        "id": "view-in-github",
        "colab_type": "text"
      },
      "source": [
        "<a href=\"https://colab.research.google.com/github/jcjimenezb123/ProgramacionPython/blob/master/expresionesRegulares.ipynb\" target=\"_parent\"><img src=\"https://colab.research.google.com/assets/colab-badge.svg\" alt=\"Open In Colab\"/></a>"
      ]
    },
    {
      "cell_type": "markdown",
      "metadata": {
        "id": "OB5I50QRtaxp"
      },
      "source": [
        "#Expresiones Regulares"
      ]
    },
    {
      "cell_type": "markdown",
      "metadata": {
        "id": "jQ1kw5WFtXh8"
      },
      "source": [
        "\n",
        "Las expresiones regulares (en ingles regular expresions \"regex\"), son expresiones de caracteres que forma un patrón de búsqueda, las cuales cumplen una sintaxis dad. \n",
        "\n",
        "Los patrones se compilan como un conjunto de instrucciones, que se ejecutan sobre un texto para producir subconjuntos o un texto modificado. Las expresiones regulares pueden incluir patrones de coincidencia literal, de repetición, de composición, de ramificación, o reglas compuestas de reconocimiento de texto.\n",
        "\n",
        "Las expresiones regulares se usan en un gran número de problemas de procesamiento de texto que pueden ser resultas fácilmente con ellas.\n",
        "\n",
        "Las expresiones regulares son un lenguaje en sí mismo, por lo que es conveniente entender sus componentes y sintaxis.\n"
      ]
    },
    {
      "cell_type": "markdown",
      "metadata": {
        "id": "oZQugjmVt6pi"
      },
      "source": [
        "las expresiones regulares se procesan a traves del modulo re por lo que es necesario importarlo"
      ]
    },
    {
      "cell_type": "code",
      "metadata": {
        "id": "jul96dPDkeTi"
      },
      "source": [
        "import re"
      ],
      "execution_count": 2,
      "outputs": []
    },
    {
      "cell_type": "markdown",
      "metadata": {
        "id": "-7ReDKE9uJt-"
      },
      "source": [
        "En este momento ya tenemos disponibles las funciones que nos permiten buscar coincidencias con un determinado patrón de búsqueda. Primero debemos compilar nuestra expresion regular en un objeto de patrones especificando la secuencia a buscar."
      ]
    },
    {
      "cell_type": "code",
      "metadata": {
        "id": "TQ-LeC4NuP1V"
      },
      "source": [
        "patron=re.compile(r'123')"
      ],
      "execution_count": null,
      "outputs": []
    },
    {
      "cell_type": "markdown",
      "metadata": {
        "id": "NVyJ9184N5QB"
      },
      "source": [
        "note que el texto esta antecedido por una letra **r** esto se usa para considerar las secuencias de escape dentro del texto como tal"
      ]
    },
    {
      "cell_type": "code",
      "metadata": {
        "colab": {
          "base_uri": "https://localhost:8080/"
        },
        "id": "GjJOQfXrlA_2",
        "outputId": "e2aa27b5-4ee0-4278-9041-0a100bcebdae"
      },
      "source": [
        "t1=\"\\tHola\"\n",
        "t2=r\"\\tHola\"\n",
        "print(t1)\n",
        "print(t2)"
      ],
      "execution_count": null,
      "outputs": [
        {
          "output_type": "stream",
          "text": [
            "\tHola\n",
            "\\tHola\n"
          ],
          "name": "stdout"
        }
      ]
    },
    {
      "cell_type": "markdown",
      "metadata": {
        "id": "bUp3LEi4jjTW"
      },
      "source": [
        "Con el objeto de expresión regular compilado podemos utilizar los siguientes métodos para buscar el patrón en un texto.\n",
        "* **match()**: Busca el patrón en el comienzo del texto.\n",
        "* **search()**: Busca el patrón en todo el texto donde haya una coincidencia.\n",
        "* **findall()**: Encuentra todas las coincidencias del patrón y devuelve una lista.\n",
        "* **finditer()**: Es similar al anterior pero en lugar de devolvernos una lista devuelve un iterador.\n",
        " * **group()**: Devuelve el grupo de texto que coincide con el patrón.\n",
        " * **span()**: Devuelve una tupla con la posición inicial y final de las coincidencias.\n",
        " * **start()**: Devuelve la posición inicial de la coincidencia.\n",
        " * **end()**: Devuelve la posición final de la coincidencia.\n"
      ]
    },
    {
      "cell_type": "code",
      "metadata": {
        "colab": {
          "base_uri": "https://localhost:8080/"
        },
        "id": "xYiV05s_kjMf",
        "outputId": "53f5ccd5-6aa0-422e-8533-e83863490dc8"
      },
      "source": [
        "texto='123abc456abc123ABCabc123x'\n",
        "formato=re.compile(r'123')\n",
        "matches=re.match(formato,texto)\n",
        "print('match: ',matches)\n",
        "\n",
        "matches=re.search(formato,texto)\n",
        "print('search: ',matches)\n",
        "\n",
        "matches=re.findall(formato,texto)\n",
        "print('findall: ',matches)\n",
        "\n",
        "matches=re.finditer(formato,texto)\n",
        "for match in matches:\n",
        "    print('finditer: ',match)\n",
        "\n",
        "matches=re.finditer(formato,texto)\n",
        "for match in matches:\n",
        "  print('group: ',match.group(),'span: ',match.span(),'start: ',match.start(),'end: ',match.end())\n"
      ],
      "execution_count": 16,
      "outputs": [
        {
          "output_type": "stream",
          "text": [
            "match:  <re.Match object; span=(0, 3), match='123'>\n",
            "search:  <re.Match object; span=(0, 3), match='123'>\n",
            "findall:  ['123', '123', '123']\n",
            "finditer:  <re.Match object; span=(0, 3), match='123'>\n",
            "finditer:  <re.Match object; span=(12, 15), match='123'>\n",
            "finditer:  <re.Match object; span=(21, 24), match='123'>\n",
            "group:  123 span:  (0, 3) start:  0 end:  3\n",
            "group:  123 span:  (12, 15) start:  12 end:  15\n",
            "group:  123 span:  (21, 24) start:  21 end:  24\n"
          ],
          "name": "stdout"
        }
      ]
    },
    {
      "cell_type": "markdown",
      "metadata": {
        "id": "P5gxMdGQJbS4"
      },
      "source": [
        "##Meta caracteres\n",
        "* . Cualquier caracter excepto nueva linea\n",
        "* ^ Inicia con por ejemplo ^hola\n",
        "* \\$ termina con por ejemplo fin\\$\n",
        "* \\* cero o mas ocurrencias abc*\n",
        "* \\+ una o mas ocurrencias abc+\n",
        "* { } exactamente el numero especificado de ocurrencias abc{2}\n",
        "* \\[ \\] un conjunto de caracteres [a-m]\n",
        "* \\\\ secuencia especial o secuencia de escape \\\\d\n",
        "* | o logico uno|dos\n",
        "* ( ) captura y agrupa"
      ]
    },
    {
      "cell_type": "code",
      "metadata": {
        "colab": {
          "base_uri": "https://localhost:8080/"
        },
        "id": "tid06muFLowP",
        "outputId": "8c909c58-98c7-461b-956d-512347d95ce0"
      },
      "source": [
        "texto1=\"a.bxyzc.d\"\n",
        "patron = re.compile(r\".\\..\")\n",
        "\n",
        "matches = patron.finditer(texto1)\n",
        "for match in matches:\n",
        "  print(match)"
      ],
      "execution_count": null,
      "outputs": [
        {
          "output_type": "stream",
          "text": [
            "<re.Match object; span=(0, 3), match='a.b'>\n",
            "<re.Match object; span=(6, 9), match='c.d'>\n"
          ],
          "name": "stdout"
        }
      ]
    },
    {
      "cell_type": "code",
      "metadata": {
        "colab": {
          "base_uri": "https://localhost:8080/"
        },
        "id": "eNP1mj95NvP5",
        "outputId": "fffd1533-a48d-4d4d-c225-174e77399f40"
      },
      "source": [
        "texto=\"a.bxyzc.d a.b123\"\n",
        "patron = re.compile(r\"^a\\.b\")\n",
        "\n",
        "matches = patron.finditer(texto)\n",
        "for match in matches:\n",
        "  print(match)"
      ],
      "execution_count": null,
      "outputs": [
        {
          "output_type": "stream",
          "text": [
            "<re.Match object; span=(0, 3), match='a.b'>\n"
          ],
          "name": "stdout"
        }
      ]
    },
    {
      "cell_type": "code",
      "metadata": {
        "colab": {
          "base_uri": "https://localhost:8080/"
        },
        "id": "T4IvvIZJOAv9",
        "outputId": "c51520fd-91bb-45c8-eb99-8eb6b4a7075c"
      },
      "source": [
        "texto=\"a.bxyzc.d 123c.d\"\n",
        "patron = re.compile(r\"c\\.d$\")\n",
        "\n",
        "matches = patron.finditer(texto)\n",
        "for match in matches:\n",
        "  print(match)"
      ],
      "execution_count": null,
      "outputs": [
        {
          "output_type": "stream",
          "text": [
            "<re.Match object; span=(13, 16), match='c.d'>\n"
          ],
          "name": "stdout"
        }
      ]
    },
    {
      "cell_type": "markdown",
      "metadata": {
        "id": "WPcyQRSzOZ6W"
      },
      "source": [
        "##Mas caracteres especiales\n",
        "\n",
        "* \\\\d identifica cualquier digito [0-9]\n",
        "* \\\\D identifica cualquier catacter no digito\n",
        "* \\\\s identifica cualquier caracter espacio en blanco espacio \" \" tab \"\\t\" nueva linea \"\\n\" \n",
        "* \\\\S identifica cualquier caracter no espacio en blanco\n",
        "* \\\\w identifica cualquier caracter alfanumerico [a-zA-Z0-9]\n",
        "* \\\\W identifica cualquier caracter no alfanumerico\n",
        "* \\\\b identifica donde se especifica un caracter estan al inicio o al final de una palabra r\"\\babc\" r\"abc\\b\"\n",
        "* \\\\b identifica donde se especifica un caracter que no estan al inicio o al final de una palabra r\"\\Babc\" r\"abc\\B\""
      ]
    },
    {
      "cell_type": "markdown",
      "metadata": {
        "id": "YqQkDrqKRduZ"
      },
      "source": [
        "##buscar un número entero"
      ]
    },
    {
      "cell_type": "code",
      "metadata": {
        "colab": {
          "base_uri": "https://localhost:8080/"
        },
        "id": "Hgk9IFhY2cej",
        "outputId": "892c8d8c-6641-4340-b54c-3b6dbe048b2e"
      },
      "source": [
        "numero='123'\n",
        "patron=re.compile(r'^\\d+$')\n",
        "enteros=patron.finditer(numero)\n",
        "\n",
        "for entero in enteros:\n",
        "  print(entero)"
      ],
      "execution_count": null,
      "outputs": [
        {
          "output_type": "stream",
          "text": [
            "<re.Match object; span=(0, 3), match='123'>\n"
          ],
          "name": "stdout"
        }
      ]
    },
    {
      "cell_type": "markdown",
      "metadata": {
        "id": "DfHUDf9BRkhD"
      },
      "source": [
        "##buscar un número decimal"
      ]
    },
    {
      "cell_type": "code",
      "metadata": {
        "colab": {
          "base_uri": "https://localhost:8080/"
        },
        "id": "HSjD9jJr3Bck",
        "outputId": "58714087-6734-4343-a7c8-e10c89a187a4"
      },
      "source": [
        "numero='1.23'\n",
        "patron=re.compile(r'^\\d*\\.\\d*$')\n",
        "decimales=patron.finditer(numero)\n",
        "\n",
        "for decimal in decimales:\n",
        "  print(decimal)"
      ],
      "execution_count": null,
      "outputs": [
        {
          "output_type": "stream",
          "text": [
            "<re.Match object; span=(0, 4), match='1.23'>\n"
          ],
          "name": "stdout"
        }
      ]
    },
    {
      "cell_type": "markdown",
      "metadata": {
        "id": "WefXNKzfRtWt"
      },
      "source": [
        "##buscar un número entero o decimal"
      ]
    },
    {
      "cell_type": "code",
      "metadata": {
        "colab": {
          "base_uri": "https://localhost:8080/"
        },
        "id": "JFKzn9KR3ue_",
        "outputId": "649367c0-fb7d-4027-e419-98735910edd7"
      },
      "source": [
        "numero='100.999'\n",
        "patron=re.compile(r'^\\d*(\\.\\d*)?$')\n",
        "decimales=patron.finditer(numero)\n",
        "\n",
        "for decimal in decimales:\n",
        "  print(decimal)"
      ],
      "execution_count": null,
      "outputs": [
        {
          "output_type": "stream",
          "text": [
            "<re.Match object; span=(0, 7), match='100.999'>\n"
          ],
          "name": "stdout"
        }
      ]
    },
    {
      "cell_type": "markdown",
      "metadata": {
        "id": "wIfIs4wgRzRd"
      },
      "source": [
        "##buscar un número entero o decimal y negativo"
      ]
    },
    {
      "cell_type": "code",
      "metadata": {
        "colab": {
          "base_uri": "https://localhost:8080/"
        },
        "id": "x8LjP2Om4JoX",
        "outputId": "e0e56dd8-b514-45ca-c6ee-df7762726770"
      },
      "source": [
        "numero='-100.999'\n",
        "patron=re.compile(r'^-?\\d*(\\.\\d*)?$')\n",
        "decimales=patron.finditer(numero)\n",
        "\n",
        "for decimal in decimales:\n",
        "  print(decimal)"
      ],
      "execution_count": null,
      "outputs": [
        {
          "output_type": "stream",
          "text": [
            "<re.Match object; span=(0, 8), match='-100.999'>\n"
          ],
          "name": "stdout"
        }
      ]
    },
    {
      "cell_type": "markdown",
      "metadata": {
        "id": "LR5U2VF3R7I7"
      },
      "source": [
        "##buscar un nikname con letras y numeros solamente"
      ]
    },
    {
      "cell_type": "code",
      "metadata": {
        "colab": {
          "base_uri": "https://localhost:8080/"
        },
        "id": "LR1uNQGm4t_Z",
        "outputId": "d3e5cfae-248d-42f6-a1bf-d4518559d702"
      },
      "source": [
        "texto='jcjimenezb123'\n",
        "patron=re.compile(r'[a-zA-Z0-9]+')\n",
        "nicknames=patron.finditer(texto)\n",
        "for n in nicknames:\n",
        "  print(n)"
      ],
      "execution_count": null,
      "outputs": [
        {
          "output_type": "stream",
          "text": [
            "<re.Match object; span=(0, 13), match='jcjimenezb123'>\n"
          ],
          "name": "stdout"
        }
      ]
    },
    {
      "cell_type": "markdown",
      "metadata": {
        "id": "wr0bgGrMSFlc"
      },
      "source": [
        "##buscar dígitos en un texto"
      ]
    },
    {
      "cell_type": "code",
      "metadata": {
        "colab": {
          "base_uri": "https://localhost:8080/"
        },
        "id": "EpPGwLPPRa43",
        "outputId": "a7552c76-e825-4e4e-a3c0-3ab4cc91adbf"
      },
      "source": [
        "texto='''\n",
        "123abc456abc123ABC\n",
        "'''\n",
        "patron=re.compile(r'\\d')\n",
        "matches=re.finditer(patron,texto)\n",
        "\n",
        "for match in matches:\n",
        "    print(match)"
      ],
      "execution_count": null,
      "outputs": [
        {
          "output_type": "stream",
          "text": [
            "<re.Match object; span=(1, 2), match='1'>\n",
            "<re.Match object; span=(2, 3), match='2'>\n",
            "<re.Match object; span=(3, 4), match='3'>\n",
            "<re.Match object; span=(7, 8), match='4'>\n",
            "<re.Match object; span=(8, 9), match='5'>\n",
            "<re.Match object; span=(9, 10), match='6'>\n",
            "<re.Match object; span=(13, 14), match='1'>\n",
            "<re.Match object; span=(14, 15), match='2'>\n",
            "<re.Match object; span=(15, 16), match='3'>\n"
          ],
          "name": "stdout"
        }
      ]
    },
    {
      "cell_type": "markdown",
      "metadata": {
        "id": "jn3y16WhSMF_"
      },
      "source": [
        "##buscar caracteres no dígitos"
      ]
    },
    {
      "cell_type": "code",
      "metadata": {
        "colab": {
          "base_uri": "https://localhost:8080/"
        },
        "id": "GL7QumrxSMmU",
        "outputId": "b5e72ff5-2f13-4fe6-f8f8-df9e584213dd"
      },
      "source": [
        "texto='''\n",
        "123abc456abc123ABC\n",
        "'''\n",
        "patron=re.compile(r'\\D')\n",
        "matches=re.finditer(patron,texto)\n",
        "\n",
        "for match in matches:\n",
        "    print(match)"
      ],
      "execution_count": null,
      "outputs": [
        {
          "output_type": "stream",
          "text": [
            "<re.Match object; span=(0, 1), match='\\n'>\n",
            "<re.Match object; span=(4, 5), match='a'>\n",
            "<re.Match object; span=(5, 6), match='b'>\n",
            "<re.Match object; span=(6, 7), match='c'>\n",
            "<re.Match object; span=(10, 11), match='a'>\n",
            "<re.Match object; span=(11, 12), match='b'>\n",
            "<re.Match object; span=(12, 13), match='c'>\n",
            "<re.Match object; span=(16, 17), match='A'>\n",
            "<re.Match object; span=(17, 18), match='B'>\n",
            "<re.Match object; span=(18, 19), match='C'>\n",
            "<re.Match object; span=(19, 20), match='\\n'>\n"
          ],
          "name": "stdout"
        }
      ]
    },
    {
      "cell_type": "markdown",
      "metadata": {
        "id": "spq5VgK7SSy_"
      },
      "source": [
        "##buscar espacios"
      ]
    },
    {
      "cell_type": "code",
      "metadata": {
        "colab": {
          "base_uri": "https://localhost:8080/"
        },
        "id": "K9QRSlNLSeVO",
        "outputId": "8204675e-7c02-4358-83f4-8fa27b9e5ec3"
      },
      "source": [
        "texto='''\n",
        "123 abc 456 abc 123 ABC\n",
        "'''\n",
        "patron=re.compile(r'\\s')\n",
        "matches=re.finditer(patron,texto)\n",
        "\n",
        "for match in matches:\n",
        "    print(match)"
      ],
      "execution_count": null,
      "outputs": [
        {
          "output_type": "stream",
          "text": [
            "<re.Match object; span=(0, 1), match='\\n'>\n",
            "<re.Match object; span=(4, 5), match=' '>\n",
            "<re.Match object; span=(8, 9), match=' '>\n",
            "<re.Match object; span=(12, 13), match=' '>\n",
            "<re.Match object; span=(16, 17), match=' '>\n",
            "<re.Match object; span=(20, 21), match=' '>\n",
            "<re.Match object; span=(24, 25), match='\\n'>\n"
          ],
          "name": "stdout"
        }
      ]
    },
    {
      "cell_type": "markdown",
      "metadata": {
        "id": "u-K1nWooSWHK"
      },
      "source": [
        "##buscar no espacios"
      ]
    },
    {
      "cell_type": "code",
      "metadata": {
        "colab": {
          "base_uri": "https://localhost:8080/"
        },
        "id": "z_2MEh46Sn1e",
        "outputId": "5105ad96-d0dc-40a9-a171-1040c2cb3d0b"
      },
      "source": [
        "texto='''\n",
        "123 abc 456 abc 123 ABC\n",
        "'''\n",
        "patron=re.compile(r'\\S')\n",
        "matches=re.finditer(patron,texto)\n",
        "\n",
        "for match in matches:\n",
        "    print(match)"
      ],
      "execution_count": null,
      "outputs": [
        {
          "output_type": "stream",
          "text": [
            "<re.Match object; span=(1, 2), match='1'>\n",
            "<re.Match object; span=(2, 3), match='2'>\n",
            "<re.Match object; span=(3, 4), match='3'>\n",
            "<re.Match object; span=(5, 6), match='a'>\n",
            "<re.Match object; span=(6, 7), match='b'>\n",
            "<re.Match object; span=(7, 8), match='c'>\n",
            "<re.Match object; span=(9, 10), match='4'>\n",
            "<re.Match object; span=(10, 11), match='5'>\n",
            "<re.Match object; span=(11, 12), match='6'>\n",
            "<re.Match object; span=(13, 14), match='a'>\n",
            "<re.Match object; span=(14, 15), match='b'>\n",
            "<re.Match object; span=(15, 16), match='c'>\n",
            "<re.Match object; span=(17, 18), match='1'>\n",
            "<re.Match object; span=(18, 19), match='2'>\n",
            "<re.Match object; span=(19, 20), match='3'>\n",
            "<re.Match object; span=(21, 22), match='A'>\n",
            "<re.Match object; span=(22, 23), match='B'>\n",
            "<re.Match object; span=(23, 24), match='C'>\n"
          ],
          "name": "stdout"
        }
      ]
    },
    {
      "cell_type": "markdown",
      "metadata": {
        "id": "3vxaYyxpSbiu"
      },
      "source": [
        "##buscar alfanuméricos"
      ]
    },
    {
      "cell_type": "code",
      "metadata": {
        "colab": {
          "base_uri": "https://localhost:8080/"
        },
        "id": "hvglzAFZS1DO",
        "outputId": "83dbfe32-d098-4832-a86d-930e35f7113c"
      },
      "source": [
        "texto='''\n",
        "123 abc 456 abc 123 ABC !@#$\n",
        "'''\n",
        "patron=re.compile(r'\\w')\n",
        "matches=re.finditer(patron,texto)\n",
        "\n",
        "for match in matches:\n",
        "    print(match)"
      ],
      "execution_count": null,
      "outputs": [
        {
          "output_type": "stream",
          "text": [
            "<re.Match object; span=(1, 2), match='1'>\n",
            "<re.Match object; span=(2, 3), match='2'>\n",
            "<re.Match object; span=(3, 4), match='3'>\n",
            "<re.Match object; span=(5, 6), match='a'>\n",
            "<re.Match object; span=(6, 7), match='b'>\n",
            "<re.Match object; span=(7, 8), match='c'>\n",
            "<re.Match object; span=(9, 10), match='4'>\n",
            "<re.Match object; span=(10, 11), match='5'>\n",
            "<re.Match object; span=(11, 12), match='6'>\n",
            "<re.Match object; span=(13, 14), match='a'>\n",
            "<re.Match object; span=(14, 15), match='b'>\n",
            "<re.Match object; span=(15, 16), match='c'>\n",
            "<re.Match object; span=(17, 18), match='1'>\n",
            "<re.Match object; span=(18, 19), match='2'>\n",
            "<re.Match object; span=(19, 20), match='3'>\n",
            "<re.Match object; span=(21, 22), match='A'>\n",
            "<re.Match object; span=(22, 23), match='B'>\n",
            "<re.Match object; span=(23, 24), match='C'>\n"
          ],
          "name": "stdout"
        }
      ]
    },
    {
      "cell_type": "markdown",
      "metadata": {
        "id": "JhWCn0nLSgoV"
      },
      "source": [
        "##buscar no alfanuméricos"
      ]
    },
    {
      "cell_type": "code",
      "metadata": {
        "colab": {
          "base_uri": "https://localhost:8080/"
        },
        "id": "E-sFmjluTfrJ",
        "outputId": "5669344e-a424-44b0-a79f-ed58bc1876f1"
      },
      "source": [
        "texto='''\n",
        "123 abc 456 abc 123 ABC !@#$\n",
        "'''\n",
        "patron=re.compile(r'\\W')\n",
        "matches=re.finditer(patron,texto)\n",
        "\n",
        "for match in matches:\n",
        "    print(match)"
      ],
      "execution_count": null,
      "outputs": [
        {
          "output_type": "stream",
          "text": [
            "<re.Match object; span=(0, 1), match='\\n'>\n",
            "<re.Match object; span=(4, 5), match=' '>\n",
            "<re.Match object; span=(8, 9), match=' '>\n",
            "<re.Match object; span=(12, 13), match=' '>\n",
            "<re.Match object; span=(16, 17), match=' '>\n",
            "<re.Match object; span=(20, 21), match=' '>\n",
            "<re.Match object; span=(24, 25), match=' '>\n",
            "<re.Match object; span=(25, 26), match='!'>\n",
            "<re.Match object; span=(26, 27), match='@'>\n",
            "<re.Match object; span=(27, 28), match='#'>\n",
            "<re.Match object; span=(28, 29), match='$'>\n",
            "<re.Match object; span=(29, 30), match='\\n'>\n"
          ],
          "name": "stdout"
        }
      ]
    },
    {
      "cell_type": "markdown",
      "metadata": {
        "id": "UiSxxfWcSmMc"
      },
      "source": [
        "##buscar un patrón de inicio"
      ]
    },
    {
      "cell_type": "code",
      "metadata": {
        "colab": {
          "base_uri": "https://localhost:8080/"
        },
        "id": "CL4fmtdNTopg",
        "outputId": "91bde711-7b30-40cb-a10b-7c49e3d6e529"
      },
      "source": [
        "texto='''\n",
        "123abc456abc 123ABC !@#$\n",
        "'''\n",
        "patron=re.compile(r'\\b123')\n",
        "matches=re.finditer(patron,texto)\n",
        "\n",
        "for match in matches:\n",
        "    print(match)"
      ],
      "execution_count": null,
      "outputs": [
        {
          "output_type": "stream",
          "text": [
            "<re.Match object; span=(1, 4), match='123'>\n",
            "<re.Match object; span=(14, 17), match='123'>\n"
          ],
          "name": "stdout"
        }
      ]
    },
    {
      "cell_type": "code",
      "metadata": {
        "colab": {
          "base_uri": "https://localhost:8080/"
        },
        "id": "3jSosdRpUVcE",
        "outputId": "5e2eff46-88b9-4966-eff7-014e6aa0d8b6"
      },
      "source": [
        "texto='''\n",
        "123abc456abc 123ABC !@#$\n",
        "'''\n",
        "patron=re.compile(r'\\BABC')\n",
        "matches=re.finditer(patron,texto)\n",
        "\n",
        "for match in matches:\n",
        "    print(match)"
      ],
      "execution_count": null,
      "outputs": [
        {
          "output_type": "stream",
          "text": [
            "<re.Match object; span=(17, 20), match='ABC'>\n"
          ],
          "name": "stdout"
        }
      ]
    },
    {
      "cell_type": "markdown",
      "metadata": {
        "id": "5CjuTrKGS0i0"
      },
      "source": [
        "##buscar un conjunto de caracteres"
      ]
    },
    {
      "cell_type": "code",
      "metadata": {
        "colab": {
          "base_uri": "https://localhost:8080/"
        },
        "id": "s7wAswy3U4a8",
        "outputId": "6d5cc901-67cd-4386-b776-1ad0d6fcb2ad"
      },
      "source": [
        "texto='''\n",
        "123abc456abcmnoxyz 123ABC !@#$\n",
        "'''\n",
        "patron=re.compile(r'[amz]')\n",
        "matches=re.finditer(patron,texto)\n",
        "\n",
        "for match in matches:\n",
        "    print(match)"
      ],
      "execution_count": 3,
      "outputs": [
        {
          "output_type": "stream",
          "text": [
            "<re.Match object; span=(4, 5), match='a'>\n",
            "<re.Match object; span=(10, 11), match='a'>\n",
            "<re.Match object; span=(13, 14), match='m'>\n",
            "<re.Match object; span=(18, 19), match='z'>\n"
          ],
          "name": "stdout"
        }
      ]
    },
    {
      "cell_type": "markdown",
      "metadata": {
        "id": "_Lw7by6ETHT_"
      },
      "source": [
        "##buscar un conjunto de caracteres de un rango"
      ]
    },
    {
      "cell_type": "code",
      "metadata": {
        "colab": {
          "base_uri": "https://localhost:8080/"
        },
        "id": "tog98ugqVKXj",
        "outputId": "30e8150b-4930-4f12-9f65-b27551e78384"
      },
      "source": [
        "texto='''\n",
        "123abc456abcmnoxyz 123ABC !@#$\n",
        "'''\n",
        "patron=re.compile(r'[a-m]')\n",
        "matches=re.finditer(patron,texto)\n",
        "\n",
        "for match in matches:\n",
        "    print(match)"
      ],
      "execution_count": null,
      "outputs": [
        {
          "output_type": "stream",
          "text": [
            "<re.Match object; span=(4, 5), match='a'>\n",
            "<re.Match object; span=(5, 6), match='b'>\n",
            "<re.Match object; span=(6, 7), match='c'>\n",
            "<re.Match object; span=(10, 11), match='a'>\n",
            "<re.Match object; span=(11, 12), match='b'>\n",
            "<re.Match object; span=(12, 13), match='c'>\n",
            "<re.Match object; span=(13, 14), match='m'>\n"
          ],
          "name": "stdout"
        }
      ]
    },
    {
      "cell_type": "markdown",
      "metadata": {
        "id": "U9SiChpNTOnR"
      },
      "source": [
        "##buscar un conjunto de caracteres de un rango numérico"
      ]
    },
    {
      "cell_type": "code",
      "metadata": {
        "colab": {
          "base_uri": "https://localhost:8080/"
        },
        "id": "UzprEgIfVUHJ",
        "outputId": "894a458d-eba9-4c1b-cb46-0924783c30d7"
      },
      "source": [
        "texto='''\n",
        "123abc456abcmnoxyz 123789ABC !@#$\n",
        "'''\n",
        "patron=re.compile(r'[1-5]')\n",
        "matches=re.finditer(patron,texto)\n",
        "\n",
        "for match in matches:\n",
        "    print(match)"
      ],
      "execution_count": null,
      "outputs": [
        {
          "output_type": "stream",
          "text": [
            "<re.Match object; span=(1, 2), match='1'>\n",
            "<re.Match object; span=(2, 3), match='2'>\n",
            "<re.Match object; span=(3, 4), match='3'>\n",
            "<re.Match object; span=(7, 8), match='4'>\n",
            "<re.Match object; span=(8, 9), match='5'>\n",
            "<re.Match object; span=(20, 21), match='1'>\n",
            "<re.Match object; span=(21, 22), match='2'>\n",
            "<re.Match object; span=(22, 23), match='3'>\n"
          ],
          "name": "stdout"
        }
      ]
    },
    {
      "cell_type": "markdown",
      "metadata": {
        "id": "4IWKwnO5TW_B"
      },
      "source": [
        "##buscar un conjunto de caracteres de un rango numérico y alfabético"
      ]
    },
    {
      "cell_type": "code",
      "metadata": {
        "colab": {
          "base_uri": "https://localhost:8080/"
        },
        "id": "dYZefhTmVt00",
        "outputId": "4fb8bff8-6505-4aab-b552-4bd5c6a3e8a7"
      },
      "source": [
        "texto='''\n",
        "123abc456abcmnoxyz 123789ABC !@#$\n",
        "'''\n",
        "patron=re.compile(r'[a-m1-5]')\n",
        "matches=re.finditer(patron,texto)\n",
        "\n",
        "for match in matches:\n",
        "    print(match)"
      ],
      "execution_count": null,
      "outputs": [
        {
          "output_type": "stream",
          "text": [
            "<re.Match object; span=(1, 2), match='1'>\n",
            "<re.Match object; span=(2, 3), match='2'>\n",
            "<re.Match object; span=(3, 4), match='3'>\n",
            "<re.Match object; span=(4, 5), match='a'>\n",
            "<re.Match object; span=(5, 6), match='b'>\n",
            "<re.Match object; span=(6, 7), match='c'>\n",
            "<re.Match object; span=(7, 8), match='4'>\n",
            "<re.Match object; span=(8, 9), match='5'>\n",
            "<re.Match object; span=(10, 11), match='a'>\n",
            "<re.Match object; span=(11, 12), match='b'>\n",
            "<re.Match object; span=(12, 13), match='c'>\n",
            "<re.Match object; span=(13, 14), match='m'>\n",
            "<re.Match object; span=(20, 21), match='1'>\n",
            "<re.Match object; span=(21, 22), match='2'>\n",
            "<re.Match object; span=(22, 23), match='3'>\n"
          ],
          "name": "stdout"
        }
      ]
    },
    {
      "cell_type": "markdown",
      "metadata": {
        "id": "MV7ZnSDMV57L"
      },
      "source": [
        "##cuantificadores\n",
        "* \\* 0 o mas\n",
        "* \\+ 1 o mas\n",
        "* ? 0 o 1 caracter opcional\n",
        "* {4} numero exacto\n",
        "* {4,6} rango de numeros (min,max)"
      ]
    },
    {
      "cell_type": "markdown",
      "metadata": {
        "id": "KaX9kV-LTklU"
      },
      "source": [
        "##buscar un dígito o más"
      ]
    },
    {
      "cell_type": "code",
      "metadata": {
        "colab": {
          "base_uri": "https://localhost:8080/"
        },
        "id": "7hs7xdWcYJm_",
        "outputId": "829bfd57-bf0c-490f-8fb2-65f36620d347"
      },
      "source": [
        "texto='''\n",
        "123abc456abcmnoxyz 0123789ABC !@#$\n",
        "'''\n",
        "patron=re.compile(r'\\d+')\n",
        "matches=re.finditer(patron,texto)\n",
        "\n",
        "for match in matches:\n",
        "    print(match)"
      ],
      "execution_count": null,
      "outputs": [
        {
          "output_type": "stream",
          "text": [
            "<re.Match object; span=(1, 4), match='123'>\n",
            "<re.Match object; span=(7, 10), match='456'>\n",
            "<re.Match object; span=(20, 27), match='0123789'>\n"
          ],
          "name": "stdout"
        }
      ]
    },
    {
      "cell_type": "markdown",
      "metadata": {
        "id": "AexHBACPTpWz"
      },
      "source": [
        "##buscar secuencias de 3 dígitos"
      ]
    },
    {
      "cell_type": "code",
      "metadata": {
        "colab": {
          "base_uri": "https://localhost:8080/"
        },
        "id": "8z-GL0dUXAPR",
        "outputId": "d5583523-2187-4593-a005-807529afd595"
      },
      "source": [
        "texto='''\n",
        "123abc456abcmnoxyz 0123789ABC !@#$\n",
        "'''\n",
        "patron=re.compile(r'\\d{3}')\n",
        "matches=re.finditer(patron,texto)\n",
        "\n",
        "for match in matches:\n",
        "    print(match)"
      ],
      "execution_count": null,
      "outputs": [
        {
          "output_type": "stream",
          "text": [
            "<re.Match object; span=(1, 4), match='123'>\n",
            "<re.Match object; span=(7, 10), match='456'>\n",
            "<re.Match object; span=(20, 23), match='012'>\n",
            "<re.Match object; span=(23, 26), match='378'>\n"
          ],
          "name": "stdout"
        }
      ]
    },
    {
      "cell_type": "markdown",
      "metadata": {
        "id": "OKVnzDvyTucV"
      },
      "source": [
        "##buscar secuencias de 1 a 6 dígitos"
      ]
    },
    {
      "cell_type": "code",
      "metadata": {
        "colab": {
          "base_uri": "https://localhost:8080/"
        },
        "id": "UH56p88PXdC_",
        "outputId": "75512969-c807-4e59-8d34-8672a08c400a"
      },
      "source": [
        "texto='''\n",
        "123abc456abcmnoxyz 0123789ABC !@#$\n",
        "'''\n",
        "patron=re.compile(r'\\d{1,6}')\n",
        "matches=re.finditer(patron,texto)\n",
        "\n",
        "for match in matches:\n",
        "    print(match)"
      ],
      "execution_count": null,
      "outputs": [
        {
          "output_type": "stream",
          "text": [
            "<re.Match object; span=(1, 4), match='123'>\n",
            "<re.Match object; span=(7, 10), match='456'>\n",
            "<re.Match object; span=(20, 26), match='012378'>\n",
            "<re.Match object; span=(26, 27), match='9'>\n"
          ],
          "name": "stdout"
        }
      ]
    },
    {
      "cell_type": "markdown",
      "metadata": {
        "id": "LG3u1P5nT1d0"
      },
      "source": [
        "##validar formato de fecha aaaa-mm-dd"
      ]
    },
    {
      "cell_type": "code",
      "metadata": {
        "colab": {
          "base_uri": "https://localhost:8080/"
        },
        "id": "H1-LjJ656_R4",
        "outputId": "3c0c010e-72ef-48fc-8199-5ce450678dea"
      },
      "source": [
        "texto='1999-12-24'\n",
        "patron=re.compile(r'([12]\\d{3}-(0[1-9]|1[0-2])-(0[1-9]|[12]\\d|3[01]))')\n",
        "matches=patron.match(texto)\n",
        "print(matches)"
      ],
      "execution_count": null,
      "outputs": [
        {
          "output_type": "stream",
          "text": [
            "<re.Match object; span=(0, 10), match='1999-12-24'>\n"
          ],
          "name": "stdout"
        }
      ]
    },
    {
      "cell_type": "markdown",
      "metadata": {
        "id": "R2BVSUMYT8uK"
      },
      "source": [
        "##validar formato de hora hh:mm (am|pm)"
      ]
    },
    {
      "cell_type": "code",
      "metadata": {
        "colab": {
          "base_uri": "https://localhost:8080/"
        },
        "id": "YfztNaFu9H7A",
        "outputId": "2db8d448-7f4c-4bf1-af92-d42877823b37"
      },
      "source": [
        "texto='00:50 am'\n",
        "patron=re.compile(r'((1[0-2]|0?[0-9]):([0-5][0-9]) ?([AaPp][Mm]))')\n",
        "matches=patron.match(texto)\n",
        "print(matches)"
      ],
      "execution_count": null,
      "outputs": [
        {
          "output_type": "stream",
          "text": [
            "<re.Match object; span=(0, 8), match='00:50 am'>\n"
          ],
          "name": "stdout"
        }
      ]
    },
    {
      "cell_type": "markdown",
      "metadata": {
        "id": "OH7jokNyUGlK"
      },
      "source": [
        "##validar formato de hora 24h"
      ]
    },
    {
      "cell_type": "code",
      "metadata": {
        "colab": {
          "base_uri": "https://localhost:8080/"
        },
        "id": "2dTdmJVh-p1C",
        "outputId": "fbb412aa-40f3-4dfb-a313-286ea1e767e8"
      },
      "source": [
        "texto='23:59'\n",
        "patron=re.compile(r'(0[0-9]|1[0-9]|2[0-3]):([0-5][0-9])')\n",
        "matches=patron.match(texto)\n",
        "print(matches)"
      ],
      "execution_count": null,
      "outputs": [
        {
          "output_type": "stream",
          "text": [
            "<re.Match object; span=(0, 5), match='23:59'>\n"
          ],
          "name": "stdout"
        }
      ]
    },
    {
      "cell_type": "markdown",
      "metadata": {
        "id": "Y5AE2BkqWFEd"
      },
      "source": [
        "##validar un password fuerte (8 caracteres, al menos un número, un caracter especial, una minúscula, una mayúscula)"
      ]
    },
    {
      "cell_type": "code",
      "metadata": {
        "colab": {
          "base_uri": "https://localhost:8080/"
        },
        "id": "qi5lCwQ3osZe",
        "outputId": "35072772-3e50-40c1-fc57-b781aa5335f5"
      },
      "source": [
        "texto='2H2+O2->2H2OAgua'\n",
        "texto='tilacoide'\n",
        "patron=re.compile(r\"(?=(.+[0-9]))(?=.+[/!@#$%^&*()\\\\[\\]{}\\-_+=~'`|:;<>,./?])(?=.+[a-z])(?=.+[A-Z])(?=(.*)).{8,}\")\n",
        "\n",
        "password=patron.match(texto)\n",
        "print(password)\n"
      ],
      "execution_count": null,
      "outputs": [
        {
          "output_type": "stream",
          "text": [
            "None\n"
          ],
          "name": "stdout"
        }
      ]
    },
    {
      "cell_type": "markdown",
      "metadata": {
        "id": "qp7F6eAfWcFv"
      },
      "source": [
        "##validar un nombre"
      ]
    },
    {
      "cell_type": "code",
      "metadata": {
        "colab": {
          "base_uri": "https://localhost:8080/"
        },
        "id": "8BJjx7LbxLW-",
        "outputId": "277a7f43-062d-40d7-c12a-9815b759c7fa"
      },
      "source": [
        "texto='Juan Carlos Jiménez'\n",
        "\n",
        "patron=re.compile(r'^[a-zA-Z-áéíóú ]{3,40}')\n",
        "nombre=patron.match(texto)\n",
        "print(nombre)"
      ],
      "execution_count": null,
      "outputs": [
        {
          "output_type": "stream",
          "text": [
            "<re.Match object; span=(0, 19), match='Juan Carlos Jiménez'>\n"
          ],
          "name": "stdout"
        }
      ]
    },
    {
      "cell_type": "markdown",
      "metadata": {
        "id": "tPOqwXRgUU1Y"
      },
      "source": [
        "##buscar coincidencias de un grupo condicionado"
      ]
    },
    {
      "cell_type": "code",
      "metadata": {
        "colab": {
          "base_uri": "https://localhost:8080/"
        },
        "id": "JcVNOq4DDNby",
        "outputId": "d95cf8f3-3aab-44b1-f586-33bd6548c1bf"
      },
      "source": [
        "texto='''\n",
        "Ing. Juan Carlos\n",
        "Lic. Omar Ochoa\n",
        "Psi. Ana Lopez\n",
        "Ing. Edgar Aranda\n",
        "IQ. Eduardo Acosta\n",
        "Q. Mario Hernandez\n",
        "IQM Manuel Perez\n",
        "'''\n",
        "patron=re.compile(r'I(ng|Q|QM)\\.?\\s[A-Z]\\w*')\n",
        "matches=patron.finditer(texto)\n",
        "for match in matches:\n",
        "    print(match)"
      ],
      "execution_count": null,
      "outputs": [
        {
          "output_type": "stream",
          "text": [
            "<re.Match object; span=(1, 10), match='Ing. Juan'>\n",
            "<re.Match object; span=(49, 59), match='Ing. Edgar'>\n",
            "<re.Match object; span=(67, 78), match='IQ. Eduardo'>\n",
            "<re.Match object; span=(105, 115), match='IQM Manuel'>\n"
          ],
          "name": "stdout"
        }
      ]
    },
    {
      "cell_type": "markdown",
      "metadata": {
        "id": "cfKjcmSlUhSs"
      },
      "source": [
        "##buscar fechas con varios formatos"
      ]
    },
    {
      "cell_type": "code",
      "metadata": {
        "colab": {
          "base_uri": "https://localhost:8080/"
        },
        "id": "K_KYdn0oZLNd",
        "outputId": "fc069ecb-5693-4c3f-d0f8-864f51579fbc"
      },
      "source": [
        "fechas='''\n",
        "hola\n",
        "1999-01-10\n",
        "2010-04-20\n",
        "2015/05/05\n",
        "2016/07/05\n",
        "2018/09/05\n",
        "2021.04.29\n",
        "2021.4.20\n",
        "01/01/2020\n",
        "10/30/2000\n",
        "pato\n",
        "3/may/2010\n",
        "8/jun/2011\n",
        "'''\n",
        "patron=re.compile(r\"\\d{4}.\\d{2}.\\d{2}\")\n",
        "matches=patron.finditer(fechas)\n",
        "for match in matches:\n",
        "  print(match)\n"
      ],
      "execution_count": null,
      "outputs": [
        {
          "output_type": "stream",
          "text": [
            "<re.Match object; span=(6, 16), match='1999-01-10'>\n",
            "<re.Match object; span=(17, 27), match='2010-04-20'>\n",
            "<re.Match object; span=(28, 38), match='2015/05/05'>\n",
            "<re.Match object; span=(39, 49), match='2016/07/05'>\n",
            "<re.Match object; span=(50, 60), match='2018/09/05'>\n",
            "<re.Match object; span=(61, 71), match='2021.04.29'>\n"
          ],
          "name": "stdout"
        }
      ]
    },
    {
      "cell_type": "markdown",
      "metadata": {
        "id": "jw1FJD1kUr_V"
      },
      "source": [
        "##buscar fechas de un rango de meses"
      ]
    },
    {
      "cell_type": "code",
      "metadata": {
        "colab": {
          "base_uri": "https://localhost:8080/"
        },
        "id": "9eBh2V5AbQC-",
        "outputId": "6af54cc1-bf63-4b15-de89-54b63959fa8d"
      },
      "source": [
        "patron=re.compile(r\"\\d{4}.0[1-6].\\d{2}\")\n",
        "matches=patron.finditer(fechas)\n",
        "for match in matches:\n",
        "  print(match)"
      ],
      "execution_count": null,
      "outputs": [
        {
          "output_type": "stream",
          "text": [
            "<re.Match object; span=(6, 16), match='1999-01-10'>\n",
            "<re.Match object; span=(17, 27), match='2010-04-20'>\n",
            "<re.Match object; span=(28, 38), match='2015/05/05'>\n",
            "<re.Match object; span=(61, 71), match='2021.04.29'>\n"
          ],
          "name": "stdout"
        }
      ]
    },
    {
      "cell_type": "markdown",
      "metadata": {
        "id": "mjnAc9SqU0ts"
      },
      "source": [
        "##buscar fechas de un rango de años y meses"
      ]
    },
    {
      "cell_type": "code",
      "metadata": {
        "colab": {
          "base_uri": "https://localhost:8080/"
        },
        "id": "FgfV_jqtbsZG",
        "outputId": "66dbb101-1dbc-4229-9223-e082403867a8"
      },
      "source": [
        "patron=re.compile(r\"2\\d{3}.0[1-6].\\d{2}\")\n",
        "matches=patron.finditer(fechas)\n",
        "for match in matches:\n",
        "  print(match)"
      ],
      "execution_count": null,
      "outputs": [
        {
          "output_type": "stream",
          "text": [
            "<re.Match object; span=(17, 27), match='2010-04-20'>\n",
            "<re.Match object; span=(28, 38), match='2015/05/05'>\n",
            "<re.Match object; span=(61, 71), match='2021.04.29'>\n"
          ],
          "name": "stdout"
        }
      ]
    },
    {
      "cell_type": "markdown",
      "metadata": {
        "id": "JMEARx5oU6mr"
      },
      "source": [
        "##buscar direcciones de correo"
      ]
    },
    {
      "cell_type": "code",
      "metadata": {
        "colab": {
          "base_uri": "https://localhost:8080/"
        },
        "id": "NlJ3bptPeZh7",
        "outputId": "94affb61-49dd-4c30-b080-9a925229f6db"
      },
      "source": [
        "texto='''\n",
        "hola\n",
        "micorreo@midominio.com\n",
        "incorrecto@hotmail\n",
        "otro_correo@hotmail.com\n",
        "abc123_xyz@yahoo.com.mx\n",
        "juan.carlos.jimenez@yahoo.com.es\n",
        "perro\n",
        "@gmail.com\n",
        "abc@gmail.com\n",
        "abc_123@gmail.co\n",
        "abc-123@gmail.com\n",
        "2020.01.01\n",
        "'''\n",
        "\n",
        "patron=re.compile(r\"[a-zA-Z0-9-_\\.]+@[a-zA-Z]+\\.[a-zA-Z]{3}(\\.[a-zA-Z]{2})?\")\n",
        "matches=patron.finditer(texto)\n",
        "for match in matches:\n",
        "  print(match)"
      ],
      "execution_count": null,
      "outputs": [
        {
          "output_type": "stream",
          "text": [
            "<re.Match object; span=(6, 28), match='micorreo@midominio.com'>\n",
            "<re.Match object; span=(48, 71), match='otro_correo@hotmail.com'>\n",
            "<re.Match object; span=(72, 95), match='abc123_xyz@yahoo.com.mx'>\n",
            "<re.Match object; span=(96, 128), match='juan.carlos.jimenez@yahoo.com.es'>\n",
            "<re.Match object; span=(146, 159), match='abc@gmail.com'>\n",
            "<re.Match object; span=(177, 194), match='abc-123@gmail.com'>\n"
          ],
          "name": "stdout"
        }
      ]
    },
    {
      "cell_type": "markdown",
      "metadata": {
        "id": "PIndU5-uVAJP"
      },
      "source": [
        "##buscar direcciones de correo de un grupo del dominio"
      ]
    },
    {
      "cell_type": "code",
      "metadata": {
        "colab": {
          "base_uri": "https://localhost:8080/"
        },
        "id": "OAkyNr13gqWG",
        "outputId": "94306f28-bd13-4a5c-87f1-5eb2a3039624"
      },
      "source": [
        "patron=re.compile(r\"[a-zA-Z0-9-_\\.]+@(gmail|hotmail)\\.[a-zA-Z]{3}\")\n",
        "matches=patron.finditer(texto)\n",
        "for match in matches:\n",
        "  print(match)"
      ],
      "execution_count": null,
      "outputs": [
        {
          "output_type": "stream",
          "text": [
            "<re.Match object; span=(48, 71), match='otro_correo@hotmail.com'>\n",
            "<re.Match object; span=(146, 159), match='abc@gmail.com'>\n",
            "<re.Match object; span=(177, 194), match='abc-123@gmail.com'>\n"
          ],
          "name": "stdout"
        }
      ]
    },
    {
      "cell_type": "markdown",
      "metadata": {
        "id": "2XZoAhdwVIdM"
      },
      "source": [
        "##separar los grupos del dominio de correos"
      ]
    },
    {
      "cell_type": "code",
      "metadata": {
        "colab": {
          "base_uri": "https://localhost:8080/"
        },
        "id": "M7sUlUmFkSUE",
        "outputId": "a4c6427f-e5fd-4d2a-af7f-2f2e0647a543"
      },
      "source": [
        "patron=re.compile(r\"([a-zA-Z0-9-_]+)+@([a-zA-Z]+)\\.([a-zA-Z]{3})\")\n",
        "matches=patron.finditer(texto)\n",
        "for match in matches:\n",
        "  print('CORREO ',match.group(0),' DIRECCION ',match.group(1),' DOMINIO ',match.group(2))"
      ],
      "execution_count": null,
      "outputs": [
        {
          "output_type": "stream",
          "text": [
            "CORREO  micorreo@midominio.com  DIRECCION  micorreo  DOMINIO  midominio\n",
            "CORREO  otro_correo@hotmail.com  DIRECCION  otro_correo  DOMINIO  hotmail\n",
            "CORREO  abc123_xyz@yahoo.com  DIRECCION  abc123_xyz  DOMINIO  yahoo\n",
            "CORREO  abc@gmail.com  DIRECCION  abc  DOMINIO  gmail\n",
            "CORREO  abc-123@gmail.com  DIRECCION  abc-123  DOMINIO  gmail\n"
          ],
          "name": "stdout"
        }
      ]
    },
    {
      "cell_type": "markdown",
      "metadata": {
        "id": "08A8KYDEVhTR"
      },
      "source": [
        "##buscar direcciones URL"
      ]
    },
    {
      "cell_type": "code",
      "metadata": {
        "colab": {
          "base_uri": "https://localhost:8080/"
        },
        "id": "NkTe876wpnpn",
        "outputId": "687e0035-a587-47c7-e136-021c8a50ef32"
      },
      "source": [
        "texto='''\n",
        "hola\n",
        "http://www.jcjimenezb.com\n",
        "https://www.banamex.com\n",
        "https://www.oracle.com\n",
        "gatito\n",
        "https://www.python.org\n",
        "https://ninite.com/\n",
        "\n",
        "https://www.latex4technics.com/\n",
        "https://kile.sourceforge.io/\n",
        "\n",
        "https://www.lucidchart.com/\n",
        "https://www.geogebra.org/\n",
        "https://es.symbolab.com/\n",
        "https://www.wolframalpha.com/\n",
        "'''\n",
        "patron=re.compile(r\"https?://(www\\.)?([a-zA-Z0-9.]+)(\\.[a-zA-Z]{2,3})\")\n",
        "matches=patron.finditer(texto)\n",
        "for match in matches:\n",
        "  print(match)"
      ],
      "execution_count": null,
      "outputs": [
        {
          "output_type": "stream",
          "text": [
            "<re.Match object; span=(6, 31), match='http://www.jcjimenezb.com'>\n",
            "<re.Match object; span=(32, 55), match='https://www.banamex.com'>\n",
            "<re.Match object; span=(56, 78), match='https://www.oracle.com'>\n",
            "<re.Match object; span=(86, 108), match='https://www.python.org'>\n",
            "<re.Match object; span=(109, 127), match='https://ninite.com'>\n",
            "<re.Match object; span=(130, 160), match='https://www.latex4technics.com'>\n",
            "<re.Match object; span=(162, 189), match='https://kile.sourceforge.io'>\n",
            "<re.Match object; span=(192, 218), match='https://www.lucidchart.com'>\n",
            "<re.Match object; span=(220, 244), match='https://www.geogebra.org'>\n",
            "<re.Match object; span=(246, 269), match='https://es.symbolab.com'>\n",
            "<re.Match object; span=(271, 299), match='https://www.wolframalpha.com'>\n"
          ],
          "name": "stdout"
        }
      ]
    },
    {
      "cell_type": "markdown",
      "metadata": {
        "id": "0hd2T045WBV2"
      },
      "source": [
        "##buscar precios"
      ]
    },
    {
      "cell_type": "code",
      "metadata": {
        "colab": {
          "base_uri": "https://localhost:8080/"
        },
        "id": "m3vQZD3HyAya",
        "outputId": "c7c40a33-0265-4be4-9e88-b2f95bbe32a6"
      },
      "source": [
        "texto='El precio del petroleo ha alcanzado su nivel mas bajo en los ultimos 10 anos, hoy se vende a $6.25 por barril'\n",
        "patron=re.compile(r\"\\$\\d{1,8}(\\.\\d{1,2})?\")\n",
        "precios=patron.finditer(texto)\n",
        "for precio in precios:\n",
        "  print(precio)"
      ],
      "execution_count": null,
      "outputs": [
        {
          "output_type": "stream",
          "text": [
            "<re.Match object; span=(93, 98), match='$6.25'>\n"
          ],
          "name": "stdout"
        }
      ]
    },
    {
      "cell_type": "markdown",
      "metadata": {
        "id": "PrUNPwt-syTv"
      },
      "source": [
        "##Modificar texto\n",
        "Además de buscar coincidencias de nuestro patrón de búsqueda en un texto, podemos utilizar ese mismo patrón para realizar modificaciones al texto de entrada. Para estos casos podemos utilizar los siguientes métodos:\n",
        "\n",
        "* **split()**: El cual divide el texto en una lista, realizando las divisiones del texto en cada lugar donde se cumple con la expresion regular.\n",
        "* **sub()**: El cual encuentra todos los subtextos donde existe una coincidencia con la expresion regular y luego los reemplaza con un nuevo texto.\n",
        "* **subn()**: El cual es similar al anterior pero además de devolver el nuevo texto, también devuelve el numero de reemplazos que realizó."
      ]
    },
    {
      "cell_type": "markdown",
      "metadata": {
        "id": "UiaocxwhVTuC"
      },
      "source": [
        "##Split o dividir el texto"
      ]
    },
    {
      "cell_type": "code",
      "metadata": {
        "colab": {
          "base_uri": "https://localhost:8080/"
        },
        "id": "w7KlUtIMmlL5",
        "outputId": "591dbaa8-c209-4a40-bdc1-928aab855197"
      },
      "source": [
        "texto='123@abcd@#$%^&'\n",
        "patron=re.compile(r'@')\n",
        "separado=patron.split(texto)\n",
        "print(separado)"
      ],
      "execution_count": null,
      "outputs": [
        {
          "output_type": "stream",
          "text": [
            "['123', 'abcd', '#$%^&']\n"
          ],
          "name": "stdout"
        }
      ]
    },
    {
      "cell_type": "markdown",
      "metadata": {
        "id": "yXxc7RifVbFt"
      },
      "source": [
        "##sub o substituir un texto"
      ]
    },
    {
      "cell_type": "code",
      "metadata": {
        "colab": {
          "base_uri": "https://localhost:8080/"
        },
        "id": "EwsuOn71nBWx",
        "outputId": "bfb6a99c-e221-436c-9ca5-686cff37e70b"
      },
      "source": [
        "texto='El agua es vida, cuidar el agua es responabilidad de todos'\n",
        "patron=re.compile(r'agua')\n",
        "texto2=patron.sub(\"H2O\",texto)\n",
        "print(texto2)"
      ],
      "execution_count": null,
      "outputs": [
        {
          "output_type": "stream",
          "text": [
            "El H2O es vida, cuidar el H2O es responabilidad de todos\n"
          ],
          "name": "stdout"
        }
      ]
    },
    {
      "cell_type": "markdown",
      "metadata": {
        "id": "LKlr6AD5XSva"
      },
      "source": [
        "#Leer un archivo pdf"
      ]
    },
    {
      "cell_type": "code",
      "metadata": {
        "colab": {
          "base_uri": "https://localhost:8080/"
        },
        "id": "7251G8ZUG9yR",
        "outputId": "57465bcb-125b-4181-e58e-8ecdb963c39f"
      },
      "source": [
        "!pip install pyttsx3\n",
        "!pip install PyPDF2"
      ],
      "execution_count": null,
      "outputs": [
        {
          "output_type": "stream",
          "text": [
            "Requirement already satisfied: pyttsx3 in /usr/local/lib/python3.7/dist-packages (2.90)\n",
            "Collecting PyPDF2\n",
            "\u001b[?25l  Downloading https://files.pythonhosted.org/packages/b4/01/68fcc0d43daf4c6bdbc6b33cc3f77bda531c86b174cac56ef0ffdb96faab/PyPDF2-1.26.0.tar.gz (77kB)\n",
            "\u001b[K     |████████████████████████████████| 81kB 3.4MB/s \n",
            "\u001b[?25hBuilding wheels for collected packages: PyPDF2\n",
            "  Building wheel for PyPDF2 (setup.py) ... \u001b[?25l\u001b[?25hdone\n",
            "  Created wheel for PyPDF2: filename=PyPDF2-1.26.0-cp37-none-any.whl size=61085 sha256=4ac43f62041d164289134e1d03a2c0fe9463b9e364a998dffb02b2ff5370b4e1\n",
            "  Stored in directory: /root/.cache/pip/wheels/53/84/19/35bc977c8bf5f0c23a8a011aa958acd4da4bbd7a229315c1b7\n",
            "Successfully built PyPDF2\n",
            "Installing collected packages: PyPDF2\n",
            "Successfully installed PyPDF2-1.26.0\n"
          ],
          "name": "stdout"
        }
      ]
    },
    {
      "cell_type": "code",
      "metadata": {
        "id": "6iqfdixaG4ks"
      },
      "source": [
        "import pyttsx3\n",
        "import PyPDF2"
      ],
      "execution_count": null,
      "outputs": []
    },
    {
      "cell_type": "code",
      "metadata": {
        "colab": {
          "base_uri": "https://localhost:8080/",
          "height": 449
        },
        "id": "xs2TmlVsHFkg",
        "outputId": "f0b64050-143d-4012-e201-7240aadbbb40"
      },
      "source": [
        "speaker=pyttsx3.init()\n",
        "speaker.say('Hello world!')\n",
        "speaker.runAndWait()"
      ],
      "execution_count": null,
      "outputs": [
        {
          "output_type": "error",
          "ename": "OSError",
          "evalue": "ignored",
          "traceback": [
            "\u001b[0;31m---------------------------------------------------------------------------\u001b[0m",
            "\u001b[0;31mKeyError\u001b[0m                                  Traceback (most recent call last)",
            "\u001b[0;32m/usr/local/lib/python3.7/dist-packages/pyttsx3/__init__.py\u001b[0m in \u001b[0;36minit\u001b[0;34m(driverName, debug)\u001b[0m\n\u001b[1;32m     19\u001b[0m     \u001b[0;32mtry\u001b[0m\u001b[0;34m:\u001b[0m\u001b[0;34m\u001b[0m\u001b[0;34m\u001b[0m\u001b[0m\n\u001b[0;32m---> 20\u001b[0;31m         \u001b[0meng\u001b[0m \u001b[0;34m=\u001b[0m \u001b[0m_activeEngines\u001b[0m\u001b[0;34m[\u001b[0m\u001b[0mdriverName\u001b[0m\u001b[0;34m]\u001b[0m\u001b[0;34m\u001b[0m\u001b[0;34m\u001b[0m\u001b[0m\n\u001b[0m\u001b[1;32m     21\u001b[0m     \u001b[0;32mexcept\u001b[0m \u001b[0mKeyError\u001b[0m\u001b[0;34m:\u001b[0m\u001b[0;34m\u001b[0m\u001b[0;34m\u001b[0m\u001b[0m\n",
            "\u001b[0;32m/usr/lib/python3.7/weakref.py\u001b[0m in \u001b[0;36m__getitem__\u001b[0;34m(self, key)\u001b[0m\n\u001b[1;32m    136\u001b[0m             \u001b[0mself\u001b[0m\u001b[0;34m.\u001b[0m\u001b[0m_commit_removals\u001b[0m\u001b[0;34m(\u001b[0m\u001b[0;34m)\u001b[0m\u001b[0;34m\u001b[0m\u001b[0;34m\u001b[0m\u001b[0m\n\u001b[0;32m--> 137\u001b[0;31m         \u001b[0mo\u001b[0m \u001b[0;34m=\u001b[0m \u001b[0mself\u001b[0m\u001b[0;34m.\u001b[0m\u001b[0mdata\u001b[0m\u001b[0;34m[\u001b[0m\u001b[0mkey\u001b[0m\u001b[0;34m]\u001b[0m\u001b[0;34m(\u001b[0m\u001b[0;34m)\u001b[0m\u001b[0;34m\u001b[0m\u001b[0;34m\u001b[0m\u001b[0m\n\u001b[0m\u001b[1;32m    138\u001b[0m         \u001b[0;32mif\u001b[0m \u001b[0mo\u001b[0m \u001b[0;32mis\u001b[0m \u001b[0;32mNone\u001b[0m\u001b[0;34m:\u001b[0m\u001b[0;34m\u001b[0m\u001b[0;34m\u001b[0m\u001b[0m\n",
            "\u001b[0;31mKeyError\u001b[0m: None",
            "\nDuring handling of the above exception, another exception occurred:\n",
            "\u001b[0;31mOSError\u001b[0m                                   Traceback (most recent call last)",
            "\u001b[0;32m<ipython-input-109-d84fc31536e2>\u001b[0m in \u001b[0;36m<module>\u001b[0;34m()\u001b[0m\n\u001b[0;32m----> 1\u001b[0;31m \u001b[0mspeaker\u001b[0m\u001b[0;34m=\u001b[0m\u001b[0mpyttsx3\u001b[0m\u001b[0;34m.\u001b[0m\u001b[0minit\u001b[0m\u001b[0;34m(\u001b[0m\u001b[0;34m)\u001b[0m\u001b[0;34m\u001b[0m\u001b[0;34m\u001b[0m\u001b[0m\n\u001b[0m\u001b[1;32m      2\u001b[0m \u001b[0mspeaker\u001b[0m\u001b[0;34m.\u001b[0m\u001b[0msay\u001b[0m\u001b[0;34m(\u001b[0m\u001b[0;34m'Hello world!'\u001b[0m\u001b[0;34m)\u001b[0m\u001b[0;34m\u001b[0m\u001b[0;34m\u001b[0m\u001b[0m\n\u001b[1;32m      3\u001b[0m \u001b[0mspeaker\u001b[0m\u001b[0;34m.\u001b[0m\u001b[0mrunAndWait\u001b[0m\u001b[0;34m(\u001b[0m\u001b[0;34m)\u001b[0m\u001b[0;34m\u001b[0m\u001b[0;34m\u001b[0m\u001b[0m\n",
            "\u001b[0;32m/usr/local/lib/python3.7/dist-packages/pyttsx3/__init__.py\u001b[0m in \u001b[0;36minit\u001b[0;34m(driverName, debug)\u001b[0m\n\u001b[1;32m     20\u001b[0m         \u001b[0meng\u001b[0m \u001b[0;34m=\u001b[0m \u001b[0m_activeEngines\u001b[0m\u001b[0;34m[\u001b[0m\u001b[0mdriverName\u001b[0m\u001b[0;34m]\u001b[0m\u001b[0;34m\u001b[0m\u001b[0;34m\u001b[0m\u001b[0m\n\u001b[1;32m     21\u001b[0m     \u001b[0;32mexcept\u001b[0m \u001b[0mKeyError\u001b[0m\u001b[0;34m:\u001b[0m\u001b[0;34m\u001b[0m\u001b[0;34m\u001b[0m\u001b[0m\n\u001b[0;32m---> 22\u001b[0;31m         \u001b[0meng\u001b[0m \u001b[0;34m=\u001b[0m \u001b[0mEngine\u001b[0m\u001b[0;34m(\u001b[0m\u001b[0mdriverName\u001b[0m\u001b[0;34m,\u001b[0m \u001b[0mdebug\u001b[0m\u001b[0;34m)\u001b[0m\u001b[0;34m\u001b[0m\u001b[0;34m\u001b[0m\u001b[0m\n\u001b[0m\u001b[1;32m     23\u001b[0m         \u001b[0m_activeEngines\u001b[0m\u001b[0;34m[\u001b[0m\u001b[0mdriverName\u001b[0m\u001b[0;34m]\u001b[0m \u001b[0;34m=\u001b[0m \u001b[0meng\u001b[0m\u001b[0;34m\u001b[0m\u001b[0;34m\u001b[0m\u001b[0m\n\u001b[1;32m     24\u001b[0m     \u001b[0;32mreturn\u001b[0m \u001b[0meng\u001b[0m\u001b[0;34m\u001b[0m\u001b[0;34m\u001b[0m\u001b[0m\n",
            "\u001b[0;32m/usr/local/lib/python3.7/dist-packages/pyttsx3/engine.py\u001b[0m in \u001b[0;36m__init__\u001b[0;34m(self, driverName, debug)\u001b[0m\n\u001b[1;32m     28\u001b[0m         \u001b[0;34m@\u001b[0m\u001b[0mtype\u001b[0m \u001b[0mdebug\u001b[0m\u001b[0;34m:\u001b[0m \u001b[0mbool\u001b[0m\u001b[0;34m\u001b[0m\u001b[0;34m\u001b[0m\u001b[0m\n\u001b[1;32m     29\u001b[0m         \"\"\"\n\u001b[0;32m---> 30\u001b[0;31m         \u001b[0mself\u001b[0m\u001b[0;34m.\u001b[0m\u001b[0mproxy\u001b[0m \u001b[0;34m=\u001b[0m \u001b[0mdriver\u001b[0m\u001b[0;34m.\u001b[0m\u001b[0mDriverProxy\u001b[0m\u001b[0;34m(\u001b[0m\u001b[0mweakref\u001b[0m\u001b[0;34m.\u001b[0m\u001b[0mproxy\u001b[0m\u001b[0;34m(\u001b[0m\u001b[0mself\u001b[0m\u001b[0;34m)\u001b[0m\u001b[0;34m,\u001b[0m \u001b[0mdriverName\u001b[0m\u001b[0;34m,\u001b[0m \u001b[0mdebug\u001b[0m\u001b[0;34m)\u001b[0m\u001b[0;34m\u001b[0m\u001b[0;34m\u001b[0m\u001b[0m\n\u001b[0m\u001b[1;32m     31\u001b[0m         \u001b[0;31m# initialize other vars\u001b[0m\u001b[0;34m\u001b[0m\u001b[0;34m\u001b[0m\u001b[0;34m\u001b[0m\u001b[0m\n\u001b[1;32m     32\u001b[0m         \u001b[0mself\u001b[0m\u001b[0;34m.\u001b[0m\u001b[0m_connects\u001b[0m \u001b[0;34m=\u001b[0m \u001b[0;34m{\u001b[0m\u001b[0;34m}\u001b[0m\u001b[0;34m\u001b[0m\u001b[0;34m\u001b[0m\u001b[0m\n",
            "\u001b[0;32m/usr/local/lib/python3.7/dist-packages/pyttsx3/driver.py\u001b[0m in \u001b[0;36m__init__\u001b[0;34m(self, engine, driverName, debug)\u001b[0m\n\u001b[1;32m     48\u001b[0m         \u001b[0;31m# import driver module\u001b[0m\u001b[0;34m\u001b[0m\u001b[0;34m\u001b[0m\u001b[0;34m\u001b[0m\u001b[0m\n\u001b[1;32m     49\u001b[0m         \u001b[0mname\u001b[0m \u001b[0;34m=\u001b[0m \u001b[0;34m'pyttsx3.drivers.%s'\u001b[0m \u001b[0;34m%\u001b[0m \u001b[0mdriverName\u001b[0m\u001b[0;34m\u001b[0m\u001b[0;34m\u001b[0m\u001b[0m\n\u001b[0;32m---> 50\u001b[0;31m         \u001b[0mself\u001b[0m\u001b[0;34m.\u001b[0m\u001b[0m_module\u001b[0m \u001b[0;34m=\u001b[0m \u001b[0mimportlib\u001b[0m\u001b[0;34m.\u001b[0m\u001b[0mimport_module\u001b[0m\u001b[0;34m(\u001b[0m\u001b[0mname\u001b[0m\u001b[0;34m)\u001b[0m\u001b[0;34m\u001b[0m\u001b[0;34m\u001b[0m\u001b[0m\n\u001b[0m\u001b[1;32m     51\u001b[0m         \u001b[0;31m# build driver instance\u001b[0m\u001b[0;34m\u001b[0m\u001b[0;34m\u001b[0m\u001b[0;34m\u001b[0m\u001b[0m\n\u001b[1;32m     52\u001b[0m         \u001b[0mself\u001b[0m\u001b[0;34m.\u001b[0m\u001b[0m_driver\u001b[0m \u001b[0;34m=\u001b[0m \u001b[0mself\u001b[0m\u001b[0;34m.\u001b[0m\u001b[0m_module\u001b[0m\u001b[0;34m.\u001b[0m\u001b[0mbuildDriver\u001b[0m\u001b[0;34m(\u001b[0m\u001b[0mweakref\u001b[0m\u001b[0;34m.\u001b[0m\u001b[0mproxy\u001b[0m\u001b[0;34m(\u001b[0m\u001b[0mself\u001b[0m\u001b[0;34m)\u001b[0m\u001b[0;34m)\u001b[0m\u001b[0;34m\u001b[0m\u001b[0;34m\u001b[0m\u001b[0m\n",
            "\u001b[0;32m/usr/lib/python3.7/importlib/__init__.py\u001b[0m in \u001b[0;36mimport_module\u001b[0;34m(name, package)\u001b[0m\n\u001b[1;32m    125\u001b[0m                 \u001b[0;32mbreak\u001b[0m\u001b[0;34m\u001b[0m\u001b[0;34m\u001b[0m\u001b[0m\n\u001b[1;32m    126\u001b[0m             \u001b[0mlevel\u001b[0m \u001b[0;34m+=\u001b[0m \u001b[0;36m1\u001b[0m\u001b[0;34m\u001b[0m\u001b[0;34m\u001b[0m\u001b[0m\n\u001b[0;32m--> 127\u001b[0;31m     \u001b[0;32mreturn\u001b[0m \u001b[0m_bootstrap\u001b[0m\u001b[0;34m.\u001b[0m\u001b[0m_gcd_import\u001b[0m\u001b[0;34m(\u001b[0m\u001b[0mname\u001b[0m\u001b[0;34m[\u001b[0m\u001b[0mlevel\u001b[0m\u001b[0;34m:\u001b[0m\u001b[0;34m]\u001b[0m\u001b[0;34m,\u001b[0m \u001b[0mpackage\u001b[0m\u001b[0;34m,\u001b[0m \u001b[0mlevel\u001b[0m\u001b[0;34m)\u001b[0m\u001b[0;34m\u001b[0m\u001b[0;34m\u001b[0m\u001b[0m\n\u001b[0m\u001b[1;32m    128\u001b[0m \u001b[0;34m\u001b[0m\u001b[0m\n\u001b[1;32m    129\u001b[0m \u001b[0;34m\u001b[0m\u001b[0m\n",
            "\u001b[0;32m/usr/lib/python3.7/importlib/_bootstrap.py\u001b[0m in \u001b[0;36m_gcd_import\u001b[0;34m(name, package, level)\u001b[0m\n",
            "\u001b[0;32m/usr/lib/python3.7/importlib/_bootstrap.py\u001b[0m in \u001b[0;36m_find_and_load\u001b[0;34m(name, import_)\u001b[0m\n",
            "\u001b[0;32m/usr/lib/python3.7/importlib/_bootstrap.py\u001b[0m in \u001b[0;36m_find_and_load_unlocked\u001b[0;34m(name, import_)\u001b[0m\n",
            "\u001b[0;32m/usr/lib/python3.7/importlib/_bootstrap.py\u001b[0m in \u001b[0;36m_load_unlocked\u001b[0;34m(spec)\u001b[0m\n",
            "\u001b[0;32m/usr/lib/python3.7/importlib/_bootstrap_external.py\u001b[0m in \u001b[0;36mexec_module\u001b[0;34m(self, module)\u001b[0m\n",
            "\u001b[0;32m/usr/lib/python3.7/importlib/_bootstrap.py\u001b[0m in \u001b[0;36m_call_with_frames_removed\u001b[0;34m(f, *args, **kwds)\u001b[0m\n",
            "\u001b[0;32m/usr/local/lib/python3.7/dist-packages/pyttsx3/drivers/espeak.py\u001b[0m in \u001b[0;36m<module>\u001b[0;34m()\u001b[0m\n\u001b[1;32m      7\u001b[0m \u001b[0;32mfrom\u001b[0m \u001b[0mtempfile\u001b[0m \u001b[0;32mimport\u001b[0m \u001b[0mNamedTemporaryFile\u001b[0m\u001b[0;34m\u001b[0m\u001b[0;34m\u001b[0m\u001b[0m\n\u001b[1;32m      8\u001b[0m \u001b[0;32mfrom\u001b[0m \u001b[0;34m.\u001b[0m\u001b[0;34m.\u001b[0m\u001b[0mvoice\u001b[0m \u001b[0;32mimport\u001b[0m \u001b[0mVoice\u001b[0m\u001b[0;34m\u001b[0m\u001b[0;34m\u001b[0m\u001b[0m\n\u001b[0;32m----> 9\u001b[0;31m \u001b[0;32mfrom\u001b[0m \u001b[0;34m.\u001b[0m \u001b[0;32mimport\u001b[0m \u001b[0m_espeak\u001b[0m\u001b[0;34m,\u001b[0m \u001b[0mtoUtf8\u001b[0m\u001b[0;34m,\u001b[0m \u001b[0mfromUtf8\u001b[0m\u001b[0;34m\u001b[0m\u001b[0;34m\u001b[0m\u001b[0m\n\u001b[0m\u001b[1;32m     10\u001b[0m \u001b[0;34m\u001b[0m\u001b[0m\n\u001b[1;32m     11\u001b[0m \u001b[0;34m\u001b[0m\u001b[0m\n",
            "\u001b[0;32m/usr/local/lib/python3.7/dist-packages/pyttsx3/drivers/_espeak.py\u001b[0m in \u001b[0;36m<module>\u001b[0;34m()\u001b[0m\n\u001b[1;32m     16\u001b[0m     \u001b[0;32mreturn\u001b[0m \u001b[0mCFUNCTYPE\u001b[0m\u001b[0;34m(\u001b[0m\u001b[0mresult\u001b[0m\u001b[0;34m,\u001b[0m \u001b[0;34m*\u001b[0m\u001b[0matypes\u001b[0m\u001b[0;34m)\u001b[0m\u001b[0;34m(\u001b[0m\u001b[0;34m(\u001b[0m\u001b[0mname\u001b[0m\u001b[0;34m,\u001b[0m \u001b[0mdll\u001b[0m\u001b[0;34m)\u001b[0m\u001b[0;34m,\u001b[0m \u001b[0mtuple\u001b[0m\u001b[0;34m(\u001b[0m\u001b[0maflags\u001b[0m\u001b[0;34m)\u001b[0m\u001b[0;34m)\u001b[0m\u001b[0;34m\u001b[0m\u001b[0;34m\u001b[0m\u001b[0m\n\u001b[1;32m     17\u001b[0m \u001b[0;34m\u001b[0m\u001b[0m\n\u001b[0;32m---> 18\u001b[0;31m \u001b[0mdll\u001b[0m \u001b[0;34m=\u001b[0m \u001b[0mcdll\u001b[0m\u001b[0;34m.\u001b[0m\u001b[0mLoadLibrary\u001b[0m\u001b[0;34m(\u001b[0m\u001b[0;34m'libespeak.so.1'\u001b[0m\u001b[0;34m)\u001b[0m\u001b[0;34m\u001b[0m\u001b[0;34m\u001b[0m\u001b[0m\n\u001b[0m\u001b[1;32m     19\u001b[0m \u001b[0;34m\u001b[0m\u001b[0m\n\u001b[1;32m     20\u001b[0m \u001b[0;31m# constants and such from speak_lib.h\u001b[0m\u001b[0;34m\u001b[0m\u001b[0;34m\u001b[0m\u001b[0;34m\u001b[0m\u001b[0m\n",
            "\u001b[0;32m/usr/lib/python3.7/ctypes/__init__.py\u001b[0m in \u001b[0;36mLoadLibrary\u001b[0;34m(self, name)\u001b[0m\n\u001b[1;32m    440\u001b[0m \u001b[0;34m\u001b[0m\u001b[0m\n\u001b[1;32m    441\u001b[0m     \u001b[0;32mdef\u001b[0m \u001b[0mLoadLibrary\u001b[0m\u001b[0;34m(\u001b[0m\u001b[0mself\u001b[0m\u001b[0;34m,\u001b[0m \u001b[0mname\u001b[0m\u001b[0;34m)\u001b[0m\u001b[0;34m:\u001b[0m\u001b[0;34m\u001b[0m\u001b[0;34m\u001b[0m\u001b[0m\n\u001b[0;32m--> 442\u001b[0;31m         \u001b[0;32mreturn\u001b[0m \u001b[0mself\u001b[0m\u001b[0;34m.\u001b[0m\u001b[0m_dlltype\u001b[0m\u001b[0;34m(\u001b[0m\u001b[0mname\u001b[0m\u001b[0;34m)\u001b[0m\u001b[0;34m\u001b[0m\u001b[0;34m\u001b[0m\u001b[0m\n\u001b[0m\u001b[1;32m    443\u001b[0m \u001b[0;34m\u001b[0m\u001b[0m\n\u001b[1;32m    444\u001b[0m \u001b[0mcdll\u001b[0m \u001b[0;34m=\u001b[0m \u001b[0mLibraryLoader\u001b[0m\u001b[0;34m(\u001b[0m\u001b[0mCDLL\u001b[0m\u001b[0;34m)\u001b[0m\u001b[0;34m\u001b[0m\u001b[0;34m\u001b[0m\u001b[0m\n",
            "\u001b[0;32m/usr/lib/python3.7/ctypes/__init__.py\u001b[0m in \u001b[0;36m__init__\u001b[0;34m(self, name, mode, handle, use_errno, use_last_error)\u001b[0m\n\u001b[1;32m    362\u001b[0m \u001b[0;34m\u001b[0m\u001b[0m\n\u001b[1;32m    363\u001b[0m         \u001b[0;32mif\u001b[0m \u001b[0mhandle\u001b[0m \u001b[0;32mis\u001b[0m \u001b[0;32mNone\u001b[0m\u001b[0;34m:\u001b[0m\u001b[0;34m\u001b[0m\u001b[0;34m\u001b[0m\u001b[0m\n\u001b[0;32m--> 364\u001b[0;31m             \u001b[0mself\u001b[0m\u001b[0;34m.\u001b[0m\u001b[0m_handle\u001b[0m \u001b[0;34m=\u001b[0m \u001b[0m_dlopen\u001b[0m\u001b[0;34m(\u001b[0m\u001b[0mself\u001b[0m\u001b[0;34m.\u001b[0m\u001b[0m_name\u001b[0m\u001b[0;34m,\u001b[0m \u001b[0mmode\u001b[0m\u001b[0;34m)\u001b[0m\u001b[0;34m\u001b[0m\u001b[0;34m\u001b[0m\u001b[0m\n\u001b[0m\u001b[1;32m    365\u001b[0m         \u001b[0;32melse\u001b[0m\u001b[0;34m:\u001b[0m\u001b[0;34m\u001b[0m\u001b[0;34m\u001b[0m\u001b[0m\n\u001b[1;32m    366\u001b[0m             \u001b[0mself\u001b[0m\u001b[0;34m.\u001b[0m\u001b[0m_handle\u001b[0m \u001b[0;34m=\u001b[0m \u001b[0mhandle\u001b[0m\u001b[0;34m\u001b[0m\u001b[0;34m\u001b[0m\u001b[0m\n",
            "\u001b[0;31mOSError\u001b[0m: libespeak.so.1: cannot open shared object file: No such file or directory"
          ]
        }
      ]
    },
    {
      "cell_type": "code",
      "metadata": {
        "colab": {
          "base_uri": "https://localhost:8080/",
          "height": 244
        },
        "id": "EqPU-lq6Iy21",
        "outputId": "a333ce27-e329-4805-8a4d-97ef78600d6c"
      },
      "source": [
        "book=open('libro.pdf','rb')\n",
        "pdfReader=PyPDF2.PdfFileReader(book)\n",
        "pages=pdfReader.numPages\n",
        "print(pages)\n",
        "\n",
        "speaker=pyttsx3.init()\n",
        "page=pdfReader.getPage(2)\n",
        "text=page.extractText()\n",
        "speaker.say(text)\n",
        "speaker.runAndWait()"
      ],
      "execution_count": null,
      "outputs": [
        {
          "output_type": "error",
          "ename": "FileNotFoundError",
          "evalue": "ignored",
          "traceback": [
            "\u001b[0;31m---------------------------------------------------------------------------\u001b[0m",
            "\u001b[0;31mFileNotFoundError\u001b[0m                         Traceback (most recent call last)",
            "\u001b[0;32m<ipython-input-113-705c4bc7a955>\u001b[0m in \u001b[0;36m<module>\u001b[0;34m()\u001b[0m\n\u001b[0;32m----> 1\u001b[0;31m \u001b[0mbook\u001b[0m\u001b[0;34m=\u001b[0m\u001b[0mopen\u001b[0m\u001b[0;34m(\u001b[0m\u001b[0;34m'libro.pdf'\u001b[0m\u001b[0;34m,\u001b[0m\u001b[0;34m'rb'\u001b[0m\u001b[0;34m)\u001b[0m\u001b[0;34m\u001b[0m\u001b[0;34m\u001b[0m\u001b[0m\n\u001b[0m\u001b[1;32m      2\u001b[0m \u001b[0mpdfReader\u001b[0m\u001b[0;34m=\u001b[0m\u001b[0mPyPDF2\u001b[0m\u001b[0;34m.\u001b[0m\u001b[0mPdfFileReader\u001b[0m\u001b[0;34m(\u001b[0m\u001b[0mbook\u001b[0m\u001b[0;34m)\u001b[0m\u001b[0;34m\u001b[0m\u001b[0;34m\u001b[0m\u001b[0m\n\u001b[1;32m      3\u001b[0m \u001b[0mpages\u001b[0m\u001b[0;34m=\u001b[0m\u001b[0mpdfReader\u001b[0m\u001b[0;34m.\u001b[0m\u001b[0mnumPages\u001b[0m\u001b[0;34m\u001b[0m\u001b[0;34m\u001b[0m\u001b[0m\n\u001b[1;32m      4\u001b[0m \u001b[0mprint\u001b[0m\u001b[0;34m(\u001b[0m\u001b[0mpages\u001b[0m\u001b[0;34m)\u001b[0m\u001b[0;34m\u001b[0m\u001b[0;34m\u001b[0m\u001b[0m\n\u001b[1;32m      5\u001b[0m \u001b[0;34m\u001b[0m\u001b[0m\n",
            "\u001b[0;31mFileNotFoundError\u001b[0m: [Errno 2] No such file or directory: 'libro.pdf'"
          ]
        }
      ]
    }
  ]
}