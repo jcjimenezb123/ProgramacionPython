{
  "nbformat": 4,
  "nbformat_minor": 0,
  "metadata": {
    "colab": {
      "name": "funciones.ipynb",
      "provenance": [],
      "collapsed_sections": [
        "NMxe_StPDDmG",
        "qh5zVAeaDRaa",
        "pSkEo8P8DZdJ",
        "BgAdC8oNDheS",
        "G71_n66HDn3n",
        "bOABm5fiDuaf"
      ],
      "authorship_tag": "ABX9TyMFAUYVhb2Xf/8NbKGN9QoQ",
      "include_colab_link": true
    },
    "kernelspec": {
      "name": "python3",
      "display_name": "Python 3"
    },
    "language_info": {
      "name": "python"
    }
  },
  "cells": [
    {
      "cell_type": "markdown",
      "metadata": {
        "id": "view-in-github",
        "colab_type": "text"
      },
      "source": [
        "<a href=\"https://colab.research.google.com/github/jcjimenezb123/ProgramacionPython/blob/master/funciones.ipynb\" target=\"_parent\"><img src=\"https://colab.research.google.com/assets/colab-badge.svg\" alt=\"Open In Colab\"/></a>"
      ]
    },
    {
      "cell_type": "markdown",
      "metadata": {
        "id": "NMxe_StPDDmG"
      },
      "source": [
        "##Definición de funciones"
      ]
    },
    {
      "cell_type": "code",
      "metadata": {
        "id": "z0uZSKaglB1s"
      },
      "source": [
        "import numpy as np\n",
        "\n",
        "def newton(f,df,x,imax=100,tol=1e-8):\n",
        "  '''\n",
        "  Metodo de Newton-Raphson\n",
        "  Encuentra la raiz de una ecuacion no lineal.\n",
        "  Parametros\n",
        "  ----------\n",
        "  f  : funcion a resolver\n",
        "  df : derivada de la funcion\n",
        "  x  : valor inicial\n",
        "  imax : numero maximo de iteraciones\n",
        "  tol : tolerancia de convergencia\n",
        "  Retorna\n",
        "  -------\n",
        "  x : raiz encontrada\n",
        "  iter : tabla de iteraciones\n",
        "  '''\n",
        "  sigue = True\n",
        "  itera=[]\n",
        "  k=0\n",
        "  while sigue and k<imax:\n",
        "    x = x - f(x)/df(x)\n",
        "    k+=1\n",
        "    sigue = np.abs(f(x))>tol\n",
        "    itera.append([x,f(x),df(x)])\n",
        "\n",
        "  return x,itera"
      ],
      "execution_count": null,
      "outputs": []
    },
    {
      "cell_type": "code",
      "metadata": {
        "id": "XJPP9UIRmKr0"
      },
      "source": [
        "def f(x):\n",
        "  return x**2-2\n",
        "\n",
        "def df(x):\n",
        "  return 2*x"
      ],
      "execution_count": null,
      "outputs": []
    },
    {
      "cell_type": "code",
      "metadata": {
        "colab": {
          "base_uri": "https://localhost:8080/"
        },
        "id": "-cRnHt3ZmT9R",
        "outputId": "9887114d-57fb-4f64-93be-c7b9563a9114"
      },
      "source": [
        "r,itera=newton(f,df,1,100,1e-5)\n",
        "\n",
        "print(r,end='\\n\\n')\n",
        "print(f'{\"x\":12} {\"f(x)\":12} {\"df(x)\":12}')\n",
        "for iter in itera:\n",
        "  print(f'{iter[0]:e} {iter[1]:e} {iter[2]:e}')"
      ],
      "execution_count": null,
      "outputs": [
        {
          "output_type": "stream",
          "text": [
            "1.4142156862745099\n",
            "\n",
            "x            f(x)         df(x)       \n",
            "1.500000e+00 2.500000e-01 3.000000e+00\n",
            "1.416667e+00 6.944444e-03 2.833333e+00\n",
            "1.414216e+00 6.007305e-06 2.828431e+00\n"
          ],
          "name": "stdout"
        }
      ]
    },
    {
      "cell_type": "code",
      "metadata": {
        "id": "CiLoU4IaVD0T"
      },
      "source": [
        "def reglaGeneral(a,b,c):\n",
        "  '''\n",
        "  Obtiene las raices de una ecuacion segundo grado\n",
        "  con la regla general, la ecuacion debe tener la forma:\n",
        "  ax^2+bx+c=0\n",
        "  Parametros\n",
        "  ---------\n",
        "  a = coeficiente del termino de segundo grado\n",
        "  b = coeficiente del termino de primer grado\n",
        "  c = constante\n",
        "  Retorno\n",
        "  -------\n",
        "  x1, x2 : raices de la ecuacion\n",
        "  '''\n",
        "  if a==0 and b!=0:\n",
        "    return -c/b,None\n",
        "  else:\n",
        "    if b**2-4*a*c>0:\n",
        "      return (-b+pow(b**2-4*a*c,0.5))/(2*a),\n",
        "      (-b-pow(b**2-4*a*c,0.5))/(2*a)\n",
        "    else:\n",
        "      return (-b+pow(b**2-4*a*c+0j,0.5))/(2*a),\n",
        "      (-b-pow(b**2-4*a*c+0j,0.5))/(2*a)"
      ],
      "execution_count": 20,
      "outputs": []
    },
    {
      "cell_type": "code",
      "metadata": {
        "colab": {
          "base_uri": "https://localhost:8080/"
        },
        "id": "YnjhmMw9kqRQ",
        "outputId": "d912fddc-1dc5-4778-c8f2-a7310a80725a"
      },
      "source": [
        "print(type(reglaGeneral))"
      ],
      "execution_count": 20,
      "outputs": [
        {
          "output_type": "stream",
          "text": [
            "<class 'function'>\n"
          ],
          "name": "stdout"
        }
      ]
    },
    {
      "cell_type": "code",
      "metadata": {
        "colab": {
          "base_uri": "https://localhost:8080/"
        },
        "id": "gNaTszotkaPX",
        "outputId": "934b8961-05fc-4071-aea7-8368ea30d1f4"
      },
      "source": [
        "help(reglaGeneral)"
      ],
      "execution_count": 19,
      "outputs": [
        {
          "output_type": "stream",
          "text": [
            "Help on function reglaGeneral in module __main__:\n",
            "\n",
            "reglaGeneral(a, b, c)\n",
            "    Obtiene las raices de una ecuacion cuadratica con la regla general, \n",
            "    la ecuacion debe tener la forma:\n",
            "    ax^2+bx+c=0\n",
            "    Paramtros\n",
            "    ---------\n",
            "    a = coeficiente del termino de segundo grado\n",
            "    b = coeficiente del termino de primer grado\n",
            "    c = constante\n",
            "    Retorno\n",
            "    -------\n",
            "    x1, x2 : raices de la ecuacion\n",
            "\n"
          ],
          "name": "stdout"
        }
      ]
    },
    {
      "cell_type": "markdown",
      "metadata": {
        "id": "qh5zVAeaDRaa"
      },
      "source": [
        "##Llamada a funciones "
      ]
    },
    {
      "cell_type": "code",
      "metadata": {
        "colab": {
          "base_uri": "https://localhost:8080/"
        },
        "id": "cXq8WjWRinor",
        "outputId": "1e18809b-cefb-45b1-e22e-97007948215b"
      },
      "source": [
        "print(reglaGeneral(1,0,2))\n",
        "print(reglaGeneral(1,c=2,b=0))\n",
        "print(reglaGeneral(1,0,c=2))\n",
        "print(reglaGeneral(b=0,a=1,c=2))\n",
        "#print(reglaGeneral(b=0,a=1,2)) #error"
      ],
      "execution_count": 23,
      "outputs": [
        {
          "output_type": "stream",
          "text": [
            "((8.659560562354934e-17+1.4142135623730951j),)\n",
            "((8.659560562354934e-17+1.4142135623730951j),)\n",
            "((8.659560562354934e-17+1.4142135623730951j),)\n",
            "((8.659560562354934e-17+1.4142135623730951j),)\n"
          ],
          "name": "stdout"
        }
      ]
    },
    {
      "cell_type": "code",
      "metadata": {
        "colab": {
          "base_uri": "https://localhost:8080/"
        },
        "id": "shNbo1A9itTs",
        "outputId": "8b6052a5-3b7c-4eb9-df4b-abfd2b3a2353"
      },
      "source": [
        "x1,x2,x3=1,0,2\n",
        "print(reglaGeneral(a=x1,b=x2,c=x3))"
      ],
      "execution_count": 25,
      "outputs": [
        {
          "output_type": "stream",
          "text": [
            "((8.659560562354934e-17+1.4142135623730951j),)\n"
          ],
          "name": "stdout"
        }
      ]
    },
    {
      "cell_type": "code",
      "metadata": {
        "colab": {
          "base_uri": "https://localhost:8080/"
        },
        "id": "BAfEpvfhhmY3",
        "outputId": "1fef6a69-6300-406b-9280-206dcc4637a1"
      },
      "source": [
        "args=(1,0,2)\n",
        "print(reglaGeneral(*args))"
      ],
      "execution_count": 4,
      "outputs": [
        {
          "output_type": "stream",
          "text": [
            "((8.659560562354934e-17+1.4142135623730951j),)\n"
          ],
          "name": "stdout"
        }
      ]
    },
    {
      "cell_type": "code",
      "metadata": {
        "colab": {
          "base_uri": "https://localhost:8080/"
        },
        "id": "389jsxtKqfS2",
        "outputId": "ecdcbd81-4288-4647-cfcc-e6e2c2d49490"
      },
      "source": [
        "arg={'b':0,'a':1,'c':2}\n",
        "print(reglaGeneral(**arg))"
      ],
      "execution_count": 21,
      "outputs": [
        {
          "output_type": "stream",
          "text": [
            "((8.659560562354934e-17+1.4142135623730951j),)\n"
          ],
          "name": "stdout"
        }
      ]
    },
    {
      "cell_type": "markdown",
      "metadata": {
        "id": "pSkEo8P8DZdJ"
      },
      "source": [
        "##Parámetros predefinidos"
      ]
    },
    {
      "cell_type": "code",
      "metadata": {
        "id": "JeshxMkjWTPV"
      },
      "source": [
        "def operacion(a,b,op='+'):\n",
        "  if op=='+':\n",
        "    return a+b\n",
        "  elif op=='-':\n",
        "    return a-b\n",
        "  elif op=='*':\n",
        "    return a*b\n",
        "  elif op=='/' and b!=0:\n",
        "    return a/b\n",
        "  elif op=='^':\n",
        "    return a**b\n",
        "  else:\n",
        "    return None"
      ],
      "execution_count": 2,
      "outputs": []
    },
    {
      "cell_type": "code",
      "metadata": {
        "colab": {
          "base_uri": "https://localhost:8080/"
        },
        "id": "PyKPofgFaHEk",
        "outputId": "d17d8568-9c58-4bc6-b988-e3d103bc1cb0"
      },
      "source": [
        "print(operacion(1,2))\n",
        "print(operacion(1,2,op='/'))"
      ],
      "execution_count": 5,
      "outputs": [
        {
          "output_type": "stream",
          "text": [
            "3\n",
            "0.5\n"
          ],
          "name": "stdout"
        }
      ]
    },
    {
      "cell_type": "markdown",
      "metadata": {
        "id": "BgAdC8oNDheS"
      },
      "source": [
        "##Parámetros multiples"
      ]
    },
    {
      "cell_type": "code",
      "metadata": {
        "id": "ZSqoxF2MaJM8"
      },
      "source": [
        "def operacion(*numeros,op='+'):\n",
        "  total=numeros[0]\n",
        "  for i in range(1,len(numeros)):\n",
        "    if op=='+':\n",
        "      total+=numeros[i]\n",
        "    elif op=='-':\n",
        "      total-=numeros[i]\n",
        "    elif op=='*':\n",
        "      total*=numeros[i]\n",
        "    elif op=='/' and numeros[i]!=0:\n",
        "      total/=numeros[i]\n",
        "    elif op=='^':\n",
        "      total**=numeros[i]\n",
        "    else:\n",
        "      return None\n",
        "\n",
        "  return total"
      ],
      "execution_count": 21,
      "outputs": []
    },
    {
      "cell_type": "code",
      "metadata": {
        "colab": {
          "base_uri": "https://localhost:8080/"
        },
        "id": "IjAaQfCpaQPM",
        "outputId": "c1eff28c-2a75-49ad-a747-80f7efded465"
      },
      "source": [
        "operacion(1,2,3,4,5,6,op='*')"
      ],
      "execution_count": 25,
      "outputs": [
        {
          "output_type": "execute_result",
          "data": {
            "text/plain": [
              "720"
            ]
          },
          "metadata": {
            "tags": []
          },
          "execution_count": 25
        }
      ]
    },
    {
      "cell_type": "code",
      "metadata": {
        "id": "Wu6NUg-ldTJX"
      },
      "source": [
        "def operacion(numeros,op='+'):\n",
        "  total=numeros[0]\n",
        "  for i in range(1,len(numeros)):\n",
        "    if op=='+':\n",
        "      total+=numeros[i]\n",
        "    elif op=='-':\n",
        "      total-=numeros[i]\n",
        "    elif op=='*':\n",
        "      total*=numeros[i]\n",
        "    elif op=='/' and numeros[i]!=0:\n",
        "      total/=numeros[i]\n",
        "    elif op=='^':\n",
        "      total**=numeros[i]\n",
        "    else:\n",
        "      return None\n",
        "\n",
        "  return total"
      ],
      "execution_count": 1,
      "outputs": []
    },
    {
      "cell_type": "code",
      "metadata": {
        "colab": {
          "base_uri": "https://localhost:8080/"
        },
        "id": "LdniHObvdYzO",
        "outputId": "9f56d3f5-f218-4325-e59c-aa0162a8cf9b"
      },
      "source": [
        "operacion([1,2,3,4,5,6],op='*')"
      ],
      "execution_count": 2,
      "outputs": [
        {
          "output_type": "execute_result",
          "data": {
            "text/plain": [
              "720"
            ]
          },
          "metadata": {
            "tags": []
          },
          "execution_count": 2
        }
      ]
    },
    {
      "cell_type": "markdown",
      "metadata": {
        "id": "G71_n66HDn3n"
      },
      "source": [
        "##Parámetros múltiples como diccionarios"
      ]
    },
    {
      "cell_type": "code",
      "metadata": {
        "id": "ZH0VJRz-l7Ui"
      },
      "source": [
        "def reglaGeneral(**kwargs):\n",
        "  '''\n",
        "  Obtiene las raices de una ecuacion segundo grado\n",
        "  con la regla general, la ecuacion debe tener la forma:\n",
        "  ax^2+bx+c=0\n",
        "  Parametros\n",
        "  ---------\n",
        "  a = coeficiente del termino de segundo grado\n",
        "  b = coeficiente del termino de primer grado\n",
        "  c = constante\n",
        "  Retorno\n",
        "  -------\n",
        "  x1, x2 : raices de la ecuacion\n",
        "  '''\n",
        "  a=kwargs['a']\n",
        "  b=kwargs['b']\n",
        "  c=kwargs['c']\n",
        "  if a==0 and b!=0:\n",
        "    return -c/b,None\n",
        "  else:\n",
        "    if b**2-4*a*c>0:\n",
        "      return (-b+pow(b**2-4*a*c,0.5))/(2*a),\n",
        "      (-b-pow(b**2-4*a*c,0.5))/(2*a)\n",
        "    else:\n",
        "      return (-b+pow(b**2-4*a*c+0j,0.5))/(2*a),\n",
        "      (-b-pow(b**2-4*a*c+0j,0.5))/(2*a)"
      ],
      "execution_count": 18,
      "outputs": []
    },
    {
      "cell_type": "code",
      "metadata": {
        "colab": {
          "base_uri": "https://localhost:8080/"
        },
        "id": "33k_4cafmnN1",
        "outputId": "117da528-18c1-46a2-8826-971b7c544a6a"
      },
      "source": [
        "arg={'b':0,'a':1,'c':2}\n",
        "print(reglaGeneral(**arg))"
      ],
      "execution_count": 19,
      "outputs": [
        {
          "output_type": "stream",
          "text": [
            "((8.659560562354934e-17+1.4142135623730951j),)\n"
          ],
          "name": "stdout"
        }
      ]
    },
    {
      "cell_type": "markdown",
      "metadata": {
        "id": "bOABm5fiDuaf"
      },
      "source": [
        "##Funciones recursivas"
      ]
    },
    {
      "cell_type": "code",
      "metadata": {
        "id": "3fgAtOk4Axq6"
      },
      "source": [
        "def factorial(n):\n",
        "  if n==0:\n",
        "    return 1\n",
        "  else:\n",
        "    return n*factorial(n-1)"
      ],
      "execution_count": 22,
      "outputs": []
    },
    {
      "cell_type": "code",
      "metadata": {
        "colab": {
          "base_uri": "https://localhost:8080/"
        },
        "id": "4-_eKog9BH_9",
        "outputId": "5f3224a5-18d0-454f-c791-1c9f24fc4360"
      },
      "source": [
        "factorial(5)"
      ],
      "execution_count": 23,
      "outputs": [
        {
          "output_type": "execute_result",
          "data": {
            "text/plain": [
              "120"
            ]
          },
          "metadata": {
            "tags": []
          },
          "execution_count": 23
        }
      ]
    },
    {
      "cell_type": "code",
      "metadata": {
        "id": "Fm624z2UWwMl"
      },
      "source": [
        "def factorial(n):\n",
        "  f=1\n",
        "  for i in range(1,n+1):\n",
        "    f*=i\n",
        "\n",
        "  return f"
      ],
      "execution_count": 50,
      "outputs": []
    },
    {
      "cell_type": "code",
      "metadata": {
        "colab": {
          "base_uri": "https://localhost:8080/"
        },
        "id": "H7-6tpB_W9EV",
        "outputId": "2b48382e-7457-427a-c473-be8af480bd3d"
      },
      "source": [
        "factorial(5)"
      ],
      "execution_count": 51,
      "outputs": [
        {
          "output_type": "execute_result",
          "data": {
            "text/plain": [
              "120"
            ]
          },
          "metadata": {
            "tags": []
          },
          "execution_count": 51
        }
      ]
    },
    {
      "cell_type": "code",
      "metadata": {
        "id": "A0lzPd9RDGJ8"
      },
      "source": [
        "def fibonacci(n):\n",
        "  if n==0 or n==1:\n",
        "    return 1\n",
        "  else:\n",
        "    return fibonacci(n-1)+fibonacci(n-2)"
      ],
      "execution_count": 26,
      "outputs": []
    },
    {
      "cell_type": "code",
      "metadata": {
        "colab": {
          "base_uri": "https://localhost:8080/"
        },
        "id": "re5lyVScDVOq",
        "outputId": "e8c0996c-29ba-4b36-c352-76d3aa3a6755"
      },
      "source": [
        "fibonacci(7)"
      ],
      "execution_count": 30,
      "outputs": [
        {
          "output_type": "execute_result",
          "data": {
            "text/plain": [
              "21"
            ]
          },
          "metadata": {
            "tags": []
          },
          "execution_count": 30
        }
      ]
    },
    {
      "cell_type": "code",
      "metadata": {
        "id": "BkZvoR5ODW1k"
      },
      "source": [
        "def combinaciones(n,m):\n",
        "  if m==0 or m==n:\n",
        "    return 1\n",
        "  else:\n",
        "    return combinaciones(n-1,m)+\\\n",
        "    combinaciones(n-1,m-1)"
      ],
      "execution_count": 32,
      "outputs": []
    },
    {
      "cell_type": "code",
      "metadata": {
        "colab": {
          "base_uri": "https://localhost:8080/"
        },
        "id": "4XQ-0eh3Fa0Q",
        "outputId": "986800b3-fe96-4545-d847-d8e19f84b113"
      },
      "source": [
        "combinaciones(5,2)"
      ],
      "execution_count": 33,
      "outputs": [
        {
          "output_type": "execute_result",
          "data": {
            "text/plain": [
              "10"
            ]
          },
          "metadata": {
            "tags": []
          },
          "execution_count": 33
        }
      ]
    },
    {
      "cell_type": "code",
      "metadata": {
        "id": "-ZHiLN-gHS2S"
      },
      "source": [
        "def hanoi(n,inic,temp,fin):\n",
        "  if n>0:\n",
        "    hanoi(n-1,inic,fin,temp)\n",
        "    print(f'tomar un disco del poste {inic} y pasarlo al poste {fin}')\n",
        "    hanoi(n-1,temp,inic,fin)"
      ],
      "execution_count": 44,
      "outputs": []
    },
    {
      "cell_type": "code",
      "metadata": {
        "colab": {
          "base_uri": "https://localhost:8080/"
        },
        "id": "FdlKgl-UIS6p",
        "outputId": "6df1b878-e488-4a3b-8bb6-7f11f27a58d7"
      },
      "source": [
        "hanoi(3,1,2,3)"
      ],
      "execution_count": 45,
      "outputs": [
        {
          "output_type": "stream",
          "text": [
            "tomar un disco del poste 1 y pasarlo al poste 3\n",
            "tomar un disco del poste 1 y pasarlo al poste 2\n",
            "tomar un disco del poste 3 y pasarlo al poste 2\n",
            "tomar un disco del poste 1 y pasarlo al poste 3\n",
            "tomar un disco del poste 2 y pasarlo al poste 1\n",
            "tomar un disco del poste 2 y pasarlo al poste 3\n",
            "tomar un disco del poste 1 y pasarlo al poste 3\n"
          ],
          "name": "stdout"
        }
      ]
    },
    {
      "cell_type": "markdown",
      "metadata": {
        "id": "xws9LKdSJci3"
      },
      "source": [
        "##Programacion dinamica"
      ]
    },
    {
      "cell_type": "code",
      "metadata": {
        "id": "Z0p278qSJfD3"
      },
      "source": [
        "def fibonacci2(n):\n",
        "  f1=0\n",
        "  f2=1\n",
        "  for i in range(n):\n",
        "    f3=f1+f2\n",
        "    f1=f2\n",
        "    f2=f3\n",
        "\n",
        "  return f3"
      ],
      "execution_count": 1,
      "outputs": []
    },
    {
      "cell_type": "code",
      "metadata": {
        "colab": {
          "base_uri": "https://localhost:8080/"
        },
        "id": "ZZSUEj7GJ5sV",
        "outputId": "6681ebdb-411b-48d9-ad52-35e8ecb3efe5"
      },
      "source": [
        "fibonacci2(7)"
      ],
      "execution_count": 3,
      "outputs": [
        {
          "output_type": "execute_result",
          "data": {
            "text/plain": [
              "21"
            ]
          },
          "metadata": {
            "tags": []
          },
          "execution_count": 3
        }
      ]
    },
    {
      "cell_type": "markdown",
      "metadata": {
        "id": "alsvWjyEDzo0"
      },
      "source": [
        "##Funciones *lambda*"
      ]
    },
    {
      "cell_type": "code",
      "metadata": {
        "id": "_CRdzNE_CPw4"
      },
      "source": [
        "c2f=lambda c:c*9/5+32"
      ],
      "execution_count": 1,
      "outputs": []
    },
    {
      "cell_type": "code",
      "metadata": {
        "colab": {
          "base_uri": "https://localhost:8080/"
        },
        "id": "anab6sxiCaY_",
        "outputId": "8d76ac6f-fef9-4571-e174-8c13dc8f279b"
      },
      "source": [
        "c2f(36)"
      ],
      "execution_count": 2,
      "outputs": [
        {
          "output_type": "execute_result",
          "data": {
            "text/plain": [
              "96.8"
            ]
          },
          "metadata": {
            "tags": []
          },
          "execution_count": 2
        }
      ]
    },
    {
      "cell_type": "code",
      "metadata": {
        "colab": {
          "base_uri": "https://localhost:8080/"
        },
        "id": "12insOkdCgh9",
        "outputId": "9d703b40-9ac2-43b7-eafc-66b1ad83116a"
      },
      "source": [
        "(lambda c:c*9/5+32)(36)"
      ],
      "execution_count": 3,
      "outputs": [
        {
          "output_type": "execute_result",
          "data": {
            "text/plain": [
              "96.8"
            ]
          },
          "metadata": {
            "tags": []
          },
          "execution_count": 3
        }
      ]
    },
    {
      "cell_type": "code",
      "metadata": {
        "colab": {
          "base_uri": "https://localhost:8080/"
        },
        "id": "tEk8VCifCmVz",
        "outputId": "5da8d8d6-0601-4837-810b-805d1e1aa6a1"
      },
      "source": [
        "lambda c:c*9/5+32"
      ],
      "execution_count": 4,
      "outputs": [
        {
          "output_type": "execute_result",
          "data": {
            "text/plain": [
              "<function __main__.<lambda>>"
            ]
          },
          "metadata": {
            "tags": []
          },
          "execution_count": 4
        }
      ]
    },
    {
      "cell_type": "code",
      "metadata": {
        "colab": {
          "base_uri": "https://localhost:8080/"
        },
        "id": "y_07y7ZyMDyp",
        "outputId": "72b0dc16-1a61-4b73-cbbd-4389c3b26742"
      },
      "source": [
        "_(36)"
      ],
      "execution_count": 5,
      "outputs": [
        {
          "output_type": "execute_result",
          "data": {
            "text/plain": [
              "96.8"
            ]
          },
          "metadata": {
            "tags": []
          },
          "execution_count": 5
        }
      ]
    },
    {
      "cell_type": "code",
      "metadata": {
        "id": "K-ahaMD_MG1p"
      },
      "source": [
        "import numpy as np\n",
        "\n",
        "def newton(f,df,x,imax=100,tol=1e-8):\n",
        "  '''\n",
        "  Metodo de Newton-Raphson\n",
        "  Encuentra la raiz de una ecuacion no lineal.\n",
        "  Parametros\n",
        "  ----------\n",
        "  f  : funcion a resolver\n",
        "  df : derivada de la funcion\n",
        "  x  : valor inicial\n",
        "  imax : numero maximo de iteraciones\n",
        "  tol : tolerancia de convergencia\n",
        "  Retorna\n",
        "  -------\n",
        "  x : raiz encontrada\n",
        "  iter : tabla de iteraciones\n",
        "  '''\n",
        "  sigue = True\n",
        "  itera=[]\n",
        "  k=0\n",
        "  while sigue and k<imax:\n",
        "    x = x - f(x)/df(x)\n",
        "    k+=1\n",
        "    sigue = np.abs(f(x))>tol\n",
        "    itera.append([x,f(x),df(x)])\n",
        "\n",
        "  return x,itera"
      ],
      "execution_count": 9,
      "outputs": []
    },
    {
      "cell_type": "code",
      "metadata": {
        "colab": {
          "base_uri": "https://localhost:8080/"
        },
        "id": "9dgL5D40O6SG",
        "outputId": "cd133b4c-e280-45a1-db11-ca6b47af49ff"
      },
      "source": [
        "newton(lambda x:x**2-2,lambda x:2*x,1)"
      ],
      "execution_count": 10,
      "outputs": [
        {
          "output_type": "execute_result",
          "data": {
            "text/plain": [
              "(1.4142135623746899,\n",
              " [[1.5, 0.25, 3.0],\n",
              "  [1.4166666666666667, 0.006944444444444642, 2.8333333333333335],\n",
              "  [1.4142156862745099, 6.007304882871267e-06, 2.8284313725490198],\n",
              "  [1.4142135623746899, 4.510614104447086e-12, 2.8284271247493797]])"
            ]
          },
          "metadata": {
            "tags": []
          },
          "execution_count": 10
        }
      ]
    },
    {
      "cell_type": "code",
      "metadata": {
        "colab": {
          "base_uri": "https://localhost:8080/"
        },
        "id": "2XaTEwL0PGP6",
        "outputId": "869d8061-5c14-4bb2-f316-7b439eac01f7"
      },
      "source": [
        "primos=[1,2,3,5,7,9,11,13,15]\n",
        "filtrados=filter(lambda x:x>10,primos)\n",
        "print(filtrados)\n",
        "print(list(filtrados))"
      ],
      "execution_count": 13,
      "outputs": [
        {
          "output_type": "stream",
          "text": [
            "<filter object at 0x7fda2cb1c850>\n",
            "[11, 13, 15]\n"
          ],
          "name": "stdout"
        }
      ]
    },
    {
      "cell_type": "code",
      "metadata": {
        "colab": {
          "base_uri": "https://localhost:8080/"
        },
        "id": "Df6wRJBrUCDy",
        "outputId": "f1f74150-0ae9-4b08-ef11-b1ede2089413"
      },
      "source": [
        "elementos=(\n",
        "    ('Hidrogeno',1.0079),\n",
        "    ('Helio',4.003),\n",
        "    ('Litio',6.941),\n",
        "    ('Berilio',9.012),\n",
        "    ('Boro',10.811)\n",
        "    )\n",
        "filtrados=filter(lambda e:e[1]>5,elementos)\n",
        "\n",
        "print(list(filtrados))"
      ],
      "execution_count": 14,
      "outputs": [
        {
          "output_type": "stream",
          "text": [
            "[('Litio', 6.941), ('Berilio', 9.012), ('Boro', 10.811)]\n"
          ],
          "name": "stdout"
        }
      ]
    },
    {
      "cell_type": "code",
      "metadata": {
        "colab": {
          "base_uri": "https://localhost:8080/"
        },
        "id": "5p9vYOSFW1Lr",
        "outputId": "68ad253d-b9c1-4ee1-9957-58f163903bbe"
      },
      "source": [
        "primos=(1,2,3,5,7,9,11)\n",
        "mapeados=map(lambda p:p**2,primos)\n",
        "\n",
        "print(tuple(mapeados))"
      ],
      "execution_count": 15,
      "outputs": [
        {
          "output_type": "stream",
          "text": [
            "(1, 4, 9, 25, 49, 81, 121)\n"
          ],
          "name": "stdout"
        }
      ]
    },
    {
      "cell_type": "code",
      "metadata": {
        "colab": {
          "base_uri": "https://localhost:8080/"
        },
        "id": "tvY1g_cxeTwk",
        "outputId": "0b7b8189-733c-48b8-fb45-084eabf3820f"
      },
      "source": [
        "bases=(1,2,3,4)\n",
        "potencias=(4,3,2,1)\n",
        "\n",
        "mapeados=map(lambda x,y:x**y,bases,potencias)\n",
        "\n",
        "print(tuple(mapeados))"
      ],
      "execution_count": 17,
      "outputs": [
        {
          "output_type": "stream",
          "text": [
            "(1, 8, 9, 4)\n"
          ],
          "name": "stdout"
        }
      ]
    },
    {
      "cell_type": "code",
      "metadata": {
        "colab": {
          "base_uri": "https://localhost:8080/"
        },
        "id": "yDWjeItHgedW",
        "outputId": "85283d25-8436-4044-9cf9-f8ce970d96e9"
      },
      "source": [
        "# (nombre,peso,electronegatividad)\n",
        "elementos=[\n",
        "    ('Hidrogeno',1.0079,2.20),\n",
        "    ('Helio',4.003,0),\n",
        "    ('Litio',6.941,0.98),\n",
        "    ('Berilio',9.012,1.57),\n",
        "    ('Boro',10.811,2.04)\n",
        "    ]\n",
        "\n",
        "elementos.sort()\n",
        "print(elementos)\n",
        "\n",
        "elementos.sort(key=lambda e:e[2])\n",
        "print(elementos)"
      ],
      "execution_count": 26,
      "outputs": [
        {
          "output_type": "stream",
          "text": [
            "[('Berilio', 9.012, 1.57), ('Boro', 10.811, 2.04), ('Helio', 4.003, 0), ('Hidrogeno', 1.0079, 2.2), ('Litio', 6.941, 0.98)]\n",
            "[('Helio', 4.003, 0), ('Litio', 6.941, 0.98), ('Berilio', 9.012, 1.57), ('Boro', 10.811, 2.04), ('Hidrogeno', 1.0079, 2.2)]\n"
          ],
          "name": "stdout"
        }
      ]
    },
    {
      "cell_type": "code",
      "metadata": {
        "colab": {
          "base_uri": "https://localhost:8080/"
        },
        "id": "Ad_aT6-UitfA",
        "outputId": "42cb3589-8cb4-4e6c-fcf5-71973a40ba46"
      },
      "source": [
        "import operator #contiene la funcion sorted\n",
        "\n",
        "# (nombre,peso,electronegatividad)\n",
        "elementos={\n",
        "    'Hidrogeno':(1.0079,2.20),\n",
        "    'Helio':(4.003,0),\n",
        "    'Litio':(6.941,0.98),\n",
        "    'Berilio':(9.012,1.57),\n",
        "    'Boro':(10.811,2.04)\n",
        "}\n",
        "\n",
        "#la funcion lambda se aplica a la tupla [1] de cada item  \n",
        "#y toma el segundo elemento de cada tupla [1]\n",
        "sorted(elementos.items(),key=lambda e:e[1][1],reverse=True)"
      ],
      "execution_count": 21,
      "outputs": [
        {
          "output_type": "execute_result",
          "data": {
            "text/plain": [
              "[('Hidrogeno', (1.0079, 2.2)),\n",
              " ('Boro', (10.811, 2.04)),\n",
              " ('Berilio', (9.012, 1.57)),\n",
              " ('Litio', (6.941, 0.98)),\n",
              " ('Helio', (4.003, 0))]"
            ]
          },
          "metadata": {
            "tags": []
          },
          "execution_count": 21
        }
      ]
    },
    {
      "cell_type": "markdown",
      "metadata": {
        "id": "ZP7N_RwNvDv0"
      },
      "source": [
        "##Funciones internas"
      ]
    },
    {
      "cell_type": "code",
      "metadata": {
        "colab": {
          "base_uri": "https://localhost:8080/"
        },
        "id": "aDDpJ3QDvFnQ",
        "outputId": "514055c0-49d3-4c5a-a016-bc0b743a76cc"
      },
      "source": [
        "#definicion de la funcion externa\n",
        "def fun_externa():\n",
        "  #definicion de la funcion interna, solo vive dentro de la funcion externa.\n",
        "  def fun_interna():\n",
        "    print('soy una funcion interna')\n",
        "  \n",
        "  print('soy una funcion externa')\n",
        "  fun_interna() #llamada a la funcion interna\n",
        "\n",
        "#llamada a la funcion externa\n",
        "fun_externa()\n",
        "#fun_interna() #error, no se puede llamar a la funcion interna"
      ],
      "execution_count": 23,
      "outputs": [
        {
          "output_type": "stream",
          "text": [
            "soy una funcion externa\n",
            "soy una funcion interna\n"
          ],
          "name": "stdout"
        }
      ]
    },
    {
      "cell_type": "markdown",
      "metadata": {
        "id": "m2p6O-CqbaKc"
      },
      "source": [
        "##Decoradores"
      ]
    },
    {
      "cell_type": "code",
      "metadata": {
        "colab": {
          "base_uri": "https://localhost:8080/"
        },
        "id": "1QhYC3lRbZNW",
        "outputId": "f269cdba-acaa-4523-9d4f-b684929f9f87"
      },
      "source": [
        "def mi_decorador(funcion):\n",
        "    def nueva_funcion(*args,**kwargs):\n",
        "        print(\"Entra el decorador\")\n",
        "        c = funcion(*args,**kwargs)\n",
        "        print(f'resultado {c} argumentos {args} argumentos {kwargs}')\n",
        "        print(\"Termina el decorador\")\n",
        "        return c\n",
        "    return nueva_funcion\n",
        "\n",
        "@mi_decorador\n",
        "def suma(a, b):\n",
        "    print(\"Entra en funcion suma\")\n",
        "    return a + b\n",
        "\n",
        "@mi_decorador\n",
        "def multiplica(a,b,c):\n",
        "  print('Entra en funcion multiplica')\n",
        "  return a*b*c\n",
        "\n",
        "s=suma(5,8)\n",
        "print(s)\n",
        "multiplica(2,3,4)"
      ],
      "execution_count": 27,
      "outputs": [
        {
          "output_type": "stream",
          "text": [
            "Entra el decorador\n",
            "Entra en funcion suma\n",
            "resultado 13 argumentos (5, 8) argumentos {}\n",
            "Termina el decorador\n",
            "13\n",
            "Entra el decorador\n",
            "Entra en funcion multiplica\n",
            "resultado 24 argumentos (2, 3, 4) argumentos {}\n",
            "Termina el decorador\n"
          ],
          "name": "stdout"
        },
        {
          "output_type": "execute_result",
          "data": {
            "text/plain": [
              "24"
            ]
          },
          "metadata": {
            "tags": []
          },
          "execution_count": 27
        }
      ]
    },
    {
      "cell_type": "code",
      "metadata": {
        "colab": {
          "base_uri": "https://localhost:8080/"
        },
        "id": "DpCCj39XdJLd",
        "outputId": "d93b34ba-0118-4cdf-a77b-b889201c80e9"
      },
      "source": [
        "def funcion():\n",
        "    print(\"soy una funcion\")\n",
        "    \n",
        "f1 = funcion() # soy una funcion. Llama a la función\n",
        "f2 = funcion   # Asigna a f2 la función\n",
        "\n",
        "print(f1)      # None. funcion no devuelve nada\n",
        "print(f2)      # <function funcion at 0x1077bf158>\n",
        "\n",
        "#f1()          # Error! No es válido\n",
        "f2()           # Llama a f2, que es funcion()\n",
        "\n",
        "del f2         # Borra el objeto que es la función \n",
        "#f2()          # Error! Ya no existe\n",
        "\n",
        "funcion()      # Ok. Sigue existiendo"
      ],
      "execution_count": 24,
      "outputs": [
        {
          "output_type": "stream",
          "text": [
            "soy una funcion\n",
            "None\n",
            "<function funcion at 0x7f1afb36b680>\n",
            "soy una funcion\n",
            "soy una funcion\n"
          ],
          "name": "stdout"
        }
      ]
    },
    {
      "cell_type": "code",
      "metadata": {
        "id": "D3iFcMT3d65C"
      },
      "source": [
        "def bitacora(archivo):\n",
        "    def decorador_bitacora(func):\n",
        "        def decorador_funcion(*args, **kwargs):\n",
        "            with open(archivo, 'a') as arch:\n",
        "                res = func(*args, **kwargs)\n",
        "                arch.write(f\"{res}\\n\")\n",
        "        return decorador_funcion\n",
        "    return decorador_bitacora\n",
        "\n",
        "@bitacora('salida.txt')\n",
        "def suma(a, b):\n",
        "    return a + b\n",
        "\n",
        "@bitacora('salida.txt')\n",
        "def multiplica(a,b,c):\n",
        "  print('Entra en funcion multiplica')\n",
        "  return a*b*c"
      ],
      "execution_count": 30,
      "outputs": []
    },
    {
      "cell_type": "code",
      "metadata": {
        "colab": {
          "base_uri": "https://localhost:8080/"
        },
        "id": "bk4czndMeFDz",
        "outputId": "9716bd59-a240-46f3-a427-01cc4b0ea703"
      },
      "source": [
        "suma(10, 30)\n",
        "multiplica(2,3,-15)"
      ],
      "execution_count": 31,
      "outputs": [
        {
          "output_type": "stream",
          "text": [
            "Entra en funcion multiplica\n"
          ],
          "name": "stdout"
        }
      ]
    },
    {
      "cell_type": "code",
      "metadata": {
        "id": "cLg7-dsDehyR"
      },
      "source": [
        "import time\n",
        "\n",
        "def tiempo_ejecucion(funcion):\n",
        "    def nueva_funcion(*args,**kwargs):\n",
        "        inicia = time.time()\n",
        "        c = funcion(*args,**kwargs)\n",
        "        termina = time.time()\n",
        "        print(f'tiempo de ejecucion {termina-inicia} s')\n",
        "        return c\n",
        "    return nueva_funcion\n",
        "\n",
        "@tiempo_ejecucion\n",
        "def suma(a, b):\n",
        "    print('Entra en funcion suma')\n",
        "    return a + b\n",
        "\n",
        "@tiempo_ejecucion\n",
        "def multiplica(a,b,c):\n",
        "  print('Entra en funcion multiplica')\n",
        "  return a*b*c"
      ],
      "execution_count": 19,
      "outputs": []
    },
    {
      "cell_type": "code",
      "metadata": {
        "colab": {
          "base_uri": "https://localhost:8080/"
        },
        "id": "da20Ej9VffQ7",
        "outputId": "1474f563-b6bc-4808-adbb-099f5fa74ef6"
      },
      "source": [
        "suma(3,10)\n",
        "multiplica(3.1415,2,10)"
      ],
      "execution_count": 20,
      "outputs": [
        {
          "output_type": "stream",
          "text": [
            "Entra en funcion suma\n",
            "tiempo de ejecucion 0.0009446144104003906 s\n",
            "Entra en funcion multiplica\n",
            "tiempo de ejecucion 0.0009024143218994141 s\n"
          ],
          "name": "stdout"
        },
        {
          "output_type": "execute_result",
          "data": {
            "text/plain": [
              "62.830000000000005"
            ]
          },
          "metadata": {
            "tags": []
          },
          "execution_count": 20
        }
      ]
    }
  ]
}