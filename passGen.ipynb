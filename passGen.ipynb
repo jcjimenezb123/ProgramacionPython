{
  "nbformat": 4,
  "nbformat_minor": 0,
  "metadata": {
    "colab": {
      "name": "passGen.ipynb",
      "provenance": [],
      "authorship_tag": "ABX9TyP5sBXYFPAEp3G9AfYfovvx",
      "include_colab_link": true
    },
    "kernelspec": {
      "name": "python3",
      "display_name": "Python 3"
    },
    "language_info": {
      "name": "python"
    }
  },
  "cells": [
    {
      "cell_type": "markdown",
      "metadata": {
        "id": "view-in-github",
        "colab_type": "text"
      },
      "source": [
        "<a href=\"https://colab.research.google.com/github/jcjimenezb123/ProgramacionPython/blob/master/passGen.ipynb\" target=\"_parent\"><img src=\"https://colab.research.google.com/assets/colab-badge.svg\" alt=\"Open In Colab\"/></a>"
      ]
    },
    {
      "cell_type": "code",
      "metadata": {
        "colab": {
          "base_uri": "https://localhost:8080/"
        },
        "id": "ZsljhUl8pcb1",
        "outputId": "9e6d84f3-efdc-465f-f6e2-8bc22356e3c5"
      },
      "source": [
        "import random\n",
        "\n",
        "minusculas='abcdefghijklmnopqrstuvwxy'\n",
        "mayusculas=minusculas.upper()\n",
        "numeros='0123456789'\n",
        "simbolos='{}[]()!@#$%^&*+=|?.,'\n",
        "\n",
        "todos=minusculas+mayusculas+numeros+simbolos\n",
        "longitud=8\n",
        "\n",
        "password=''.join(random.sample(todos,longitud))\n",
        "\n",
        "print(password)\n"
      ],
      "execution_count": 38,
      "outputs": [
        {
          "output_type": "stream",
          "name": "stdout",
          "text": [
            "DXgA4@ab\n"
          ]
        }
      ]
    },
    {
      "cell_type": "code",
      "metadata": {
        "id": "BZGj6ARTqUwQ"
      },
      "source": [
        ""
      ],
      "execution_count": null,
      "outputs": []
    }
  ]
}