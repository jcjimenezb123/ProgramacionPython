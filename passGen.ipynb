{
  "nbformat": 4,
  "nbformat_minor": 0,
  "metadata": {
    "colab": {
      "name": "passGen.ipynb",
      "provenance": [],
      "authorship_tag": "ABX9TyMpV6YoNS5iTUyyNBTh5Lh5",
      "include_colab_link": true
    },
    "kernelspec": {
      "name": "python3",
      "display_name": "Python 3"
    },
    "language_info": {
      "name": "python"
    }
  },
  "cells": [
    {
      "cell_type": "markdown",
      "metadata": {
        "id": "view-in-github",
        "colab_type": "text"
      },
      "source": [
        "<a href=\"https://colab.research.google.com/github/jcjimenezb123/ProgramacionPython/blob/master/passGen.ipynb\" target=\"_parent\"><img src=\"https://colab.research.google.com/assets/colab-badge.svg\" alt=\"Open In Colab\"/></a>"
      ]
    },
    {
      "cell_type": "code",
      "metadata": {
        "colab": {
          "base_uri": "https://localhost:8080/"
        },
        "id": "ZsljhUl8pcb1",
        "outputId": "3472e44d-77b9-4433-9d0b-89edee077731"
      },
      "source": [
        "import random\n",
        "\n",
        "minusculas='abcdefghijklmnopqrstuvwxy'\n",
        "mayusculas=minusculas.upper()\n",
        "numeros='0123456789'\n",
        "simbolos='{}[]()!@#$%^&*+=|?.,_-'\n",
        "\n",
        "todos=minusculas+mayusculas+numeros+simbolos\n",
        "longitud=8\n",
        "\n",
        "password=''.join(random.sample(todos,longitud))\n",
        "\n",
        "print(password)\n"
      ],
      "execution_count": 59,
      "outputs": [
        {
          "output_type": "stream",
          "name": "stdout",
          "text": [
            "6{CHY_x,\n"
          ]
        }
      ]
    },
    {
      "cell_type": "code",
      "metadata": {
        "id": "BZGj6ARTqUwQ"
      },
      "source": [
        ""
      ],
      "execution_count": null,
      "outputs": []
    }
  ]
}