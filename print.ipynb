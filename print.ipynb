{
  "nbformat": 4,
  "nbformat_minor": 0,
  "metadata": {
    "colab": {
      "name": "print.ipynb",
      "provenance": [],
      "authorship_tag": "ABX9TyOiEr1DxiBqO2E+fH+FIFW7",
      "include_colab_link": true
    },
    "kernelspec": {
      "name": "python3",
      "display_name": "Python 3"
    },
    "language_info": {
      "name": "python"
    }
  },
  "cells": [
    {
      "cell_type": "markdown",
      "metadata": {
        "id": "view-in-github",
        "colab_type": "text"
      },
      "source": [
        "<a href=\"https://colab.research.google.com/github/jcjimenezb123/ProgramacionPython/blob/master/print.ipynb\" target=\"_parent\"><img src=\"https://colab.research.google.com/assets/colab-badge.svg\" alt=\"Open In Colab\"/></a>"
      ]
    },
    {
      "cell_type": "code",
      "metadata": {
        "colab": {
          "base_uri": "https://localhost:8080/"
        },
        "id": "8vIjTJcEKNvy",
        "outputId": "74f67a6a-c3ea-41ed-86bf-9ec05ed4d76a"
      },
      "source": [
        "type(print)"
      ],
      "execution_count": 1,
      "outputs": [
        {
          "output_type": "execute_result",
          "data": {
            "text/plain": [
              "builtin_function_or_method"
            ]
          },
          "metadata": {
            "tags": []
          },
          "execution_count": 1
        }
      ]
    },
    {
      "cell_type": "code",
      "metadata": {
        "colab": {
          "base_uri": "https://localhost:8080/"
        },
        "id": "PPkcduIOKnsV",
        "outputId": "5fa1edc4-243e-41a9-a191-74d91002b79a"
      },
      "source": [
        "print('Newton','Euler','Taylor')\n",
        "print('Newton','Euler','Taylor',sep='/')\n",
        "print('Newton','Euler','Taylor',end='!')\n",
        "\n",
        "archivo=open('nombres.txt','a+')\n",
        "print('Newton','Euler','Taylor',file=archivo)\n",
        "archivo.close()"
      ],
      "execution_count": 6,
      "outputs": [
        {
          "output_type": "stream",
          "text": [
            "Newton Euler Taylor\n",
            "Newton/Euler/Taylor\n",
            "Newton Euler Taylor!"
          ],
          "name": "stdout"
        }
      ]
    },
    {
      "cell_type": "code",
      "metadata": {
        "colab": {
          "base_uri": "https://localhost:8080/"
        },
        "id": "Xb8HhD3YUoXz",
        "outputId": "4d04b925-3d45-4141-84d1-2042440f5f19"
      },
      "source": [
        "a=5\n",
        "b=10\n",
        "print('El valor de a=',a,'El valor de b=',b)"
      ],
      "execution_count": 7,
      "outputs": [
        {
          "output_type": "stream",
          "text": [
            "El valor de a= 5 El valor de b= 10\n"
          ],
          "name": "stdout"
        }
      ]
    },
    {
      "cell_type": "code",
      "metadata": {
        "colab": {
          "base_uri": "https://localhost:8080/"
        },
        "id": "eqd3rN9NV_gO",
        "outputId": "a4e711e4-7d46-4d7a-e122-d65afa4d2b79"
      },
      "source": [
        "print('El valor de a={} El valor de b={}'.format(a,b))"
      ],
      "execution_count": 8,
      "outputs": [
        {
          "output_type": "stream",
          "text": [
            "El valor de a=5 El valor de b=10\n"
          ],
          "name": "stdout"
        }
      ]
    },
    {
      "cell_type": "code",
      "metadata": {
        "colab": {
          "base_uri": "https://localhost:8080/"
        },
        "id": "SoBqCguPWHPu",
        "outputId": "c17dd107-77e6-4559-ddcd-7116f9400e07"
      },
      "source": [
        "print('El valor de a={0} El valor de b={1}, su producto a*b={2}'.format(a,b,a*b))"
      ],
      "execution_count": 9,
      "outputs": [
        {
          "output_type": "stream",
          "text": [
            "El valor de a=5 El valor de b=10, su producto a*b=50\n"
          ],
          "name": "stdout"
        }
      ]
    },
    {
      "cell_type": "code",
      "metadata": {
        "colab": {
          "base_uri": "https://localhost:8080/"
        },
        "id": "NsANz33SXkS9",
        "outputId": "4965f791-fb19-4633-d1c1-f91d1a5525ae"
      },
      "source": [
        "print('El valor de a={0} El valor de b={1}, su producto a*b={p}'.format(a,b,p=a*b))"
      ],
      "execution_count": 10,
      "outputs": [
        {
          "output_type": "stream",
          "text": [
            "El valor de a=5 El valor de b=10, su producto a*b=50\n"
          ],
          "name": "stdout"
        }
      ]
    },
    {
      "cell_type": "code",
      "metadata": {
        "colab": {
          "base_uri": "https://localhost:8080/"
        },
        "id": "-OQo4_deYiCW",
        "outputId": "dec8914a-4d7b-4d00-ecf4-b7b5694213b8"
      },
      "source": [
        "lista=[a,b,a*b]\n",
        "print('El valor de a={0[0]} El valor de b={0[1]}, su producto a*b={0[2]}'.format(lista))"
      ],
      "execution_count": 13,
      "outputs": [
        {
          "output_type": "stream",
          "text": [
            "El valor de a=5 El valor de b=10, su producto a*b=50\n"
          ],
          "name": "stdout"
        }
      ]
    },
    {
      "cell_type": "code",
      "metadata": {
        "colab": {
          "base_uri": "https://localhost:8080/"
        },
        "id": "weWMAU-0ZvXn",
        "outputId": "58a7fbef-9f0c-4c8e-ed06-1c22567cc0a2"
      },
      "source": [
        "lista=[a,b,a*b]\n",
        "print('El valor de a={x[0]} El valor de b={x[1]}, su producto a*b={x[2]}'.format(x=lista))"
      ],
      "execution_count": 14,
      "outputs": [
        {
          "output_type": "stream",
          "text": [
            "El valor de a=5 El valor de b=10, su producto a*b=50\n"
          ],
          "name": "stdout"
        }
      ]
    },
    {
      "cell_type": "code",
      "metadata": {
        "colab": {
          "base_uri": "https://localhost:8080/"
        },
        "id": "H5t0PIpqakA3",
        "outputId": "6981552b-4c2a-48d2-cdc2-106ec7da46be"
      },
      "source": [
        "diccionario={'Agua':'H2O','AcidoSulfurico':'H2SO4'}\n",
        "print('La formula del Acido Sulfurico es {d[AcidoSulfurico]}'.format(d=diccionario))"
      ],
      "execution_count": 15,
      "outputs": [
        {
          "output_type": "stream",
          "text": [
            "La formula del Acido Sulfurico es H2SO4\n"
          ],
          "name": "stdout"
        }
      ]
    },
    {
      "cell_type": "code",
      "metadata": {
        "colab": {
          "base_uri": "https://localhost:8080/"
        },
        "id": "50fYYkTikRYL",
        "outputId": "85e1d1a8-9d4c-410f-e3a1-d2561025d5a8"
      },
      "source": [
        "a=64\n",
        "print('{:d}'.format(a)) # decimal\n",
        "print('{:b}'.format(a)) # binario\n",
        "print('{:o}'.format(a)) # octal\n",
        "print('{:x}'.format(a)) # hexadecimal\n",
        "print('{:f}'.format(a)) # flotante\n",
        "print('{:e}'.format(a)) # ingenieria\n",
        "print('{:g}'.format(a)) # general\n",
        "print('{:%}'.format(a)) # porcentaje\n",
        "print('{:c}'.format(a)) # codigo ascii"
      ],
      "execution_count": 17,
      "outputs": [
        {
          "output_type": "stream",
          "text": [
            "64\n",
            "1000000\n",
            "100\n",
            "40\n",
            "64.000000\n",
            "6.400000e+01\n",
            "64\n",
            "6400.000000%\n",
            "@\n"
          ],
          "name": "stdout"
        }
      ]
    },
    {
      "cell_type": "code",
      "metadata": {
        "colab": {
          "base_uri": "https://localhost:8080/"
        },
        "id": "1Xa2kcNJn1Qf",
        "outputId": "ab136a7e-dfc8-49e0-b710-71125f03f2ea"
      },
      "source": [
        "a=1100\n",
        "b=3.14159\n",
        "print('a={0:10}, b={1:10.2}'.format(a,b))"
      ],
      "execution_count": 20,
      "outputs": [
        {
          "output_type": "stream",
          "text": [
            "a=      1100, b=       3.1\n"
          ],
          "name": "stdout"
        }
      ]
    },
    {
      "cell_type": "code",
      "metadata": {
        "colab": {
          "base_uri": "https://localhost:8080/"
        },
        "id": "3ECFf3oHpNwx",
        "outputId": "a8c243a5-9e2a-4f0e-c972-a2010cdfd091"
      },
      "source": [
        "b=3.14159\n",
        "print('{0:>15}'.format(b))\n",
        "print('{0:<15}'.format(b))\n",
        "print('{0:^15}'.format(b))"
      ],
      "execution_count": 25,
      "outputs": [
        {
          "output_type": "stream",
          "text": [
            "        3.14159\n",
            "3.14159        \n",
            "    3.14159    \n"
          ],
          "name": "stdout"
        }
      ]
    },
    {
      "cell_type": "code",
      "metadata": {
        "colab": {
          "base_uri": "https://localhost:8080/"
        },
        "id": "x36zMU9Mqv0n",
        "outputId": "1dea1036-7055-4df5-a470-4b4d8ffa875c"
      },
      "source": [
        "b=3.14159\n",
        "print('{0:.>15}'.format(b))\n",
        "print('{0:*<15}'.format(b))\n",
        "print('{0:@^15}'.format(b))"
      ],
      "execution_count": 26,
      "outputs": [
        {
          "output_type": "stream",
          "text": [
            "........3.14159\n",
            "3.14159********\n",
            "@@@@3.14159@@@@\n"
          ],
          "name": "stdout"
        }
      ]
    },
    {
      "cell_type": "code",
      "metadata": {
        "colab": {
          "base_uri": "https://localhost:8080/"
        },
        "id": "FJPCuOd6r82O",
        "outputId": "91eecaeb-72a2-4fe5-82b7-5318a5e544d5"
      },
      "source": [
        "print('{0:,d}'.format(1234567))\n",
        "print('{0:,.2f}'.format(1234567.895))"
      ],
      "execution_count": 30,
      "outputs": [
        {
          "output_type": "stream",
          "text": [
            "1,234,567\n",
            "1,234,567.90\n"
          ],
          "name": "stdout"
        }
      ]
    },
    {
      "cell_type": "code",
      "metadata": {
        "colab": {
          "base_uri": "https://localhost:8080/"
        },
        "id": "1mH69fT7tZST",
        "outputId": "9712ae69-66e8-4254-d8d0-ac606a626ea8"
      },
      "source": [
        "x=1234567.895\n",
        "print(f'El valor formateado de x es {x:,.2f}')"
      ],
      "execution_count": 41,
      "outputs": [
        {
          "output_type": "stream",
          "text": [
            "El valor formateado de x es 1,234,567.90\n"
          ],
          "name": "stdout"
        }
      ]
    }
  ]
}