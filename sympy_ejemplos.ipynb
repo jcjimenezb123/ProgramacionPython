{
  "nbformat": 4,
  "nbformat_minor": 0,
  "metadata": {
    "colab": {
      "name": "sympy_ejemplos.ipynb",
      "provenance": [],
      "collapsed_sections": [],
      "include_colab_link": true
    },
    "kernelspec": {
      "name": "python3",
      "display_name": "Python 3"
    }
  },
  "cells": [
    {
      "cell_type": "markdown",
      "metadata": {
        "id": "view-in-github",
        "colab_type": "text"
      },
      "source": [
        "<a href=\"https://colab.research.google.com/github/jcjimenezb123/ProgramacionPython/blob/master/sympy_ejemplos.ipynb\" target=\"_parent\"><img src=\"https://colab.research.google.com/assets/colab-badge.svg\" alt=\"Open In Colab\"/></a>"
      ]
    },
    {
      "cell_type": "markdown",
      "metadata": {
        "id": "xtApO55DYN8L"
      },
      "source": [
        "#sympy"
      ]
    },
    {
      "cell_type": "code",
      "metadata": {
        "id": "KRUCaxlxG3C8"
      },
      "source": [
        "from sympy.interactive import printing\n",
        "printing.init_printing(use_latex=True)"
      ],
      "execution_count": 1,
      "outputs": []
    },
    {
      "cell_type": "code",
      "metadata": {
        "id": "mV8NMbVkHPfd"
      },
      "source": [
        "import numpy as np\n",
        "import sympy as sp"
      ],
      "execution_count": 2,
      "outputs": []
    },
    {
      "cell_type": "markdown",
      "metadata": {
        "id": "Dnc-2bLzYUjx"
      },
      "source": [
        "##Crear variables y funciones simbolicas"
      ]
    },
    {
      "cell_type": "code",
      "metadata": {
        "id": "s-NTwEL_GdAU"
      },
      "source": [
        "x=sp.Symbol('x')\n",
        "y,z=sp.symbols('y,z')"
      ],
      "execution_count": 3,
      "outputs": []
    },
    {
      "cell_type": "code",
      "metadata": {
        "colab": {
          "base_uri": "https://localhost:8080/",
          "height": 39
        },
        "id": "muRBuJUvGkNw",
        "outputId": "da720c74-a40e-4e18-e39c-53bde19d53ed"
      },
      "source": [
        "f=x**2-10*x+1\n",
        "f"
      ],
      "execution_count": 4,
      "outputs": [
        {
          "output_type": "execute_result",
          "data": {
            "image/png": "[encoded data removed]",
            "text/latex": "$\\displaystyle x^{2} - 10 x + 1$",
            "text/plain": [
              " 2           \n",
              "x  - 10⋅x + 1"
            ]
          },
          "metadata": {},
          "execution_count": 4
        }
      ]
    },
    {
      "cell_type": "markdown",
      "metadata": {
        "id": "bTbwi9zSYjL2"
      },
      "source": [
        "##substitucion numerica y simbolica"
      ]
    },
    {
      "cell_type": "code",
      "metadata": {
        "colab": {
          "base_uri": "https://localhost:8080/"
        },
        "id": "NuWIMnQHIAWB",
        "outputId": "77a4e71a-c9b9-4b06-d60b-9a02aa049242"
      },
      "source": [
        "print(f.subs(x,2))"
      ],
      "execution_count": 5,
      "outputs": [
        {
          "output_type": "stream",
          "name": "stdout",
          "text": [
            "-15\n"
          ]
        }
      ]
    },
    {
      "cell_type": "code",
      "metadata": {
        "colab": {
          "base_uri": "https://localhost:8080/",
          "height": 39
        },
        "id": "o9re-eeBIbtX",
        "outputId": "956e5ac0-07eb-41e8-990f-127a5b104b5a"
      },
      "source": [
        "display(f.subs(x,y))"
      ],
      "execution_count": 6,
      "outputs": [
        {
          "output_type": "display_data",
          "data": {
            "image/png": "[encoded data removed]",
            "text/latex": "$\\displaystyle y^{2} - 10 y + 1$",
            "text/plain": [
              " 2           \n",
              "y  - 10⋅y + 1"
            ]
          },
          "metadata": {}
        }
      ]
    },
    {
      "cell_type": "code",
      "metadata": {
        "colab": {
          "base_uri": "https://localhost:8080/",
          "height": 39
        },
        "id": "2pClzn1LIwOK",
        "outputId": "1a4f0759-72a7-43fa-db80-a429ff4084bf"
      },
      "source": [
        "display(f.subs(x,y**2))"
      ],
      "execution_count": null,
      "outputs": [
        {
          "output_type": "display_data",
          "data": {
            "image/png": "[encoded data removed]",
            "text/latex": "$\\displaystyle y^{4} - 10 y^{2} + 1$",
            "text/plain": [
              " 4       2    \n",
              "y  - 10⋅y  + 1"
            ]
          },
          "metadata": {
            "tags": []
          }
        }
      ]
    },
    {
      "cell_type": "markdown",
      "metadata": {
        "id": "g6Nx4gLnY1eo"
      },
      "source": [
        "##simplificar"
      ]
    },
    {
      "cell_type": "code",
      "metadata": {
        "colab": {
          "base_uri": "https://localhost:8080/",
          "height": 89
        },
        "id": "_Td0d--JI-Qn",
        "outputId": "3501ede1-b115-4cb1-b51a-daa0205b17ca"
      },
      "source": [
        "f=(x**2-x-6)/(x**2-3*x)\n",
        "display(f)\n",
        "f.simplify()"
      ],
      "execution_count": 7,
      "outputs": [
        {
          "output_type": "display_data",
          "data": {
            "image/png": "[encoded data removed]",
            "text/latex": "$\\displaystyle \\frac{x^{2} - x - 6}{x^{2} - 3 x}$",
            "text/plain": [
              " 2        \n",
              "x  - x - 6\n",
              "──────────\n",
              "  2       \n",
              " x  - 3⋅x "
            ]
          },
          "metadata": {}
        },
        {
          "output_type": "execute_result",
          "data": {
            "image/png": "[encoded data removed]",
            "text/latex": "$\\displaystyle \\frac{x + 2}{x}$",
            "text/plain": [
              "x + 2\n",
              "─────\n",
              "  x  "
            ]
          },
          "metadata": {},
          "execution_count": 7
        }
      ]
    },
    {
      "cell_type": "code",
      "metadata": {
        "colab": {
          "base_uri": "https://localhost:8080/",
          "height": 37
        },
        "id": "MbkowKo0Y9BF",
        "outputId": "5387b66d-a7cd-4a27-d79e-2564286417cc"
      },
      "source": [
        "sp.simplify(sp.sin(x)**2+sp.cos(x)**2)"
      ],
      "execution_count": 8,
      "outputs": [
        {
          "output_type": "execute_result",
          "data": {
            "image/png": "[encoded data removed]",
            "text/latex": "$\\displaystyle 1$",
            "text/plain": [
              "1"
            ]
          },
          "metadata": {},
          "execution_count": 8
        }
      ]
    },
    {
      "cell_type": "markdown",
      "metadata": {
        "id": "iwKPj7PCZkJi"
      },
      "source": [
        "Simplificar la siguiente expresion\n",
        "\n",
        "$$\n",
        "f(x)=\\frac{x^{3} + x^{2} - x - 1}{x^{2} + 2 x + 1}=\\frac{(x-1)(x+1)^2}{(x+1)^2}=x-1\n",
        "$$"
      ]
    },
    {
      "cell_type": "code",
      "metadata": {
        "colab": {
          "base_uri": "https://localhost:8080/",
          "height": 39
        },
        "id": "P7_pBEG1ZU__",
        "outputId": "f343a10b-547d-4c4b-dcde-5b2483029eef"
      },
      "source": [
        "f=(x**3+x**2-x-1)/(x**2+2*x+1)\n",
        "f.simplify()"
      ],
      "execution_count": 9,
      "outputs": [
        {
          "output_type": "execute_result",
          "data": {
            "image/png": "[encoded data removed]",
            "text/latex": "$\\displaystyle x - 1$",
            "text/plain": [
              "x - 1"
            ]
          },
          "metadata": {},
          "execution_count": 9
        }
      ]
    },
    {
      "cell_type": "markdown",
      "metadata": {
        "id": "PdMvp2HsazVs"
      },
      "source": [
        "##Expander"
      ]
    },
    {
      "cell_type": "code",
      "metadata": {
        "colab": {
          "base_uri": "https://localhost:8080/",
          "height": 39
        },
        "id": "fE7R9RjBJYQt",
        "outputId": "58ac86df-0c52-45df-8da1-4bcbc5cd0bda"
      },
      "source": [
        "f=(x-1)**3+(x+2)**2\n",
        "f.expand()\n"
      ],
      "execution_count": 10,
      "outputs": [
        {
          "output_type": "execute_result",
          "data": {
            "image/png": "[encoded data removed]",
            "text/latex": "$\\displaystyle x^{3} - 2 x^{2} + 7 x + 3$",
            "text/plain": [
              " 3      2          \n",
              "x  - 2⋅x  + 7⋅x + 3"
            ]
          },
          "metadata": {},
          "execution_count": 10
        }
      ]
    },
    {
      "cell_type": "markdown",
      "metadata": {
        "id": "3vRhOW7La_ku"
      },
      "source": [
        "##Factorizar"
      ]
    },
    {
      "cell_type": "code",
      "metadata": {
        "colab": {
          "base_uri": "https://localhost:8080/",
          "height": 39
        },
        "id": "IBejKAm_Jsn8",
        "outputId": "5ec7e592-d4a5-40ae-e971-5dd5682facbe"
      },
      "source": [
        "f=3*x**4-36*x**3+99*x**2-6*x-144\n",
        "f.factor()"
      ],
      "execution_count": 11,
      "outputs": [
        {
          "output_type": "execute_result",
          "data": {
            "image/png": "[encoded data removed]",
            "text/latex": "$\\displaystyle 3 \\left(x - 8\\right) \\left(x - 3\\right) \\left(x - 2\\right) \\left(x + 1\\right)$",
            "text/plain": [
              "3⋅(x - 8)⋅(x - 3)⋅(x - 2)⋅(x + 1)"
            ]
          },
          "metadata": {},
          "execution_count": 11
        }
      ]
    },
    {
      "cell_type": "markdown",
      "metadata": {
        "id": "WrZIw48TbUtt"
      },
      "source": [
        "##Collect"
      ]
    },
    {
      "cell_type": "markdown",
      "metadata": {
        "id": "VNdcW3Kmb8V2"
      },
      "source": [
        "factorizar $x$ \n",
        "$$f(x)=xy+x-3+2x^2-zx^2+x^2$$"
      ]
    },
    {
      "cell_type": "code",
      "metadata": {
        "colab": {
          "base_uri": "https://localhost:8080/",
          "height": 39
        },
        "id": "yYmEZpxJbXXb",
        "outputId": "578ce5b4-f68a-476c-91f4-33eb16fd9b9c"
      },
      "source": [
        "f=x*y+x-3+2*x**2-z*x**2+x**2\n",
        "f.collect(x)"
      ],
      "execution_count": 12,
      "outputs": [
        {
          "output_type": "execute_result",
          "data": {
            "image/png": "[encoded data removed]",
            "text/latex": "$\\displaystyle x^{2} \\left(3 - z\\right) + x \\left(y + 1\\right) - 3$",
            "text/plain": [
              " 2                        \n",
              "x ⋅(3 - z) + x⋅(y + 1) - 3"
            ]
          },
          "metadata": {},
          "execution_count": 12
        }
      ]
    },
    {
      "cell_type": "markdown",
      "metadata": {
        "id": "Z1WCGV5AdG14"
      },
      "source": [
        "##Cancel"
      ]
    },
    {
      "cell_type": "markdown",
      "metadata": {
        "id": "9AozmIE1dKd7"
      },
      "source": [
        "simplificar la siguiente funcion\n",
        "$$f(x)=\\frac{x^2+2x+1}{x^2+x}$$"
      ]
    },
    {
      "cell_type": "code",
      "metadata": {
        "colab": {
          "base_uri": "https://localhost:8080/",
          "height": 51
        },
        "id": "RVlnqvdedfsZ",
        "outputId": "4c378f81-326b-46ed-c565-bc108e7711b1"
      },
      "source": [
        "f=(x**2+2*x+1)/(x**2+x)\n",
        "f.cancel()"
      ],
      "execution_count": 13,
      "outputs": [
        {
          "output_type": "execute_result",
          "data": {
            "image/png": "[encoded data removed]",
            "text/latex": "$\\displaystyle \\frac{x + 1}{x}$",
            "text/plain": [
              "x + 1\n",
              "─────\n",
              "  x  "
            ]
          },
          "metadata": {},
          "execution_count": 13
        }
      ]
    },
    {
      "cell_type": "markdown",
      "metadata": {
        "id": "ccs6oLAcfAvo"
      },
      "source": [
        "##fracciones parciales"
      ]
    },
    {
      "cell_type": "markdown",
      "metadata": {
        "id": "001AQtL1fEeU"
      },
      "source": [
        "descomponer en fracciones parciales\n",
        "$$f(x)=\\frac{4x^3+21x^2+10x+12}{x^4+5x^3+5x^2+4x}=\\sum_k\\frac{f_k(x)}{g_k(x)}$$"
      ]
    },
    {
      "cell_type": "code",
      "metadata": {
        "colab": {
          "base_uri": "https://localhost:8080/",
          "height": 53
        },
        "id": "UBlvscngfWEn",
        "outputId": "881b8f5a-86f1-4094-84f0-0c7cf3807f58"
      },
      "source": [
        "f=(4*x**3+21*x**2+10*x+12)/(x**4+5*x**3+5*x**2+4*x)\n",
        "f.apart()"
      ],
      "execution_count": 14,
      "outputs": [
        {
          "output_type": "execute_result",
          "data": {
            "image/png": "[encoded data removed]",
            "text/latex": "$\\displaystyle \\frac{2 x - 1}{x^{2} + x + 1} - \\frac{1}{x + 4} + \\frac{3}{x}$",
            "text/plain": [
              " 2⋅x - 1       1     3\n",
              "────────── - ───── + ─\n",
              " 2           x + 4   x\n",
              "x  + x + 1            "
            ]
          },
          "metadata": {},
          "execution_count": 14
        }
      ]
    },
    {
      "cell_type": "markdown",
      "metadata": {
        "id": "XLvvDwifg_4L"
      },
      "source": [
        "##simplificaciones trigonometricas"
      ]
    },
    {
      "cell_type": "markdown",
      "metadata": {
        "id": "1AK_nzDPhiKt"
      },
      "source": [
        "simplificar la siguiente funcion trigonometrica\n",
        "$$f(x)=sin(x)^4-2cos(x)^2sin(x)^2+cos(x)^4$$"
      ]
    },
    {
      "cell_type": "code",
      "metadata": {
        "colab": {
          "base_uri": "https://localhost:8080/",
          "height": 53
        },
        "id": "3mSsctguhEAm",
        "outputId": "4de033a0-5574-4c7b-f98c-637c6e611889"
      },
      "source": [
        "f=sp.sin(x)**4-2*sp.cos(x)**2*sp.sin(x)**2+sp.cos(x)**4\n",
        "f.trigsimp()"
      ],
      "execution_count": 15,
      "outputs": [
        {
          "output_type": "execute_result",
          "data": {
            "image/png": "[encoded data removed]",
            "text/latex": "$\\displaystyle \\frac{\\cos{\\left(4 x \\right)}}{2} + \\frac{1}{2}$",
            "text/plain": [
              "cos(4⋅x)   1\n",
              "──────── + ─\n",
              "   2       2"
            ]
          },
          "metadata": {},
          "execution_count": 15
        }
      ]
    },
    {
      "cell_type": "code",
      "metadata": {
        "colab": {
          "base_uri": "https://localhost:8080/",
          "height": 39
        },
        "id": "Qz6_Zjugx0er",
        "outputId": "9443a82d-f779-46ee-aa4b-cd42a5f411f6"
      },
      "source": [
        "f=sp.sin(x)*sp.tan(x)/sp.sec(x)\n",
        "f.trigsimp()"
      ],
      "execution_count": 16,
      "outputs": [
        {
          "output_type": "execute_result",
          "data": {
            "image/png": "[encoded data removed]",
            "text/latex": "$\\displaystyle \\sin^{2}{\\left(x \\right)}$",
            "text/plain": [
              "   2   \n",
              "sin (x)"
            ]
          },
          "metadata": {},
          "execution_count": 16
        }
      ]
    },
    {
      "cell_type": "code",
      "metadata": {
        "colab": {
          "base_uri": "https://localhost:8080/",
          "height": 39
        },
        "id": "8lnH6FxqyHSX",
        "outputId": "95810ff1-c615-458d-94b4-51b68bcf0704"
      },
      "source": [
        "f=sp.sin(x+y)\n",
        "f.expand()"
      ],
      "execution_count": 17,
      "outputs": [
        {
          "output_type": "execute_result",
          "data": {
            "image/png": "[encoded data removed]",
            "text/latex": "$\\displaystyle \\sin{\\left(x + y \\right)}$",
            "text/plain": [
              "sin(x + y)"
            ]
          },
          "metadata": {},
          "execution_count": 17
        }
      ]
    },
    {
      "cell_type": "code",
      "metadata": {
        "colab": {
          "base_uri": "https://localhost:8080/",
          "height": 39
        },
        "id": "adiYSQAlyRfs",
        "outputId": "0253d0cc-7f4f-4f0f-a07c-91b4b2fcbe86"
      },
      "source": [
        "sp.expand_trig(f)"
      ],
      "execution_count": 18,
      "outputs": [
        {
          "output_type": "execute_result",
          "data": {
            "image/png": "[encoded data removed]",
            "text/latex": "$\\displaystyle \\sin{\\left(x \\right)} \\cos{\\left(y \\right)} + \\sin{\\left(y \\right)} \\cos{\\left(x \\right)}$",
            "text/plain": [
              "sin(x)⋅cos(y) + sin(y)⋅cos(x)"
            ]
          },
          "metadata": {},
          "execution_count": 18
        }
      ]
    },
    {
      "cell_type": "code",
      "metadata": {
        "colab": {
          "base_uri": "https://localhost:8080/",
          "height": 57
        },
        "id": "XagusK0JyiMA",
        "outputId": "ee222784-c6cb-4e8f-b3ad-78447d581c48"
      },
      "source": [
        "sp.expand_trig(sp.tan(2*x))"
      ],
      "execution_count": 19,
      "outputs": [
        {
          "output_type": "execute_result",
          "data": {
            "image/png": "[encoded data removed]",
            "text/latex": "$\\displaystyle \\frac{2 \\tan{\\left(x \\right)}}{1 - \\tan^{2}{\\left(x \\right)}}$",
            "text/plain": [
              "  2⋅tan(x) \n",
              "───────────\n",
              "       2   \n",
              "1 - tan (x)"
            ]
          },
          "metadata": {},
          "execution_count": 19
        }
      ]
    },
    {
      "cell_type": "markdown",
      "metadata": {
        "id": "wmj9ExOcyvcV"
      },
      "source": [
        "##Simplificacion de potencias"
      ]
    },
    {
      "cell_type": "markdown",
      "metadata": {
        "id": "FEKZtYnBy0oM"
      },
      "source": [
        "simplificar $x^ax^b$"
      ]
    },
    {
      "cell_type": "code",
      "metadata": {
        "colab": {
          "base_uri": "https://localhost:8080/",
          "height": 39
        },
        "id": "ycOCth4dy7Pc",
        "outputId": "5336a2d9-a97a-4933-9342-f742964a5880"
      },
      "source": [
        "a,b=sp.symbols('a b')\n",
        "sp.powsimp(x**a*x**b)"
      ],
      "execution_count": 20,
      "outputs": [
        {
          "output_type": "execute_result",
          "data": {
            "image/png": "[encoded data removed]",
            "text/latex": "$\\displaystyle x^{a + b}$",
            "text/plain": [
              " a + b\n",
              "x     "
            ]
          },
          "metadata": {},
          "execution_count": 20
        }
      ]
    },
    {
      "cell_type": "code",
      "metadata": {
        "colab": {
          "base_uri": "https://localhost:8080/",
          "height": 39
        },
        "id": "lpfMZnR8zQFn",
        "outputId": "81a98ed4-47a3-40da-c741-148c71f519b5"
      },
      "source": [
        "sp.powsimp(x**a*y**a,force=True)"
      ],
      "execution_count": 21,
      "outputs": [
        {
          "output_type": "execute_result",
          "data": {
            "image/png": "[encoded data removed]",
            "text/latex": "$\\displaystyle \\left(x y\\right)^{a}$",
            "text/plain": [
              "     a\n",
              "(x⋅y) "
            ]
          },
          "metadata": {},
          "execution_count": 21
        }
      ]
    },
    {
      "cell_type": "code",
      "metadata": {
        "colab": {
          "base_uri": "https://localhost:8080/",
          "height": 40
        },
        "id": "Q5XUlZDMzg7C",
        "outputId": "8733f6fb-95aa-4ea3-bead-fda08f993855"
      },
      "source": [
        "sp.expand_power_exp((x*y)**(a+b))"
      ],
      "execution_count": 22,
      "outputs": [
        {
          "output_type": "execute_result",
          "data": {
            "image/png": "[encoded data removed]",
            "text/latex": "$\\displaystyle \\left(x y\\right)^{a} \\left(x y\\right)^{b}$",
            "text/plain": [
              "     a      b\n",
              "(x⋅y) ⋅(x⋅y) "
            ]
          },
          "metadata": {},
          "execution_count": 22
        }
      ]
    },
    {
      "cell_type": "markdown",
      "metadata": {
        "id": "HsL6sg2lYUvj"
      },
      "source": [
        "##Logaritmos"
      ]
    },
    {
      "cell_type": "code",
      "metadata": {
        "colab": {
          "base_uri": "https://localhost:8080/",
          "height": 39
        },
        "id": "KUG-Xvgv0g1n",
        "outputId": "09c66d78-ef16-4dff-9996-ce40da7fd4c7"
      },
      "source": [
        "sp.expand_log(sp.log(x**2),force=True)"
      ],
      "execution_count": 23,
      "outputs": [
        {
          "output_type": "execute_result",
          "data": {
            "image/png": "[encoded data removed]",
            "text/latex": "$\\displaystyle 2 \\log{\\left(x \\right)}$",
            "text/plain": [
              "2⋅log(x)"
            ]
          },
          "metadata": {},
          "execution_count": 23
        }
      ]
    },
    {
      "cell_type": "code",
      "metadata": {
        "colab": {
          "base_uri": "https://localhost:8080/",
          "height": 39
        },
        "id": "WwhTskY50ukE",
        "outputId": "c8b07be2-d3ca-4a8d-9b0d-b34293c5d928"
      },
      "source": [
        "sp.logcombine(sp.log(x)+sp.log(y),force=True)"
      ],
      "execution_count": 24,
      "outputs": [
        {
          "output_type": "execute_result",
          "data": {
            "image/png": "[encoded data removed]",
            "text/latex": "$\\displaystyle \\log{\\left(x y \\right)}$",
            "text/plain": [
              "log(x⋅y)"
            ]
          },
          "metadata": {},
          "execution_count": 24
        }
      ]
    },
    {
      "cell_type": "code",
      "metadata": {
        "colab": {
          "base_uri": "https://localhost:8080/",
          "height": 39
        },
        "id": "SM3AF-Xv09e1",
        "outputId": "4773d2f1-20cd-447b-82d5-776fc566c93c"
      },
      "source": [
        "sp.logcombine(y*sp.log(x),force=True)"
      ],
      "execution_count": 25,
      "outputs": [
        {
          "output_type": "execute_result",
          "data": {
            "image/png": "[encoded data removed]",
            "text/latex": "$\\displaystyle \\log{\\left(x^{y} \\right)}$",
            "text/plain": [
              "   ⎛ y⎞\n",
              "log⎝x ⎠"
            ]
          },
          "metadata": {},
          "execution_count": 25
        }
      ]
    },
    {
      "cell_type": "markdown",
      "metadata": {
        "id": "SZzTvZUjYaux"
      },
      "source": [
        "##Combinatorias"
      ]
    },
    {
      "cell_type": "code",
      "metadata": {
        "colab": {
          "base_uri": "https://localhost:8080/",
          "height": 57
        },
        "id": "9HgzY5ZK1Xbv",
        "outputId": "c19262c9-ef0e-45a7-fb93-0b1bce8b0fe1"
      },
      "source": [
        "n,k=sp.symbols('n,k')\n",
        "f=sp.binomial(n,k)\n",
        "f"
      ],
      "execution_count": 26,
      "outputs": [
        {
          "output_type": "execute_result",
          "data": {
            "image/png": "[encoded data removed]",
            "text/latex": "$\\displaystyle {\\binom{n}{k}}$",
            "text/plain": [
              "⎛n⎞\n",
              "⎜ ⎟\n",
              "⎝k⎠"
            ]
          },
          "metadata": {},
          "execution_count": 26
        }
      ]
    },
    {
      "cell_type": "code",
      "metadata": {
        "colab": {
          "base_uri": "https://localhost:8080/",
          "height": 37
        },
        "id": "9BTCXBYr1oIT",
        "outputId": "5dadf8fa-f512-46a9-d325-fb9c8129a704"
      },
      "source": [
        "f.subs(n,3).subs(k,2)"
      ],
      "execution_count": 27,
      "outputs": [
        {
          "output_type": "execute_result",
          "data": {
            "image/png": "[encoded data removed]",
            "text/latex": "$\\displaystyle 3$",
            "text/plain": [
              "3"
            ]
          },
          "metadata": {},
          "execution_count": 27
        }
      ]
    },
    {
      "cell_type": "markdown",
      "metadata": {
        "id": "I0RIIgWZ2GtE"
      },
      "source": [
        "##Solucion de ecuaciones lineales y no lineales"
      ]
    },
    {
      "cell_type": "markdown",
      "metadata": {
        "id": "jZVl7XOx2Mwz"
      },
      "source": [
        "resolver la siguiente ecuacion\n",
        "$$3x+10=7$$"
      ]
    },
    {
      "cell_type": "code",
      "metadata": {
        "colab": {
          "base_uri": "https://localhost:8080/",
          "height": 37
        },
        "id": "q7um3kMJLs-A",
        "outputId": "7e76f10e-5141-44fe-ceec-1158f89e36ca"
      },
      "source": [
        "ec=sp.Eq(3*x+10,7)\n",
        "sp.solve(ec,x)"
      ],
      "execution_count": 28,
      "outputs": [
        {
          "output_type": "execute_result",
          "data": {
            "image/png": "[encoded data removed]",
            "text/latex": "$\\displaystyle \\left[ -1\\right]$",
            "text/plain": [
              "[-1]"
            ]
          },
          "metadata": {},
          "execution_count": 28
        }
      ]
    },
    {
      "cell_type": "markdown",
      "metadata": {
        "id": "d878CMM42b3l"
      },
      "source": [
        "resolver la ecuacion \n",
        "$$x^2+x-1$$"
      ]
    },
    {
      "cell_type": "code",
      "metadata": {
        "colab": {
          "base_uri": "https://localhost:8080/",
          "height": 68
        },
        "id": "OjuQOqfcMhwE",
        "outputId": "3c33cf37-8b8b-4b8e-b8a4-1a94eb719a16"
      },
      "source": [
        "ec=x**2+x-1\n",
        "sp.solve(ec,x)"
      ],
      "execution_count": 32,
      "outputs": [
        {
          "output_type": "execute_result",
          "data": {
            "image/png": "[encoded data removed]",
            "text/latex": "$\\displaystyle \\left[ - \\frac{1}{2} + \\frac{\\sqrt{5}}{2}, \\  - \\frac{\\sqrt{5}}{2} - \\frac{1}{2}\\right]$",
            "text/plain": [
              "⎡  1   √5    √5   1⎤\n",
              "⎢- ─ + ──, - ── - ─⎥\n",
              "⎣  2   2     2    2⎦"
            ]
          },
          "metadata": {},
          "execution_count": 32
        }
      ]
    },
    {
      "cell_type": "markdown",
      "metadata": {
        "id": "KTUi6fDq2oE7"
      },
      "source": [
        "soluciones complejas\n",
        "\n",
        "$$x^2+4$$"
      ]
    },
    {
      "cell_type": "code",
      "metadata": {
        "colab": {
          "base_uri": "https://localhost:8080/",
          "height": 39
        },
        "id": "baZ6z3yRM6-H",
        "outputId": "dad656af-e8ac-4189-eb73-726a0ecee3d6"
      },
      "source": [
        "ec=x**2+4\n",
        "sp.solve(ec,x)"
      ],
      "execution_count": 33,
      "outputs": [
        {
          "output_type": "execute_result",
          "data": {
            "image/png": "[encoded data removed]",
            "text/latex": "$\\displaystyle \\left[ - 2 i, \\  2 i\\right]$",
            "text/plain": [
              "[-2⋅ⅈ, 2⋅ⅈ]"
            ]
          },
          "metadata": {},
          "execution_count": 33
        }
      ]
    },
    {
      "cell_type": "markdown",
      "metadata": {
        "id": "TnjUijwo2yVb"
      },
      "source": [
        "##solucion de sistemas de ecuaciones"
      ]
    },
    {
      "cell_type": "markdown",
      "metadata": {
        "id": "gs067ZBe23VF"
      },
      "source": [
        "resolver el siguiente sistema\n",
        "\n",
        "$$\n",
        "\\begin{align}\n",
        "x+y+z&=0\\\\\n",
        "2x-y-z&=10\\\\\n",
        "y+2z&=5\n",
        "\\end{align}\n",
        "$$"
      ]
    },
    {
      "cell_type": "code",
      "metadata": {
        "colab": {
          "base_uri": "https://localhost:8080/",
          "height": 39
        },
        "id": "dUE0ImhRNV4z",
        "outputId": "8e2c2515-3fcd-4d68-b433-7408fcb4432e"
      },
      "source": [
        "ec1=sp.Eq(x+y+x,0)\n",
        "ec2=sp.Eq(2*x-y-z,10)\n",
        "ec3=sp.Eq(y+2*z,5)\n",
        "sp.solve([ec1,ec2,ec3],[x,y,z])"
      ],
      "execution_count": null,
      "outputs": [
        {
          "output_type": "execute_result",
          "data": {
            "image/png": "[encoded data removed]",
            "text/latex": "$$\\left \\{ x : \\frac{25}{6}, \\quad y : - \\frac{25}{3}, \\quad z : \\frac{20}{3}\\right \\}$$",
            "text/plain": [
              "{x: 25/6, y: -25/3, z: 20/3}"
            ]
          },
          "metadata": {
            "tags": []
          },
          "execution_count": 25
        }
      ]
    },
    {
      "cell_type": "markdown",
      "metadata": {
        "id": "VVlx2Bey31ci"
      },
      "source": [
        "resolver el siguiente sistema\n",
        "\n",
        "$$\n",
        "\\begin{align}\n",
        "x+2y+5z&=1\\\\\n",
        "3x+4y+6z&=0\\\\\n",
        "-x+3z&=-2\n",
        "\\end{align}\n",
        "$$"
      ]
    },
    {
      "cell_type": "code",
      "metadata": {
        "colab": {
          "base_uri": "https://localhost:8080/",
          "height": 78
        },
        "id": "Wantv2WURCgL",
        "outputId": "ed8ac8f8-0d7d-4a74-e534-1d610f35e4cb"
      },
      "source": [
        "A=sp.Matrix([[1,2,5],[3,4,6],[-1,0,3]])\n",
        "A"
      ],
      "execution_count": 34,
      "outputs": [
        {
          "output_type": "execute_result",
          "data": {
            "text/latex": "$\\displaystyle \\left[\\begin{matrix}1 & 2 & 5\\\\3 & 4 & 6\\\\-1 & 0 & 3\\end{matrix}\\right]$",
            "text/plain": [
              "⎡1   2  5⎤\n",
              "⎢        ⎥\n",
              "⎢3   4  6⎥\n",
              "⎢        ⎥\n",
              "⎣-1  0  3⎦"
            ]
          },
          "metadata": {},
          "execution_count": 34
        }
      ]
    },
    {
      "cell_type": "code",
      "metadata": {
        "colab": {
          "base_uri": "https://localhost:8080/",
          "height": 78
        },
        "id": "M4rPwWQSRCTk",
        "outputId": "c67749b2-fca9-4764-89bd-65c177d03b16"
      },
      "source": [
        "b=sp.Matrix([1,0,-2])\n",
        "b"
      ],
      "execution_count": 35,
      "outputs": [
        {
          "output_type": "execute_result",
          "data": {
            "text/latex": "$\\displaystyle \\left[\\begin{matrix}1\\\\0\\\\-2\\end{matrix}\\right]$",
            "text/plain": [
              "⎡1 ⎤\n",
              "⎢  ⎥\n",
              "⎢0 ⎥\n",
              "⎢  ⎥\n",
              "⎣-2⎦"
            ]
          },
          "metadata": {},
          "execution_count": 35
        }
      ]
    },
    {
      "cell_type": "markdown",
      "metadata": {
        "id": "pURpBUK75EFV"
      },
      "source": [
        "###inversa"
      ]
    },
    {
      "cell_type": "code",
      "metadata": {
        "colab": {
          "base_uri": "https://localhost:8080/",
          "height": 78
        },
        "id": "RRT6tcPjRCBB",
        "outputId": "5d5105a2-af8b-4af4-cdf2-775bba58df70"
      },
      "source": [
        "A.inv()"
      ],
      "execution_count": null,
      "outputs": [
        {
          "output_type": "execute_result",
          "data": {
            "text/latex": "$$\\left[\\begin{matrix}6 & -3 & -4\\\\- \\frac{15}{2} & 4 & \\frac{9}{2}\\\\2 & -1 & -1\\end{matrix}\\right]$$",
            "text/plain": [
              "⎡  6    -3  -4 ⎤\n",
              "⎢              ⎥\n",
              "⎢-15/2  4   9/2⎥\n",
              "⎢              ⎥\n",
              "⎣  2    -1  -1 ⎦"
            ]
          },
          "metadata": {
            "tags": []
          },
          "execution_count": 39
        }
      ]
    },
    {
      "cell_type": "markdown",
      "metadata": {
        "id": "Ks9QZ9hr5Hck"
      },
      "source": [
        "###inversa multiplicacion"
      ]
    },
    {
      "cell_type": "code",
      "metadata": {
        "colab": {
          "base_uri": "https://localhost:8080/",
          "height": 78
        },
        "id": "EqDFjfCIRiCM",
        "outputId": "124ddc56-ebdf-4a32-b723-83a98fefc445"
      },
      "source": [
        "A.inv()*b"
      ],
      "execution_count": null,
      "outputs": [
        {
          "output_type": "execute_result",
          "data": {
            "text/latex": "$$\\left[\\begin{matrix}14\\\\- \\frac{33}{2}\\\\4\\end{matrix}\\right]$$",
            "text/plain": [
              "⎡ 14  ⎤\n",
              "⎢     ⎥\n",
              "⎢-33/2⎥\n",
              "⎢     ⎥\n",
              "⎣  4  ⎦"
            ]
          },
          "metadata": {
            "tags": []
          },
          "execution_count": 40
        }
      ]
    },
    {
      "cell_type": "markdown",
      "metadata": {
        "id": "Vo85zpTU5Kt1"
      },
      "source": [
        "###descomposicion LU"
      ]
    },
    {
      "cell_type": "code",
      "metadata": {
        "colab": {
          "base_uri": "https://localhost:8080/",
          "height": 78
        },
        "id": "ejPEWURqRslV",
        "outputId": "9e0c4573-9326-465c-c9a8-4978e724ef17"
      },
      "source": [
        "A.LUsolve(b)"
      ],
      "execution_count": null,
      "outputs": [
        {
          "output_type": "execute_result",
          "data": {
            "text/latex": "$$\\left[\\begin{matrix}14\\\\- \\frac{33}{2}\\\\4\\end{matrix}\\right]$$",
            "text/plain": [
              "⎡ 14  ⎤\n",
              "⎢     ⎥\n",
              "⎢-33/2⎥\n",
              "⎢     ⎥\n",
              "⎣  4  ⎦"
            ]
          },
          "metadata": {
            "tags": []
          },
          "execution_count": 41
        }
      ]
    },
    {
      "cell_type": "code",
      "metadata": {
        "colab": {
          "base_uri": "https://localhost:8080/",
          "height": 39
        },
        "id": "W2BVVmCeQtfP",
        "outputId": "9d16959a-de96-4ca7-9d7c-bd506879abae"
      },
      "source": [
        "sistema=A,b\n",
        "sp.linsolve(sistema,[x,y,z])"
      ],
      "execution_count": null,
      "outputs": [
        {
          "output_type": "execute_result",
          "data": {
            "image/png": "[encoded data removed]",
            "text/latex": "$$\\left\\{\\left ( 14, \\quad - \\frac{33}{2}, \\quad 4\\right )\\right\\}$$",
            "text/plain": [
              "{(14, -33/2, 4)}"
            ]
          },
          "metadata": {
            "tags": []
          },
          "execution_count": 10
        }
      ]
    },
    {
      "cell_type": "markdown",
      "metadata": {
        "id": "XPduakEX5Oms"
      },
      "source": [
        "###solucion parametrica"
      ]
    },
    {
      "cell_type": "code",
      "metadata": {
        "colab": {
          "base_uri": "https://localhost:8080/",
          "height": 78
        },
        "id": "8u9Z2pKFSh9X",
        "outputId": "c7b3606d-3f37-42b9-e570-b7847d21d75e"
      },
      "source": [
        "A[0,0]=x\n",
        "A\n"
      ],
      "execution_count": 36,
      "outputs": [
        {
          "output_type": "execute_result",
          "data": {
            "text/latex": "$\\displaystyle \\left[\\begin{matrix}x & 2 & 5\\\\3 & 4 & 6\\\\-1 & 0 & 3\\end{matrix}\\right]$",
            "text/plain": [
              "⎡x   2  5⎤\n",
              "⎢        ⎥\n",
              "⎢3   4  6⎥\n",
              "⎢        ⎥\n",
              "⎣-1  0  3⎦"
            ]
          },
          "metadata": {},
          "execution_count": 36
        }
      ]
    },
    {
      "cell_type": "code",
      "metadata": {
        "colab": {
          "base_uri": "https://localhost:8080/",
          "height": 78
        },
        "id": "vYpWTTq9Sn60",
        "outputId": "26e5796e-ff45-4f53-bc61-f306fd303f7d"
      },
      "source": [
        "sol=A.inv()*b\n",
        "sol.subs(x,1)"
      ],
      "execution_count": 40,
      "outputs": [
        {
          "output_type": "execute_result",
          "data": {
            "text/latex": "$\\displaystyle \\left[\\begin{matrix}14\\\\- \\frac{33}{2}\\\\4\\end{matrix}\\right]$",
            "text/plain": [
              "⎡ 14  ⎤\n",
              "⎢     ⎥\n",
              "⎢-33/2⎥\n",
              "⎢     ⎥\n",
              "⎣  4  ⎦"
            ]
          },
          "metadata": {},
          "execution_count": 40
        }
      ]
    },
    {
      "cell_type": "markdown",
      "metadata": {
        "id": "Sbpr1TsWJXty"
      },
      "source": [
        "###Sistemas rectangulares"
      ]
    },
    {
      "cell_type": "markdown",
      "metadata": {
        "id": "1YljXqmpJa9I"
      },
      "source": [
        "Resolver el siguiente sistema\n",
        "$$\n",
        "\\begin{align}\n",
        "x+y+z&=1\\\\\n",
        "x+y+2z&=3\n",
        "\\end{align}\n",
        "$$"
      ]
    },
    {
      "cell_type": "code",
      "metadata": {
        "colab": {
          "base_uri": "https://localhost:8080/",
          "height": 39
        },
        "id": "c0MQtssFJ68c",
        "outputId": "fe18eaa5-4725-4083-b2fa-442c136cc682"
      },
      "source": [
        "sp.linsolve([x+y+z-1,x+y+2*z-3],[x,y,z])"
      ],
      "execution_count": null,
      "outputs": [
        {
          "output_type": "execute_result",
          "data": {
            "image/png": "[encoded data removed]",
            "text/latex": "$$\\left\\{\\left ( - y - 1, \\quad y, \\quad 2\\right )\\right\\}$$",
            "text/plain": [
              "{(-y - 1, y, 2)}"
            ]
          },
          "metadata": {
            "tags": []
          },
          "execution_count": 85
        }
      ]
    },
    {
      "cell_type": "code",
      "metadata": {
        "colab": {
          "base_uri": "https://localhost:8080/",
          "height": 39
        },
        "id": "ulSFWzzaLJUD",
        "outputId": "bb491961-9f93-4fc1-be3d-634dd9227024"
      },
      "source": [
        "x1,x2,x3,x4,x5,x6=sp.symbols('x1,x2,x3,x4,x5,x6')\n",
        "sp.linsolve([x1-3*x5,\n",
        "             6*x1-x6,\n",
        "             x2-2*x3,\n",
        "             2*x2-x4,\n",
        "             8*x2-3*x3-2*x4-4*x5-x6],[x1,x2,x3,x4,x5,x6])"
      ],
      "execution_count": null,
      "outputs": [
        {
          "output_type": "execute_result",
          "data": {
            "image/png": "[encoded data removed]",
            "text/latex": "$$\\left\\{\\left ( \\frac{x_{6}}{6}, \\quad \\frac{22 x_{6}}{45}, \\quad \\frac{11 x_{6}}{45}, \\quad \\frac{44 x_{6}}{45}, \\quad \\frac{x_{6}}{18}, \\quad x_{6}\\right )\\right\\}$$",
            "text/plain": [
              "⎧⎛x₆  22⋅x₆  11⋅x₆  44⋅x₆  x₆    ⎞⎫\n",
              "⎨⎜──, ─────, ─────, ─────, ──, x₆⎟⎬\n",
              "⎩⎝6     45     45     45   18    ⎠⎭"
            ]
          },
          "metadata": {
            "tags": []
          },
          "execution_count": 87
        }
      ]
    },
    {
      "cell_type": "markdown",
      "metadata": {
        "id": "Mv93jlgbFt6u"
      },
      "source": [
        "##Serie de Taylor"
      ]
    },
    {
      "cell_type": "code",
      "metadata": {
        "colab": {
          "base_uri": "https://localhost:8080/",
          "height": 56
        },
        "id": "a3tQB-lYKSQz",
        "outputId": "73a2b9d4-3127-4b31-b554-2e2b43b49656"
      },
      "source": [
        "f=sp.ln(x)\n",
        "answer=sp.series(f,x,x0=1,n=9)\n",
        "display(answer)"
      ],
      "execution_count": 41,
      "outputs": [
        {
          "output_type": "display_data",
          "data": {
            "image/png": "[encoded data removed]",
            "text/latex": "$\\displaystyle -1 - \\frac{\\left(x - 1\\right)^{2}}{2} + \\frac{\\left(x - 1\\right)^{3}}{3} - \\frac{\\left(x - 1\\right)^{4}}{4} + \\frac{\\left(x - 1\\right)^{5}}{5} - \\frac{\\left(x - 1\\right)^{6}}{6} + \\frac{\\left(x - 1\\right)^{7}}{7} - \\frac{\\left(x - 1\\right)^{8}}{8} + x + O\\left(\\left(x - 1\\right)^{9}; x\\rightarrow 1\\right)$",
            "text/plain": [
              "            2          3          4          5          6          7          \n",
              "     (x - 1)    (x - 1)    (x - 1)    (x - 1)    (x - 1)    (x - 1)    (x - 1)\n",
              "-1 - ──────── + ──────── - ──────── + ──────── - ──────── + ──────── - ───────\n",
              "        2          3          4          5          6          7          8   \n",
              "\n",
              "8                         \n",
              "         ⎛       9       ⎞\n",
              "─ + x + O⎝(x - 1) ; x → 1⎠\n",
              "                          "
            ]
          },
          "metadata": {}
        }
      ]
    },
    {
      "cell_type": "code",
      "metadata": {
        "colab": {
          "base_uri": "https://localhost:8080/",
          "height": 41
        },
        "id": "Dwk-mo7EIB05",
        "outputId": "aaddcf73-d4ad-461d-f849-18c235f3a4d0"
      },
      "source": [
        "f=sp.exp(2*x)\n",
        "sp.series(f,x,0,8)"
      ],
      "execution_count": null,
      "outputs": [
        {
          "output_type": "execute_result",
          "data": {
            "image/png": "[encoded data removed]",
            "text/latex": "$$1 + 2 x + 2 x^{2} + \\frac{4 x^{3}}{3} + \\frac{2 x^{4}}{3} + \\frac{4 x^{5}}{15} + \\frac{4 x^{6}}{45} + \\frac{8 x^{7}}{315} + \\mathcal{O}\\left(x^{8}\\right)$$",
            "text/plain": [
              "                    3      4      5      6      7        \n",
              "             2   4⋅x    2⋅x    4⋅x    4⋅x    8⋅x     ⎛ 8⎞\n",
              "1 + 2⋅x + 2⋅x  + ──── + ──── + ──── + ──── + ──── + O⎝x ⎠\n",
              "                  3      3      15     45    315         "
            ]
          },
          "metadata": {
            "tags": []
          },
          "execution_count": 84
        }
      ]
    },
    {
      "cell_type": "markdown",
      "metadata": {
        "id": "SYLfKG-I5oF9"
      },
      "source": [
        "##Derivadas"
      ]
    },
    {
      "cell_type": "markdown",
      "metadata": {
        "id": "mlB9LDzg6DsZ"
      },
      "source": [
        "obtener la derivada de \n",
        "$$f(x)=sin(xy)$$"
      ]
    },
    {
      "cell_type": "code",
      "metadata": {
        "colab": {
          "base_uri": "https://localhost:8080/",
          "height": 39
        },
        "id": "2lw_puLH5rSV",
        "outputId": "73d5f79c-c79c-4949-b5c4-ac3579fd7615"
      },
      "source": [
        "f=sp.sin(x*y)\n",
        "f.diff(x)"
      ],
      "execution_count": 44,
      "outputs": [
        {
          "output_type": "execute_result",
          "data": {
            "image/png": "[encoded data removed]",
            "text/latex": "$\\displaystyle y \\cos{\\left(x y \\right)}$",
            "text/plain": [
              "y⋅cos(x⋅y)"
            ]
          },
          "metadata": {},
          "execution_count": 44
        }
      ]
    },
    {
      "cell_type": "markdown",
      "metadata": {
        "id": "D__3Temq6LPO"
      },
      "source": [
        "obtener la segunda derivada de $$f(x)=sin(xy)$$"
      ]
    },
    {
      "cell_type": "code",
      "metadata": {
        "colab": {
          "base_uri": "https://localhost:8080/",
          "height": 39
        },
        "id": "vfKeVsxg59Sv",
        "outputId": "f0b904ff-6e2f-4b36-d049-231f2cfbe387"
      },
      "source": [
        "f.diff(x,2)"
      ],
      "execution_count": 45,
      "outputs": [
        {
          "output_type": "execute_result",
          "data": {
            "image/png": "[encoded data removed]",
            "text/latex": "$\\displaystyle - y^{2} \\sin{\\left(x y \\right)}$",
            "text/plain": [
              "  2         \n",
              "-y ⋅sin(x⋅y)"
            ]
          },
          "metadata": {},
          "execution_count": 45
        }
      ]
    },
    {
      "cell_type": "markdown",
      "metadata": {
        "id": "QyvZOApo6aBR"
      },
      "source": [
        "obtener la derivada de $$f(x,y)=x^2y+cos(2y)$$\n",
        "$$\\frac{\\partial f(x,y)}{\\partial x}$$"
      ]
    },
    {
      "cell_type": "code",
      "metadata": {
        "colab": {
          "base_uri": "https://localhost:8080/",
          "height": 39
        },
        "id": "p3v83DoP6xrf",
        "outputId": "65f5df65-9347-4f4f-a022-6517c35f92cb"
      },
      "source": [
        "f=x**2*y+sp.cos(2*y)\n",
        "f.diff(x)"
      ],
      "execution_count": 46,
      "outputs": [
        {
          "output_type": "execute_result",
          "data": {
            "image/png": "[encoded data removed]",
            "text/latex": "$\\displaystyle 2 x y$",
            "text/plain": [
              "2⋅x⋅y"
            ]
          },
          "metadata": {},
          "execution_count": 46
        }
      ]
    },
    {
      "cell_type": "markdown",
      "metadata": {
        "id": "q0Dq5WdE66nG"
      },
      "source": [
        "$$\\frac{\\partial f(x,y)}{\\partial y}$$"
      ]
    },
    {
      "cell_type": "code",
      "metadata": {
        "colab": {
          "base_uri": "https://localhost:8080/",
          "height": 39
        },
        "id": "VMy4ND0-7EIO",
        "outputId": "5bb216a4-ffc3-48b4-ff54-81cb42b3b4c2"
      },
      "source": [
        "f.diff(y)"
      ],
      "execution_count": 47,
      "outputs": [
        {
          "output_type": "execute_result",
          "data": {
            "image/png": "[encoded data removed]",
            "text/latex": "$\\displaystyle x^{2} - 2 \\sin{\\left(2 y \\right)}$",
            "text/plain": [
              " 2             \n",
              "x  - 2⋅sin(2⋅y)"
            ]
          },
          "metadata": {},
          "execution_count": 47
        }
      ]
    },
    {
      "cell_type": "code",
      "metadata": {
        "colab": {
          "base_uri": "https://localhost:8080/",
          "height": 39
        },
        "id": "FTzl94Ie7zVI",
        "outputId": "9bce669c-6ab0-4e33-b3f5-d59e90eb6b41"
      },
      "source": [
        "f.diff(x,y)"
      ],
      "execution_count": 48,
      "outputs": [
        {
          "output_type": "execute_result",
          "data": {
            "image/png": "[encoded data removed]",
            "text/latex": "$\\displaystyle 2 x$",
            "text/plain": [
              "2⋅x"
            ]
          },
          "metadata": {},
          "execution_count": 48
        }
      ]
    },
    {
      "cell_type": "markdown",
      "metadata": {
        "id": "Ig6Qt7Ec9Qo4"
      },
      "source": [
        "##Integrales"
      ]
    },
    {
      "cell_type": "markdown",
      "metadata": {
        "id": "OmDI1EVg9S6B"
      },
      "source": [
        "obtener la siguiente integral\n",
        "$$\\int_0^{\\infty}e^{-x}dx$$"
      ]
    },
    {
      "cell_type": "code",
      "metadata": {
        "colab": {
          "base_uri": "https://localhost:8080/",
          "height": 37
        },
        "id": "I6KEy2U79f3-",
        "outputId": "6ea62a31-270d-4d9c-c226-f8247b39229a"
      },
      "source": [
        "import numpy as np\n",
        "\n",
        "f=sp.exp(-x)\n",
        "sp.integrate(f,(x,0,np.Inf))"
      ],
      "execution_count": 53,
      "outputs": [
        {
          "output_type": "execute_result",
          "data": {
            "image/png": "[encoded data removed]",
            "text/latex": "$\\displaystyle 1$",
            "text/plain": [
              "1"
            ]
          },
          "metadata": {},
          "execution_count": 53
        }
      ]
    },
    {
      "cell_type": "markdown",
      "metadata": {
        "id": "zbhkMjGx_7Sf"
      },
      "source": [
        "obtener la siguiente integral doble\n",
        "$$\\int_{-\\infty}^{\\infty}\\int_{-\\infty}^{\\infty}e^{-x^2-y^2}dxdy$$"
      ]
    },
    {
      "cell_type": "code",
      "metadata": {
        "colab": {
          "base_uri": "https://localhost:8080/",
          "height": 39
        },
        "id": "GnWUzRsHAXH1",
        "outputId": "2e42a501-5084-427d-9780-d51733c5081f"
      },
      "source": [
        "f=sp.exp(-x**2-y**2)\n",
        "sp.integrate(f,(x,-np.Inf,np.Inf),(y,-np.Inf,np.Inf))"
      ],
      "execution_count": 54,
      "outputs": [
        {
          "output_type": "execute_result",
          "data": {
            "image/png": "[encoded data removed]",
            "text/latex": "$\\displaystyle \\pi$",
            "text/plain": [
              "π"
            ]
          },
          "metadata": {},
          "execution_count": 54
        }
      ]
    },
    {
      "cell_type": "markdown",
      "metadata": {
        "id": "gI8TNUp7F1Hh"
      },
      "source": [
        "##Limites"
      ]
    },
    {
      "cell_type": "markdown",
      "metadata": {
        "id": "1rKy2cmiGFT7"
      },
      "source": [
        "obtener el siguiente limite\n",
        "$$\\lim_{x\\to 0^-}\\frac{sin(x)}{x}$$"
      ]
    },
    {
      "cell_type": "code",
      "metadata": {
        "colab": {
          "base_uri": "https://localhost:8080/",
          "height": 37
        },
        "id": "nN0gRI3IJIFD",
        "outputId": "1d75e5f7-a7ca-44c3-f961-69d97795f089"
      },
      "source": [
        "f=sp.sin(x)/x\n",
        "sp.limit(f,x,0)"
      ],
      "execution_count": 55,
      "outputs": [
        {
          "output_type": "execute_result",
          "data": {
            "image/png": "[encoded data removed]",
            "text/latex": "$\\displaystyle 1$",
            "text/plain": [
              "1"
            ]
          },
          "metadata": {},
          "execution_count": 55
        }
      ]
    },
    {
      "cell_type": "markdown",
      "metadata": {
        "id": "myd-hoZXHC2A"
      },
      "source": [
        "obtener el siguiente limite\n",
        "$$\\lim_{x\\to 0^-}\\frac{1}{x}$$"
      ]
    },
    {
      "cell_type": "code",
      "metadata": {
        "colab": {
          "base_uri": "https://localhost:8080/",
          "height": 37
        },
        "id": "iCzCc5_bHJn_",
        "outputId": "303ae961-dbd9-4f1d-f220-73737057a0da"
      },
      "source": [
        "f=1/x\n",
        "sp.limit(f,x,0,dir='-')"
      ],
      "execution_count": 56,
      "outputs": [
        {
          "output_type": "execute_result",
          "data": {
            "image/png": "[encoded data removed]",
            "text/latex": "$\\displaystyle -\\infty$",
            "text/plain": [
              "-∞"
            ]
          },
          "metadata": {},
          "execution_count": 56
        }
      ]
    },
    {
      "cell_type": "markdown",
      "metadata": {
        "id": "t6pa6F__YkKz"
      },
      "source": [
        "##Ecuaciones Diferenciales Ordinarias"
      ]
    },
    {
      "cell_type": "markdown",
      "metadata": {
        "id": "tLcOvAshYtve"
      },
      "source": [
        "###Primer Orden"
      ]
    },
    {
      "cell_type": "markdown",
      "metadata": {
        "id": "qWKq0jnnPYGA"
      },
      "source": [
        "obtenga la solucion de la siguiente ecuacion diferencial\n",
        "$$\n",
        "\\frac{df(x)}{dx}=2xf(x)\n",
        "$$"
      ]
    },
    {
      "cell_type": "code",
      "metadata": {
        "colab": {
          "base_uri": "https://localhost:8080/",
          "height": 40
        },
        "id": "lN1fsg78OWTd",
        "outputId": "7dc32a7d-d3a5-4868-96dc-5097d453f11c"
      },
      "source": [
        "f=sp.Function('f')\n",
        "sol=sp.dsolve(sp.Derivative(f(x),x)-2*x*f(x),f(x))\n",
        "sol"
      ],
      "execution_count": null,
      "outputs": [
        {
          "output_type": "execute_result",
          "data": {
            "image/png": "[encoded data removed]",
            "text/latex": "$$f{\\left (x \\right )} = C_{1} e^{x^{2}}$$",
            "text/plain": [
              "           ⎛ 2⎞\n",
              "           ⎝x ⎠\n",
              "f(x) = C₁⋅ℯ    "
            ]
          },
          "metadata": {
            "tags": []
          },
          "execution_count": 36
        }
      ]
    },
    {
      "cell_type": "markdown",
      "metadata": {
        "id": "Fmo2jygnYypv"
      },
      "source": [
        "###Segundo Orden"
      ]
    },
    {
      "cell_type": "markdown",
      "metadata": {
        "id": "CWY3Gt4HVA39"
      },
      "source": [
        "resolver la siguiente ecuacion diferencial de segundo orden\n",
        "$$\n",
        "f''(x)-2f'(x)+f(x)=sin(x)\n",
        "$$"
      ]
    },
    {
      "cell_type": "code",
      "metadata": {
        "id": "1_jTR50yY_6F"
      },
      "source": [
        "f=sp.Function('f')"
      ],
      "execution_count": null,
      "outputs": []
    },
    {
      "cell_type": "code",
      "metadata": {
        "colab": {
          "base_uri": "https://localhost:8080/",
          "height": 39
        },
        "id": "GnKLJ9zhVeEz",
        "outputId": "77fa8da3-8aa8-4636-87d6-16d51b80733f"
      },
      "source": [
        "f(x)"
      ],
      "execution_count": null,
      "outputs": [
        {
          "output_type": "execute_result",
          "data": {
            "image/png": "[encoded data removed]",
            "text/latex": "$$f{\\left (x \\right )}$$",
            "text/plain": [
              "f(x)"
            ]
          },
          "metadata": {
            "tags": []
          },
          "execution_count": 20
        }
      ]
    },
    {
      "cell_type": "code",
      "metadata": {
        "colab": {
          "base_uri": "https://localhost:8080/",
          "height": 39
        },
        "id": "grckOdPaVl_D",
        "outputId": "d7c17813-47d2-40e1-c63d-4190e9935d83"
      },
      "source": [
        "f(x).diff(x)"
      ],
      "execution_count": null,
      "outputs": [
        {
          "output_type": "execute_result",
          "data": {
            "image/png": "[encoded data removed]",
            "text/latex": "$$\\frac{d}{d x} f{\\left (x \\right )}$$",
            "text/plain": [
              "d       \n",
              "──(f(x))\n",
              "dx      "
            ]
          },
          "metadata": {
            "tags": []
          },
          "execution_count": 21
        }
      ]
    },
    {
      "cell_type": "code",
      "metadata": {
        "colab": {
          "base_uri": "https://localhost:8080/",
          "height": 41
        },
        "id": "5GizO-1-W0RM",
        "outputId": "a018d832-c4d7-475d-c2b3-2894190a7e86"
      },
      "source": [
        "f(x).diff(x,2)"
      ],
      "execution_count": null,
      "outputs": [
        {
          "output_type": "execute_result",
          "data": {
            "image/png": "[encoded data removed]",
            "text/latex": "$$\\frac{d^{2}}{d x^{2}}  f{\\left (x \\right )}$$",
            "text/plain": [
              "  2      \n",
              " d       \n",
              "───(f(x))\n",
              "  2      \n",
              "dx       "
            ]
          },
          "metadata": {
            "tags": []
          },
          "execution_count": 24
        }
      ]
    },
    {
      "cell_type": "code",
      "metadata": {
        "colab": {
          "base_uri": "https://localhost:8080/",
          "height": 39
        },
        "id": "JWwjHacgVqII",
        "outputId": "b334c116-a3cc-4862-ddc3-5aa90b4e20a2"
      },
      "source": [
        "edo=sp.Eq(f(x).diff(x,2)-2*f(x).diff(x)+f(x),sp.sin(x))\n",
        "sp.dsolve(edo,f(x))"
      ],
      "execution_count": null,
      "outputs": [
        {
          "output_type": "execute_result",
          "data": {
            "image/png": "[encoded data removed]",
            "text/latex": "$$f{\\left (x \\right )} = \\left(C_{1} + C_{2} x\\right) e^{x} + \\frac{1}{2} \\cos{\\left (x \\right )}$$",
            "text/plain": [
              "                    x   cos(x)\n",
              "f(x) = (C₁ + C₂⋅x)⋅ℯ  + ──────\n",
              "                          2   "
            ]
          },
          "metadata": {
            "tags": []
          },
          "execution_count": 23
        }
      ]
    },
    {
      "cell_type": "code",
      "metadata": {
        "id": "COjjMtUpWSSM"
      },
      "source": [
        ""
      ],
      "execution_count": null,
      "outputs": []
    }
  ]
}