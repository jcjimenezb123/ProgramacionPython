{
  "nbformat": 4,
  "nbformat_minor": 0,
  "metadata": {
    "colab": {
      "name": "sympy_ejemplos.ipynb",
      "provenance": [],
      "collapsed_sections": [],
      "include_colab_link": true
    },
    "kernelspec": {
      "name": "python3",
      "display_name": "Python 3"
    }
  },
  "cells": [
    {
      "cell_type": "markdown",
      "metadata": {
        "id": "view-in-github",
        "colab_type": "text"
      },
      "source": [
        "<a href=\"https://colab.research.google.com/github/jcjimenezb123/ProgramacionPython/blob/master/sympy_ejemplos.ipynb\" target=\"_parent\"><img src=\"https://colab.research.google.com/assets/colab-badge.svg\" alt=\"Open In Colab\"/></a>"
      ]
    },
    {
      "cell_type": "markdown",
      "metadata": {
        "id": "xtApO55DYN8L"
      },
      "source": [
        "#sympy"
      ]
    },
    {
      "cell_type": "code",
      "metadata": {
        "id": "KRUCaxlxG3C8"
      },
      "source": [
        "from sympy.interactive import printing\n",
        "printing.init_printing(use_latex=True)"
      ],
      "execution_count": 1,
      "outputs": []
    },
    {
      "cell_type": "code",
      "metadata": {
        "id": "mV8NMbVkHPfd"
      },
      "source": [
        "import numpy as np\n",
        "import sympy as sp"
      ],
      "execution_count": 3,
      "outputs": []
    },
    {
      "cell_type": "markdown",
      "metadata": {
        "id": "Dnc-2bLzYUjx"
      },
      "source": [
        "##Crear variables y funciones simbolicas"
      ]
    },
    {
      "cell_type": "code",
      "metadata": {
        "id": "s-NTwEL_GdAU"
      },
      "source": [
        "x=sp.Symbol('x')\n",
        "y,z=sp.symbols('y,z')"
      ],
      "execution_count": 4,
      "outputs": []
    },
    {
      "cell_type": "code",
      "metadata": {
        "colab": {
          "base_uri": "https://localhost:8080/",
          "height": 39
        },
        "id": "muRBuJUvGkNw",
        "outputId": "0a7c42f3-028e-4a70-f4d9-eab1fdfa5c4f"
      },
      "source": [
        "f=x**2-10*x+1\n",
        "f"
      ],
      "execution_count": 5,
      "outputs": [
        {
          "output_type": "execute_result",
          "data": {
            "image/png": "[encoded data removed]",
            "text/latex": "$\\displaystyle x^{2} - 10 x + 1$",
            "text/plain": [
              " 2           \n",
              "x  - 10⋅x + 1"
            ]
          },
          "metadata": {
            "tags": []
          },
          "execution_count": 5
        }
      ]
    },
    {
      "cell_type": "markdown",
      "metadata": {
        "id": "bTbwi9zSYjL2"
      },
      "source": [
        "##substitucion numerica y simbolica"
      ]
    },
    {
      "cell_type": "code",
      "metadata": {
        "colab": {
          "base_uri": "https://localhost:8080/"
        },
        "id": "NuWIMnQHIAWB",
        "outputId": "27b5f288-11e9-41ac-d524-4f1015e4706d"
      },
      "source": [
        "print(f.subs(x,2))"
      ],
      "execution_count": 6,
      "outputs": [
        {
          "output_type": "stream",
          "text": [
            "-15\n"
          ],
          "name": "stdout"
        }
      ]
    },
    {
      "cell_type": "code",
      "metadata": {
        "colab": {
          "base_uri": "https://localhost:8080/",
          "height": 39
        },
        "id": "o9re-eeBIbtX",
        "outputId": "f4d985c4-1336-4be4-f29d-255294aef8cf"
      },
      "source": [
        "display(f.subs(x,y))"
      ],
      "execution_count": 7,
      "outputs": [
        {
          "output_type": "display_data",
          "data": {
            "image/png": "[encoded data removed]",
            "text/latex": "$\\displaystyle y^{2} - 10 y + 1$",
            "text/plain": [
              " 2           \n",
              "y  - 10⋅y + 1"
            ]
          },
          "metadata": {
            "tags": []
          }
        }
      ]
    },
    {
      "cell_type": "code",
      "metadata": {
        "colab": {
          "base_uri": "https://localhost:8080/",
          "height": 39
        },
        "id": "2pClzn1LIwOK",
        "outputId": "1a4f0759-72a7-43fa-db80-a429ff4084bf"
      },
      "source": [
        "display(f.subs(x,y**2))"
      ],
      "execution_count": 8,
      "outputs": [
        {
          "output_type": "display_data",
          "data": {
            "image/png": "[encoded data removed]",
            "text/latex": "$\\displaystyle y^{4} - 10 y^{2} + 1$",
            "text/plain": [
              " 4       2    \n",
              "y  - 10⋅y  + 1"
            ]
          },
          "metadata": {
            "tags": []
          }
        }
      ]
    },
    {
      "cell_type": "markdown",
      "metadata": {
        "id": "g6Nx4gLnY1eo"
      },
      "source": [
        "##simplificar"
      ]
    },
    {
      "cell_type": "code",
      "metadata": {
        "colab": {
          "base_uri": "https://localhost:8080/",
          "height": 89
        },
        "id": "_Td0d--JI-Qn",
        "outputId": "8ff6852b-c492-4626-92ea-0dbb28693dbf"
      },
      "source": [
        "f=(x**2-x-6)/(x**2-3*x)\n",
        "display(f)\n",
        "f.simplify()"
      ],
      "execution_count": 9,
      "outputs": [
        {
          "output_type": "display_data",
          "data": {
            "image/png": "[encoded data removed]",
            "text/latex": "$\\displaystyle \\frac{x^{2} - x - 6}{x^{2} - 3 x}$",
            "text/plain": [
              " 2        \n",
              "x  - x - 6\n",
              "──────────\n",
              "  2       \n",
              " x  - 3⋅x "
            ]
          },
          "metadata": {
            "tags": []
          }
        },
        {
          "output_type": "execute_result",
          "data": {
            "image/png": "[encoded data removed]",
            "text/latex": "$\\displaystyle \\frac{x + 2}{x}$",
            "text/plain": [
              "x + 2\n",
              "─────\n",
              "  x  "
            ]
          },
          "metadata": {
            "tags": []
          },
          "execution_count": 9
        }
      ]
    },
    {
      "cell_type": "code",
      "metadata": {
        "colab": {
          "base_uri": "https://localhost:8080/",
          "height": 37
        },
        "id": "MbkowKo0Y9BF",
        "outputId": "6894375d-67c5-4833-cf2b-5f37a0eaaf62"
      },
      "source": [
        "sp.simplify(sp.sin(x)**2+sp.cos(x)**2)"
      ],
      "execution_count": 10,
      "outputs": [
        {
          "output_type": "execute_result",
          "data": {
            "image/png": "[encoded data removed]",
            "text/latex": "$\\displaystyle 1$",
            "text/plain": [
              "1"
            ]
          },
          "metadata": {
            "tags": []
          },
          "execution_count": 10
        }
      ]
    },
    {
      "cell_type": "markdown",
      "metadata": {
        "id": "iwKPj7PCZkJi"
      },
      "source": [
        "Simplificar la siguiente expresion\n",
        "\n",
        "$$\n",
        "f(x)=\\frac{x^{3} + x^{2} - x - 1}{x^{2} + 2 x + 1}=\\frac{(x-1)(x+1)^2}{(x+1)^2}=x-1\n",
        "$$"
      ]
    },
    {
      "cell_type": "code",
      "metadata": {
        "colab": {
          "base_uri": "https://localhost:8080/",
          "height": 39
        },
        "id": "P7_pBEG1ZU__",
        "outputId": "c3416895-bf57-41e5-8e16-588ac6181f87"
      },
      "source": [
        "f=(x**3+x**2-x-1)/(x**2+2*x+1)\n",
        "f.simplify()"
      ],
      "execution_count": 11,
      "outputs": [
        {
          "output_type": "execute_result",
          "data": {
            "image/png": "[encoded data removed]",
            "text/latex": "$\\displaystyle x - 1$",
            "text/plain": [
              "x - 1"
            ]
          },
          "metadata": {
            "tags": []
          },
          "execution_count": 11
        }
      ]
    },
    {
      "cell_type": "markdown",
      "metadata": {
        "id": "PdMvp2HsazVs"
      },
      "source": [
        "##Expander"
      ]
    },
    {
      "cell_type": "code",
      "metadata": {
        "colab": {
          "base_uri": "https://localhost:8080/",
          "height": 39
        },
        "id": "fE7R9RjBJYQt",
        "outputId": "0a40a59a-8f17-4eb5-9938-886c4ae59a60"
      },
      "source": [
        "f=(x-1)**3+(x+2)**2\n",
        "f.expand()\n"
      ],
      "execution_count": 12,
      "outputs": [
        {
          "output_type": "execute_result",
          "data": {
            "image/png": "[encoded data removed]",
            "text/latex": "$\\displaystyle x^{3} - 2 x^{2} + 7 x + 3$",
            "text/plain": [
              " 3      2          \n",
              "x  - 2⋅x  + 7⋅x + 3"
            ]
          },
          "metadata": {
            "tags": []
          },
          "execution_count": 12
        }
      ]
    },
    {
      "cell_type": "markdown",
      "metadata": {
        "id": "3vRhOW7La_ku"
      },
      "source": [
        "##Factorizar"
      ]
    },
    {
      "cell_type": "code",
      "metadata": {
        "colab": {
          "base_uri": "https://localhost:8080/",
          "height": 39
        },
        "id": "IBejKAm_Jsn8",
        "outputId": "781d787a-f740-4639-ce17-2d6627b2bfcb"
      },
      "source": [
        "f=3*x**4-36*x**3+99*x**2-6*x-144\n",
        "f.factor()"
      ],
      "execution_count": 13,
      "outputs": [
        {
          "output_type": "execute_result",
          "data": {
            "image/png": "[encoded data removed]",
            "text/latex": "$\\displaystyle 3 \\left(x - 8\\right) \\left(x - 3\\right) \\left(x - 2\\right) \\left(x + 1\\right)$",
            "text/plain": [
              "3⋅(x - 8)⋅(x - 3)⋅(x - 2)⋅(x + 1)"
            ]
          },
          "metadata": {
            "tags": []
          },
          "execution_count": 13
        }
      ]
    },
    {
      "cell_type": "markdown",
      "metadata": {
        "id": "WrZIw48TbUtt"
      },
      "source": [
        "##Collect"
      ]
    },
    {
      "cell_type": "markdown",
      "metadata": {
        "id": "VNdcW3Kmb8V2"
      },
      "source": [
        "factorizar $x$ \n",
        "$$f(x)=xy+x-3+2x^2-zx^2+x^2$$"
      ]
    },
    {
      "cell_type": "code",
      "metadata": {
        "colab": {
          "base_uri": "https://localhost:8080/",
          "height": 39
        },
        "id": "yYmEZpxJbXXb",
        "outputId": "9fc162a8-82c4-4dec-de08-98ef11e70e13"
      },
      "source": [
        "f=x*y+x-3+2*x**2-z*x**2+x**2\n",
        "f.collect(x)"
      ],
      "execution_count": null,
      "outputs": [
        {
          "output_type": "execute_result",
          "data": {
            "image/png": "[encoded data removed]",
            "text/latex": "$$x^{2} \\left(- z + 3\\right) + x \\left(y + 1\\right) - 3$$",
            "text/plain": [
              " 2                         \n",
              "x ⋅(-z + 3) + x⋅(y + 1) - 3"
            ]
          },
          "metadata": {
            "tags": []
          },
          "execution_count": 26
        }
      ]
    },
    {
      "cell_type": "markdown",
      "metadata": {
        "id": "Z1WCGV5AdG14"
      },
      "source": [
        "##Cancel"
      ]
    },
    {
      "cell_type": "markdown",
      "metadata": {
        "id": "9AozmIE1dKd7"
      },
      "source": [
        "simplificar la siguiente funcion\n",
        "$$f(x)=\\frac{x^2+2x+1}{x^2+x}$$"
      ]
    },
    {
      "cell_type": "code",
      "metadata": {
        "colab": {
          "base_uri": "https://localhost:8080/",
          "height": 39
        },
        "id": "RVlnqvdedfsZ",
        "outputId": "08ca02ab-2cc9-45aa-80fc-106ef61a5016"
      },
      "source": [
        "f=(x**2+2*x+1)/(x**2+x)\n",
        "f.cancel()"
      ],
      "execution_count": null,
      "outputs": [
        {
          "output_type": "execute_result",
          "data": {
            "image/png": "[encoded data removed]",
            "text/latex": "$$\\frac{1}{x} \\left(x + 1\\right)$$",
            "text/plain": [
              "x + 1\n",
              "─────\n",
              "  x  "
            ]
          },
          "metadata": {
            "tags": []
          },
          "execution_count": 27
        }
      ]
    },
    {
      "cell_type": "markdown",
      "metadata": {
        "id": "ccs6oLAcfAvo"
      },
      "source": [
        "##fracciones parciales"
      ]
    },
    {
      "cell_type": "markdown",
      "metadata": {
        "id": "001AQtL1fEeU"
      },
      "source": [
        "descomponer en fracciones parciales\n",
        "$$f(x)=\\frac{4x^3+21x^2+10x+12}{x^4+5x^3+5x^2+4x}=\\sum_k\\frac{f_k(x)}{g_k(x)}$$"
      ]
    },
    {
      "cell_type": "code",
      "metadata": {
        "colab": {
          "base_uri": "https://localhost:8080/",
          "height": 40
        },
        "id": "UBlvscngfWEn",
        "outputId": "7b5dff4a-36f9-454a-a505-2d75811d4db5"
      },
      "source": [
        "f=(4*x**3+21*x**2+10*x+12)/(x**4+5*x**3+5*x**2+4*x)\n",
        "f.apart()"
      ],
      "execution_count": null,
      "outputs": [
        {
          "output_type": "execute_result",
          "data": {
            "image/png": "[encoded data removed]",
            "text/latex": "$$\\frac{2 x - 1}{x^{2} + x + 1} - \\frac{1}{x + 4} + \\frac{3}{x}$$",
            "text/plain": [
              " 2⋅x - 1       1     3\n",
              "────────── - ───── + ─\n",
              " 2           x + 4   x\n",
              "x  + x + 1            "
            ]
          },
          "metadata": {
            "tags": []
          },
          "execution_count": 28
        }
      ]
    },
    {
      "cell_type": "markdown",
      "metadata": {
        "id": "XLvvDwifg_4L"
      },
      "source": [
        "##simplificaciones trigonometricas"
      ]
    },
    {
      "cell_type": "markdown",
      "metadata": {
        "id": "1AK_nzDPhiKt"
      },
      "source": [
        "simplificar la siguiente funcion trigonometrica\n",
        "$$f(x)=sin(x)^4-2cos(x)^2sin(x)^2+cos(x)^4$$"
      ]
    },
    {
      "cell_type": "code",
      "metadata": {
        "colab": {
          "base_uri": "https://localhost:8080/",
          "height": 39
        },
        "id": "3mSsctguhEAm",
        "outputId": "7942f4a3-4e9f-49e9-f831-a778a7df8237"
      },
      "source": [
        "f=sp.sin(x)**4-2*sp.cos(x)**2*sp.sin(x)**2+sp.cos(x)**4\n",
        "f.trigsimp()"
      ],
      "execution_count": null,
      "outputs": [
        {
          "output_type": "execute_result",
          "data": {
            "image/png": "[encoded data removed]",
            "text/latex": "$$\\frac{1}{2} \\cos{\\left (4 x \\right )} + \\frac{1}{2}$$",
            "text/plain": [
              "cos(4⋅x)   1\n",
              "──────── + ─\n",
              "   2       2"
            ]
          },
          "metadata": {
            "tags": []
          },
          "execution_count": 30
        }
      ]
    },
    {
      "cell_type": "code",
      "metadata": {
        "colab": {
          "base_uri": "https://localhost:8080/",
          "height": 39
        },
        "id": "Qz6_Zjugx0er",
        "outputId": "990aeaa2-c86a-43bf-b83d-45f9c2321a16"
      },
      "source": [
        "f=sp.sin(x)*sp.tan(x)/sp.sec(x)\n",
        "f.trigsimp()"
      ],
      "execution_count": null,
      "outputs": [
        {
          "output_type": "execute_result",
          "data": {
            "image/png": "[encoded data removed]",
            "text/latex": "$$\\sin^{2}{\\left (x \\right )}$$",
            "text/plain": [
              "   2   \n",
              "sin (x)"
            ]
          },
          "metadata": {
            "tags": []
          },
          "execution_count": 31
        }
      ]
    },
    {
      "cell_type": "code",
      "metadata": {
        "colab": {
          "base_uri": "https://localhost:8080/",
          "height": 39
        },
        "id": "8lnH6FxqyHSX",
        "outputId": "8c2986fc-08a2-486d-9013-6460abcdc04c"
      },
      "source": [
        "f=sp.sin(x+y)\n",
        "f.expand()"
      ],
      "execution_count": null,
      "outputs": [
        {
          "output_type": "execute_result",
          "data": {
            "image/png": "[encoded data removed]",
            "text/latex": "$$\\sin{\\left (x + y \\right )}$$",
            "text/plain": [
              "sin(x + y)"
            ]
          },
          "metadata": {
            "tags": []
          },
          "execution_count": 32
        }
      ]
    },
    {
      "cell_type": "code",
      "metadata": {
        "colab": {
          "base_uri": "https://localhost:8080/",
          "height": 39
        },
        "id": "adiYSQAlyRfs",
        "outputId": "93c71453-0814-4315-acb9-0b9dfa7a2009"
      },
      "source": [
        "sp.expand_trig(f)"
      ],
      "execution_count": null,
      "outputs": [
        {
          "output_type": "execute_result",
          "data": {
            "image/png": "[encoded data removed]",
            "text/latex": "$$\\sin{\\left (x \\right )} \\cos{\\left (y \\right )} + \\sin{\\left (y \\right )} \\cos{\\left (x \\right )}$$",
            "text/plain": [
              "sin(x)⋅cos(y) + sin(y)⋅cos(x)"
            ]
          },
          "metadata": {
            "tags": []
          },
          "execution_count": 34
        }
      ]
    },
    {
      "cell_type": "code",
      "metadata": {
        "colab": {
          "base_uri": "https://localhost:8080/",
          "height": 44
        },
        "id": "XagusK0JyiMA",
        "outputId": "70c637b8-17d6-42ac-fc10-f9f9efd9c18a"
      },
      "source": [
        "sp.expand_trig(sp.tan(2*x))"
      ],
      "execution_count": null,
      "outputs": [
        {
          "output_type": "execute_result",
          "data": {
            "image/png": "[encoded data removed]",
            "text/latex": "$$\\frac{2 \\tan{\\left (x \\right )}}{- \\tan^{2}{\\left (x \\right )} + 1}$$",
            "text/plain": [
              "   2⋅tan(x)  \n",
              "─────────────\n",
              "     2       \n",
              "- tan (x) + 1"
            ]
          },
          "metadata": {
            "tags": []
          },
          "execution_count": 35
        }
      ]
    },
    {
      "cell_type": "markdown",
      "metadata": {
        "id": "wmj9ExOcyvcV"
      },
      "source": [
        "##Simplificacion de potencias"
      ]
    },
    {
      "cell_type": "markdown",
      "metadata": {
        "id": "FEKZtYnBy0oM"
      },
      "source": [
        "simplificar $x^ax^b$"
      ]
    },
    {
      "cell_type": "code",
      "metadata": {
        "colab": {
          "base_uri": "https://localhost:8080/",
          "height": 39
        },
        "id": "ycOCth4dy7Pc",
        "outputId": "2914faa3-e6b7-4a53-9799-96ba75fbc5b3"
      },
      "source": [
        "a,b=sp.symbols('a b')\n",
        "sp.powsimp(x**a*x**b)"
      ],
      "execution_count": null,
      "outputs": [
        {
          "output_type": "execute_result",
          "data": {
            "image/png": "[encoded data removed]",
            "text/latex": "$$x^{a + b}$$",
            "text/plain": [
              " a + b\n",
              "x     "
            ]
          },
          "metadata": {
            "tags": []
          },
          "execution_count": 37
        }
      ]
    },
    {
      "cell_type": "code",
      "metadata": {
        "colab": {
          "base_uri": "https://localhost:8080/",
          "height": 39
        },
        "id": "lpfMZnR8zQFn",
        "outputId": "c968d999-fb09-43b3-c03b-2bbbe07642bb"
      },
      "source": [
        "sp.powsimp(x**a*y**a,force=True)"
      ],
      "execution_count": null,
      "outputs": [
        {
          "output_type": "execute_result",
          "data": {
            "image/png": "[encoded data removed]",
            "text/latex": "$$\\left(x y\\right)^{a}$$",
            "text/plain": [
              "     a\n",
              "(x⋅y) "
            ]
          },
          "metadata": {
            "tags": []
          },
          "execution_count": 38
        }
      ]
    },
    {
      "cell_type": "code",
      "metadata": {
        "colab": {
          "base_uri": "https://localhost:8080/",
          "height": 40
        },
        "id": "Q5XUlZDMzg7C",
        "outputId": "bd6fd9cc-7f89-45ad-a14e-4ab44c6f7937"
      },
      "source": [
        "sp.expand_power_exp((x*y)**(a+b))"
      ],
      "execution_count": null,
      "outputs": [
        {
          "output_type": "execute_result",
          "data": {
            "image/png": "[encoded data removed]",
            "text/latex": "$$\\left(x y\\right)^{a} \\left(x y\\right)^{b}$$",
            "text/plain": [
              "     a      b\n",
              "(x⋅y) ⋅(x⋅y) "
            ]
          },
          "metadata": {
            "tags": []
          },
          "execution_count": 44
        }
      ]
    },
    {
      "cell_type": "markdown",
      "metadata": {
        "id": "HsL6sg2lYUvj"
      },
      "source": [
        "##Logaritmos"
      ]
    },
    {
      "cell_type": "code",
      "metadata": {
        "colab": {
          "base_uri": "https://localhost:8080/",
          "height": 39
        },
        "id": "KUG-Xvgv0g1n",
        "outputId": "8189ff8e-2968-4ce9-a263-8e26f2ef205a"
      },
      "source": [
        "sp.expand_log(sp.log(x**2),force=True)"
      ],
      "execution_count": null,
      "outputs": [
        {
          "output_type": "execute_result",
          "data": {
            "image/png": "[encoded data removed]",
            "text/latex": "$$2 \\log{\\left (x \\right )}$$",
            "text/plain": [
              "2⋅log(x)"
            ]
          },
          "metadata": {
            "tags": []
          },
          "execution_count": 45
        }
      ]
    },
    {
      "cell_type": "code",
      "metadata": {
        "colab": {
          "base_uri": "https://localhost:8080/",
          "height": 39
        },
        "id": "WwhTskY50ukE",
        "outputId": "fc908ad3-d099-4312-cc7e-800ef65a6d31"
      },
      "source": [
        "sp.logcombine(sp.log(x)+sp.log(y),force=True)"
      ],
      "execution_count": null,
      "outputs": [
        {
          "output_type": "execute_result",
          "data": {
            "image/png": "[encoded data removed]",
            "text/latex": "$$\\log{\\left (x y \\right )}$$",
            "text/plain": [
              "log(x⋅y)"
            ]
          },
          "metadata": {
            "tags": []
          },
          "execution_count": 46
        }
      ]
    },
    {
      "cell_type": "code",
      "metadata": {
        "colab": {
          "base_uri": "https://localhost:8080/",
          "height": 39
        },
        "id": "SM3AF-Xv09e1",
        "outputId": "cf4f890c-47d1-44b0-f153-5ea6af035645"
      },
      "source": [
        "sp.logcombine(y*sp.log(x),force=True)"
      ],
      "execution_count": null,
      "outputs": [
        {
          "output_type": "execute_result",
          "data": {
            "image/png": "[encoded data removed]",
            "text/latex": "$$\\log{\\left (x^{y} \\right )}$$",
            "text/plain": [
              "   ⎛ y⎞\n",
              "log⎝x ⎠"
            ]
          },
          "metadata": {
            "tags": []
          },
          "execution_count": 47
        }
      ]
    },
    {
      "cell_type": "markdown",
      "metadata": {
        "id": "SZzTvZUjYaux"
      },
      "source": [
        "##Combinatorias"
      ]
    },
    {
      "cell_type": "code",
      "metadata": {
        "colab": {
          "base_uri": "https://localhost:8080/",
          "height": 39
        },
        "id": "9HgzY5ZK1Xbv",
        "outputId": "e4e5e0e0-5c2e-407d-b8f1-1277fa576747"
      },
      "source": [
        "n,k=sp.symbols('n,k')\n",
        "f=sp.binomial(n,k)\n",
        "f"
      ],
      "execution_count": null,
      "outputs": [
        {
          "output_type": "execute_result",
          "data": {
            "image/png": "[encoded data removed]",
            "text/latex": "$${\\binom{n}{k}}$$",
            "text/plain": [
              "⎛n⎞\n",
              "⎜ ⎟\n",
              "⎝k⎠"
            ]
          },
          "metadata": {
            "tags": []
          },
          "execution_count": 49
        }
      ]
    },
    {
      "cell_type": "code",
      "metadata": {
        "colab": {
          "base_uri": "https://localhost:8080/",
          "height": 37
        },
        "id": "9BTCXBYr1oIT",
        "outputId": "6ae2d1b4-bed6-4558-b4d0-aab34504dc30"
      },
      "source": [
        "f.subs(n,3).subs(k,2)"
      ],
      "execution_count": null,
      "outputs": [
        {
          "output_type": "execute_result",
          "data": {
            "image/png": "[encoded data removed]",
            "text/latex": "$$3$$",
            "text/plain": [
              "3"
            ]
          },
          "metadata": {
            "tags": []
          },
          "execution_count": 50
        }
      ]
    },
    {
      "cell_type": "markdown",
      "metadata": {
        "id": "I0RIIgWZ2GtE"
      },
      "source": [
        "##Solucion de ecuaciones lineales y no lineales"
      ]
    },
    {
      "cell_type": "markdown",
      "metadata": {
        "id": "jZVl7XOx2Mwz"
      },
      "source": [
        "resolver la siguiente ecuacion\n",
        "$$3x+10=7$$"
      ]
    },
    {
      "cell_type": "code",
      "metadata": {
        "colab": {
          "base_uri": "https://localhost:8080/",
          "height": 37
        },
        "id": "q7um3kMJLs-A",
        "outputId": "eb09588f-d66d-442b-941f-8071afd20e67"
      },
      "source": [
        "ec=sp.Eq(3*x+10,7)\n",
        "sp.solve(ec,x)"
      ],
      "execution_count": null,
      "outputs": [
        {
          "output_type": "execute_result",
          "data": {
            "image/png": "[encoded data removed]",
            "text/latex": "$$\\left [ -1\\right ]$$",
            "text/plain": [
              "[-1]"
            ]
          },
          "metadata": {
            "tags": []
          },
          "execution_count": 22
        }
      ]
    },
    {
      "cell_type": "markdown",
      "metadata": {
        "id": "d878CMM42b3l"
      },
      "source": [
        "resolver la ecuacion \n",
        "$$x^2-3x+1$$"
      ]
    },
    {
      "cell_type": "code",
      "metadata": {
        "colab": {
          "base_uri": "https://localhost:8080/",
          "height": 47
        },
        "id": "OjuQOqfcMhwE",
        "outputId": "86761c59-3a47-4bcd-d466-9f5f96b2a9c4"
      },
      "source": [
        "ec=x**2-3*x+1\n",
        "sp.solve(ec,x)"
      ],
      "execution_count": null,
      "outputs": [
        {
          "output_type": "execute_result",
          "data": {
            "image/png": "[encoded data removed]",
            "text/latex": "$$\\left [ - \\frac{\\sqrt{5}}{2} + \\frac{3}{2}, \\quad \\frac{\\sqrt{5}}{2} + \\frac{3}{2}\\right ]$$",
            "text/plain": [
              "⎡  √5   3  √5   3⎤\n",
              "⎢- ── + ─, ── + ─⎥\n",
              "⎣  2    2  2    2⎦"
            ]
          },
          "metadata": {
            "tags": []
          },
          "execution_count": 23
        }
      ]
    },
    {
      "cell_type": "markdown",
      "metadata": {
        "id": "KTUi6fDq2oE7"
      },
      "source": [
        "soluciones complejas\n",
        "\n",
        "$$x^2+2$$"
      ]
    },
    {
      "cell_type": "code",
      "metadata": {
        "colab": {
          "base_uri": "https://localhost:8080/",
          "height": 39
        },
        "id": "baZ6z3yRM6-H",
        "outputId": "e1785fef-35f3-467f-fd24-d665ba05a5a8"
      },
      "source": [
        "ec=x**2+2\n",
        "sp.solve(ec,x)"
      ],
      "execution_count": null,
      "outputs": [
        {
          "output_type": "execute_result",
          "data": {
            "image/png": "[encoded data removed]",
            "text/latex": "$$\\left [ - \\sqrt{2} i, \\quad \\sqrt{2} i\\right ]$$",
            "text/plain": [
              "[-√2⋅ⅈ, √2⋅ⅈ]"
            ]
          },
          "metadata": {
            "tags": []
          },
          "execution_count": 24
        }
      ]
    },
    {
      "cell_type": "markdown",
      "metadata": {
        "id": "TnjUijwo2yVb"
      },
      "source": [
        "##solucion de sistemas de ecuaciones"
      ]
    },
    {
      "cell_type": "markdown",
      "metadata": {
        "id": "gs067ZBe23VF"
      },
      "source": [
        "resolver el siguiente sistema\n",
        "\n",
        "$$\n",
        "\\begin{align}\n",
        "x+y+z&=0\\\\\n",
        "2x-y-z&=10\\\\\n",
        "y+2z&=5\n",
        "\\end{align}\n",
        "$$"
      ]
    },
    {
      "cell_type": "code",
      "metadata": {
        "colab": {
          "base_uri": "https://localhost:8080/",
          "height": 39
        },
        "id": "dUE0ImhRNV4z",
        "outputId": "8e2c2515-3fcd-4d68-b433-7408fcb4432e"
      },
      "source": [
        "ec1=sp.Eq(x+y+x,0)\n",
        "ec2=sp.Eq(2*x-y-z,10)\n",
        "ec3=sp.Eq(y+2*z,5)\n",
        "sp.solve([ec1,ec2,ec3],[x,y,z])"
      ],
      "execution_count": null,
      "outputs": [
        {
          "output_type": "execute_result",
          "data": {
            "image/png": "[encoded data removed]",
            "text/latex": "$$\\left \\{ x : \\frac{25}{6}, \\quad y : - \\frac{25}{3}, \\quad z : \\frac{20}{3}\\right \\}$$",
            "text/plain": [
              "{x: 25/6, y: -25/3, z: 20/3}"
            ]
          },
          "metadata": {
            "tags": []
          },
          "execution_count": 25
        }
      ]
    },
    {
      "cell_type": "markdown",
      "metadata": {
        "id": "VVlx2Bey31ci"
      },
      "source": [
        "resolver el siguiente sistema\n",
        "\n",
        "$$\n",
        "\\begin{align}\n",
        "x+2y+5z&=1\\\\\n",
        "3x+4y+6z&=0\\\\\n",
        "-x+3z&=-2\n",
        "\\end{align}\n",
        "$$"
      ]
    },
    {
      "cell_type": "code",
      "metadata": {
        "colab": {
          "base_uri": "https://localhost:8080/",
          "height": 78
        },
        "id": "Wantv2WURCgL",
        "outputId": "22364d05-697d-4115-c43b-47f5f48280aa"
      },
      "source": [
        "A=sp.Matrix([[1,2,5],[3,4,6],[-1,0,3]])\n",
        "A"
      ],
      "execution_count": null,
      "outputs": [
        {
          "output_type": "execute_result",
          "data": {
            "text/latex": "$$\\left[\\begin{matrix}1 & 2 & 5\\\\3 & 4 & 6\\\\-1 & 0 & 3\\end{matrix}\\right]$$",
            "text/plain": [
              "⎡1   2  5⎤\n",
              "⎢        ⎥\n",
              "⎢3   4  6⎥\n",
              "⎢        ⎥\n",
              "⎣-1  0  3⎦"
            ]
          },
          "metadata": {
            "tags": []
          },
          "execution_count": 6
        }
      ]
    },
    {
      "cell_type": "code",
      "metadata": {
        "colab": {
          "base_uri": "https://localhost:8080/",
          "height": 78
        },
        "id": "M4rPwWQSRCTk",
        "outputId": "cda17ed3-f449-41ad-8ca7-b1dad7023675"
      },
      "source": [
        "b=sp.Matrix([1,0,-2])\n",
        "b"
      ],
      "execution_count": null,
      "outputs": [
        {
          "output_type": "execute_result",
          "data": {
            "text/latex": "$$\\left[\\begin{matrix}1\\\\0\\\\-2\\end{matrix}\\right]$$",
            "text/plain": [
              "⎡1 ⎤\n",
              "⎢  ⎥\n",
              "⎢0 ⎥\n",
              "⎢  ⎥\n",
              "⎣-2⎦"
            ]
          },
          "metadata": {
            "tags": []
          },
          "execution_count": 7
        }
      ]
    },
    {
      "cell_type": "markdown",
      "metadata": {
        "id": "pURpBUK75EFV"
      },
      "source": [
        "###inversa"
      ]
    },
    {
      "cell_type": "code",
      "metadata": {
        "colab": {
          "base_uri": "https://localhost:8080/",
          "height": 78
        },
        "id": "RRT6tcPjRCBB",
        "outputId": "5d5105a2-af8b-4af4-cdf2-775bba58df70"
      },
      "source": [
        "A.inv()"
      ],
      "execution_count": null,
      "outputs": [
        {
          "output_type": "execute_result",
          "data": {
            "text/latex": "$$\\left[\\begin{matrix}6 & -3 & -4\\\\- \\frac{15}{2} & 4 & \\frac{9}{2}\\\\2 & -1 & -1\\end{matrix}\\right]$$",
            "text/plain": [
              "⎡  6    -3  -4 ⎤\n",
              "⎢              ⎥\n",
              "⎢-15/2  4   9/2⎥\n",
              "⎢              ⎥\n",
              "⎣  2    -1  -1 ⎦"
            ]
          },
          "metadata": {
            "tags": []
          },
          "execution_count": 39
        }
      ]
    },
    {
      "cell_type": "markdown",
      "metadata": {
        "id": "Ks9QZ9hr5Hck"
      },
      "source": [
        "###inversa multiplicacion"
      ]
    },
    {
      "cell_type": "code",
      "metadata": {
        "colab": {
          "base_uri": "https://localhost:8080/",
          "height": 78
        },
        "id": "EqDFjfCIRiCM",
        "outputId": "124ddc56-ebdf-4a32-b723-83a98fefc445"
      },
      "source": [
        "A.inv()*b"
      ],
      "execution_count": null,
      "outputs": [
        {
          "output_type": "execute_result",
          "data": {
            "text/latex": "$$\\left[\\begin{matrix}14\\\\- \\frac{33}{2}\\\\4\\end{matrix}\\right]$$",
            "text/plain": [
              "⎡ 14  ⎤\n",
              "⎢     ⎥\n",
              "⎢-33/2⎥\n",
              "⎢     ⎥\n",
              "⎣  4  ⎦"
            ]
          },
          "metadata": {
            "tags": []
          },
          "execution_count": 40
        }
      ]
    },
    {
      "cell_type": "markdown",
      "metadata": {
        "id": "Vo85zpTU5Kt1"
      },
      "source": [
        "###descomposicion LU"
      ]
    },
    {
      "cell_type": "code",
      "metadata": {
        "colab": {
          "base_uri": "https://localhost:8080/",
          "height": 78
        },
        "id": "ejPEWURqRslV",
        "outputId": "9e0c4573-9326-465c-c9a8-4978e724ef17"
      },
      "source": [
        "A.LUsolve(b)"
      ],
      "execution_count": null,
      "outputs": [
        {
          "output_type": "execute_result",
          "data": {
            "text/latex": "$$\\left[\\begin{matrix}14\\\\- \\frac{33}{2}\\\\4\\end{matrix}\\right]$$",
            "text/plain": [
              "⎡ 14  ⎤\n",
              "⎢     ⎥\n",
              "⎢-33/2⎥\n",
              "⎢     ⎥\n",
              "⎣  4  ⎦"
            ]
          },
          "metadata": {
            "tags": []
          },
          "execution_count": 41
        }
      ]
    },
    {
      "cell_type": "code",
      "metadata": {
        "colab": {
          "base_uri": "https://localhost:8080/",
          "height": 39
        },
        "id": "W2BVVmCeQtfP",
        "outputId": "9d16959a-de96-4ca7-9d7c-bd506879abae"
      },
      "source": [
        "sistema=A,b\n",
        "sp.linsolve(sistema,[x,y,z])"
      ],
      "execution_count": null,
      "outputs": [
        {
          "output_type": "execute_result",
          "data": {
            "image/png": "[encoded data removed]",
            "text/latex": "$$\\left\\{\\left ( 14, \\quad - \\frac{33}{2}, \\quad 4\\right )\\right\\}$$",
            "text/plain": [
              "{(14, -33/2, 4)}"
            ]
          },
          "metadata": {
            "tags": []
          },
          "execution_count": 10
        }
      ]
    },
    {
      "cell_type": "markdown",
      "metadata": {
        "id": "XPduakEX5Oms"
      },
      "source": [
        "###solucion parametrica"
      ]
    },
    {
      "cell_type": "code",
      "metadata": {
        "colab": {
          "base_uri": "https://localhost:8080/",
          "height": 78
        },
        "id": "8u9Z2pKFSh9X",
        "outputId": "e6740831-6a05-40f9-eb33-80edd4d1adcc"
      },
      "source": [
        "A[0,0]=x\n",
        "A\n"
      ],
      "execution_count": null,
      "outputs": [
        {
          "output_type": "execute_result",
          "data": {
            "text/latex": "$$\\left[\\begin{matrix}x & 2 & 5\\\\3 & 4 & 6\\\\-1 & 0 & 3\\end{matrix}\\right]$$",
            "text/plain": [
              "⎡x   2  5⎤\n",
              "⎢        ⎥\n",
              "⎢3   4  6⎥\n",
              "⎢        ⎥\n",
              "⎣-1  0  3⎦"
            ]
          },
          "metadata": {
            "tags": []
          },
          "execution_count": 6
        }
      ]
    },
    {
      "cell_type": "code",
      "metadata": {
        "colab": {
          "base_uri": "https://localhost:8080/",
          "height": 78
        },
        "id": "vYpWTTq9Sn60",
        "outputId": "99198d30-32b7-460e-808c-416990f906cb"
      },
      "source": [
        "sol=A.inv()*b\n",
        "sol.subs(x,1)"
      ],
      "execution_count": null,
      "outputs": [
        {
          "output_type": "execute_result",
          "data": {
            "text/latex": "$$\\left[\\begin{matrix}14\\\\- \\frac{33}{2}\\\\4\\end{matrix}\\right]$$",
            "text/plain": [
              "⎡ 14  ⎤\n",
              "⎢     ⎥\n",
              "⎢-33/2⎥\n",
              "⎢     ⎥\n",
              "⎣  4  ⎦"
            ]
          },
          "metadata": {
            "tags": []
          },
          "execution_count": 10
        }
      ]
    },
    {
      "cell_type": "markdown",
      "metadata": {
        "id": "Sbpr1TsWJXty"
      },
      "source": [
        "###Sistemas rectangulares"
      ]
    },
    {
      "cell_type": "markdown",
      "metadata": {
        "id": "1YljXqmpJa9I"
      },
      "source": [
        "Resolver el siguiente sistema\n",
        "$$\n",
        "\\begin{align}\n",
        "x+y+z&=1\\\\\n",
        "x+y+2z&=3\n",
        "\\end{align}\n",
        "$$"
      ]
    },
    {
      "cell_type": "code",
      "metadata": {
        "colab": {
          "base_uri": "https://localhost:8080/",
          "height": 39
        },
        "id": "c0MQtssFJ68c",
        "outputId": "fe18eaa5-4725-4083-b2fa-442c136cc682"
      },
      "source": [
        "sp.linsolve([x+y+z-1,x+y+2*z-3],[x,y,z])"
      ],
      "execution_count": null,
      "outputs": [
        {
          "output_type": "execute_result",
          "data": {
            "image/png": "[encoded data removed]",
            "text/latex": "$$\\left\\{\\left ( - y - 1, \\quad y, \\quad 2\\right )\\right\\}$$",
            "text/plain": [
              "{(-y - 1, y, 2)}"
            ]
          },
          "metadata": {
            "tags": []
          },
          "execution_count": 85
        }
      ]
    },
    {
      "cell_type": "code",
      "metadata": {
        "colab": {
          "base_uri": "https://localhost:8080/",
          "height": 39
        },
        "id": "ulSFWzzaLJUD",
        "outputId": "bb491961-9f93-4fc1-be3d-634dd9227024"
      },
      "source": [
        "x1,x2,x3,x4,x5,x6=sp.symbols('x1,x2,x3,x4,x5,x6')\n",
        "sp.linsolve([x1-3*x5,\n",
        "             6*x1-x6,\n",
        "             x2-2*x3,\n",
        "             2*x2-x4,\n",
        "             8*x2-3*x3-2*x4-4*x5-x6],[x1,x2,x3,x4,x5,x6])"
      ],
      "execution_count": null,
      "outputs": [
        {
          "output_type": "execute_result",
          "data": {
            "image/png": "[encoded data removed]",
            "text/latex": "$$\\left\\{\\left ( \\frac{x_{6}}{6}, \\quad \\frac{22 x_{6}}{45}, \\quad \\frac{11 x_{6}}{45}, \\quad \\frac{44 x_{6}}{45}, \\quad \\frac{x_{6}}{18}, \\quad x_{6}\\right )\\right\\}$$",
            "text/plain": [
              "⎧⎛x₆  22⋅x₆  11⋅x₆  44⋅x₆  x₆    ⎞⎫\n",
              "⎨⎜──, ─────, ─────, ─────, ──, x₆⎟⎬\n",
              "⎩⎝6     45     45     45   18    ⎠⎭"
            ]
          },
          "metadata": {
            "tags": []
          },
          "execution_count": 87
        }
      ]
    },
    {
      "cell_type": "markdown",
      "metadata": {
        "id": "Mv93jlgbFt6u"
      },
      "source": [
        "##Serie de Taylor"
      ]
    },
    {
      "cell_type": "code",
      "metadata": {
        "colab": {
          "base_uri": "https://localhost:8080/",
          "height": 47
        },
        "id": "a3tQB-lYKSQz",
        "outputId": "23268a23-9f37-49e4-df8d-fb5b4c9e0992"
      },
      "source": [
        "f=sp.ln(x)\n",
        "answer=sp.series(f,x,x0=1,n=9)\n",
        "display(answer)"
      ],
      "execution_count": null,
      "outputs": [
        {
          "output_type": "display_data",
          "data": {
            "image/png": "[encoded data removed]",
            "text/latex": "$$-1 - \\frac{1}{2} \\left(x - 1\\right)^{2} + \\frac{1}{3} \\left(x - 1\\right)^{3} - \\frac{1}{4} \\left(x - 1\\right)^{4} + \\frac{1}{5} \\left(x - 1\\right)^{5} - \\frac{1}{6} \\left(x - 1\\right)^{6} + \\frac{1}{7} \\left(x - 1\\right)^{7} - \\frac{1}{8} \\left(x - 1\\right)^{8} + x + \\mathcal{O}\\left(\\left(x - 1\\right)^{9}; x\\rightarrow 1\\right)$$",
            "text/plain": [
              "            2          3          4          5          6          7          \n",
              "     (x - 1)    (x - 1)    (x - 1)    (x - 1)    (x - 1)    (x - 1)    (x - 1)\n",
              "-1 - ──────── + ──────── - ──────── + ──────── - ──────── + ──────── - ───────\n",
              "        2          3          4          5          6          7          8   \n",
              "\n",
              "8                         \n",
              "         ⎛       9       ⎞\n",
              "─ + x + O⎝(x - 1) ; x → 1⎠\n",
              "                          "
            ]
          },
          "metadata": {
            "tags": []
          }
        }
      ]
    },
    {
      "cell_type": "code",
      "metadata": {
        "colab": {
          "base_uri": "https://localhost:8080/",
          "height": 41
        },
        "id": "Dwk-mo7EIB05",
        "outputId": "aaddcf73-d4ad-461d-f849-18c235f3a4d0"
      },
      "source": [
        "f=sp.exp(2*x)\n",
        "sp.series(f,x,0,8)"
      ],
      "execution_count": null,
      "outputs": [
        {
          "output_type": "execute_result",
          "data": {
            "image/png": "[encoded data removed]",
            "text/latex": "$$1 + 2 x + 2 x^{2} + \\frac{4 x^{3}}{3} + \\frac{2 x^{4}}{3} + \\frac{4 x^{5}}{15} + \\frac{4 x^{6}}{45} + \\frac{8 x^{7}}{315} + \\mathcal{O}\\left(x^{8}\\right)$$",
            "text/plain": [
              "                    3      4      5      6      7        \n",
              "             2   4⋅x    2⋅x    4⋅x    4⋅x    8⋅x     ⎛ 8⎞\n",
              "1 + 2⋅x + 2⋅x  + ──── + ──── + ──── + ──── + ──── + O⎝x ⎠\n",
              "                  3      3      15     45    315         "
            ]
          },
          "metadata": {
            "tags": []
          },
          "execution_count": 84
        }
      ]
    },
    {
      "cell_type": "markdown",
      "metadata": {
        "id": "SYLfKG-I5oF9"
      },
      "source": [
        "##Derivadas"
      ]
    },
    {
      "cell_type": "markdown",
      "metadata": {
        "id": "mlB9LDzg6DsZ"
      },
      "source": [
        "obtener la derivada de \n",
        "$$f(x)=x^2+cos(x)$$"
      ]
    },
    {
      "cell_type": "code",
      "metadata": {
        "colab": {
          "base_uri": "https://localhost:8080/",
          "height": 39
        },
        "id": "2lw_puLH5rSV",
        "outputId": "b216e0a0-2217-4c8b-82c5-18f57b5800d0"
      },
      "source": [
        "f=x**2+sp.cos(x)\n",
        "f.diff()"
      ],
      "execution_count": null,
      "outputs": [
        {
          "output_type": "execute_result",
          "data": {
            "image/png": "[encoded data removed]",
            "text/latex": "$$2 x - \\sin{\\left (x \\right )}$$",
            "text/plain": [
              "2⋅x - sin(x)"
            ]
          },
          "metadata": {
            "tags": []
          },
          "execution_count": 54
        }
      ]
    },
    {
      "cell_type": "markdown",
      "metadata": {
        "id": "D__3Temq6LPO"
      },
      "source": [
        "obtener la segunda derivada de $$f(x)=x^2+cos(x)$$"
      ]
    },
    {
      "cell_type": "code",
      "metadata": {
        "colab": {
          "base_uri": "https://localhost:8080/",
          "height": 39
        },
        "id": "vfKeVsxg59Sv",
        "outputId": "3449ca55-1f93-4539-befb-f3532b1f91a5"
      },
      "source": [
        "f.diff(x,2)"
      ],
      "execution_count": null,
      "outputs": [
        {
          "output_type": "execute_result",
          "data": {
            "image/png": "[encoded data removed]",
            "text/latex": "$$- \\cos{\\left (x \\right )} + 2$$",
            "text/plain": [
              "-cos(x) + 2"
            ]
          },
          "metadata": {
            "tags": []
          },
          "execution_count": 55
        }
      ]
    },
    {
      "cell_type": "markdown",
      "metadata": {
        "id": "QyvZOApo6aBR"
      },
      "source": [
        "obtener la derivada de $$f(x,y)=x^2y+cos(2y)$$\n",
        "$$\\frac{\\partial f(x,y)}{\\partial x}$$"
      ]
    },
    {
      "cell_type": "code",
      "metadata": {
        "colab": {
          "base_uri": "https://localhost:8080/",
          "height": 39
        },
        "id": "p3v83DoP6xrf",
        "outputId": "e6bbcf6c-b3cd-403b-a76a-06d9d7026a0e"
      },
      "source": [
        "f=x**2*y+sp.cos(2*y)\n",
        "f.diff(x)"
      ],
      "execution_count": null,
      "outputs": [
        {
          "output_type": "execute_result",
          "data": {
            "image/png": "[encoded data removed]",
            "text/latex": "$$2 x y$$",
            "text/plain": [
              "2⋅x⋅y"
            ]
          },
          "metadata": {
            "tags": []
          },
          "execution_count": 69
        }
      ]
    },
    {
      "cell_type": "markdown",
      "metadata": {
        "id": "q0Dq5WdE66nG"
      },
      "source": [
        "$$\\frac{\\partial f(x,y)}{\\partial y}$$"
      ]
    },
    {
      "cell_type": "code",
      "metadata": {
        "colab": {
          "base_uri": "https://localhost:8080/",
          "height": 39
        },
        "id": "VMy4ND0-7EIO",
        "outputId": "3e707ac9-b333-4e11-a19e-4e35f5233910"
      },
      "source": [
        "f.diff(y)"
      ],
      "execution_count": null,
      "outputs": [
        {
          "output_type": "execute_result",
          "data": {
            "image/png": "[encoded data removed]",
            "text/latex": "$$x^{2} - 2 \\sin{\\left (2 y \\right )}$$",
            "text/plain": [
              " 2             \n",
              "x  - 2⋅sin(2⋅y)"
            ]
          },
          "metadata": {
            "tags": []
          },
          "execution_count": 70
        }
      ]
    },
    {
      "cell_type": "code",
      "metadata": {
        "colab": {
          "base_uri": "https://localhost:8080/",
          "height": 39
        },
        "id": "FTzl94Ie7zVI",
        "outputId": "0949595d-8eb4-484c-c944-7df93679d0e2"
      },
      "source": [
        "f.diff(x,y)"
      ],
      "execution_count": null,
      "outputs": [
        {
          "output_type": "execute_result",
          "data": {
            "image/png": "[encoded data removed]",
            "text/latex": "$$2 x$$",
            "text/plain": [
              "2⋅x"
            ]
          },
          "metadata": {
            "tags": []
          },
          "execution_count": 71
        }
      ]
    },
    {
      "cell_type": "markdown",
      "metadata": {
        "id": "Ig6Qt7Ec9Qo4"
      },
      "source": [
        "##Integrales"
      ]
    },
    {
      "cell_type": "markdown",
      "metadata": {
        "id": "OmDI1EVg9S6B"
      },
      "source": [
        "obtener la siguiente integral\n",
        "$$\\int_0^{\\infty}e^{-x}dx$$"
      ]
    },
    {
      "cell_type": "code",
      "metadata": {
        "colab": {
          "base_uri": "https://localhost:8080/",
          "height": 37
        },
        "id": "I6KEy2U79f3-",
        "outputId": "98af9b3c-b805-41fb-b028-044646eb36e1"
      },
      "source": [
        "import numpy as np\n",
        "\n",
        "f=sp.exp(-x)\n",
        "sp.integrate(f,(x,0,np.Inf))"
      ],
      "execution_count": 14,
      "outputs": [
        {
          "output_type": "execute_result",
          "data": {
            "image/png": "[encoded data removed]",
            "text/latex": "$\\displaystyle 1$",
            "text/plain": [
              "1"
            ]
          },
          "metadata": {
            "tags": []
          },
          "execution_count": 14
        }
      ]
    },
    {
      "cell_type": "markdown",
      "metadata": {
        "id": "zbhkMjGx_7Sf"
      },
      "source": [
        "obtener la siguiente integral doble\n",
        "$$\\int_{-\\infty}^{\\infty}\\int_{-\\infty}^{\\infty}e^{-x^2-y^2}dxdy$$"
      ]
    },
    {
      "cell_type": "code",
      "metadata": {
        "colab": {
          "base_uri": "https://localhost:8080/",
          "height": 39
        },
        "id": "GnWUzRsHAXH1",
        "outputId": "adc9e9bb-2c96-46b0-e6ab-2f8e5344389b"
      },
      "source": [
        "f=sp.exp(-x**2-y**2)\n",
        "sp.integrate(f,(x,-np.Inf,np.Inf),(y,-np.Inf,np.Inf))"
      ],
      "execution_count": null,
      "outputs": [
        {
          "output_type": "execute_result",
          "data": {
            "image/png": "[encoded data removed]",
            "text/latex": "$$1.0 \\pi$$",
            "text/plain": [
              "1.0⋅π"
            ]
          },
          "metadata": {
            "tags": []
          },
          "execution_count": 78
        }
      ]
    },
    {
      "cell_type": "markdown",
      "metadata": {
        "id": "gI8TNUp7F1Hh"
      },
      "source": [
        "##Limites"
      ]
    },
    {
      "cell_type": "markdown",
      "metadata": {
        "id": "1rKy2cmiGFT7"
      },
      "source": [
        "obtener el siguiente limite\n",
        "$$\\lim_{x\\to 0^-}\\frac{sin(x)}{x}$$"
      ]
    },
    {
      "cell_type": "code",
      "metadata": {
        "colab": {
          "base_uri": "https://localhost:8080/",
          "height": 37
        },
        "id": "nN0gRI3IJIFD",
        "outputId": "3754073d-3b79-4f66-cdb5-b1ec8a5c2b5b"
      },
      "source": [
        "f=sp.sin(x)/x\n",
        "sp.limit(f,x,0)"
      ],
      "execution_count": null,
      "outputs": [
        {
          "output_type": "execute_result",
          "data": {
            "image/png": "[encoded data removed]",
            "text/latex": "$$1$$",
            "text/plain": [
              "1"
            ]
          },
          "metadata": {
            "tags": []
          },
          "execution_count": 81
        }
      ]
    },
    {
      "cell_type": "markdown",
      "metadata": {
        "id": "myd-hoZXHC2A"
      },
      "source": [
        "obtener el siguiente limite\n",
        "$$\\lim_{x\\to 0^-}\\frac{1}{x}$$"
      ]
    },
    {
      "cell_type": "code",
      "metadata": {
        "colab": {
          "base_uri": "https://localhost:8080/",
          "height": 37
        },
        "id": "iCzCc5_bHJn_",
        "outputId": "3902353f-57c7-4f78-a4e8-e88076b74583"
      },
      "source": [
        "f=1/x\n",
        "sp.limit(f,x,0,dir='-')"
      ],
      "execution_count": null,
      "outputs": [
        {
          "output_type": "execute_result",
          "data": {
            "image/png": "[encoded data removed]",
            "text/latex": "$$-\\infty$$",
            "text/plain": [
              "-∞"
            ]
          },
          "metadata": {
            "tags": []
          },
          "execution_count": 83
        }
      ]
    },
    {
      "cell_type": "markdown",
      "metadata": {
        "id": "t6pa6F__YkKz"
      },
      "source": [
        "##Ecuaciones Diferenciales Ordinarias"
      ]
    },
    {
      "cell_type": "markdown",
      "metadata": {
        "id": "tLcOvAshYtve"
      },
      "source": [
        "###Primer Orden"
      ]
    },
    {
      "cell_type": "markdown",
      "metadata": {
        "id": "qWKq0jnnPYGA"
      },
      "source": [
        "obtenga la solucion de la siguiente ecuacion diferencial\n",
        "$$\n",
        "\\frac{df(x)}{dx}=2xf(x)\n",
        "$$"
      ]
    },
    {
      "cell_type": "code",
      "metadata": {
        "colab": {
          "base_uri": "https://localhost:8080/",
          "height": 40
        },
        "id": "lN1fsg78OWTd",
        "outputId": "7dc32a7d-d3a5-4868-96dc-5097d453f11c"
      },
      "source": [
        "f=sp.Function('f')\n",
        "sol=sp.dsolve(sp.Derivative(f(x),x)-2*x*f(x),f(x))\n",
        "sol"
      ],
      "execution_count": null,
      "outputs": [
        {
          "output_type": "execute_result",
          "data": {
            "image/png": "[encoded data removed]",
            "text/latex": "$$f{\\left (x \\right )} = C_{1} e^{x^{2}}$$",
            "text/plain": [
              "           ⎛ 2⎞\n",
              "           ⎝x ⎠\n",
              "f(x) = C₁⋅ℯ    "
            ]
          },
          "metadata": {
            "tags": []
          },
          "execution_count": 36
        }
      ]
    },
    {
      "cell_type": "markdown",
      "metadata": {
        "id": "Fmo2jygnYypv"
      },
      "source": [
        "###Segundo Orden"
      ]
    },
    {
      "cell_type": "markdown",
      "metadata": {
        "id": "CWY3Gt4HVA39"
      },
      "source": [
        "resolver la siguiente ecuacion diferencial de segundo orden\n",
        "$$\n",
        "f''(x)-2f'(x)+f(x)=sin(x)\n",
        "$$"
      ]
    },
    {
      "cell_type": "code",
      "metadata": {
        "id": "1_jTR50yY_6F"
      },
      "source": [
        "f=sp.Function('f')"
      ],
      "execution_count": null,
      "outputs": []
    },
    {
      "cell_type": "code",
      "metadata": {
        "colab": {
          "base_uri": "https://localhost:8080/",
          "height": 39
        },
        "id": "GnKLJ9zhVeEz",
        "outputId": "77fa8da3-8aa8-4636-87d6-16d51b80733f"
      },
      "source": [
        "f(x)"
      ],
      "execution_count": null,
      "outputs": [
        {
          "output_type": "execute_result",
          "data": {
            "image/png": "[encoded data removed]",
            "text/latex": "$$f{\\left (x \\right )}$$",
            "text/plain": [
              "f(x)"
            ]
          },
          "metadata": {
            "tags": []
          },
          "execution_count": 20
        }
      ]
    },
    {
      "cell_type": "code",
      "metadata": {
        "colab": {
          "base_uri": "https://localhost:8080/",
          "height": 39
        },
        "id": "grckOdPaVl_D",
        "outputId": "d7c17813-47d2-40e1-c63d-4190e9935d83"
      },
      "source": [
        "f(x).diff(x)"
      ],
      "execution_count": null,
      "outputs": [
        {
          "output_type": "execute_result",
          "data": {
            "image/png": "[encoded data removed]",
            "text/latex": "$$\\frac{d}{d x} f{\\left (x \\right )}$$",
            "text/plain": [
              "d       \n",
              "──(f(x))\n",
              "dx      "
            ]
          },
          "metadata": {
            "tags": []
          },
          "execution_count": 21
        }
      ]
    },
    {
      "cell_type": "code",
      "metadata": {
        "colab": {
          "base_uri": "https://localhost:8080/",
          "height": 41
        },
        "id": "5GizO-1-W0RM",
        "outputId": "a018d832-c4d7-475d-c2b3-2894190a7e86"
      },
      "source": [
        "f(x).diff(x,2)"
      ],
      "execution_count": null,
      "outputs": [
        {
          "output_type": "execute_result",
          "data": {
            "image/png": "[encoded data removed]",
            "text/latex": "$$\\frac{d^{2}}{d x^{2}}  f{\\left (x \\right )}$$",
            "text/plain": [
              "  2      \n",
              " d       \n",
              "───(f(x))\n",
              "  2      \n",
              "dx       "
            ]
          },
          "metadata": {
            "tags": []
          },
          "execution_count": 24
        }
      ]
    },
    {
      "cell_type": "code",
      "metadata": {
        "colab": {
          "base_uri": "https://localhost:8080/",
          "height": 39
        },
        "id": "JWwjHacgVqII",
        "outputId": "b334c116-a3cc-4862-ddc3-5aa90b4e20a2"
      },
      "source": [
        "edo=sp.Eq(f(x).diff(x,2)-2*f(x).diff(x)+f(x),sp.sin(x))\n",
        "sp.dsolve(edo,f(x))"
      ],
      "execution_count": null,
      "outputs": [
        {
          "output_type": "execute_result",
          "data": {
            "image/png": "[encoded data removed]",
            "text/latex": "$$f{\\left (x \\right )} = \\left(C_{1} + C_{2} x\\right) e^{x} + \\frac{1}{2} \\cos{\\left (x \\right )}$$",
            "text/plain": [
              "                    x   cos(x)\n",
              "f(x) = (C₁ + C₂⋅x)⋅ℯ  + ──────\n",
              "                          2   "
            ]
          },
          "metadata": {
            "tags": []
          },
          "execution_count": 23
        }
      ]
    },
    {
      "cell_type": "code",
      "metadata": {
        "id": "COjjMtUpWSSM"
      },
      "source": [
        ""
      ],
      "execution_count": null,
      "outputs": []
    }
  ]
}