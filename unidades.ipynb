{
  "nbformat": 4,
  "nbformat_minor": 0,
  "metadata": {
    "colab": {
      "name": "unidades.ipynb",
      "provenance": [],
      "collapsed_sections": [],
      "authorship_tag": "ABX9TyNPzWRcCFE1E/HIIbHCZYBK",
      "include_colab_link": true
    },
    "kernelspec": {
      "name": "python3",
      "display_name": "Python 3"
    }
  },
  "cells": [
    {
      "cell_type": "markdown",
      "metadata": {
        "id": "view-in-github",
        "colab_type": "text"
      },
      "source": [
        "<a href=\"https://colab.research.google.com/github/jcjimenezb123/ProgramacionPython/blob/master/unidades.ipynb\" target=\"_parent\"><img src=\"https://colab.research.google.com/assets/colab-badge.svg\" alt=\"Open In Colab\"/></a>"
      ]
    },
    {
      "cell_type": "code",
      "metadata": {
        "colab": {
          "base_uri": "https://localhost:8080/"
        },
        "id": "IeJ68MSOSTIO",
        "outputId": "e80910b9-6eab-4c5f-d887-d2bf6987894d"
      },
      "source": [
        "!pip install pint"
      ],
      "execution_count": null,
      "outputs": [
        {
          "output_type": "stream",
          "text": [
            "Collecting pint\n",
            "\u001b[?25l  Downloading https://files.pythonhosted.org/packages/5f/0e/dd4fb17aed6bfbc168fd767cffb6ec20b634009b75fd8ea699ea244bff3c/Pint-0.16.1-py2.py3-none-any.whl (205kB)\n",
            "\r\u001b[K     |█▋                              | 10kB 10.7MB/s eta 0:00:01\r\u001b[K     |███▏                            | 20kB 14.0MB/s eta 0:00:01\r\u001b[K     |████▊                           | 30kB 7.9MB/s eta 0:00:01\r\u001b[K     |██████▍                         | 40kB 8.2MB/s eta 0:00:01\r\u001b[K     |████████                        | 51kB 7.0MB/s eta 0:00:01\r\u001b[K     |█████████▌                      | 61kB 7.4MB/s eta 0:00:01\r\u001b[K     |███████████▏                    | 71kB 6.1MB/s eta 0:00:01\r\u001b[K     |████████████▊                   | 81kB 6.1MB/s eta 0:00:01\r\u001b[K     |██████████████▎                 | 92kB 6.3MB/s eta 0:00:01\r\u001b[K     |████████████████                | 102kB 6.4MB/s eta 0:00:01\r\u001b[K     |█████████████████▌              | 112kB 6.4MB/s eta 0:00:01\r\u001b[K     |███████████████████             | 122kB 6.4MB/s eta 0:00:01\r\u001b[K     |████████████████████▊           | 133kB 6.4MB/s eta 0:00:01\r\u001b[K     |██████████████████████▎         | 143kB 6.4MB/s eta 0:00:01\r\u001b[K     |███████████████████████▉        | 153kB 6.4MB/s eta 0:00:01\r\u001b[K     |█████████████████████████▌      | 163kB 6.4MB/s eta 0:00:01\r\u001b[K     |███████████████████████████     | 174kB 6.4MB/s eta 0:00:01\r\u001b[K     |████████████████████████████▋   | 184kB 6.4MB/s eta 0:00:01\r\u001b[K     |██████████████████████████████▎ | 194kB 6.4MB/s eta 0:00:01\r\u001b[K     |███████████████████████████████▉| 204kB 6.4MB/s eta 0:00:01\r\u001b[K     |████████████████████████████████| 215kB 6.4MB/s \n",
            "\u001b[?25hRequirement already satisfied: importlib-metadata; python_version < \"3.8\" in /usr/local/lib/python3.7/dist-packages (from pint) (3.7.2)\n",
            "Requirement already satisfied: packaging in /usr/local/lib/python3.7/dist-packages (from pint) (20.9)\n",
            "Requirement already satisfied: zipp>=0.5 in /usr/local/lib/python3.7/dist-packages (from importlib-metadata; python_version < \"3.8\"->pint) (3.4.1)\n",
            "Requirement already satisfied: typing-extensions>=3.6.4; python_version < \"3.8\" in /usr/local/lib/python3.7/dist-packages (from importlib-metadata; python_version < \"3.8\"->pint) (3.7.4.3)\n",
            "Requirement already satisfied: pyparsing>=2.0.2 in /usr/local/lib/python3.7/dist-packages (from packaging->pint) (2.4.7)\n",
            "Installing collected packages: pint\n",
            "Successfully installed pint-0.16.1\n"
          ],
          "name": "stdout"
        }
      ]
    },
    {
      "cell_type": "markdown",
      "metadata": {
        "id": "mbF648n14-f7"
      },
      "source": [
        "https://github.com/hgrecco/pint/blob/master/pint/default_en.txt"
      ]
    },
    {
      "cell_type": "code",
      "metadata": {
        "id": "clk5k8VoPqxl"
      },
      "source": [
        "import pint"
      ],
      "execution_count": null,
      "outputs": []
    },
    {
      "cell_type": "code",
      "metadata": {
        "id": "Hq6-skSKSRiB"
      },
      "source": [
        "u=pint.UnitRegistry()\n",
        "Q=u.Quantity"
      ],
      "execution_count": null,
      "outputs": []
    },
    {
      "cell_type": "code",
      "metadata": {
        "colab": {
          "base_uri": "https://localhost:8080/"
        },
        "id": "JmRa56IXShNA",
        "outputId": "223b1b59-515d-4852-c3a0-847424428ccc"
      },
      "source": [
        "v=Q(100,'km/hr')\n",
        "print(v)\n",
        "print(v.units)\n",
        "print(v.magnitude)"
      ],
      "execution_count": null,
      "outputs": [
        {
          "output_type": "stream",
          "text": [
            "100 kilometer / hour\n",
            "kilometer / hour\n",
            "100\n"
          ],
          "name": "stdout"
        }
      ]
    },
    {
      "cell_type": "code",
      "metadata": {
        "id": "onTGYLciX-s5",
        "colab": {
          "base_uri": "https://localhost:8080/"
        },
        "outputId": "55b28908-5b84-413b-d061-fa2225839163"
      },
      "source": [
        "v2=Q(50,'m/min')\n",
        "vt=v+v2\n",
        "print(vt)"
      ],
      "execution_count": null,
      "outputs": [
        {
          "output_type": "stream",
          "text": [
            "103.0 kilometer / hour\n"
          ],
          "name": "stdout"
        }
      ]
    },
    {
      "cell_type": "code",
      "metadata": {
        "colab": {
          "base_uri": "https://localhost:8080/",
          "height": 34
        },
        "id": "aRX4pyQvSpF9",
        "outputId": "6a940345-f6ea-4e9e-d7c3-fb937e39a131"
      },
      "source": [
        "vt.to('in/s')"
      ],
      "execution_count": null,
      "outputs": [
        {
          "output_type": "execute_result",
          "data": {
            "text/latex": "$1126.4216972878392\\ \\frac{\\mathrm{inch}}{\\mathrm{second}}$",
            "text/html": [
              "1126.4216972878392 inch/second"
            ],
            "text/plain": [
              "1126.4216972878392 inch/second"
            ]
          },
          "metadata": {
            "tags": []
          },
          "execution_count": 23
        }
      ]
    },
    {
      "cell_type": "code",
      "metadata": {
        "colab": {
          "base_uri": "https://localhost:8080/"
        },
        "id": "FmgLgfngcRVy",
        "outputId": "e56b27cd-18e9-494a-c122-86b5b2274cad"
      },
      "source": [
        "a=Q(3,'m')\n",
        "b=Q(3,'in')\n",
        "print(a+b)"
      ],
      "execution_count": null,
      "outputs": [
        {
          "output_type": "stream",
          "text": [
            "3.0762 meter\n"
          ],
          "name": "stdout"
        }
      ]
    },
    {
      "cell_type": "code",
      "metadata": {
        "colab": {
          "base_uri": "https://localhost:8080/",
          "height": 34
        },
        "id": "u3AY6P6bcxNb",
        "outputId": "c897b3f4-be13-4ffb-8480-69de011f6870"
      },
      "source": [
        "(a+b).to('cm')"
      ],
      "execution_count": null,
      "outputs": [
        {
          "output_type": "execute_result",
          "data": {
            "text/latex": "$307.62\\ \\mathrm{centimeter}$",
            "text/html": [
              "307.62 centimeter"
            ],
            "text/plain": [
              "307.62 centimeter"
            ]
          },
          "metadata": {
            "tags": []
          },
          "execution_count": 26
        }
      ]
    },
    {
      "cell_type": "code",
      "metadata": {
        "colab": {
          "base_uri": "https://localhost:8080/",
          "height": 35
        },
        "id": "VpiNNqv_j75I",
        "outputId": "353d0cbd-58d8-4b5b-e339-64614b27a6b4"
      },
      "source": [
        "T1=Q(50,'degR')\n",
        "T2=Q(100,'°F')\n",
        "(T2-T1).to('celsius')"
      ],
      "execution_count": null,
      "outputs": [
        {
          "output_type": "execute_result",
          "data": {
            "text/latex": "$10.000000000000057\\ \\mathrm{degree\\_Celsius}$",
            "text/html": [
              "10.000000000000057 degree_Celsius"
            ],
            "text/plain": [
              "10.000000000000057 degree_Celsius"
            ]
          },
          "metadata": {
            "tags": []
          },
          "execution_count": 104
        }
      ]
    },
    {
      "cell_type": "code",
      "metadata": {
        "colab": {
          "base_uri": "https://localhost:8080/",
          "height": 35
        },
        "id": "5uOSsB1vls1N",
        "outputId": "849fc492-3b14-4a06-dbcc-016bb909daef"
      },
      "source": [
        "d=Q(100,'km')\n",
        "t=Q(2,'hr')\n",
        "v=d/t\n",
        "v"
      ],
      "execution_count": null,
      "outputs": [
        {
          "output_type": "execute_result",
          "data": {
            "text/latex": "$50.0\\ \\frac{\\mathrm{kilometer}}{\\mathrm{hour}}$",
            "text/html": [
              "50.0 kilometer/hour"
            ],
            "text/plain": [
              "50.0 kilometer/hour"
            ]
          },
          "metadata": {
            "tags": []
          },
          "execution_count": 64
        }
      ]
    },
    {
      "cell_type": "code",
      "metadata": {
        "colab": {
          "base_uri": "https://localhost:8080/",
          "height": 35
        },
        "id": "8hGoXtkSl7Y5",
        "outputId": "e028b40b-8ce4-4544-9fa8-67f94521e181"
      },
      "source": [
        "L1=Q(110,'cm')\n",
        "L2=Q(30,'in')\n",
        "A=L1+L2\n",
        "A.to('m')"
      ],
      "execution_count": null,
      "outputs": [
        {
          "output_type": "execute_result",
          "data": {
            "text/latex": "$1.8619999999999999\\ \\mathrm{meter}$",
            "text/html": [
              "1.8619999999999999 meter"
            ],
            "text/plain": [
              "1.8619999999999999 meter"
            ]
          },
          "metadata": {
            "tags": []
          },
          "execution_count": 10
        }
      ]
    },
    {
      "cell_type": "code",
      "metadata": {
        "id": "-HuDDR9dTYlC"
      },
      "source": [
        "R=Q(0.08205746,'atm l/mol/K')"
      ],
      "execution_count": null,
      "outputs": []
    },
    {
      "cell_type": "code",
      "metadata": {
        "colab": {
          "base_uri": "https://localhost:8080/",
          "height": 35
        },
        "id": "Q8znD2V3ToPq",
        "outputId": "f5910950-3c74-4159-ea46-bb3cbef464d3"
      },
      "source": [
        "R.to('J/(mol K)')"
      ],
      "execution_count": null,
      "outputs": [
        {
          "output_type": "execute_result",
          "data": {
            "text/latex": "$8.314472134500003\\ \\frac{\\mathrm{joule}}{\\left(\\mathrm{kelvin} \\cdot \\mathrm{mole}\\right)}$",
            "text/html": [
              "8.314472134500003 joule/(kelvin mole)"
            ],
            "text/plain": [
              "8.314472134500003 joule/kelvin/mole"
            ]
          },
          "metadata": {
            "tags": []
          },
          "execution_count": 52
        }
      ]
    },
    {
      "cell_type": "code",
      "metadata": {
        "colab": {
          "base_uri": "https://localhost:8080/",
          "height": 35
        },
        "id": "ibLN44SRTyO6",
        "outputId": "e0e8ac1c-ba7a-4e4a-e1ae-87034ac3ae79"
      },
      "source": [
        "R.to('cal/mol/K')"
      ],
      "execution_count": null,
      "outputs": [
        {
          "output_type": "execute_result",
          "data": {
            "text/latex": "$1.987206533102295\\ \\frac{\\mathrm{calorie}}{\\left(\\mathrm{kelvin} \\cdot \\mathrm{mole}\\right)}$",
            "text/html": [
              "1.987206533102295 calorie/(kelvin mole)"
            ],
            "text/plain": [
              "1.987206533102295 calorie/kelvin/mole"
            ]
          },
          "metadata": {
            "tags": []
          },
          "execution_count": 53
        }
      ]
    },
    {
      "cell_type": "code",
      "metadata": {
        "colab": {
          "base_uri": "https://localhost:8080/",
          "height": 35
        },
        "id": "cyLlVu6JUBNJ",
        "outputId": "0650a5dc-7de6-4716-ab17-89ae6ae41763"
      },
      "source": [
        "R.to('mmHg l/mol/K')"
      ],
      "execution_count": null,
      "outputs": [
        {
          "output_type": "execute_result",
          "data": {
            "text/latex": "$62.36366071527869\\ \\frac{\\mathrm{liter} \\cdot \\mathrm{millimeter\\_Hg}}{\\left(\\mathrm{kelvin} \\cdot \\mathrm{mole}\\right)}$",
            "text/html": [
              "62.36366071527869 liter millimeter_Hg/(kelvin mole)"
            ],
            "text/plain": [
              "62.36366071527869 liter·millimeter_Hg/kelvin/mole"
            ]
          },
          "metadata": {
            "tags": []
          },
          "execution_count": 54
        }
      ]
    },
    {
      "cell_type": "markdown",
      "metadata": {
        "id": "k1ol-J4RX4m4"
      },
      "source": [
        "Calcular el trabajo en un proceso isotermico reversible con los siguientes datos\n",
        "* $n=2\\cdot mol$\n",
        "* $T=300\\cdot C$\n",
        "* $R=0.08205746\\cdot atm\\cdot l/mol \\cdot K$\n",
        "* $V_1=1\\cdot l$ \n",
        "* $V_2=0.5\\cdot l$\n",
        "\n",
        "el trabajo se calcula con la siguiente ecuacion\n",
        "$$\n",
        "W=-nRTln\\left(\\frac{V_2}{V_1}\\right)\n",
        "$$\n",
        "expresar el resultado en unidades $joule$"
      ]
    },
    {
      "cell_type": "code",
      "metadata": {
        "id": "VT745h1BV7YM"
      },
      "source": [
        "import math"
      ],
      "execution_count": null,
      "outputs": []
    },
    {
      "cell_type": "code",
      "metadata": {
        "colab": {
          "base_uri": "https://localhost:8080/",
          "height": 35
        },
        "id": "9g7Gl7yKUJbw",
        "outputId": "d620ee1c-81e6-4d83-ffb3-b7e9c3e57a90"
      },
      "source": [
        "R=Q(0.08205746,'atm l/mol/K')\n",
        "V1=Q(1,'l')\n",
        "V2=Q(0.5,'l')\n",
        "n=Q(2,'mol')\n",
        "T=Q(300,'degC')\n",
        "w=-n*R.to('J/mol/K')*T.to('K')*math.log(V2/V1)\n",
        "w"
      ],
      "execution_count": null,
      "outputs": [
        {
          "output_type": "execute_result",
          "data": {
            "text/latex": "$6606.302189757713\\ \\mathrm{joule}$",
            "text/html": [
              "6606.302189757713 joule"
            ],
            "text/plain": [
              "6606.302189757713 joule"
            ]
          },
          "metadata": {
            "tags": []
          },
          "execution_count": 43
        }
      ]
    },
    {
      "cell_type": "markdown",
      "metadata": {
        "id": "9CHKDY5g9evE"
      },
      "source": [
        "https://docs.scipy.org/doc/scipy/reference/constants.html#scipy.constants.physical_constants"
      ]
    },
    {
      "cell_type": "code",
      "metadata": {
        "id": "MiGeuiGKU8AM"
      },
      "source": [
        "import scipy.constants as cons"
      ],
      "execution_count": null,
      "outputs": []
    },
    {
      "cell_type": "code",
      "metadata": {
        "colab": {
          "base_uri": "https://localhost:8080/"
        },
        "id": "0QiMwoSU75-Y",
        "outputId": "ff43318e-422f-4958-c4c9-00457f30ecb5"
      },
      "source": [
        "cons.value(u'molar gas constant')"
      ],
      "execution_count": null,
      "outputs": [
        {
          "output_type": "execute_result",
          "data": {
            "text/plain": [
              "8.314462618"
            ]
          },
          "metadata": {
            "tags": []
          },
          "execution_count": 15
        }
      ]
    },
    {
      "cell_type": "code",
      "metadata": {
        "colab": {
          "base_uri": "https://localhost:8080/",
          "height": 35
        },
        "id": "NWw8ZFui_tiP",
        "outputId": "7af98982-36f3-4484-f8b2-a86333d99774"
      },
      "source": [
        "cons.unit(u'molar gas constant')"
      ],
      "execution_count": null,
      "outputs": [
        {
          "output_type": "execute_result",
          "data": {
            "application/vnd.google.colaboratory.intrinsic+json": {
              "type": "string"
            },
            "text/plain": [
              "'J mol^-1 K^-1'"
            ]
          },
          "metadata": {
            "tags": []
          },
          "execution_count": 16
        }
      ]
    },
    {
      "cell_type": "code",
      "metadata": {
        "colab": {
          "base_uri": "https://localhost:8080/",
          "height": 34
        },
        "id": "J-jFWArg_5-q",
        "outputId": "91dd66f7-7270-4e11-c101-22e77e54b59e"
      },
      "source": [
        "R=Q(cons.value(u'molar gas constant'),\n",
        "    cons.unit(u'molar gas constant')).to('atm l/(mol K)')\n",
        "R"
      ],
      "execution_count": null,
      "outputs": [
        {
          "output_type": "execute_result",
          "data": {
            "text/latex": "$0.08205736607944732\\ \\frac{\\mathrm{liter} \\cdot \\mathrm{standard\\_atmosphere}}{\\left(\\mathrm{kelvin} \\cdot \\mathrm{mole}\\right)}$",
            "text/html": [
              "0.08205736607944732 liter standard_atmosphere/(kelvin mole)"
            ],
            "text/plain": [
              "0.08205736607944732 liter·standard_atmosphere/kelvin/mole"
            ]
          },
          "metadata": {
            "tags": []
          },
          "execution_count": 18
        }
      ]
    },
    {
      "cell_type": "code",
      "metadata": {
        "colab": {
          "base_uri": "https://localhost:8080/"
        },
        "id": "06NGdjX6BXU6",
        "outputId": "5699d0dd-700a-46e0-eb54-709cd824fc8e"
      },
      "source": [
        "cons.value(u'Avogadro constant')"
      ],
      "execution_count": null,
      "outputs": [
        {
          "output_type": "execute_result",
          "data": {
            "text/plain": [
              "6.02214076e+23"
            ]
          },
          "metadata": {
            "tags": []
          },
          "execution_count": 19
        }
      ]
    },
    {
      "cell_type": "code",
      "metadata": {
        "colab": {
          "base_uri": "https://localhost:8080/"
        },
        "id": "yeXze65UnKBi",
        "outputId": "0e57f34b-0af8-4c0c-dc5b-631e75d7e40c"
      },
      "source": [
        "cons.value(u'speed of light in vacuum')"
      ],
      "execution_count": null,
      "outputs": [
        {
          "output_type": "execute_result",
          "data": {
            "text/plain": [
              "299792458.0"
            ]
          },
          "metadata": {
            "tags": []
          },
          "execution_count": 125
        }
      ]
    },
    {
      "cell_type": "code",
      "metadata": {
        "colab": {
          "base_uri": "https://localhost:8080/",
          "height": 35
        },
        "id": "mPanSY358MyM",
        "outputId": "797a8b64-f28a-4708-b1f8-992510e6ae0d"
      },
      "source": [
        "cons.unit(u'speed of light in vacuum')"
      ],
      "execution_count": null,
      "outputs": [
        {
          "output_type": "execute_result",
          "data": {
            "application/vnd.google.colaboratory.intrinsic+json": {
              "type": "string"
            },
            "text/plain": [
              "'m s^-1'"
            ]
          },
          "metadata": {
            "tags": []
          },
          "execution_count": 126
        }
      ]
    },
    {
      "cell_type": "code",
      "metadata": {
        "colab": {
          "base_uri": "https://localhost:8080/",
          "height": 35
        },
        "id": "8LtvooNsnOtB",
        "outputId": "6e47ed59-c607-4d36-fa19-4ef056546e2e"
      },
      "source": [
        "c=Q(cons.value(u'speed of light in vacuum'),\n",
        "    cons.unit(u'speed of light in vacuum'))\n",
        "c"
      ],
      "execution_count": null,
      "outputs": [
        {
          "output_type": "execute_result",
          "data": {
            "text/latex": "$299792458.0\\ \\frac{\\mathrm{meter}}{\\mathrm{second}}$",
            "text/html": [
              "299792458.0 meter/second"
            ],
            "text/plain": [
              "299792458.0 meter/second"
            ]
          },
          "metadata": {
            "tags": []
          },
          "execution_count": 129
        }
      ]
    },
    {
      "cell_type": "code",
      "metadata": {
        "colab": {
          "base_uri": "https://localhost:8080/",
          "height": 35
        },
        "id": "tC1_FwqJnV0F",
        "outputId": "faf8e9d5-bbcf-4359-9c1a-e64fe9b296b2"
      },
      "source": [
        "añosluz=c*Q(1,'year')\n",
        "añosluz.to('km')"
      ],
      "execution_count": null,
      "outputs": [
        {
          "output_type": "execute_result",
          "data": {
            "text/latex": "$9460730472580.8\\ \\mathrm{kilometer}$",
            "text/html": [
              "9460730472580.8 kilometer"
            ],
            "text/plain": [
              "9460730472580.8 kilometer"
            ]
          },
          "metadata": {
            "tags": []
          },
          "execution_count": 135
        }
      ]
    },
    {
      "cell_type": "code",
      "metadata": {
        "colab": {
          "base_uri": "https://localhost:8080/",
          "height": 37
        },
        "id": "4ADtt6MDI49f",
        "outputId": "75b74c35-49da-4910-ba37-72756febb076"
      },
      "source": [
        "g=Q(cons.value('standard acceleration of gravity'),\n",
        "    cons.unit('standard acceleration of gravity'))\n",
        "g"
      ],
      "execution_count": null,
      "outputs": [
        {
          "output_type": "execute_result",
          "data": {
            "text/latex": "$9.80665\\ \\frac{\\mathrm{meter}}{\\mathrm{second}^{2}}$",
            "text/html": [
              "9.80665 meter/second<sup>2</sup>"
            ],
            "text/plain": [
              "9.80665 meter/second²"
            ]
          },
          "metadata": {
            "tags": []
          },
          "execution_count": 130
        }
      ]
    },
    {
      "cell_type": "code",
      "metadata": {
        "colab": {
          "base_uri": "https://localhost:8080/",
          "height": 37
        },
        "id": "dhIfL-_qJi_S",
        "outputId": "9c7b82f2-b39d-4887-accf-668e14b753a9"
      },
      "source": [
        "h=Q(cons.value('Planck constant'),cons.unit('Planck constant'))\n",
        "h"
      ],
      "execution_count": null,
      "outputs": [
        {
          "output_type": "execute_result",
          "data": {
            "text/latex": "$6.62607015\\times 10^{-34}\\ \\frac{\\mathrm{joule}}{\\mathrm{hertz}}$",
            "text/html": [
              "6.62607015×10<sup>-34</sup> joule/hertz"
            ],
            "text/plain": [
              "6.62607015e-34 joule/hertz"
            ]
          },
          "metadata": {
            "tags": []
          },
          "execution_count": 133
        }
      ]
    },
    {
      "cell_type": "code",
      "metadata": {
        "colab": {
          "base_uri": "https://localhost:8080/"
        },
        "id": "U39YJMscoOgE",
        "outputId": "4c1920cf-82a2-4c8d-817e-89fe0d3c587e"
      },
      "source": [
        "!pip install molmass"
      ],
      "execution_count": null,
      "outputs": [
        {
          "output_type": "stream",
          "text": [
            "Collecting molmass\n",
            "\u001b[?25l  Downloading https://files.pythonhosted.org/packages/4a/bc/5faafbf34aba10f7dff23415f8d0ad3507aeb567a3a75906b2ae60a07d02/molmass-2020.6.10-py3-none-any.whl (65kB)\n",
            "\r\u001b[K     |█████                           | 10kB 14.8MB/s eta 0:00:01\r\u001b[K     |██████████                      | 20kB 11.3MB/s eta 0:00:01\r\u001b[K     |███████████████                 | 30kB 8.4MB/s eta 0:00:01\r\u001b[K     |████████████████████            | 40kB 7.1MB/s eta 0:00:01\r\u001b[K     |█████████████████████████       | 51kB 4.3MB/s eta 0:00:01\r\u001b[K     |██████████████████████████████  | 61kB 4.9MB/s eta 0:00:01\r\u001b[K     |████████████████████████████████| 71kB 3.4MB/s \n",
            "\u001b[?25hInstalling collected packages: molmass\n",
            "Successfully installed molmass-2020.6.10\n"
          ],
          "name": "stdout"
        }
      ]
    },
    {
      "cell_type": "markdown",
      "metadata": {
        "id": "lZZ6_pSj7jB8"
      },
      "source": [
        "https://pypi.org/project/molmass/"
      ]
    },
    {
      "cell_type": "markdown",
      "metadata": {
        "id": "kGriEh-YqOmS"
      },
      "source": [
        "Determinar la densidad de $5\\cdot mol$ de $CO_2$ contenidos en un tanque de $3\\cdot l$, exprese las unidades en $kg/l$"
      ]
    },
    {
      "cell_type": "code",
      "metadata": {
        "id": "3bPVM-7qnpR9"
      },
      "source": [
        "from molmass import Formula"
      ],
      "execution_count": null,
      "outputs": []
    },
    {
      "cell_type": "code",
      "metadata": {
        "colab": {
          "base_uri": "https://localhost:8080/"
        },
        "id": "JxqINlVKoKwa",
        "outputId": "a5fbbaa3-0454-474e-a7c7-73741840632a"
      },
      "source": [
        "CO2=Formula('CO2')\n",
        "CO2.mass"
      ],
      "execution_count": null,
      "outputs": [
        {
          "output_type": "execute_result",
          "data": {
            "text/plain": [
              "44.00955"
            ]
          },
          "metadata": {
            "tags": []
          },
          "execution_count": 81
        }
      ]
    },
    {
      "cell_type": "code",
      "metadata": {
        "colab": {
          "base_uri": "https://localhost:8080/"
        },
        "id": "WwtZFkl76bvO",
        "outputId": "7238cea4-7a52-4de2-a3e1-63869d9e8e27"
      },
      "source": [
        "print(CO2.composition())"
      ],
      "execution_count": null,
      "outputs": [
        {
          "output_type": "stream",
          "text": [
            "Element  Number  Relative mass  Fraction %\n",
            "C             1      12.010740     27.2912\n",
            "O             2      31.998810     72.7088\n",
            "Total:        3      44.009550    100.0000\n"
          ],
          "name": "stdout"
        }
      ]
    },
    {
      "cell_type": "code",
      "metadata": {
        "colab": {
          "base_uri": "https://localhost:8080/"
        },
        "id": "M1IDTXa36tFU",
        "outputId": "62ce5249-daf4-4038-9b45-def2f132a2d8"
      },
      "source": [
        "print(CO2.spectrum())"
      ],
      "execution_count": null,
      "outputs": [
        {
          "output_type": "stream",
          "text": [
            "Relative mass    Fraction %      Intensity\n",
            "43.989829         98.449784     100.000000\n",
            "44.993241          1.139810       1.157758\n",
            "45.994081          0.405453       0.411837\n",
            "46.997459          0.004531       0.004602\n",
            "47.998333          0.000417       0.000424\n",
            "49.001674          0.000004       0.000005\n"
          ],
          "name": "stdout"
        }
      ]
    },
    {
      "cell_type": "code",
      "metadata": {
        "colab": {
          "base_uri": "https://localhost:8080/",
          "height": 35
        },
        "id": "CVGOQQ42o-nX",
        "outputId": "874f475d-cab5-4ff2-8304-68011da449c0"
      },
      "source": [
        "masa=Q(CO2.mass,'g/mol')*Q(5,'mol')\n",
        "masa"
      ],
      "execution_count": null,
      "outputs": [
        {
          "output_type": "execute_result",
          "data": {
            "text/latex": "$220.04774999999998\\ \\mathrm{gram}$",
            "text/html": [
              "220.04774999999998 gram"
            ],
            "text/plain": [
              "220.04774999999998 gram"
            ]
          },
          "metadata": {
            "tags": []
          },
          "execution_count": 90
        }
      ]
    },
    {
      "cell_type": "code",
      "metadata": {
        "colab": {
          "base_uri": "https://localhost:8080/",
          "height": 35
        },
        "id": "ojptfPIhp5Xk",
        "outputId": "4e55f7e9-846a-4e51-80de-422960297994"
      },
      "source": [
        "densidad=masa/Q(3,'l')\n",
        "densidad.to('kg/l')"
      ],
      "execution_count": null,
      "outputs": [
        {
          "output_type": "execute_result",
          "data": {
            "text/latex": "$0.07334925\\ \\frac{\\mathrm{kilogram}}{\\mathrm{liter}}$",
            "text/html": [
              "0.07334925 kilogram/liter"
            ],
            "text/plain": [
              "0.07334925 kilogram/liter"
            ]
          },
          "metadata": {
            "tags": []
          },
          "execution_count": 91
        }
      ]
    },
    {
      "cell_type": "code",
      "metadata": {
        "colab": {
          "base_uri": "https://localhost:8080/"
        },
        "id": "DOKHcV6YqHF3",
        "outputId": "ff8d7840-1bd1-493b-d4b5-7445b57660fd"
      },
      "source": [
        "u.define('chafaldrana=1.234m=cha')\n",
        "print(Q(100,'cha').to('cm'))"
      ],
      "execution_count": null,
      "outputs": [
        {
          "output_type": "stream",
          "text": [
            "12340.0 centimeter\n"
          ],
          "name": "stdout"
        }
      ]
    },
    {
      "cell_type": "markdown",
      "metadata": {
        "id": "_JfB1u6xtwhQ"
      },
      "source": [
        "Convertir el enfriamiento de un aire acondicionado de $6,000BTU/hr$ a $kW$"
      ]
    },
    {
      "cell_type": "code",
      "metadata": {
        "id": "9p3pSYCgr2Q8"
      },
      "source": [
        "E=Q(6000,'BTU/hr')"
      ],
      "execution_count": null,
      "outputs": []
    },
    {
      "cell_type": "code",
      "metadata": {
        "colab": {
          "base_uri": "https://localhost:8080/",
          "height": 35
        },
        "id": "QLjVM6-ms1MB",
        "outputId": "a9384c07-db72-4f9b-e89f-61fa8debc075"
      },
      "source": [
        "E.to('kW')"
      ],
      "execution_count": null,
      "outputs": [
        {
          "output_type": "execute_result",
          "data": {
            "text/latex": "$1.7584266666666668\\ \\mathrm{kilowatt}$",
            "text/html": [
              "1.7584266666666668 kilowatt"
            ],
            "text/plain": [
              "1.7584266666666668 kilowatt"
            ]
          },
          "metadata": {
            "tags": []
          },
          "execution_count": 102
        }
      ]
    },
    {
      "cell_type": "code",
      "metadata": {
        "id": "lMz2E5rztE8q",
        "colab": {
          "base_uri": "https://localhost:8080/",
          "height": 1000
        },
        "outputId": "8c5f6673-55da-4310-f7e7-ae27392b6092"
      },
      "source": [
        "!pip install chempy"
      ],
      "execution_count": 1,
      "outputs": [
        {
          "output_type": "stream",
          "text": [
            "Collecting chempy\n",
            "\u001b[?25l  Downloading https://files.pythonhosted.org/packages/3e/14/8b04ef54c9365bdaf062f4b37875171ddb1e8d3a83eecf6ad5a5bee430b3/chempy-0.8.0.tar.gz (402kB)\n",
            "\u001b[K     |████████████████████████████████| 409kB 9.2MB/s \n",
            "\u001b[?25hRequirement already satisfied: numpy>1.11.3 in /usr/local/lib/python3.7/dist-packages (from chempy) (1.19.5)\n",
            "Requirement already satisfied: scipy>=1.0.1 in /usr/local/lib/python3.7/dist-packages (from chempy) (1.4.1)\n",
            "Requirement already satisfied: matplotlib>=2.2.3 in /usr/local/lib/python3.7/dist-packages (from chempy) (3.2.2)\n",
            "Requirement already satisfied: sympy!=1.2,>=1.1.1 in /usr/local/lib/python3.7/dist-packages (from chempy) (1.7.1)\n",
            "Collecting quantities>=0.12.1\n",
            "\u001b[?25l  Downloading https://files.pythonhosted.org/packages/2b/4f/2e8ce7d6c16fb07c43036f8539962322b2bf241e7397e87f318a1aa2f7c4/quantities-0.12.4.tar.gz (83kB)\n",
            "\u001b[K     |████████████████████████████████| 92kB 9.8MB/s \n",
            "\u001b[?25hCollecting pyneqsys>=0.5.5\n",
            "  Downloading https://files.pythonhosted.org/packages/32/2e/e462e8565f1472cc46bebf7a0bca7dc8a452a29dc73c341e4b3f70eaea86/pyneqsys-0.5.7.tar.gz\n",
            "Collecting pyodesys>=0.14.0\n",
            "\u001b[?25l  Downloading https://files.pythonhosted.org/packages/e0/3d/dcd8820b8c51fd3987a7e868ebf395d953c60aae9c6ab3baaa8361f4c9b7/pyodesys-0.14.0.tar.gz (242kB)\n",
            "\u001b[K     |████████████████████████████████| 245kB 20.0MB/s \n",
            "\u001b[?25hRequirement already satisfied: pyparsing>=2.0.3 in /usr/local/lib/python3.7/dist-packages (from chempy) (2.4.7)\n",
            "Collecting sym>=0.3.4\n",
            "  Downloading https://files.pythonhosted.org/packages/f5/07/cc80b30b933c7430597fc884305c499e973f2e4c0a3a6208880ced5cefba/sym-0.3.4.tar.gz\n",
            "Requirement already satisfied: jupyter in /usr/local/lib/python3.7/dist-packages (from chempy) (1.0.0)\n",
            "Collecting pulp>=1.6.8\n",
            "\u001b[?25l  Downloading https://files.pythonhosted.org/packages/14/c4/0eec14a0123209c261de6ff154ef3be5cad3fd557c084f468356662e0585/PuLP-2.4-py3-none-any.whl (40.6MB)\n",
            "\u001b[K     |████████████████████████████████| 40.6MB 74kB/s \n",
            "\u001b[?25hCollecting dot2tex>=2.11.3\n",
            "  Downloading https://files.pythonhosted.org/packages/ca/9e/26e11dfd9762eda401181b4cf388de5421d4ccfdddef0ddc1a8c9256e072/dot2tex-2.11.3-py2.py3-none-any.whl\n",
            "Requirement already satisfied: python-dateutil>=2.1 in /usr/local/lib/python3.7/dist-packages (from matplotlib>=2.2.3->chempy) (2.8.1)\n",
            "Requirement already satisfied: cycler>=0.10 in /usr/local/lib/python3.7/dist-packages (from matplotlib>=2.2.3->chempy) (0.10.0)\n",
            "Requirement already satisfied: kiwisolver>=1.0.1 in /usr/local/lib/python3.7/dist-packages (from matplotlib>=2.2.3->chempy) (1.3.1)\n",
            "Requirement already satisfied: mpmath>=0.19 in /usr/local/lib/python3.7/dist-packages (from sympy!=1.2,>=1.1.1->chempy) (1.2.1)\n",
            "Collecting notebook>=5.7.8\n",
            "\u001b[?25l  Downloading https://files.pythonhosted.org/packages/39/b6/8135d31209691cea4f9e8f4d72e495e0184f45f01946539af9facab3110f/notebook-6.4.0-py3-none-any.whl (9.5MB)\n",
            "\u001b[K     |████████████████████████████████| 9.5MB 35.4MB/s \n",
            "\u001b[?25hRequirement already satisfied: jupyter-console in /usr/local/lib/python3.7/dist-packages (from jupyter->chempy) (5.2.0)\n",
            "Requirement already satisfied: ipywidgets in /usr/local/lib/python3.7/dist-packages (from jupyter->chempy) (7.6.3)\n",
            "Requirement already satisfied: ipykernel in /usr/local/lib/python3.7/dist-packages (from jupyter->chempy) (4.10.1)\n",
            "Requirement already satisfied: qtconsole in /usr/local/lib/python3.7/dist-packages (from jupyter->chempy) (5.1.0)\n",
            "Requirement already satisfied: nbconvert in /usr/local/lib/python3.7/dist-packages (from jupyter->chempy) (5.6.1)\n",
            "Collecting amply>=0.1.2\n",
            "  Downloading https://files.pythonhosted.org/packages/f3/c5/dfa09dd2595a2ab2ab4e6fa7bebef9565812722e1980d04b0edce5032066/amply-0.1.4-py3-none-any.whl\n",
            "Requirement already satisfied: six>=1.5 in /usr/local/lib/python3.7/dist-packages (from python-dateutil>=2.1->matplotlib>=2.2.3->chempy) (1.15.0)\n",
            "Requirement already satisfied: jupyter-core>=4.6.1 in /usr/local/lib/python3.7/dist-packages (from notebook>=5.7.8->pyodesys>=0.14.0->chempy) (4.7.1)\n",
            "Requirement already satisfied: pyzmq>=17 in /usr/local/lib/python3.7/dist-packages (from notebook>=5.7.8->pyodesys>=0.14.0->chempy) (22.1.0)\n",
            "Requirement already satisfied: prometheus-client in /usr/local/lib/python3.7/dist-packages (from notebook>=5.7.8->pyodesys>=0.14.0->chempy) (0.11.0)\n",
            "Requirement already satisfied: traitlets>=4.2.1 in /usr/local/lib/python3.7/dist-packages (from notebook>=5.7.8->pyodesys>=0.14.0->chempy) (5.0.5)\n",
            "Requirement already satisfied: jinja2 in /usr/local/lib/python3.7/dist-packages (from notebook>=5.7.8->pyodesys>=0.14.0->chempy) (2.11.3)\n",
            "Requirement already satisfied: terminado>=0.8.3 in /usr/local/lib/python3.7/dist-packages (from notebook>=5.7.8->pyodesys>=0.14.0->chempy) (0.10.1)\n",
            "Requirement already satisfied: argon2-cffi in /usr/local/lib/python3.7/dist-packages (from notebook>=5.7.8->pyodesys>=0.14.0->chempy) (20.1.0)\n",
            "Requirement already satisfied: ipython-genutils in /usr/local/lib/python3.7/dist-packages (from notebook>=5.7.8->pyodesys>=0.14.0->chempy) (0.2.0)\n",
            "Collecting tornado>=6.1\n",
            "\u001b[?25l  Downloading https://files.pythonhosted.org/packages/91/a8/9c5902233fa3c2e6a889cbd164333ddda5009669f494e3fadbeee2c03af5/tornado-6.1-cp37-cp37m-manylinux2010_x86_64.whl (428kB)\n",
            "\u001b[K     |████████████████████████████████| 430kB 34.5MB/s \n",
            "\u001b[?25hRequirement already satisfied: Send2Trash>=1.5.0 in /usr/local/lib/python3.7/dist-packages (from notebook>=5.7.8->pyodesys>=0.14.0->chempy) (1.5.0)\n",
            "Requirement already satisfied: jupyter-client>=5.3.4 in /usr/local/lib/python3.7/dist-packages (from notebook>=5.7.8->pyodesys>=0.14.0->chempy) (5.3.5)\n",
            "Requirement already satisfied: nbformat in /usr/local/lib/python3.7/dist-packages (from notebook>=5.7.8->pyodesys>=0.14.0->chempy) (5.1.3)\n",
            "Requirement already satisfied: pygments in /usr/local/lib/python3.7/dist-packages (from jupyter-console->jupyter->chempy) (2.6.1)\n",
            "Requirement already satisfied: prompt-toolkit<2.0.0,>=1.0.0 in /usr/local/lib/python3.7/dist-packages (from jupyter-console->jupyter->chempy) (1.0.18)\n",
            "Requirement already satisfied: ipython in /usr/local/lib/python3.7/dist-packages (from jupyter-console->jupyter->chempy) (5.5.0)\n",
            "Requirement already satisfied: jupyterlab-widgets>=1.0.0; python_version >= \"3.6\" in /usr/local/lib/python3.7/dist-packages (from ipywidgets->jupyter->chempy) (1.0.0)\n",
            "Requirement already satisfied: widgetsnbextension~=3.5.0 in /usr/local/lib/python3.7/dist-packages (from ipywidgets->jupyter->chempy) (3.5.1)\n",
            "Requirement already satisfied: qtpy in /usr/local/lib/python3.7/dist-packages (from qtconsole->jupyter->chempy) (1.9.0)\n",
            "Requirement already satisfied: pandocfilters>=1.4.1 in /usr/local/lib/python3.7/dist-packages (from nbconvert->jupyter->chempy) (1.4.3)\n",
            "Requirement already satisfied: mistune<2,>=0.8.1 in /usr/local/lib/python3.7/dist-packages (from nbconvert->jupyter->chempy) (0.8.4)\n",
            "Requirement already satisfied: bleach in /usr/local/lib/python3.7/dist-packages (from nbconvert->jupyter->chempy) (3.3.0)\n",
            "Requirement already satisfied: defusedxml in /usr/local/lib/python3.7/dist-packages (from nbconvert->jupyter->chempy) (0.7.1)\n",
            "Requirement already satisfied: entrypoints>=0.2.2 in /usr/local/lib/python3.7/dist-packages (from nbconvert->jupyter->chempy) (0.3)\n",
            "Requirement already satisfied: testpath in /usr/local/lib/python3.7/dist-packages (from nbconvert->jupyter->chempy) (0.5.0)\n",
            "Requirement already satisfied: docutils>=0.3 in /usr/local/lib/python3.7/dist-packages (from amply>=0.1.2->pulp>=1.6.8->chempy) (0.17.1)\n",
            "Requirement already satisfied: MarkupSafe>=0.23 in /usr/local/lib/python3.7/dist-packages (from jinja2->notebook>=5.7.8->pyodesys>=0.14.0->chempy) (2.0.1)\n",
            "Requirement already satisfied: ptyprocess; os_name != \"nt\" in /usr/local/lib/python3.7/dist-packages (from terminado>=0.8.3->notebook>=5.7.8->pyodesys>=0.14.0->chempy) (0.7.0)\n",
            "Requirement already satisfied: cffi>=1.0.0 in /usr/local/lib/python3.7/dist-packages (from argon2-cffi->notebook>=5.7.8->pyodesys>=0.14.0->chempy) (1.14.5)\n",
            "Requirement already satisfied: jsonschema!=2.5.0,>=2.4 in /usr/local/lib/python3.7/dist-packages (from nbformat->notebook>=5.7.8->pyodesys>=0.14.0->chempy) (2.6.0)\n",
            "Requirement already satisfied: wcwidth in /usr/local/lib/python3.7/dist-packages (from prompt-toolkit<2.0.0,>=1.0.0->jupyter-console->jupyter->chempy) (0.2.5)\n",
            "Requirement already satisfied: setuptools>=18.5 in /usr/local/lib/python3.7/dist-packages (from ipython->jupyter-console->jupyter->chempy) (57.0.0)\n",
            "Requirement already satisfied: decorator in /usr/local/lib/python3.7/dist-packages (from ipython->jupyter-console->jupyter->chempy) (4.4.2)\n",
            "Requirement already satisfied: simplegeneric>0.8 in /usr/local/lib/python3.7/dist-packages (from ipython->jupyter-console->jupyter->chempy) (0.8.1)\n",
            "Requirement already satisfied: pexpect; sys_platform != \"win32\" in /usr/local/lib/python3.7/dist-packages (from ipython->jupyter-console->jupyter->chempy) (4.8.0)\n",
            "Requirement already satisfied: pickleshare in /usr/local/lib/python3.7/dist-packages (from ipython->jupyter-console->jupyter->chempy) (0.7.5)\n",
            "Requirement already satisfied: packaging in /usr/local/lib/python3.7/dist-packages (from bleach->nbconvert->jupyter->chempy) (20.9)\n",
            "Requirement already satisfied: webencodings in /usr/local/lib/python3.7/dist-packages (from bleach->nbconvert->jupyter->chempy) (0.5.1)\n",
            "Requirement already satisfied: pycparser in /usr/local/lib/python3.7/dist-packages (from cffi>=1.0.0->argon2-cffi->notebook>=5.7.8->pyodesys>=0.14.0->chempy) (2.20)\n",
            "Building wheels for collected packages: chempy, quantities, pyneqsys, pyodesys, sym\n",
            "  Building wheel for chempy (setup.py) ... \u001b[?25l\u001b[?25hdone\n",
            "  Created wheel for chempy: filename=chempy-0.8.0-py2.py3-none-any.whl size=207591 sha256=8945ac2861c2679b84269922fd63d11971a92a430a1a6668dd767b13741be94c\n",
            "  Stored in directory: /root/.cache/pip/wheels/7d/52/88/f04c53d1ab0ef121e721edf910e49aa5f21a3a941d860befbf\n",
            "  Building wheel for quantities (setup.py) ... \u001b[?25l\u001b[?25hdone\n",
            "  Created wheel for quantities: filename=quantities-0.12.4-cp37-none-any.whl size=79178 sha256=d385797d0f934152ccf0450e0059173b6e5b1a5e5d033735e264868a8653a207\n",
            "  Stored in directory: /root/.cache/pip/wheels/2c/27/a5/62fb2a57d167d7b7164278de7399ba1504321c1d6c3a3802d5\n",
            "  Building wheel for pyneqsys (setup.py) ... \u001b[?25l\u001b[?25hdone\n",
            "  Created wheel for pyneqsys: filename=pyneqsys-0.5.7-py2.py3-none-any.whl size=27284 sha256=83f4d8de5f50c6c92ee31cdb0b70de771100f2a4a286d98d9efba3aebc4eb585\n",
            "  Stored in directory: /root/.cache/pip/wheels/e8/ae/4e/ab1d94afa5c9e1e7d116b74ece9ee382cbddf36bd1189a3d87\n",
            "  Building wheel for pyodesys (setup.py) ... \u001b[?25l\u001b[?25hdone\n",
            "  Created wheel for pyodesys: filename=pyodesys-0.14.0-py2.py3-none-any.whl size=126205 sha256=d9908f10f88d716fdbb594e2fb92ff06a01bfb7ac66b4bca08d5707157cd359f\n",
            "  Stored in directory: /root/.cache/pip/wheels/ea/6a/b8/d2a7855dc57ec4c378760c58c41a62722e9add2add211701b3\n",
            "  Building wheel for sym (setup.py) ... \u001b[?25l\u001b[?25hdone\n",
            "  Created wheel for sym: filename=sym-0.3.4-py2.py3-none-any.whl size=20838 sha256=3bc2b7aa9ff9e38b5281793327536d35a175fdd239514ad8e2a690e1d6bee230\n",
            "  Stored in directory: /root/.cache/pip/wheels/54/29/cb/99f5eaa94bbaac78e725b1dadae048b551808ce9a15317482a\n",
            "Successfully built chempy quantities pyneqsys pyodesys sym\n",
            "\u001b[31mERROR: google-colab 1.0.0 has requirement notebook~=5.3.0; python_version >= \"3.0\", but you'll have notebook 6.4.0 which is incompatible.\u001b[0m\n",
            "\u001b[31mERROR: google-colab 1.0.0 has requirement tornado~=5.1.0; python_version >= \"3.0\", but you'll have tornado 6.1 which is incompatible.\u001b[0m\n",
            "Installing collected packages: quantities, sym, pyneqsys, tornado, notebook, pyodesys, amply, pulp, dot2tex, chempy\n",
            "  Found existing installation: tornado 5.1.1\n",
            "    Uninstalling tornado-5.1.1:\n",
            "      Successfully uninstalled tornado-5.1.1\n",
            "  Found existing installation: notebook 5.3.1\n",
            "    Uninstalling notebook-5.3.1:\n",
            "      Successfully uninstalled notebook-5.3.1\n",
            "Successfully installed amply-0.1.4 chempy-0.8.0 dot2tex-2.11.3 notebook-6.4.0 pulp-2.4 pyneqsys-0.5.7 pyodesys-0.14.0 quantities-0.12.4 sym-0.3.4 tornado-6.1\n"
          ],
          "name": "stdout"
        },
        {
          "output_type": "display_data",
          "data": {
            "application/vnd.colab-display-data+json": {
              "pip_warning": {
                "packages": [
                  "tornado"
                ]
              }
            }
          },
          "metadata": {
            "tags": []
          }
        }
      ]
    },
    {
      "cell_type": "code",
      "metadata": {
        "id": "2BcYZWg4TeYd"
      },
      "source": [
        "from chempy import Substance"
      ],
      "execution_count": 4,
      "outputs": []
    },
    {
      "cell_type": "code",
      "metadata": {
        "colab": {
          "base_uri": "https://localhost:8080/"
        },
        "id": "d2im3W8TTywG",
        "outputId": "d7971fa2-4367-4bf7-bc22-e644bb6fd3e2"
      },
      "source": [
        "CO2=Substance.from_formula('CO2')\n",
        "CO2.mass*5/3/1000"
      ],
      "execution_count": 8,
      "outputs": [
        {
          "output_type": "execute_result",
          "data": {
            "text/plain": [
              "0.07334833333333335"
            ]
          },
          "metadata": {
            "tags": []
          },
          "execution_count": 8
        }
      ]
    },
    {
      "cell_type": "code",
      "metadata": {
        "colab": {
          "base_uri": "https://localhost:8080/",
          "height": 35
        },
        "id": "9Wu-IfnIUoKi",
        "outputId": "2f1103b8-73c7-4bc8-c4c2-6cb3c6515a13"
      },
      "source": [
        "CO2.unicode_name"
      ],
      "execution_count": 13,
      "outputs": [
        {
          "output_type": "execute_result",
          "data": {
            "application/vnd.google.colaboratory.intrinsic+json": {
              "type": "string"
            },
            "text/plain": [
              "'CO₂'"
            ]
          },
          "metadata": {
            "tags": []
          },
          "execution_count": 13
        }
      ]
    },
    {
      "cell_type": "code",
      "metadata": {
        "id": "6uerHaJ4W7ia"
      },
      "source": [
        "from chempy.util import periodic"
      ],
      "execution_count": 15,
      "outputs": []
    },
    {
      "cell_type": "code",
      "metadata": {
        "colab": {
          "base_uri": "https://localhost:8080/"
        },
        "id": "mic-cx-_XDMb",
        "outputId": "4cdcb61c-ecbd-44b8-e5e6-f042b651dd33"
      },
      "source": [
        "for i in range(20):\n",
        "  print('{num:3} {simbolo:3} {nombre:10} {masa:3.6f}'.format(num=periodic.atomic_number(periodic.names[i]),\n",
        "                          simbolo=periodic.symbols[i],\n",
        "                          nombre=periodic.names[i],\n",
        "                          masa=periodic.relative_atomic_masses[i]))"
      ],
      "execution_count": 38,
      "outputs": [
        {
          "output_type": "stream",
          "text": [
            "  1 H   Hydrogen   1.008000\n",
            "  2 He  Helium     4.002602\n",
            "  3 Li  Lithium    6.940000\n",
            "  4 Be  Beryllium  9.012183\n",
            "  5 B   Boron      10.810000\n",
            "  6 C   Carbon     12.011000\n",
            "  7 N   Nitrogen   14.007000\n",
            "  8 O   Oxygen     15.999000\n",
            "  9 F   Fluorine   18.998403\n",
            " 10 Ne  Neon       20.179700\n",
            " 11 Na  Sodium     22.989769\n",
            " 12 Mg  Magnesium  24.305000\n",
            " 13 Al  Aluminium  26.981538\n",
            " 14 Si  Silicon    28.085000\n",
            " 15 P   Phosphorus 30.973762\n",
            " 16 S   Sulfur     32.060000\n",
            " 17 Cl  Chlorine   35.450000\n",
            " 18 Ar  Argon      39.948000\n",
            " 19 K   Potassium  39.098300\n",
            " 20 Ca  Calcium    40.078000\n"
          ],
          "name": "stdout"
        }
      ]
    },
    {
      "cell_type": "code",
      "metadata": {
        "colab": {
          "base_uri": "https://localhost:8080/"
        },
        "id": "pGIqmdjWXTAf",
        "outputId": "2dfbd521-08c1-4085-8489-af402b1ba994"
      },
      "source": [
        "from chempy import balance_stoichiometry\n",
        "reac, prod = balance_stoichiometry({'H2', 'O2'}, {'H2O'})\n",
        "\n",
        "print('reactivos ',dict(reac))\n",
        "print('productos ',dict(prod))\n",
        "\n",
        "from chempy import mass_fractions\n",
        "for fractions in map(mass_fractions, [reac, prod]):\n",
        "    print({k: '{0:.2%} wt%'.format(v) for k, v in fractions.items()})\n"
      ],
      "execution_count": 45,
      "outputs": [
        {
          "output_type": "stream",
          "text": [
            "reactivos  {'H2': 2, 'O2': 1}\n",
            "productos  {'H2O': 2}\n",
            "{'H2': '11.19% wt%', 'O2': '88.81% wt%'}\n",
            "{'H2O': '100.00% wt%'}\n"
          ],
          "name": "stdout"
        }
      ]
    },
    {
      "cell_type": "code",
      "metadata": {
        "id": "2h9idF_0wiab",
        "outputId": "16a330e6-89aa-4ada-ed90-63482a16f7c8",
        "colab": {
          "base_uri": "https://localhost:8080/"
        }
      },
      "source": [
        "reac, prod = balance_stoichiometry({'AgNO3', 'K2CrO4'}, {'Ag2CrO4','KNO3'})\n",
        "\n",
        "print('reactivos ',dict(reac))\n",
        "print('productos ',dict(prod))"
      ],
      "execution_count": 46,
      "outputs": [
        {
          "output_type": "stream",
          "text": [
            "reactivos  {'AgNO3': 2, 'K2CrO4': 1}\n",
            "productos  {'Ag2CrO4': 1, 'KNO3': 2}\n"
          ],
          "name": "stdout"
        }
      ]
    },
    {
      "cell_type": "code",
      "metadata": {
        "id": "GPu-xYQrxAqM",
        "outputId": "fd07f95c-b77f-4f4b-8a64-d3ab69d907e2",
        "colab": {
          "base_uri": "https://localhost:8080/"
        }
      },
      "source": [
        "reac, prod = balance_stoichiometry({'Pb(N3)2', 'Cr(MnO4)2'}, {'Cr2O3','MnO2','Pb3O4','NO'})\n",
        "\n",
        "print('reactivos ',dict(reac))\n",
        "print('productos ',dict(prod))"
      ],
      "execution_count": 47,
      "outputs": [
        {
          "output_type": "stream",
          "text": [
            "reactivos  {'Cr(MnO4)2': 44, 'Pb(N3)2': 15}\n",
            "productos  {'Cr2O3': 22, 'MnO2': 88, 'NO': 90, 'Pb3O4': 5}\n"
          ],
          "name": "stdout"
        }
      ]
    },
    {
      "cell_type": "code",
      "metadata": {
        "id": "3oGHMrvU5q3B",
        "outputId": "4b9bdbf7-d736-4b39-9664-165cd6afb9b8",
        "colab": {
          "base_uri": "https://localhost:8080/"
        }
      },
      "source": [
        "# importing the module\n",
        "from chempy import chemistry\n",
        "  \n",
        "# creating the reaction\n",
        "reaction = chemistry.Reaction({'H2': 2, 'O2': 1},\n",
        "                              {'H2O': 2})\n",
        "  \n",
        "# displaying the reaction\n",
        "print(reaction)\n",
        "  \n",
        "# displaying the reaction order\n",
        "print(reaction.order())"
      ],
      "execution_count": 52,
      "outputs": [
        {
          "output_type": "stream",
          "text": [
            "2 H2 + O2 -> 2 H2O\n",
            "3\n"
          ],
          "name": "stdout"
        }
      ]
    },
    {
      "cell_type": "code",
      "metadata": {
        "id": "4tlorfeZ8ALe",
        "outputId": "49cefc17-f693-4e1b-c314-eef2fff26dad",
        "colab": {
          "base_uri": "https://localhost:8080/",
          "height": 801
        }
      },
      "source": [
        "from chempy import ReactionSystem  # The rate constants below are arbitrary\n",
        "rsys = ReactionSystem.from_string(\"\"\"2 Fe+2 + H2O2 -> 2 Fe+3 + 2 OH-; 42\n",
        "     2 Fe+3 + H2O2 -> 2 Fe+2 + O2 + 2 H+; 17\n",
        "     H+ + OH- -> H2O; 1e10\n",
        "     H2O -> H+ + OH-; 1e-4\n",
        "     Fe+3 + 2 H2O -> FeOOH(s) + 3 H+; 1\n",
        "     FeOOH(s) + 3 H+ -> Fe+3 + 2 H2O; 2.5\"\"\")  # \"[H2O]\" = 1.0 (actually 55.4 at RT)\n",
        "from chempy.kinetics.ode import get_odesys\n",
        "odesys, extra = get_odesys(rsys)\n",
        "from collections import defaultdict\n",
        "import numpy as np\n",
        "tout = sorted(np.concatenate((np.linspace(0, 23), np.logspace(-8, 1))))\n",
        "c0 = defaultdict(float, {'Fe+2': 0.05, 'H2O2': 0.1, 'H2O': 1.0, 'H+': 1e-7, 'OH-': 1e-7})\n",
        "result = odesys.integrate(tout, c0, atol=1e-12, rtol=1e-14)\n",
        "import matplotlib.pyplot as plt\n",
        "_ = plt.subplot(1, 1, 1)\n",
        "_ = result.plot(names=[k for k in rsys.substances if k != 'H2O'])\n",
        "_ = plt.legend(loc='best', prop={'size': 9}); _ = plt.xlabel('Time'); _ = plt.ylabel('Concentration')\n",
        "_ = plt.subplot(1, 2, 2)\n",
        "_ = result.plot(names=[k for k in rsys.substances if k != 'H2O'], xscale='log', yscale='log')\n",
        "_ = plt.legend(loc='best', prop={'size': 9}); _ = plt.xlabel('Time'); _ = plt.ylabel('Concentration')\n",
        "_ = plt.tight_layout()\n",
        "plt.show() "
      ],
      "execution_count": 58,
      "outputs": [
        {
          "output_type": "display_data",
          "data": {
            "image/png": "[encoded data removed]",
            "text/plain": [
              "<Figure size 432x288 with 1 Axes>"
            ]
          },
          "metadata": {
            "tags": [],
            "needs_background": "light"
          }
        },
        {
          "output_type": "display_data",
          "data": {
            "image/png": "[encoded data removed]",
            "text/plain": [
              "<Figure size 432x288 with 1 Axes>"
            ]
          },
          "metadata": {
            "tags": [],
            "needs_background": "light"
          }
        },
        {
          "output_type": "display_data",
          "data": {
            "image/png": "[encoded data removed]",
            "text/plain": [
              "<Figure size 432x288 with 1 Axes>"
            ]
          },
          "metadata": {
            "tags": [],
            "needs_background": "light"
          }
        }
      ]
    },
    {
      "cell_type": "code",
      "metadata": {
        "id": "xQMEwzjiCmg0",
        "outputId": "d2db84e1-315d-4f31-ccf7-98c5ffdd9d26",
        "colab": {
          "base_uri": "https://localhost:8080/"
        }
      },
      "source": [
        "from math import *\n",
        "nan"
      ],
      "execution_count": 62,
      "outputs": [
        {
          "output_type": "execute_result",
          "data": {
            "text/plain": [
              "0.0"
            ]
          },
          "metadata": {
            "tags": []
          },
          "execution_count": 62
        }
      ]
    }
  ]
}