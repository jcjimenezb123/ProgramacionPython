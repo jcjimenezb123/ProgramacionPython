{
  "nbformat": 4,
  "nbformat_minor": 0,
  "metadata": {
    "colab": {
      "name": "unidades.ipynb",
      "provenance": [],
      "collapsed_sections": [],
      "authorship_tag": "ABX9TyOxznCOnT4ZSOWR9RJ5avFi",
      "include_colab_link": true
    },
    "kernelspec": {
      "name": "python3",
      "display_name": "Python 3"
    }
  },
  "cells": [
    {
      "cell_type": "markdown",
      "metadata": {
        "id": "view-in-github",
        "colab_type": "text"
      },
      "source": [
        "<a href=\"https://colab.research.google.com/github/jcjimenezb123/ProgramacionPython/blob/master/unidades.ipynb\" target=\"_parent\"><img src=\"https://colab.research.google.com/assets/colab-badge.svg\" alt=\"Open In Colab\"/></a>"
      ]
    },
    {
      "cell_type": "code",
      "metadata": {
        "colab": {
          "base_uri": "https://localhost:8080/"
        },
        "id": "IeJ68MSOSTIO",
        "outputId": "098e5e2f-6be7-4f8c-ca15-330fd7b79b3e"
      },
      "source": [
        "!pip install pint"
      ],
      "execution_count": 1,
      "outputs": [
        {
          "output_type": "stream",
          "text": [
            "Collecting pint\n",
            "\u001b[?25l  Downloading https://files.pythonhosted.org/packages/33/de/53a77b82553579affab7438d299f850acbc1c4dd741c5ce52594513cb0ef/Pint-0.17-py2.py3-none-any.whl (204kB)\n",
            "\r\u001b[K     |█▋                              | 10kB 12.6MB/s eta 0:00:01\r\u001b[K     |███▏                            | 20kB 17.7MB/s eta 0:00:01\r\u001b[K     |████▉                           | 30kB 10.8MB/s eta 0:00:01\r\u001b[K     |██████▍                         | 40kB 7.7MB/s eta 0:00:01\r\u001b[K     |████████                        | 51kB 5.1MB/s eta 0:00:01\r\u001b[K     |█████████▋                      | 61kB 5.6MB/s eta 0:00:01\r\u001b[K     |███████████▏                    | 71kB 5.9MB/s eta 0:00:01\r\u001b[K     |████████████▉                   | 81kB 6.4MB/s eta 0:00:01\r\u001b[K     |██████████████▍                 | 92kB 5.7MB/s eta 0:00:01\r\u001b[K     |████████████████                | 102kB 4.9MB/s eta 0:00:01\r\u001b[K     |█████████████████▋              | 112kB 4.9MB/s eta 0:00:01\r\u001b[K     |███████████████████▏            | 122kB 4.9MB/s eta 0:00:01\r\u001b[K     |████████████████████▉           | 133kB 4.9MB/s eta 0:00:01\r\u001b[K     |██████████████████████▍         | 143kB 4.9MB/s eta 0:00:01\r\u001b[K     |████████████████████████        | 153kB 4.9MB/s eta 0:00:01\r\u001b[K     |█████████████████████████▋      | 163kB 4.9MB/s eta 0:00:01\r\u001b[K     |███████████████████████████▏    | 174kB 4.9MB/s eta 0:00:01\r\u001b[K     |████████████████████████████▊   | 184kB 4.9MB/s eta 0:00:01\r\u001b[K     |██████████████████████████████▍ | 194kB 4.9MB/s eta 0:00:01\r\u001b[K     |████████████████████████████████| 204kB 4.9MB/s eta 0:00:01\r\u001b[K     |████████████████████████████████| 215kB 4.9MB/s \n",
            "\u001b[?25hRequirement already satisfied: importlib-metadata; python_version < \"3.8\" in /usr/local/lib/python3.7/dist-packages (from pint) (4.5.0)\n",
            "Requirement already satisfied: packaging in /usr/local/lib/python3.7/dist-packages (from pint) (20.9)\n",
            "Requirement already satisfied: zipp>=0.5 in /usr/local/lib/python3.7/dist-packages (from importlib-metadata; python_version < \"3.8\"->pint) (3.4.1)\n",
            "Requirement already satisfied: typing-extensions>=3.6.4; python_version < \"3.8\" in /usr/local/lib/python3.7/dist-packages (from importlib-metadata; python_version < \"3.8\"->pint) (3.7.4.3)\n",
            "Requirement already satisfied: pyparsing>=2.0.2 in /usr/local/lib/python3.7/dist-packages (from packaging->pint) (2.4.7)\n",
            "Installing collected packages: pint\n",
            "Successfully installed pint-0.17\n"
          ],
          "name": "stdout"
        }
      ]
    },
    {
      "cell_type": "markdown",
      "metadata": {
        "id": "mbF648n14-f7"
      },
      "source": [
        "https://github.com/hgrecco/pint/blob/master/pint/default_en.txt"
      ]
    },
    {
      "cell_type": "code",
      "metadata": {
        "id": "clk5k8VoPqxl"
      },
      "source": [
        "import pint"
      ],
      "execution_count": 3,
      "outputs": []
    },
    {
      "cell_type": "code",
      "metadata": {
        "id": "Hq6-skSKSRiB"
      },
      "source": [
        "u=pint.UnitRegistry()\n",
        "Q=u.Quantity"
      ],
      "execution_count": 4,
      "outputs": []
    },
    {
      "cell_type": "code",
      "metadata": {
        "colab": {
          "base_uri": "https://localhost:8080/"
        },
        "id": "JmRa56IXShNA",
        "outputId": "f2efec92-02f7-40c6-c953-146fb214ded9"
      },
      "source": [
        "v=Q(100,'km/hr')\n",
        "print(v)\n",
        "print(v.units)\n",
        "print(v.magnitude)"
      ],
      "execution_count": 4,
      "outputs": [
        {
          "output_type": "stream",
          "text": [
            "100 kilometer / hour\n",
            "kilometer / hour\n",
            "100\n"
          ],
          "name": "stdout"
        }
      ]
    },
    {
      "cell_type": "code",
      "metadata": {
        "id": "onTGYLciX-s5",
        "colab": {
          "base_uri": "https://localhost:8080/"
        },
        "outputId": "55b28908-5b84-413b-d061-fa2225839163"
      },
      "source": [
        "v2=Q(50,'m/min')\n",
        "vt=v+v2\n",
        "print(vt)"
      ],
      "execution_count": null,
      "outputs": [
        {
          "output_type": "stream",
          "text": [
            "103.0 kilometer / hour\n"
          ],
          "name": "stdout"
        }
      ]
    },
    {
      "cell_type": "code",
      "metadata": {
        "colab": {
          "base_uri": "https://localhost:8080/",
          "height": 34
        },
        "id": "aRX4pyQvSpF9",
        "outputId": "6a940345-f6ea-4e9e-d7c3-fb937e39a131"
      },
      "source": [
        "vt.to('in/s')"
      ],
      "execution_count": null,
      "outputs": [
        {
          "output_type": "execute_result",
          "data": {
            "text/latex": "$1126.4216972878392\\ \\frac{\\mathrm{inch}}{\\mathrm{second}}$",
            "text/html": [
              "1126.4216972878392 inch/second"
            ],
            "text/plain": [
              "1126.4216972878392 inch/second"
            ]
          },
          "metadata": {
            "tags": []
          },
          "execution_count": 23
        }
      ]
    },
    {
      "cell_type": "code",
      "metadata": {
        "colab": {
          "base_uri": "https://localhost:8080/"
        },
        "id": "FmgLgfngcRVy",
        "outputId": "8dcaa07b-0b9e-4e4c-f0c1-c19205ff8e22"
      },
      "source": [
        "a=Q(3,'m')\n",
        "b=Q(3,'in')\n",
        "print(a+b)"
      ],
      "execution_count": 6,
      "outputs": [
        {
          "output_type": "stream",
          "text": [
            "3.0762 meter\n"
          ],
          "name": "stdout"
        }
      ]
    },
    {
      "cell_type": "code",
      "metadata": {
        "colab": {
          "base_uri": "https://localhost:8080/",
          "height": 34
        },
        "id": "u3AY6P6bcxNb",
        "outputId": "c897b3f4-be13-4ffb-8480-69de011f6870"
      },
      "source": [
        "(a+b).to('cm')"
      ],
      "execution_count": null,
      "outputs": [
        {
          "output_type": "execute_result",
          "data": {
            "text/latex": "$307.62\\ \\mathrm{centimeter}$",
            "text/html": [
              "307.62 centimeter"
            ],
            "text/plain": [
              "307.62 centimeter"
            ]
          },
          "metadata": {
            "tags": []
          },
          "execution_count": 26
        }
      ]
    },
    {
      "cell_type": "code",
      "metadata": {
        "id": "ySooH8Kxlcai",
        "outputId": "13dc0955-a3ef-4440-e34f-461dd8bbe971",
        "colab": {
          "base_uri": "https://localhost:8080/",
          "height": 376
        }
      },
      "source": [
        "T1=Q(50,'degR')\n",
        "T2=Q(100,'°F')\n",
        "\n",
        "print(T2+T1)"
      ],
      "execution_count": 9,
      "outputs": [
        {
          "output_type": "error",
          "ename": "OffsetUnitCalculusError",
          "evalue": "ignored",
          "traceback": [
            "\u001b[0;31m---------------------------------------------------------------------------\u001b[0m",
            "\u001b[0;31mOffsetUnitCalculusError\u001b[0m                   Traceback (most recent call last)",
            "\u001b[0;32m<ipython-input-9-3ce1f85ef649>\u001b[0m in \u001b[0;36m<module>\u001b[0;34m()\u001b[0m\n\u001b[1;32m      1\u001b[0m \u001b[0mT1\u001b[0m\u001b[0;34m=\u001b[0m\u001b[0mQ\u001b[0m\u001b[0;34m(\u001b[0m\u001b[0;36m50\u001b[0m\u001b[0;34m,\u001b[0m\u001b[0;34m'degR'\u001b[0m\u001b[0;34m)\u001b[0m\u001b[0;34m\u001b[0m\u001b[0;34m\u001b[0m\u001b[0m\n\u001b[1;32m      2\u001b[0m \u001b[0mT2\u001b[0m\u001b[0;34m=\u001b[0m\u001b[0mQ\u001b[0m\u001b[0;34m(\u001b[0m\u001b[0;36m100\u001b[0m\u001b[0;34m,\u001b[0m\u001b[0;34m'°F'\u001b[0m\u001b[0;34m)\u001b[0m\u001b[0;34m\u001b[0m\u001b[0;34m\u001b[0m\u001b[0m\n\u001b[0;32m----> 3\u001b[0;31m \u001b[0mprint\u001b[0m\u001b[0;34m(\u001b[0m\u001b[0mT2\u001b[0m\u001b[0;34m+\u001b[0m\u001b[0mT1\u001b[0m\u001b[0;34m)\u001b[0m\u001b[0;34m\u001b[0m\u001b[0;34m\u001b[0m\u001b[0m\n\u001b[0m",
            "\u001b[0;32m/usr/local/lib/python3.7/dist-packages/pint/quantity.py\u001b[0m in \u001b[0;36m__add__\u001b[0;34m(self, other)\u001b[0m\n\u001b[1;32m   1076\u001b[0m             \u001b[0;32mreturn\u001b[0m \u001b[0mself\u001b[0m\u001b[0;34m.\u001b[0m\u001b[0mto_timedelta\u001b[0m\u001b[0;34m(\u001b[0m\u001b[0;34m)\u001b[0m \u001b[0;34m+\u001b[0m \u001b[0mother\u001b[0m\u001b[0;34m\u001b[0m\u001b[0;34m\u001b[0m\u001b[0m\n\u001b[1;32m   1077\u001b[0m         \u001b[0;32melse\u001b[0m\u001b[0;34m:\u001b[0m\u001b[0;34m\u001b[0m\u001b[0;34m\u001b[0m\u001b[0m\n\u001b[0;32m-> 1078\u001b[0;31m             \u001b[0;32mreturn\u001b[0m \u001b[0mself\u001b[0m\u001b[0;34m.\u001b[0m\u001b[0m_add_sub\u001b[0m\u001b[0;34m(\u001b[0m\u001b[0mother\u001b[0m\u001b[0;34m,\u001b[0m \u001b[0moperator\u001b[0m\u001b[0;34m.\u001b[0m\u001b[0madd\u001b[0m\u001b[0;34m)\u001b[0m\u001b[0;34m\u001b[0m\u001b[0;34m\u001b[0m\u001b[0m\n\u001b[0m\u001b[1;32m   1079\u001b[0m \u001b[0;34m\u001b[0m\u001b[0m\n\u001b[1;32m   1080\u001b[0m     \u001b[0m__radd__\u001b[0m \u001b[0;34m=\u001b[0m \u001b[0m__add__\u001b[0m\u001b[0;34m\u001b[0m\u001b[0;34m\u001b[0m\u001b[0m\n",
            "\u001b[0;32m/usr/local/lib/python3.7/dist-packages/pint/quantity.py\u001b[0m in \u001b[0;36mwrapped\u001b[0;34m(self, *args, **kwargs)\u001b[0m\n\u001b[1;32m    113\u001b[0m         \u001b[0;32melif\u001b[0m \u001b[0misinstance\u001b[0m\u001b[0;34m(\u001b[0m\u001b[0mother\u001b[0m\u001b[0;34m,\u001b[0m \u001b[0mlist\u001b[0m\u001b[0;34m)\u001b[0m \u001b[0;32mand\u001b[0m \u001b[0mother\u001b[0m \u001b[0;32mand\u001b[0m \u001b[0misinstance\u001b[0m\u001b[0;34m(\u001b[0m\u001b[0mother\u001b[0m\u001b[0;34m[\u001b[0m\u001b[0;36m0\u001b[0m\u001b[0;34m]\u001b[0m\u001b[0;34m,\u001b[0m \u001b[0mtype\u001b[0m\u001b[0;34m(\u001b[0m\u001b[0mself\u001b[0m\u001b[0;34m)\u001b[0m\u001b[0;34m)\u001b[0m\u001b[0;34m:\u001b[0m\u001b[0;34m\u001b[0m\u001b[0;34m\u001b[0m\u001b[0m\n\u001b[1;32m    114\u001b[0m             \u001b[0;32mreturn\u001b[0m \u001b[0mNotImplemented\u001b[0m\u001b[0;34m\u001b[0m\u001b[0;34m\u001b[0m\u001b[0m\n\u001b[0;32m--> 115\u001b[0;31m         \u001b[0;32mreturn\u001b[0m \u001b[0mf\u001b[0m\u001b[0;34m(\u001b[0m\u001b[0mself\u001b[0m\u001b[0;34m,\u001b[0m \u001b[0;34m*\u001b[0m\u001b[0margs\u001b[0m\u001b[0;34m,\u001b[0m \u001b[0;34m**\u001b[0m\u001b[0mkwargs\u001b[0m\u001b[0;34m)\u001b[0m\u001b[0;34m\u001b[0m\u001b[0;34m\u001b[0m\u001b[0m\n\u001b[0m\u001b[1;32m    116\u001b[0m \u001b[0;34m\u001b[0m\u001b[0m\n\u001b[1;32m    117\u001b[0m     \u001b[0;32mreturn\u001b[0m \u001b[0mwrapped\u001b[0m\u001b[0;34m\u001b[0m\u001b[0;34m\u001b[0m\u001b[0m\n",
            "\u001b[0;32m/usr/local/lib/python3.7/dist-packages/pint/quantity.py\u001b[0m in \u001b[0;36m_add_sub\u001b[0;34m(self, other, op)\u001b[0m\n\u001b[1;32m   1060\u001b[0m             \u001b[0munits\u001b[0m \u001b[0;34m=\u001b[0m \u001b[0mother\u001b[0m\u001b[0;34m.\u001b[0m\u001b[0m_units\u001b[0m\u001b[0;34m\u001b[0m\u001b[0;34m\u001b[0m\u001b[0m\n\u001b[1;32m   1061\u001b[0m         \u001b[0;32melse\u001b[0m\u001b[0;34m:\u001b[0m\u001b[0;34m\u001b[0m\u001b[0;34m\u001b[0m\u001b[0m\n\u001b[0;32m-> 1062\u001b[0;31m             \u001b[0;32mraise\u001b[0m \u001b[0mOffsetUnitCalculusError\u001b[0m\u001b[0;34m(\u001b[0m\u001b[0mself\u001b[0m\u001b[0;34m.\u001b[0m\u001b[0m_units\u001b[0m\u001b[0;34m,\u001b[0m \u001b[0mother\u001b[0m\u001b[0;34m.\u001b[0m\u001b[0m_units\u001b[0m\u001b[0;34m)\u001b[0m\u001b[0;34m\u001b[0m\u001b[0;34m\u001b[0m\u001b[0m\n\u001b[0m\u001b[1;32m   1063\u001b[0m \u001b[0;34m\u001b[0m\u001b[0m\n\u001b[1;32m   1064\u001b[0m         \u001b[0;32mreturn\u001b[0m \u001b[0mself\u001b[0m\u001b[0;34m.\u001b[0m\u001b[0m__class__\u001b[0m\u001b[0;34m(\u001b[0m\u001b[0mmagnitude\u001b[0m\u001b[0;34m,\u001b[0m \u001b[0munits\u001b[0m\u001b[0;34m)\u001b[0m\u001b[0;34m\u001b[0m\u001b[0;34m\u001b[0m\u001b[0m\n",
            "\u001b[0;31mOffsetUnitCalculusError\u001b[0m: Ambiguous operation with offset unit (degree_Fahrenheit, degree_Rankine). See https://pint.readthedocs.io/en/latest/nonmult.html for guidance."
          ]
        }
      ]
    },
    {
      "cell_type": "code",
      "metadata": {
        "colab": {
          "base_uri": "https://localhost:8080/",
          "height": 35
        },
        "id": "VpiNNqv_j75I",
        "outputId": "1f8caa45-9d1b-4973-e735-50388791d42d"
      },
      "source": [
        "T1=Q(50,'degR')\n",
        "T2=Q(100,'°F')\n",
        "(T2-T1).to('celsius')"
      ],
      "execution_count": 10,
      "outputs": [
        {
          "output_type": "execute_result",
          "data": {
            "text/latex": "$10.000000000000057\\ \\mathrm{degree\\_Celsius}$",
            "text/html": [
              "10.000000000000057 degree_Celsius"
            ],
            "text/plain": [
              "10.000000000000057 degree_Celsius"
            ]
          },
          "metadata": {
            "tags": []
          },
          "execution_count": 10
        }
      ]
    },
    {
      "cell_type": "markdown",
      "metadata": {
        "id": "smFG3DV_niY2"
      },
      "source": [
        "Suponga un que tiene un trozo de aluminio de 3 kg de masa. Inicialmente está a 20 °C y se desea elevar su temperatura hasta 100 °C. Calcule el calor sensible necesario.\n",
        "\n",
        "Solución\n",
        "En primer lugar necesitamos conocer el calor específico del aluminio\n",
        "\n",
        "cp = 0,897 J / ( g °C)\n",
        "\n",
        "Entonces, la cantidad de calor necesaria para calentar el trozo de aluminio será\n",
        "\n",
        "Q = cp m (Tf – Ti)"
      ]
    },
    {
      "cell_type": "code",
      "metadata": {
        "id": "J-2nrEDem1Di",
        "outputId": "3e49396b-0680-48a7-8c5c-29a1646b83e2",
        "colab": {
          "base_uri": "https://localhost:8080/",
          "height": 35
        }
      },
      "source": [
        "u=pint.UnitRegistry(autoconvert_offset_to_baseunit = False)\n",
        "\n",
        "Q=u.Quantity\n",
        "\n",
        "cp=Q(0.897,'J/(g degC)')\n",
        "m=Q(3,'kg')\n",
        "T1=Q(20,'degC')\n",
        "T2=Q(100,'degC')\n",
        "calor=m*cp*(T2-T1)\n",
        "calor.to('kJ')"
      ],
      "execution_count": 28,
      "outputs": [
        {
          "output_type": "execute_result",
          "data": {
            "text/latex": "$215.27999999999997\\ \\mathrm{kilojoule}$",
            "text/html": [
              "215.27999999999997 kilojoule"
            ],
            "text/plain": [
              "215.27999999999997 kilojoule"
            ]
          },
          "metadata": {
            "tags": []
          },
          "execution_count": 28
        }
      ]
    },
    {
      "cell_type": "code",
      "metadata": {
        "colab": {
          "base_uri": "https://localhost:8080/",
          "height": 35
        },
        "id": "5uOSsB1vls1N",
        "outputId": "28cfec40-3bef-42bf-e1d4-24848c711aca"
      },
      "source": [
        "d=Q(100,'km')\n",
        "t=Q(2,'hr')\n",
        "v=d/t\n",
        "v.to('m/s')"
      ],
      "execution_count": 17,
      "outputs": [
        {
          "output_type": "execute_result",
          "data": {
            "text/latex": "$13.88888888888889\\ \\frac{\\mathrm{meter}}{\\mathrm{second}}$",
            "text/html": [
              "13.88888888888889 meter/second"
            ],
            "text/plain": [
              "13.88888888888889 meter/second"
            ]
          },
          "metadata": {
            "tags": []
          },
          "execution_count": 17
        }
      ]
    },
    {
      "cell_type": "code",
      "metadata": {
        "colab": {
          "base_uri": "https://localhost:8080/",
          "height": 35
        },
        "id": "8hGoXtkSl7Y5",
        "outputId": "e028b40b-8ce4-4544-9fa8-67f94521e181"
      },
      "source": [
        "L1=Q(110,'cm')\n",
        "L2=Q(30,'in')\n",
        "A=L1+L2\n",
        "A.to('m')"
      ],
      "execution_count": null,
      "outputs": [
        {
          "output_type": "execute_result",
          "data": {
            "text/latex": "$1.8619999999999999\\ \\mathrm{meter}$",
            "text/html": [
              "1.8619999999999999 meter"
            ],
            "text/plain": [
              "1.8619999999999999 meter"
            ]
          },
          "metadata": {
            "tags": []
          },
          "execution_count": 10
        }
      ]
    },
    {
      "cell_type": "code",
      "metadata": {
        "id": "-HuDDR9dTYlC",
        "colab": {
          "base_uri": "https://localhost:8080/"
        },
        "outputId": "0dce1310-535a-4342-e335-3f1830506079"
      },
      "source": [
        "R=Q(0.08205746,'atm l/(mol K)')\n",
        "\n",
        "print(R.to('J/(mol K)'))\n",
        "print(R.to('cal/mol/K'))\n",
        "print(R.to('mmHg l/mol/K'))"
      ],
      "execution_count": 23,
      "outputs": [
        {
          "output_type": "stream",
          "text": [
            "8.314472134500003 joule / kelvin / mole\n",
            "1.987206533102295 calorie / kelvin / mole\n",
            "62.36366071527869 liter * millimeter_Hg / kelvin / mole\n"
          ],
          "name": "stdout"
        }
      ]
    },
    {
      "cell_type": "code",
      "metadata": {
        "colab": {
          "base_uri": "https://localhost:8080/",
          "height": 35
        },
        "id": "Q8znD2V3ToPq",
        "outputId": "84b590ca-aed0-4e66-8f06-a41f4f6313cb"
      },
      "source": [
        ""
      ],
      "execution_count": 19,
      "outputs": [
        {
          "output_type": "execute_result",
          "data": {
            "text/latex": "$8.314472134500003\\ \\frac{\\mathrm{joule}}{\\left(\\mathrm{kelvin} \\cdot \\mathrm{mole}\\right)}$",
            "text/html": [
              "8.314472134500003 joule/(kelvin mole)"
            ],
            "text/plain": [
              "8.314472134500003 joule/kelvin/mole"
            ]
          },
          "metadata": {
            "tags": []
          },
          "execution_count": 19
        }
      ]
    },
    {
      "cell_type": "code",
      "metadata": {
        "colab": {
          "base_uri": "https://localhost:8080/",
          "height": 35
        },
        "id": "ibLN44SRTyO6",
        "outputId": "4af1de19-f0fe-43bf-9523-d4d52020ab37"
      },
      "source": [
        ""
      ],
      "execution_count": 20,
      "outputs": [
        {
          "output_type": "execute_result",
          "data": {
            "text/latex": "$1.987206533102295\\ \\frac{\\mathrm{calorie}}{\\left(\\mathrm{kelvin} \\cdot \\mathrm{mole}\\right)}$",
            "text/html": [
              "1.987206533102295 calorie/(kelvin mole)"
            ],
            "text/plain": [
              "1.987206533102295 calorie/kelvin/mole"
            ]
          },
          "metadata": {
            "tags": []
          },
          "execution_count": 20
        }
      ]
    },
    {
      "cell_type": "code",
      "metadata": {
        "colab": {
          "base_uri": "https://localhost:8080/",
          "height": 35
        },
        "id": "cyLlVu6JUBNJ",
        "outputId": "c0f6cf16-bfe7-4735-fc08-7c843afa2f4d"
      },
      "source": [
        ""
      ],
      "execution_count": 21,
      "outputs": [
        {
          "output_type": "execute_result",
          "data": {
            "text/latex": "$62.36366071527869\\ \\frac{\\mathrm{liter} \\cdot \\mathrm{millimeter\\_Hg}}{\\left(\\mathrm{kelvin} \\cdot \\mathrm{mole}\\right)}$",
            "text/html": [
              "62.36366071527869 liter millimeter_Hg/(kelvin mole)"
            ],
            "text/plain": [
              "62.36366071527869 liter·millimeter_Hg/kelvin/mole"
            ]
          },
          "metadata": {
            "tags": []
          },
          "execution_count": 21
        }
      ]
    },
    {
      "cell_type": "markdown",
      "metadata": {
        "id": "k1ol-J4RX4m4"
      },
      "source": [
        "Calcular el trabajo en un proceso isotermico reversible con los siguientes datos\n",
        "* $n=2\\cdot mol$\n",
        "* $T=300\\cdot C$\n",
        "* $R=0.08205746\\cdot atm\\cdot l/mol \\cdot K$\n",
        "* $V_1=1\\cdot l$ \n",
        "* $V_2=0.5\\cdot l$\n",
        "\n",
        "el trabajo se calcula con la siguiente ecuacion\n",
        "$$\n",
        "W=-nRTln\\left(\\frac{V_2}{V_1}\\right)\n",
        "$$\n",
        "expresar el resultado en unidades $joule$"
      ]
    },
    {
      "cell_type": "code",
      "metadata": {
        "id": "VT745h1BV7YM"
      },
      "source": [
        "import math\n",
        "import pint\n",
        "\n",
        "u=pint.UnitRegistry(autoconvert_offset_to_baseunit = True)\n",
        "\n",
        "Q=u.Quantity"
      ],
      "execution_count": 19,
      "outputs": []
    },
    {
      "cell_type": "code",
      "metadata": {
        "colab": {
          "base_uri": "https://localhost:8080/",
          "height": 35
        },
        "id": "9g7Gl7yKUJbw",
        "outputId": "df7856b1-3d64-46f2-a90c-f52d3dc0fa85"
      },
      "source": [
        "R=Q(0.08205746,'atm l/mol/K')\n",
        "V1=Q(1,'l')\n",
        "V2=Q(0.5,'l')\n",
        "n=Q(2,'mol')\n",
        "T=Q(300,'degC')\n",
        "w=-n*R*T*math.log(V2/V1)\n",
        "w.to('J')"
      ],
      "execution_count": 23,
      "outputs": [
        {
          "output_type": "execute_result",
          "data": {
            "text/latex": "$6606.302189757713\\ \\mathrm{joule}$",
            "text/html": [
              "6606.302189757713 joule"
            ],
            "text/plain": [
              "6606.302189757713 joule"
            ]
          },
          "metadata": {
            "tags": []
          },
          "execution_count": 23
        }
      ]
    },
    {
      "cell_type": "markdown",
      "metadata": {
        "id": "VyMSMJfr1HBX"
      },
      "source": [
        "un coche acelera a velocidad constante de 18,5 m/s a 46,1 m/s en 2,47 segundos ¿cuál es su aceleración media?\n",
        "Escribe la ecuación: a = Δv / Δt = (vf – vi)/(tf – ti).\n",
        "Define las variables: vf = 46,1 m/s, vi = 18,5 m/s, tf = 2,47 s, ti = 0 s.\n",
        "Resuelve: a = (46,1 – 18,5)/2,47 = 11,17 metros/segundo2."
      ]
    },
    {
      "cell_type": "code",
      "metadata": {
        "id": "kld-Bx_B1GBe",
        "outputId": "c09547dd-8222-4355-9c4a-84b37163ef66",
        "colab": {
          "base_uri": "https://localhost:8080/",
          "height": 37
        }
      },
      "source": [
        "vi=Q(18.5,'m/s')\n",
        "vf=Q(46.1,'m/s')\n",
        "\n",
        "ti=Q(0,'s')\n",
        "tf=Q(2.47,'s')\n",
        "\n",
        "a=(vf-vi)/(tf-ti)\n",
        "a"
      ],
      "execution_count": 12,
      "outputs": [
        {
          "output_type": "execute_result",
          "data": {
            "text/latex": "$11.17408906882591\\ \\frac{\\mathrm{meter}}{\\mathrm{second}^{2}}$",
            "text/html": [
              "11.17408906882591 meter/second<sup>2</sup>"
            ],
            "text/plain": [
              "11.17408906882591 meter/second²"
            ]
          },
          "metadata": {
            "tags": []
          },
          "execution_count": 12
        }
      ]
    },
    {
      "cell_type": "markdown",
      "metadata": {
        "id": "9CHKDY5g9evE"
      },
      "source": [
        "https://docs.scipy.org/doc/scipy/reference/constants.html#scipy.constants.physical_constants"
      ]
    },
    {
      "cell_type": "code",
      "metadata": {
        "id": "MiGeuiGKU8AM"
      },
      "source": [
        "import scipy.constants as cons"
      ],
      "execution_count": 10,
      "outputs": []
    },
    {
      "cell_type": "code",
      "metadata": {
        "colab": {
          "base_uri": "https://localhost:8080/"
        },
        "id": "0QiMwoSU75-Y",
        "outputId": "ff43318e-422f-4958-c4c9-00457f30ecb5"
      },
      "source": [
        "cons.value(u'molar gas constant')"
      ],
      "execution_count": null,
      "outputs": [
        {
          "output_type": "execute_result",
          "data": {
            "text/plain": [
              "8.314462618"
            ]
          },
          "metadata": {
            "tags": []
          },
          "execution_count": 15
        }
      ]
    },
    {
      "cell_type": "code",
      "metadata": {
        "colab": {
          "base_uri": "https://localhost:8080/",
          "height": 35
        },
        "id": "NWw8ZFui_tiP",
        "outputId": "7af98982-36f3-4484-f8b2-a86333d99774"
      },
      "source": [
        "cons.unit(u'molar gas constant')"
      ],
      "execution_count": null,
      "outputs": [
        {
          "output_type": "execute_result",
          "data": {
            "application/vnd.google.colaboratory.intrinsic+json": {
              "type": "string"
            },
            "text/plain": [
              "'J mol^-1 K^-1'"
            ]
          },
          "metadata": {
            "tags": []
          },
          "execution_count": 16
        }
      ]
    },
    {
      "cell_type": "code",
      "metadata": {
        "colab": {
          "base_uri": "https://localhost:8080/",
          "height": 34
        },
        "id": "J-jFWArg_5-q",
        "outputId": "91dd66f7-7270-4e11-c101-22e77e54b59e"
      },
      "source": [
        "R=Q(cons.value(u'molar gas constant'),\n",
        "    cons.unit(u'molar gas constant')).to('atm l/(mol K)')\n",
        "R"
      ],
      "execution_count": null,
      "outputs": [
        {
          "output_type": "execute_result",
          "data": {
            "text/latex": "$0.08205736607944732\\ \\frac{\\mathrm{liter} \\cdot \\mathrm{standard\\_atmosphere}}{\\left(\\mathrm{kelvin} \\cdot \\mathrm{mole}\\right)}$",
            "text/html": [
              "0.08205736607944732 liter standard_atmosphere/(kelvin mole)"
            ],
            "text/plain": [
              "0.08205736607944732 liter·standard_atmosphere/kelvin/mole"
            ]
          },
          "metadata": {
            "tags": []
          },
          "execution_count": 18
        }
      ]
    },
    {
      "cell_type": "code",
      "metadata": {
        "colab": {
          "base_uri": "https://localhost:8080/",
          "height": 37
        },
        "id": "06NGdjX6BXU6",
        "outputId": "3f836c96-9b7f-40dc-d73f-89fa7f169a7f"
      },
      "source": [
        "NA=Q(cons.value('Avogadro constant'),\n",
        "    cons.unit('Avogadro constant'))\n",
        "NA"
      ],
      "execution_count": 11,
      "outputs": [
        {
          "output_type": "execute_result",
          "data": {
            "text/latex": "$6.02214076\\times 10^{23}\\ \\frac{1}{\\mathrm{mole}}$",
            "text/html": [
              "6.02214076×10<sup>23</sup> 1/mole"
            ],
            "text/plain": [
              "6.02214076e+23 1/mole"
            ]
          },
          "metadata": {
            "tags": []
          },
          "execution_count": 11
        }
      ]
    },
    {
      "cell_type": "code",
      "metadata": {
        "colab": {
          "base_uri": "https://localhost:8080/"
        },
        "id": "yeXze65UnKBi",
        "outputId": "0e57f34b-0af8-4c0c-dc5b-631e75d7e40c"
      },
      "source": [
        "cons.value(u'speed of light in vacuum')"
      ],
      "execution_count": null,
      "outputs": [
        {
          "output_type": "execute_result",
          "data": {
            "text/plain": [
              "299792458.0"
            ]
          },
          "metadata": {
            "tags": []
          },
          "execution_count": 125
        }
      ]
    },
    {
      "cell_type": "code",
      "metadata": {
        "colab": {
          "base_uri": "https://localhost:8080/",
          "height": 35
        },
        "id": "mPanSY358MyM",
        "outputId": "797a8b64-f28a-4708-b1f8-992510e6ae0d"
      },
      "source": [
        "cons.unit(u'speed of light in vacuum')"
      ],
      "execution_count": null,
      "outputs": [
        {
          "output_type": "execute_result",
          "data": {
            "application/vnd.google.colaboratory.intrinsic+json": {
              "type": "string"
            },
            "text/plain": [
              "'m s^-1'"
            ]
          },
          "metadata": {
            "tags": []
          },
          "execution_count": 126
        }
      ]
    },
    {
      "cell_type": "code",
      "metadata": {
        "colab": {
          "base_uri": "https://localhost:8080/",
          "height": 35
        },
        "id": "8LtvooNsnOtB",
        "outputId": "ee8c728a-14d2-4f21-c4a9-3a2e1c53dff8"
      },
      "source": [
        "c=Q(cons.value(u'speed of light in vacuum'),\n",
        "    cons.unit(u'speed of light in vacuum'))\n",
        "c"
      ],
      "execution_count": 39,
      "outputs": [
        {
          "output_type": "execute_result",
          "data": {
            "text/latex": "$299792458.0\\ \\frac{\\mathrm{meter}}{\\mathrm{second}}$",
            "text/html": [
              "299792458.0 meter/second"
            ],
            "text/plain": [
              "299792458.0 meter/second"
            ]
          },
          "metadata": {
            "tags": []
          },
          "execution_count": 39
        }
      ]
    },
    {
      "cell_type": "code",
      "metadata": {
        "colab": {
          "base_uri": "https://localhost:8080/",
          "height": 37
        },
        "id": "tC1_FwqJnV0F",
        "outputId": "6a76339e-a1f4-4974-f43f-a346452990c6"
      },
      "source": [
        "distancia=c*Q(100000,'year')\n",
        "distancia.to('km')"
      ],
      "execution_count": 15,
      "outputs": [
        {
          "output_type": "execute_result",
          "data": {
            "text/latex": "$9.460730472580801\\times 10^{17}\\ \\mathrm{kilometer}$",
            "text/html": [
              "9.460730472580801×10<sup>17</sup> kilometer"
            ],
            "text/plain": [
              "9.460730472580801e+17 kilometer"
            ]
          },
          "metadata": {
            "tags": []
          },
          "execution_count": 15
        }
      ]
    },
    {
      "cell_type": "code",
      "metadata": {
        "colab": {
          "base_uri": "https://localhost:8080/",
          "height": 37
        },
        "id": "4ADtt6MDI49f",
        "outputId": "75b74c35-49da-4910-ba37-72756febb076"
      },
      "source": [
        "g=Q(cons.value('standard acceleration of gravity'),\n",
        "    cons.unit('standard acceleration of gravity'))\n",
        "g"
      ],
      "execution_count": null,
      "outputs": [
        {
          "output_type": "execute_result",
          "data": {
            "text/latex": "$9.80665\\ \\frac{\\mathrm{meter}}{\\mathrm{second}^{2}}$",
            "text/html": [
              "9.80665 meter/second<sup>2</sup>"
            ],
            "text/plain": [
              "9.80665 meter/second²"
            ]
          },
          "metadata": {
            "tags": []
          },
          "execution_count": 130
        }
      ]
    },
    {
      "cell_type": "code",
      "metadata": {
        "colab": {
          "base_uri": "https://localhost:8080/",
          "height": 146
        },
        "id": "dhIfL-_qJi_S",
        "outputId": "75c6d26c-0548-4884-fdff-0744a85235a1"
      },
      "source": [
        "from math import pi,exp\n",
        "import pint\n",
        "\n",
        "u=pint.UnitRegistry(autoconvert_offset_to_baseunit = True)\n",
        "Q=u.Quantity\n",
        "\n",
        "c=Q(cons.value(u'speed of light in vacuum'),\n",
        "    cons.unit(u'speed of light in vacuum'))\n",
        "h=Q(cons.value('Planck constant'),cons.unit('Planck constant')).to('J s')\n",
        "k=Q(cons.value('Boltzmann constant'),cons.unit('Boltzmann constant')).to('J/degK')\n",
        "T=Q(527,'degC')\n",
        "lam=Q(2,'um').to('m')\n",
        "\n",
        "E=2*pi*h*c**2/lam**5/(exp(h*c/(k*lam*T))-1)\n",
        "\n",
        "print(f'c={c}\\nh={h}\\nk={k}\\nT={T}\\nlam={lam}\\nE={E}')\n",
        "E.to('Mwatt/m**3')"
      ],
      "execution_count": 74,
      "outputs": [
        {
          "output_type": "stream",
          "text": [
            "c=299792458.0 meter / second\n",
            "h=6.62607015e-34 joule * second\n",
            "k=1.380649e-23 joule / kelvin\n",
            "T=527 degree_Celsius\n",
            "lam=2e-06 meter\n",
            "E=1456743782.9138536 joule / meter ** 3 / second\n"
          ],
          "name": "stdout"
        },
        {
          "output_type": "execute_result",
          "data": {
            "text/latex": "$1456.7437829138537\\ \\frac{\\mathrm{megawatt}}{\\mathrm{meter}^{3}}$",
            "text/html": [
              "1456.7437829138537 megawatt/meter<sup>3</sup>"
            ],
            "text/plain": [
              "1456.7437829138537 megawatt/meter³"
            ]
          },
          "metadata": {
            "tags": []
          },
          "execution_count": 74
        }
      ]
    },
    {
      "cell_type": "code",
      "metadata": {
        "id": "KbgFT3HGMQsP",
        "outputId": "7201a76c-f521-4821-b29f-b9a79ef8e1b7",
        "colab": {
          "base_uri": "https://localhost:8080/",
          "height": 37
        }
      },
      "source": [
        "\n",
        "k"
      ],
      "execution_count": 38,
      "outputs": [
        {
          "output_type": "execute_result",
          "data": {
            "text/latex": "$1.380649\\times 10^{-23}\\ \\frac{\\mathrm{joule}}{\\mathrm{kelvin}}$",
            "text/html": [
              "1.380649×10<sup>-23</sup> joule/kelvin"
            ],
            "text/plain": [
              "1.380649e-23 joule/kelvin"
            ]
          },
          "metadata": {
            "tags": []
          },
          "execution_count": 38
        }
      ]
    },
    {
      "cell_type": "code",
      "metadata": {
        "colab": {
          "base_uri": "https://localhost:8080/"
        },
        "id": "U39YJMscoOgE",
        "outputId": "4c1920cf-82a2-4c8d-817e-89fe0d3c587e"
      },
      "source": [
        "!pip install molmass"
      ],
      "execution_count": null,
      "outputs": [
        {
          "output_type": "stream",
          "text": [
            "Collecting molmass\n",
            "\u001b[?25l  Downloading https://files.pythonhosted.org/packages/4a/bc/5faafbf34aba10f7dff23415f8d0ad3507aeb567a3a75906b2ae60a07d02/molmass-2020.6.10-py3-none-any.whl (65kB)\n",
            "\r\u001b[K     |█████                           | 10kB 14.8MB/s eta 0:00:01\r\u001b[K     |██████████                      | 20kB 11.3MB/s eta 0:00:01\r\u001b[K     |███████████████                 | 30kB 8.4MB/s eta 0:00:01\r\u001b[K     |████████████████████            | 40kB 7.1MB/s eta 0:00:01\r\u001b[K     |█████████████████████████       | 51kB 4.3MB/s eta 0:00:01\r\u001b[K     |██████████████████████████████  | 61kB 4.9MB/s eta 0:00:01\r\u001b[K     |████████████████████████████████| 71kB 3.4MB/s \n",
            "\u001b[?25hInstalling collected packages: molmass\n",
            "Successfully installed molmass-2020.6.10\n"
          ],
          "name": "stdout"
        }
      ]
    },
    {
      "cell_type": "markdown",
      "metadata": {
        "id": "lZZ6_pSj7jB8"
      },
      "source": [
        "https://pypi.org/project/molmass/"
      ]
    },
    {
      "cell_type": "markdown",
      "metadata": {
        "id": "kGriEh-YqOmS"
      },
      "source": [
        "Determinar la densidad de $5\\cdot mol$ de $CO_2$ contenidos en un tanque de $3\\cdot l$, exprese las unidades en $kg/l$"
      ]
    },
    {
      "cell_type": "code",
      "metadata": {
        "id": "3bPVM-7qnpR9"
      },
      "source": [
        "from molmass import Formula"
      ],
      "execution_count": null,
      "outputs": []
    },
    {
      "cell_type": "code",
      "metadata": {
        "colab": {
          "base_uri": "https://localhost:8080/"
        },
        "id": "JxqINlVKoKwa",
        "outputId": "a5fbbaa3-0454-474e-a7c7-73741840632a"
      },
      "source": [
        "CO2=Formula('CO2')\n",
        "CO2.mass"
      ],
      "execution_count": null,
      "outputs": [
        {
          "output_type": "execute_result",
          "data": {
            "text/plain": [
              "44.00955"
            ]
          },
          "metadata": {
            "tags": []
          },
          "execution_count": 81
        }
      ]
    },
    {
      "cell_type": "code",
      "metadata": {
        "colab": {
          "base_uri": "https://localhost:8080/"
        },
        "id": "WwtZFkl76bvO",
        "outputId": "7238cea4-7a52-4de2-a3e1-63869d9e8e27"
      },
      "source": [
        "print(CO2.composition())"
      ],
      "execution_count": null,
      "outputs": [
        {
          "output_type": "stream",
          "text": [
            "Element  Number  Relative mass  Fraction %\n",
            "C             1      12.010740     27.2912\n",
            "O             2      31.998810     72.7088\n",
            "Total:        3      44.009550    100.0000\n"
          ],
          "name": "stdout"
        }
      ]
    },
    {
      "cell_type": "code",
      "metadata": {
        "colab": {
          "base_uri": "https://localhost:8080/"
        },
        "id": "M1IDTXa36tFU",
        "outputId": "62ce5249-daf4-4038-9b45-def2f132a2d8"
      },
      "source": [
        "print(CO2.spectrum())"
      ],
      "execution_count": null,
      "outputs": [
        {
          "output_type": "stream",
          "text": [
            "Relative mass    Fraction %      Intensity\n",
            "43.989829         98.449784     100.000000\n",
            "44.993241          1.139810       1.157758\n",
            "45.994081          0.405453       0.411837\n",
            "46.997459          0.004531       0.004602\n",
            "47.998333          0.000417       0.000424\n",
            "49.001674          0.000004       0.000005\n"
          ],
          "name": "stdout"
        }
      ]
    },
    {
      "cell_type": "code",
      "metadata": {
        "colab": {
          "base_uri": "https://localhost:8080/",
          "height": 35
        },
        "id": "CVGOQQ42o-nX",
        "outputId": "874f475d-cab5-4ff2-8304-68011da449c0"
      },
      "source": [
        "masa=Q(CO2.mass,'g/mol')*Q(5,'mol')\n",
        "masa"
      ],
      "execution_count": null,
      "outputs": [
        {
          "output_type": "execute_result",
          "data": {
            "text/latex": "$220.04774999999998\\ \\mathrm{gram}$",
            "text/html": [
              "220.04774999999998 gram"
            ],
            "text/plain": [
              "220.04774999999998 gram"
            ]
          },
          "metadata": {
            "tags": []
          },
          "execution_count": 90
        }
      ]
    },
    {
      "cell_type": "code",
      "metadata": {
        "colab": {
          "base_uri": "https://localhost:8080/",
          "height": 35
        },
        "id": "ojptfPIhp5Xk",
        "outputId": "4e55f7e9-846a-4e51-80de-422960297994"
      },
      "source": [
        "densidad=masa/Q(3,'l')\n",
        "densidad.to('kg/l')"
      ],
      "execution_count": null,
      "outputs": [
        {
          "output_type": "execute_result",
          "data": {
            "text/latex": "$0.07334925\\ \\frac{\\mathrm{kilogram}}{\\mathrm{liter}}$",
            "text/html": [
              "0.07334925 kilogram/liter"
            ],
            "text/plain": [
              "0.07334925 kilogram/liter"
            ]
          },
          "metadata": {
            "tags": []
          },
          "execution_count": 91
        }
      ]
    },
    {
      "cell_type": "code",
      "metadata": {
        "colab": {
          "base_uri": "https://localhost:8080/"
        },
        "id": "DOKHcV6YqHF3",
        "outputId": "27559354-904f-4bd1-b371-0a129aab08f1"
      },
      "source": [
        "u.define('docena=12count=doce')\n",
        "print(Q(123,'doce').to('count'))"
      ],
      "execution_count": 6,
      "outputs": [
        {
          "output_type": "stream",
          "text": [
            "1476 count\n"
          ],
          "name": "stdout"
        }
      ]
    },
    {
      "cell_type": "code",
      "metadata": {
        "id": "F3742fKgkrB1",
        "outputId": "61742db8-a059-45d7-ca6a-c51b2d6c4a01",
        "colab": {
          "base_uri": "https://localhost:8080/"
        }
      },
      "source": [
        "u.define('codo=45.72cm=cod')\n",
        "print(Q(123,'cod').to('in'))"
      ],
      "execution_count": 8,
      "outputs": [
        {
          "output_type": "stream",
          "text": [
            "2214.0 inch\n"
          ],
          "name": "stdout"
        }
      ]
    },
    {
      "cell_type": "markdown",
      "metadata": {
        "id": "_JfB1u6xtwhQ"
      },
      "source": [
        "Convertir el enfriamiento de un aire acondicionado de $6,000BTU/hr$ a $kW$"
      ]
    },
    {
      "cell_type": "code",
      "metadata": {
        "id": "9p3pSYCgr2Q8"
      },
      "source": [
        "E=Q(6000,'BTU/hr')"
      ],
      "execution_count": null,
      "outputs": []
    },
    {
      "cell_type": "code",
      "metadata": {
        "colab": {
          "base_uri": "https://localhost:8080/",
          "height": 35
        },
        "id": "QLjVM6-ms1MB",
        "outputId": "a9384c07-db72-4f9b-e89f-61fa8debc075"
      },
      "source": [
        "E.to('kW')"
      ],
      "execution_count": null,
      "outputs": [
        {
          "output_type": "execute_result",
          "data": {
            "text/latex": "$1.7584266666666668\\ \\mathrm{kilowatt}$",
            "text/html": [
              "1.7584266666666668 kilowatt"
            ],
            "text/plain": [
              "1.7584266666666668 kilowatt"
            ]
          },
          "metadata": {
            "tags": []
          },
          "execution_count": 102
        }
      ]
    },
    {
      "cell_type": "code",
      "metadata": {
        "id": "lMz2E5rztE8q",
        "colab": {
          "base_uri": "https://localhost:8080/",
          "height": 1000
        },
        "outputId": "a9ca5976-6407-4385-ac2a-63e8bf880bb7"
      },
      "source": [
        "!pip install chempy"
      ],
      "execution_count": 1,
      "outputs": [
        {
          "output_type": "stream",
          "text": [
            "Collecting chempy\n",
            "\u001b[?25l  Downloading https://files.pythonhosted.org/packages/3e/14/8b04ef54c9365bdaf062f4b37875171ddb1e8d3a83eecf6ad5a5bee430b3/chempy-0.8.0.tar.gz (402kB)\n",
            "\u001b[K     |████████████████████████████████| 409kB 30.6MB/s \n",
            "\u001b[?25hRequirement already satisfied: numpy>1.11.3 in /usr/local/lib/python3.7/dist-packages (from chempy) (1.19.5)\n",
            "Requirement already satisfied: scipy>=1.0.1 in /usr/local/lib/python3.7/dist-packages (from chempy) (1.4.1)\n",
            "Requirement already satisfied: matplotlib>=2.2.3 in /usr/local/lib/python3.7/dist-packages (from chempy) (3.2.2)\n",
            "Requirement already satisfied: sympy!=1.2,>=1.1.1 in /usr/local/lib/python3.7/dist-packages (from chempy) (1.7.1)\n",
            "Collecting quantities>=0.12.1\n",
            "\u001b[?25l  Downloading https://files.pythonhosted.org/packages/2b/4f/2e8ce7d6c16fb07c43036f8539962322b2bf241e7397e87f318a1aa2f7c4/quantities-0.12.4.tar.gz (83kB)\n",
            "\u001b[K     |████████████████████████████████| 92kB 11.1MB/s \n",
            "\u001b[?25hCollecting pyneqsys>=0.5.5\n",
            "  Downloading https://files.pythonhosted.org/packages/32/2e/e462e8565f1472cc46bebf7a0bca7dc8a452a29dc73c341e4b3f70eaea86/pyneqsys-0.5.7.tar.gz\n",
            "Collecting pyodesys>=0.14.0\n",
            "\u001b[?25l  Downloading https://files.pythonhosted.org/packages/e0/3d/dcd8820b8c51fd3987a7e868ebf395d953c60aae9c6ab3baaa8361f4c9b7/pyodesys-0.14.0.tar.gz (242kB)\n",
            "\u001b[K     |████████████████████████████████| 245kB 31.9MB/s \n",
            "\u001b[?25hRequirement already satisfied: pyparsing>=2.0.3 in /usr/local/lib/python3.7/dist-packages (from chempy) (2.4.7)\n",
            "Collecting sym>=0.3.4\n",
            "  Downloading https://files.pythonhosted.org/packages/d2/ed/c06685333acaa3ea4ef301daae784ecc5f60c6ccd288cb84e03e1244acc2/sym-0.3.5.tar.gz\n",
            "Requirement already satisfied: jupyter in /usr/local/lib/python3.7/dist-packages (from chempy) (1.0.0)\n",
            "Collecting pulp>=1.6.8\n",
            "\u001b[?25l  Downloading https://files.pythonhosted.org/packages/14/c4/0eec14a0123209c261de6ff154ef3be5cad3fd557c084f468356662e0585/PuLP-2.4-py3-none-any.whl (40.6MB)\n",
            "\u001b[K     |████████████████████████████████| 40.6MB 74kB/s \n",
            "\u001b[?25hCollecting dot2tex>=2.11.3\n",
            "  Downloading https://files.pythonhosted.org/packages/ca/9e/26e11dfd9762eda401181b4cf388de5421d4ccfdddef0ddc1a8c9256e072/dot2tex-2.11.3-py2.py3-none-any.whl\n",
            "Requirement already satisfied: kiwisolver>=1.0.1 in /usr/local/lib/python3.7/dist-packages (from matplotlib>=2.2.3->chempy) (1.3.1)\n",
            "Requirement already satisfied: cycler>=0.10 in /usr/local/lib/python3.7/dist-packages (from matplotlib>=2.2.3->chempy) (0.10.0)\n",
            "Requirement already satisfied: python-dateutil>=2.1 in /usr/local/lib/python3.7/dist-packages (from matplotlib>=2.2.3->chempy) (2.8.1)\n",
            "Requirement already satisfied: mpmath>=0.19 in /usr/local/lib/python3.7/dist-packages (from sympy!=1.2,>=1.1.1->chempy) (1.2.1)\n",
            "Collecting notebook>=5.7.8\n",
            "\u001b[?25l  Downloading https://files.pythonhosted.org/packages/39/b6/8135d31209691cea4f9e8f4d72e495e0184f45f01946539af9facab3110f/notebook-6.4.0-py3-none-any.whl (9.5MB)\n",
            "\u001b[K     |████████████████████████████████| 9.5MB 35.7MB/s \n",
            "\u001b[?25hRequirement already satisfied: nbconvert in /usr/local/lib/python3.7/dist-packages (from jupyter->chempy) (5.6.1)\n",
            "Requirement already satisfied: qtconsole in /usr/local/lib/python3.7/dist-packages (from jupyter->chempy) (5.1.0)\n",
            "Requirement already satisfied: jupyter-console in /usr/local/lib/python3.7/dist-packages (from jupyter->chempy) (5.2.0)\n",
            "Requirement already satisfied: ipywidgets in /usr/local/lib/python3.7/dist-packages (from jupyter->chempy) (7.6.3)\n",
            "Requirement already satisfied: ipykernel in /usr/local/lib/python3.7/dist-packages (from jupyter->chempy) (4.10.1)\n",
            "Collecting amply>=0.1.2\n",
            "  Downloading https://files.pythonhosted.org/packages/f3/c5/dfa09dd2595a2ab2ab4e6fa7bebef9565812722e1980d04b0edce5032066/amply-0.1.4-py3-none-any.whl\n",
            "Requirement already satisfied: six in /usr/local/lib/python3.7/dist-packages (from cycler>=0.10->matplotlib>=2.2.3->chempy) (1.15.0)\n",
            "Requirement already satisfied: jupyter-client>=5.3.4 in /usr/local/lib/python3.7/dist-packages (from notebook>=5.7.8->pyodesys>=0.14.0->chempy) (5.3.5)\n",
            "Requirement already satisfied: terminado>=0.8.3 in /usr/local/lib/python3.7/dist-packages (from notebook>=5.7.8->pyodesys>=0.14.0->chempy) (0.10.1)\n",
            "Collecting tornado>=6.1\n",
            "\u001b[?25l  Downloading https://files.pythonhosted.org/packages/91/a8/9c5902233fa3c2e6a889cbd164333ddda5009669f494e3fadbeee2c03af5/tornado-6.1-cp37-cp37m-manylinux2010_x86_64.whl (428kB)\n",
            "\u001b[K     |████████████████████████████████| 430kB 50.8MB/s \n",
            "\u001b[?25hRequirement already satisfied: ipython-genutils in /usr/local/lib/python3.7/dist-packages (from notebook>=5.7.8->pyodesys>=0.14.0->chempy) (0.2.0)\n",
            "Requirement already satisfied: pyzmq>=17 in /usr/local/lib/python3.7/dist-packages (from notebook>=5.7.8->pyodesys>=0.14.0->chempy) (22.1.0)\n",
            "Requirement already satisfied: jupyter-core>=4.6.1 in /usr/local/lib/python3.7/dist-packages (from notebook>=5.7.8->pyodesys>=0.14.0->chempy) (4.7.1)\n",
            "Requirement already satisfied: nbformat in /usr/local/lib/python3.7/dist-packages (from notebook>=5.7.8->pyodesys>=0.14.0->chempy) (5.1.3)\n",
            "Requirement already satisfied: argon2-cffi in /usr/local/lib/python3.7/dist-packages (from notebook>=5.7.8->pyodesys>=0.14.0->chempy) (20.1.0)\n",
            "Requirement already satisfied: prometheus-client in /usr/local/lib/python3.7/dist-packages (from notebook>=5.7.8->pyodesys>=0.14.0->chempy) (0.11.0)\n",
            "Requirement already satisfied: traitlets>=4.2.1 in /usr/local/lib/python3.7/dist-packages (from notebook>=5.7.8->pyodesys>=0.14.0->chempy) (5.0.5)\n",
            "Requirement already satisfied: jinja2 in /usr/local/lib/python3.7/dist-packages (from notebook>=5.7.8->pyodesys>=0.14.0->chempy) (2.11.3)\n",
            "Requirement already satisfied: Send2Trash>=1.5.0 in /usr/local/lib/python3.7/dist-packages (from notebook>=5.7.8->pyodesys>=0.14.0->chempy) (1.5.0)\n",
            "Requirement already satisfied: pandocfilters>=1.4.1 in /usr/local/lib/python3.7/dist-packages (from nbconvert->jupyter->chempy) (1.4.3)\n",
            "Requirement already satisfied: bleach in /usr/local/lib/python3.7/dist-packages (from nbconvert->jupyter->chempy) (3.3.0)\n",
            "Requirement already satisfied: entrypoints>=0.2.2 in /usr/local/lib/python3.7/dist-packages (from nbconvert->jupyter->chempy) (0.3)\n",
            "Requirement already satisfied: testpath in /usr/local/lib/python3.7/dist-packages (from nbconvert->jupyter->chempy) (0.5.0)\n",
            "Requirement already satisfied: defusedxml in /usr/local/lib/python3.7/dist-packages (from nbconvert->jupyter->chempy) (0.7.1)\n",
            "Requirement already satisfied: pygments in /usr/local/lib/python3.7/dist-packages (from nbconvert->jupyter->chempy) (2.6.1)\n",
            "Requirement already satisfied: mistune<2,>=0.8.1 in /usr/local/lib/python3.7/dist-packages (from nbconvert->jupyter->chempy) (0.8.4)\n",
            "Requirement already satisfied: qtpy in /usr/local/lib/python3.7/dist-packages (from qtconsole->jupyter->chempy) (1.9.0)\n",
            "Requirement already satisfied: ipython in /usr/local/lib/python3.7/dist-packages (from jupyter-console->jupyter->chempy) (5.5.0)\n",
            "Requirement already satisfied: prompt-toolkit<2.0.0,>=1.0.0 in /usr/local/lib/python3.7/dist-packages (from jupyter-console->jupyter->chempy) (1.0.18)\n",
            "Requirement already satisfied: widgetsnbextension~=3.5.0 in /usr/local/lib/python3.7/dist-packages (from ipywidgets->jupyter->chempy) (3.5.1)\n",
            "Requirement already satisfied: jupyterlab-widgets>=1.0.0; python_version >= \"3.6\" in /usr/local/lib/python3.7/dist-packages (from ipywidgets->jupyter->chempy) (1.0.0)\n",
            "Requirement already satisfied: docutils>=0.3 in /usr/local/lib/python3.7/dist-packages (from amply>=0.1.2->pulp>=1.6.8->chempy) (0.17.1)\n",
            "Requirement already satisfied: ptyprocess; os_name != \"nt\" in /usr/local/lib/python3.7/dist-packages (from terminado>=0.8.3->notebook>=5.7.8->pyodesys>=0.14.0->chempy) (0.7.0)\n",
            "Requirement already satisfied: jsonschema!=2.5.0,>=2.4 in /usr/local/lib/python3.7/dist-packages (from nbformat->notebook>=5.7.8->pyodesys>=0.14.0->chempy) (2.6.0)\n",
            "Requirement already satisfied: cffi>=1.0.0 in /usr/local/lib/python3.7/dist-packages (from argon2-cffi->notebook>=5.7.8->pyodesys>=0.14.0->chempy) (1.14.5)\n",
            "Requirement already satisfied: MarkupSafe>=0.23 in /usr/local/lib/python3.7/dist-packages (from jinja2->notebook>=5.7.8->pyodesys>=0.14.0->chempy) (2.0.1)\n",
            "Requirement already satisfied: packaging in /usr/local/lib/python3.7/dist-packages (from bleach->nbconvert->jupyter->chempy) (20.9)\n",
            "Requirement already satisfied: webencodings in /usr/local/lib/python3.7/dist-packages (from bleach->nbconvert->jupyter->chempy) (0.5.1)\n",
            "Requirement already satisfied: pickleshare in /usr/local/lib/python3.7/dist-packages (from ipython->jupyter-console->jupyter->chempy) (0.7.5)\n",
            "Requirement already satisfied: pexpect; sys_platform != \"win32\" in /usr/local/lib/python3.7/dist-packages (from ipython->jupyter-console->jupyter->chempy) (4.8.0)\n",
            "Requirement already satisfied: simplegeneric>0.8 in /usr/local/lib/python3.7/dist-packages (from ipython->jupyter-console->jupyter->chempy) (0.8.1)\n",
            "Requirement already satisfied: decorator in /usr/local/lib/python3.7/dist-packages (from ipython->jupyter-console->jupyter->chempy) (4.4.2)\n",
            "Requirement already satisfied: setuptools>=18.5 in /usr/local/lib/python3.7/dist-packages (from ipython->jupyter-console->jupyter->chempy) (57.0.0)\n",
            "Requirement already satisfied: wcwidth in /usr/local/lib/python3.7/dist-packages (from prompt-toolkit<2.0.0,>=1.0.0->jupyter-console->jupyter->chempy) (0.2.5)\n",
            "Requirement already satisfied: pycparser in /usr/local/lib/python3.7/dist-packages (from cffi>=1.0.0->argon2-cffi->notebook>=5.7.8->pyodesys>=0.14.0->chempy) (2.20)\n",
            "Building wheels for collected packages: chempy, quantities, pyneqsys, pyodesys, sym\n",
            "  Building wheel for chempy (setup.py) ... \u001b[?25l\u001b[?25hdone\n",
            "  Created wheel for chempy: filename=chempy-0.8.0-py2.py3-none-any.whl size=207591 sha256=f88266ba0b12e25e59d303799bb6338f060c57b50cbfac0a6e9633811e6f60fa\n",
            "  Stored in directory: /root/.cache/pip/wheels/7d/52/88/f04c53d1ab0ef121e721edf910e49aa5f21a3a941d860befbf\n",
            "  Building wheel for quantities (setup.py) ... \u001b[?25l\u001b[?25hdone\n",
            "  Created wheel for quantities: filename=quantities-0.12.4-cp37-none-any.whl size=79178 sha256=cd100a1c6c22620f2f82217eb945f4bfa98fb17acfdafd6f319fb69a9888e8fc\n",
            "  Stored in directory: /root/.cache/pip/wheels/2c/27/a5/62fb2a57d167d7b7164278de7399ba1504321c1d6c3a3802d5\n",
            "  Building wheel for pyneqsys (setup.py) ... \u001b[?25l\u001b[?25hdone\n",
            "  Created wheel for pyneqsys: filename=pyneqsys-0.5.7-py2.py3-none-any.whl size=27284 sha256=358d6097ef7fe80a3bdbe1b178a47a54a30afcf998da93555c22f749e1ee0b79\n",
            "  Stored in directory: /root/.cache/pip/wheels/e8/ae/4e/ab1d94afa5c9e1e7d116b74ece9ee382cbddf36bd1189a3d87\n",
            "  Building wheel for pyodesys (setup.py) ... \u001b[?25l\u001b[?25hdone\n",
            "  Created wheel for pyodesys: filename=pyodesys-0.14.0-py2.py3-none-any.whl size=126205 sha256=ab8b4b02780c65811cfe85f930873228fc38ba93740075e321f459e5b4ce8e8c\n",
            "  Stored in directory: /root/.cache/pip/wheels/ea/6a/b8/d2a7855dc57ec4c378760c58c41a62722e9add2add211701b3\n",
            "  Building wheel for sym (setup.py) ... \u001b[?25l\u001b[?25hdone\n",
            "  Created wheel for sym: filename=sym-0.3.5-py2.py3-none-any.whl size=21093 sha256=ab8f9ce42eeec06353e670a1a360fba475d79adc0d1438ef4244da0e2e1aa2d7\n",
            "  Stored in directory: /root/.cache/pip/wheels/11/11/d2/338cc4ec4b3cea084f5cd5b6a43c25f3a3986eb915d2872490\n",
            "Successfully built chempy quantities pyneqsys pyodesys sym\n",
            "\u001b[31mERROR: google-colab 1.0.0 has requirement notebook~=5.3.0; python_version >= \"3.0\", but you'll have notebook 6.4.0 which is incompatible.\u001b[0m\n",
            "\u001b[31mERROR: google-colab 1.0.0 has requirement tornado~=5.1.0; python_version >= \"3.0\", but you'll have tornado 6.1 which is incompatible.\u001b[0m\n",
            "Installing collected packages: quantities, sym, pyneqsys, tornado, notebook, pyodesys, amply, pulp, dot2tex, chempy\n",
            "  Found existing installation: tornado 5.1.1\n",
            "    Uninstalling tornado-5.1.1:\n",
            "      Successfully uninstalled tornado-5.1.1\n",
            "  Found existing installation: notebook 5.3.1\n",
            "    Uninstalling notebook-5.3.1:\n",
            "      Successfully uninstalled notebook-5.3.1\n",
            "Successfully installed amply-0.1.4 chempy-0.8.0 dot2tex-2.11.3 notebook-6.4.0 pulp-2.4 pyneqsys-0.5.7 pyodesys-0.14.0 quantities-0.12.4 sym-0.3.5 tornado-6.1\n"
          ],
          "name": "stdout"
        },
        {
          "output_type": "display_data",
          "data": {
            "application/vnd.colab-display-data+json": {
              "pip_warning": {
                "packages": [
                  "tornado"
                ]
              }
            }
          },
          "metadata": {
            "tags": []
          }
        }
      ]
    },
    {
      "cell_type": "code",
      "metadata": {
        "id": "2BcYZWg4TeYd"
      },
      "source": [
        "from chempy import Substance"
      ],
      "execution_count": 2,
      "outputs": []
    },
    {
      "cell_type": "code",
      "metadata": {
        "colab": {
          "base_uri": "https://localhost:8080/"
        },
        "id": "d2im3W8TTywG",
        "outputId": "d7971fa2-4367-4bf7-bc22-e644bb6fd3e2"
      },
      "source": [
        "CO2=Substance.from_formula('CO2')\n",
        "CO2.mass*5/3/1000"
      ],
      "execution_count": null,
      "outputs": [
        {
          "output_type": "execute_result",
          "data": {
            "text/plain": [
              "0.07334833333333335"
            ]
          },
          "metadata": {
            "tags": []
          },
          "execution_count": 8
        }
      ]
    },
    {
      "cell_type": "code",
      "metadata": {
        "colab": {
          "base_uri": "https://localhost:8080/",
          "height": 35
        },
        "id": "9Wu-IfnIUoKi",
        "outputId": "2f1103b8-73c7-4bc8-c4c2-6cb3c6515a13"
      },
      "source": [
        "CO2.unicode_name"
      ],
      "execution_count": null,
      "outputs": [
        {
          "output_type": "execute_result",
          "data": {
            "application/vnd.google.colaboratory.intrinsic+json": {
              "type": "string"
            },
            "text/plain": [
              "'CO₂'"
            ]
          },
          "metadata": {
            "tags": []
          },
          "execution_count": 13
        }
      ]
    },
    {
      "cell_type": "code",
      "metadata": {
        "id": "6uerHaJ4W7ia"
      },
      "source": [
        "from chempy.util import periodic"
      ],
      "execution_count": null,
      "outputs": []
    },
    {
      "cell_type": "code",
      "metadata": {
        "colab": {
          "base_uri": "https://localhost:8080/"
        },
        "id": "mic-cx-_XDMb",
        "outputId": "4cdcb61c-ecbd-44b8-e5e6-f042b651dd33"
      },
      "source": [
        "for i in range(20):\n",
        "  print('{num:3} {simbolo:3} {nombre:10} {masa:3.6f}'.format(num=periodic.atomic_number(periodic.names[i]),\n",
        "                          simbolo=periodic.symbols[i],\n",
        "                          nombre=periodic.names[i],\n",
        "                          masa=periodic.relative_atomic_masses[i]))"
      ],
      "execution_count": null,
      "outputs": [
        {
          "output_type": "stream",
          "text": [
            "  1 H   Hydrogen   1.008000\n",
            "  2 He  Helium     4.002602\n",
            "  3 Li  Lithium    6.940000\n",
            "  4 Be  Beryllium  9.012183\n",
            "  5 B   Boron      10.810000\n",
            "  6 C   Carbon     12.011000\n",
            "  7 N   Nitrogen   14.007000\n",
            "  8 O   Oxygen     15.999000\n",
            "  9 F   Fluorine   18.998403\n",
            " 10 Ne  Neon       20.179700\n",
            " 11 Na  Sodium     22.989769\n",
            " 12 Mg  Magnesium  24.305000\n",
            " 13 Al  Aluminium  26.981538\n",
            " 14 Si  Silicon    28.085000\n",
            " 15 P   Phosphorus 30.973762\n",
            " 16 S   Sulfur     32.060000\n",
            " 17 Cl  Chlorine   35.450000\n",
            " 18 Ar  Argon      39.948000\n",
            " 19 K   Potassium  39.098300\n",
            " 20 Ca  Calcium    40.078000\n"
          ],
          "name": "stdout"
        }
      ]
    },
    {
      "cell_type": "code",
      "metadata": {
        "colab": {
          "base_uri": "https://localhost:8080/"
        },
        "id": "pGIqmdjWXTAf",
        "outputId": "2dfbd521-08c1-4085-8489-af402b1ba994"
      },
      "source": [
        "from chempy import balance_stoichiometry\n",
        "reac, prod = balance_stoichiometry({'H2', 'O2'}, {'H2O'})\n",
        "\n",
        "print('reactivos ',dict(reac))\n",
        "print('productos ',dict(prod))\n",
        "\n",
        "from chempy import mass_fractions\n",
        "for fractions in map(mass_fractions, [reac, prod]):\n",
        "    print({k: '{0:.2%} wt%'.format(v) for k, v in fractions.items()})\n"
      ],
      "execution_count": null,
      "outputs": [
        {
          "output_type": "stream",
          "text": [
            "reactivos  {'H2': 2, 'O2': 1}\n",
            "productos  {'H2O': 2}\n",
            "{'H2': '11.19% wt%', 'O2': '88.81% wt%'}\n",
            "{'H2O': '100.00% wt%'}\n"
          ],
          "name": "stdout"
        }
      ]
    },
    {
      "cell_type": "code",
      "metadata": {
        "id": "2h9idF_0wiab",
        "colab": {
          "base_uri": "https://localhost:8080/"
        },
        "outputId": "16a330e6-89aa-4ada-ed90-63482a16f7c8"
      },
      "source": [
        "reac, prod = balance_stoichiometry({'AgNO3', 'K2CrO4'}, {'Ag2CrO4','KNO3'})\n",
        "\n",
        "print('reactivos ',dict(reac))\n",
        "print('productos ',dict(prod))"
      ],
      "execution_count": null,
      "outputs": [
        {
          "output_type": "stream",
          "text": [
            "reactivos  {'AgNO3': 2, 'K2CrO4': 1}\n",
            "productos  {'Ag2CrO4': 1, 'KNO3': 2}\n"
          ],
          "name": "stdout"
        }
      ]
    },
    {
      "cell_type": "code",
      "metadata": {
        "id": "GPu-xYQrxAqM",
        "colab": {
          "base_uri": "https://localhost:8080/"
        },
        "outputId": "fd07f95c-b77f-4f4b-8a64-d3ab69d907e2"
      },
      "source": [
        "reac, prod = balance_stoichiometry({'Pb(N3)2', 'Cr(MnO4)2'}, {'Cr2O3','MnO2','Pb3O4','NO'})\n",
        "\n",
        "print('reactivos ',dict(reac))\n",
        "print('productos ',dict(prod))"
      ],
      "execution_count": null,
      "outputs": [
        {
          "output_type": "stream",
          "text": [
            "reactivos  {'Cr(MnO4)2': 44, 'Pb(N3)2': 15}\n",
            "productos  {'Cr2O3': 22, 'MnO2': 88, 'NO': 90, 'Pb3O4': 5}\n"
          ],
          "name": "stdout"
        }
      ]
    },
    {
      "cell_type": "code",
      "metadata": {
        "id": "3oGHMrvU5q3B",
        "colab": {
          "base_uri": "https://localhost:8080/"
        },
        "outputId": "4b9bdbf7-d736-4b39-9664-165cd6afb9b8"
      },
      "source": [
        "# importing the module\n",
        "from chempy import chemistry\n",
        "  \n",
        "# creating the reaction\n",
        "reaction = chemistry.Reaction({'H2': 2, 'O2': 1},\n",
        "                              {'H2O': 2})\n",
        "  \n",
        "# displaying the reaction\n",
        "print(reaction)\n",
        "  \n",
        "# displaying the reaction order\n",
        "print(reaction.order())"
      ],
      "execution_count": null,
      "outputs": [
        {
          "output_type": "stream",
          "text": [
            "2 H2 + O2 -> 2 H2O\n",
            "3\n"
          ],
          "name": "stdout"
        }
      ]
    },
    {
      "cell_type": "code",
      "metadata": {
        "id": "4tlorfeZ8ALe",
        "colab": {
          "base_uri": "https://localhost:8080/",
          "height": 801
        },
        "outputId": "49cefc17-f693-4e1b-c314-eef2fff26dad"
      },
      "source": [
        "from chempy import ReactionSystem  # The rate constants below are arbitrary\n",
        "rsys = ReactionSystem.from_string(\"\"\"2 Fe+2 + H2O2 -> 2 Fe+3 + 2 OH-; 42\n",
        "     2 Fe+3 + H2O2 -> 2 Fe+2 + O2 + 2 H+; 17\n",
        "     H+ + OH- -> H2O; 1e10\n",
        "     H2O -> H+ + OH-; 1e-4\n",
        "     Fe+3 + 2 H2O -> FeOOH(s) + 3 H+; 1\n",
        "     FeOOH(s) + 3 H+ -> Fe+3 + 2 H2O; 2.5\"\"\")  # \"[H2O]\" = 1.0 (actually 55.4 at RT)\n",
        "from chempy.kinetics.ode import get_odesys\n",
        "odesys, extra = get_odesys(rsys)\n",
        "from collections import defaultdict\n",
        "import numpy as np\n",
        "tout = sorted(np.concatenate((np.linspace(0, 23), np.logspace(-8, 1))))\n",
        "c0 = defaultdict(float, {'Fe+2': 0.05, 'H2O2': 0.1, 'H2O': 1.0, 'H+': 1e-7, 'OH-': 1e-7})\n",
        "result = odesys.integrate(tout, c0, atol=1e-12, rtol=1e-14)\n",
        "import matplotlib.pyplot as plt\n",
        "_ = plt.subplot(1, 1, 1)\n",
        "_ = result.plot(names=[k for k in rsys.substances if k != 'H2O'])\n",
        "_ = plt.legend(loc='best', prop={'size': 9}); _ = plt.xlabel('Time'); _ = plt.ylabel('Concentration')\n",
        "_ = plt.subplot(1, 2, 2)\n",
        "_ = result.plot(names=[k for k in rsys.substances if k != 'H2O'], xscale='log', yscale='log')\n",
        "_ = plt.legend(loc='best', prop={'size': 9}); _ = plt.xlabel('Time'); _ = plt.ylabel('Concentration')\n",
        "_ = plt.tight_layout()\n",
        "plt.show() "
      ],
      "execution_count": null,
      "outputs": [
        {
          "output_type": "display_data",
          "data": {
            "image/png": "[encoded data removed]",
            "text/plain": [
              "<Figure size 432x288 with 1 Axes>"
            ]
          },
          "metadata": {
            "tags": [],
            "needs_background": "light"
          }
        },
        {
          "output_type": "display_data",
          "data": {
            "image/png": "[encoded data removed]",
            "text/plain": [
              "<Figure size 432x288 with 1 Axes>"
            ]
          },
          "metadata": {
            "tags": [],
            "needs_background": "light"
          }
        },
        {
          "output_type": "display_data",
          "data": {
            "image/png": "[encoded data removed]",
            "text/plain": [
              "<Figure size 432x288 with 1 Axes>"
            ]
          },
          "metadata": {
            "tags": [],
            "needs_background": "light"
          }
        }
      ]
    },
    {
      "cell_type": "markdown",
      "metadata": {
        "id": "0yY-c1JsZ-zO"
      },
      "source": [
        "El amoníaco NH3 es un gas que a 1000 °C reacciona con el oxígeno O2 para formar óxido nítrico NO y vapor de agua. La ecuación es la siguiente:\n",
        "\n",
        "$$\n",
        "NH_3+O_2\\rightarrow NO+H_2O\n",
        "$$"
      ]
    },
    {
      "cell_type": "code",
      "metadata": {
        "id": "xQMEwzjiCmg0",
        "colab": {
          "base_uri": "https://localhost:8080/"
        },
        "outputId": "05a23452-5902-4888-9aa7-221235fd6f9a"
      },
      "source": [
        "from chempy import balance_stoichiometry\n",
        "\n",
        "reac, prod = balance_stoichiometry({'NH3', 'O2'}, {'NO','H2O'})\n",
        "\n",
        "print('reactivos ',dict(reac))\n",
        "print('productos ',dict(prod))"
      ],
      "execution_count": 4,
      "outputs": [
        {
          "output_type": "stream",
          "text": [
            "reactivos  {'NH3': 4, 'O2': 5}\n",
            "productos  {'H2O': 6, 'NO': 4}\n"
          ],
          "name": "stdout"
        }
      ]
    },
    {
      "cell_type": "markdown",
      "metadata": {
        "id": "s3LJBuXHbRDs"
      },
      "source": [
        "$$\n",
        "4NH_3+5O_2\\rightarrow 4NO+6H_2O\n",
        "$$"
      ]
    },
    {
      "cell_type": "markdown",
      "metadata": {
        "id": "a0V_0uQXcKmu"
      },
      "source": [
        "Cuando se combina el bicarbonato de sodio (polvo de hornear) con ácido acético (vinagre) se forma acetato de sodio, agua y dióxido de carbono en forma de gas:\n",
        "\n",
        "$$\n",
        "NaHCO_3+C_2H_4O_2\\rightarrow NaC_2H_3O_2+H_2O+CO_2\n",
        "$$"
      ]
    },
    {
      "cell_type": "code",
      "metadata": {
        "colab": {
          "base_uri": "https://localhost:8080/"
        },
        "id": "1K_d0KKadJk6",
        "outputId": "af0ddb3b-4813-4081-ec55-4a6edb72434a"
      },
      "source": [
        "from chempy import balance_stoichiometry\n",
        "from chempy import mass_fractions\n",
        "\n",
        "reac, prod = balance_stoichiometry({'NaHCO3', 'C2H4O2'}, {'NaC2H3O2','H2O','CO2'})\n",
        "\n",
        "print('reactivos ',dict(reac))\n",
        "print('productos ',dict(prod))\n",
        "\n",
        "for fractions in map(mass_fractions, [reac, prod]):\n",
        "    print({k: '{0:.2%} wt%'.format(v) for k, v in fractions.items()})"
      ],
      "execution_count": 5,
      "outputs": [
        {
          "output_type": "stream",
          "text": [
            "reactivos  {'C2H4O2': 1, 'NaHCO3': 1}\n",
            "productos  {'CO2': 1, 'H2O': 1, 'NaC2H3O2': 1}\n",
            "{'C2H4O2': '41.69% wt%', 'NaHCO3': '58.31% wt%'}\n",
            "{'CO2': '30.55% wt%', 'H2O': '12.51% wt%', 'NaC2H3O2': '56.95% wt%'}\n"
          ],
          "name": "stdout"
        }
      ]
    },
    {
      "cell_type": "code",
      "metadata": {
        "colab": {
          "base_uri": "https://localhost:8080/"
        },
        "id": "u1wC_3wIe4TY",
        "outputId": "e5627b6d-19d3-4d4d-b1c7-612a8bba1b4e"
      },
      "source": [
        "from chempy import Substance\n",
        "\n",
        "NaHCO3=Substance.from_formula('NaHCO3')\n",
        "C2H4O2=Substance.from_formula('C2H4O2')\n",
        "\n",
        "print(f'{NaHCO3.mass} gr de bicarbonato de sodio reacciona con {C2H4O2.mass} gr de ácido acético')"
      ],
      "execution_count": 9,
      "outputs": [
        {
          "output_type": "stream",
          "text": [
            "84.00576928 gr de bicarbonato de sodio reacciona con 60.052 gr de ácido acético\n"
          ],
          "name": "stdout"
        }
      ]
    },
    {
      "cell_type": "markdown",
      "metadata": {
        "id": "0mh6BDMpjDp0"
      },
      "source": [
        ""
      ]
    },
    {
      "cell_type": "markdown",
      "metadata": {
        "id": "puACHD7FOpGW"
      },
      "source": [
        "Cuanto acido acetico se requeire para hacer reaccionar 5 gr de bicarbonato de sodio"
      ]
    },
    {
      "cell_type": "code",
      "metadata": {
        "colab": {
          "base_uri": "https://localhost:8080/"
        },
        "id": "iwQlyMtdiJXB",
        "outputId": "a20ae219-f210-4ef3-d744-79ec59bddfe2"
      },
      "source": [
        "bicarbonato=5\n",
        "x=bicarbonato*C2H4O2.mass/NaHCO3.mass\n",
        "\n",
        "print(f'{bicarbonato} gr de bicarbonato de sodio reaccionan con {x} gr de ácido acético')"
      ],
      "execution_count": 12,
      "outputs": [
        {
          "output_type": "stream",
          "text": [
            "5 gr de bicarbonato de sodio reaccionan con 3.5742783212805547 gr de ácido acético\n"
          ],
          "name": "stdout"
        }
      ]
    },
    {
      "cell_type": "markdown",
      "metadata": {
        "id": "t-AXZsTGPBUx"
      },
      "source": [
        "El sodio $Na$ reacciona con nitrato de potasio $KNO_3$ produciendo óxido de sodio $Na_2O$, óxido de potasio $K_2O$ y nitrógeno $N_2$:\n",
        "\n",
        "$$\n",
        "Na+KNO_3\\rightarrow Na_2O+K_2O+N_2\n",
        "$$\n",
        "\n",
        "Balancear la ecuacion"
      ]
    },
    {
      "cell_type": "code",
      "metadata": {
        "colab": {
          "base_uri": "https://localhost:8080/"
        },
        "id": "Vj53HAQNPk59",
        "outputId": "dd204b12-4643-4842-b249-45e23c5ba084"
      },
      "source": [
        "reac, prod = balance_stoichiometry({'Na', 'KNO3'}, {'Na2O','K2O','N2'})\n",
        "\n",
        "print('reactivos ',dict(reac))\n",
        "print('productos ',dict(prod))"
      ],
      "execution_count": 78,
      "outputs": [
        {
          "output_type": "stream",
          "text": [
            "reactivos  {'KNO3': 2, 'Na': 10}\n",
            "productos  {'K2O': 1, 'N2': 1, 'Na2O': 5}\n"
          ],
          "name": "stdout"
        }
      ]
    },
    {
      "cell_type": "markdown",
      "metadata": {
        "id": "SRBg4HFvPv4T"
      },
      "source": [
        "\n",
        "$$\n",
        "10Na+2KNO_3\\rightarrow 5Na_2O+K_2O+N_2\n",
        "$$"
      ]
    },
    {
      "cell_type": "markdown",
      "metadata": {
        "id": "0VzGcxIWQBo1"
      },
      "source": [
        "El nitrato de potasio KNO3, utilizado como fertilizante, se produce a partir de la siguiente reacción:\n",
        "\n",
        "$$\n",
        "KCl+HNO_3+O_2\\rightarrow KNO_3+Cl_2+H_2O\n",
        "$$\n",
        "\n",
        "Calcule la cantidad de oxígeno $O_2$ necesaria para producir un mol de fertilizante."
      ]
    },
    {
      "cell_type": "code",
      "metadata": {
        "colab": {
          "base_uri": "https://localhost:8080/"
        },
        "id": "Yd00Q8vWQmbQ",
        "outputId": "c8f2854a-321c-468f-8015-bdad928ee474"
      },
      "source": [
        "reac, prod = balance_stoichiometry({'KCl', 'HNO3','O2'}, {'KNO3','Cl2','H2O'})\n",
        "\n",
        "print('reactivos ',dict(reac))\n",
        "print('productos ',dict(prod))\n",
        "\n",
        "r=dict(reac)\n",
        "p=dict(prod)\n",
        "\n",
        "O2=r['O2']\n",
        "KNO3=p['KNO3']"
      ],
      "execution_count": 75,
      "outputs": [
        {
          "output_type": "stream",
          "text": [
            "reactivos  {'HNO3': 4, 'KCl': 4, 'O2': 1}\n",
            "productos  {'Cl2': 2, 'H2O': 2, 'KNO3': 4}\n"
          ],
          "name": "stdout"
        }
      ]
    },
    {
      "cell_type": "markdown",
      "metadata": {
        "id": "VJhStdJXQ5Tx"
      },
      "source": [
        "\n",
        "$$\n",
        "4KCl+4HNO_3+O_2\\rightarrow 4KNO_3+2Cl_2+2H_2O\n",
        "$$\n",
        "\n",
        "1 mol $O_2$ $\\rightarrow$ 4 moles $KNO_3$\n",
        "\n",
        "x mol $O_2$ $\\rightarrow$ 1 $KNO_3$\n",
        "\n",
        "$$\n",
        "x=\\frac{1molKNO_3 \\times 1molO_2}{4molesKNO_3}\n",
        "$$"
      ]
    },
    {
      "cell_type": "code",
      "metadata": {
        "colab": {
          "base_uri": "https://localhost:8080/",
          "height": 51
        },
        "id": "9z9HZMfERQNL",
        "outputId": "561cd77c-87de-4569-eb58-3426637d004d"
      },
      "source": [
        "x=1*O2/KNO3\n",
        "x"
      ],
      "execution_count": 79,
      "outputs": [
        {
          "output_type": "execute_result",
          "data": {
            "text/latex": "$\\displaystyle \\frac{1}{4}$",
            "text/plain": [
              "1/4"
            ]
          },
          "metadata": {
            "tags": []
          },
          "execution_count": 79
        }
      ]
    },
    {
      "cell_type": "code",
      "metadata": {
        "colab": {
          "base_uri": "https://localhost:8080/"
        },
        "id": "UyghCQqlz3gc",
        "outputId": "2f7b3c1f-a37c-411d-f294-326255072a02"
      },
      "source": [
        "!pip install rdkit-pypi"
      ],
      "execution_count": 16,
      "outputs": [
        {
          "output_type": "stream",
          "text": [
            "Collecting rdkit-pypi\n",
            "\u001b[?25l  Downloading https://files.pythonhosted.org/packages/6c/f9/708cb804901775aeac7cbc2e3f966eac086e4d4caa1df0515aa365617e11/rdkit_pypi-2021.3.3-cp37-cp37m-manylinux2014_x86_64.whl (18.6MB)\n",
            "\u001b[K     |████████████████████████████████| 18.6MB 158kB/s \n",
            "\u001b[?25hRequirement already satisfied: numpy>=1.19 in /usr/local/lib/python3.7/dist-packages (from rdkit-pypi) (1.19.5)\n",
            "Installing collected packages: rdkit-pypi\n",
            "Successfully installed rdkit-pypi-2021.3.3\n"
          ],
          "name": "stdout"
        }
      ]
    },
    {
      "cell_type": "code",
      "metadata": {
        "id": "FqoXf4Cn0w6F"
      },
      "source": [
        "from rdkit import Chem\n",
        "from rdkit.Chem import Draw"
      ],
      "execution_count": 56,
      "outputs": []
    },
    {
      "cell_type": "markdown",
      "metadata": {
        "id": "6lu1ntak7bU_"
      },
      "source": [
        "Fuente \n",
        "\n",
        "https://archive.epa.gov/med/med_archive_03/web/html/smiles.html\n",
        "\n",
        "\n",
        "¿Qué es SMILES?\n",
        "SMILES ( S implified M MOLECULAR I Nput L ine E nIntente S ystem) es una notación química que permite a un usuario para representar una estructura química de una manera que puede ser utilizada por el ordenador. SMILES es una notación flexible y fácil de aprender. La notación SMILES requiere que aprenda algunas reglas. No necesita preocuparse por representaciones ambiguas porque el software reordenará automáticamente su entrada en una cadena SMILES única cuando sea necesario.\n",
        "\n",
        "SMILES se desarrolló a través de fondos de la Agencia de Protección Ambiental de EE. UU., División de Ecología del Continente Medio-Duluth, (MED-Duluth) Duluth, MN para el Proyecto de Química Médica en Pomona College, Claremont, CA y Computer Sciences Corporation, Duluth, MN. Varias publicaciones discuten SMILES con más detalle, incluyendo Anderson et al. 1987, Weininger 1988, Weininger et al. 1989 y Hunter et al., 1987.\n",
        "\n",
        "SMILES tiene cinco reglas de sintaxis básicas que deben observarse. Si no se siguen las reglas básicas de química en la entrada de SMILES , el sistema advertirá al usuario y le pedirá que se edite o se vuelva a introducir la estructura. Por ejemplo, si el usuario coloca demasiados enlaces en un átomo, aparecerá una advertencia de SONRISAS de que la estructura es imposible. Las reglas se describen a continuación y se proporcionan algunos ejemplos. Las siguientes reglas permiten la representación de una estructura bidimensional de una sustancia química. Para el sistema ASTER, una representación bidimensional es adecuada. Hay otras reglas disponibles para productos químicos que son isómeros estructurales, pero no se discutirán en este tutorial básico.\n",
        "\n",
        "Regla uno: átomos y enlaces\n",
        "\n",
        "SMILES admite todos los elementos de la tabla periódica. Un átomo se representa utilizando su símbolo atómico respectivo. Las letras mayúsculas se refieren a átomos no aromáticos; las letras minúsculas se refieren a átomos aromáticos. Si el símbolo atómico tiene más de una letra, la segunda letra debe ser minúscula.\n",
        "\n",
        "Los bonos se indican como se muestra a continuación:\n",
        "\n",
        "* \\-\tEnlace sencillo\n",
        "* \\=\tDoble enlace\n",
        "* \\#\tTriple enlace\n",
        "* \\*\tEnlace aromático\n",
        "* \\.\tEstructuras desconectadas\n",
        "\n",
        "Los bonos simples son los predeterminados y, por lo tanto, no es necesario ingresarlos. Por ejemplo, 'CC' significaría que hay un carbono no aromático unido a otro carbono no aromático mediante un enlace sencillo, y la computadora identificaría la estructura como el etano químico. También se supone que el enlace entre dos símbolos de átomos en minúsculas es aromático. Un espacio en blanco termina la cadena SMILES .\n",
        "\n",
        "Regla dos: cadenas simples\n",
        "\n",
        "Combinando símbolos atómicos y símbolos de enlace se pueden representar estructuras de cadenas simples. Las estructuras que se ingresan usando SMILES están suprimidas con hidrógeno, es decir que las moléculas están representadas sin hidrógenos. El software SMILES comprende la cantidad de conexiones posibles que puede tener un átomo. Si el usuario no identifica suficientes enlaces mediante la notación SMILES , el sistema asumirá automáticamente que las otras conexiones se satisfacen mediante enlaces de hidrógeno.\n",
        "\n",
        "Algunos ejemplos:\n",
        "\n",
        "CC\tCH 3 CH 3\tEtano\n",
        "C = C\tCH 2 CH 2\tEthene\n",
        "CBr\tCH 3 Br\tBromometano\n",
        "C \\# N\tC = N\tÁcido cianhídrico\n",
        "Na.Cl\tNaCl\tCloruro de sodio\n",
        "El usuario puede identificar explícitamente los enlaces de hidrógeno, pero si se identifica un enlace de hidrógeno en la cadena, el intérprete de SMILES asumirá que el usuario ha identificado todos los hidrógenos para esa molécula.\n",
        "\n",
        "HC (H) = C (H) (H)\tEthene\n",
        "Debido a que SMILES permite la entrada de todos los elementos en la tabla periódica y también utiliza la supresión de hidrógeno, el usuario debe estar al tanto de los químicos con dos letras que la computadora podría malinterpretar. Por ejemplo, 'Sc' podría interpretarse como un átomo de azufre conectado a un carbono aromático por un enlace simple, o podría ser el símbolo del escandio. El intérprete de SMILES da prioridad a la interpretación de un enlace simple que conecta un átomo de azufre y un carbono aromático. Para identificar el escandio, el usuario debe ingresar [Sc].\n",
        "\n",
        "Regla tres: ramas\n",
        "\n",
        "Una rama de una cadena se especifica colocando el (los) símbolo (s) SONRISAS para la rama entre paréntesis. La cadena entre paréntesis se coloca directamente después del símbolo del átomo al que está conectado. Si está conectado por un enlace doble o triple, el símbolo del enlace sigue inmediatamente al paréntesis izquierdo. Algunos ejemplos:\n",
        "\n",
        "CC (O) C\t2-propanol\n",
        "CC (= O) C\t2-propanona\n",
        "CC (CC) C\t2-metilbutano\n",
        "CC (C) CC (= O)\t2-metilbutanal\n",
        "c1c (N (= O) = O) cccc1\tNitrobenceno\n",
        "CC (C) (C) CC\t2,2-dimetilbutano\n",
        "Regla cuatro: anillos\n",
        "\n",
        "SMILES permite al usuario identificar estructuras de anillo usando números para identificar el átomo del anillo de apertura y cierre. Por ejemplo, en C1CCCCC1, el primer carbono tiene un número '1' que se conecta mediante un enlace sencillo con el último carbono que también tiene un número '1'. La estructura resultante es ciclohexano. Los productos químicos que tienen varios anillos se pueden identificar mediante el uso de diferentes números para cada anillo. Si se utiliza un enlace doble, simple o aromático para el cierre del anillo, el símbolo del enlace se coloca antes del número de cierre del anillo. Algunos ejemplos:\n",
        "\n",
        " \n",
        "\n",
        "o\tC = 1CCCCC1\tCiclohexeno\n",
        "C * 1 * C * C * C * C * C1\t\n",
        "c1ccccc1\tBenceno\n",
        "C1OC1CC\tEtiloxirano\n",
        "c1cc2ccccc2cc1\tNaftalina\n",
        "Regla cinco: átomos cargados\n",
        "\n",
        "Las cargas en un átomo se pueden utilizar para anular el conocimiento sobre la valencia que está integrado en el software SMILES . El formato para identificar un átomo cargado consiste en el átomo seguido de corchetes que encierran la carga del átomo. El número de cargos puede indicarse explícitamente ({-1}) o no ({-}). Por ejemplo:\n",
        "\n",
        " \n",
        "\n",
        "o\tCCC (= O) O {-1}\tForma ionizada de ácido propanoico\n",
        "CCC (= O) O {-}\t\n",
        "c1ccccn {+1} 1CC (= O) O\t1-carboxilmetil piridinio\n",
        "\n",
        "\n",
        "Formulas quimicas en formato Smile \n",
        "\n",
        "https://pubchem.ncbi.nlm.nih.gov/"
      ]
    },
    {
      "cell_type": "code",
      "metadata": {
        "colab": {
          "base_uri": "https://localhost:8080/",
          "height": 217
        },
        "id": "exGddUpu6WGS",
        "outputId": "97ad366a-017f-4d7d-e222-1fbda01adcfb"
      },
      "source": [
        "metanol='CO'\n",
        "molecula=Chem.MolFromSmiles(metanol)\n",
        "\n",
        "imagen=Draw.MolsToGridImage([molecula])\n",
        "imagen"
      ],
      "execution_count": 47,
      "outputs": [
        {
          "output_type": "execute_result",
          "data": {
            "image/png": "[encoded data removed]",
            "text/plain": [
              "<PIL.PngImagePlugin.PngImageFile image mode=RGB size=600x200 at 0x7F90048834D0>"
            ]
          },
          "metadata": {
            "tags": []
          },
          "execution_count": 47
        }
      ]
    },
    {
      "cell_type": "code",
      "metadata": {
        "colab": {
          "base_uri": "https://localhost:8080/",
          "height": 317
        },
        "id": "KYy00UmMAZK2",
        "outputId": "5f7a6b38-7a3c-4c71-c7a4-7f3ac8a57905"
      },
      "source": [
        "from rdkit import Chem\n",
        "from rdkit.Chem.Draw import IPythonConsole\n",
        "from rdkit.Chem import Draw\n",
        "IPythonConsole.drawOptions.addAtomIndices = True\n",
        "IPythonConsole.molSize = 300,300\n",
        "\n",
        "etanol='CCO'\n",
        "molecula=Chem.MolFromSmiles(etanol)\n",
        "molecula"
      ],
      "execution_count": 50,
      "outputs": [
        {
          "output_type": "execute_result",
          "data": {
            "image/png": "[encoded data removed]",
            "text/plain": [
              "<rdkit.Chem.rdchem.Mol at 0x7f900488ca30>"
            ]
          },
          "metadata": {
            "tags": []
          },
          "execution_count": 50
        }
      ]
    },
    {
      "cell_type": "code",
      "metadata": {
        "colab": {
          "base_uri": "https://localhost:8080/",
          "height": 217
        },
        "id": "3sDd8yRy1pFz",
        "outputId": "9e2d00a9-e34c-486a-b94a-300ea4143921"
      },
      "source": [
        "etanol='CCO'\n",
        "molecula=Chem.MolFromSmiles(etanol)\n",
        "\n",
        "imagen=Draw.MolsToGridImage([molecula])\n",
        "imagen"
      ],
      "execution_count": 38,
      "outputs": [
        {
          "output_type": "execute_result",
          "data": {
            "image/png": "[encoded data removed]",
            "text/plain": [
              "<PIL.PngImagePlugin.PngImageFile image mode=RGB size=600x200 at 0x7F9004F71450>"
            ]
          },
          "metadata": {
            "tags": []
          },
          "execution_count": 38
        }
      ]
    },
    {
      "cell_type": "code",
      "metadata": {
        "colab": {
          "base_uri": "https://localhost:8080/",
          "height": 217
        },
        "id": "JKGjk7B49A7d",
        "outputId": "47df0d12-4361-4108-8c10-8d14b2e1bcc1"
      },
      "source": [
        "isopropileno='CC(N)C'\n",
        "molecula=Chem.MolFromSmiles(isopropileno)\n",
        "\n",
        "imagen=Draw.MolsToGridImage([molecula])\n",
        "imagen"
      ],
      "execution_count": 46,
      "outputs": [
        {
          "output_type": "execute_result",
          "data": {
            "image/png": "[encoded data removed]",
            "text/plain": [
              "<PIL.PngImagePlugin.PngImageFile image mode=RGB size=600x200 at 0x7F90048E9490>"
            ]
          },
          "metadata": {
            "tags": []
          },
          "execution_count": 46
        }
      ]
    },
    {
      "cell_type": "code",
      "metadata": {
        "colab": {
          "base_uri": "https://localhost:8080/",
          "height": 217
        },
        "id": "b_ykTMaI5DJ8",
        "outputId": "8f8dd051-ffc9-4b40-bead-7402a6346f07"
      },
      "source": [
        "cafeina='CN1C=NC2=C1C(=O)N(C(=O)N2C)C'\n",
        "molecula=Chem.MolFromSmiles(cafeina)\n",
        "\n",
        "imagen=Draw.MolsToGridImage([molecula])\n",
        "imagen"
      ],
      "execution_count": 30,
      "outputs": [
        {
          "output_type": "execute_result",
          "data": {
            "image/png": "[encoded data removed]",
            "text/plain": [
              "<PIL.PngImagePlugin.PngImageFile image mode=RGB size=600x200 at 0x7F9004F14950>"
            ]
          },
          "metadata": {
            "tags": []
          },
          "execution_count": 30
        }
      ]
    },
    {
      "cell_type": "code",
      "metadata": {
        "colab": {
          "base_uri": "https://localhost:8080/",
          "height": 217
        },
        "id": "3NFpQ5jM5dn9",
        "outputId": "e9b43bba-3005-4f6b-9522-bd1327264dc9"
      },
      "source": [
        "aspirina='CC(=O)OC1=CC=CC=C1C(=O)O'\n",
        "molecula=Chem.MolFromSmiles(aspirina)\n",
        "\n",
        "imagen=Draw.MolsToGridImage([molecula])\n",
        "imagen"
      ],
      "execution_count": 31,
      "outputs": [
        {
          "output_type": "execute_result",
          "data": {
            "image/png": "[encoded data removed]",
            "text/plain": [
              "<PIL.PngImagePlugin.PngImageFile image mode=RGB size=600x200 at 0x7F9004F14990>"
            ]
          },
          "metadata": {
            "tags": []
          },
          "execution_count": 31
        }
      ]
    },
    {
      "cell_type": "code",
      "metadata": {
        "colab": {
          "base_uri": "https://localhost:8080/",
          "height": 217
        },
        "id": "tZi37Eod52NU",
        "outputId": "f8b14bfe-1e24-4caa-edc8-744a5d847916"
      },
      "source": [
        "paracetamol='CC(=O)NC1=CC=C(C=C1)O'\n",
        "molecula=Chem.MolFromSmiles(paracetamol)\n",
        "\n",
        "imagen=Draw.MolsToGridImage([molecula])\n",
        "imagen"
      ],
      "execution_count": 33,
      "outputs": [
        {
          "output_type": "execute_result",
          "data": {
            "image/png": "[encoded data removed]",
            "text/plain": [
              "<PIL.PngImagePlugin.PngImageFile image mode=RGB size=600x200 at 0x7F9004F16CD0>"
            ]
          },
          "metadata": {
            "tags": []
          },
          "execution_count": 33
        }
      ]
    },
    {
      "cell_type": "code",
      "metadata": {
        "colab": {
          "base_uri": "https://localhost:8080/",
          "height": 217
        },
        "id": "FXHjwg4458Gn",
        "outputId": "264c76ea-53fb-4093-fca3-cd8ce21b3299"
      },
      "source": [
        "eritromicina='CCC1C(C(C(C(=O)C(CC(C(C(C(C(C(=O)O1)C)OC2CC(C(C(O2)C)O)(C)OC)C)OC3C(C(CC(O3)C)N(C)C)O)(C)O)C)C)O)(C)O'\n",
        "molecula=Chem.MolFromSmiles(eritromicina)\n",
        "\n",
        "imagen=Draw.MolsToGridImage([molecula])\n",
        "imagen"
      ],
      "execution_count": 51,
      "outputs": [
        {
          "output_type": "execute_result",
          "data": {
            "image/png": "[encoded data removed]",
            "text/plain": [
              "<IPython.core.display.Image object>"
            ]
          },
          "metadata": {
            "tags": []
          },
          "execution_count": 51
        }
      ]
    },
    {
      "cell_type": "code",
      "metadata": {
        "colab": {
          "base_uri": "https://localhost:8080/",
          "height": 35
        },
        "id": "nE2qT8Sp715t",
        "outputId": "bc2ded42-6622-4337-eeab-e384780794a4"
      },
      "source": [
        "codigoSmile=Chem.MolToSmiles(molecula)\n",
        "codigoSmile"
      ],
      "execution_count": 52,
      "outputs": [
        {
          "output_type": "execute_result",
          "data": {
            "application/vnd.google.colaboratory.intrinsic+json": {
              "type": "string"
            },
            "text/plain": [
              "'CCC1OC(=O)C(C)C(OC2CC(C)(OC)C(O)C(C)O2)C(C)C(OC2OC(C)CC(N(C)C)C2O)C(C)(O)CC(C)C(=O)C(C)C(O)C1(C)O'"
            ]
          },
          "metadata": {
            "tags": []
          },
          "execution_count": 52
        }
      ]
    },
    {
      "cell_type": "code",
      "metadata": {
        "colab": {
          "base_uri": "https://localhost:8080/"
        },
        "id": "tuN68YDD8Lj0",
        "outputId": "0ce659df-57c7-48d0-b16b-9e036d63359a"
      },
      "source": [
        "from rdkit.Chem import Descriptors\n",
        "\n",
        "peso=Descriptors.MolWt(molecula)\n",
        "peso"
      ],
      "execution_count": 53,
      "outputs": [
        {
          "output_type": "execute_result",
          "data": {
            "text/plain": [
              "733.9370000000002"
            ]
          },
          "metadata": {
            "tags": []
          },
          "execution_count": 53
        }
      ]
    },
    {
      "cell_type": "code",
      "metadata": {
        "colab": {
          "base_uri": "https://localhost:8080/",
          "height": 317
        },
        "id": "uhXPMbvoDWuW",
        "outputId": "e0878353-fee3-4a5a-8374-a3b2037d7539"
      },
      "source": [
        "# Pictet-Spengler rxn\n",
        "from rdkit.Chem import AllChem\n",
        "\n",
        "rxn = AllChem.ReactionFromSmarts('[cH1:1]1:[c:2](-[CH2:7]-[CH2:8]-[NH2:9]):[c:3]:[c:4]:[c:5]:[c:6]:1.[#6:11]-[CH1;R0:10]=[OD1]>>[c:1]12:[c:2](-[CH2:7]-[CH2:8]-[NH1:9]-[C:10]-2(-[#6:11])):[c:3]:[c:4]:[c:5]:[c:6]:1')\n",
        "rxn"
      ],
      "execution_count": 55,
      "outputs": [
        {
          "output_type": "execute_result",
          "data": {
            "image/png": "[encoded data removed]",
            "text/plain": [
              "<rdkit.Chem.rdChemReactions.ChemicalReaction at 0x7f9004899530>"
            ]
          },
          "metadata": {
            "tags": []
          },
          "execution_count": 55
        }
      ]
    }
  ]
}